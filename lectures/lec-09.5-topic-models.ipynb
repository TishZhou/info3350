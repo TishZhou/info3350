{
 "cells": [
  {
   "cell_type": "markdown",
   "id": "205f130f",
   "metadata": {},
   "source": [
    "# Lecture 9.5: Putting it all together\n",
    "\n",
    "So far, we've been introducing new methods every lecture. Today, we're going to go over most of the things we've done so far in this course in detail, but with much less explanation. \n",
    "\n",
    "Instead, I want this lecture to help you develop your fluency in `sklearn` when working with the tools we've already introduced. We're going to go over loading, chunking, preprocessing, vectorizing, and topic modeling in more detail, without hand-waving the code. This is meant to simulate the process of finding some data with little existing structure and exploring it, using most of the methods we've discussed in class so far. "
   ]
  },
  {
   "cell_type": "code",
   "execution_count": 1,
   "id": "3d2491bb",
   "metadata": {},
   "outputs": [],
   "source": [
    "import pandas as pd\n",
    "import numpy as np\n",
    "from sklearn.feature_extraction.text import CountVectorizer \n",
    "from sklearn.linear_model import LogisticRegression\n",
    "from sklearn.decomposition import LatentDirichletAllocation\n",
    "\n",
    "import re\n",
    "import os\n",
    "import seaborn as sns"
   ]
  },
  {
   "cell_type": "markdown",
   "id": "e6ccdef3",
   "metadata": {},
   "source": [
    "Let's look at the `/data/texts` subdirectory."
   ]
  },
  {
   "cell_type": "code",
   "execution_count": 2,
   "id": "ddb45d94",
   "metadata": {},
   "outputs": [
    {
     "name": "stdout",
     "output_type": "stream",
     "text": [
      "Number of books: 42\n",
      "Example book file names: ['B-Bronte_E-Wuthering_Heights-1847-F.txt', 'A-Harper-Iola_Leroy-1892-F.txt', 'B-Burney-Evelina-1778-F.txt', 'B-Dickens-Bleak_House-1853-M.txt', 'B-Disraeli-Sybil-1845-M.txt', 'A-James-Golden_Bowl-1904-M.txt', 'B-Shelley-Frankenstein-1818-F.txt', 'F-Flaubert-Madame_Bovary-1857-M.txt', 'A-Cather-Antonia-1918-F.txt', 'B-Wells-Time_Machine-1895-M.txt']\n"
     ]
    }
   ],
   "source": [
    "root_dir = \"../data/texts\"\n",
    "\n",
    "book_paths = os.listdir(\"../data/texts\")\n",
    "print(f'Number of books: {len(book_paths)}')\n",
    "print(f'Example book file names: {book_paths[:10]}')"
   ]
  },
  {
   "cell_type": "markdown",
   "id": "ae04ef46",
   "metadata": {},
   "source": [
    "Given the above, let's think about what we can get out of this file name alone, assuming the other file names follow the same pattern.\n",
    "\n",
    "Discuss."
   ]
  },
  {
   "cell_type": "markdown",
   "id": "a3fd15e3",
   "metadata": {},
   "source": [
    "## Data cleaning and preprocessing\n",
    "\n",
    "Take a look at the following cell. What are we doing? Think through each step and try to anticipate what `df` will look like after the cell has been executed."
   ]
  },
  {
   "cell_type": "code",
   "execution_count": 3,
   "id": "6e6efc3f",
   "metadata": {},
   "outputs": [],
   "source": [
    "def get_txt_file(path):\n",
    "    with open(path, \"r\") as f:\n",
    "        file = f.read()\n",
    "    return file\n",
    "\n",
    "texts = [get_txt_file(os.path.join(root_dir, p))\n",
    "         for p in book_paths]\n",
    "\n",
    "pattern = re.compile(r\"^[ABFO]-(.+)-(.+)-(\\d{4})-([FM]).txt$\")\n",
    "\n",
    "columns = [\"path\", \"author\", \"title\", \"year\", \"gender\", \"text\"]\n",
    "\n",
    "parsed_metadata = [[p] + list(re.search(pattern, p).groups()) + [texts[i]]\n",
    "                   for i, p in enumerate(book_paths)]\n",
    "\n",
    "df = pd.DataFrame(parsed_metadata, columns=columns)\n",
    "\n",
    "df[\"text\"] = df[\"text\"].apply(lambda x: re.split(r\"\\n+\\s*\\n*\", x))\n",
    "df[\"year\"] = df.year.astype(int)\n",
    "\n",
    "df = df.explode(\"text\")"
   ]
  },
  {
   "cell_type": "code",
   "execution_count": 4,
   "id": "90998a94",
   "metadata": {},
   "outputs": [
    {
     "data": {
      "application/vnd.microsoft.datawrangler.viewer.v0+json": {
       "columns": [
        {
         "name": "index",
         "rawType": "int64",
         "type": "integer"
        },
        {
         "name": "path",
         "rawType": "object",
         "type": "string"
        },
        {
         "name": "author",
         "rawType": "object",
         "type": "string"
        },
        {
         "name": "title",
         "rawType": "object",
         "type": "string"
        },
        {
         "name": "year",
         "rawType": "int64",
         "type": "integer"
        },
        {
         "name": "gender",
         "rawType": "object",
         "type": "string"
        },
        {
         "name": "text",
         "rawType": "object",
         "type": "string"
        }
       ],
       "ref": "02250686-08be-44ec-b5f8-27b05e597170",
       "rows": [
        [
         "0",
         "B-Bronte_E-Wuthering_Heights-1847-F.txt",
         "Bronte_E",
         "Wuthering_Heights",
         "1847",
         "F",
         "CHAPTER I"
        ],
        [
         "0",
         "B-Bronte_E-Wuthering_Heights-1847-F.txt",
         "Bronte_E",
         "Wuthering_Heights",
         "1847",
         "F",
         "1801.--I have just returned from a visit to my landlord--the solitary neighbour that I shall be troubled with.  This is certainly a beautiful country!  In all England, I do not believe that I could have fixed on a situation so completely removed from the stir of society.  A perfect misanthropist's heaven: and Mr. Heathcliff and I are such a suitable pair to divide the desolation between us.  A capital fellow!  He little imagined how my heart warmed towards him when I beheld his black eyes withdraw so suspiciously under their brows, as I rode up, and when his fingers sheltered themselves, with a jealous resolution, still further in his waistcoat, as I announced my name."
        ],
        [
         "0",
         "B-Bronte_E-Wuthering_Heights-1847-F.txt",
         "Bronte_E",
         "Wuthering_Heights",
         "1847",
         "F",
         "'Mr. Heathcliff?' I said."
        ],
        [
         "0",
         "B-Bronte_E-Wuthering_Heights-1847-F.txt",
         "Bronte_E",
         "Wuthering_Heights",
         "1847",
         "F",
         "A nod was the answer."
        ],
        [
         "0",
         "B-Bronte_E-Wuthering_Heights-1847-F.txt",
         "Bronte_E",
         "Wuthering_Heights",
         "1847",
         "F",
         "'Mr. Lockwood, your new tenant, sir.  I do myself the honour of calling as soon as possible after my arrival, to express the hope that I have not inconvenienced you by my perseverance in soliciting the occupation of Thrushcross Grange: I heard yesterday you had had some thoughts--'"
        ],
        [
         "0",
         "B-Bronte_E-Wuthering_Heights-1847-F.txt",
         "Bronte_E",
         "Wuthering_Heights",
         "1847",
         "F",
         "'Thrushcross Grange is my own, sir,' he interrupted, wincing.  'I should not allow any one to inconvenience me, if I could hinder it--walk in!'"
        ],
        [
         "0",
         "B-Bronte_E-Wuthering_Heights-1847-F.txt",
         "Bronte_E",
         "Wuthering_Heights",
         "1847",
         "F",
         "The 'walk in' was uttered with closed teeth, and expressed the sentiment, 'Go to the Deuce:' even the gate over which he leant manifested no sympathising movement to the words; and I think that circumstance determined me to accept the invitation: I felt interested in a man who seemed more exaggeratedly reserved than myself."
        ],
        [
         "0",
         "B-Bronte_E-Wuthering_Heights-1847-F.txt",
         "Bronte_E",
         "Wuthering_Heights",
         "1847",
         "F",
         "When he saw my horse's breast fairly pushing the barrier, he did put out his hand to unchain it, and then sullenly preceded me up the causeway, calling, as we entered the court,--'Joseph, take Mr. Lockwood's horse; and bring up some wine.'"
        ],
        [
         "0",
         "B-Bronte_E-Wuthering_Heights-1847-F.txt",
         "Bronte_E",
         "Wuthering_Heights",
         "1847",
         "F",
         "'Here we have the whole establishment of domestics, I suppose,' was the reflection suggested by this compound order.  'No wonder the grass grows up between the flags, and cattle are the only hedge-cutters.'"
        ],
        [
         "0",
         "B-Bronte_E-Wuthering_Heights-1847-F.txt",
         "Bronte_E",
         "Wuthering_Heights",
         "1847",
         "F",
         "Joseph was an elderly, nay, an old man: very old, perhaps, though hale and sinewy.  'The Lord help us!' he soliloquised in an undertone of peevish displeasure, while relieving me of my horse: looking, meantime, in my face so sourly that I charitably conjectured he must have need of divine aid to digest his dinner, and his pious ejaculation had no reference to my unexpected advent."
        ]
       ],
       "shape": {
        "columns": 6,
        "rows": 10
       }
      },
      "text/html": [
       "<div>\n",
       "<style scoped>\n",
       "    .dataframe tbody tr th:only-of-type {\n",
       "        vertical-align: middle;\n",
       "    }\n",
       "\n",
       "    .dataframe tbody tr th {\n",
       "        vertical-align: top;\n",
       "    }\n",
       "\n",
       "    .dataframe thead th {\n",
       "        text-align: right;\n",
       "    }\n",
       "</style>\n",
       "<table border=\"1\" class=\"dataframe\">\n",
       "  <thead>\n",
       "    <tr style=\"text-align: right;\">\n",
       "      <th></th>\n",
       "      <th>path</th>\n",
       "      <th>author</th>\n",
       "      <th>title</th>\n",
       "      <th>year</th>\n",
       "      <th>gender</th>\n",
       "      <th>text</th>\n",
       "    </tr>\n",
       "  </thead>\n",
       "  <tbody>\n",
       "    <tr>\n",
       "      <th>0</th>\n",
       "      <td>B-Bronte_E-Wuthering_Heights-1847-F.txt</td>\n",
       "      <td>Bronte_E</td>\n",
       "      <td>Wuthering_Heights</td>\n",
       "      <td>1847</td>\n",
       "      <td>F</td>\n",
       "      <td>CHAPTER I</td>\n",
       "    </tr>\n",
       "    <tr>\n",
       "      <th>0</th>\n",
       "      <td>B-Bronte_E-Wuthering_Heights-1847-F.txt</td>\n",
       "      <td>Bronte_E</td>\n",
       "      <td>Wuthering_Heights</td>\n",
       "      <td>1847</td>\n",
       "      <td>F</td>\n",
       "      <td>1801.--I have just returned from a visit to my...</td>\n",
       "    </tr>\n",
       "    <tr>\n",
       "      <th>0</th>\n",
       "      <td>B-Bronte_E-Wuthering_Heights-1847-F.txt</td>\n",
       "      <td>Bronte_E</td>\n",
       "      <td>Wuthering_Heights</td>\n",
       "      <td>1847</td>\n",
       "      <td>F</td>\n",
       "      <td>'Mr. Heathcliff?' I said.</td>\n",
       "    </tr>\n",
       "    <tr>\n",
       "      <th>0</th>\n",
       "      <td>B-Bronte_E-Wuthering_Heights-1847-F.txt</td>\n",
       "      <td>Bronte_E</td>\n",
       "      <td>Wuthering_Heights</td>\n",
       "      <td>1847</td>\n",
       "      <td>F</td>\n",
       "      <td>A nod was the answer.</td>\n",
       "    </tr>\n",
       "    <tr>\n",
       "      <th>0</th>\n",
       "      <td>B-Bronte_E-Wuthering_Heights-1847-F.txt</td>\n",
       "      <td>Bronte_E</td>\n",
       "      <td>Wuthering_Heights</td>\n",
       "      <td>1847</td>\n",
       "      <td>F</td>\n",
       "      <td>'Mr. Lockwood, your new tenant, sir.  I do mys...</td>\n",
       "    </tr>\n",
       "    <tr>\n",
       "      <th>0</th>\n",
       "      <td>B-Bronte_E-Wuthering_Heights-1847-F.txt</td>\n",
       "      <td>Bronte_E</td>\n",
       "      <td>Wuthering_Heights</td>\n",
       "      <td>1847</td>\n",
       "      <td>F</td>\n",
       "      <td>'Thrushcross Grange is my own, sir,' he interr...</td>\n",
       "    </tr>\n",
       "    <tr>\n",
       "      <th>0</th>\n",
       "      <td>B-Bronte_E-Wuthering_Heights-1847-F.txt</td>\n",
       "      <td>Bronte_E</td>\n",
       "      <td>Wuthering_Heights</td>\n",
       "      <td>1847</td>\n",
       "      <td>F</td>\n",
       "      <td>The 'walk in' was uttered with closed teeth, a...</td>\n",
       "    </tr>\n",
       "    <tr>\n",
       "      <th>0</th>\n",
       "      <td>B-Bronte_E-Wuthering_Heights-1847-F.txt</td>\n",
       "      <td>Bronte_E</td>\n",
       "      <td>Wuthering_Heights</td>\n",
       "      <td>1847</td>\n",
       "      <td>F</td>\n",
       "      <td>When he saw my horse's breast fairly pushing t...</td>\n",
       "    </tr>\n",
       "    <tr>\n",
       "      <th>0</th>\n",
       "      <td>B-Bronte_E-Wuthering_Heights-1847-F.txt</td>\n",
       "      <td>Bronte_E</td>\n",
       "      <td>Wuthering_Heights</td>\n",
       "      <td>1847</td>\n",
       "      <td>F</td>\n",
       "      <td>'Here we have the whole establishment of domes...</td>\n",
       "    </tr>\n",
       "    <tr>\n",
       "      <th>0</th>\n",
       "      <td>B-Bronte_E-Wuthering_Heights-1847-F.txt</td>\n",
       "      <td>Bronte_E</td>\n",
       "      <td>Wuthering_Heights</td>\n",
       "      <td>1847</td>\n",
       "      <td>F</td>\n",
       "      <td>Joseph was an elderly, nay, an old man: very o...</td>\n",
       "    </tr>\n",
       "  </tbody>\n",
       "</table>\n",
       "</div>"
      ],
      "text/plain": [
       "                                      path    author              title  year  \\\n",
       "0  B-Bronte_E-Wuthering_Heights-1847-F.txt  Bronte_E  Wuthering_Heights  1847   \n",
       "0  B-Bronte_E-Wuthering_Heights-1847-F.txt  Bronte_E  Wuthering_Heights  1847   \n",
       "0  B-Bronte_E-Wuthering_Heights-1847-F.txt  Bronte_E  Wuthering_Heights  1847   \n",
       "0  B-Bronte_E-Wuthering_Heights-1847-F.txt  Bronte_E  Wuthering_Heights  1847   \n",
       "0  B-Bronte_E-Wuthering_Heights-1847-F.txt  Bronte_E  Wuthering_Heights  1847   \n",
       "0  B-Bronte_E-Wuthering_Heights-1847-F.txt  Bronte_E  Wuthering_Heights  1847   \n",
       "0  B-Bronte_E-Wuthering_Heights-1847-F.txt  Bronte_E  Wuthering_Heights  1847   \n",
       "0  B-Bronte_E-Wuthering_Heights-1847-F.txt  Bronte_E  Wuthering_Heights  1847   \n",
       "0  B-Bronte_E-Wuthering_Heights-1847-F.txt  Bronte_E  Wuthering_Heights  1847   \n",
       "0  B-Bronte_E-Wuthering_Heights-1847-F.txt  Bronte_E  Wuthering_Heights  1847   \n",
       "\n",
       "  gender                                               text  \n",
       "0      F                                          CHAPTER I  \n",
       "0      F  1801.--I have just returned from a visit to my...  \n",
       "0      F                          'Mr. Heathcliff?' I said.  \n",
       "0      F                              A nod was the answer.  \n",
       "0      F  'Mr. Lockwood, your new tenant, sir.  I do mys...  \n",
       "0      F  'Thrushcross Grange is my own, sir,' he interr...  \n",
       "0      F  The 'walk in' was uttered with closed teeth, a...  \n",
       "0      F  When he saw my horse's breast fairly pushing t...  \n",
       "0      F  'Here we have the whole establishment of domes...  \n",
       "0      F  Joseph was an elderly, nay, an old man: very o...  "
      ]
     },
     "execution_count": 4,
     "metadata": {},
     "output_type": "execute_result"
    }
   ],
   "source": [
    "df.head(10)"
   ]
  },
  {
   "cell_type": "code",
   "execution_count": 5,
   "id": "d497b256",
   "metadata": {},
   "outputs": [
    {
     "name": "stdout",
     "output_type": "stream",
     "text": [
      "Total word count: 5,436,572\n"
     ]
    },
    {
     "data": {
      "application/vnd.microsoft.datawrangler.viewer.v0+json": {
       "columns": [
        {
         "name": "index",
         "rawType": "object",
         "type": "string"
        },
        {
         "name": "wc",
         "rawType": "float64",
         "type": "float"
        }
       ],
       "ref": "7a26035a-deb1-4579-9045-24da45fac4bd",
       "rows": [
        [
         "count",
         "113321.0"
        ],
        [
         "mean",
         "47.974973747143075"
        ],
        [
         "std",
         "66.43759781693399"
        ],
        [
         "min",
         "0.0"
        ],
        [
         "25%",
         "12.0"
        ],
        [
         "50%",
         "24.0"
        ],
        [
         "75%",
         "59.0"
        ],
        [
         "max",
         "1489.0"
        ]
       ],
       "shape": {
        "columns": 1,
        "rows": 8
       }
      },
      "text/plain": [
       "count    113321.000000\n",
       "mean         47.974974\n",
       "std          66.437598\n",
       "min           0.000000\n",
       "25%          12.000000\n",
       "50%          24.000000\n",
       "75%          59.000000\n",
       "max        1489.000000\n",
       "Name: wc, dtype: float64"
      ]
     },
     "execution_count": 5,
     "metadata": {},
     "output_type": "execute_result"
    }
   ],
   "source": [
    "df[\"wc\"] = df.text.apply(lambda x: len(x.split()))\n",
    "print(f\"Total word count: {df.wc.sum():,}\")\n",
    "df.wc.describe()"
   ]
  },
  {
   "cell_type": "markdown",
   "id": "ffc8769f",
   "metadata": {},
   "source": [
    "Maybe splitting on newline `\\n` characters didn't work perfectly. Instead of fiddling with how we chunk our text, is there a quick (albeit destructive) way that we could clean up our data a little bit?"
   ]
  },
  {
   "cell_type": "code",
   "execution_count": 6,
   "id": "6c452242",
   "metadata": {},
   "outputs": [
    {
     "name": "stdout",
     "output_type": "stream",
     "text": [
      "Filtered 10,567 samples, 42,119 words.\n"
     ]
    }
   ],
   "source": [
    "min_length, max_length = (5, 1000)   # Arbitrary! Let's see what happens.\n",
    "filtered_df = df[(df[\"wc\"] > min_length) & (df[\"wc\"] < max_length)]\n",
    "print(f\"Filtered {len(df) - len(filtered_df):,} samples, {df.wc.sum() - filtered_df.wc.sum():,} words.\")"
   ]
  },
  {
   "cell_type": "code",
   "execution_count": 7,
   "id": "29cb8df6",
   "metadata": {},
   "outputs": [
    {
     "data": {
      "application/vnd.microsoft.datawrangler.viewer.v0+json": {
       "columns": [
        {
         "name": "index",
         "rawType": "int64",
         "type": "integer"
        },
        {
         "name": "path",
         "rawType": "object",
         "type": "string"
        },
        {
         "name": "author",
         "rawType": "object",
         "type": "string"
        },
        {
         "name": "title",
         "rawType": "object",
         "type": "string"
        },
        {
         "name": "year",
         "rawType": "int64",
         "type": "integer"
        },
        {
         "name": "gender",
         "rawType": "object",
         "type": "string"
        },
        {
         "name": "text",
         "rawType": "object",
         "type": "string"
        },
        {
         "name": "wc",
         "rawType": "int64",
         "type": "integer"
        }
       ],
       "ref": "e04113c1-8f7e-4fc6-8e2b-df2e7ddfd4a0",
       "rows": [
        [
         "0",
         "B-Bronte_E-Wuthering_Heights-1847-F.txt",
         "Bronte_E",
         "Wuthering_Heights",
         "1847",
         "F",
         "1801.--I have just returned from a visit to my landlord--the solitary neighbour that I shall be troubled with.  This is certainly a beautiful country!  In all England, I do not believe that I could have fixed on a situation so completely removed from the stir of society.  A perfect misanthropist's heaven: and Mr. Heathcliff and I are such a suitable pair to divide the desolation between us.  A capital fellow!  He little imagined how my heart warmed towards him when I beheld his black eyes withdraw so suspiciously under their brows, as I rode up, and when his fingers sheltered themselves, with a jealous resolution, still further in his waistcoat, as I announced my name.",
         "115"
        ],
        [
         "0",
         "B-Bronte_E-Wuthering_Heights-1847-F.txt",
         "Bronte_E",
         "Wuthering_Heights",
         "1847",
         "F",
         "'Mr. Lockwood, your new tenant, sir.  I do myself the honour of calling as soon as possible after my arrival, to express the hope that I have not inconvenienced you by my perseverance in soliciting the occupation of Thrushcross Grange: I heard yesterday you had had some thoughts--'",
         "48"
        ],
        [
         "0",
         "B-Bronte_E-Wuthering_Heights-1847-F.txt",
         "Bronte_E",
         "Wuthering_Heights",
         "1847",
         "F",
         "'Thrushcross Grange is my own, sir,' he interrupted, wincing.  'I should not allow any one to inconvenience me, if I could hinder it--walk in!'",
         "24"
        ],
        [
         "0",
         "B-Bronte_E-Wuthering_Heights-1847-F.txt",
         "Bronte_E",
         "Wuthering_Heights",
         "1847",
         "F",
         "The 'walk in' was uttered with closed teeth, and expressed the sentiment, 'Go to the Deuce:' even the gate over which he leant manifested no sympathising movement to the words; and I think that circumstance determined me to accept the invitation: I felt interested in a man who seemed more exaggeratedly reserved than myself.",
         "54"
        ],
        [
         "0",
         "B-Bronte_E-Wuthering_Heights-1847-F.txt",
         "Bronte_E",
         "Wuthering_Heights",
         "1847",
         "F",
         "When he saw my horse's breast fairly pushing the barrier, he did put out his hand to unchain it, and then sullenly preceded me up the causeway, calling, as we entered the court,--'Joseph, take Mr. Lockwood's horse; and bring up some wine.'",
         "42"
        ]
       ],
       "shape": {
        "columns": 7,
        "rows": 5
       }
      },
      "text/html": [
       "<div>\n",
       "<style scoped>\n",
       "    .dataframe tbody tr th:only-of-type {\n",
       "        vertical-align: middle;\n",
       "    }\n",
       "\n",
       "    .dataframe tbody tr th {\n",
       "        vertical-align: top;\n",
       "    }\n",
       "\n",
       "    .dataframe thead th {\n",
       "        text-align: right;\n",
       "    }\n",
       "</style>\n",
       "<table border=\"1\" class=\"dataframe\">\n",
       "  <thead>\n",
       "    <tr style=\"text-align: right;\">\n",
       "      <th></th>\n",
       "      <th>path</th>\n",
       "      <th>author</th>\n",
       "      <th>title</th>\n",
       "      <th>year</th>\n",
       "      <th>gender</th>\n",
       "      <th>text</th>\n",
       "      <th>wc</th>\n",
       "    </tr>\n",
       "  </thead>\n",
       "  <tbody>\n",
       "    <tr>\n",
       "      <th>0</th>\n",
       "      <td>B-Bronte_E-Wuthering_Heights-1847-F.txt</td>\n",
       "      <td>Bronte_E</td>\n",
       "      <td>Wuthering_Heights</td>\n",
       "      <td>1847</td>\n",
       "      <td>F</td>\n",
       "      <td>1801.--I have just returned from a visit to my...</td>\n",
       "      <td>115</td>\n",
       "    </tr>\n",
       "    <tr>\n",
       "      <th>0</th>\n",
       "      <td>B-Bronte_E-Wuthering_Heights-1847-F.txt</td>\n",
       "      <td>Bronte_E</td>\n",
       "      <td>Wuthering_Heights</td>\n",
       "      <td>1847</td>\n",
       "      <td>F</td>\n",
       "      <td>'Mr. Lockwood, your new tenant, sir.  I do mys...</td>\n",
       "      <td>48</td>\n",
       "    </tr>\n",
       "    <tr>\n",
       "      <th>0</th>\n",
       "      <td>B-Bronte_E-Wuthering_Heights-1847-F.txt</td>\n",
       "      <td>Bronte_E</td>\n",
       "      <td>Wuthering_Heights</td>\n",
       "      <td>1847</td>\n",
       "      <td>F</td>\n",
       "      <td>'Thrushcross Grange is my own, sir,' he interr...</td>\n",
       "      <td>24</td>\n",
       "    </tr>\n",
       "    <tr>\n",
       "      <th>0</th>\n",
       "      <td>B-Bronte_E-Wuthering_Heights-1847-F.txt</td>\n",
       "      <td>Bronte_E</td>\n",
       "      <td>Wuthering_Heights</td>\n",
       "      <td>1847</td>\n",
       "      <td>F</td>\n",
       "      <td>The 'walk in' was uttered with closed teeth, a...</td>\n",
       "      <td>54</td>\n",
       "    </tr>\n",
       "    <tr>\n",
       "      <th>0</th>\n",
       "      <td>B-Bronte_E-Wuthering_Heights-1847-F.txt</td>\n",
       "      <td>Bronte_E</td>\n",
       "      <td>Wuthering_Heights</td>\n",
       "      <td>1847</td>\n",
       "      <td>F</td>\n",
       "      <td>When he saw my horse's breast fairly pushing t...</td>\n",
       "      <td>42</td>\n",
       "    </tr>\n",
       "  </tbody>\n",
       "</table>\n",
       "</div>"
      ],
      "text/plain": [
       "                                      path    author              title  year  \\\n",
       "0  B-Bronte_E-Wuthering_Heights-1847-F.txt  Bronte_E  Wuthering_Heights  1847   \n",
       "0  B-Bronte_E-Wuthering_Heights-1847-F.txt  Bronte_E  Wuthering_Heights  1847   \n",
       "0  B-Bronte_E-Wuthering_Heights-1847-F.txt  Bronte_E  Wuthering_Heights  1847   \n",
       "0  B-Bronte_E-Wuthering_Heights-1847-F.txt  Bronte_E  Wuthering_Heights  1847   \n",
       "0  B-Bronte_E-Wuthering_Heights-1847-F.txt  Bronte_E  Wuthering_Heights  1847   \n",
       "\n",
       "  gender                                               text   wc  \n",
       "0      F  1801.--I have just returned from a visit to my...  115  \n",
       "0      F  'Mr. Lockwood, your new tenant, sir.  I do mys...   48  \n",
       "0      F  'Thrushcross Grange is my own, sir,' he interr...   24  \n",
       "0      F  The 'walk in' was uttered with closed teeth, a...   54  \n",
       "0      F  When he saw my horse's breast fairly pushing t...   42  "
      ]
     },
     "execution_count": 7,
     "metadata": {},
     "output_type": "execute_result"
    }
   ],
   "source": [
    "filtered_df.head()"
   ]
  },
  {
   "cell_type": "markdown",
   "id": "c1892fc2",
   "metadata": {},
   "source": [
    "## Vectorization"
   ]
  },
  {
   "cell_type": "markdown",
   "id": "95b1f9df",
   "metadata": {},
   "source": [
    "Regardless of the specific methods we ultimately employ later on, we will need word counts. "
   ]
  },
  {
   "cell_type": "code",
   "execution_count": 8,
   "id": "f73434f9",
   "metadata": {},
   "outputs": [],
   "source": [
    "vectorizer = CountVectorizer(\n",
    "    stop_words=\"english\",\n",
    "    strip_accents=\"unicode\",\n",
    "    encoding=\"utf-8\",\n",
    "    min_df=.001,     # What does this line mean?\n",
    "    max_df=.50       # What about this one?\n",
    ")\n",
    "\n",
    "count_matrix = vectorizer.fit_transform(filtered_df.text)\n",
    "\n",
    "id2word = {v: k for k, v in vectorizer.vocabulary_.items()}"
   ]
  },
  {
   "cell_type": "code",
   "execution_count": 9,
   "id": "4cc8d846",
   "metadata": {},
   "outputs": [
    {
     "data": {
      "text/plain": [
       "(102754, 3510)"
      ]
     },
     "execution_count": 9,
     "metadata": {},
     "output_type": "execute_result"
    }
   ],
   "source": [
    "count_matrix.shape"
   ]
  },
  {
   "cell_type": "markdown",
   "id": "62b5171d",
   "metadata": {},
   "source": [
    "Let's quickly inspect our high-frequency words."
   ]
  },
  {
   "cell_type": "code",
   "execution_count": 10,
   "id": "5ffd91f3",
   "metadata": {},
   "outputs": [
    {
     "data": {
      "text/plain": [
       "['said',\n",
       " 'mr',\n",
       " 'little',\n",
       " 'like',\n",
       " 'did',\n",
       " 'know',\n",
       " 'man',\n",
       " 'time',\n",
       " 'good',\n",
       " 'mrs',\n",
       " 'don',\n",
       " 'come',\n",
       " 'old',\n",
       " 'think',\n",
       " 'say']"
      ]
     },
     "execution_count": 10,
     "metadata": {},
     "output_type": "execute_result"
    }
   ],
   "source": [
    "sorted_count_idx = np.argsort(-np.array(count_matrix.sum(axis=0)).squeeze())\n",
    "n_top_words = 15\n",
    "top_words = [id2word[idx] for idx in sorted_count_idx[:n_top_words]]\n",
    "top_words\n"
   ]
  },
  {
   "cell_type": "markdown",
   "id": "687752a9",
   "metadata": {},
   "source": [
    "Who's Don?"
   ]
  },
  {
   "cell_type": "code",
   "execution_count": 11,
   "id": "0e8252f8",
   "metadata": {},
   "outputs": [
    {
     "data": {
      "application/vnd.microsoft.datawrangler.viewer.v0+json": {
       "columns": [
        {
         "name": "index",
         "rawType": "int64",
         "type": "integer"
        },
        {
         "name": "text",
         "rawType": "object",
         "type": "string"
        }
       ],
       "ref": "a173aeaa-8669-4ff4-b3d5-314674f7168b",
       "rows": [
        [
         "0",
         "Mr. Heathcliff and his man climbed the cellar steps with vexatious phlegm: I don't think they moved one second faster than usual, though the hearth was an absolute tempest of worrying and yelping. Happily, an inhabitant of the kitchen made more despatch: a lusty dame, with tucked-up gown, bare arms, and fire-flushed cheeks, rushed into the midst of us flourishing a frying-pan: and used that weapon, and her tongue, to such purpose, that the storm subsided magically, and she only remained, heaving like a sea after a high wind, when her master entered on the scene."
        ]
       ],
       "shape": {
        "columns": 1,
        "rows": 1
       }
      },
      "text/plain": [
       "0    Mr. Heathcliff and his man climbed the cellar ...\n",
       "Name: text, dtype: object"
      ]
     },
     "execution_count": 11,
     "metadata": {},
     "output_type": "execute_result"
    }
   ],
   "source": [
    "don_idx = vectorizer.vocabulary_[\"don\"]\n",
    "don_text = filtered_df.iloc[np.argwhere(count_matrix[:, don_idx] > 0)[:, 0]] \n",
    "don_text.head(1).text"
   ]
  },
  {
   "cell_type": "markdown",
   "id": "a1fdb603",
   "metadata": {},
   "source": [
    "Remember that `CountVectorizer` uses its default tokenizer when unspecified, which can lead to some unintuitive or undesirable results. Splitting up contractions seems acceptable, though we should remember this when we look at our topic model later on. "
   ]
  },
  {
   "cell_type": "markdown",
   "id": "6ddff210",
   "metadata": {},
   "source": [
    "## Feature importance\n",
    "\n",
    "You know the drill: let's find the most useful features in this count matrix. For our classification task, let's consider author gender info we parsed earlier. Maybe we believe that there's some relationship between author gender and word choice. Let's investigate:"
   ]
  },
  {
   "cell_type": "code",
   "execution_count": 12,
   "id": "be40b778",
   "metadata": {},
   "outputs": [],
   "source": [
    "from sklearn.feature_selection import SelectKBest, f_regression\n",
    "from sklearn.model_selection import cross_val_score\n",
    "\n",
    "k = 25\n",
    "\n",
    "# mutual_info_regression would be better, but takes too long for lecture. \n",
    "selector = SelectKBest(f_regression, k=k)\n",
    "y = filtered_df.gender == \"M\"\n",
    "X_words = selector.fit_transform(count_matrix, filtered_df.gender == \"M\")"
   ]
  },
  {
   "cell_type": "code",
   "execution_count": 13,
   "id": "bb7a3046",
   "metadata": {},
   "outputs": [
    {
     "data": {
      "text/plain": [
       "['emily',\n",
       " 'margaret',\n",
       " 'jo',\n",
       " 'dorothea',\n",
       " 'elizabeth',\n",
       " 'meg',\n",
       " 'lydgate',\n",
       " 'archer',\n",
       " 'laurie',\n",
       " 'said',\n",
       " 'catherine',\n",
       " 'montoni',\n",
       " 'carrie',\n",
       " 'casaubon',\n",
       " 'heathcliff',\n",
       " 'brooke',\n",
       " 'hale',\n",
       " 'orville',\n",
       " 'st',\n",
       " 'rosamond',\n",
       " 'madame',\n",
       " 'bulstrode',\n",
       " 'beth',\n",
       " 'robert',\n",
       " 'linton']"
      ]
     },
     "execution_count": 13,
     "metadata": {},
     "output_type": "execute_result"
    }
   ],
   "source": [
    "top_features = [id2word[w] for w in np.argsort(-selector.scores_)[:k]]\n",
    "top_features"
   ]
  },
  {
   "cell_type": "code",
   "execution_count": 14,
   "id": "e48628fd",
   "metadata": {},
   "outputs": [],
   "source": [
    "lr_classifier = LogisticRegression().fit(X_words, y)"
   ]
  },
  {
   "cell_type": "code",
   "execution_count": 15,
   "id": "1b16a235",
   "metadata": {},
   "outputs": [
    {
     "data": {
      "text/plain": [
       "array([[-4.71999007, -3.59187769, -4.37508353, -4.28396845,  4.69896729,\n",
       "        -4.24878017, -3.57581878, -4.99229697, -3.78377044, -4.54988603,\n",
       "        -3.23009719, -4.47284803, -1.73367682, -4.60397159, -4.11835643,\n",
       "        -4.70028805, -0.76485272, -4.38693639, -4.78995397, -4.27128329,\n",
       "        -4.79527611, -2.99766159, -3.92454843, -0.21351392, -1.14814674]])"
      ]
     },
     "execution_count": 15,
     "metadata": {},
     "output_type": "execute_result"
    }
   ],
   "source": [
    "lr_classifier.coef_"
   ]
  },
  {
   "cell_type": "code",
   "execution_count": 16,
   "id": "8401da9f",
   "metadata": {},
   "outputs": [
    {
     "data": {
      "text/plain": [
       "[('emily', -4.719990066802508),\n",
       " ('margaret', -3.5918776926335516),\n",
       " ('jo', -4.375083533196615),\n",
       " ('dorothea', -4.283968452923736),\n",
       " ('elizabeth', 4.698967291119366),\n",
       " ('meg', -4.248780171102808),\n",
       " ('lydgate', -3.5758187831263917),\n",
       " ('archer', -4.992296972135236),\n",
       " ('laurie', -3.7837704399407532),\n",
       " ('said', -4.549886031371581),\n",
       " ('catherine', -3.230097187882606),\n",
       " ('montoni', -4.472848031432669),\n",
       " ('carrie', -1.733676822417005),\n",
       " ('casaubon', -4.60397158516711),\n",
       " ('heathcliff', -4.11835643434585),\n",
       " ('brooke', -4.700288052079768),\n",
       " ('hale', -0.764852719351273),\n",
       " ('orville', -4.386936385529522),\n",
       " ('st', -4.789953970445979),\n",
       " ('rosamond', -4.271283293137279),\n",
       " ('madame', -4.795276105492185),\n",
       " ('bulstrode', -2.9976615919837277),\n",
       " ('beth', -3.9245484300746916),\n",
       " ('robert', -0.21351391511499715),\n",
       " ('linton', -1.1481467430389203)]"
      ]
     },
     "execution_count": 16,
     "metadata": {},
     "output_type": "execute_result"
    }
   ],
   "source": [
    "[(w, c.item()) for w, c in zip(top_features, lr_classifier.coef_[0])]"
   ]
  },
  {
   "cell_type": "code",
   "execution_count": 17,
   "id": "4a3fd867",
   "metadata": {},
   "outputs": [
    {
     "data": {
      "text/plain": [
       "array([0.75941919])"
      ]
     },
     "execution_count": 17,
     "metadata": {},
     "output_type": "execute_result"
    }
   ],
   "source": [
    "lr_classifier.intercept_"
   ]
  },
  {
   "cell_type": "markdown",
   "id": "5dc1d2a8",
   "metadata": {},
   "source": [
    "How do we interpret the above coefficients and the intercept?"
   ]
  },
  {
   "cell_type": "code",
   "execution_count": 18,
   "id": "be85ac33",
   "metadata": {},
   "outputs": [
    {
     "name": "stdout",
     "output_type": "stream",
     "text": [
      "Mean cross-validated accuracy (all words): 0.694\n"
     ]
    }
   ],
   "source": [
    "print(\"Mean cross-validated accuracy (all words):\", round(np.mean(cross_val_score(LogisticRegression(), count_matrix, y, scoring='accuracy', cv=10)),3))"
   ]
  },
  {
   "cell_type": "code",
   "execution_count": 19,
   "id": "f6b38df9",
   "metadata": {},
   "outputs": [
    {
     "name": "stdout",
     "output_type": "stream",
     "text": [
      "Mean cross-validated accuracy (top words): 0.686\n"
     ]
    }
   ],
   "source": [
    "print(\"Mean cross-validated accuracy (top words):\", round(np.mean(cross_val_score(LogisticRegression(), X_words, y, scoring='accuracy', cv=10)),3))"
   ]
  },
  {
   "cell_type": "markdown",
   "id": "a500cf08",
   "metadata": {},
   "source": [
    "Is this analysis satisfying? Is the accuracy here good? What does `f_regression` (and, it seems, just a plain `LogisticRegression` classifier) seem to \"pick out\" of our data, and does it tell us anything interesting? Why or why not? "
   ]
  },
  {
   "cell_type": "markdown",
   "id": "60e51ed2",
   "metadata": {},
   "source": [
    "## LDA\n",
    "\n",
    "Let's see if LDA tells us anything more interesting about our data and whether there are actual linguistic features associated with authorial gender. "
   ]
  },
  {
   "cell_type": "code",
   "execution_count": 20,
   "id": "990e63f7",
   "metadata": {},
   "outputs": [],
   "source": [
    "lda_model = LatentDirichletAllocation(\n",
    "    n_components=k,\n",
    "    doc_topic_prior=1/k,  # This is the default value of doc_topic_prior\n",
    "    topic_word_prior=1/k, # Ditto. \n",
    "    n_jobs=-1,\n",
    "    max_iter=20\n",
    ")\n",
    "\n",
    "doc_topic = lda_model.fit_transform(count_matrix)"
   ]
  },
  {
   "cell_type": "code",
   "execution_count": 21,
   "id": "712e0bc2",
   "metadata": {},
   "outputs": [
    {
     "name": "stdout",
     "output_type": "stream",
     "text": [
      "Feature 0: ['door', 'looked', 'little', 'head', 'jo', 'went', 'face', 'room', 'stood', 'eyes']\n",
      "Feature 1: ['shall', 'say', 'said', 'tell', 'think', 'wish', 'dear', 'hope', 'make', 'know']\n",
      "Feature 2: ['got', 'didn', 'tom', 'couldn', 'just', 'time', 'good', 'old', 've', 'come']\n",
      "Feature 3: ['mrs', 'answered', 'did', 'told', 'mean', 'answer', 'said', 'exclaimed', 'laura', 'mother']\n",
      "Feature 4: ['said', 'yes', 'come', 'let', 'right', 'oh', 'good', 'john', 'don', 'man']\n",
      "Feature 5: ['mr', 'says', 'sir', 'george', 'man', 'god', 'old', 'looks', 'comes', 'bucket']\n",
      "Feature 6: ['mr', 'little', 'lydgate', 'mrs', 'time', 'dorothea', 'fact', 'quite', 'felt', 'way']\n",
      "Feature 7: ['eyes', 'face', 'voice', 'hand', 'heart', 'words', 'looked', 'moment', 'look', 'felt']\n",
      "Feature 8: ['room', 'table', 'read', 'mrs', 'st', 'paper', 'sat', 'drawing', 'chair', 'archer']\n",
      "Feature 9: ['child', 'mother', 'doctor', 'tess', 'children', 'dr', 'white', 'death', 'father', 'mrs']\n",
      "Feature 10: ['began', 'came', 'man', 'time', 'hands', 'like', 'feet', 'away', 'suddenly', 'hand']\n",
      "Feature 11: ['long', 'heard', 'hear', 'aunt', 'ma', 'dat', 'music', 'ago', 'robert', 'uncle']\n",
      "Feature 12: ['emily', 'montoni', 'count', 'soon', 'st', 'length', 'valancourt', 'appeared', 'having', 'mind']\n",
      "Feature 13: ['asked', 'cried', 'sir', 'lord', 'said', 'oh', 'thou', 'bambi', 'thee', 'madame']\n",
      "Feature 14: ['poor', 'said', 'girl', 'better', 'thought', 'fellow', 'little', 'good', 'mary', 'bad']\n",
      "Feature 15: ['miss', 'lady', 'young', 'said', 'mrs', 'old', 'little', 'crawley', 'family', 'brother']\n",
      "Feature 16: ['life', 'men', 'years', 'new', 'people', 'great', 'man', 'old', 'world', 'country']\n",
      "Feature 17: ['mr', 'said', 'melmotte', 'money', 'sir', 'carbury', 'lady', 'felix', 'man', 'lord']\n",
      "Feature 18: ['know', 'don', 'want', 'think', 'said', 'like', 've', 'suppose', 'say', 'does']\n",
      "Feature 19: ['love', 'man', 'did', 'woman', 'heart', 'life', 'felt', 'thought', 'make', 'loved']\n",
      "Feature 20: ['hour', 'replied', 'walked', 'half', 'turned', 'way', 'night', 'amy', 'away', 'marian']\n",
      "Feature 21: ['ll', 'said', 'won', 'carrie', 'hurstwood', 'come', 'good', 'heathcliff', 'catherine', 'yo']\n",
      "Feature 22: ['whale', 'ye', 'sea', 'captain', 'ship', 'boat', 'like', 'water', 'ahab', 'man']\n",
      "Feature 23: ['like', 'light', 'little', 'white', 'sun', 'long', 'green', 'trees', 'black', 'house']\n",
      "Feature 24: ['day', 'mr', 'morning', 'home', 'came', 'margaret', 'went', 'mrs', 'house', 'night']\n"
     ]
    }
   ],
   "source": [
    "def display_topic_words(components, id2word, top_words=10):\n",
    "    sorted_top_idx = np.argsort(-components)[:, :top_words]\n",
    "    for i in range(sorted_top_idx.shape[0]): \n",
    "        print(f\"Feature {i}: {[id2word[id] for id in sorted_top_idx[i]]}\")\n",
    "\n",
    "display_topic_words(lda_model.components_, id2word)"
   ]
  },
  {
   "cell_type": "markdown",
   "id": "ef19da64",
   "metadata": {},
   "source": [
    "We won't be going over LDA evaluation methods in this course, but here are some subjective criteria to think about: \n",
    "* How *coherent* do these topics seem? \n",
    "* How *diverse* are the topics? \n",
    "* Do some topics seem *highly similar* to other topics? \n",
    "* How easy is it to *describe a topic* without just repeating top words?"
   ]
  },
  {
   "cell_type": "markdown",
   "id": "dcede427",
   "metadata": {},
   "source": [
    "Let's look at the performance of the transformed `doc_topic` matrix on our author gender classification task. "
   ]
  },
  {
   "cell_type": "code",
   "execution_count": 22,
   "id": "38f0d037",
   "metadata": {},
   "outputs": [
    {
     "name": "stdout",
     "output_type": "stream",
     "text": [
      "Mean cross-validated accuracy (top words): 0.575\n"
     ]
    }
   ],
   "source": [
    "print(\"Mean cross-validated accuracy (top words):\", round(np.mean(cross_val_score(LogisticRegression(), doc_topic, y, scoring='accuracy', cv=10)),3))"
   ]
  },
  {
   "cell_type": "markdown",
   "id": "b48943a9",
   "metadata": {},
   "source": [
    "Oof--what's the baseline again?"
   ]
  },
  {
   "cell_type": "code",
   "execution_count": 23,
   "id": "38f2782c",
   "metadata": {},
   "outputs": [
    {
     "data": {
      "text/plain": [
       "0.6036066722463359"
      ]
     },
     "execution_count": 23,
     "metadata": {},
     "output_type": "execute_result"
    }
   ],
   "source": [
    "(y.sum()/len(y)).item()"
   ]
  },
  {
   "cell_type": "code",
   "execution_count": 24,
   "id": "77c47cbb",
   "metadata": {},
   "outputs": [
    {
     "data": {
      "text/plain": [
       "array([[12, 22,  5, 20, 11,  3, 17, 10,  0, 19, 13, 15, 14,  1,  6,  4,\n",
       "        18,  8,  7,  2, 24,  9, 23, 21, 16]])"
      ]
     },
     "execution_count": 24,
     "metadata": {},
     "output_type": "execute_result"
    }
   ],
   "source": [
    "lr_features = LogisticRegression().fit(doc_topic, y)\n",
    "np.argsort(-np.abs(lr_features.coef_))"
   ]
  },
  {
   "cell_type": "markdown",
   "id": "d1a9c20d",
   "metadata": {},
   "source": [
    "Ok, so only slightly better than chance. What do you make of this result? How do you interpret this in terms of the word-level results we observed earlier?"
   ]
  },
  {
   "cell_type": "markdown",
   "id": "7466b0f7",
   "metadata": {},
   "source": [
    "We should make sure that our `k` value is well-suited to this dataset. Let's evaluate our LDA model with different values of `k` and see how this affects downstream accuracy, if at all.  "
   ]
  },
  {
   "cell_type": "code",
   "execution_count": 25,
   "id": "2f565a86",
   "metadata": {},
   "outputs": [],
   "source": [
    "eval_results = {\"k\": [], \"acc\": []}\n",
    "cv = 10\n",
    "for k in range(10, 60, 10):\n",
    "    lda_eval = LatentDirichletAllocation(\n",
    "        n_components=k,\n",
    "        max_iter=10, # fewer iterations, should be more in practice\n",
    "        n_jobs=-1\n",
    "    )\n",
    "    doc_topic_eval = lda_eval.fit_transform(count_matrix)\n",
    "    \n",
    "    eval_acc = cross_val_score(\n",
    "        LogisticRegression(), \n",
    "        doc_topic_eval, \n",
    "        y, \n",
    "        scoring='accuracy', \n",
    "        # We're using accuracy here, but we really *should* be using F1.\n",
    "        cv=cv\n",
    "    )\n",
    "    eval_results[\"acc\"] += list(eval_acc)\n",
    "    eval_results[\"k\"] += [k] * cv "
   ]
  },
  {
   "cell_type": "code",
   "execution_count": 26,
   "id": "24b523c2",
   "metadata": {},
   "outputs": [
    {
     "data": {
      "text/plain": [
       "<Axes: xlabel='k', ylabel='acc'>"
      ]
     },
     "execution_count": 26,
     "metadata": {},
     "output_type": "execute_result"
    },
    {
     "data": {
      "image/png": "[encoded data removed]",
      "text/plain": [
       "<Figure size 640x480 with 1 Axes>"
      ]
     },
     "metadata": {},
     "output_type": "display_data"
    }
   ],
   "source": [
    "sns.lineplot(pd.DataFrame(eval_results), x=\"k\", y=\"acc\")"
   ]
  },
  {
   "cell_type": "markdown",
   "id": "3a70e9b8",
   "metadata": {},
   "source": [
    "If all we cared about here was the accuracy of our classifier, we might be pretty upset at this point!\n",
    "\n",
    "But what do these results actually say about our data? Is this \"negative result\" bad? How do we put our findings into words? How do you explain the results?"
   ]
  }
 ],
 "metadata": {
  "kernelspec": {
   "display_name": ".venv",
   "language": "python",
   "name": "python3"
  },
  "language_info": {
   "codemirror_mode": {
    "name": "ipython",
    "version": 3
   },
   "file_extension": ".py",
   "mimetype": "text/x-python",
   "name": "python",
   "nbconvert_exporter": "python",
   "pygments_lexer": "ipython3",
   "version": "3.12.0"
  }
 },
 "nbformat": 4,
 "nbformat_minor": 5
}
