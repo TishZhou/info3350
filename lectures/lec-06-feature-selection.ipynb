{
 "cells": [
  {
   "cell_type": "markdown",
   "metadata": {},
   "source": [
    "# INFO 3350/6350\n",
    "\n",
    "## Lecture 06: Feature selection"
   ]
  },
  {
   "cell_type": "markdown",
   "metadata": {},
   "source": [
    "## Feature selection\n",
    "\n",
    "We've spoken before about **overfitting**. A model that is overfit has learned features of the training data that are unlikely to generalize to new, unseen data. As a rule of thumb, a model is very likely to be overfit if it uses on the order of as many features as the training data contains examples. The signature of an overfit model is good performance when evaluated against the training data, but poor performance when evaluated against held-out test data. \n",
    "\n",
    "We also know that models fit to high-dimensional datasets can be difficult to interpret. If we use fewer features (while maintaining good performance), it will generally be easier to explain our system.\n",
    "\n",
    "> **Discuss: How might you go about selecting the best features for a classification task?**\n",
    "\n",
    "Mathematical dimension reduction is one approach to addressing high dimensionality and overfitting. Another is **feature selection**. When we select features to retain in our model, we're looking for ones that seem likely to provide useful information about the relationship between our objects and the class labels we seek to assign. Two useful approaches to feature selection are **ANOVA f-statistics** and **mutual information**. \n",
    "\n",
    "We'll look at both of these methods to estimate feature importance, then see how to use them in `sklearn` to pare down a feature set. We'll also mention **permutation importance**, a strictly *post hoc* empirical measure of feature importance based on the impact to a specified system of ablating individual features.\n",
    "\n",
    "### *F*-statistic and ANOVA analysis\n",
    "\n",
    "We won't say much more about ANOVA analysis; you should have seen it in your stats class. It's conceptually similar to a *t*-test, in that it compares the difference in the means of two groups relative to the variance within each group. A large *F*-statistic means that two samples are significantly different. For feature selection, we want features that are (significantly) differently distributed between the classes.\n",
    "\n",
    "The problem with the *F*-statistic is that it only works well for linear, normally distributed relationships. The advantages are (1) that this assumption is often valid and (2), it's super easy to calculate, so is fast when run on large datasets.\n",
    "\n",
    "### Mutual information\n",
    "\n",
    "**Mutual information** (MI) is abstractly similar to correlation or covariance -- it's a measure of how much two variables change together. But MI doesn't assume a linear relationship between the variables and it's suitable for categorical data, so is often preferred for our purposes.\n",
    "\n",
    "If you want the math, in the case of categorical data (like we're using here with word counts and class labels), mutual information is calculated as:\n",
    "\n",
    "$$MI(U,V)=\\sum_{i=1}^{|U|} \\sum_{j=1}^{|V|}\\frac{|U_i\\cap V_j|}{N}\\log\\frac{N|U_i \\cap V_j|}{|U_i||V_j|}$$\n",
    "\n",
    "Where $\\cap$ indicates the **intersection** of two sets. $N$ is the total number of observations in each vector. $i$ and $j$ represent the possible values in each vector. And $|U_i|$ is the count of instances of value $i$ in vector $U$. More generally, MI is defined as \n",
    "\n",
    "$$MI(X,Y)=\\sum_{x \\in X}\\sum_{y \\in Y}P(x, y)\\log\\frac{P(x, y)}{P(x)P(y)}$$\n",
    "\n",
    "or, in terms of entropy\n",
    "\n",
    "$$MI(X, Y) = H(X) - H(X| Y) = H(Y) - H(Y|X)$$\n",
    "\n",
    "since mutual information is symmetric. Put in plain English, the above says that the mutual information is equal to our baseline uncertainty about the value of $X$ (entropy) minus our uncertainty about $X$ given $Y$ (conditional entropy).\n",
    "\n",
    "\n",
    "For example: if we have two vectors, $U = [\\alpha, \\beta]$ and $V = [\\alpha, \\beta]$, we know that our MI score should be high, since $U$ is identical to $V$. For an *n*-class problem, the maximum unnormalized MI is log(*n*). In our example, $N$ = 2 (two observations per vector) and $i$ and $j$ are both drawn from the set $\\{\\alpha,\\beta\\}$. Hence:\n",
    "\n",
    "$$MI(U,V) = \\frac{1}{2}\\log\\frac{2(1)}{1(1)} + 0 + 0 + \\frac{1}{2}\\log\\frac{2(1)}{1(1)} = 0.693147$$\n",
    "\n",
    "The zeros correspond in this example to misaligned labels, of which there are none, hence $|U_i\\cap V_j| = 0$ for all $i\\neq j$ (again, in this specific example of perfect label alignment, not in all cases).\n",
    "\n",
    "Or consider the slightly more interesting case where $U = [1,1,2]$ and $V = [1,2,2]$. In this case, we calculate:\n",
    "\n",
    "$$MI(U,V) = \\frac{1}{3}\\log\\frac{3(1)}{2(1)} + \\frac{1}{3}\\log\\frac{3(1)}{2(2)} + 0 + \\frac{1}{3}\\log\\frac{3(1)}{1(2)} = 0.174416$$\n",
    "\n",
    "Mutual information is often (but not always) reported on a *normalized* basis, in which the raw MI value is divided by log($N$) (or, technically, by the mean entropy of the two variables, but it amounts to the same thing when there are the same number of classes in each variable), the maximum possible MI value for the case. The normalized MI for the first example is 0.693147/log(2) = 1.0. In the second example, normalized MI = 0.174416/log(3) = 0.15876.\n",
    "\n",
    "See the [sklearn documentation for `mutual_info_classif`](https://scikit-learn.org/stable/modules/generated/sklearn.feature_selection.mutual_info_classif.html) for more information."
   ]
  },
  {
   "cell_type": "code",
   "execution_count": 1,
   "metadata": {
    "tags": []
   },
   "outputs": [],
   "source": [
    "import numpy as np\n",
    "import os\n",
    "import pandas as pd\n",
    "import matplotlib.pyplot as plt\n",
    "import re\n",
    "from sklearn.decomposition import TruncatedSVD\n",
    "from sklearn.feature_extraction.text import CountVectorizer, TfidfVectorizer\n",
    "from sklearn.feature_selection import mutual_info_classif, f_classif, SelectKBest\n",
    "from sklearn.inspection import permutation_importance\n",
    "from sklearn.metrics import classification_report, f1_score\n",
    "from sklearn.model_selection import cross_val_score, train_test_split\n",
    "from sklearn.naive_bayes import BernoulliNB, MultinomialNB, GaussianNB\n",
    "from sklearn.preprocessing import StandardScaler"
   ]
  },
  {
   "cell_type": "code",
   "execution_count": 2,
   "metadata": {},
   "outputs": [],
   "source": [
    "# confirm hand calculations from above\n",
    "\n",
    "assert np.isclose(\n",
    "    mutual_info_classif(\n",
    "        np.array([[1,0]]).T, # transpose to column vector\n",
    "        np.array([1,0]),\n",
    "        discrete_features=True),\n",
    "    0.693147\n",
    ")\n",
    "assert np.isclose(\n",
    "    mutual_info_classif(\n",
    "        np.array([[1,1,2]]).T, # ditto\n",
    "        np.array([1,2,2]),\n",
    "        discrete_features=True),\n",
    "    0.174416\n",
    ")"
   ]
  },
  {
   "cell_type": "markdown",
   "metadata": {},
   "source": [
    "### Demo on trivial data"
   ]
  },
  {
   "cell_type": "code",
   "execution_count": 3,
   "metadata": {
    "tags": []
   },
   "outputs": [
    {
     "name": "stdout",
     "output_type": "stream",
     "text": [
      "X:\n",
      " [[1 1]\n",
      " [1 0]\n",
      " [1 1]\n",
      " [1 0]\n",
      " [0 1]\n",
      " [0 0]]\n",
      "\n",
      "Y:\n",
      " [1 1 1 0 0 0]\n",
      "\n",
      "f statistic: [4.  0.5]\n",
      "p values: [0.11611652 0.51851852]\n"
     ]
    }
   ],
   "source": [
    "# f-stat\n",
    "X = np.array([[1,1,1,1,0,0], [1,0,1,0,1,0]]).T # transpose again\n",
    "y = np.array([1,1,1,0,0,0])\n",
    "f_stat, p_vals = f_classif(X,y)\n",
    "print(\"X:\\n\", X)\n",
    "print(\"\\nY:\\n\", y)\n",
    "print(\"\\nf statistic:\", f_stat)\n",
    "print(\"p values:\", p_vals)"
   ]
  },
  {
   "cell_type": "code",
   "execution_count": 4,
   "metadata": {
    "tags": []
   },
   "outputs": [
    {
     "data": {
      "text/plain": [
       "array([[1],\n",
       "       [1],\n",
       "       [1],\n",
       "       [1],\n",
       "       [0],\n",
       "       [0]])"
      ]
     },
     "execution_count": 4,
     "metadata": {},
     "output_type": "execute_result"
    }
   ],
   "source": [
    "# automated selection\n",
    "SelectKBest(k=1, score_func=f_classif).fit_transform(X,y) # note score_func"
   ]
  },
  {
   "cell_type": "code",
   "execution_count": 5,
   "metadata": {
    "tags": []
   },
   "outputs": [
    {
     "data": {
      "text/plain": [
       "array([0.31825708, 0.05663301])"
      ]
     },
     "execution_count": 5,
     "metadata": {},
     "output_type": "execute_result"
    }
   ],
   "source": [
    "# mutual info\n",
    "mutual_info_classif(X, y, discrete_features=True)"
   ]
  },
  {
   "cell_type": "markdown",
   "metadata": {},
   "source": [
    "## A small corpus\n",
    "\n",
    "About 125,000 news articles, distributed evenly across four categories (world, business, sports, and science/technology), each trimmed to contain **just the first sentence or two of the original article**. [Data source](https://github.com/mhjabreel/CharCnn_Keras/tree/master/data/ag_news_csv), plus minor massaging into current format.\n",
    "\n",
    "Our task will be to predict the category of any news article using a Bayesian classifier, and to examine the impact of feature selection on model performance."
   ]
  },
  {
   "cell_type": "markdown",
   "metadata": {},
   "source": [
    "### Read and clean news data"
   ]
  },
  {
   "cell_type": "code",
   "execution_count": 6,
   "metadata": {
    "tags": []
   },
   "outputs": [
    {
     "data": {
      "application/vnd.microsoft.datawrangler.viewer.v0+json": {
       "columns": [
        {
         "name": "index",
         "rawType": "int64",
         "type": "integer"
        },
        {
         "name": "label",
         "rawType": "object",
         "type": "string"
        },
        {
         "name": "body",
         "rawType": "object",
         "type": "string"
        }
       ],
       "ref": "58099517-b488-41d8-9f0c-2d3830790906",
       "rows": [
        [
         "0",
         "Sci_Tech",
         "Mobile phone giant Nokia has unveiled its first product to incorporate the NFC (Near Field Communication) shell. Backed by Nokia, Philips and Sony, NFC is a new wireless communications function which is hoped "
        ],
        [
         "1",
         "Sports",
         "ADELAIDE, Nov 30: Australia crushed New Zealand by 213 runs on the final day of the second Test to complete a series clean sweep at Adelaide Oval on Tuesday."
        ],
        [
         "2",
         "Sports",
         "Flinching in the trenches, holding around quarterback Chris Leak and even a late hit by punter Eric Wilbur plagued Florida throughout the game."
        ],
        [
         "3",
         "Sports",
         "Miami Dolphins owner Wayne Huizenga and president Eddie Jones met with LSU coach Nick Saban in Baton Rouge, La., on Tuesday night, in what both sides called  quot;a preliminary conversation quot; about the team #39;s search for a coach."
        ],
        [
         "4",
         "Sci_Tech",
         "InfoWorld - PeopleSoft's Board of Directors voted Wednesday to recommend that its stockholders reject Oracle's takeover offer of  #36;24 per share. Oracle CEO Larry Ellison quickly responded, saying the offer is final and that it is now up to PeopleSoft's shareholders to make a determination."
        ],
        [
         "5",
         "Sci_Tech",
         "AP - Edward Bitet fought in World War II, built affordable housing for veterans and taught sixth grade. When the Long Island native retired to Florida, he fulfilled another civic duty by becoming a poll worker. But Bitet, 77, isn't volunteering this year  #151; he says he doesn't trust Palm Beach County's electronic voting machines. He walked out of a county demonstration of touch-screen terminals convinced that software bugs could wreak havoc on Nov. 2."
        ],
        [
         "6",
         "Business",
         "LARRY Ellison, the chief executive of software maker Oracle, earned \\$US3.85 million (\\$5.53 million) in salary and bonus for the financial year that ended May 31."
        ],
        [
         "7",
         "Sci_Tech",
         "AP - Indonesian police on Tuesday summoned the American director and two other foreign staffers of a U.S.-based mining company for questioning over the alleged contamination of a bay in eastern Indonesia."
        ],
        [
         "8",
         "World",
         "AP - Police defused a time-bomb in a town near Prime Minister Silvio Berlusconi's villa on the island of Sardinia on Wednesday shortly after British Prime Minister Tony Blair finished a visit there with the Italian leader."
        ],
        [
         "9",
         "World",
         "A full season has passed since the UN Security Council gave the government in Sudan one month to stop its campaign of ethnic cleansing in the region of Darfur."
        ],
        [
         "10",
         "Sci_Tech",
         "November 03, 2004 - The addictive brutality and enveloping strategy of the Dynasty Warriors has always seemed perfect for a portable, making the PSP edition of the series easily one of the most anticipated games for the PlayStation Portable system so far."
        ],
        [
         "11",
         "Sports",
         "AP - Gerald Williams and Eric Valent hit solo home runs to give the New York Mets a 2-1 victory over the Atlanta Braves in the first game of a doubleheader Tuesday."
        ],
        [
         "12",
         "World",
         "The Palestinians have taken a double hit this week with the news that Washington has quietly softened its opposition to growth in Jewish settlements in the West Bank and Gaza Strip, and Israel #39;s announcement of plans to build 530 new settler homes in the "
        ],
        [
         "13",
         "Sci_Tech",
         "Hitachi Global Storage Technologies Inc. and Intel Corp. have joined in supporting an interface technology proposed for compact hard-disk drives used in portable music players, handheld computers and mobile phones."
        ],
        [
         "14",
         "Sci_Tech",
         "The new desktops, priced between \\$600 and \\$715, target families, students and small businesses."
        ],
        [
         "15",
         "Sports",
         "by Paul Upham: It was a fight that was to receive national exposure in the USA on ESPN2 #39;s #39;Friday Night Fights on September 3, until the arrival of Hurricane Frances and it #39;s devastating impact on Florida caused the cancellation of the entire Warrior #39;s "
        ],
        [
         "16",
         "Business",
         " NEW YORK (Reuters) - Kraft Foods Inc. &lt;A HREF=\"http://www.investor.reuters.com/FullQuote.aspx?ticker=KFT.N target=/stocks/quickinfo/fullquote\"&gt;KFT.N&lt;/A&gt;, the top U.S.  food maker, said on Tuesday its board increased the company's  dividend by about 13.9 percent."
        ],
        [
         "17",
         "Sports",
         "AP - Jordan Palmer threw a 25-yard touchdown pass to Johnnie Lee to give No. 23 Texas-El Paso the lead in double overtime, then Rice's Ed Bailey fumbled on the 2 to give the Miners a 35-28 victory Saturday night."
        ],
        [
         "18",
         "Sci_Tech",
         "The Open Source Development Labs has gone into the soothsayer business and - based on research that it had IDC run up - says that the global Linux market will be worth \\$35.7 billion in 2008."
        ],
        [
         "19",
         "Sports",
         "AP - Jeff Brehaut shot an 11-under 61 Friday and took a two-stroke lead halfway through the PGA Tour's final qualifying tournament."
        ]
       ],
       "shape": {
        "columns": 2,
        "rows": 20
       }
      },
      "text/html": [
       "<div>\n",
       "<style scoped>\n",
       "    .dataframe tbody tr th:only-of-type {\n",
       "        vertical-align: middle;\n",
       "    }\n",
       "\n",
       "    .dataframe tbody tr th {\n",
       "        vertical-align: top;\n",
       "    }\n",
       "\n",
       "    .dataframe thead th {\n",
       "        text-align: right;\n",
       "    }\n",
       "</style>\n",
       "<table border=\"1\" class=\"dataframe\">\n",
       "  <thead>\n",
       "    <tr style=\"text-align: right;\">\n",
       "      <th></th>\n",
       "      <th>label</th>\n",
       "      <th>body</th>\n",
       "    </tr>\n",
       "  </thead>\n",
       "  <tbody>\n",
       "    <tr>\n",
       "      <th>0</th>\n",
       "      <td>Sci_Tech</td>\n",
       "      <td>Mobile phone giant Nokia has unveiled its firs...</td>\n",
       "    </tr>\n",
       "    <tr>\n",
       "      <th>1</th>\n",
       "      <td>Sports</td>\n",
       "      <td>ADELAIDE, Nov 30: Australia crushed New Zealan...</td>\n",
       "    </tr>\n",
       "    <tr>\n",
       "      <th>2</th>\n",
       "      <td>Sports</td>\n",
       "      <td>Flinching in the trenches, holding around quar...</td>\n",
       "    </tr>\n",
       "    <tr>\n",
       "      <th>3</th>\n",
       "      <td>Sports</td>\n",
       "      <td>Miami Dolphins owner Wayne Huizenga and presid...</td>\n",
       "    </tr>\n",
       "    <tr>\n",
       "      <th>4</th>\n",
       "      <td>Sci_Tech</td>\n",
       "      <td>InfoWorld - PeopleSoft's Board of Directors vo...</td>\n",
       "    </tr>\n",
       "    <tr>\n",
       "      <th>5</th>\n",
       "      <td>Sci_Tech</td>\n",
       "      <td>AP - Edward Bitet fought in World War II, buil...</td>\n",
       "    </tr>\n",
       "    <tr>\n",
       "      <th>6</th>\n",
       "      <td>Business</td>\n",
       "      <td>LARRY Ellison, the chief executive of software...</td>\n",
       "    </tr>\n",
       "    <tr>\n",
       "      <th>7</th>\n",
       "      <td>Sci_Tech</td>\n",
       "      <td>AP - Indonesian police on Tuesday summoned the...</td>\n",
       "    </tr>\n",
       "    <tr>\n",
       "      <th>8</th>\n",
       "      <td>World</td>\n",
       "      <td>AP - Police defused a time-bomb in a town near...</td>\n",
       "    </tr>\n",
       "    <tr>\n",
       "      <th>9</th>\n",
       "      <td>World</td>\n",
       "      <td>A full season has passed since the UN Security...</td>\n",
       "    </tr>\n",
       "    <tr>\n",
       "      <th>10</th>\n",
       "      <td>Sci_Tech</td>\n",
       "      <td>November 03, 2004 - The addictive brutality an...</td>\n",
       "    </tr>\n",
       "    <tr>\n",
       "      <th>11</th>\n",
       "      <td>Sports</td>\n",
       "      <td>AP - Gerald Williams and Eric Valent hit solo ...</td>\n",
       "    </tr>\n",
       "    <tr>\n",
       "      <th>12</th>\n",
       "      <td>World</td>\n",
       "      <td>The Palestinians have taken a double hit this ...</td>\n",
       "    </tr>\n",
       "    <tr>\n",
       "      <th>13</th>\n",
       "      <td>Sci_Tech</td>\n",
       "      <td>Hitachi Global Storage Technologies Inc. and I...</td>\n",
       "    </tr>\n",
       "    <tr>\n",
       "      <th>14</th>\n",
       "      <td>Sci_Tech</td>\n",
       "      <td>The new desktops, priced between \\$600 and \\$7...</td>\n",
       "    </tr>\n",
       "    <tr>\n",
       "      <th>15</th>\n",
       "      <td>Sports</td>\n",
       "      <td>by Paul Upham: It was a fight that was to rece...</td>\n",
       "    </tr>\n",
       "    <tr>\n",
       "      <th>16</th>\n",
       "      <td>Business</td>\n",
       "      <td>NEW YORK (Reuters) - Kraft Foods Inc. &amp;lt;A H...</td>\n",
       "    </tr>\n",
       "    <tr>\n",
       "      <th>17</th>\n",
       "      <td>Sports</td>\n",
       "      <td>AP - Jordan Palmer threw a 25-yard touchdown p...</td>\n",
       "    </tr>\n",
       "    <tr>\n",
       "      <th>18</th>\n",
       "      <td>Sci_Tech</td>\n",
       "      <td>The Open Source Development Labs has gone into...</td>\n",
       "    </tr>\n",
       "    <tr>\n",
       "      <th>19</th>\n",
       "      <td>Sports</td>\n",
       "      <td>AP - Jeff Brehaut shot an 11-under 61 Friday a...</td>\n",
       "    </tr>\n",
       "  </tbody>\n",
       "</table>\n",
       "</div>"
      ],
      "text/plain": [
       "       label                                               body\n",
       "0   Sci_Tech  Mobile phone giant Nokia has unveiled its firs...\n",
       "1     Sports  ADELAIDE, Nov 30: Australia crushed New Zealan...\n",
       "2     Sports  Flinching in the trenches, holding around quar...\n",
       "3     Sports  Miami Dolphins owner Wayne Huizenga and presid...\n",
       "4   Sci_Tech  InfoWorld - PeopleSoft's Board of Directors vo...\n",
       "5   Sci_Tech  AP - Edward Bitet fought in World War II, buil...\n",
       "6   Business  LARRY Ellison, the chief executive of software...\n",
       "7   Sci_Tech  AP - Indonesian police on Tuesday summoned the...\n",
       "8      World  AP - Police defused a time-bomb in a town near...\n",
       "9      World  A full season has passed since the UN Security...\n",
       "10  Sci_Tech  November 03, 2004 - The addictive brutality an...\n",
       "11    Sports  AP - Gerald Williams and Eric Valent hit solo ...\n",
       "12     World  The Palestinians have taken a double hit this ...\n",
       "13  Sci_Tech  Hitachi Global Storage Technologies Inc. and I...\n",
       "14  Sci_Tech  The new desktops, priced between \\$600 and \\$7...\n",
       "15    Sports  by Paul Upham: It was a fight that was to rece...\n",
       "16  Business   NEW YORK (Reuters) - Kraft Foods Inc. &lt;A H...\n",
       "17    Sports  AP - Jordan Palmer threw a 25-yard touchdown p...\n",
       "18  Sci_Tech  The Open Source Development Labs has gone into...\n",
       "19    Sports  AP - Jeff Brehaut shot an 11-under 61 Friday a..."
      ]
     },
     "execution_count": 6,
     "metadata": {},
     "output_type": "execute_result"
    }
   ],
   "source": [
    "# read data from disk and examine\n",
    "news = pd.read_csv(os.path.join('..', 'data', 'news', 'news_text.csv.gz'))\n",
    "news.head(20)"
   ]
  },
  {
   "cell_type": "markdown",
   "metadata": {},
   "source": [
    "I bet those datelines will be a problem. Let's get rid of them."
   ]
  },
  {
   "cell_type": "code",
   "execution_count": 7,
   "metadata": {
    "tags": []
   },
   "outputs": [],
   "source": [
    "# a function to get rid of datelines at the start of articles\n",
    "#  matches one or more hyphens or colons in first 40 chars,\n",
    "#  drops everything before that match (plus the match itself)\n",
    "pattern = '[-:]+ '\n",
    "matcher = re.compile(pattern) # compiled regexs are faster\n",
    "\n",
    "def remove_dateline(text, matcher=matcher):\n",
    "    '''\n",
    "    Remove source names and datelines from a text string\n",
    "    If there is a hyphen or colon in the first 40 characters, \n",
    "      drops everything before the hyphen(s)/colon(s)\n",
    "    If no hyphen/colon, do nothing\n",
    "    Return processed string\n",
    "    '''\n",
    "    result = matcher.search(text, endpos=40)\n",
    "    if result:\n",
    "        return text[result.end():]\n",
    "    else:\n",
    "        return text"
   ]
  },
  {
   "cell_type": "code",
   "execution_count": 8,
   "metadata": {
    "tags": []
   },
   "outputs": [],
   "source": [
    "# clean article text\n",
    "news['body'] = news['body'].apply(remove_dateline)"
   ]
  },
  {
   "cell_type": "code",
   "execution_count": 9,
   "metadata": {
    "tags": []
   },
   "outputs": [
    {
     "data": {
      "application/vnd.microsoft.datawrangler.viewer.v0+json": {
       "columns": [
        {
         "name": "index",
         "rawType": "int64",
         "type": "integer"
        },
        {
         "name": "label",
         "rawType": "object",
         "type": "string"
        },
        {
         "name": "body",
         "rawType": "object",
         "type": "string"
        }
       ],
       "ref": "1ca817c3-ad81-431e-8391-677f244ac5a5",
       "rows": [
        [
         "0",
         "Sci_Tech",
         "Mobile phone giant Nokia has unveiled its first product to incorporate the NFC (Near Field Communication) shell. Backed by Nokia, Philips and Sony, NFC is a new wireless communications function which is hoped "
        ],
        [
         "1",
         "Sports",
         "Australia crushed New Zealand by 213 runs on the final day of the second Test to complete a series clean sweep at Adelaide Oval on Tuesday."
        ],
        [
         "2",
         "Sports",
         "Flinching in the trenches, holding around quarterback Chris Leak and even a late hit by punter Eric Wilbur plagued Florida throughout the game."
        ],
        [
         "3",
         "Sports",
         "Miami Dolphins owner Wayne Huizenga and president Eddie Jones met with LSU coach Nick Saban in Baton Rouge, La., on Tuesday night, in what both sides called  quot;a preliminary conversation quot; about the team #39;s search for a coach."
        ],
        [
         "4",
         "Sci_Tech",
         "PeopleSoft's Board of Directors voted Wednesday to recommend that its stockholders reject Oracle's takeover offer of  #36;24 per share. Oracle CEO Larry Ellison quickly responded, saying the offer is final and that it is now up to PeopleSoft's shareholders to make a determination."
        ],
        [
         "5",
         "Sci_Tech",
         "Edward Bitet fought in World War II, built affordable housing for veterans and taught sixth grade. When the Long Island native retired to Florida, he fulfilled another civic duty by becoming a poll worker. But Bitet, 77, isn't volunteering this year  #151; he says he doesn't trust Palm Beach County's electronic voting machines. He walked out of a county demonstration of touch-screen terminals convinced that software bugs could wreak havoc on Nov. 2."
        ],
        [
         "6",
         "Business",
         "LARRY Ellison, the chief executive of software maker Oracle, earned \\$US3.85 million (\\$5.53 million) in salary and bonus for the financial year that ended May 31."
        ],
        [
         "7",
         "Sci_Tech",
         "Indonesian police on Tuesday summoned the American director and two other foreign staffers of a U.S.-based mining company for questioning over the alleged contamination of a bay in eastern Indonesia."
        ],
        [
         "8",
         "World",
         "Police defused a time-bomb in a town near Prime Minister Silvio Berlusconi's villa on the island of Sardinia on Wednesday shortly after British Prime Minister Tony Blair finished a visit there with the Italian leader."
        ],
        [
         "9",
         "World",
         "A full season has passed since the UN Security Council gave the government in Sudan one month to stop its campaign of ethnic cleansing in the region of Darfur."
        ],
        [
         "10",
         "Sci_Tech",
         "The addictive brutality and enveloping strategy of the Dynasty Warriors has always seemed perfect for a portable, making the PSP edition of the series easily one of the most anticipated games for the PlayStation Portable system so far."
        ],
        [
         "11",
         "Sports",
         "Gerald Williams and Eric Valent hit solo home runs to give the New York Mets a 2-1 victory over the Atlanta Braves in the first game of a doubleheader Tuesday."
        ],
        [
         "12",
         "World",
         "The Palestinians have taken a double hit this week with the news that Washington has quietly softened its opposition to growth in Jewish settlements in the West Bank and Gaza Strip, and Israel #39;s announcement of plans to build 530 new settler homes in the "
        ],
        [
         "13",
         "Sci_Tech",
         "Hitachi Global Storage Technologies Inc. and Intel Corp. have joined in supporting an interface technology proposed for compact hard-disk drives used in portable music players, handheld computers and mobile phones."
        ],
        [
         "14",
         "Sci_Tech",
         "The new desktops, priced between \\$600 and \\$715, target families, students and small businesses."
        ],
        [
         "15",
         "Sports",
         "It was a fight that was to receive national exposure in the USA on ESPN2 #39;s #39;Friday Night Fights on September 3, until the arrival of Hurricane Frances and it #39;s devastating impact on Florida caused the cancellation of the entire Warrior #39;s "
        ],
        [
         "16",
         "Business",
         "Kraft Foods Inc. &lt;A HREF=\"http://www.investor.reuters.com/FullQuote.aspx?ticker=KFT.N target=/stocks/quickinfo/fullquote\"&gt;KFT.N&lt;/A&gt;, the top U.S.  food maker, said on Tuesday its board increased the company's  dividend by about 13.9 percent."
        ],
        [
         "17",
         "Sports",
         "Jordan Palmer threw a 25-yard touchdown pass to Johnnie Lee to give No. 23 Texas-El Paso the lead in double overtime, then Rice's Ed Bailey fumbled on the 2 to give the Miners a 35-28 victory Saturday night."
        ],
        [
         "18",
         "Sci_Tech",
         "The Open Source Development Labs has gone into the soothsayer business and - based on research that it had IDC run up - says that the global Linux market will be worth \\$35.7 billion in 2008."
        ],
        [
         "19",
         "Sports",
         "Jeff Brehaut shot an 11-under 61 Friday and took a two-stroke lead halfway through the PGA Tour's final qualifying tournament."
        ]
       ],
       "shape": {
        "columns": 2,
        "rows": 20
       }
      },
      "text/html": [
       "<div>\n",
       "<style scoped>\n",
       "    .dataframe tbody tr th:only-of-type {\n",
       "        vertical-align: middle;\n",
       "    }\n",
       "\n",
       "    .dataframe tbody tr th {\n",
       "        vertical-align: top;\n",
       "    }\n",
       "\n",
       "    .dataframe thead th {\n",
       "        text-align: right;\n",
       "    }\n",
       "</style>\n",
       "<table border=\"1\" class=\"dataframe\">\n",
       "  <thead>\n",
       "    <tr style=\"text-align: right;\">\n",
       "      <th></th>\n",
       "      <th>label</th>\n",
       "      <th>body</th>\n",
       "    </tr>\n",
       "  </thead>\n",
       "  <tbody>\n",
       "    <tr>\n",
       "      <th>0</th>\n",
       "      <td>Sci_Tech</td>\n",
       "      <td>Mobile phone giant Nokia has unveiled its firs...</td>\n",
       "    </tr>\n",
       "    <tr>\n",
       "      <th>1</th>\n",
       "      <td>Sports</td>\n",
       "      <td>Australia crushed New Zealand by 213 runs on t...</td>\n",
       "    </tr>\n",
       "    <tr>\n",
       "      <th>2</th>\n",
       "      <td>Sports</td>\n",
       "      <td>Flinching in the trenches, holding around quar...</td>\n",
       "    </tr>\n",
       "    <tr>\n",
       "      <th>3</th>\n",
       "      <td>Sports</td>\n",
       "      <td>Miami Dolphins owner Wayne Huizenga and presid...</td>\n",
       "    </tr>\n",
       "    <tr>\n",
       "      <th>4</th>\n",
       "      <td>Sci_Tech</td>\n",
       "      <td>PeopleSoft's Board of Directors voted Wednesda...</td>\n",
       "    </tr>\n",
       "    <tr>\n",
       "      <th>5</th>\n",
       "      <td>Sci_Tech</td>\n",
       "      <td>Edward Bitet fought in World War II, built aff...</td>\n",
       "    </tr>\n",
       "    <tr>\n",
       "      <th>6</th>\n",
       "      <td>Business</td>\n",
       "      <td>LARRY Ellison, the chief executive of software...</td>\n",
       "    </tr>\n",
       "    <tr>\n",
       "      <th>7</th>\n",
       "      <td>Sci_Tech</td>\n",
       "      <td>Indonesian police on Tuesday summoned the Amer...</td>\n",
       "    </tr>\n",
       "    <tr>\n",
       "      <th>8</th>\n",
       "      <td>World</td>\n",
       "      <td>Police defused a time-bomb in a town near Prim...</td>\n",
       "    </tr>\n",
       "    <tr>\n",
       "      <th>9</th>\n",
       "      <td>World</td>\n",
       "      <td>A full season has passed since the UN Security...</td>\n",
       "    </tr>\n",
       "    <tr>\n",
       "      <th>10</th>\n",
       "      <td>Sci_Tech</td>\n",
       "      <td>The addictive brutality and enveloping strateg...</td>\n",
       "    </tr>\n",
       "    <tr>\n",
       "      <th>11</th>\n",
       "      <td>Sports</td>\n",
       "      <td>Gerald Williams and Eric Valent hit solo home ...</td>\n",
       "    </tr>\n",
       "    <tr>\n",
       "      <th>12</th>\n",
       "      <td>World</td>\n",
       "      <td>The Palestinians have taken a double hit this ...</td>\n",
       "    </tr>\n",
       "    <tr>\n",
       "      <th>13</th>\n",
       "      <td>Sci_Tech</td>\n",
       "      <td>Hitachi Global Storage Technologies Inc. and I...</td>\n",
       "    </tr>\n",
       "    <tr>\n",
       "      <th>14</th>\n",
       "      <td>Sci_Tech</td>\n",
       "      <td>The new desktops, priced between \\$600 and \\$7...</td>\n",
       "    </tr>\n",
       "    <tr>\n",
       "      <th>15</th>\n",
       "      <td>Sports</td>\n",
       "      <td>It was a fight that was to receive national ex...</td>\n",
       "    </tr>\n",
       "    <tr>\n",
       "      <th>16</th>\n",
       "      <td>Business</td>\n",
       "      <td>Kraft Foods Inc. &amp;lt;A HREF=\"http://www.invest...</td>\n",
       "    </tr>\n",
       "    <tr>\n",
       "      <th>17</th>\n",
       "      <td>Sports</td>\n",
       "      <td>Jordan Palmer threw a 25-yard touchdown pass t...</td>\n",
       "    </tr>\n",
       "    <tr>\n",
       "      <th>18</th>\n",
       "      <td>Sci_Tech</td>\n",
       "      <td>The Open Source Development Labs has gone into...</td>\n",
       "    </tr>\n",
       "    <tr>\n",
       "      <th>19</th>\n",
       "      <td>Sports</td>\n",
       "      <td>Jeff Brehaut shot an 11-under 61 Friday and to...</td>\n",
       "    </tr>\n",
       "  </tbody>\n",
       "</table>\n",
       "</div>"
      ],
      "text/plain": [
       "       label                                               body\n",
       "0   Sci_Tech  Mobile phone giant Nokia has unveiled its firs...\n",
       "1     Sports  Australia crushed New Zealand by 213 runs on t...\n",
       "2     Sports  Flinching in the trenches, holding around quar...\n",
       "3     Sports  Miami Dolphins owner Wayne Huizenga and presid...\n",
       "4   Sci_Tech  PeopleSoft's Board of Directors voted Wednesda...\n",
       "5   Sci_Tech  Edward Bitet fought in World War II, built aff...\n",
       "6   Business  LARRY Ellison, the chief executive of software...\n",
       "7   Sci_Tech  Indonesian police on Tuesday summoned the Amer...\n",
       "8      World  Police defused a time-bomb in a town near Prim...\n",
       "9      World  A full season has passed since the UN Security...\n",
       "10  Sci_Tech  The addictive brutality and enveloping strateg...\n",
       "11    Sports  Gerald Williams and Eric Valent hit solo home ...\n",
       "12     World  The Palestinians have taken a double hit this ...\n",
       "13  Sci_Tech  Hitachi Global Storage Technologies Inc. and I...\n",
       "14  Sci_Tech  The new desktops, priced between \\$600 and \\$7...\n",
       "15    Sports  It was a fight that was to receive national ex...\n",
       "16  Business  Kraft Foods Inc. &lt;A HREF=\"http://www.invest...\n",
       "17    Sports  Jordan Palmer threw a 25-yard touchdown pass t...\n",
       "18  Sci_Tech  The Open Source Development Labs has gone into...\n",
       "19    Sports  Jeff Brehaut shot an 11-under 61 Friday and to..."
      ]
     },
     "execution_count": 9,
     "metadata": {},
     "output_type": "execute_result"
    }
   ],
   "source": [
    "# confirm articles are cleaned\n",
    "news.head(20)"
   ]
  },
  {
   "cell_type": "markdown",
   "metadata": {},
   "source": [
    "### Compute token counts"
   ]
  },
  {
   "cell_type": "code",
   "execution_count": 10,
   "metadata": {
    "tags": []
   },
   "outputs": [
    {
     "data": {
      "text/plain": [
       "(127600, 3486)"
      ]
     },
     "execution_count": 10,
     "metadata": {},
     "output_type": "execute_result"
    }
   ],
   "source": [
    "# set up a vectorizer object\n",
    "count_vectorizer = CountVectorizer(\n",
    "    strip_accents='unicode', # collapse accents to base character\n",
    "    stop_words=None, # do not remove stop words\n",
    "    binary=False, # do not binarize features\n",
    "    #max_features=1000,\n",
    "    min_df=0.001 # limit features to those that occur in at least 0.1% of articles\n",
    ")\n",
    "\n",
    "# perform vectorization\n",
    "X = count_vectorizer.fit_transform(news['body'])\n",
    "\n",
    "# vectorized shape\n",
    "X.shape"
   ]
  },
  {
   "cell_type": "code",
   "execution_count": 11,
   "metadata": {
    "tags": []
   },
   "outputs": [
    {
     "data": {
      "text/plain": [
       "array(['amd', 'america', 'american', 'americans', 'amid', 'among',\n",
       "       'amount', 'amp', 'an', 'anaheim'], dtype=object)"
      ]
     },
     "execution_count": 11,
     "metadata": {},
     "output_type": "execute_result"
    }
   ],
   "source": [
    "# what do the columns measure?\n",
    "count_vectorizer.get_feature_names_out()[200:210]"
   ]
  },
  {
   "cell_type": "code",
   "execution_count": 12,
   "metadata": {
    "tags": []
   },
   "outputs": [
    {
     "data": {
      "text/plain": [
       "np.int64(3216050)"
      ]
     },
     "execution_count": 12,
     "metadata": {},
     "output_type": "execute_result"
    }
   ],
   "source": [
    "# total word count in our corpus?\n",
    "X.sum()"
   ]
  },
  {
   "cell_type": "markdown",
   "metadata": {},
   "source": [
    "This corpus isn't very big. Or, well, the documents are pretty short, on average: 3.2M words / 127k documents = about 25 words per document. This fact will make classification a little harder than it would be if we had full documents."
   ]
  },
  {
   "cell_type": "markdown",
   "metadata": {},
   "source": [
    "### Classify sports (vs everything else)\n",
    "\n",
    "We'll try **Bernouli naïve Bayes**, **Multinomial naïve Bayes**, and **Gaussian naïve Bayes** classifiers. The difference is that the Bernouli version first transforms our input features into ones and zeros, thereby coding for the presence or absence of each word in each document (but not accounting for how many times the word occurs in the document). Multinomial NB does not binarize inputs, so accounts for the number of occurrences. But Multinomial NB *does* expect nonnegative integers as input. Gaussian NB works with continuous inputs.\n",
    "\n",
    "There's no principled reason to prefer Bernouli, multinomial, or Gaussian NB. Use whichever one produces better results on your data (and is suitable for the type of input data you're using). Bernouli can be useful in the case where most documents use any word only a few times at most, rare documents use some words very many times, but you don't consider the rare, high-usage documents to be fundamentally unlike the other documents that use the same words just a few times.\n",
    "\n",
    "**Remember:** when we call `.fit()` (as we do explicitly here, or under the hood of `cross_val_score`, for example), what we're learning are the empirical probabilities of each word in each class."
   ]
  },
  {
   "cell_type": "code",
   "execution_count": 13,
   "metadata": {
    "tags": []
   },
   "outputs": [
    {
     "data": {
      "text/plain": [
       "array(['Sci_Tech', 'Sports', 'Business', 'World'], dtype=object)"
      ]
     },
     "execution_count": 13,
     "metadata": {},
     "output_type": "execute_result"
    }
   ],
   "source": [
    "news.label.unique()"
   ]
  },
  {
   "cell_type": "code",
   "execution_count": 14,
   "metadata": {
    "tags": []
   },
   "outputs": [
    {
     "data": {
      "application/vnd.microsoft.datawrangler.viewer.v0+json": {
       "columns": [
        {
         "name": "label",
         "rawType": "object",
         "type": "string"
        },
        {
         "name": "count",
         "rawType": "int64",
         "type": "integer"
        }
       ],
       "ref": "87c83a58-e74b-4161-9b5f-8c9bfc4ad8cf",
       "rows": [
        [
         "Sci_Tech",
         "31900"
        ],
        [
         "Sports",
         "31900"
        ],
        [
         "Business",
         "31900"
        ],
        [
         "World",
         "31900"
        ]
       ],
       "shape": {
        "columns": 1,
        "rows": 4
       }
      },
      "text/plain": [
       "label\n",
       "Sci_Tech    31900\n",
       "Sports      31900\n",
       "Business    31900\n",
       "World       31900\n",
       "Name: count, dtype: int64"
      ]
     },
     "execution_count": 14,
     "metadata": {},
     "output_type": "execute_result"
    }
   ],
   "source": [
    "news.label.value_counts()"
   ]
  },
  {
   "cell_type": "code",
   "execution_count": 15,
   "metadata": {
    "tags": []
   },
   "outputs": [],
   "source": [
    "# make boolean array of sports/other labels\n",
    "y = news['label'] == 'Sports'"
   ]
  },
  {
   "cell_type": "code",
   "execution_count": 17,
   "metadata": {},
   "outputs": [
    {
     "data": {
      "application/vnd.microsoft.datawrangler.viewer.v0+json": {
       "columns": [
        {
         "name": "index",
         "rawType": "int64",
         "type": "integer"
        },
        {
         "name": "label",
         "rawType": "bool",
         "type": "boolean"
        }
       ],
       "ref": "ba728588-37b3-4cc5-936d-cbc6fe0907cb",
       "rows": [
        [
         "0",
         "False"
        ],
        [
         "1",
         "True"
        ],
        [
         "2",
         "True"
        ],
        [
         "3",
         "True"
        ],
        [
         "4",
         "False"
        ],
        [
         "5",
         "False"
        ],
        [
         "6",
         "False"
        ],
        [
         "7",
         "False"
        ],
        [
         "8",
         "False"
        ],
        [
         "9",
         "False"
        ],
        [
         "10",
         "False"
        ],
        [
         "11",
         "True"
        ],
        [
         "12",
         "False"
        ],
        [
         "13",
         "False"
        ],
        [
         "14",
         "False"
        ],
        [
         "15",
         "True"
        ],
        [
         "16",
         "False"
        ],
        [
         "17",
         "True"
        ],
        [
         "18",
         "False"
        ],
        [
         "19",
         "True"
        ],
        [
         "20",
         "False"
        ],
        [
         "21",
         "False"
        ],
        [
         "22",
         "False"
        ],
        [
         "23",
         "False"
        ],
        [
         "24",
         "False"
        ],
        [
         "25",
         "False"
        ],
        [
         "26",
         "True"
        ],
        [
         "27",
         "True"
        ],
        [
         "28",
         "False"
        ],
        [
         "29",
         "True"
        ],
        [
         "30",
         "True"
        ],
        [
         "31",
         "False"
        ],
        [
         "32",
         "False"
        ],
        [
         "33",
         "False"
        ],
        [
         "34",
         "False"
        ],
        [
         "35",
         "False"
        ],
        [
         "36",
         "True"
        ],
        [
         "37",
         "False"
        ],
        [
         "38",
         "False"
        ],
        [
         "39",
         "False"
        ],
        [
         "40",
         "False"
        ],
        [
         "41",
         "True"
        ],
        [
         "42",
         "False"
        ],
        [
         "43",
         "False"
        ],
        [
         "44",
         "False"
        ],
        [
         "45",
         "False"
        ],
        [
         "46",
         "False"
        ],
        [
         "47",
         "False"
        ],
        [
         "48",
         "False"
        ],
        [
         "49",
         "True"
        ]
       ],
       "shape": {
        "columns": 1,
        "rows": 127600
       }
      },
      "text/plain": [
       "0         False\n",
       "1          True\n",
       "2          True\n",
       "3          True\n",
       "4         False\n",
       "          ...  \n",
       "127595     True\n",
       "127596     True\n",
       "127597     True\n",
       "127598    False\n",
       "127599    False\n",
       "Name: label, Length: 127600, dtype: bool"
      ]
     },
     "execution_count": 17,
     "metadata": {},
     "output_type": "execute_result"
    }
   ],
   "source": [
    "y"
   ]
  },
  {
   "cell_type": "code",
   "execution_count": 16,
   "metadata": {},
   "outputs": [
    {
     "data": {
      "text/plain": [
       "(127600,)"
      ]
     },
     "execution_count": 16,
     "metadata": {},
     "output_type": "execute_result"
    }
   ],
   "source": [
    "y.shape"
   ]
  },
  {
   "cell_type": "code",
   "execution_count": 18,
   "metadata": {
    "tags": []
   },
   "outputs": [],
   "source": [
    "# split into train and test sets\n",
    "# --> limit to 1000 articles for demo purposes <--\n",
    "X_train, X_test, y_train, y_test = train_test_split(X[:1000], y[:1000])"
   ]
  },
  {
   "cell_type": "code",
   "execution_count": 19,
   "metadata": {
    "tags": []
   },
   "outputs": [
    {
     "name": "stdout",
     "output_type": "stream",
     "text": [
      "Performance on TRAINING data\n",
      "              precision    recall  f1-score   support\n",
      "\n",
      "       False       1.00      0.95      0.97       593\n",
      "        True       0.85      0.99      0.91       157\n",
      "\n",
      "    accuracy                           0.96       750\n",
      "   macro avg       0.92      0.97      0.94       750\n",
      "weighted avg       0.97      0.96      0.96       750\n",
      "\n"
     ]
    }
   ],
   "source": [
    "# score BernouliNB classifier on train and test data\n",
    "clf = BernoulliNB().fit(X_train, y_train)\n",
    "y_train_pred = clf.predict(X_train)\n",
    "print(\"Performance on TRAINING data\")\n",
    "print(classification_report(y_train_pred, y_train))"
   ]
  },
  {
   "cell_type": "code",
   "execution_count": 20,
   "metadata": {
    "tags": []
   },
   "outputs": [
    {
     "name": "stdout",
     "output_type": "stream",
     "text": [
      "Performance on TEST data\n",
      "              precision    recall  f1-score   support\n",
      "\n",
      "       False       0.99      0.87      0.93       198\n",
      "        True       0.66      0.98      0.79        52\n",
      "\n",
      "    accuracy                           0.89       250\n",
      "   macro avg       0.83      0.92      0.86       250\n",
      "weighted avg       0.93      0.89      0.90       250\n",
      "\n"
     ]
    }
   ],
   "source": [
    "y_test_pred = clf.predict(X_test)\n",
    "print(\"Performance on TEST data\")\n",
    "print(classification_report(y_test_pred, y_test))"
   ]
  },
  {
   "cell_type": "markdown",
   "metadata": {},
   "source": [
    "There is evidence of overfitting in this case, because we perform significantly better when we make preditions on the training data than when we do the same on held-out test data\n",
    "\n",
    "How about in the multinomial case?"
   ]
  },
  {
   "cell_type": "code",
   "execution_count": 21,
   "metadata": {
    "tags": []
   },
   "outputs": [
    {
     "name": "stdout",
     "output_type": "stream",
     "text": [
      "Performance on TRAINING data\n",
      "              precision    recall  f1-score   support\n",
      "\n",
      "       False       1.00      1.00      1.00       567\n",
      "        True       0.99      0.99      0.99       183\n",
      "\n",
      "    accuracy                           0.99       750\n",
      "   macro avg       0.99      0.99      0.99       750\n",
      "weighted avg       0.99      0.99      0.99       750\n",
      "\n"
     ]
    }
   ],
   "source": [
    "# score Multinomial classifier on train and test data\n",
    "clf = MultinomialNB().fit(X_train, y_train)\n",
    "y_train_pred = clf.predict(X_train)\n",
    "print(\"Performance on TRAINING data\")\n",
    "print(classification_report(y_train_pred, y_train))"
   ]
  },
  {
   "cell_type": "code",
   "execution_count": 22,
   "metadata": {
    "tags": []
   },
   "outputs": [
    {
     "name": "stdout",
     "output_type": "stream",
     "text": [
      "Performance on TEST data\n",
      "              precision    recall  f1-score   support\n",
      "\n",
      "       False       0.96      0.99      0.98       167\n",
      "        True       0.99      0.92      0.95        83\n",
      "\n",
      "    accuracy                           0.97       250\n",
      "   macro avg       0.97      0.95      0.96       250\n",
      "weighted avg       0.97      0.97      0.97       250\n",
      "\n"
     ]
    }
   ],
   "source": [
    "y_test_pred = clf.predict(X_test)\n",
    "print(\"Performance on TEST data\")\n",
    "print(classification_report(y_test_pred, y_test))"
   ]
  },
  {
   "cell_type": "markdown",
   "metadata": {},
   "source": [
    "Multinomial NB performs just a tiny bit better in this case, but not enough to matter, really. And we're obviously still overfitting.\n",
    "\n",
    "Aside: One reason to like NB classifiers is that they're really fast. Sklearn's NB classifiers are over 100 times faster than logistic regression on the same task (and they produce comparable accuracy). This equivalent accuracy won't always be true, of course, but the speedup can be a big plus with large datasets.\n",
    "\n",
    "Bernouli NB is slower than multinomial NB due to binarization overhead. But the difference is trivial here."
   ]
  },
  {
   "cell_type": "markdown",
   "metadata": {},
   "source": [
    "### Select the most informative features\n",
    "\n",
    "Let's see how well we can do with lower-dimension inputs. We'll do this in two ways:\n",
    "\n",
    "1. Rank the input features (token counts) according to the degree to which their presence/absence matches the presence/absence of the `sports` class label. High mutual information between tokens and class labels suggests that a token will be a useful feature for our classifier. We'll also evaluate the *F*-statistic as a criterion and try out permutation importance, too.\n",
    "\n",
    "2. We'll also try dimension reduction via Truncated SVD, as we studied in previous lectures."
   ]
  },
  {
   "cell_type": "markdown",
   "metadata": {},
   "source": [
    "#### Mutual information"
   ]
  },
  {
   "cell_type": "code",
   "execution_count": 23,
   "metadata": {
    "tags": []
   },
   "outputs": [],
   "source": [
    "# calculate mutual info scores btw each feature and the target label\n",
    "mi = mutual_info_classif(X_train, y_train)"
   ]
  },
  {
   "cell_type": "code",
   "execution_count": 24,
   "metadata": {
    "tags": []
   },
   "outputs": [
    {
     "data": {
      "text/plain": [
       "(3486,)"
      ]
     },
     "execution_count": 24,
     "metadata": {},
     "output_type": "execute_result"
    }
   ],
   "source": [
    "mi.shape"
   ]
  },
  {
   "cell_type": "code",
   "execution_count": 25,
   "metadata": {
    "tags": []
   },
   "outputs": [
    {
     "data": {
      "text/plain": [
       "array([1.41203735e-03, 2.82189892e-03, 8.09774144e-05, ...,\n",
       "       8.15770662e-04, 5.20368738e-07, 3.73239057e-04], shape=(3486,))"
      ]
     },
     "execution_count": 25,
     "metadata": {},
     "output_type": "execute_result"
    }
   ],
   "source": [
    "mi"
   ]
  },
  {
   "cell_type": "code",
   "execution_count": 26,
   "metadata": {
    "tags": []
   },
   "outputs": [
    {
     "data": {
      "text/plain": [
       "array([ 810, 1636, 3131, ...,  645,  627, 2240], shape=(3486,))"
      ]
     },
     "execution_count": 26,
     "metadata": {},
     "output_type": "execute_result"
    }
   ],
   "source": [
    "# get indices of mi array, sorted from highest to lowest mutual info\n",
    "mi_indices = np.flip(mi.argsort()) # np.flip reverses order; want high -> low\n",
    "mi_indices"
   ]
  },
  {
   "cell_type": "markdown",
   "metadata": {},
   "source": [
    "**Discuss**: What do you expect to be some of the most informative features (words) for the **sports** catengory? That is, what words occurs often in sports stories, but not very often in other kinds of news articles?"
   ]
  },
  {
   "cell_type": "code",
   "execution_count": 27,
   "metadata": {
    "tags": []
   },
   "outputs": [
    {
     "data": {
      "text/plain": [
       "array(['cup', 'its', 'the', 'game', 'night', 'league', 'his', 'scored',\n",
       "       'round', 'sox'], dtype=object)"
      ]
     },
     "execution_count": 27,
     "metadata": {},
     "output_type": "execute_result"
    }
   ],
   "source": [
    "# the single most informative sports feature\n",
    "count_vectorizer.get_feature_names_out()[mi_indices[0:10]]"
   ]
  },
  {
   "cell_type": "code",
   "execution_count": 28,
   "metadata": {
    "tags": []
   },
   "outputs": [
    {
     "data": {
      "text/plain": [
       "array(['cup', 'its', 'the', 'game', 'night', 'league', 'his', 'scored',\n",
       "       'round', 'sox'], dtype=object)"
      ]
     },
     "execution_count": 28,
     "metadata": {},
     "output_type": "execute_result"
    }
   ],
   "source": [
    "# sort the feature data and column labels\n",
    "X_train_sorted = X_train[:, mi_indices]\n",
    "X_test_sorted = X_test[:, mi_indices]\n",
    "features_sorted = np.array(count_vectorizer.get_feature_names_out())[mi_indices]\n",
    "features_sorted[:10]"
   ]
  },
  {
   "cell_type": "code",
   "execution_count": 31,
   "metadata": {
    "tags": []
   },
   "outputs": [
    {
     "name": "stdout",
     "output_type": "stream",
     "text": [
      "              precision    recall  f1-score   support\n",
      "\n",
      "       False       0.95      0.93      0.94       176\n",
      "        True       0.84      0.88      0.86        74\n",
      "\n",
      "    accuracy                           0.92       250\n",
      "   macro avg       0.90      0.91      0.90       250\n",
      "weighted avg       0.92      0.92      0.92       250\n",
      "\n"
     ]
    }
   ],
   "source": [
    "# performance with top 100 features\n",
    "clf = MultinomialNB().fit(X_train_sorted[:,:100], y_train)\n",
    "y_pred = clf.predict(X_test_sorted[:,:100])\n",
    "print(classification_report(y_pred, y_test))"
   ]
  },
  {
   "cell_type": "markdown",
   "metadata": {},
   "source": [
    "Note that we've suffered just a few points of weighted average F1 decrease despite throwing away all but 100 out of c. 3,500 original features. (Exact performance will vary with every run, depending on the randomization of the train/test split.)"
   ]
  },
  {
   "cell_type": "markdown",
   "metadata": {},
   "source": [
    "Let's see how performance responds in input feature dimensionality in this case."
   ]
  },
  {
   "cell_type": "code",
   "execution_count": 32,
   "metadata": {
    "tags": []
   },
   "outputs": [
    {
     "data": {
      "image/png": "[encoded data removed]",
      "text/plain": [
       "<Figure size 640x480 with 1 Axes>"
      ]
     },
     "metadata": {},
     "output_type": "display_data"
    }
   ],
   "source": [
    "# how does performance respond to number of features used?\n",
    "num_features = [2**i for i in range(1,10)]\n",
    "f1s = []\n",
    "for i in num_features:\n",
    "    clf = MultinomialNB().fit(X_train_sorted[:,:i], y_train)\n",
    "    y_pred = clf.predict(X_test_sorted[:,:i])\n",
    "    f1s.append(f1_score(y_pred, y_test, average='weighted'))\n",
    "\n",
    "plt.scatter(num_features, f1s)\n",
    "plt.xlabel(\"Number of features used\")\n",
    "plt.ylabel(\"f1 score\")\n",
    "plt.show()"
   ]
  },
  {
   "cell_type": "markdown",
   "metadata": {},
   "source": [
    "#### In practice\n",
    "\n",
    "Split into train and test, fit a model, predict class labels, and examine classification errors. This is a typical workflow in production.\n",
    "\n",
    "We can make things a little easier by using the `SelectKBest` method, which handles all of the sorting and indexing that we performed by hand above."
   ]
  },
  {
   "cell_type": "code",
   "execution_count": 33,
   "metadata": {
    "tags": []
   },
   "outputs": [
    {
     "name": "stdout",
     "output_type": "stream",
     "text": [
      "              precision    recall  f1-score   support\n",
      "\n",
      "       False       0.95      0.93      0.94       176\n",
      "        True       0.84      0.88      0.86        74\n",
      "\n",
      "    accuracy                           0.92       250\n",
      "   macro avg       0.90      0.91      0.90       250\n",
      "weighted avg       0.92      0.92      0.92       250\n",
      "\n"
     ]
    }
   ],
   "source": [
    "# using the n most-informative features\n",
    "\n",
    "# fit selector\n",
    "n_features = 100\n",
    "selector = SelectKBest(k=n_features, score_func=mutual_info_classif).fit(X_train, y_train)\n",
    "\n",
    "# select best features\n",
    "X_train_selected = selector.transform(X_train)\n",
    "X_test_selected = selector.transform(X_test)\n",
    "\n",
    "# fit and predict\n",
    "clf = MultinomialNB().fit(X_train_selected, y_train)\n",
    "y_pred = clf.predict(X_test_selected)\n",
    "\n",
    "# examine performance\n",
    "print(classification_report(y_pred, y_test))"
   ]
  },
  {
   "cell_type": "code",
   "execution_count": 35,
   "metadata": {
    "tags": []
   },
   "outputs": [
    {
     "name": "stdout",
     "output_type": "stream",
     "text": [
      "Predictions: 250\n",
      "Errors: 21\n"
     ]
    },
    {
     "data": {
      "application/vnd.microsoft.datawrangler.viewer.v0+json": {
       "columns": [
        {
         "name": "index",
         "rawType": "int64",
         "type": "integer"
        },
        {
         "name": "label",
         "rawType": "object",
         "type": "string"
        },
        {
         "name": "body",
         "rawType": "object",
         "type": "string"
        }
       ],
       "ref": "99f1a78d-7724-4cdc-9e89-4c0af3bb740a",
       "rows": [
        [
         "387",
         "Sports",
         "Diego Maradona was taken to hospital for a time Saturday with breathing problems but was then sent back to a drug treatment center and his life was not in immediate danger, a family member said."
        ],
        [
         "993",
         "Sports",
         "SIR ALEX FERGUSON has accused Arsene Wenger of having a  quot;mental problem quot; with Ruud van Nistelrooy after the Arsenal boss branded the United striker a cheat."
        ],
        [
         "924",
         "Sports",
         "Men -- Hofstra at Dartmouth, 7 p.m. Pro basketball: Utah vs. Celtics at the FleetCenter, 7:30 p.m."
        ],
        [
         "192",
         "Sports",
         "Shrugging off the boos and jeers that delayed the start, Shawn Crawford led an American sweep of the medals in the men #39;s 200-metre race yesterday at the Summer Games."
        ],
        [
         "485",
         "Sports",
         "Chelsea chief executive Peter Kenyon has criticised the seven-month ban handed out to Adrian Mutu, claiming the FA had shown themselves to be  #39;weak over the issue of drugs #39;."
        ]
       ],
       "shape": {
        "columns": 2,
        "rows": 5
       }
      },
      "text/html": [
       "<div>\n",
       "<style scoped>\n",
       "    .dataframe tbody tr th:only-of-type {\n",
       "        vertical-align: middle;\n",
       "    }\n",
       "\n",
       "    .dataframe tbody tr th {\n",
       "        vertical-align: top;\n",
       "    }\n",
       "\n",
       "    .dataframe thead th {\n",
       "        text-align: right;\n",
       "    }\n",
       "</style>\n",
       "<table border=\"1\" class=\"dataframe\">\n",
       "  <thead>\n",
       "    <tr style=\"text-align: right;\">\n",
       "      <th></th>\n",
       "      <th>label</th>\n",
       "      <th>body</th>\n",
       "    </tr>\n",
       "  </thead>\n",
       "  <tbody>\n",
       "    <tr>\n",
       "      <th>387</th>\n",
       "      <td>Sports</td>\n",
       "      <td>Diego Maradona was taken to hospital for a time Saturday with breathing problems but was then sent back to a drug treatment center and his life was not in immediate danger, a family member said.</td>\n",
       "    </tr>\n",
       "    <tr>\n",
       "      <th>993</th>\n",
       "      <td>Sports</td>\n",
       "      <td>SIR ALEX FERGUSON has accused Arsene Wenger of having a  quot;mental problem quot; with Ruud van Nistelrooy after the Arsenal boss branded the United striker a cheat.</td>\n",
       "    </tr>\n",
       "    <tr>\n",
       "      <th>924</th>\n",
       "      <td>Sports</td>\n",
       "      <td>Men -- Hofstra at Dartmouth, 7 p.m. Pro basketball: Utah vs. Celtics at the FleetCenter, 7:30 p.m.</td>\n",
       "    </tr>\n",
       "    <tr>\n",
       "      <th>192</th>\n",
       "      <td>Sports</td>\n",
       "      <td>Shrugging off the boos and jeers that delayed the start, Shawn Crawford led an American sweep of the medals in the men #39;s 200-metre race yesterday at the Summer Games.</td>\n",
       "    </tr>\n",
       "    <tr>\n",
       "      <th>485</th>\n",
       "      <td>Sports</td>\n",
       "      <td>Chelsea chief executive Peter Kenyon has criticised the seven-month ban handed out to Adrian Mutu, claiming the FA had shown themselves to be  #39;weak over the issue of drugs #39;.</td>\n",
       "    </tr>\n",
       "  </tbody>\n",
       "</table>\n",
       "</div>"
      ],
      "text/plain": [
       "      label  \\\n",
       "387  Sports   \n",
       "993  Sports   \n",
       "924  Sports   \n",
       "192  Sports   \n",
       "485  Sports   \n",
       "\n",
       "                                                                                                                                                                                                   body  \n",
       "387  Diego Maradona was taken to hospital for a time Saturday with breathing problems but was then sent back to a drug treatment center and his life was not in immediate danger, a family member said.  \n",
       "993  SIR ALEX FERGUSON has accused Arsene Wenger of having a  quot;mental problem quot; with Ruud van Nistelrooy after the Arsenal boss branded the United striker a cheat.                              \n",
       "924  Men -- Hofstra at Dartmouth, 7 p.m. Pro basketball: Utah vs. Celtics at the FleetCenter, 7:30 p.m.                                                                                                  \n",
       "192  Shrugging off the boos and jeers that delayed the start, Shawn Crawford led an American sweep of the medals in the men #39;s 200-metre race yesterday at the Summer Games.                          \n",
       "485  Chelsea chief executive Peter Kenyon has criticised the seven-month ban handed out to Adrian Mutu, claiming the FA had shown themselves to be  #39;weak over the issue of drugs #39;.               "
      ]
     },
     "metadata": {},
     "output_type": "display_data"
    }
   ],
   "source": [
    "# select erroneous predictions\n",
    "errors = y_test != y_pred             # boolean array of gold/pred mismatches\n",
    "errors = np.where(errors==True)       # index array of test set error locations\n",
    "error_index = y_test.index[errors[0]] # map test-set error positions to original indices\n",
    "\n",
    "news_errors = news.loc[error_index, ['label', 'body']] # select errors from original data\n",
    "\n",
    "print(\"Predictions:\", len(y_pred))\n",
    "print(\"Errors:\", len(error_index))\n",
    "\n",
    "with pd.option_context('display.max_colwidth', 0): # display errors\n",
    "    display(news_errors.sample(5))"
   ]
  },
  {
   "cell_type": "markdown",
   "metadata": {},
   "source": [
    "#### Truncated SVD\n",
    "\n",
    "Compare performance using SVD in place of most-informative features.\n",
    "\n",
    "**N.B.** In lecture, we talked about **standardizing** our input features before performing SVD, so that the variance isn't dominated simply by high-frequency words (in this case, words like \"and\" and \"the\" - we didn't perform stopword removal). Here, we're going to skip that step, so that we can preserve input sparsity (hence, computational and memory efficiency).\n",
    "\n",
    "If we *were* going to standardize our features, we'd do something like:\n",
    "\n",
    "```\n",
    "scaler = StandardScaler()\n",
    "X_scaled = scaler.fit_transform(X.toarray()) # cast input to dense array\n",
    "```\n",
    "We would need to transform our input matrix to dense format with `.toarray()`, since `StandardScaler` refuses to break sparsity. And if we were going to do all that, we'd be performing PCA anyway, so we'd just use PCA in that case."
   ]
  },
  {
   "cell_type": "code",
   "execution_count": 36,
   "metadata": {
    "tags": []
   },
   "outputs": [
    {
     "data": {
      "text/plain": [
       "(750, 100)"
      ]
     },
     "execution_count": 36,
     "metadata": {},
     "output_type": "execute_result"
    }
   ],
   "source": [
    "# reduce input dimensionality\n",
    "reducer = TruncatedSVD(n_components=100)\n",
    "X_train_reduced = reducer.fit_transform(X_train)\n",
    "X_test_reduced = reducer.transform(X_test)\n",
    "X_train_reduced.shape"
   ]
  },
  {
   "cell_type": "code",
   "execution_count": 37,
   "metadata": {
    "tags": []
   },
   "outputs": [
    {
     "data": {
      "text/plain": [
       "array([ 1.92210822e+00,  8.27994138e-03,  1.03292100e+00,  8.85767553e-01,\n",
       "        2.17473944e-01, -1.17946810e+00,  2.37230900e-01,  6.83407212e-01,\n",
       "        8.46601472e-02,  5.27076157e-01,  4.35243166e-01, -2.60105672e-01,\n",
       "       -5.18207765e-01, -5.69962365e-02,  1.16869586e-02, -2.51949886e-02,\n",
       "       -2.99489315e-01, -2.60358531e-01,  1.26348270e-02,  1.76826833e-01,\n",
       "        1.28009484e-01,  2.00536093e-01,  5.42336393e-02, -7.76114774e-02,\n",
       "       -4.49418612e-01,  4.17631247e-01,  3.14043720e-01,  2.47635214e-02,\n",
       "       -2.38767439e-01, -3.48515188e-01,  3.38645449e-02, -4.18129585e-02,\n",
       "       -1.44711661e-01,  1.88628289e-03,  1.19694016e-01,  2.14563072e-02,\n",
       "       -6.24628770e-02, -4.88823225e-02,  1.97204873e-01,  1.92879968e-01,\n",
       "        2.78105329e-01, -2.33242592e-01,  2.55554294e-01,  1.65449594e-02,\n",
       "       -3.68707478e-02,  2.47743418e-01,  1.12652876e-01, -2.87947303e-01,\n",
       "        4.66704507e-02, -4.70531693e-01, -6.22056191e-01,  3.02375926e-02,\n",
       "        1.32928745e-01, -1.38672499e-01,  1.20528486e-01,  4.04758386e-01,\n",
       "        1.40158373e-01,  2.72312009e-01,  1.64352207e-01, -3.78928667e-01,\n",
       "        5.53738685e-02,  1.85609388e-01, -2.22616612e-01, -4.00331252e-01,\n",
       "        1.69132309e-01,  1.83929147e-01,  2.13433708e-01, -2.38704374e-01,\n",
       "        4.96537137e-01,  2.65396153e-01, -1.85663168e-01,  4.44912643e-01,\n",
       "       -6.96262542e-03,  6.47183037e-02,  1.49027344e-02,  1.66373962e-01,\n",
       "       -2.90904126e-01,  1.76799889e-01,  1.03098397e-01,  3.35519656e-03,\n",
       "        1.79446894e-01, -4.19754517e-03, -2.45267560e-01,  7.87404738e-02,\n",
       "       -1.15177390e-01,  8.31559422e-02,  2.62533799e-01, -1.81918374e-02,\n",
       "       -1.66917913e-02, -1.30957184e-01, -2.97537378e-01, -1.25444147e-02,\n",
       "       -1.18155899e-01, -4.98838898e-03, -2.13802334e-01, -1.58799753e-01,\n",
       "       -2.97995855e-01,  8.05862585e-02, -4.31561311e-02, -1.03374428e-01])"
      ]
     },
     "execution_count": 37,
     "metadata": {},
     "output_type": "execute_result"
    }
   ],
   "source": [
    "# examine new features for the first document\n",
    "X_train_reduced[0]"
   ]
  },
  {
   "cell_type": "code",
   "execution_count": 38,
   "metadata": {
    "tags": []
   },
   "outputs": [
    {
     "data": {
      "text/plain": [
       "array([[ 0.00585267,  0.00861024,  0.00106873, ...,  0.00228388,\n",
       "         0.0018899 ,  0.00033672],\n",
       "       [ 0.00243039,  0.01456716,  0.0040092 , ..., -0.00118057,\n",
       "         0.00021366,  0.00068055],\n",
       "       [ 0.00485046,  0.00068659, -0.00246324, ...,  0.00129053,\n",
       "        -0.00421536,  0.00182447],\n",
       "       ...,\n",
       "       [-0.01589388, -0.00863786,  0.00582617, ...,  0.00048011,\n",
       "         0.00972398,  0.00242696],\n",
       "       [-0.02083641,  0.0162669 , -0.0113731 , ..., -0.01478211,\n",
       "        -0.00939372,  0.0076165 ],\n",
       "       [ 0.04271495, -0.00770049,  0.00215448, ...,  0.00503616,\n",
       "         0.0092827 , -0.00277755]], shape=(100, 3486))"
      ]
     },
     "execution_count": 38,
     "metadata": {},
     "output_type": "execute_result"
    }
   ],
   "source": [
    "# could examine loadings\n",
    "reducer.components_"
   ]
  },
  {
   "cell_type": "code",
   "execution_count": 39,
   "metadata": {
    "tags": []
   },
   "outputs": [
    {
     "data": {
      "text/plain": [
       "(3486,)"
      ]
     },
     "execution_count": 39,
     "metadata": {},
     "output_type": "execute_result"
    }
   ],
   "source": [
    "# loadings are distributed over all input features\n",
    "reducer.components_[0].shape"
   ]
  },
  {
   "cell_type": "code",
   "execution_count": 40,
   "metadata": {
    "tags": []
   },
   "outputs": [
    {
     "name": "stdout",
     "output_type": "stream",
     "text": [
      "              precision    recall  f1-score   support\n",
      "\n",
      "       False       0.92      0.82      0.87       193\n",
      "        True       0.56      0.75      0.64        57\n",
      "\n",
      "    accuracy                           0.81       250\n",
      "   macro avg       0.74      0.79      0.76       250\n",
      "weighted avg       0.84      0.81      0.82       250\n",
      "\n"
     ]
    }
   ],
   "source": [
    "# performace using top SVD components\n",
    "clf = GaussianNB().fit(X_train_reduced, y_train)\n",
    "y_pred = clf.predict(X_test_reduced)\n",
    "print(classification_report(y_pred, y_test))"
   ]
  },
  {
   "cell_type": "markdown",
   "metadata": {},
   "source": [
    "We have to use `GaussianNB`, because multinomial NB (as the name suggests) expects purely positive, integer-valued inputs. Gaussian NB accepts all real-valued inputs.\n",
    "\n",
    "Performance here isn't as good as it was when we used the top 100 **sports-specific** features (recall that our task is **sports** classification). But the SVD features were more than an order of magnitude faster to calculate and, more importantly, should be useful if we wanted to classify any of the other categories (because the SVD dimensions capture overall variance in the data, rather than being tied to any specific category). \n",
    "\n",
    "As it turns out *in this case*, that isn't really true: top sports features outperform SVD in the sports case, but are surprisingly close to SVD performance for the other categories, too. Think about why this might be true in the special case of language data? (High dimensionality, correlated features, lots of nonuniform structure in the data; 100 features are a *lot* for just 1k observations). If you're interested, you might try to implement these evaluations for yourself."
   ]
  },
  {
   "cell_type": "markdown",
   "metadata": {},
   "source": [
    "#### Permutation importance\n",
    "\n",
    "Permutation importance measures the impact on classifier performance of rendering a feature *uninformative*. The idea is that a feature is important if removing it tanks classification performance. Specifically, we will *permute* (shuffle) the values contained in a feature vector, breaking any possible association between those values and the target label."
   ]
  },
  {
   "cell_type": "code",
   "execution_count": 41,
   "metadata": {
    "tags": []
   },
   "outputs": [
    {
     "name": "stdout",
     "output_type": "stream",
     "text": [
      "CPU times: user 13.4 s, sys: 3.01 ms, total: 13.4 s\n",
      "Wall time: 13.5 s\n"
     ]
    }
   ],
   "source": [
    "%%time\n",
    "clf = MultinomialNB().fit(X_train_selected, y_train)\n",
    "\n",
    "r = permutation_importance(\n",
    "    clf, \n",
    "    X_test_selected.toarray(), # expects dense input \n",
    "    y_test,\n",
    "    scoring='f1_weighted',\n",
    "    n_repeats=100\n",
    ")"
   ]
  },
  {
   "cell_type": "code",
   "execution_count": 42,
   "metadata": {
    "tags": []
   },
   "outputs": [
    {
     "name": "stdout",
     "output_type": "stream",
     "text": [
      "Permutation feature importance:\n",
      "\n",
      "      league  0.023 +/- 0.006\n",
      "         its  0.019 +/- 0.009\n",
      "     company  0.013 +/- 0.006\n",
      "       night  0.012 +/- 0.005\n",
      "    champion  0.011 +/- 0.004\n",
      "       right  0.011 +/- 0.004\n",
      "     yankees  0.011 +/- 0.003\n",
      "     players  0.010 +/- 0.004\n",
      "   champions  0.010 +/- 0.004\n",
      "        game  0.009 +/- 0.005\n",
      "      season  0.009 +/- 0.005\n",
      "     victory  0.008 +/- 0.005\n",
      "         red  0.008 +/- 0.004\n",
      "         nfl  0.007 +/- 0.003\n",
      "         cup  0.007 +/- 0.003\n",
      "         win  0.006 +/- 0.003\n",
      "    football  0.006 +/- 0.003\n",
      "         inc  0.006 +/- 0.005\n",
      "     winning  0.006 +/- 0.003\n",
      "        corp  0.006 +/- 0.005\n",
      "        team  0.006 +/- 0.003\n",
      "  postseason  0.006 +/- 0.003\n",
      "       fifth  0.005 +/- 0.003\n",
      "        play  0.005 +/- 0.003\n",
      "       match  0.005 +/- 0.003\n",
      "        have  0.004 +/- 0.001\n",
      "      boston  0.004 +/- 0.004\n",
      "       games  0.003 +/- 0.003\n"
     ]
    }
   ],
   "source": [
    "print(\"Permutation feature importance:\\n\")\n",
    "\n",
    "for i in r.importances_mean.argsort()[::-1]:\n",
    "    # only display significant features\n",
    "    if r.importances_mean[i] - 1 * r.importances_std[i] > 0:\n",
    "        word = count_vectorizer.get_feature_names_out()[int(selector.get_feature_names_out()[i].strip('x'))]\n",
    "        print(f\"{word:>12}  {r.importances_mean[i]:.3f} +/- {r.importances_std[i]:.3f}\")"
   ]
  }
 ],
 "metadata": {
  "kernelspec": {
   "display_name": ".venv",
   "language": "python",
   "name": "python3"
  },
  "language_info": {
   "codemirror_mode": {
    "name": "ipython",
    "version": 3
   },
   "file_extension": ".py",
   "mimetype": "text/x-python",
   "name": "python",
   "nbconvert_exporter": "python",
   "pygments_lexer": "ipython3",
   "version": "3.12.0"
  }
 },
 "nbformat": 4,
 "nbformat_minor": 4
}
