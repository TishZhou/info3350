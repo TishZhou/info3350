{
 "cells": [
  {
   "cell_type": "markdown",
   "metadata": {
    "id": "ucj6rr9Z7gt3"
   },
   "source": [
    "# Measuring Word Similarity with BERT (English Language Public Domain Poems)\n",
    "\n",
    "By [The BERT for Humanists](https://melaniewalsh.github.io/BERT-for-Humanists/) Team\n",
    "\n",
    "How can we measure the similarity of words in a collection of texts? For example, how similar are the words \"nature\" and \"science\" in a collection of 16th-20th century English language poems? Do 20th-century poets use the word \"science\" differently than 16th-century poets? Can we map all the different uses and meanings of the word \"nature\"?\n",
    "\n",
    "The short answer is: yes! We'll use BERT contextual embeddings to explore the relationships between individual occurrences of words in a corpus. This differs from the static embeddings we've explored previously. Where static embeddings ecode all possible menaings of a word into a single vectore representation, contextual embeddings encode each use of a word differently, depending on the words around it (that is, depending on its context).\n",
    "\n",
    "## In This Notebook\n",
    "We will analyze a collection of poems scraped from [Public-Domain-Poetry.com](http://public-domain-poetry.com/) with the [DistilBert model](https://huggingface.co/transformers/model_doc/distilbert.html) and the HuggingFace Python library. DistilBert is a smaller — yet still powerful! — version of BERT. By using the rich representations of words that BERT produces, we will then explore the multivalent meanings of particular words in context and over time.\n",
    "\n",
    "We hope this notebook will help illustrate how BERT works, how well it works, and how you might use BERT to explore the similarity of words in a collection of texts. It is surprising, for example, that BERT works as well as it does, without any fine-tuning, on poems that were published hundreds of years before the text data it was trained on (Wikiepdia pages and self-published novels).\n",
    "\n",
    "But we also hope that these results will expose some of the limitations and challenges of BERT. We have to disregard poetic line breaks, for example, and we see that BERT has trouble with antiquated words like \"thine,\" which don't show up in its contemporary vocabulary."
   ]
  },
  {
   "cell_type": "code",
   "execution_count": 1,
   "metadata": {
    "colab": {
     "base_uri": "https://localhost:8080/",
     "height": 585
    },
    "id": "zsAaAlwhZsKr",
    "outputId": "2a37a500-7851-43ab-c696-cffc2f4f1da2",
    "tags": []
   },
   "outputs": [
    {
     "name": "stderr",
     "output_type": "stream",
     "text": [
      "/Users/mw966/miniforge3/envs/3350/lib/python3.11/site-packages/altair/utils/core.py:395: FutureWarning: the convert_dtype parameter is deprecated and will be removed in a future version.  Do ``ser.astype(object).apply()`` instead if you want ``convert_dtype=False``.\n",
      "  col = df[col_name].apply(to_list_if_array, convert_dtype=False)\n",
      "/Users/mw966/miniforge3/envs/3350/lib/python3.11/site-packages/altair/utils/core.py:395: FutureWarning: the convert_dtype parameter is deprecated and will be removed in a future version.  Do ``ser.astype(object).apply()`` instead if you want ``convert_dtype=False``.\n",
      "  col = df[col_name].apply(to_list_if_array, convert_dtype=False)\n",
      "/Users/mw966/miniforge3/envs/3350/lib/python3.11/site-packages/altair/utils/core.py:395: FutureWarning: the convert_dtype parameter is deprecated and will be removed in a future version.  Do ``ser.astype(object).apply()`` instead if you want ``convert_dtype=False``.\n",
      "  col = df[col_name].apply(to_list_if_array, convert_dtype=False)\n",
      "/Users/mw966/miniforge3/envs/3350/lib/python3.11/site-packages/altair/utils/core.py:395: FutureWarning: the convert_dtype parameter is deprecated and will be removed in a future version.  Do ``ser.astype(object).apply()`` instead if you want ``convert_dtype=False``.\n",
      "  col = df[col_name].apply(to_list_if_array, convert_dtype=False)\n",
      "/Users/mw966/miniforge3/envs/3350/lib/python3.11/site-packages/altair/utils/core.py:395: FutureWarning: the convert_dtype parameter is deprecated and will be removed in a future version.  Do ``ser.astype(object).apply()`` instead if you want ``convert_dtype=False``.\n",
      "  col = df[col_name].apply(to_list_if_array, convert_dtype=False)\n",
      "/Users/mw966/miniforge3/envs/3350/lib/python3.11/site-packages/altair/utils/core.py:395: FutureWarning: the convert_dtype parameter is deprecated and will be removed in a future version.  Do ``ser.astype(object).apply()`` instead if you want ``convert_dtype=False``.\n",
      "  col = df[col_name].apply(to_list_if_array, convert_dtype=False)\n",
      "/Users/mw966/miniforge3/envs/3350/lib/python3.11/site-packages/altair/utils/core.py:395: FutureWarning: the convert_dtype parameter is deprecated and will be removed in a future version.  Do ``ser.astype(object).apply()`` instead if you want ``convert_dtype=False``.\n",
      "  col = df[col_name].apply(to_list_if_array, convert_dtype=False)\n"
     ]
    },
    {
     "data": {
      "text/html": [
       "\n",
       "<style>\n",
       "  #altair-viz-ac5b282917cb4035abdbf4634aca513a.vega-embed {\n",
       "    width: 100%;\n",
       "    display: flex;\n",
       "  }\n",
       "\n",
       "  #altair-viz-ac5b282917cb4035abdbf4634aca513a.vega-embed details,\n",
       "  #altair-viz-ac5b282917cb4035abdbf4634aca513a.vega-embed details summary {\n",
       "    position: relative;\n",
       "  }\n",
       "</style>\n",
       "<div id=\"altair-viz-ac5b282917cb4035abdbf4634aca513a\"></div>\n",
       "<script type=\"text/javascript\">\n",
       "  var VEGA_DEBUG = (typeof VEGA_DEBUG == \"undefined\") ? {} : VEGA_DEBUG;\n",
       "  (function(spec, embedOpt){\n",
       "    let outputDiv = document.currentScript.previousElementSibling;\n",
       "    if (outputDiv.id !== \"altair-viz-ac5b282917cb4035abdbf4634aca513a\") {\n",
       "      outputDiv = document.getElementById(\"altair-viz-ac5b282917cb4035abdbf4634aca513a\");\n",
       "    }\n",
       "    const paths = {\n",
       "      \"vega\": \"https://cdn.jsdelivr.net/npm/vega@5?noext\",\n",
       "      \"vega-lib\": \"https://cdn.jsdelivr.net/npm/vega-lib?noext\",\n",
       "      \"vega-lite\": \"https://cdn.jsdelivr.net/npm/vega-lite@5.8.0?noext\",\n",
       "      \"vega-embed\": \"https://cdn.jsdelivr.net/npm/vega-embed@6?noext\",\n",
       "    };\n",
       "\n",
       "    function maybeLoadScript(lib, version) {\n",
       "      var key = `${lib.replace(\"-\", \"\")}_version`;\n",
       "      return (VEGA_DEBUG[key] == version) ?\n",
       "        Promise.resolve(paths[lib]) :\n",
       "        new Promise(function(resolve, reject) {\n",
       "          var s = document.createElement('script');\n",
       "          document.getElementsByTagName(\"head\")[0].appendChild(s);\n",
       "          s.async = true;\n",
       "          s.onload = () => {\n",
       "            VEGA_DEBUG[key] = version;\n",
       "            return resolve(paths[lib]);\n",
       "          };\n",
       "          s.onerror = () => reject(`Error loading script: ${paths[lib]}`);\n",
       "          s.src = paths[lib];\n",
       "        });\n",
       "    }\n",
       "\n",
       "    function showError(err) {\n",
       "      outputDiv.innerHTML = `<div class=\"error\" style=\"color:red;\">${err}</div>`;\n",
       "      throw err;\n",
       "    }\n",
       "\n",
       "    function displayChart(vegaEmbed) {\n",
       "      vegaEmbed(outputDiv, spec, embedOpt)\n",
       "        .catch(err => showError(`Javascript Error: ${err.message}<br>This usually means there's a typo in your chart specification. See the javascript console for the full traceback.`));\n",
       "    }\n",
       "\n",
       "    if(typeof define === \"function\" && define.amd) {\n",
       "      requirejs.config({paths});\n",
       "      require([\"vega-embed\"], displayChart, err => showError(`Error loading script: ${err.message}`));\n",
       "    } else {\n",
       "      maybeLoadScript(\"vega\", \"5\")\n",
       "        .then(() => maybeLoadScript(\"vega-lite\", \"5.8.0\"))\n",
       "        .then(() => maybeLoadScript(\"vega-embed\", \"6\"))\n",
       "        .catch(showError)\n",
       "        .then(() => displayChart(vegaEmbed));\n",
       "    }\n",
       "  })({\"config\": {\"view\": {\"continuousWidth\": 300, \"continuousHeight\": 300}}, \"data\": {\"name\": \"data-3b35ba4ca8b135cebc402f944a2a4e26\"}, \"mark\": {\"type\": \"circle\", \"size\": 200}, \"encoding\": {\"color\": {\"field\": \"word\", \"type\": \"nominal\"}, \"href\": {\"field\": \"link\", \"type\": \"nominal\"}, \"tooltip\": [{\"field\": \"title\", \"type\": \"nominal\"}, {\"field\": \"word\", \"type\": \"nominal\"}, {\"field\": \"poem_title\", \"type\": \"nominal\"}, {\"field\": \"author\", \"type\": \"nominal\"}, {\"field\": \"period\", \"type\": \"nominal\"}], \"x\": {\"field\": \"x\", \"scale\": {\"zero\": false}, \"type\": \"quantitative\"}, \"y\": {\"field\": \"y\", \"type\": \"quantitative\"}}, \"height\": 500, \"params\": [{\"name\": \"param_1\", \"select\": {\"type\": \"interval\", \"encodings\": [\"x\", \"y\"]}, \"bind\": \"scales\"}], \"title\": \"Word Similarity: Nature, Science, Religion, Art\", \"width\": 500, \"$schema\": \"https://vega.github.io/schema/vega-lite/v5.8.0.json\", \"datasets\": {\"data-3b35ba4ca8b135cebc402f944a2a4e26\": [{\"x\": -0.03136648, \"y\": -0.014540806, \"title\": \"here our christian militant. morella, charming without **art**, and kind without design, can never lose the\", \"tokens\": \"here our christian militant . more ##lla , charming without art , and kind without design , can never lose the\", \"word\": \"art\", \"poem_title\": \"Songs Set To Music: 11. Set By Mr. De Fesch\", \"author\": \"Matthew Prior\", \"period\": \"16th-17th Centuries (Early Modern)\", \"link\": \"http://public-domain-poetry.com/matthew-prior/songs-set-to-music-11-set-by-mr-de-fesch-2975\"}, {\"x\": -0.03276053, \"y\": -0.01819312, \"title\": \"-do more bewitch me, than when **art** is too precise in every part. to conquered men\", \"tokens\": \"- do more be ##wi ##tch me , than when art is too precise in every part . to conquered men\", \"word\": \"art\", \"poem_title\": \"Delight In Disorder\", \"author\": \"Robert Herrick\", \"period\": \"16th-17th Centuries (Early Modern)\", \"link\": \"http://public-domain-poetry.com/robert-herrick/delight-in-disorder-18599\"}, {\"x\": -0.0327068, \"y\": -0.044539444, \"title\": \"which once may win thy cruell hart: thou **art** my wit, and thou my vertue **art**\", \"tokens\": \"which once may win thy cruel ##l hart : thou art my wit , and thou my ve ##rt ##ue art\", \"word\": \"art\", \"poem_title\": \"Astrophel and Stella - Sonnet LXIV\", \"author\": \"Philip Sidney (Sir)\", \"period\": \"16th-17th Centuries (Early Modern)\", \"link\": \"http://public-domain-poetry.com/sir-philip-sidney/astrophel-and-stella-sonnet-lxiv-31895\"}, {\"x\": -0.034116976, \"y\": -0.029603682, \"title\": \"**art** my wit, and thou my vertue **art**. woe, woe to them, who\", \"tokens\": \"art my wit , and thou my ve ##rt ##ue art . wo ##e , wo ##e to them , who\", \"word\": \"art\", \"poem_title\": \"To The King And Queen Upon Their Unhappy Distances\", \"author\": \"Robert Herrick\", \"period\": \"16th-17th Centuries (Early Modern)\", \"link\": \"http://public-domain-poetry.com/robert-herrick/to-the-king-and-queen-upon-their-unhappy-distances-18651\"}, {\"x\": -0.029339984, \"y\": -0.017796094, \"title\": \"! tibi res antiqu 'laudis et **artis** aggredior, sanctos aus\", \"tokens\": \"! ti ##bi res anti ##qu ' lau ##dis et art ##is ag ##gre ##dio ##r , san ##ct ##os aus\", \"word\": \"art\", \"poem_title\": \"A Letter From Italy\", \"author\": \"Joseph Addison\", \"period\": \"16th-17th Centuries (Early Modern)\", \"link\": \"http://public-domain-poetry.com/joseph-addison/letter-from-italy-385\"}, {\"x\": -0.031427894, \"y\": -0.022941358, \"title\": \"the lawn the stone. goddess, i begin an **art**; come thou in, with thy best part for\", \"tokens\": \"the lawn the stone . goddess , i begin an art ; come thou in , with thy best part for\", \"word\": \"art\", \"poem_title\": \"A Vow To Minerva\", \"author\": \"Robert Herrick\", \"period\": \"16th-17th Centuries (Early Modern)\", \"link\": \"http://public-domain-poetry.com/robert-herrick/vow-to-minerva-18919\"}, {\"x\": -0.033324964, \"y\": -0.0440606, \"title\": \"that rich she is. know celia, since thou **art** so proud, 'twas i that gave thee\", \"tokens\": \"that rich she is . know celia , since thou art so proud , ' t ##was i that gave thee\", \"word\": \"art\", \"poem_title\": \"Ingrateful Beauty Threatened\", \"author\": \"Thomas Carew\", \"period\": \"16th-17th Centuries (Early Modern)\", \"link\": \"http://public-domain-poetry.com/thomas-carew/ingrateful-beauty-threatened-12086\"}, {\"x\": -0.033878524, \"y\": -0.040075414, \"title\": \", thy graces, all are mine; thou **art** my star, shin'st in my skies;\", \"tokens\": \", thy grace ##s , all are mine ; thou art my star , shin ' st in my skies ;\", \"word\": \"art\", \"poem_title\": \"Ingrateful Beauty Threatened\", \"author\": \"Thomas Carew\", \"period\": \"16th-17th Centuries (Early Modern)\", \"link\": \"http://public-domain-poetry.com/thomas-carew/ingrateful-beauty-threatened-12086\"}, {\"x\": -0.035101492, \"y\": 0.016925383, \"title\": \"loving it, but thee. sin no existence; **nature** none it hath, or good at all,\", \"tokens\": \"loving it , but thee . sin no existence ; nature none it hat ##h , or good at all ,\", \"word\": \"nature\", \"poem_title\": \"Sin\", \"author\": \"Robert Herrick\", \"period\": \"16th-17th Centuries (Early Modern)\", \"link\": \"http://public-domain-poetry.com/robert-herrick/sin-19601\"}, {\"x\": -0.033393893, \"y\": 0.03104377, \"title\": \"and cats in gutters gave their serenade. **nature** was out of countenance, and each day\", \"tokens\": \"and cats in gut ##ters gave their serena ##de . nature was out of count ##ena ##nce , and each day\", \"word\": \"nature\", \"poem_title\": \"Epilogue, Spoken By The Same\", \"author\": \"John Dryden\", \"period\": \"16th-17th Centuries (Early Modern)\", \"link\": \"http://public-domain-poetry.com/john-dryden/epilogue-spoken-by-the-same-14705\"}, {\"x\": -0.03175932, \"y\": -0.019551506, \"title\": \"and shortly scenes in lapland will be laid: **art** magic is for poetry profess'd; and\", \"tokens\": \"and shortly scenes in lap ##land will be laid : art magic is for poetry prof ##ess ' d ; and\", \"word\": \"art\", \"poem_title\": \"Epilogue, Spoken By The Same\", \"author\": \"John Dryden\", \"period\": \"16th-17th Centuries (Early Modern)\", \"link\": \"http://public-domain-poetry.com/john-dryden/epilogue-spoken-by-the-same-14705\"}, {\"x\": -0.03345354, \"y\": -0.040171698, \"title\": \"his self-love to stop posterity? thou **art** thy mother's glass and she in thee calls\", \"tokens\": \"his self - love to stop poster ##ity ? thou art thy mother ' s glass and she in thee calls\", \"word\": \"art\", \"poem_title\": \"The Sonnets III - Look in thy glass and tell the face thou viewest\", \"author\": \"William Shakespeare\", \"period\": \"16th-17th Centuries (Early Modern)\", \"link\": \"http://public-domain-poetry.com/william-shakespeare/sonnets-iii-look-in-thy-glass-and-tell-the-face-thou-viewest-8155\"}, {\"x\": -0.03173679, \"y\": -0.0441587, \"title\": \", then, with a wonder, i confess thou **art** our way i 'th 'wilderness; and while\", \"tokens\": \", then , with a wonder , i confess thou art our way i ' th ' wilderness ; and while\", \"word\": \"art\", \"poem_title\": \"The Way\", \"author\": \"Robert Herrick\", \"period\": \"16th-17th Centuries (Early Modern)\", \"link\": \"http://public-domain-poetry.com/robert-herrick/way-19720\"}, {\"x\": -0.030921327, \"y\": -0.044024345, \"title\": \"and while we blunder in the dark, thou **art** our candle there, or spark. no question but\", \"tokens\": \"and while we blu ##nder in the dark , thou art our candle there , or spark . no question but\", \"word\": \"art\", \"poem_title\": \"The Way\", \"author\": \"Robert Herrick\", \"period\": \"16th-17th Centuries (Early Modern)\", \"link\": \"http://public-domain-poetry.com/robert-herrick/way-19720\"}, {\"x\": -0.033035938, \"y\": -0.042655416, \"title\": \"attending thee. this day the queen-priest thou **art** made, t 'appease love for our very\", \"tokens\": \"attending thee . this day the queen - priest thou art made , t ' app ##ease love for our very\", \"word\": \"art\", \"poem_title\": \"To Julia, The Flaminica Dialis Or Queen-Priest\", \"author\": \"Robert Herrick\", \"period\": \"16th-17th Centuries (Early Modern)\", \"link\": \"http://public-domain-poetry.com/robert-herrick/to-julia-the-flaminica-dialis-or-queen-priest-18924\"}, {\"x\": -0.033883486, \"y\": -0.03782075, \"title\": \"'tis his fort of friends. farewell! thou **art** too dear for my possessing, and like enough thou\", \"tokens\": \"' tis his fort of friends . farewell ! thou art too dear for my possessing , and like enough thou\", \"word\": \"art\", \"poem_title\": \"The Sonnets LXXXVII - Farewell! thou art too dear for my possessing\", \"author\": \"William Shakespeare\", \"period\": \"16th-17th Centuries (Early Modern)\", \"link\": \"http://public-domain-poetry.com/william-shakespeare/sonnets-lxxxvii-farewell-thou-art-too-dear-for-my-possessing-8239\"}, {\"x\": -0.03136437, \"y\": -0.019560816, \"title\": \"offence, by surgeons begg'd, their **art** on him to trie: which on the liu\", \"tokens\": \"offence , by surgeons beg ##g ' d , their art on him to tri ##e : which on the liu\", \"word\": \"art\", \"poem_title\": \"Sonnet 50\", \"author\": \"Michael Drayton\", \"period\": \"16th-17th Centuries (Early Modern)\", \"link\": \"http://public-domain-poetry.com/michael-drayton/sonnet-50-14529\"}, {\"x\": -0.03405007, \"y\": -0.018111158, \"title\": \"base degree? it belongs to such alone to whom **art** of love is known: seely shepherds are\", \"tokens\": \"base degree ? it belongs to such alone to whom art of love is known : see ##ly shepherd ##s are\", \"word\": \"art\", \"poem_title\": \"Dispraise Of A Courtly Life\", \"author\": \"Philip Sidney (Sir)\", \"period\": \"16th-17th Centuries (Early Modern)\", \"link\": \"http://public-domain-poetry.com/sir-philip-sidney/dispraise-of-a-courtly-life-31808\"}, {\"x\": -0.03339354, \"y\": -0.018621102, \"title\": \"seely shepherds are not witting what in **art** of love is fitting. \\\"nay, what need\", \"tokens\": \"see ##ly shepherd ##s are not wit ##ting what in art of love is fitting . \\\" nay , what need\", \"word\": \"art\", \"poem_title\": \"Dispraise Of A Courtly Life\", \"author\": \"Philip Sidney (Sir)\", \"period\": \"16th-17th Centuries (Early Modern)\", \"link\": \"http://public-domain-poetry.com/sir-philip-sidney/dispraise-of-a-courtly-life-31808\"}, {\"x\": -0.032520212, \"y\": -0.022617493, \"title\": \"love is fitting. \\\"nay, what need the **art** to those to whom we our love disclose? it\", \"tokens\": \"love is fitting . \\\" nay , what need the art to those to whom we our love disclose ? it\", \"word\": \"art\", \"poem_title\": \"Dispraise Of A Courtly Life\", \"author\": \"Philip Sidney (Sir)\", \"period\": \"16th-17th Centuries (Early Modern)\", \"link\": \"http://public-domain-poetry.com/sir-philip-sidney/dispraise-of-a-courtly-life-31808\"}, {\"x\": -0.03454187, \"y\": 0.031792782, \"title\": \": friendship true, in heart assured, is by **nature**'s gifts procured. \\\"therefore shepherds\", \"tokens\": \": friendship true , in heart assured , is by nature ' s gifts pro ##cured . \\\" therefore shepherd ##s\", \"word\": \"nature\", \"poem_title\": \"Dispraise Of A Courtly Life\", \"author\": \"Philip Sidney (Sir)\", \"period\": \"16th-17th Centuries (Early Modern)\", \"link\": \"http://public-domain-poetry.com/sir-philip-sidney/dispraise-of-a-courtly-life-31808\"}, {\"x\": -0.030582117, \"y\": 0.019188173, \"title\": \"the waves; and sure some little care should weary **nature** so, to make her want repair. when chant\", \"tokens\": \"the waves ; and sure some little care should weary nature so , to make her want repair . when chant\", \"word\": \"nature\", \"poem_title\": \"The Flower And The Leaf: Or, The Lady In The Arbour.[1]\", \"author\": \"John Dryden\", \"period\": \"16th-17th Centuries (Early Modern)\", \"link\": \"http://public-domain-poetry.com/john-dryden/flower-and-the-leaf-or-the-lady-in-the-arbour-14724\"}, {\"x\": -0.033173624, \"y\": -0.04564724, \"title\": \"in that large glass descry: when thou **art** in good humour drest; when gentle reason rules\", \"tokens\": \"in that large glass des ##cr ##y : when thou art in good humour dr ##est ; when gentle reason rules\", \"word\": \"art\", \"poem_title\": \"The Lady's Looking-Glass\", \"author\": \"Matthew Prior\", \"period\": \"16th-17th Centuries (Early Modern)\", \"link\": \"http://public-domain-poetry.com/matthew-prior/ladys-looking-glass-2995\"}, {\"x\": -0.031415034, \"y\": -0.049358353, \"title\": \"storm is nigh: 'tis then, thou **art** yon 'angry main, deform '\", \"tokens\": \"storm is ni ##gh : ' tis then , thou art yo ##n ' angry main , def ##or ##m '\", \"word\": \"art\", \"poem_title\": \"The Lady's Looking-Glass\", \"author\": \"Matthew Prior\", \"period\": \"16th-17th Centuries (Early Modern)\", \"link\": \"http://public-domain-poetry.com/matthew-prior/ladys-looking-glass-2995\"}, {\"x\": -0.03369971, \"y\": -0.031762328, \"title\": \", scarce hadst thou thought enough to prove thou **art**, yet, steel'd with studied boldness\", \"tokens\": \", scarce had ##st thou thought enough to prove thou art , yet , steel ' d with studied bold ##ness\", \"word\": \"art\", \"poem_title\": \"An Ode : On Exodus III. 14\", \"author\": \"Matthew Prior\", \"period\": \"16th-17th Centuries (Early Modern)\", \"link\": \"http://public-domain-poetry.com/matthew-prior/an-ode-on-exodus-iii-14-2859\"}, {\"x\": -0.034360107, \"y\": -0.031229084, \"title\": \": vain are thy thoughts while thou thyself **art** dust. let wit her sails, her oars\", \"tokens\": \": vain are thy thoughts while thou thy ##sel ##f art dust . let wit her sails , her o ##ars\", \"word\": \"art\", \"poem_title\": \"An Ode : On Exodus III. 14\", \"author\": \"Matthew Prior\", \"period\": \"16th-17th Centuries (Early Modern)\", \"link\": \"http://public-domain-poetry.com/matthew-prior/an-ode-on-exodus-iii-14-2859\"}, {\"x\": -0.032381654, \"y\": 0.019213967, \"title\": \"call stellaes face, prepar'd by **natures** choicest furniture, hath his front built\", \"tokens\": \"call stella ##es face , prep ##ar ' d by nature ##s choices ##t furniture , hat ##h his front built\", \"word\": \"nature\", \"poem_title\": \"Astrophel and Stella - Sonnet IX\", \"author\": \"Philip Sidney (Sir)\", \"period\": \"16th-17th Centuries (Early Modern)\", \"link\": \"http://public-domain-poetry.com/sir-philip-sidney/astrophel-and-stella-sonnet-ix-31840\"}, {\"x\": -0.03118014, \"y\": -0.043017145, \"title\": \"to possess them, honour'd margaret. nor **art** thou less esteem'd that i have plac\", \"tokens\": \"to possess them , honour ' d margaret . nor art thou less esteem ' d that i have pl ##ac\", \"word\": \"art\", \"poem_title\": \"To Doctor Alabaster\", \"author\": \"Robert Herrick\", \"period\": \"16th-17th Centuries (Early Modern)\", \"link\": \"http://public-domain-poetry.com/robert-herrick/to-doctor-alabaster-19066\"}, {\"x\": -0.033068605, \"y\": -0.040956467, \"title\": \"the day, as these have done to thee who **art** the one, one only glory of a million:\", \"tokens\": \"the day , as these have done to thee who art the one , one only glory of a million :\", \"word\": \"art\", \"poem_title\": \"To Doctor Alabaster\", \"author\": \"Robert Herrick\", \"period\": \"16th-17th Centuries (Early Modern)\", \"link\": \"http://public-domain-poetry.com/robert-herrick/to-doctor-alabaster-19066\"}, {\"x\": -0.03336959, \"y\": -0.043713264, \"title\": \"ron. what could hurt her more? but thou **art** proof against them, and, indeed, above the\", \"tokens\": \"##ron . what could hurt her more ? but thou art proof against them , and , indeed , above the\", \"word\": \"art\", \"poem_title\": \"To The Memory Of My Beloved, The Author, Mr. William Shakespeare, And What He Hath Left Us\", \"author\": \"Ben Jonson\", \"period\": \"16th-17th Centuries (Early Modern)\", \"link\": \"http://public-domain-poetry.com/ben-jonson/to-the-memory-of-my-beloved-the-author-mr-william-shakespeare-and-what-he-hath-left-us-2530\"}, {\"x\": -0.0323927, \"y\": -0.048366383, \"title\": \"little further, to make thee a room: thou **art** a monument without a tomb, and **art** alive still\", \"tokens\": \"little further , to make thee a room : thou art a monument without a tomb , and art alive still\", \"word\": \"art\", \"poem_title\": \"To The Memory Of My Beloved, The Author, Mr. William Shakespeare, And What He Hath Left Us\", \"author\": \"Ben Jonson\", \"period\": \"16th-17th Centuries (Early Modern)\", \"link\": \"http://public-domain-poetry.com/ben-jonson/to-the-memory-of-my-beloved-the-author-mr-william-shakespeare-and-what-he-hath-left-us-2530\"}, {\"x\": -0.03388926, \"y\": -0.03566971, \"title\": \": thou **art** a monument without a tomb, and **art** alive still, while thy book doth live,\", \"tokens\": \": thou art a monument without a tomb , and art alive still , while thy book dot ##h live ,\", \"word\": \"art\", \"poem_title\": \"To The Memory Of My Beloved, The Author, Mr. William Shakespeare, And What He Hath Left Us\", \"author\": \"Ben Jonson\", \"period\": \"16th-17th Centuries (Early Modern)\", \"link\": \"http://public-domain-poetry.com/ben-jonson/to-the-memory-of-my-beloved-the-author-mr-william-shakespeare-and-what-he-hath-left-us-2530\"}, {\"x\": -0.03408417, \"y\": -0.034247074, \"title\": \"man, but thee. thus, thou that man **art** whom the fates conspir'd to make\", \"tokens\": \"man , but thee . thus , thou that man art whom the fates con ##sp ##ir ' d to make\", \"word\": \"art\", \"poem_title\": \"To The Most Accomplished Gentleman, Master Edward Norgate, Clerk Of The Signet To His Majesty. Epig\", \"author\": \"Robert Herrick\", \"period\": \"16th-17th Centuries (Early Modern)\", \"link\": \"http://public-domain-poetry.com/robert-herrick/to-the-most-accomplished-gentleman-master-edward-norgate-clerk-of-the-signet-to-his-majesty-epig-18783\"}, {\"x\": -0.03417313, \"y\": -0.017864482, \"title\": \"mite of salt. oh love! that stronger **art** than wine, pleasing delusion, witchery divine\", \"tokens\": \"mit ##e of salt . oh love ! that stronger art than wine , pleasing del ##usion , witch ##ery divine\", \"word\": \"art\", \"poem_title\": \"Song\", \"author\": \"Aphra Behn\", \"period\": \"16th-17th Centuries (Early Modern)\", \"link\": \"http://public-domain-poetry.com/aphra-behn/song-1597\"}, {\"x\": -0.03258621, \"y\": -0.020924153, \"title\": \"sluggish ease, and learns a clown the **art** to please: humbles the vain, kindles\", \"tokens\": \"slug ##gis ##h ease , and learns a clown the art to please : humble ##s the vain , kind ##les\", \"word\": \"art\", \"poem_title\": \"Song\", \"author\": \"Aphra Behn\", \"period\": \"16th-17th Centuries (Early Modern)\", \"link\": \"http://public-domain-poetry.com/aphra-behn/song-1597\"}, {\"x\": -0.03436279, \"y\": 0.032733124, \"title\": \"virtue's unconquerable aid that against **nature** can persuade; and makes a roving mind retire\", \"tokens\": \"virtue ' s un ##con ##que ##rable aid that against nature can persuade ; and makes a ro ##ving mind retire\", \"word\": \"nature\", \"poem_title\": \"Song\", \"author\": \"Aphra Behn\", \"period\": \"16th-17th Centuries (Early Modern)\", \"link\": \"http://public-domain-poetry.com/aphra-behn/song-1597\"}, {\"x\": -0.03488322, \"y\": 0.030067047, \"title\": \"age began to reign. great were the gifts of **nature** which he had, his education much to those did\", \"tokens\": \"age began to reign . great were the gifts of nature which he had , his education much to those did\", \"word\": \"nature\", \"poem_title\": \"The Third Monarchy, Being The Grecian, Beginning Under Alexander The Great In The 112. Olympiad\", \"author\": \"Anne Bradstreet\", \"period\": \"16th-17th Centuries (Early Modern)\", \"link\": \"http://public-domain-poetry.com/anne-bradstreet/third-monarchy-being-the-grecian-beginning-under-alexander-the-great-in-the-112-olympiad-9465\"}, {\"x\": -0.034026, \"y\": -0.0075945808, \"title\": \"his education much to those did adde: by **art** and nature both he was made fit, to '\", \"tokens\": \"his education much to those did add ##e : by art and nature both he was made fit , to '\", \"word\": \"art\", \"poem_title\": \"The Third Monarchy, Being The Grecian, Beginning Under Alexander The Great In The 112. Olympiad\", \"author\": \"Anne Bradstreet\", \"period\": \"16th-17th Centuries (Early Modern)\", \"link\": \"http://public-domain-poetry.com/anne-bradstreet/third-monarchy-being-the-grecian-beginning-under-alexander-the-great-in-the-112-olympiad-9465\"}, {\"x\": -0.034734868, \"y\": 0.025377769, \"title\": \"much to those did adde: by art and **nature** both he was made fit, to 'compl\", \"tokens\": \"much to those did add ##e : by art and nature both he was made fit , to ' com ##pl\", \"word\": \"nature\", \"poem_title\": \"The Third Monarchy, Being The Grecian, Beginning Under Alexander The Great In The 112. Olympiad\", \"author\": \"Anne Bradstreet\", \"period\": \"16th-17th Centuries (Early Modern)\", \"link\": \"http://public-domain-poetry.com/anne-bradstreet/third-monarchy-being-the-grecian-beginning-under-alexander-the-great-in-the-112-olympiad-9465\"}, {\"x\": -0.027565908, \"y\": 0.031052502, \"title\": \"he quell. this done against both right and **natures** laws, his kinsmen put to death\", \"tokens\": \"he que ##ll . this done against both right and nature ##s laws , his kin ##sm ##en put to death\", \"word\": \"nature\", \"poem_title\": \"The Third Monarchy, Being The Grecian, Beginning Under Alexander The Great In The 112. Olympiad\", \"author\": \"Anne Bradstreet\", \"period\": \"16th-17th Centuries (Early Modern)\", \"link\": \"http://public-domain-poetry.com/anne-bradstreet/third-monarchy-being-the-grecian-beginning-under-alexander-the-great-in-the-112-olympiad-9465\"}, {\"x\": -0.032840867, \"y\": -0.044814456, \"title\": \"nakedness; and more than once ( or thou **art** much belied ) by mars himself that armour has\", \"tokens\": \"naked ##ness ; and more than once ( or thou art much bel ##ied ) by mars himself that armour has\", \"word\": \"art\", \"poem_title\": \"Pallas And Venus. An Epigram\", \"author\": \"Matthew Prior\", \"period\": \"16th-17th Centuries (Early Modern)\", \"link\": \"http://public-domain-poetry.com/matthew-prior/pallas-and-venus-an-epigram-2910\"}, {\"x\": -0.033542983, \"y\": -0.038404454, \"title\": \"befits, for still temptation follows where thou **art**. gentle thou **art**, and therefore to be won\", \"tokens\": \"be ##fi ##ts , for still temptation follows where thou art . gentle thou art , and therefore to be won\", \"word\": \"art\", \"poem_title\": \"The Sonnets XLI - Those pretty wrongs that liberty commits\", \"author\": \"William Shakespeare\", \"period\": \"16th-17th Centuries (Early Modern)\", \"link\": \"http://public-domain-poetry.com/william-shakespeare/sonnets-xli-those-pretty-wrongs-that-liberty-commits-8193\"}, {\"x\": -0.034407757, \"y\": -0.039104287, \"title\": \"for still temptation follows where thou **art**. gentle thou **art**, and therefore to be won, beauteous\", \"tokens\": \"for still temptation follows where thou art . gentle thou art , and therefore to be won , beau ##te ##ous\", \"word\": \"art\", \"poem_title\": \"The Sonnets XLI - Those pretty wrongs that liberty commits\", \"author\": \"William Shakespeare\", \"period\": \"16th-17th Centuries (Early Modern)\", \"link\": \"http://public-domain-poetry.com/william-shakespeare/sonnets-xli-those-pretty-wrongs-that-liberty-commits-8193\"}, {\"x\": -0.03398806, \"y\": -0.04077639, \"title\": \"and therefore to be won, beauteous thou **art**, therefore to be assail'd; and\", \"tokens\": \"and therefore to be won , beau ##te ##ous thou art , therefore to be ass ##ail ' d ; and\", \"word\": \"art\", \"poem_title\": \"The Sonnets XLI - Those pretty wrongs that liberty commits\", \"author\": \"William Shakespeare\", \"period\": \"16th-17th Centuries (Early Modern)\", \"link\": \"http://public-domain-poetry.com/william-shakespeare/sonnets-xli-those-pretty-wrongs-that-liberty-commits-8193\"}, {\"x\": -0.032929275, \"y\": -0.041599564, \"title\": \"who lead thee in their riot even there where thou **art** forced to break a twofold truth: hers by\", \"tokens\": \"who lead thee in their riot even there where thou art forced to break a two ##fold truth : hers by\", \"word\": \"art\", \"poem_title\": \"The Sonnets XLI - Those pretty wrongs that liberty commits\", \"author\": \"William Shakespeare\", \"period\": \"16th-17th Centuries (Early Modern)\", \"link\": \"http://public-domain-poetry.com/william-shakespeare/sonnets-xli-those-pretty-wrongs-that-liberty-commits-8193\"}, {\"x\": -0.03246668, \"y\": 0.028103942, \"title\": \"together ties by linkes of loue and only **natures** art, how faine would i paint thee\", \"tokens\": \"together ties by link ##es of lou ##e and only nature ##s art , how fai ##ne would i paint thee\", \"word\": \"nature\", \"poem_title\": \"Astrophel and Stella - Sonnet LXXXI\", \"author\": \"Philip Sidney (Sir)\", \"period\": \"16th-17th Centuries (Early Modern)\", \"link\": \"http://public-domain-poetry.com/sir-philip-sidney/astrophel-and-stella-sonnet-lxxxi-31912\"}, {\"x\": -0.034873057, \"y\": -0.014588935, \"title\": \"by linkes of loue and only natures **art**, how faine would i paint thee to all\", \"tokens\": \"by link ##es of lou ##e and only nature ##s art , how fai ##ne would i paint thee to all\", \"word\": \"art\", \"poem_title\": \"Astrophel and Stella - Sonnet LXXXI\", \"author\": \"Philip Sidney (Sir)\", \"period\": \"16th-17th Centuries (Early Modern)\", \"link\": \"http://public-domain-poetry.com/sir-philip-sidney/astrophel-and-stella-sonnet-lxxxi-31912\"}, {\"x\": -0.03302119, \"y\": 0.035400078, \"title\": \"ly wrapt in the rude manger lies; **nature** in awe to him had doffed her gaudy\", \"tokens\": \"##ly wrap ##t in the rude man ##ger lies ; nature in awe to him had do ##ffed her ga ##udy\", \"word\": \"nature\", \"poem_title\": \"The Hymn\", \"author\": \"John Milton\", \"period\": \"16th-17th Centuries (Early Modern)\", \"link\": \"http://public-domain-poetry.com/john-milton/hymn-8433\"}, {\"x\": -0.03293812, \"y\": 0.021574842, \"title\": \"new; and him as for a map doth **nature** store, to show false art what beauty was of\", \"tokens\": \"new ; and him as for a map dot ##h nature store , to show false art what beauty was of\", \"word\": \"nature\", \"poem_title\": \"The Sonnets LXVIII - Thus is his cheek the map of days outworn\", \"author\": \"William Shakespeare\", \"period\": \"16th-17th Centuries (Early Modern)\", \"link\": \"http://public-domain-poetry.com/william-shakespeare/sonnets-lxviii-thus-is-his-cheek-the-map-of-days-outworn-8220\"}, {\"x\": -0.03381332, \"y\": -0.01853853, \"title\": \"a map doth nature store, to show false **art** what beauty was of yore. hence, hence\", \"tokens\": \"a map dot ##h nature store , to show false art what beauty was of yo ##re . hence , hence\", \"word\": \"art\", \"poem_title\": \"The Sonnets LXVIII - Thus is his cheek the map of days outworn\", \"author\": \"William Shakespeare\", \"period\": \"16th-17th Centuries (Early Modern)\", \"link\": \"http://public-domain-poetry.com/william-shakespeare/sonnets-lxviii-thus-is-his-cheek-the-map-of-days-outworn-8220\"}, {\"x\": -0.031894263, \"y\": -0.04572377, \"title\": \"urania, by that name if rightly thou **art** call'd, whose voice divine following, above\", \"tokens\": \"ur ##ania , by that name if right ##ly thou art call ' d , whose voice divine following , above\", \"word\": \"art\", \"poem_title\": \"Paradise Lost - Book VII\", \"author\": \"John Milton\", \"period\": \"16th-17th Centuries (Early Modern)\", \"link\": \"http://public-domain-poetry.com/john-milton/paradise-lost-book-vii-8318\"}, {\"x\": -0.03153127, \"y\": -0.04682149, \"title\": \"thou, who thee implores: for thou **art** heav 'nlie, shee an empty\", \"tokens\": \"thou , who thee imp ##lore ##s : for thou art he ##av ' nl ##ie , she ##e an empty\", \"word\": \"art\", \"poem_title\": \"Paradise Lost - Book VII\", \"author\": \"John Milton\", \"period\": \"16th-17th Centuries (Early Modern)\", \"link\": \"http://public-domain-poetry.com/john-milton/paradise-lost-book-vii-8318\"}, {\"x\": -0.031913683, \"y\": 0.021041006, \"title\": \"some thing of novity; as when in human **nature** he works more than ever yet the like was done\", \"tokens\": \"some thing of novi ##ty ; as when in human nature he works more than ever yet the like was done\", \"word\": \"nature\", \"poem_title\": \"God's Descent\", \"author\": \"Robert Herrick\", \"period\": \"16th-17th Centuries (Early Modern)\", \"link\": \"http://public-domain-poetry.com/robert-herrick/gods-descent-19664\"}, {\"x\": -0.03393174, \"y\": -0.03610388, \"title\": \"singular, the present age will tell the world thou **art**, if not to th 'whole, yet sat\", \"tokens\": \"singular , the present age will tell the world thou art , if not to th ' whole , yet sat\", \"word\": \"art\", \"poem_title\": \"To His Faithful Friend, M. John Crofts, Cup-Bearer To The King\", \"author\": \"Robert Herrick\", \"period\": \"16th-17th Centuries (Early Modern)\", \"link\": \"http://public-domain-poetry.com/robert-herrick/to-his-faithful-friend-m-john-crofts-cup-bearer-to-the-king-19090\"}, {\"x\": -0.03335446, \"y\": -0.03754873, \"title\": \"line about, live thou throughout the world; who **art** a man for all scenes; unto whom, what\", \"tokens\": \"line about , live thou throughout the world ; who art a man for all scenes ; unto whom , what\", \"word\": \"art\", \"poem_title\": \"To M. Leonard Willan, His Peculiar Friend\", \"author\": \"Robert Herrick\", \"period\": \"16th-17th Centuries (Early Modern)\", \"link\": \"http://public-domain-poetry.com/robert-herrick/to-m-leonard-willan-his-peculiar-friend-19199\"}, {\"x\": -0.033855837, \"y\": -0.029233312, \"title\": \"thee, but speak less, because thyself **art** coming to the press: and then should i in\", \"tokens\": \"thee , but speak less , because thy ##sel ##f art coming to the press : and then should i in\", \"word\": \"art\", \"poem_title\": \"To M. Leonard Willan, His Peculiar Friend\", \"author\": \"Robert Herrick\", \"period\": \"16th-17th Centuries (Early Modern)\", \"link\": \"http://public-domain-poetry.com/robert-herrick/to-m-leonard-willan-his-peculiar-friend-19199\"}, {\"x\": -0.031939987, \"y\": 0.02442652, \"title\": \"may want land to live in; but for all **nature** finds out some place for burial. o! how\", \"tokens\": \"may want land to live in ; but for all nature finds out some place for burial . o ! how\", \"word\": \"nature\", \"poem_title\": \"Burial\", \"author\": \"Robert Herrick\", \"period\": \"16th-17th Centuries (Early Modern)\", \"link\": \"http://public-domain-poetry.com/robert-herrick/burial-2178\"}, {\"x\": -0.03197964, \"y\": -0.043520745, \"title\": \"and for the comely carriage of it, thou **art** the man, the only man best known, mark\", \"tokens\": \"and for the come ##ly carriage of it , thou art the man , the only man best known , mark\", \"word\": \"art\", \"poem_title\": \"To His Honoured Friend, Sir John Mince\", \"author\": \"Robert Herrick\", \"period\": \"16th-17th Centuries (Early Modern)\", \"link\": \"http://public-domain-poetry.com/robert-herrick/to-his-honoured-friend-sir-john-mince-18916\"}, {\"x\": -0.03176146, \"y\": 0.02827248, \"title\": \"wit. to make him more ridiculous, in spite **nature** contrived the fool should be a knight.\", \"tokens\": \"wit . to make him more ridiculous , in spite nature con ##tri ##ved the fool should be a knight .\", \"word\": \"nature\", \"poem_title\": \"Tunbridge Wells\", \"author\": \"John Wilmot\", \"period\": \"16th-17th Centuries (Early Modern)\", \"link\": \"http://public-domain-poetry.com/john-wilmot/tunbridge-wells-2848\"}, {\"x\": -0.033631098, \"y\": 0.032824766, \"title\": \"spleen or malice need on them be thrown: **nature** has done the business of lampoon, and in\", \"tokens\": \"sp ##leen or malice need on them be thrown : nature has done the business of lamp ##oon , and in\", \"word\": \"nature\", \"poem_title\": \"Tunbridge Wells\", \"author\": \"John Wilmot\", \"period\": \"16th-17th Centuries (Early Modern)\", \"link\": \"http://public-domain-poetry.com/john-wilmot/tunbridge-wells-2848\"}, {\"x\": -0.03338905, \"y\": 0.038536347, \"title\": \"young damon loved the boy, the boast of **nature**, both his parents 'joy, his graceful form\", \"tokens\": \"young damon loved the boy , the bo ##ast of nature , both his parents ' joy , his graceful form\", \"word\": \"nature\", \"poem_title\": \"On The Death Of Amyntas\", \"author\": \"John Dryden\", \"period\": \"16th-17th Centuries (Early Modern)\", \"link\": \"http://public-domain-poetry.com/john-dryden/on-the-death-of-amyntas-14639\"}, {\"x\": -0.033595704, \"y\": 0.036205776, \"title\": \"what charms adorn'd thy youth, where **nature** smiled, and more than man was given us in\", \"tokens\": \"what charms ad ##orn ' d thy youth , where nature smiled , and more than man was given us in\", \"word\": \"nature\", \"poem_title\": \"On The Death Of Amyntas\", \"author\": \"John Dryden\", \"period\": \"16th-17th Centuries (Early Modern)\", \"link\": \"http://public-domain-poetry.com/john-dryden/on-the-death-of-amyntas-14639\"}, {\"x\": -0.03271748, \"y\": -0.015359549, \"title\": \"chirurgeon's praise, and height of **art**, not to cut off, but cure the vicious\", \"tokens\": \"chi ##ru ##rgeon ' s praise , and height of art , not to cut off , but cure the vicious\", \"word\": \"art\", \"poem_title\": \"Lenity\", \"author\": \"Robert Herrick\", \"period\": \"16th-17th Centuries (Early Modern)\", \"link\": \"http://public-domain-poetry.com/robert-herrick/lenity-19091\"}, {\"x\": -0.03485067, \"y\": 0.021954019, \"title\": \"man would be content to pay again what god and **nature** lent. an hour-glass, in which were\", \"tokens\": \"man would be content to pay again what god and nature lent . an hour - glass , in which were\", \"word\": \"nature\", \"poem_title\": \"Upon Time\", \"author\": \"Robert Herrick\", \"period\": \"16th-17th Centuries (Early Modern)\", \"link\": \"http://public-domain-poetry.com/robert-herrick/upon-time-2442\"}, {\"x\": -0.032554373, \"y\": 0.032774683, \"title\": \"rie state with pleasure! who keeps the key of **natures** cheifest treasure! to you, to\", \"tokens\": \"##rie state with pleasure ! who keeps the key of nature ##s che ##ife ##st treasure ! to you , to\", \"word\": \"nature\", \"poem_title\": \"Astrophel and Stella - First Song\", \"author\": \"Philip Sidney (Sir)\", \"period\": \"16th-17th Centuries (Early Modern)\", \"link\": \"http://public-domain-poetry.com/sir-philip-sidney/astrophel-and-stella-first-song-31942\"}, {\"x\": -0.034595158, \"y\": 0.031586353, \"title\": \", tell me what pleasure you can find in forcing **nature** 'gainst her will. 'tis true,\", \"tokens\": \", tell me what pleasure you can find in forcing nature ' gains ##t her will . ' tis true ,\", \"word\": \"nature\", \"poem_title\": \"Songs Set To Music: 6. Set By Mr. Smith\", \"author\": \"Matthew Prior\", \"period\": \"16th-17th Centuries (Early Modern)\", \"link\": \"http://public-domain-poetry.com/matthew-prior/songs-set-to-music-6-set-by-mr-smith-3034\"}, {\"x\": -0.032976106, \"y\": -0.013928301, \"title\": \"will. 'tis true, you may, with **art** and pain, keep in some glowings of desire\", \"tokens\": \"will . ' tis true , you may , with art and pain , keep in some glowing ##s of desire\", \"word\": \"art\", \"poem_title\": \"Songs Set To Music: 6. Set By Mr. Smith\", \"author\": \"Matthew Prior\", \"period\": \"16th-17th Centuries (Early Modern)\", \"link\": \"http://public-domain-poetry.com/matthew-prior/songs-set-to-music-6-set-by-mr-smith-3034\"}, {\"x\": -0.0316558, \"y\": -0.015489594, \"title\": \"our passions lesser power than theirs, who had less **art** them lively to express? is nature grown less powerful\", \"tokens\": \"our passions lesser power than theirs , who had less art them lively to express ? is nature grown less powerful\", \"word\": \"art\", \"poem_title\": \"Sonnets: Idea XXVII\", \"author\": \"Michael Drayton\", \"period\": \"16th-17th Centuries (Early Modern)\", \"link\": \"http://public-domain-poetry.com/michael-drayton/sonnets-idea-xxvii-14400\"}, {\"x\": -0.03349236, \"y\": 0.033566937, \"title\": \"who had less art them lively to express? is **nature** grown less powerful in their heirs, or in our\", \"tokens\": \"who had less art them lively to express ? is nature grown less powerful in their heirs , or in our\", \"word\": \"nature\", \"poem_title\": \"Sonnets: Idea XXVII\", \"author\": \"Michael Drayton\", \"period\": \"16th-17th Centuries (Early Modern)\", \"link\": \"http://public-domain-poetry.com/michael-drayton/sonnets-idea-xxvii-14400\"}, {\"x\": -0.03324254, \"y\": 0.036330573, \"title\": \"equal with his that loves his mistress most. or **nature** must be partial in my cause, or only you\", \"tokens\": \"equal with his that loves his mistress most . or nature must be partial in my cause , or only you\", \"word\": \"nature\", \"poem_title\": \"Sonnets: Idea XXVII\", \"author\": \"Michael Drayton\", \"period\": \"16th-17th Centuries (Early Modern)\", \"link\": \"http://public-domain-poetry.com/michael-drayton/sonnets-idea-xxvii-14400\"}, {\"x\": -0.029020416, \"y\": -0.04936352, \"title\": \"virgin soul from her fair hiding place. iv yet **art** thou not inglorious in thy fate; for\", \"tokens\": \"virgin soul from her fair hiding place . iv yet art thou not ing ##lor ##ious in thy fate ; for\", \"word\": \"art\", \"poem_title\": \"On The Death Of A Fair Infant Dying Of A Cough\", \"author\": \"John Milton\", \"period\": \"16th-17th Centuries (Early Modern)\", \"link\": \"http://public-domain-poetry.com/john-milton/on-the-death-of-a-fair-infant-dying-of-a-cough-8425\"}, {\"x\": -0.03067389, \"y\": -0.050313655, \"title\": \"v yet can i not perswade me thou **art** dead or that thy coarse corrupts in earths\", \"tokens\": \"v yet can i not per ##sw ##ade me thou art dead or that thy coarse corrupt ##s in earth ##s\", \"word\": \"art\", \"poem_title\": \"On The Death Of A Fair Infant Dying Of A Cough\", \"author\": \"John Milton\", \"period\": \"16th-17th Centuries (Early Modern)\", \"link\": \"http://public-domain-poetry.com/john-milton/on-the-death-of-a-fair-infant-dying-of-a-cough-8425\"}, {\"x\": -0.033580367, \"y\": -0.041519098, \"title\": \"speak of miracles by thee, may say that thou **art** flatter'd by me, who only write\", \"tokens\": \"speak of miracles by thee , may say that thou art flat ##ter ' d by me , who only write\", \"word\": \"art\", \"poem_title\": \"Sonnets: Idea XXXV To Miracle\", \"author\": \"Michael Drayton\", \"period\": \"16th-17th Centuries (Early Modern)\", \"link\": \"http://public-domain-poetry.com/michael-drayton/sonnets-idea-xxxv-to-miracle-14408\"}, {\"x\": -0.033529196, \"y\": 0.028987478, \"title\": \"? or a well-dispos'd **nature** join'd with a lovely creature? be she\", \"tokens\": \"? or a well - di ##sp ##os ' d nature join ' d with a lovely creature ? be she\", \"word\": \"nature\", \"poem_title\": \"Song\", \"author\": \"George Wither\", \"period\": \"16th-17th Centuries (Early Modern)\", \"link\": \"http://public-domain-poetry.com/george-wither/song-36452\"}, {\"x\": -0.0321617, \"y\": -0.043093387, \"title\": \"m along the elysian fields. speak, what **art** thou? euc. one once that had a\", \"tokens\": \"##m along the ely ##sian fields . speak , what art thou ? eu ##c . one once that had a\", \"word\": \"art\", \"poem_title\": \"The New Charon:\", \"author\": \"Robert Herrick\", \"period\": \"16th-17th Centuries (Early Modern)\", \"link\": \"http://public-domain-poetry.com/robert-herrick/new-charon-19681\"}, {\"x\": -0.03136181, \"y\": 0.013871108, \"title\": \"or may have, when you will? wherein wise **nature** you a dowrie gave, worth an estate,\", \"tokens\": \"or may have , when you will ? wherein wise nature you a dow ##rie gave , worth an estate ,\", \"word\": \"nature\", \"poem_title\": \"Epistle To Elizabeth Countesse Of Rutland\", \"author\": \"Ben Jonson\", \"period\": \"16th-17th Centuries (Early Modern)\", \"link\": \"http://public-domain-poetry.com/ben-jonson/epistle-to-elizabeth-countesse-of-rutland-2520\"}, {\"x\": -0.029813532, \"y\": 0.009044267, \"title\": \"that life ( i meane ) which doth **religion** teach, and by example true repentance preach\", \"tokens\": \"that life ( i mean ##e ) which dot ##h religion teach , and by example true rep ##ent ##ance preach\", \"word\": \"religion\", \"poem_title\": \"Amour 19\", \"author\": \"Michael Drayton\", \"period\": \"16th-17th Centuries (Early Modern)\", \"link\": \"http://public-domain-poetry.com/michael-drayton/amour-19-14456\"}, {\"x\": -0.029581731, \"y\": 0.008854294, \"title\": \"babies in your eyes;-by love's **religion**, i must here confess it, the most i\", \"tokens\": \"babies in your eyes ; - by love ' s religion , i must here confess it , the most i\", \"word\": \"religion\", \"poem_title\": \"To His Mistress, Objecting To Him Neither Toying Or Talking\", \"author\": \"Robert Herrick\", \"period\": \"16th-17th Centuries (Early Modern)\", \"link\": \"http://public-domain-poetry.com/robert-herrick/to-his-mistress-objecting-to-him-neither-toying-or-talking-2341\"}, {\"x\": -0.031293754, \"y\": -0.022436943, \"title\": \"smile in spite of all his zeal: an **art** peculiar to yourself alone, to join the virtues of\", \"tokens\": \"smile in spite of all his ze ##al : an art peculiar to yourself alone , to join the virtues of\", \"word\": \"art\", \"poem_title\": \"To Henry Higden,[1] Esq., On His Translation Of The Tenth Satire Of Juvenal\", \"author\": \"John Dryden\", \"period\": \"16th-17th Centuries (Early Modern)\", \"link\": \"http://public-domain-poetry.com/john-dryden/to-henry-higden-esq-on-his-translation-of-the-tenth-satire-of-juvenal-14627\"}, {\"x\": -0.025979366, \"y\": 0.028088395, \"title\": \"the staff, why should i help the ill-**natured** world to laugh? 'tis all alike to\", \"tokens\": \"the staff , why should i help the ill - nature ##d world to laugh ? ' tis all alike to\", \"word\": \"nature\", \"poem_title\": \"To Henry Higden,[1] Esq., On His Translation Of The Tenth Satire Of Juvenal\", \"author\": \"John Dryden\", \"period\": \"16th-17th Centuries (Early Modern)\", \"link\": \"http://public-domain-poetry.com/john-dryden/to-henry-higden-esq-on-his-translation-of-the-tenth-satire-of-juvenal-14627\"}, {\"x\": -0.032284386, \"y\": -0.044622306, \"title\": \"mphs, and their powers offended, yet thou **art** higher far descended, thee bright-hair'd\", \"tokens\": \"##mp ##hs , and their powers offended , yet thou art higher far descended , thee bright - hair ' d\", \"word\": \"art\", \"poem_title\": \"Il Penseroso\", \"author\": \"John Milton\", \"period\": \"16th-17th Centuries (Early Modern)\", \"link\": \"http://public-domain-poetry.com/john-milton/il-penseroso-8310\"}, {\"x\": -0.034493126, \"y\": -0.025852997, \"title\": \"to death resigne, and thou an angell **art**, and from aboue; thy father was a\", \"tokens\": \"to death resign ##e , and thou an angel ##l art , and from ab ##oue ; thy father was a\", \"word\": \"art\", \"poem_title\": \"Amour 40\", \"author\": \"Michael Drayton\", \"period\": \"16th-17th Centuries (Early Modern)\", \"link\": \"http://public-domain-poetry.com/michael-drayton/amour-40-14477\"}, {\"x\": -0.03508259, \"y\": -0.026138104, \"title\": \"will i proue, yet thou a goddesse **art**, and so diuine. and thus,\", \"tokens\": \"will i pro ##ue , yet thou a goddess ##e art , and so di ##uin ##e . and thus ,\", \"word\": \"art\", \"poem_title\": \"Amour 40\", \"author\": \"Michael Drayton\", \"period\": \"16th-17th Centuries (Early Modern)\", \"link\": \"http://public-domain-poetry.com/michael-drayton/amour-40-14477\"}, {\"x\": -0.030089254, \"y\": 0.027363516, \"title\": \"es allow no land to basterdy: by **natures** lawes we thee a bastard finde.\", \"tokens\": \"##es allow no land to bas ##ter ##dy : by nature ##s law ##es we thee a bastard find ##e .\", \"word\": \"nature\", \"poem_title\": \"Amour 40\", \"author\": \"Michael Drayton\", \"period\": \"16th-17th Centuries (Early Modern)\", \"link\": \"http://public-domain-poetry.com/michael-drayton/amour-40-14477\"}, {\"x\": -0.033266976, \"y\": -0.040371716, \"title\": \"e bastard goe, for sure of thence thou **art**. while blooming youth and gay delight sit on\", \"tokens\": \"##e bastard go ##e , for sure of thence thou art . while bloom ##ing youth and gay delight sit on\", \"word\": \"art\", \"poem_title\": \"An Ode : While Blooming Youth And Gay Delight\", \"author\": \"Matthew Prior\", \"period\": \"16th-17th Centuries (Early Modern)\", \"link\": \"http://public-domain-poetry.com/matthew-prior/an-ode-while-blooming-youth-and-gay-delight-3007\"}, {\"x\": -0.033772964, \"y\": -0.021508785, \"title\": \"millions of repeated blisses prove that thou all kindness **art**, and i all love. be mine, and\", \"tokens\": \"millions of repeated bliss ##es prove that thou all kindness art , and i all love . be mine , and\", \"word\": \"art\", \"poem_title\": \"An Ode : While Blooming Youth And Gay Delight\", \"author\": \"Matthew Prior\", \"period\": \"16th-17th Centuries (Early Modern)\", \"link\": \"http://public-domain-poetry.com/matthew-prior/an-ode-while-blooming-youth-and-gay-delight-3007\"}, {\"x\": -0.034386307, \"y\": 0.031858493, \"title\": \"their sovereign's mind: when tired with following **nature**, you think fit to seek repose in the\", \"tokens\": \"their sovereign ' s mind : when tired with following nature , you think fit to seek rep ##ose in the\", \"word\": \"nature\", \"poem_title\": \"Prologue To The University Of Oxford, 1674\", \"author\": \"John Dryden\", \"period\": \"16th-17th Centuries (Early Modern)\", \"link\": \"http://public-domain-poetry.com/john-dryden/prologue-to-the-university-of-oxford-1674-14684\"}, {\"x\": -0.031676088, \"y\": -0.016601698, \"title\": \", o 'ercame the pilot's **art**. yet then from all my griefs, o\", \"tokens\": \", o ' er ##cam ##e the pilot ' s art . yet then from all my grief ##s , o\", \"word\": \"art\", \"poem_title\": \"How Are Thy Servants Blest\", \"author\": \"Joseph Addison\", \"period\": \"16th-17th Centuries (Early Modern)\", \"link\": \"http://public-domain-poetry.com/joseph-addison/how-are-thy-servants-blest-387\"}, {\"x\": -0.031466886, \"y\": -0.04601856, \"title\": \"not come, and take thy way where yet thou **art** not known. if for thy father askt,\", \"tokens\": \"not come , and take thy way where yet thou art not known . if for thy father ask ##t ,\", \"word\": \"art\", \"poem_title\": \"The Author To Her Book\", \"author\": \"Anne Bradstreet\", \"period\": \"16th-17th Centuries (Early Modern)\", \"link\": \"http://public-domain-poetry.com/anne-bradstreet/author-to-her-book-9443\"}, {\"x\": -0.030103002, \"y\": -0.045755155, \"title\": \". my dear delight, my ursula, and where **art** thou departed, to what land, what sphere?\", \"tokens\": \". my dear delight , my ursula , and where art thou departed , to what land , what sphere ?\", \"word\": \"art\", \"poem_title\": \"Lament X\", \"author\": \"Jan Kochanowski\", \"period\": \"16th-17th Centuries (Early Modern)\", \"link\": \"http://public-domain-poetry.com/jan-kochanowski/lament-x-21878\"}, {\"x\": -0.031995792, \"y\": -0.042779654, \"title\": \"or now upon the islands of the blest **art** thou? or in his ferry o 'er the\", \"tokens\": \"or now upon the islands of the b ##les ##t art thou ? or in his ferry o ' er the\", \"word\": \"art\", \"poem_title\": \"Lament X\", \"author\": \"Jan Kochanowski\", \"period\": \"16th-17th Centuries (Early Modern)\", \"link\": \"http://public-domain-poetry.com/jan-kochanowski/lament-x-21878\"}, {\"x\": -0.03179352, \"y\": -0.04482167, \"title\": \", little daughter? and having drunken of forgetfulness **art** thou unwitting of my sore distress? or\", \"tokens\": \", little daughter ? and having drunken of forget ##fulness art thou un ##wi ##tting of my sore distress ? or\", \"word\": \"art\", \"poem_title\": \"Lament X\", \"author\": \"Jan Kochanowski\", \"period\": \"16th-17th Centuries (Early Modern)\", \"link\": \"http://public-domain-poetry.com/jan-kochanowski/lament-x-21878\"}, {\"x\": -0.030171592, \"y\": -0.04551527, \"title\": \"or, casting off thy human, maiden veil, **art** thou enfeathered in some nightingale? or\", \"tokens\": \"or , casting off thy human , maiden veil , art thou en ##fe ##ath ##ered in some nightingale ? or\", \"word\": \"art\", \"poem_title\": \"Lament X\", \"author\": \"Jan Kochanowski\", \"period\": \"16th-17th Centuries (Early Modern)\", \"link\": \"http://public-domain-poetry.com/jan-kochanowski/lament-x-21878\"}, {\"x\": -0.032519568, \"y\": -0.044580244, \"title\": \"to bring me heavy hurt? where 'er thou **art**, ah! pity, comfort me; and if\", \"tokens\": \"to bring me heavy hurt ? where ' er thou art , ah ! pity , comfort me ; and if\", \"word\": \"art\", \"poem_title\": \"Lament X\", \"author\": \"Jan Kochanowski\", \"period\": \"16th-17th Centuries (Early Modern)\", \"link\": \"http://public-domain-poetry.com/jan-kochanowski/lament-x-21878\"}, {\"x\": -0.034274098, \"y\": -0.034937236, \"title\": \"'st love to any, who for thy self **art** so unprovident. grant, if thou\", \"tokens\": \"' st love to any , who for thy self art so un ##pro ##vid ##ent . grant , if thou\", \"word\": \"art\", \"poem_title\": \"The Sonnets X - For shame! deny that thou bear'st love to any\", \"author\": \"William Shakespeare\", \"period\": \"16th-17th Centuries (Early Modern)\", \"link\": \"http://public-domain-poetry.com/william-shakespeare/sonnets-x-for-shame-deny-that-thou-bearst-love-to-any-8162\"}, {\"x\": -0.03338175, \"y\": -0.043754544, \"title\": \"ent. grant, if thou wilt, thou **art** belov'd of many, but that thou\", \"tokens\": \"##ent . grant , if thou wil ##t , thou art bel ##ov ' d of many , but that thou\", \"word\": \"art\", \"poem_title\": \"The Sonnets X - For shame! deny that thou bear'st love to any\", \"author\": \"William Shakespeare\", \"period\": \"16th-17th Centuries (Early Modern)\", \"link\": \"http://public-domain-poetry.com/william-shakespeare/sonnets-x-for-shame-deny-that-thou-bearst-love-to-any-8162\"}, {\"x\": -0.0333961, \"y\": -0.044353604, \"title\": \"lov'st is most evident: for thou **art** so possess'd with murderous hate, that '\", \"tokens\": \"lo ##v ' st is most evident : for thou art so possess ' d with murderous hate , that '\", \"word\": \"art\", \"poem_title\": \"The Sonnets X - For shame! deny that thou bear'st love to any\", \"author\": \"William Shakespeare\", \"period\": \"16th-17th Centuries (Early Modern)\", \"link\": \"http://public-domain-poetry.com/william-shakespeare/sonnets-x-for-shame-deny-that-thou-bearst-love-to-any-8162\"}, {\"x\": -0.030993367, \"y\": -0.043838546, \"title\": \"without thy light what light remains in me? thou **art** my life; my way, my light's\", \"tokens\": \"without thy light what light remains in me ? thou art my life ; my way , my light ' s\", \"word\": \"art\", \"poem_title\": \"To His Mistress\", \"author\": \"John Wilmot\", \"period\": \"16th-17th Centuries (Early Modern)\", \"link\": \"http://public-domain-poetry.com/john-wilmot/to-his-mistress-2846\"}, {\"x\": -0.03090393, \"y\": -0.043329928, \"title\": \"move, and by thy beams i see. thou **art** my life-if thou but turn away my life\", \"tokens\": \"move , and by thy beams i see . thou art my life - if thou but turn away my life\", \"word\": \"art\", \"poem_title\": \"To His Mistress\", \"author\": \"John Wilmot\", \"period\": \"16th-17th Centuries (Early Modern)\", \"link\": \"http://public-domain-poetry.com/john-wilmot/to-his-mistress-2846\"}, {\"x\": -0.030978188, \"y\": -0.04326588, \"title\": \"away my life's a thousand deaths. thou **art** my way-without. thee, love, i\", \"tokens\": \"away my life ' s a thousand deaths . thou art my way - without . thee , love , i\", \"word\": \"art\", \"poem_title\": \"To His Mistress\", \"author\": \"John Wilmot\", \"period\": \"16th-17th Centuries (Early Modern)\", \"link\": \"http://public-domain-poetry.com/john-wilmot/to-his-mistress-2846\"}, {\"x\": -0.032799378, \"y\": -0.035968017, \"title\": \", i travel not but stray. my light thou **art**-without thy glorious sight my eyes are darken\", \"tokens\": \", i travel not but stray . my light thou art - without thy glorious sight my eyes are dark ##en\", \"word\": \"art\", \"poem_title\": \"To His Mistress\", \"author\": \"John Wilmot\", \"period\": \"16th-17th Centuries (Early Modern)\", \"link\": \"http://public-domain-poetry.com/john-wilmot/to-his-mistress-2846\"}, {\"x\": -0.03088337, \"y\": -0.043439552, \"title\": \"'d with eternal night. my love, thou **art** my way, my life, my light. thou\", \"tokens\": \"' d with eternal night . my love , thou art my way , my life , my light . thou\", \"word\": \"art\", \"poem_title\": \"To His Mistress\", \"author\": \"John Wilmot\", \"period\": \"16th-17th Centuries (Early Modern)\", \"link\": \"http://public-domain-poetry.com/john-wilmot/to-his-mistress-2846\"}, {\"x\": -0.030229632, \"y\": -0.04340884, \"title\": \"my way, my life, my light. thou **art** my way; i wander if thou fly. thou\", \"tokens\": \"my way , my life , my light . thou art my way ; i wander if thou fly . thou\", \"word\": \"art\", \"poem_title\": \"To His Mistress\", \"author\": \"John Wilmot\", \"period\": \"16th-17th Centuries (Early Modern)\", \"link\": \"http://public-domain-poetry.com/john-wilmot/to-his-mistress-2846\"}, {\"x\": -0.030173685, \"y\": -0.045066006, \"title\": \"my way; i wander if thou fly. thou **art** my light; if hid, how blind am i\", \"tokens\": \"my way ; i wander if thou fly . thou art my light ; if hid , how blind am i\", \"word\": \"art\", \"poem_title\": \"To His Mistress\", \"author\": \"John Wilmot\", \"period\": \"16th-17th Centuries (Early Modern)\", \"link\": \"http://public-domain-poetry.com/john-wilmot/to-his-mistress-2846\"}, {\"x\": -0.03019083, \"y\": -0.044692513, \"title\": \"; if hid, how blind am i! thou **art** my life; if thou withdraw'st, i\", \"tokens\": \"; if hid , how blind am i ! thou art my life ; if thou withdraw ' st , i\", \"word\": \"art\", \"poem_title\": \"To His Mistress\", \"author\": \"John Wilmot\", \"period\": \"16th-17th Centuries (Early Modern)\", \"link\": \"http://public-domain-poetry.com/john-wilmot/to-his-mistress-2846\"}, {\"x\": -0.02994415, \"y\": -0.04464219, \"title\": \"grace and thou deny'st me! speak, **art** thou angry, love, or only try'st\", \"tokens\": \"grace and thou deny ' st me ! speak , art thou angry , love , or only try ' st\", \"word\": \"art\", \"poem_title\": \"To His Mistress\", \"author\": \"John Wilmot\", \"period\": \"16th-17th Centuries (Early Modern)\", \"link\": \"http://public-domain-poetry.com/john-wilmot/to-his-mistress-2846\"}, {\"x\": -0.03045317, \"y\": -0.047689527, \"title\": \"love, or only try'st me? thou **art** the pilgrim's path, the blind man '\", \"tokens\": \"love , or only try ' st me ? thou art the pilgrim ' s path , the blind man '\", \"word\": \"art\", \"poem_title\": \"To His Mistress\", \"author\": \"John Wilmot\", \"period\": \"16th-17th Centuries (Early Modern)\", \"link\": \"http://public-domain-poetry.com/john-wilmot/to-his-mistress-2846\"}, {\"x\": -0.030610142, \"y\": -0.044368636, \"title\": \", and dead, and stray!-o thou **art** my life, my light, my way! then\", \"tokens\": \", and dead , and stray ! - o thou art my life , my light , my way ! then\", \"word\": \"art\", \"poem_title\": \"To His Mistress\", \"author\": \"John Wilmot\", \"period\": \"16th-17th Centuries (Early Modern)\", \"link\": \"http://public-domain-poetry.com/john-wilmot/to-his-mistress-2846\"}, {\"x\": -0.032124728, \"y\": 0.026931562, \"title\": \"tis man, said he, who, weak by **nature**, at first creeps, like his fellow-\", \"tokens\": \"tis man , said he , who , weak by nature , at first creep ##s , like his fellow -\", \"word\": \"nature\", \"poem_title\": \"Two Riddles\", \"author\": \"Matthew Prior\", \"period\": \"16th-17th Centuries (Early Modern)\", \"link\": \"http://public-domain-poetry.com/matthew-prior/two-riddles-2911\"}, {\"x\": -0.032377955, \"y\": -0.045126405, \"title\": \"so this fond bird will likewise counterfeit: thou **art** the fowler, and doest shew vs shapes\", \"tokens\": \"so this fond bird will likewise counter ##feit : thou art the fowler , and does ##t she ##w vs shapes\", \"word\": \"art\", \"poem_title\": \"Among the Panegyrical Verses before Coryat's Crudities (1611)\", \"author\": \"Michael Drayton\", \"period\": \"16th-17th Centuries (Early Modern)\", \"link\": \"http://public-domain-poetry.com/michael-drayton/among-the-panegyrical-verses-before-coryats-crudities-1611-14596\"}, {\"x\": -0.032695252, \"y\": -0.037770666, \"title\": \", then againe i blesse her. worthy **art** thou, o lord, of praise, but ah\", \"tokens\": \", then again ##e i bless ##e her . worthy art thou , o lord , of praise , but ah\", \"word\": \"art\", \"poem_title\": \"Deliverance From A Fit Of Fainting\", \"author\": \"Anne Bradstreet\", \"period\": \"16th-17th Centuries (Early Modern)\", \"link\": \"http://public-domain-poetry.com/anne-bradstreet/deliverance-from-a-fit-of-fainting-9456\"}, {\"x\": -0.027054656, \"y\": 0.024634069, \"title\": \"thesis both absurd and bold, and your good-**natured** gods, they say, descend some twice or\", \"tokens\": \"thesis both absurd and bold , and your good - nature ##d gods , they say , descend some twice or\", \"word\": \"nature\", \"poem_title\": \"The Ladle. A Tale\", \"author\": \"Matthew Prior\", \"period\": \"16th-17th Centuries (Early Modern)\", \"link\": \"http://public-domain-poetry.com/matthew-prior/ladle-a-tale-2892\"}, {\"x\": -0.03082117, \"y\": 0.026915887, \"title\": \"d that those opinions are the best which in their **nature** most conduce to present ends and private use\", \"tokens\": \"d that those opinions are the best which in their nature most con ##du ##ce to present ends and private use\", \"word\": \"nature\", \"poem_title\": \"The Ladle. A Tale\", \"author\": \"Matthew Prior\", \"period\": \"16th-17th Centuries (Early Modern)\", \"link\": \"http://public-domain-poetry.com/matthew-prior/ladle-a-tale-2892\"}, {\"x\": -0.029420687, \"y\": -0.019721547, \"title\": \"though from the consort of her sisters fled unto the artick circle, here to grace, and gild\", \"tokens\": \"though from the consort of her sisters fled unto the art ##ick circle , here to grace , and gil ##d\", \"word\": \"art\", \"poem_title\": \"The Speech\", \"author\": \"Ben Jonson\", \"period\": \"16th-17th Centuries (Early Modern)\", \"link\": \"http://public-domain-poetry.com/ben-jonson/speech-2493\"}, {\"x\": -0.032326862, \"y\": 0.030559134, \"title\": \"here and poetess. god is his name of **nature**; but that word implies his power when he '\", \"tokens\": \"here and poet ##ess . god is his name of nature ; but that word implies his power when he '\", \"word\": \"nature\", \"poem_title\": \"God, And Lord\", \"author\": \"Robert Herrick\", \"period\": \"16th-17th Centuries (Early Modern)\", \"link\": \"http://public-domain-poetry.com/robert-herrick/god-and-lord-19570\"}, {\"x\": -0.03587606, \"y\": 0.026147936, \"title\": \"within what bounds can one his liking stay, where **nature** doth with infinite agree? what nestors counsel\", \"tokens\": \"within what bounds can one his liking stay , where nature dot ##h with infinite agree ? what nestor ##s counsel\", \"word\": \"nature\", \"poem_title\": \"Astrophel and Stella - Sonnet XXXV\", \"author\": \"Philip Sidney (Sir)\", \"period\": \"16th-17th Centuries (Early Modern)\", \"link\": \"http://public-domain-poetry.com/sir-philip-sidney/astrophel-and-stella-sonnet-xxxv-31866\"}, {\"x\": -0.033498593, \"y\": -0.040460397, \"title\": \": it is a praise to praise, when thou **art** praisde. come, sit we under yo\", \"tokens\": \": it is a praise to praise , when thou art pr ##ais ##de . come , sit we under yo\", \"word\": \"art\", \"poem_title\": null, \"author\": null, \"period\": null, \"link\": null}, {\"x\": -0.03239335, \"y\": -0.04276697, \"title\": \"youth; and all because, fair maid, thou **art** insensible of all my smart, and of\", \"tokens\": \"youth ; and all because , fair maid , thou art ins ##ens ##ible of all my smart , and of\", \"word\": \"art\", \"poem_title\": \"To Myrrha, Hard-Hearted\", \"author\": \"Robert Herrick\", \"period\": \"16th-17th Centuries (Early Modern)\", \"link\": \"http://public-domain-poetry.com/robert-herrick/to-myrrha-hard-hearted-18682\"}, {\"x\": -0.030153515, \"y\": -0.044542238, \"title\": \"vnto our endless mone, from vs why **art** thou gone, to fill vp that sweete angels\", \"tokens\": \"v ##nto our endless mon ##e , from vs why art thou gone , to fill vp that sweet ##e angels\", \"word\": \"art\", \"poem_title\": \"From Eclogue iv\", \"author\": \"Michael Drayton\", \"period\": \"16th-17th Centuries (Early Modern)\", \"link\": \"http://public-domain-poetry.com/michael-drayton/from-eclogue-iv-14582\"}, {\"x\": -0.031023432, \"y\": 0.024009809, \"title\": \"iurie: who since he hath, by **natures** speciall grace, so piercing pawes as\", \"tokens\": \"##iu ##rie : who since he hat ##h , by nature ##s special ##l grace , so piercing paw ##es as\", \"word\": \"nature\", \"poem_title\": \"Astrophel and Stella - Sonnet LXXVIII\", \"author\": \"Philip Sidney (Sir)\", \"period\": \"16th-17th Centuries (Early Modern)\", \"link\": \"http://public-domain-poetry.com/sir-philip-sidney/astrophel-and-stella-sonnet-lxxviii-31909\"}, {\"x\": -0.033651218, \"y\": -0.039038435, \"title\": \"he, thy poor silly corydon. thou that **art** the shepherds 'queen, look upon thy silly\", \"tokens\": \"he , thy poor silly cory ##don . thou that art the shepherd ##s ' queen , look upon thy silly\", \"word\": \"art\", \"poem_title\": \"A Pastoral of Phyllis and Corydon\", \"author\": \"Nicholas Breton\", \"period\": \"16th-17th Centuries (Early Modern)\", \"link\": \"http://public-domain-poetry.com/nicholas-breton/pastoral-of-phyllis-and-corydon-36436\"}, {\"x\": -0.03441949, \"y\": 0.030846504, \"title\": \"at thy will thy paine to swage; **nature** with care sweates for hir darlings sake\", \"tokens\": \"at thy will thy pain ##e to sw ##age ; nature with care sweat ##es for hi ##r darling ##s sake\", \"word\": \"nature\", \"poem_title\": \"Astrophel and Stella - Sonnet CI\", \"author\": \"Philip Sidney (Sir)\", \"period\": \"16th-17th Centuries (Early Modern)\", \"link\": \"http://public-domain-poetry.com/sir-philip-sidney/astrophel-and-stella-sonnet-ci-31932\"}, {\"x\": -0.031807445, \"y\": -0.01776034, \"title\": \"where with most ease and warmth he might employ his **art**; at length he perch'd himself in stella\", \"tokens\": \"where with most ease and warmth he might employ his art ; at length he perch ' d himself in stella\", \"word\": \"art\", \"poem_title\": \"Astrophel and Stella - Sonnet VIII\", \"author\": \"Philip Sidney (Sir)\", \"period\": \"16th-17th Centuries (Early Modern)\", \"link\": \"http://public-domain-poetry.com/sir-philip-sidney/astrophel-and-stella-sonnet-viii-31839\"}, {\"x\": -0.033609707, \"y\": 0.026827713, \"title\": \"light, effects of liuely heat must needs in **nature** grow: but she, most faire, most\", \"tokens\": \"light , effects of liu ##ely heat must needs in nature grow : but she , most fair ##e , most\", \"word\": \"nature\", \"poem_title\": \"Astrophel and Stella - Sonnet VIII\", \"author\": \"Philip Sidney (Sir)\", \"period\": \"16th-17th Centuries (Early Modern)\", \"link\": \"http://public-domain-poetry.com/sir-philip-sidney/astrophel-and-stella-sonnet-viii-31839\"}, {\"x\": -0.026691398, \"y\": 0.0117227975, \"title\": \"his rising arms. numa the rights of strict **religion** knew; on ev 'ry altar laid the incense\", \"tokens\": \"his rising arms . nu ##ma the rights of strict religion knew ; on ev ' ry altar laid the incense\", \"word\": \"religion\", \"poem_title\": \"Carmen Seculare. For the Year 1700. To The King\", \"author\": \"Matthew Prior\", \"period\": \"16th-17th Centuries (Early Modern)\", \"link\": \"http://public-domain-poetry.com/matthew-prior/carmen-seculare-for-the-year-1700-to-the-king-2895\"}, {\"x\": -0.030560143, \"y\": -0.045830045, \"title\": \"spouse. lastly, be mindful, when thou **art** grown great, that towers high rear'd dread\", \"tokens\": \"spouse . lastly , be mind ##ful , when thou art grown great , that towers high rear ' d dread\", \"word\": \"art\", \"poem_title\": \"To His Worthy Friend, M. Thos. Falconbirge\", \"author\": \"Robert Herrick\", \"period\": \"16th-17th Centuries (Early Modern)\", \"link\": \"http://public-domain-poetry.com/robert-herrick/to-his-worthy-friend-m-thos-falconbirge-18889\"}, {\"x\": -0.034016926, \"y\": -0.033081412, \"title\": \"shaking, crazy cold; but still continue as thou **art**, ancient person of my heart. on thy with\", \"tokens\": \"shaking , crazy cold ; but still continue as thou art , ancient person of my heart . on thy with\", \"word\": \"art\", \"poem_title\": \"A Song Of A Young Lady To Her Ancient Lover\", \"author\": \"John Wilmot\", \"period\": \"16th-17th Centuries (Early Modern)\", \"link\": \"http://public-domain-poetry.com/john-wilmot/song-of-a-young-lady-to-her-ancient-lover-2840\"}, {\"x\": -0.034850225, \"y\": -0.0178655, \"title\": \"teach; and for thy pleasure shall improve all that **art** can add to love. yet still i love thee\", \"tokens\": \"teach ; and for thy pleasure shall improve all that art can add to love . yet still i love thee\", \"word\": \"art\", \"poem_title\": \"A Song Of A Young Lady To Her Ancient Lover\", \"author\": \"John Wilmot\", \"period\": \"16th-17th Centuries (Early Modern)\", \"link\": \"http://public-domain-poetry.com/john-wilmot/song-of-a-young-lady-to-her-ancient-lover-2840\"}, {\"x\": -0.032106508, \"y\": -0.025733422, \"title\": \"add to love. yet still i love thee without **art**, ancient person of my heart. i. one\", \"tokens\": \"add to love . yet still i love thee without art , ancient person of my heart . i . one\", \"word\": \"art\", \"poem_title\": \"A Song Of A Young Lady To Her Ancient Lover\", \"author\": \"John Wilmot\", \"period\": \"16th-17th Centuries (Early Modern)\", \"link\": \"http://public-domain-poetry.com/john-wilmot/song-of-a-young-lady-to-her-ancient-lover-2840\"}, {\"x\": -0.03315311, \"y\": 0.036405895, \"title\": \", superior to an age, the full extremes of **nature**'s force we find: how heavenly virtue can\", \"tokens\": \", superior to an age , the full extremes of nature ' s force we find : how heavenly virtue can\", \"word\": \"nature\", \"poem_title\": \"To Mr. Harley - Wounded By Guiscard\", \"author\": \"Matthew Prior\", \"period\": \"16th-17th Centuries (Early Modern)\", \"link\": \"http://public-domain-poetry.com/matthew-prior/to-mr-harley-wounded-by-guiscard-2914\"}, {\"x\": -0.03290583, \"y\": -0.038267113, \"title\": \", and forbids thy death. great as thou **art**, thou canst demand no more, o breast\", \"tokens\": \", and forbid ##s thy death . great as thou art , thou cans ##t demand no more , o breast\", \"word\": \"art\", \"poem_title\": \"To Mr. Harley - Wounded By Guiscard\", \"author\": \"Matthew Prior\", \"period\": \"16th-17th Centuries (Early Modern)\", \"link\": \"http://public-domain-poetry.com/matthew-prior/to-mr-harley-wounded-by-guiscard-2914\"}, {\"x\": -0.029653128, \"y\": 0.011871149, \"title\": \"tes to maligne so. thy love to true **religion** e 're shall shine, my fathers god,\", \"tokens\": \"##tes to mali ##gne so . thy love to true religion e ' re shall shine , my fathers god ,\", \"word\": \"religion\", \"poem_title\": \"To The Memory Of My Dear And Ever Honoured Father, Thomas Dudley; Esq. Who Deceased, July 31. 1653. And Of His Age, 77\", \"author\": \"Anne Bradstreet\", \"period\": \"16th-17th Centuries (Early Modern)\", \"link\": \"http://public-domain-poetry.com/anne-bradstreet/to-the-memory-of-my-dear-and-ever-honoured-father-thomas-dudley-esq-who-deceased-july-31-1653-and-o-9471\"}, {\"x\": -0.03441094, \"y\": 0.034969326, \"title\": \"us, in the mind, which leaving light of **nature**, sense behind; pathless and dang '\", \"tokens\": \"##us , in the mind , which leaving light of nature , sense behind ; path ##less and dan ##g '\", \"word\": \"nature\", \"poem_title\": \"A Satyre Against Mankind\", \"author\": \"John Wilmot\", \"period\": \"16th-17th Centuries (Early Modern)\", \"link\": \"http://public-domain-poetry.com/john-wilmot/satyre-against-mankind-2842\"}, {\"x\": -0.033530664, \"y\": -0.010838314, \"title\": \"wealth in lands unknown before; and, what their **art** had labour'd long in vain, by their\", \"tokens\": \"wealth in lands unknown before ; and , what their art had labour ' d long in vain , by their\", \"word\": \"art\", \"poem_title\": \"To The Lady Castlemain,[1] Upon Her Encouraging His First Play\", \"author\": \"John Dryden\", \"period\": \"16th-17th Centuries (Early Modern)\", \"link\": \"http://public-domain-poetry.com/john-dryden/to-the-lady-castlemain-upon-her-encouraging-his-first-play-14621\"}, {\"x\": -0.033281185, \"y\": 0.035272647, \"title\": \"r cause, from your own knowledge, not from **nature**'s laws. your power you never use,\", \"tokens\": \"##r cause , from your own knowledge , not from nature ' s laws . your power you never use ,\", \"word\": \"nature\", \"poem_title\": \"To The Lady Castlemain,[1] Upon Her Encouraging His First Play\", \"author\": \"John Dryden\", \"period\": \"16th-17th Centuries (Early Modern)\", \"link\": \"http://public-domain-poetry.com/john-dryden/to-the-lady-castlemain-upon-her-encouraging-his-first-play-14621\"}, {\"x\": -0.02796921, \"y\": -0.04627844, \"title\": \"to laugh, like flowers only halfway out. \\\"**art** thou still sorrowing, my son? \\\"thus\", \"tokens\": \"to laugh , like flowers only halfway out . \\\" art thou still sorrow ##ing , my son ? \\\" thus\", \"word\": \"art\", \"poem_title\": \"Lament XIX. The Dream\", \"author\": \"Jan Kochanowski\", \"period\": \"16th-17th Centuries (Early Modern)\", \"link\": \"http://public-domain-poetry.com/jan-kochanowski/lament-xix-the-dream-21887\"}, {\"x\": -0.0335171, \"y\": -0.033193704, \"title\": \"part, ( if merciful, as fair thou **art**; or else desir'st that maids should\", \"tokens\": \"part , ( if mer ##ciful , as fair thou art ; or else des ##ir ' st that maids should\", \"word\": \"art\", \"poem_title\": \"To Dianeme\", \"author\": \"Robert Herrick\", \"period\": \"16th-17th Centuries (Early Modern)\", \"link\": \"http://public-domain-poetry.com/robert-herrick/to-dianeme-18601\"}, {\"x\": -0.03316621, \"y\": -0.037748847, \"title\": \"one; ten times thy self were happier than thou **art**, if ten of thine ten times refig\", \"tokens\": \"one ; ten times thy self were happier than thou art , if ten of thin ##e ten times ref ##ig\", \"word\": \"art\", \"poem_title\": \"The Sonnets VI - Then let not winter's ragged hand deface\", \"author\": \"William Shakespeare\", \"period\": \"16th-17th Centuries (Early Modern)\", \"link\": \"http://public-domain-poetry.com/william-shakespeare/sonnets-vi-then-let-not-winters-ragged-hand-deface-8158\"}, {\"x\": -0.032140497, \"y\": -0.046238817, \"title\": \"be not self-will'd, for thou **art** much too fair to be death's conquest and\", \"tokens\": \"be not self - will ' d , for thou art much too fair to be death ' s conquest and\", \"word\": \"art\", \"poem_title\": \"The Sonnets VI - Then let not winter's ragged hand deface\", \"author\": \"William Shakespeare\", \"period\": \"16th-17th Centuries (Early Modern)\", \"link\": \"http://public-domain-poetry.com/william-shakespeare/sonnets-vi-then-let-not-winters-ragged-hand-deface-8158\"}, {\"x\": -0.03292866, \"y\": 0.031754486, \"title\": \"sweetness and youth, where love is secured by good **nature** and truth; on her beauty i 'll gaze\", \"tokens\": \"sweetness and youth , where love is secured by good nature and truth ; on her beauty i ' ll gaze\", \"word\": \"nature\", \"poem_title\": \"To This Moment A Rebel\", \"author\": \"John Wilmot\", \"period\": \"16th-17th Centuries (Early Modern)\", \"link\": \"http://public-domain-poetry.com/john-wilmot/to-this-moment-a-rebel-2847\"}, {\"x\": -0.033335846, \"y\": -0.034503527, \"title\": \"consumed that in thy pity lies; but as thou **art** that phyllis fair, that fortune favour gives, so\", \"tokens\": \"consumed that in thy pity lies ; but as thou art that phyllis fair , that fortune favour gives , so\", \"word\": \"art\", \"poem_title\": \"Corydon's Supplication to Phyllis\", \"author\": \"Nicholas Breton\", \"period\": \"16th-17th Centuries (Early Modern)\", \"link\": \"http://public-domain-poetry.com/nicholas-breton/corydons-supplication-to-phyllis-36437\"}, {\"x\": -0.034049388, \"y\": 0.03623071, \"title\": \"no female hither, conscious of social love and **nature**'s rites, must dare approach, from the\", \"tokens\": \"no female hit ##her , conscious of social love and nature ' s rites , must dare approach , from the\", \"word\": \"nature\", \"poem_title\": \"The First Hymn Of Callimachus. To Jupiter\", \"author\": \"Matthew Prior\", \"period\": \"16th-17th Centuries (Early Modern)\", \"link\": \"http://public-domain-poetry.com/matthew-prior/first-hymn-of-callimachus-to-jupiter-2978\"}, {\"x\": -0.031476457, \"y\": 0.029521044, \"title\": \"begin? with so sweet voice, and by sweet **nature** so in sweetest stratagems sweete art\", \"tokens\": \"begin ? with so sweet voice , and by sweet nature so in sweet ##est strata ##ge ##ms sweet ##e art\", \"word\": \"nature\", \"poem_title\": \"Astrophel and Stella - Sonnet XXXVI\", \"author\": \"Philip Sidney (Sir)\", \"period\": \"16th-17th Centuries (Early Modern)\", \"link\": \"http://public-domain-poetry.com/sir-philip-sidney/astrophel-and-stella-sonnet-xxxvi-31867\"}, {\"x\": -0.03500402, \"y\": -0.021663314, \"title\": \"nature so in sweetest stratagems sweete **art** can show, that not my soul, which at\", \"tokens\": \"nature so in sweet ##est strata ##ge ##ms sweet ##e art can show , that not my soul , which at\", \"word\": \"art\", \"poem_title\": \"Astrophel and Stella - Sonnet XXXVI\", \"author\": \"Philip Sidney (Sir)\", \"period\": \"16th-17th Centuries (Early Modern)\", \"link\": \"http://public-domain-poetry.com/sir-philip-sidney/astrophel-and-stella-sonnet-xxxvi-31867\"}, {\"x\": -0.033429753, \"y\": 0.025268923, \"title\": \"but they some couenants make. evil no **nature** hath; the loss of good is that which\", \"tokens\": \"but they some co ##uen ##ants make . evil no nature hat ##h ; the loss of good is that which\", \"word\": \"nature\", \"poem_title\": \"Evil\", \"author\": \"Robert Herrick\", \"period\": \"16th-17th Centuries (Early Modern)\", \"link\": \"http://public-domain-poetry.com/robert-herrick/evil-19551\"}, {\"x\": -0.034566283, \"y\": -0.015864523, \"title\": \"part, ioyn'd by our equall **art**. were it cymented, or sown\", \"tokens\": \"part , io ##yn ' d by our equal ##l art . were it cy ##ment ##ed , or so ##wn\", \"word\": \"art\", \"poem_title\": \"The Heart\", \"author\": \"Michael Drayton\", \"period\": \"16th-17th Centuries (Early Modern)\", \"link\": \"http://public-domain-poetry.com/michael-drayton/heart-14547\"}, {\"x\": -0.03331476, \"y\": 0.025856022, \"title\": \"beauty's summer dead. o, why should **nature** niggardly restrain that foreign nations relish\", \"tokens\": \"beauty ' s summer dead . o , why should nature ni ##gga ##rd ##ly restrain that foreign nations re ##lish\", \"word\": \"nature\", \"poem_title\": \"Sonnets: Idea XXV\", \"author\": \"Michael Drayton\", \"period\": \"16th-17th Centuries (Early Modern)\", \"link\": \"http://public-domain-poetry.com/michael-drayton/sonnets-idea-xxv-14398\"}, {\"x\": -0.029020416, \"y\": -0.04936352, \"title\": \"virgin soul from her fair hiding place. iv yet **art** thou not inglorious in thy fate; for\", \"tokens\": \"virgin soul from her fair hiding place . iv yet art thou not ing ##lor ##ious in thy fate ; for\", \"word\": \"art\", \"poem_title\": \"On The Death Of A Fair Infant Dying Of A Cough\", \"author\": \"John Milton\", \"period\": \"16th-17th Centuries (Early Modern)\", \"link\": \"http://public-domain-poetry.com/john-milton/on-the-death-of-a-fair-infant-dying-of-a-cough-8425\"}, {\"x\": -0.03067389, \"y\": -0.050313655, \"title\": \"v yet can i not perswade me thou **art** dead or that thy coarse corrupts in earths\", \"tokens\": \"v yet can i not per ##sw ##ade me thou art dead or that thy coarse corrupt ##s in earth ##s\", \"word\": \"art\", \"poem_title\": \"On The Death Of A Fair Infant Dying Of A Cough\", \"author\": \"John Milton\", \"period\": \"16th-17th Centuries (Early Modern)\", \"link\": \"http://public-domain-poetry.com/john-milton/on-the-death-of-a-fair-infant-dying-of-a-cough-8425\"}, {\"x\": -0.03368744, \"y\": -0.036692586, \"title\": \". if thou, composed of gentle mould, **art** so unkind to me; what dismal\", \"tokens\": \". if thou , composed of gentle mo ##uld , art so un ##kind to me ; what di ##sma ##l\", \"word\": \"art\", \"poem_title\": \"To Dianeme\", \"author\": \"Robert Herrick\", \"period\": \"16th-17th Centuries (Early Modern)\", \"link\": \"http://public-domain-poetry.com/robert-herrick/to-dianeme-18597\"}, {\"x\": -0.03272069, \"y\": -0.042060472, \"title\": \"thyself away, for term of life thou **art** assured mine; and life no longer than thy love\", \"tokens\": \"thy ##sel ##f away , for term of life thou art assured mine ; and life no longer than thy love\", \"word\": \"art\", \"poem_title\": \"The Sonnets XCII - But do thy worst to steal thyself away\", \"author\": \"William Shakespeare\", \"period\": \"16th-17th Centuries (Early Modern)\", \"link\": \"http://public-domain-poetry.com/william-shakespeare/sonnets-xcii-but-do-thy-worst-to-steal-thyself-away-8244\"}, {\"x\": -0.03385033, \"y\": 0.021229897, \"title\": \"and yet i know it not. o why should **nature** nigardly restraine, the sotherne\", \"tokens\": \"and yet i know it not . o why should nature ni ##gard ##ly restrain ##e , the so ##ther ##ne\", \"word\": \"nature\", \"poem_title\": \"Sonet 25\", \"author\": \"Michael Drayton\", \"period\": \"16th-17th Centuries (Early Modern)\", \"link\": \"http://public-domain-poetry.com/michael-drayton/sonet-25-14504\"}, {\"x\": -0.03333487, \"y\": -0.01407363, \"title\": \"; 'tis free ( it vows ) from my **art**, and proud to be your slave. then take\", \"tokens\": \"; ' tis free ( it vows ) from my art , and proud to be your slave . then take\", \"word\": \"art\", \"poem_title\": \"Songs Set To Music: 16. Set By Mr. Smith\", \"author\": \"Matthew Prior\", \"period\": \"16th-17th Centuries (Early Modern)\", \"link\": \"http://public-domain-poetry.com/matthew-prior/songs-set-to-music-16-set-by-mr-smith-3030\"}, {\"x\": -0.033031598, \"y\": 0.036598362, \"title\": \": and in the darksome womb of fruitful **nature** dive. thy swift annual, and diurnal\", \"tokens\": \": and in the dark ##some womb of fruit ##ful nature dive . thy swift annual , and di ##urn ##al\", \"word\": \"nature\", \"poem_title\": \"Contemplations\", \"author\": \"Anne Bradstreet\", \"period\": \"16th-17th Centuries (Early Modern)\", \"link\": \"http://public-domain-poetry.com/anne-bradstreet/contemplations-9446\"}, {\"x\": -0.030613393, \"y\": -0.04408365, \"title\": \"creature, full of sweetness, beauty and delight. **art** thou so full of glory, that no eye hat\", \"tokens\": \"creature , full of sweetness , beauty and delight . art thou so full of glory , that no eye hat\", \"word\": \"art\", \"poem_title\": \"Contemplations\", \"author\": \"Anne Bradstreet\", \"period\": \"16th-17th Centuries (Early Modern)\", \"link\": \"http://public-domain-poetry.com/anne-bradstreet/contemplations-9446\"}, {\"x\": -0.034163263, \"y\": -0.03842126, \"title\": \"splendid throne erect so high, as to that thou **art** blam'd shall not be thy defect,\", \"tokens\": \"splendid throne erect so high , as to that thou art b ##lam ' d shall not be thy defect ,\", \"word\": \"art\", \"poem_title\": \"The Sonnets LXX - That thou art blam'd shall not be thy defect\", \"author\": \"William Shakespeare\", \"period\": \"16th-17th Centuries (Early Modern)\", \"link\": \"http://public-domain-poetry.com/william-shakespeare/sonnets-lxx-that-thou-art-blamd-shall-not-be-thy-defect-8222\"}, {\"x\": -0.031484894, \"y\": -0.017995773, \"title\": \"worship'd tomb; satyr has lost its **art**, its sting is gone, the fop and\", \"tokens\": \"worship ' d tomb ; sat ##yr has lost its art , its sting is gone , the f ##op and\", \"word\": \"art\", \"poem_title\": \"On the Death of the late Earl of Rochester\", \"author\": \"Aphra Behn\", \"period\": \"16th-17th Centuries (Early Modern)\", \"link\": \"http://public-domain-poetry.com/aphra-behn/on-the-death-of-the-late-earl-of-rochester-1595\"}, {\"x\": -0.03311811, \"y\": -0.039987013, \"title\": \"the poor wanderer from eternal night, thou that **art** the god of light. downward i hasten to\", \"tokens\": \"the poor wander ##er from eternal night , thou that art the god of light . downward i haste ##n to\", \"word\": \"art\", \"poem_title\": \"Considerations - On Part Of The 88th Psalm. A College Exercise\", \"author\": \"Matthew Prior\", \"period\": \"16th-17th Centuries (Early Modern)\", \"link\": \"http://public-domain-poetry.com/matthew-prior/considerations-on-part-of-the-88th-psalm-a-college-exercise-2924\"}, {\"x\": -0.032713376, \"y\": -0.041243274, \"title\": \"let her rest beneath thy wing secure, thou that **art** the god of power. behold the prodigal\", \"tokens\": \"let her rest beneath thy wing secure , thou that art the god of power . behold the pro ##di ##gal\", \"word\": \"art\", \"poem_title\": \"Considerations - On Part Of The 88th Psalm. A College Exercise\", \"author\": \"Matthew Prior\", \"period\": \"16th-17th Centuries (Early Modern)\", \"link\": \"http://public-domain-poetry.com/matthew-prior/considerations-on-part-of-the-88th-psalm-a-college-exercise-2924\"}, {\"x\": -0.03310132, \"y\": -0.04125463, \"title\": \"thou didst so long reprove, thou that **art** the god of love. to bread and water none\", \"tokens\": \"thou did ##st so long rep ##rove , thou that art the god of love . to bread and water none\", \"word\": \"art\", \"poem_title\": null, \"author\": null, \"period\": null, \"link\": null}, {\"x\": -0.03215335, \"y\": 0.022474626, \"title\": \"though much from out the cess be spent, **nature** with little is content. the expense of spirit in\", \"tokens\": \"though much from out the ce ##ss be spent , nature with little is content . the expense of spirit in\", \"word\": \"nature\", \"poem_title\": \"No Want Where There's Little\", \"author\": \"Robert Herrick\", \"period\": \"16th-17th Centuries (Early Modern)\", \"link\": \"http://public-domain-poetry.com/robert-herrick/no-want-where-theres-little-18665\"}, {\"x\": -0.03444026, \"y\": 0.034614317, \"title\": \"us, in the mind, which leaving light of **nature**, sense behind; pathless and dang '\", \"tokens\": \"##us , in the mind , which leaving light of nature , sense behind ; path ##less and dan ##g '\", \"word\": \"nature\", \"poem_title\": \"A Satyre Against Mankind\", \"author\": \"John Wilmot\", \"period\": \"16th-17th Centuries (Early Modern)\", \"link\": \"http://public-domain-poetry.com/john-wilmot/satyre-against-mankind-2842\"}, {\"x\": -0.033530667, \"y\": -0.04233239, \"title\": \"'st i am forsworn, but thou **art** twice forsworn, to me love swearing;\", \"tokens\": \"' st i am for ##sw ##orn , but thou art twice for ##sw ##orn , to me love swearing ;\", \"word\": \"art\", \"poem_title\": \"The Sonnets CLII - In loving thee thou know'st I am forsworn\", \"author\": \"William Shakespeare\", \"period\": \"16th-17th Centuries (Early Modern)\", \"link\": \"http://public-domain-poetry.com/william-shakespeare/sonnets-clii-in-loving-thee-thou-knowst-i-am-forsworn-8304\"}, {\"x\": -0.033587176, \"y\": -0.037334297, \"title\": \"a city or a town. o jealousy, that **art** the canker of the heart; and mak\", \"tokens\": \"a city or a town . o jealousy , that art the can ##ker of the heart ; and ma ##k\", \"word\": \"art\", \"poem_title\": \"To Jealousy\", \"author\": \"Robert Herrick\", \"period\": \"16th-17th Centuries (Early Modern)\", \"link\": \"http://public-domain-poetry.com/robert-herrick/to-jealousy-18871\"}, {\"x\": -0.033645336, \"y\": -0.021654934, \"title\": \": lady, it is to be presumed, though **art**'s hid causes are not found, all is\", \"tokens\": \": lady , it is to be presumed , though art ' s hid causes are not found , all is\", \"word\": \"art\", \"poem_title\": \"Song From The Silent Woman\", \"author\": \"Ben Jonson\", \"period\": \"16th-17th Centuries (Early Modern)\", \"link\": \"http://public-domain-poetry.com/ben-jonson/song-from-the-silent-woman-2506\"}, {\"x\": -0.033374675, \"y\": -0.020865567, \"title\": \"taketh me than all th 'adulteries of **art**: they strike mine eyes, but not my heart\", \"tokens\": \"take ##th me than all th ' adult ##eries of art : they strike mine eyes , but not my heart\", \"word\": \"art\", \"poem_title\": \"Song From The Silent Woman\", \"author\": \"Ben Jonson\", \"period\": \"16th-17th Centuries (Early Modern)\", \"link\": \"http://public-domain-poetry.com/ben-jonson/song-from-the-silent-woman-2506\"}, {\"x\": -0.026906015, \"y\": 0.03492268, \"title\": \"have liv'd a second life, and different **natures** try'd. then will thy ovid\", \"tokens\": \"have liv ' d a second life , and different nature ##s try ' d . then will thy o ##vid\", \"word\": \"nature\", \"poem_title\": \"To Mr. Dryden\", \"author\": \"Joseph Addison\", \"period\": \"16th-17th Centuries (Early Modern)\", \"link\": \"http://public-domain-poetry.com/joseph-addison/to-mr-dryden-394\"}, {\"x\": -0.034805484, \"y\": 0.02726797, \"title\": \"amaryllis, the wanton country maid. **nature** art disdaineth; her beauty is her own.\", \"tokens\": \"amar ##yl ##lis , the want ##on country maid . nature art disdain ##eth ; her beauty is her own .\", \"word\": \"nature\", \"poem_title\": \"Amaryllis\", \"author\": \"Thomas Campion\", \"period\": \"16th-17th Centuries (Early Modern)\", \"link\": \"http://public-domain-poetry.com/thomas-campion/amaryllis-12065\"}, {\"x\": -0.034509894, \"y\": -0.027545443, \"title\": \"yllis, the wanton country maid. nature **art** disdaineth; her beauty is her own. her\", \"tokens\": \"##yl ##lis , the want ##on country maid . nature art disdain ##eth ; her beauty is her own . her\", \"word\": \"art\", \"poem_title\": \"Amaryllis\", \"author\": \"Thomas Campion\", \"period\": \"16th-17th Centuries (Early Modern)\", \"link\": \"http://public-domain-poetry.com/thomas-campion/amaryllis-12065\"}, {\"x\": -0.0321188, \"y\": -0.04033581, \"title\": \"ment and the gliding tongue of those mild men thou **art** to live among; then, being seated in that\", \"tokens\": \"##ment and the gliding tongue of those mild men thou art to live among ; then , being seated in that\", \"word\": \"art\", \"poem_title\": \"Upon Himself\", \"author\": \"Robert Herrick\", \"period\": \"16th-17th Centuries (Early Modern)\", \"link\": \"http://public-domain-poetry.com/robert-herrick/upon-himself-18873\"}, {\"x\": -0.03370144, \"y\": 0.031946585, \"title\": \"he is plagued still, not for the fault of **nature**, but of will. when some shall say,\", \"tokens\": \"he is plagued still , not for the fault of nature , but of will . when some shall say ,\", \"word\": \"nature\", \"poem_title\": null, \"author\": null, \"period\": null, \"link\": null}, {\"x\": -0.034839395, \"y\": 0.03291251, \"title\": \"noise at all. a woman's face with **nature**'s own hand painted, hast thou,\", \"tokens\": \"noise at all . a woman ' s face with nature ' s own hand painted , has ##t thou ,\", \"word\": \"nature\", \"poem_title\": \"The Sonnets XX - A woman's face with nature's own hand painted\", \"author\": \"William Shakespeare\", \"period\": \"16th-17th Centuries (Early Modern)\", \"link\": \"http://public-domain-poetry.com/william-shakespeare/sonnets-xx-a-womans-face-with-natures-own-hand-painted-8172\"}, {\"x\": -0.0338363, \"y\": 0.026939288, \"title\": \"for a woman wert thou first created; till **nature**, as she wrought thee, fell a-dot\", \"tokens\": \"for a woman we ##rt thou first created ; till nature , as she wrought thee , fell a - dot\", \"word\": \"nature\", \"poem_title\": \"The Sonnets XX - A woman's face with nature's own hand painted\", \"author\": \"William Shakespeare\", \"period\": \"16th-17th Centuries (Early Modern)\", \"link\": \"http://public-domain-poetry.com/william-shakespeare/sonnets-xx-a-womans-face-with-natures-own-hand-painted-8172\"}, {\"x\": -0.032526657, \"y\": 0.028789943, \"title\": \"command a creature in the honour of love's **nature**, for the sweet aglaia fair all to\", \"tokens\": \"command a creature in the honour of love ' s nature , for the sweet ag ##lai ##a fair all to\", \"word\": \"nature\", \"poem_title\": \"Aglaia: a Pastoral\", \"author\": \"Nicholas Breton\", \"period\": \"16th-17th Centuries (Early Modern)\", \"link\": \"http://public-domain-poetry.com/nicholas-breton/aglaia-a-pastoral-36433\"}, {\"x\": -0.029204179, \"y\": -0.018547185, \"title\": \"he, and only he can teach a man the **art** of memory: believe him not; for he forgot\", \"tokens\": \"he , and only he can teach a man the art of memory : believe him not ; for he forgot\", \"word\": \"art\", \"poem_title\": \"Upon Parrat\", \"author\": \"Robert Herrick\", \"period\": \"16th-17th Centuries (Early Modern)\", \"link\": \"http://public-domain-poetry.com/robert-herrick/upon-parrat-19399\"}, {\"x\": -0.032561418, \"y\": -0.018979985, \"title\": \", 'tis somewhat to do well in our high **art**, although we can 't excel like thee,\", \"tokens\": \", ' tis somewhat to do well in our high art , although we can ' t excel like thee ,\", \"word\": \"art\", \"poem_title\": \"To M. Denham On His Prospective Poem\", \"author\": \"Robert Herrick\", \"period\": \"16th-17th Centuries (Early Modern)\", \"link\": \"http://public-domain-poetry.com/robert-herrick/to-m-denham-on-his-prospective-poem-19001\"}, {\"x\": -0.034275785, \"y\": 0.015391827, \"title\": \"tottring barge, least ioy, by **nature** apt sprites to enlarge, thee to\", \"tokens\": \"to ##tt ##ring barge , least io ##y , by nature apt sp ##rites to en ##lar ##ge , thee to\", \"word\": \"nature\", \"poem_title\": \"Astrophel and Stella - Sonnet LXXXV\", \"author\": \"Philip Sidney (Sir)\", \"period\": \"16th-17th Centuries (Early Modern)\", \"link\": \"http://public-domain-poetry.com/sir-philip-sidney/astrophel-and-stella-sonnet-lxxxv-31916\"}, {\"x\": -0.030547334, \"y\": 0.029925164, \"title\": \"never did so great a work but there his human **nature** did in part appear; or ne 'er so\", \"tokens\": \"never did so great a work but there his human nature did in part appear ; or ne ' er so\", \"word\": \"nature\", \"poem_title\": \"Christ's Action\", \"author\": \"Robert Herrick\", \"period\": \"16th-17th Centuries (Early Modern)\", \"link\": \"http://public-domain-poetry.com/robert-herrick/christs-action-19732\"}, {\"x\": -0.03065397, \"y\": 0.029747143, \"title\": \"that in all he did there did combine his human **nature** and his part divine. lasciviousness is\", \"tokens\": \"that in all he did there did combine his human nature and his part divine . las ##ci ##vious ##ness is\", \"word\": \"nature\", \"poem_title\": \"Christ's Action\", \"author\": \"Robert Herrick\", \"period\": \"16th-17th Centuries (Early Modern)\", \"link\": \"http://public-domain-poetry.com/robert-herrick/christs-action-19732\"}, {\"x\": -0.032454155, \"y\": 0.020622237, \"title\": \"is below your aim to hit at untaught **nature** with your practised wit: our naked indians, then\", \"tokens\": \"is below your aim to hit at un ##ta ##ught nature with your practised wit : our naked indians , then\", \"word\": \"nature\", \"poem_title\": \"Epilogue To The Indian Queen\", \"author\": \"John Dryden\", \"period\": \"16th-17th Centuries (Early Modern)\", \"link\": \"http://public-domain-poetry.com/john-dryden/epilogue-to-the-indian-queen-14673\"}, {\"x\": -0.033001326, \"y\": 0.031452574, \"title\": \"so kind was he! damon was the pride of **nature**, charming in his every feature; damon lived alone\", \"tokens\": \"so kind was he ! damon was the pride of nature , charming in his every feature ; damon lived alone\", \"word\": \"nature\", \"poem_title\": \"The Tears Of Amynta, For The Death Of Damon\", \"author\": \"John Dryden\", \"period\": \"16th-17th Centuries (Early Modern)\", \"link\": \"http://public-domain-poetry.com/john-dryden/tears-of-amynta-for-the-death-of-damon-14652\"}, {\"x\": -0.033900123, \"y\": 0.032890026, \"title\": \"to restore: never shall we both lie dying, **nature** failing, love supplying all the joys he drain\", \"tokens\": \"to restore : never shall we both lie dying , nature failing , love supplying all the joy ##s he drain\", \"word\": \"nature\", \"poem_title\": \"The Tears Of Amynta, For The Death Of Damon\", \"author\": \"John Dryden\", \"period\": \"16th-17th Centuries (Early Modern)\", \"link\": \"http://public-domain-poetry.com/john-dryden/tears-of-amynta-for-the-death-of-damon-14652\"}, {\"x\": -0.032656763, \"y\": -0.04431679, \"title\": \"prayers, and watch till thou appear. for thou **art** not a god that takes in wickedness delight evil\", \"tokens\": \"prayers , and watch till thou appear . for thou art not a god that takes in wicked ##ness delight evil\", \"word\": \"art\", \"poem_title\": \"Psal. V\", \"author\": \"John Milton\", \"period\": \"16th-17th Centuries (Early Modern)\", \"link\": \"http://public-domain-poetry.com/john-milton/psal-v-8368\"}, {\"x\": -0.03193786, \"y\": -0.04248428, \"title\": \"and men haue cause to curse thee. what **art** thou but th 'extreamst madnesse,\", \"tokens\": \"and men ha ##ue cause to curse thee . what art thou but th ' ex ##tream ##st madness ##e ,\", \"word\": \"art\", \"poem_title\": \"From Eclogue vij\", \"author\": \"Michael Drayton\", \"period\": \"16th-17th Centuries (Early Modern)\", \"link\": \"http://public-domain-poetry.com/michael-drayton/from-eclogue-vij-14587\"}, {\"x\": -0.030623257, \"y\": 0.026254471, \"title\": \"thou but th 'extreamst madnesse, **natures** first and only error that consum'st\", \"tokens\": \"thou but th ' ex ##tream ##st madness ##e , nature ##s first and only error that con ##sum ' st\", \"word\": \"nature\", \"poem_title\": \"From Eclogue vij\", \"author\": \"Michael Drayton\", \"period\": \"16th-17th Centuries (Early Modern)\", \"link\": \"http://public-domain-poetry.com/michael-drayton/from-eclogue-vij-14587\"}, {\"x\": -0.03258297, \"y\": 0.02978678, \"title\": \"auen hath power to let, nor wise **nature** cannot smother, whereby phoebus dot\", \"tokens\": \"##au ##en hat ##h power to let , nor wise nature cannot sm ##oth ##er , whereby ph ##oe ##bus dot\", \"word\": \"nature\", \"poem_title\": \"From Eclogue vij\", \"author\": \"Michael Drayton\", \"period\": \"16th-17th Centuries (Early Modern)\", \"link\": \"http://public-domain-poetry.com/michael-drayton/from-eclogue-vij-14587\"}, {\"x\": -0.027954124, \"y\": 0.038244702, \"title\": \"euery kinde, subiects them to **natures** law. whose hie virtue number teaches in\", \"tokens\": \"eu ##ery kind ##e , sub ##iec ##ts them to nature ##s law . whose hi ##e virtue number teaches in\", \"word\": \"nature\", \"poem_title\": \"From Eclogue vij\", \"author\": \"Michael Drayton\", \"period\": \"16th-17th Centuries (Early Modern)\", \"link\": \"http://public-domain-poetry.com/michael-drayton/from-eclogue-vij-14587\"}, {\"x\": -0.031934176, \"y\": 0.024010047, \"title\": \": not soe much as but the plant as **nature** euery thing doth payre, by it\", \"tokens\": \": not so ##e much as but the plant as nature eu ##ery thing dot ##h pay ##re , by it\", \"word\": \"nature\", \"poem_title\": \"From Eclogue vij\", \"author\": \"Michael Drayton\", \"period\": \"16th-17th Centuries (Early Modern)\", \"link\": \"http://public-domain-poetry.com/michael-drayton/from-eclogue-vij-14587\"}, {\"x\": -0.03160697, \"y\": -0.014394372, \"title\": \"should sufficient be to prove i'd understand the **art** of love. i hate the thing is called enjoyment\", \"tokens\": \"should sufficient be to prove i ' d understand the art of love . i hate the thing is called enjoyment\", \"word\": \"art\", \"poem_title\": \"The Platonic Lady\", \"author\": \"John Wilmot\", \"period\": \"16th-17th Centuries (Early Modern)\", \"link\": \"http://public-domain-poetry.com/john-wilmot/platonic-lady-2830\"}, {\"x\": -0.033156376, \"y\": -0.03993849, \"title\": \"ss. but the just establish fast, since thou **art** the just god that tries hearts and reins. on\", \"tokens\": \"##ss . but the just establish fast , since thou art the just god that tries hearts and reins . on\", \"word\": \"art\", \"poem_title\": \"Psal. VII. Upon the words of Chush the Benjamite against him\", \"author\": \"John Milton\", \"period\": \"16th-17th Centuries (Early Modern)\", \"link\": \"http://public-domain-poetry.com/john-milton/psal-vii-upon-the-words-of-chush-the-benjamite-against-him-8370\"}, {\"x\": -0.033991903, \"y\": 0.027694246, \"title\": \"nes filling. that most renown'd by **nature** richly crownd with yellow, of that deliti\", \"tokens\": \"##nes filling . that most reno ##wn ' d by nature richly crown ##d with yellow , of that del ##iti\", \"word\": \"nature\", \"poem_title\": \"Ode 8\", \"author\": \"Michael Drayton\", \"period\": \"16th-17th Centuries (Early Modern)\", \"link\": \"http://public-domain-poetry.com/michael-drayton/ode-8-14562\"}, {\"x\": -0.033882562, \"y\": 0.028275948, \"title\": \"the same the fellowe, fearing of harme **nature** that flower doth arme from danger, the\", \"tokens\": \"the same the fellow ##e , fearing of harm ##e nature that flower dot ##h arm ##e from danger , the\", \"word\": \"nature\", \"poem_title\": \"Ode 8\", \"author\": \"Michael Drayton\", \"period\": \"16th-17th Centuries (Early Modern)\", \"link\": \"http://public-domain-poetry.com/michael-drayton/ode-8-14562\"}, {\"x\": -0.030475855, \"y\": 0.027341558, \"title\": \"of secret things that came to pass when beldam **nature** in her cradle was; and last of kings and\", \"tokens\": \"of secret things that came to pass when bel ##dam nature in her cradle was ; and last of kings and\", \"word\": \"nature\", \"poem_title\": \"At A Vacation Exercise In The Colledge, Part Latin, Part English\", \"author\": \"John Milton\", \"period\": \"16th-17th Centuries (Early Modern)\", \"link\": \"http://public-domain-poetry.com/john-milton/at-a-vacation-exercise-in-the-colledge-part-latin-part-english-8420\"}, {\"x\": -0.030007236, \"y\": 0.010774945, \"title\": \"leaven, and of one civil behaviour, and **religion**; a stock of saints, where ev 'ry\", \"tokens\": \"leave ##n , and of one civil behaviour , and religion ; a stock of saints , where ev ' ry\", \"word\": \"religion\", \"poem_title\": \"To His Worthy Kinsman, Mr. Stephen Soame\", \"author\": \"Robert Herrick\", \"period\": \"16th-17th Centuries (Early Modern)\", \"link\": \"http://public-domain-poetry.com/robert-herrick/to-his-worthy-kinsman-mr-stephen-soame-18928\"}, {\"x\": -0.033922877, \"y\": 0.03242895, \"title\": \"what in you is writ, not making worse what **nature** made so clear, and such a counterpart shall fame\", \"tokens\": \"what in you is writ , not making worse what nature made so clear , and such a counterpart shall fame\", \"word\": \"nature\", \"poem_title\": \"The Sonnets LXXXIV - Who is it that says most, which can say more\", \"author\": \"William Shakespeare\", \"period\": \"16th-17th Centuries (Early Modern)\", \"link\": \"http://public-domain-poetry.com/william-shakespeare/sonnets-lxxxiv-who-is-it-that-says-most-which-can-say-more-8236\"}, {\"x\": -0.034981072, \"y\": 0.03064722, \"title\": \"warm your breast; what will move the springs of **nature** what will make you think me true? tell me\", \"tokens\": \"warm your breast ; what will move the springs of nature what will make you think me true ? tell me\", \"word\": \"nature\", \"poem_title\": \"Songs Set To Music: 12. Set By Mr. Smith\", \"author\": \"Matthew Prior\", \"period\": \"16th-17th Centuries (Early Modern)\", \"link\": \"http://public-domain-poetry.com/matthew-prior/songs-set-to-music-12-set-by-mr-smith-2934\"}, {\"x\": -0.03182891, \"y\": -0.0054334523, \"title\": \"perform her part, prolonging every note with **art**, and in a low expiring strain play\", \"tokens\": \"perform her part , pro ##long ##ing every note with art , and in a low ex ##pi ##ring strain play\", \"word\": \"art\", \"poem_title\": \"An Ode For St. Cecilia's Day\", \"author\": \"Joseph Addison\", \"period\": \"16th-17th Centuries (Early Modern)\", \"link\": \"http://public-domain-poetry.com/joseph-addison/an-ode-for-st-cecilias-day-3670\"}, {\"x\": -0.034157682, \"y\": -0.022269465, \"title\": \"known, all good poetry hence was flown, and **art** banish'd. for a thousand years together\", \"tokens\": \"known , all good poetry hence was flown , and art ban ##ish ' d . for a thousand years together\", \"word\": \"art\", \"poem_title\": \"A Fit Of Rhyme Against Rhyme\", \"author\": \"Ben Jonson\", \"period\": \"16th-17th Centuries (Early Modern)\", \"link\": \"http://public-domain-poetry.com/ben-jonson/fit-of-rhyme-against-rhyme-2468\"}, {\"x\": -0.03309209, \"y\": -0.046212863, \"title\": \"leaving no show where stood the capitol. but thou **art** just and itchless, and dost please\", \"tokens\": \"leaving no show where stood the capitol . but thou art just and it ##ch ##less , and dos ##t please\", \"word\": \"art\", \"poem_title\": \"To Sir John Berkley, Governor Of Exeter\", \"author\": \"Robert Herrick\", \"period\": \"16th-17th Centuries (Early Modern)\", \"link\": \"http://public-domain-poetry.com/robert-herrick/to-sir-john-berkley-governor-of-exeter-19052\"}, {\"x\": -0.03404683, \"y\": 0.032153282, \"title\": \"that homage to a name, which only god and **nature** justly claim, the western seas had been our\", \"tokens\": \"that homage to a name , which only god and nature just ##ly claim , the western seas had been our\", \"word\": \"nature\", \"poem_title\": \"To My Honoured Friend Dr Charleton\", \"author\": \"John Dryden\", \"period\": \"16th-17th Centuries (Early Modern)\", \"link\": \"http://public-domain-poetry.com/john-dryden/to-my-honoured-friend-dr-charleton-14620\"}, {\"x\": -0.03175106, \"y\": 0.03143281, \"title\": \"ocean awe. and noble boyle, not less in **nature** seen, than his great brother read in states and\", \"tokens\": \"ocean awe . and noble boyle , not less in nature seen , than his great brother read in states and\", \"word\": \"nature\", \"poem_title\": \"To My Honoured Friend Dr Charleton\", \"author\": \"John Dryden\", \"period\": \"16th-17th Centuries (Early Modern)\", \"link\": \"http://public-domain-poetry.com/john-dryden/to-my-honoured-friend-dr-charleton-14620\"}, {\"x\": -0.03219977, \"y\": -0.017047567, \"title\": \"in its flight. whatever truths have been, by **art** or chance, redeem'd from error,\", \"tokens\": \"in its flight . whatever truths have been , by art or chance , red ##eem ' d from error ,\", \"word\": \"art\", \"poem_title\": \"To My Honoured Friend Dr Charleton\", \"author\": \"John Dryden\", \"period\": \"16th-17th Centuries (Early Modern)\", \"link\": \"http://public-domain-poetry.com/john-dryden/to-my-honoured-friend-dr-charleton-14620\"}, {\"x\": -0.030253805, \"y\": 0.025426995, \"title\": \"high-towering will devote to them, whose easy **natures** like it well, if we the roast have\", \"tokens\": \"high - towering will devote to them , whose easy nature ##s like it well , if we the roast have\", \"word\": \"nature\", \"poem_title\": \"Steam In Sacrifice\", \"author\": \"Robert Herrick\", \"period\": \"16th-17th Centuries (Early Modern)\", \"link\": \"http://public-domain-poetry.com/robert-herrick/steam-in-sacrifice-18645\"}, {\"x\": -0.02677949, \"y\": 0.008082876, \"title\": \"fairies would have known, theirs is a mixt **religion**: and some have heard the elves it call part\", \"tokens\": \"fairies would have known , theirs is a mix ##t religion : and some have heard the elves it call part\", \"word\": \"religion\", \"poem_title\": \"Oberon's Chapel\", \"author\": \"Robert Herrick\", \"period\": \"16th-17th Centuries (Early Modern)\", \"link\": \"http://public-domain-poetry.com/robert-herrick/oberons-chapel-2285\"}, {\"x\": -0.031596016, \"y\": -0.043238327, \"title\": \"lips my nectar drinking. reason, in faith thou **art** well seru'd that still wouldst bra\", \"tokens\": \"lips my nectar drinking . reason , in faith thou art well ser ##u ' d that still would ##st bra\", \"word\": \"art\", \"poem_title\": \"Astrophel and Stella - Sonnet X\", \"author\": \"Philip Sidney (Sir)\", \"period\": \"16th-17th Centuries (Early Modern)\", \"link\": \"http://public-domain-poetry.com/sir-philip-sidney/astrophel-and-stella-sonnet-x-31841\"}, {\"x\": -0.031094173, \"y\": 0.033836175, \"title\": \"muses hill; or reach the fruite of **natures** choycest tree; or seek heau\", \"tokens\": \"muse ##s hill ; or reach the fruit ##e of nature ##s cho ##yce ##st tree ; or seek he ##au\", \"word\": \"nature\", \"poem_title\": \"Astrophel and Stella - Sonnet X\", \"author\": \"Philip Sidney (Sir)\", \"period\": \"16th-17th Centuries (Early Modern)\", \"link\": \"http://public-domain-poetry.com/sir-philip-sidney/astrophel-and-stella-sonnet-x-31841\"}, {\"x\": -0.030152462, \"y\": -0.018543387, \"title\": \"reason good, good reason her to loue. **art** quickens nature; care will make a face;\", \"tokens\": \"reason good , good reason her to lou ##e . art quick ##ens nature ; care will make a face ;\", \"word\": \"art\", \"poem_title\": \"Neglect\", \"author\": \"Robert Herrick\", \"period\": \"16th-17th Centuries (Early Modern)\", \"link\": \"http://public-domain-poetry.com/robert-herrick/neglect-18743\"}, {\"x\": -0.0347757, \"y\": 0.023761373, \"title\": \"good reason her to loue. art quickens **nature**; care will make a face; neglected beauty per\", \"tokens\": \"good reason her to lou ##e . art quick ##ens nature ; care will make a face ; neglected beauty per\", \"word\": \"nature\", \"poem_title\": \"Neglect\", \"author\": \"Robert Herrick\", \"period\": \"16th-17th Centuries (Early Modern)\", \"link\": \"http://public-domain-poetry.com/robert-herrick/neglect-18743\"}, {\"x\": -0.030475855, \"y\": 0.027341558, \"title\": \"of secret things that came to pass when beldam **nature** in her cradle was; and last of kings and\", \"tokens\": \"of secret things that came to pass when bel ##dam nature in her cradle was ; and last of kings and\", \"word\": \"nature\", \"poem_title\": \"At A Vacation Exercise In The Colledge, Part Latin, Part English\", \"author\": \"John Milton\", \"period\": \"16th-17th Centuries (Early Modern)\", \"link\": \"http://public-domain-poetry.com/john-milton/at-a-vacation-exercise-in-the-colledge-part-latin-part-english-8420\"}, {\"x\": -0.03398154, \"y\": -0.04163614, \"title\": \"not force from widow'd poetry, now thou **art** dead ( great donne ) one elegy\", \"tokens\": \"not force from widow ' d poetry , now thou art dead ( great don ##ne ) one el ##eg ##y\", \"word\": \"art\", \"poem_title\": \"An Elegy Upon The Death Of The Dean Of St. Paul's, Dr. John\", \"author\": \"Thomas Carew\", \"period\": \"16th-17th Centuries (Early Modern)\", \"link\": \"http://public-domain-poetry.com/thomas-carew/an-elegy-upon-the-death-of-the-dean-of-st-pauls-dr-john-12072\"}, {\"x\": -0.033125952, \"y\": -0.042548623, \"title\": \". i tell the day, to please him thou **art** bright, and dost him grace when clouds do\", \"tokens\": \". i tell the day , to please him thou art bright , and dos ##t him grace when clouds do\", \"word\": \"art\", \"poem_title\": \"The Sonnets XXVIII - How can I then return in happy plight\", \"author\": \"William Shakespeare\", \"period\": \"16th-17th Centuries (Early Modern)\", \"link\": \"http://public-domain-poetry.com/william-shakespeare/sonnets-xxviii-how-can-i-then-return-in-happy-plight-8180\"}, {\"x\": -0.029539274, \"y\": 0.014033918, \"title\": \"when our great monarch into exile went, wit and **religion** suffer'd banishment. thus once, when\", \"tokens\": \"when our great monarch into exile went , wit and religion suffer ' d ban ##ishment . thus once , when\", \"word\": \"religion\", \"poem_title\": \"To The Lord Chancellor Hyde.[1]\", \"author\": \"John Dryden\", \"period\": \"16th-17th Centuries (Early Modern)\", \"link\": \"http://public-domain-poetry.com/john-dryden/to-the-lord-chancellor-hyde-14606\"}, {\"x\": -0.033838738, \"y\": 0.03294453, \"title\": \"s stand, restored again to that great charge which **nature** did ordain; and their loved druid\", \"tokens\": \"##s stand , restored again to that great charge which nature did or ##dai ##n ; and their loved dr ##uid\", \"word\": \"nature\", \"poem_title\": \"To The Lord Chancellor Hyde.[1]\", \"author\": \"John Dryden\", \"period\": \"16th-17th Centuries (Early Modern)\", \"link\": \"http://public-domain-poetry.com/john-dryden/to-the-lord-chancellor-hyde-14606\"}, {\"x\": -0.03407214, \"y\": -0.04160802, \"title\": \"of their fair subject, blessing every book. thou **art** as fair in knowledge as in hue, finding thy\", \"tokens\": \"of their fair subject , blessing every book . thou art as fair in knowledge as in hue , finding thy\", \"word\": \"art\", \"poem_title\": \"The Sonnets LXXXII - I grant thou wert not married to my Muse\", \"author\": \"William Shakespeare\", \"period\": \"16th-17th Centuries (Early Modern)\", \"link\": \"http://public-domain-poetry.com/william-shakespeare/sonnets-lxxxii-i-grant-thou-wert-not-married-to-my-muse-8234\"}, {\"x\": -0.034554247, \"y\": -0.029306738, \"title\": \"thy worth a limit past my praise; and therefore **art** enforced to seek anew some fresher stamp of\", \"tokens\": \"thy worth a limit past my praise ; and therefore art enforced to seek an ##ew some fresh ##er stamp of\", \"word\": \"art\", \"poem_title\": \"The Sonnets LXXXII - I grant thou wert not married to my Muse\", \"author\": \"William Shakespeare\", \"period\": \"16th-17th Centuries (Early Modern)\", \"link\": \"http://public-domain-poetry.com/william-shakespeare/sonnets-lxxxii-i-grant-thou-wert-not-married-to-my-muse-8234\"}, {\"x\": -0.026215613, \"y\": 0.032012448, \"title\": \"luts the stomach. divers children have their different **natures**: some are like flesh which nothing but salt\", \"tokens\": \"##lu ##ts the stomach . divers children have their different nature ##s : some are like flesh which nothing but salt\", \"word\": \"nature\", \"poem_title\": \"To Mr. Dryden\", \"author\": \"Joseph Addison\", \"period\": \"16th-17th Centuries (Early Modern)\", \"link\": \"http://public-domain-poetry.com/joseph-addison/to-mr-dryden-394\"}, {\"x\": -0.03116731, \"y\": 0.031720713, \"title\": \"wise that can fit their nurture according to their **nature**. authority without wisdom is like a heavy axe without\", \"tokens\": \"wise that can fit their nur ##ture according to their nature . authority without wisdom is like a heavy axe without\", \"word\": \"nature\", \"poem_title\": \"Meditations Divine And Moral\", \"author\": \"Anne Bradstreet\", \"period\": \"16th-17th Centuries (Early Modern)\", \"link\": \"http://public-domain-poetry.com/anne-bradstreet/meditations-divine-and-moral-9447\"}, {\"x\": -0.030780224, \"y\": 0.03535765, \"title\": \"than to see power conjoin'd with **nature**'s cruelty. be your words made, good\", \"tokens\": \"than to see power con ##jo ##in ' d with nature ' s cruelty . be your words made , good\", \"word\": \"nature\", \"poem_title\": null, \"author\": null, \"period\": null, \"link\": null}, {\"x\": -0.032050565, \"y\": 0.024096364, \"title\": \"my name receives a brand, and almost thence my **nature** is subdu'd to what it works in\", \"tokens\": \"my name receives a brand , and almost thence my nature is sub ##du ' d to what it works in\", \"word\": \"nature\", \"poem_title\": \"The Sonnets CXI - O! for my sake do you with Fortune chide\", \"author\": \"William Shakespeare\", \"period\": \"16th-17th Centuries (Early Modern)\", \"link\": \"http://public-domain-poetry.com/william-shakespeare/sonnets-cxi-o-for-my-sake-do-you-with-fortune-chide-8263\"}, {\"x\": -0.03372601, \"y\": -0.036324363, \"title\": \"returns unto his love at night! o thou that **art** so courteous else to all, why shouldst\", \"tokens\": \"returns unto his love at night ! o thou that art so court ##eous else to all , why should ##st\", \"word\": \"art\", \"poem_title\": \"Sonnets: Idea XXXVII\", \"author\": \"Michael Drayton\", \"period\": \"16th-17th Centuries (Early Modern)\", \"link\": \"http://public-domain-poetry.com/michael-drayton/sonnets-idea-xxxvii-14410\"}, {\"x\": -0.03214608, \"y\": -0.041949116, \"title\": \"um: thou hast, nay more, thou **art** the tree affording salve of sovereignty. my\", \"tokens\": \"##um : thou has ##t , nay more , thou art the tree afford ##ing sal ##ve of sovereignty . my\", \"word\": \"art\", \"poem_title\": \"To Christ\", \"author\": \"Robert Herrick\", \"period\": \"16th-17th Centuries (Early Modern)\", \"link\": \"http://public-domain-poetry.com/robert-herrick/to-christ-19725\"}, {\"x\": -0.03293351, \"y\": -0.008792977, \"title\": \": with gall cut out, closed up again by **art**, yet lives until his life be new required.\", \"tokens\": \": with gall cut out , closed up again by art , yet lives until his life be new required .\", \"word\": \"art\", \"poem_title\": \"The Seven Wonders Of England\", \"author\": \"Philip Sidney (Sir)\", \"period\": \"16th-17th Centuries (Early Modern)\", \"link\": \"http://public-domain-poetry.com/sir-philip-sidney/seven-wonders-of-england-31830\"}, {\"x\": -0.03251513, \"y\": -0.043417607, \"title\": \"'s face. o strange effect! now thou **art** southward gone, i weary grow the tedious day\", \"tokens\": \"' s face . o strange effect ! now thou art southward gone , i weary grow the ted ##ious day\", \"word\": \"art\", \"poem_title\": \"A Letter To Her Husband\", \"author\": \"Anne Bradstreet\", \"period\": \"16th-17th Centuries (Early Modern)\", \"link\": \"http://public-domain-poetry.com/anne-bradstreet/letter-to-her-husband-9440\"}, {\"x\": -0.032717645, \"y\": 0.032042876, \"title\": \", ever stay, and go not thence, till **nature**'s sad decree shall call thee hence; flesh\", \"tokens\": \", ever stay , and go not thence , till nature ' s sad decree shall call thee hence ; flesh\", \"word\": \"nature\", \"poem_title\": \"A Letter To Her Husband\", \"author\": \"Anne Bradstreet\", \"period\": \"16th-17th Centuries (Early Modern)\", \"link\": \"http://public-domain-poetry.com/anne-bradstreet/letter-to-her-husband-9440\"}, {\"x\": -0.031062435, \"y\": -0.017949272, \"title\": \"house sides, or cleave her roof. **artless** the scene was, and that monstrous sin of\", \"tokens\": \"house sides , or cl ##ea ##ve her roof . art ##less the scene was , and that monstrous sin of\", \"word\": \"art\", \"poem_title\": \"Upon M. Ben. Jonson. Epig\", \"author\": \"Robert Herrick\", \"period\": \"16th-17th Centuries (Early Modern)\", \"link\": \"http://public-domain-poetry.com/robert-herrick/upon-m-ben-jonson-epig-18830\"}, {\"x\": -0.0328373, \"y\": -0.041666813, \"title\": \"he has a will to masterdom. now thou **art** dead, no eye shall ever see, for shape\", \"tokens\": \"he has a will to master ##dom . now thou art dead , no eye shall ever see , for shape\", \"word\": \"art\", \"poem_title\": \"Upon His Spaniel Tracy\", \"author\": \"Robert Herrick\", \"period\": \"16th-17th Centuries (Early Modern)\", \"link\": \"http://public-domain-poetry.com/robert-herrick/upon-his-spaniel-tracy-19208\"}, {\"x\": -0.028646331, \"y\": -0.048851818, \"title\": \"so soone from ioyes to flit why **art** thou so vnkind? see my little lamb\", \"tokens\": \"so soon ##e from io ##yes to fl ##it why art thou so v ##nk ##ind ? see my little lamb\", \"word\": \"art\", \"poem_title\": \"From England's Helicon\", \"author\": \"Michael Drayton\", \"period\": \"16th-17th Centuries (Early Modern)\", \"link\": \"http://public-domain-poetry.com/michael-drayton/from-englands-helicon-14591\"}, {\"x\": -0.027019508, \"y\": 0.035834275, \"title\": \"our parting do no otherwise than as those former two **natures** like ours, we who have spent our time\", \"tokens\": \"our parting do no otherwise than as those former two nature ##s like ours , we who have spent our time\", \"word\": \"nature\", \"poem_title\": \"Mr. Robert Herrick: His Farewell Unto Poetry\", \"author\": \"Robert Herrick\", \"period\": \"16th-17th Centuries (Early Modern)\", \"link\": \"http://public-domain-poetry.com/robert-herrick/mr-robert-herrick-his-farewell-unto-poetry-19685\"}, {\"x\": -0.031923734, \"y\": 0.02837685, \"title\": \"frenzy we have hurled, as with a tempest, **nature** through the world, and in a whirl\", \"tokens\": \"frenzy we have hurled , as with a tempest , nature through the world , and in a w ##hir ##l\", \"word\": \"nature\", \"poem_title\": \"Mr. Robert Herrick: His Farewell Unto Poetry\", \"author\": \"Robert Herrick\", \"period\": \"16th-17th Centuries (Early Modern)\", \"link\": \"http://public-domain-poetry.com/robert-herrick/mr-robert-herrick-his-farewell-unto-poetry-19685\"}, {\"x\": -0.033504594, \"y\": 0.03508338, \"title\": \"didst me no harm thereby. o thou almighty **nature**, who didst give true heat wherewith humanity\", \"tokens\": \"did ##st me no harm thereby . o thou almighty nature , who did ##st give true heat where ##with humanity\", \"word\": \"nature\", \"poem_title\": \"Mr. Robert Herrick: His Farewell Unto Poetry\", \"author\": \"Robert Herrick\", \"period\": \"16th-17th Centuries (Early Modern)\", \"link\": \"http://public-domain-poetry.com/robert-herrick/mr-robert-herrick-his-farewell-unto-poetry-19685\"}, {\"x\": -0.034080636, \"y\": -0.021256661, \"title\": \"try my fate; for i would only know from **art** the future motions of your hert, and what\", \"tokens\": \"try my fate ; for i would only know from art the future motions of your her ##t , and what\", \"word\": \"art\", \"poem_title\": \"To A Young Lady, Who Was Fond Of Fortune-Telling\", \"author\": \"Matthew Prior\", \"period\": \"16th-17th Centuries (Early Modern)\", \"link\": \"http://public-domain-poetry.com/matthew-prior/to-a-young-lady-who-was-fond-of-fortune-telling-2875\"}, {\"x\": -0.03209182, \"y\": -0.021474637, \"title\": \"'d my endless wo, no human force or **art** could bear the torment of my wild despair. this\", \"tokens\": \"' d my endless wo , no human force or art could bear the torment of my wild despair . this\", \"word\": \"art\", \"poem_title\": \"To A Young Lady, Who Was Fond Of Fortune-Telling\", \"author\": \"Matthew Prior\", \"period\": \"16th-17th Centuries (Early Modern)\", \"link\": \"http://public-domain-poetry.com/matthew-prior/to-a-young-lady-who-was-fond-of-fortune-telling-2875\"}, {\"x\": -0.032706477, \"y\": -0.045318432, \"title\": \"is! farewell mirth and pipe; since thou **art** gone, no more i mean to play to these\", \"tokens\": \"##is ! farewell mir ##th and pipe ; since thou art gone , no more i mean to play to these\", \"word\": \"art\", \"poem_title\": \"A Pastoral Sung To The King\", \"author\": \"Robert Herrick\", \"period\": \"16th-17th Centuries (Early Modern)\", \"link\": \"http://public-domain-poetry.com/robert-herrick/pastoral-sung-to-the-king-2431\"}, {\"x\": -0.03156536, \"y\": -0.043607265, \"title\": \"compare thee to a summer's day? thou **art** more lovely and more temperate: rough winds do shake\", \"tokens\": \"compare thee to a summer ' s day ? thou art more lovely and more temperate : rough winds do shake\", \"word\": \"art\", \"poem_title\": \"The Sonnets XVIII - Shall I compare thee to a summer's day?\", \"author\": \"William Shakespeare\", \"period\": \"16th-17th Centuries (Early Modern)\", \"link\": \"http://public-domain-poetry.com/william-shakespeare/sonnets-xviii-shall-i-compare-thee-to-a-summers-day-8170\"}, {\"x\": -0.0344057, \"y\": 0.034264456, \"title\": \"fair from fair sometime declines, by chance, or **nature**'s changing course untrimm'd:\", \"tokens\": \"fair from fair sometime declines , by chance , or nature ' s changing course un ##tri ##mm ' d :\", \"word\": \"nature\", \"poem_title\": \"The Sonnets XVIII - Shall I compare thee to a summer's day?\", \"author\": \"William Shakespeare\", \"period\": \"16th-17th Centuries (Early Modern)\", \"link\": \"http://public-domain-poetry.com/william-shakespeare/sonnets-xviii-shall-i-compare-thee-to-a-summers-day-8170\"}, {\"x\": -0.034381144, \"y\": 0.033769533, \"title\": \"us in the mind, which, leaving light of **nature**, sense, behind, pathless and dangerous wandering\", \"tokens\": \"##us in the mind , which , leaving light of nature , sense , behind , path ##less and dangerous wandering\", \"word\": \"nature\", \"poem_title\": \"Satire Against Reason And Mankind\", \"author\": \"John Wilmot\", \"period\": \"16th-17th Centuries (Early Modern)\", \"link\": \"http://public-domain-poetry.com/john-wilmot/satire-against-reason-and-mankind-2817\"}, {\"x\": -0.029817803, \"y\": 0.02760187, \"title\": \"of blisse, the heau 'nly **nature** of that place is such, that, once come\", \"tokens\": \"of bliss ##e , the he ##au ' nl ##y nature of that place is such , that , once come\", \"word\": \"nature\", \"poem_title\": \"Astrophel and Stella - First Song\", \"author\": \"Philip Sidney (Sir)\", \"period\": \"16th-17th Centuries (Early Modern)\", \"link\": \"http://public-domain-poetry.com/sir-philip-sidney/astrophel-and-stella-first-song-31942\"}, {\"x\": -0.03143857, \"y\": -0.04650113, \"title\": \"e! this were to be new made when thou **art** old, and see thy blood warm when thou feel\", \"tokens\": \"##e ! this were to be new made when thou art old , and see thy blood warm when thou feel\", \"word\": \"art\", \"poem_title\": \"The Sonnets II - When forty winters shall besiege thy brow\", \"author\": \"William Shakespeare\", \"period\": \"16th-17th Centuries (Early Modern)\", \"link\": \"http://public-domain-poetry.com/william-shakespeare/sonnets-ii-when-forty-winters-shall-besiege-thy-brow-8154\"}, {\"x\": -0.033930235, \"y\": -0.029285638, \"title\": \"oppose. when i behold thy heavens, thy fingers **art**, the moon and starrs which thou so bright\", \"tokens\": \"oppose . when i behold thy heavens , thy fingers art , the moon and starr ##s which thou so bright\", \"word\": \"art\", \"poem_title\": \"Psal. VIII\", \"author\": \"John Milton\", \"period\": \"16th-17th Centuries (Early Modern)\", \"link\": \"http://public-domain-poetry.com/john-milton/psal-viii-8371\"}, {\"x\": -0.034001216, \"y\": -0.028666658, \"title\": \"ot that him thou visit'st and of him **art** found; scarce to be less then gods, thou\", \"tokens\": \"##ot that him thou visit ' st and of him art found ; scarce to be less then gods , thou\", \"word\": \"art\", \"poem_title\": \"Psal. VIII\", \"author\": \"John Milton\", \"period\": \"16th-17th Centuries (Early Modern)\", \"link\": \"http://public-domain-poetry.com/john-milton/psal-viii-8371\"}, {\"x\": -0.029976342, \"y\": -0.04340307, \"title\": \"fire. lord, i confess, that thou alone **art** able to purify this my augean stable\", \"tokens\": \"fire . lord , i confess , that thou alone art able to pu ##ri ##fy this my aug ##ean stable\", \"word\": \"art\", \"poem_title\": \"To His Saviour\", \"author\": \"Robert Herrick\", \"period\": \"16th-17th Centuries (Early Modern)\", \"link\": \"http://public-domain-poetry.com/robert-herrick/to-his-saviour-19534\"}, {\"x\": -0.035253666, \"y\": 0.024527151, \"title\": \"so poore a shrine: you in whome **nature** chose herselfe to view, when she her own\", \"tokens\": \"so poor ##e a shrine : you in whom ##e nature chose herself ##e to view , when she her own\", \"word\": \"nature\", \"poem_title\": \"Sonnet 57\", \"author\": \"Michael Drayton\", \"period\": \"16th-17th Centuries (Early Modern)\", \"link\": \"http://public-domain-poetry.com/michael-drayton/sonnet-57-14531\"}, {\"x\": -0.032386884, \"y\": -0.04659089, \"title\": \"not urge thee, for i know, though thou **art** young, thou canst say no, and no\", \"tokens\": \"not urge thee , for i know , though thou art young , thou cans ##t say no , and no\", \"word\": \"art\", \"poem_title\": \"The Parting Verse Or Charge To His Supposed Wife When He Travelled\", \"author\": \"Robert Herrick\", \"period\": \"16th-17th Centuries (Early Modern)\", \"link\": \"http://public-domain-poetry.com/robert-herrick/parting-verse-or-charge-to-his-supposed-wife-when-he-travelled-18879\"}, {\"x\": -0.033074502, \"y\": -0.042256087, \"title\": \"the pearl of princes, yet despair that so thou **art**, because thou must believe love speaks it not,\", \"tokens\": \"the pearl of princes , yet despair that so thou art , because thou must believe love speaks it not ,\", \"word\": \"art\", \"poem_title\": \"The Parting Verse Or Charge To His Supposed Wife When He Travelled\", \"author\": \"Robert Herrick\", \"period\": \"16th-17th Centuries (Early Modern)\", \"link\": \"http://public-domain-poetry.com/robert-herrick/parting-verse-or-charge-to-his-supposed-wife-when-he-travelled-18879\"}, {\"x\": -0.034579404, \"y\": 0.020566195, \"title\": \"rose is true? why should he live, now **nature** bankrupt is, beggar'd of blood to\", \"tokens\": \"rose is true ? why should he live , now nature bankrupt is , beg ##gar ' d of blood to\", \"word\": \"nature\", \"poem_title\": \"The Sonnets LXVII - Ah! wherefore with infection should he live\", \"author\": \"William Shakespeare\", \"period\": \"16th-17th Centuries (Early Modern)\", \"link\": \"http://public-domain-poetry.com/william-shakespeare/sonnets-lxvii-ah-wherefore-with-infection-should-he-live-8219\"}, {\"x\": -0.035058927, \"y\": 0.022560712, \"title\": \"d thee in my heart, and being blind by **nature** borne, i gaue to thee mine eyes;\", \"tokens\": \"##d thee in my heart , and being blind by nature borne , i ga ##ue to thee mine eyes ;\", \"word\": \"nature\", \"poem_title\": \"Astrophel and Stella - Sonnet LXV\", \"author\": \"Philip Sidney (Sir)\", \"period\": \"16th-17th Centuries (Early Modern)\", \"link\": \"http://public-domain-poetry.com/sir-philip-sidney/astrophel-and-stella-sonnet-lxv-31896\"}, {\"x\": -0.034439985, \"y\": 0.025941733, \"title\": \"do inherit heaven's graces, and husband **nature**'s riches from expense; they are the lords\", \"tokens\": \"do inherit heaven ' s grace ##s , and husband nature ' s riches from expense ; they are the lords\", \"word\": \"nature\", \"poem_title\": \"The Sonnets XCIV - They that have power to hurt, and will do none\", \"author\": \"William Shakespeare\", \"period\": \"16th-17th Centuries (Early Modern)\", \"link\": \"http://public-domain-poetry.com/william-shakespeare/sonnets-xciv-they-that-have-power-to-hurt-and-will-do-none-8246\"}, {\"x\": -0.0338458, \"y\": -0.033631075, \"title\": \". 'tis thou, and only thou, that **art** the cause, endymion. end. for\", \"tokens\": \". ' tis thou , and only thou , that art the cause , end ##ym ##ion . end . for\", \"word\": \"art\", \"poem_title\": \"An Eclogue Or Pastoral Between Endymion Porter And Lycidas Herrick, Set And Sung\", \"author\": \"Robert Herrick\", \"period\": \"16th-17th Centuries (Early Modern)\", \"link\": \"http://public-domain-poetry.com/robert-herrick/an-eclogue-or-pastoral-between-endymion-porter-and-lycidas-herrick-set-and-sung-18895\"}, {\"x\": -0.03382543, \"y\": -0.010820971, \"title\": \"he doth it with the sweetest tones of **art**: but when he sings a psalm, there '\", \"tokens\": \"he dot ##h it with the sweet ##est tones of art : but when he sings a psalm , there '\", \"word\": \"art\", \"poem_title\": \"Upon Comely, A Good Speaker But An Ill Singer. Epig\", \"author\": \"Robert Herrick\", \"period\": \"16th-17th Centuries (Early Modern)\", \"link\": \"http://public-domain-poetry.com/robert-herrick/upon-comely-a-good-speaker-but-an-ill-singer-epig-19438\"}, {\"x\": -0.031674705, \"y\": -0.039586782, \"title\": \"nto his loue at night. o thou that **art** so curteous vnto all, why shouldst\", \"tokens\": \"##nto his lou ##e at night . o thou that art so curt ##eous v ##nto all , why should ##st\", \"word\": \"art\", \"poem_title\": \"Sonnet 41\", \"author\": \"Michael Drayton\", \"period\": \"16th-17th Centuries (Early Modern)\", \"link\": \"http://public-domain-poetry.com/michael-drayton/sonnet-41-14522\"}, {\"x\": -0.03311931, \"y\": -0.014276082, \"title\": \"was rude; and boisterous english wit with **art** endued. our age was cultivated thus at\", \"tokens\": \"was rude ; and bois ##ter ##ous english wit with art end ##ue ##d . our age was cultivated thus at\", \"word\": \"art\", \"poem_title\": \"To My Dear Friend Mr Congreve, On His Comedy Called \\\"The Double-Dealer.\\\"\", \"author\": \"John Dryden\", \"period\": \"16th-17th Centuries (Early Modern)\", \"link\": \"http://public-domain-poetry.com/john-dryden/to-my-dear-friend-mr-congreve-on-his-comedy-called-the-double-dealer-14628\"}, {\"x\": -0.034073647, \"y\": 0.03516019, \"title\": \"who both your wooer and your poet is. **nature** has precompos'd us both to\", \"tokens\": \"who both your woo ##er and your poet is . nature has pre ##com ##po ##s ' d us both to\", \"word\": \"nature\", \"poem_title\": \"To Mistress Amy Potter\", \"author\": \"Robert Herrick\", \"period\": \"16th-17th Centuries (Early Modern)\", \"link\": \"http://public-domain-poetry.com/robert-herrick/to-mistress-amy-potter-19111\"}, {\"x\": -0.033589963, \"y\": 0.026559608, \"title\": \", she so farre past imitation, as but **nature** our creation could not alter, she had ayme\", \"tokens\": \", she so far ##re past imitation , as but nature our creation could not alter , she had a ##yme\", \"word\": \"nature\", \"poem_title\": \"A Hymne To His Ladies Birth-Place\", \"author\": \"Michael Drayton\", \"period\": \"16th-17th Centuries (Early Modern)\", \"link\": \"http://public-domain-poetry.com/michael-drayton/hymne-to-his-ladies-birth-place-14559\"}, {\"x\": -0.03342861, \"y\": -0.012985548, \"title\": \", one native charm, than all the gloss of **art**. \\\"goldsmith. upon that night, when fairies\", \"tokens\": \", one native charm , than all the gloss of art . \\\" goldsmith . upon that night , when fairies\", \"word\": \"art\", \"poem_title\": \"Halloween.[1]\", \"author\": \"Robert Burns\", \"period\": \"18th Century\", \"link\": \"http://public-domain-poetry.com/robert-burns/halloween-9914\"}, {\"x\": -0.033223853, \"y\": -0.021169672, \"title\": \"roger, thou, unskill'd in **art**, must, surer bound, go thro\", \"tokens\": \"roger , thou , un ##ski ##ll ' d in art , must , sure ##r bound , go th ##ro\", \"word\": \"art\", \"poem_title\": \"Blind Man's Buff\", \"author\": \"William Blake\", \"period\": \"18th Century\", \"link\": \"http://public-domain-poetry.com/william-blake/blind-mans-buff-9293\"}, {\"x\": -0.032281566, \"y\": -0.046874728, \"title\": \"to ane i lo 'e dear; thou **art** sweet as the smile when fond lovers meet, and\", \"tokens\": \"to an ##e i lo ' e dear ; thou art sweet as the smile when fond lovers meet , and\", \"word\": \"art\", \"poem_title\": \"Jessy\", \"author\": \"Robert Burns\", \"period\": \"18th Century\", \"link\": \"http://public-domain-poetry.com/robert-burns/jessy-10391\"}, {\"x\": -0.032147195, \"y\": -0.046441793, \"title\": \"to ane i lo 'e dear; thou **art** sweet as the smile when fond lovers meet, and\", \"tokens\": \"to an ##e i lo ' e dear ; thou art sweet as the smile when fond lovers meet , and\", \"word\": \"art\", \"poem_title\": \"Jessy\", \"author\": \"Robert Burns\", \"period\": \"18th Century\", \"link\": \"http://public-domain-poetry.com/robert-burns/jessy-10391\"}, {\"x\": -0.029632112, \"y\": 0.023220161, \"title\": \"sheets is to inlist imagination under the banner of **science**; and to lead her votaries from the\", \"tokens\": \"sheets is to in ##list imagination under the banner of science ; and to lead her vo ##tar ##ies from the\", \"word\": \"science\", \"poem_title\": \"The Botanic Garden A Poem in Two Parts. Part 1: The Economy of Vegetation:\", \"author\": \"Erasmus Darwin\", \"period\": \"18th Century\", \"link\": \"http://public-domain-poetry.com/erasmus-darwin/botanic-garden-a-poem-in-two-parts-part-1-the-economy-of-vegetation-13462\"}, {\"x\": -0.029159943, \"y\": 0.022484327, \"title\": \"introducing them to the vestibule of that delightful **science**, and recommending to their attention the immortal works\", \"tokens\": \"introducing them to the vest ##ib ##ule of that delightful science , and recommend ##ing to their attention the immortal works\", \"word\": \"science\", \"poem_title\": \"The Botanic Garden A Poem in Two Parts. Part 1: The Economy of Vegetation:\", \"author\": \"Erasmus Darwin\", \"period\": \"18th Century\", \"link\": \"http://public-domain-poetry.com/erasmus-darwin/botanic-garden-a-poem-in-two-parts-part-1-the-economy-of-vegetation-13462\"}, {\"x\": -0.02972121, \"y\": 0.035830654, \"title\": \"representing the elements. many of the important operations of **nature** were shadowed or allegorized in the heathen\", \"tokens\": \"representing the elements . many of the important operations of nature were shadowed or all ##ego ##rized in the heath ##en\", \"word\": \"nature\", \"poem_title\": \"The Botanic Garden A Poem in Two Parts. Part 1: The Economy of Vegetation:\", \"author\": \"Erasmus Darwin\", \"period\": \"18th Century\", \"link\": \"http://public-domain-poetry.com/erasmus-darwin/botanic-garden-a-poem-in-two-parts-part-1-the-economy-of-vegetation-13462\"}, {\"x\": -0.030017395, \"y\": 0.012240485, \"title\": \"mantle large and broad, he wrapt him in **religion**. hypocrisy a-la-\", \"tokens\": \"mantle large and broad , he wrap ##t him in religion . h ##yp ##oc ##ris ##y a - la -\", \"word\": \"religion\", \"poem_title\": \"Prologue[1] To His Royal Highness,\", \"author\": \"John Dryden\", \"period\": \"16th-17th Centuries (Early Modern)\", \"link\": \"http://public-domain-poetry.com/john-dryden/prologue-to-his-royal-highness-14699\"}, {\"x\": -0.03436585, \"y\": 0.032443617, \"title\": \". upon a simmer sunday morn, when **nature**'s face is fair, i walked forth to\", \"tokens\": \". upon a sim ##mer sunday mor ##n , when nature ' s face is fair , i walked forth to\", \"word\": \"nature\", \"poem_title\": \"The Holy Fair\", \"author\": \"Robert Burns\", \"period\": \"18th Century\", \"link\": \"http://public-domain-poetry.com/robert-burns/holy-fair-9909\"}, {\"x\": -0.0284799, \"y\": 0.019359874, \"title\": \"surround their patron's bier, and grateful **science** heaves the heart-felt sigh! \\\"i\", \"tokens\": \"surround their patron ' s bi ##er , and grateful science he ##aves the heart - felt sigh ! \\\" i\", \"word\": \"science\", \"poem_title\": \"On The Death Of Sir James Hunter Blair\", \"author\": \"Robert Burns\", \"period\": \"18th Century\", \"link\": \"http://public-domain-poetry.com/robert-burns/on-the-death-of-sir-james-hunter-blair-9983\"}, {\"x\": -0.032835446, \"y\": -0.020127272, \"title\": \"my native, peaceful pastures here. praised be the **art** whose subtle power could stay yon cloud, and\", \"tokens\": \"my native , peaceful pastures here . praised be the art whose subtle power could stay yo ##n cloud , and\", \"word\": \"art\", \"poem_title\": \"Upon The Sight Of A Beautiful Picture Painted By Sir G. H. Beaumont, Bart\", \"author\": \"William Wordsworth\", \"period\": \"18th Century\", \"link\": \"http://public-domain-poetry.com/william-wordsworth/upon-the-sight-of-a-beautiful-picture-painted-by-sir-g-h-beaumont-bart-4137\"}, {\"x\": -0.034442022, \"y\": -0.023983108, \"title\": \"anchored in her sheltering bay. soul-soothing **art**! whom morning, noontide, even,\", \"tokens\": \"anchored in her shelter ##ing bay . soul - soothing art ! whom morning , noon ##ti ##de , even ,\", \"word\": \"art\", \"poem_title\": \"Upon The Sight Of A Beautiful Picture Painted By Sir G. H. Beaumont, Bart\", \"author\": \"William Wordsworth\", \"period\": \"18th Century\", \"link\": \"http://public-domain-poetry.com/william-wordsworth/upon-the-sight-of-a-beautiful-picture-painted-by-sir-g-h-beaumont-bart-4137\"}, {\"x\": -0.0339999, \"y\": -0.042514656, \"title\": \"do thou, all-good! for such thou **art**, in shades of darkness hide. where with intention\", \"tokens\": \"do thou , all - good ! for such thou art , in shades of darkness hide . where with intention\", \"word\": \"art\", \"poem_title\": \"A Prayer - In The Prospect Of Death\", \"author\": \"Robert Burns\", \"period\": \"18th Century\", \"link\": \"http://public-domain-poetry.com/robert-burns/prayer-in-the-prospect-of-death-9899\"}, {\"x\": -0.03307499, \"y\": -0.044261843, \"title\": \", no other plea i have, but, thou **art** good; and goodness still delighteth to forgive.\", \"tokens\": \", no other plea i have , but , thou art good ; and goodness still delight ##eth to forgive .\", \"word\": \"art\", \"poem_title\": \"A Prayer - In The Prospect Of Death\", \"author\": \"Robert Burns\", \"period\": \"18th Century\", \"link\": \"http://public-domain-poetry.com/robert-burns/prayer-in-the-prospect-of-death-9899\"}, {\"x\": -0.028115213, \"y\": 0.017476862, \"title\": \"good; and goodness still delighteth to forgive. **science**! thou fair effusive ray from the\", \"tokens\": \"good ; and goodness still delight ##eth to forgive . science ! thou fair e ##ff ##us ##ive ray from the\", \"word\": \"science\", \"poem_title\": \"Hymn To Science\", \"author\": \"Mark Akenside\", \"period\": \"18th Century\", \"link\": \"http://public-domain-poetry.com/mark-akenside/hymn-to-science-400\"}, {\"x\": -0.032556977, \"y\": 0.036602993, \"title\": \"reveal'd before me stand; these to great **nature**'s scenes apply, and round the globe,\", \"tokens\": \"reveal ' d before me stand ; these to great nature ' s scenes apply , and round the globe ,\", \"word\": \"nature\", \"poem_title\": \"Hymn To Science\", \"author\": \"Mark Akenside\", \"period\": \"18th Century\", \"link\": \"http://public-domain-poetry.com/mark-akenside/hymn-to-science-400\"}, {\"x\": -0.030260054, \"y\": 0.017150756, \"title\": \"pass to instinct, reason, god. there, **science**! veil thy daring eye; nor dive too deep\", \"tokens\": \"pass to instinct , reason , god . there , science ! veil thy daring eye ; nor dive too deep\", \"word\": \"science\", \"poem_title\": \"Hymn To Science\", \"author\": \"Mark Akenside\", \"period\": \"18th Century\", \"link\": \"http://public-domain-poetry.com/mark-akenside/hymn-to-science-400\"}, {\"x\": -0.031491254, \"y\": 0.037785497, \"title\": \"; mix with the policies of men, and social **nature**'s ties: the plan, the genius of\", \"tokens\": \"; mix with the policies of men , and social nature ' s ties : the plan , the genius of\", \"word\": \"nature\", \"poem_title\": \"Hymn To Science\", \"author\": \"Mark Akenside\", \"period\": \"18th Century\", \"link\": \"http://public-domain-poetry.com/mark-akenside/hymn-to-science-400\"}, {\"x\": -0.032641597, \"y\": 0.03718464, \"title\": \"marked it for my own; a lasting link in **nature**'s chain from highest heaven let down! the\", \"tokens\": \"marked it for my own ; a lasting link in nature ' s chain from highest heaven let down ! the\", \"word\": \"nature\", \"poem_title\": \"The Primrose Of The Rock\", \"author\": \"William Wordsworth\", \"period\": \"18th Century\", \"link\": \"http://public-domain-poetry.com/william-wordsworth/primrose-of-the-rock-3888\"}, {\"x\": -0.034748998, \"y\": 0.029818134, \"title\": \"now lifts his eye, numbering ilka bud which **nature** waters wi 'the tears o 'joy: now\", \"tokens\": \"now lifts his eye , numbering il ##ka bud which nature waters wi ' the tears o ' joy : now\", \"word\": \"nature\", \"poem_title\": \"The Lover's Morning Salute To His Mistress\", \"author\": \"Robert Burns\", \"period\": \"18th Century\", \"link\": \"http://public-domain-poetry.com/robert-burns/lovers-morning-salute-to-his-mistress-10354\"}, {\"x\": -0.03345308, \"y\": 0.032935932, \"title\": \", and by the reeking floods, wild **nature**'s tenants freely, gladly stray; the lin\", \"tokens\": \", and by the re ##eki ##ng floods , wild nature ' s tenants freely , gladly stray ; the lin\", \"word\": \"nature\", \"poem_title\": \"The Lover's Morning Salute To His Mistress\", \"author\": \"Robert Burns\", \"period\": \"18th Century\", \"link\": \"http://public-domain-poetry.com/robert-burns/lovers-morning-salute-to-his-mistress-10354\"}, {\"x\": -0.033721957, \"y\": 0.032487657, \"title\": \", banishes ilk darksome shade, **nature** gladdening and adorning; such to\", \"tokens\": \", ban ##ish ##es il ##k dark ##some shade , nature glad ##den ##ing and ad ##orn ##ing ; such to\", \"word\": \"nature\", \"poem_title\": \"The Lover's Morning Salute To His Mistress\", \"author\": \"Robert Burns\", \"period\": \"18th Century\", \"link\": \"http://public-domain-poetry.com/robert-burns/lovers-morning-salute-to-his-mistress-10354\"}, {\"x\": -0.030573413, \"y\": -0.038820677, \"title\": \", like his ancestry, was bitted. why **art** thou silent! is thy love a plant of such\", \"tokens\": \", like his ancestry , was bit ##ted . why art thou silent ! is thy love a plant of such\", \"word\": \"art\", \"poem_title\": \"Sonnets - IV. - Why Art Thou Silent! Is Thy Love A Plant\", \"author\": \"William Wordsworth\", \"period\": \"18th Century\", \"link\": \"http://public-domain-poetry.com/william-wordsworth/sonnets-iv-why-art-thou-silent-is-thy-love-a-plant-4639\"}, {\"x\": -0.03171518, \"y\": 0.03244056, \"title\": \"in one of those sweet dreams i slept, kind **nature**'s gentlest boon! and all the while\", \"tokens\": \"in one of those sweet dreams i slept , kind nature ' s gentle ##st boon ! and all the while\", \"word\": \"nature\", \"poem_title\": \"Strange Fits Of Passion Have I Known\", \"author\": \"William Wordsworth\", \"period\": \"18th Century\", \"link\": \"http://public-domain-poetry.com/william-wordsworth/strange-fits-of-passion-have-i-known-3802\"}, {\"x\": -0.033151876, \"y\": 0.03364123, \"title\": \". a power is passing from the earth to breathless **nature**'s dark abyss; but when the great and\", \"tokens\": \". a power is passing from the earth to breathless nature ' s dark abyss ; but when the great and\", \"word\": \"nature\", \"poem_title\": \"Lines\", \"author\": \"William Wordsworth\", \"period\": \"18th Century\", \"link\": \"http://public-domain-poetry.com/william-wordsworth/lines-4193\"}, {\"x\": -0.033803012, \"y\": 0.032111976, \"title\": \", that never shall be still: here, mighty **nature**! in this school sublime i weigh the hopes and\", \"tokens\": \", that never shall be still : here , mighty nature ! in this school sublime i weigh the hopes and\", \"word\": \"nature\", \"poem_title\": \"Composed While The Author Was Engaged In Writing A Tract Occasioned By The Convention Of Cintra\", \"author\": \"William Wordsworth\", \"period\": \"18th Century\", \"link\": \"http://public-domain-poetry.com/william-wordsworth/composed-while-the-author-was-engaged-in-writing-a-tract-occasioned-by-the-convention-of-cintra-3917\"}, {\"x\": -0.034382198, \"y\": 0.03081419, \"title\": \"words that did ill agree with those rich stores of **nature**'s imagery, and divine art, that fast\", \"tokens\": \"words that did ill agree with those rich stores of nature ' s imagery , and divine art , that fast\", \"word\": \"nature\", \"poem_title\": \"Memorials Of A Tour In Italy, 1837 - XXVI. - Continued\", \"author\": \"William Wordsworth\", \"period\": \"18th Century\", \"link\": \"http://public-domain-poetry.com/william-wordsworth/memorials-of-a-tour-in-italy-1837-xxvi-continued-4671\"}, {\"x\": -0.034165155, \"y\": -0.012130546, \"title\": \"rich stores of nature's imagery, and divine **art**, that fast to memory clung thy gifts, magnificent\", \"tokens\": \"rich stores of nature ' s imagery , and divine art , that fast to memory clung thy gifts , magnificent\", \"word\": \"art\", \"poem_title\": \"Memorials Of A Tour In Italy, 1837 - XXVI. - Continued\", \"author\": \"William Wordsworth\", \"period\": \"18th Century\", \"link\": \"http://public-domain-poetry.com/william-wordsworth/memorials-of-a-tour-in-italy-1837-xxvi-continued-4671\"}, {\"x\": -0.033122886, \"y\": 0.035531003, \"title\": \"the virtues which that perilous life extracts from **nature**'s elemental strife; and welcome glory won in\", \"tokens\": \"the virtues which that per ##ilo ##us life extracts from nature ' s elemental strife ; and welcome glory won in\", \"word\": \"nature\", \"poem_title\": \"Composed By The Seashore\", \"author\": \"William Wordsworth\", \"period\": \"18th Century\", \"link\": \"http://public-domain-poetry.com/william-wordsworth/composed-by-the-seashore-4618\"}, {\"x\": -0.032089677, \"y\": 0.027208537, \"title\": \"mean; equality by prudence governed, or jealous **nature** ruling in her stead; and, therefore,\", \"tokens\": \"mean ; equality by pr ##udence governed , or jealous nature ruling in her ste ##ad ; and , therefore ,\", \"word\": \"nature\", \"poem_title\": \"Memorials Of A Tour On The Continent, 1820 - XX. - The Town Of Schwytz\", \"author\": \"William Wordsworth\", \"period\": \"18th Century\", \"link\": \"http://public-domain-poetry.com/william-wordsworth/memorials-of-a-tour-on-the-continent-1820-xx-the-town-of-schwytz-4281\"}, {\"x\": -0.031384014, \"y\": -0.042368777, \"title\": \"ruling in her stead; and, therefore, **art** thou blest with peace, serene as that\", \"tokens\": \"ruling in her ste ##ad ; and , therefore , art thou b ##les ##t with peace , serene as that\", \"word\": \"art\", \"poem_title\": \"To Laurels\", \"author\": \"Robert Herrick\", \"period\": \"16th-17th Centuries (Early Modern)\", \"link\": \"http://public-domain-poetry.com/robert-herrick/to-laurels-2392\"}, {\"x\": -0.033599358, \"y\": -0.04042478, \"title\": \"her boundless expanses thy cords to extend thou **art** able, thou dost think that thy mind wonderful\", \"tokens\": \"her bound ##less expanse ##s thy cords to extend thou art able , thou dos ##t think that thy mind wonderful\", \"word\": \"art\", \"poem_title\": \"Human Knowledge\", \"author\": \"Friedrich Schiller\", \"period\": \"18th Century\", \"link\": \"http://public-domain-poetry.com/friedrich-schiller/human-knowledge-30549\"}, {\"x\": -0.034375306, \"y\": 0.027853578, \"title\": \"able, thou dost think that thy mind wonderful **nature** can grasp. thus the astronomer draws his figures over\", \"tokens\": \"able , thou dos ##t think that thy mind wonderful nature can grasp . thus the astronomer draws his figures over\", \"word\": \"nature\", \"poem_title\": \"Human Knowledge\", \"author\": \"Friedrich Schiller\", \"period\": \"18th Century\", \"link\": \"http://public-domain-poetry.com/friedrich-schiller/human-knowledge-30549\"}, {\"x\": -0.03301375, \"y\": 0.02847151, \"title\": \"infant ears, a vow of rapture was by **nature** sworn; yes! even i was in arcadia born\", \"tokens\": \"infant ears , a vow of rap ##ture was by nature sworn ; yes ! even i was in arcadia born\", \"word\": \"nature\", \"poem_title\": \"Resignation\", \"author\": \"Friedrich Schiller\", \"period\": \"18th Century\", \"link\": \"http://public-domain-poetry.com/friedrich-schiller/resignation-30693\"}, {\"x\": -0.033307757, \"y\": -0.034597125, \"title\": \"went with judgment's scales to rule us thou **art** sent, and call'st thyself re\", \"tokens\": \"went with judgment ' s scales to rule us thou art sent , and call ' st thy ##sel ##f re\", \"word\": \"art\", \"poem_title\": \"Resignation\", \"author\": \"Friedrich Schiller\", \"period\": \"18th Century\", \"link\": \"http://public-domain-poetry.com/friedrich-schiller/resignation-30693\"}, {\"x\": -0.03350675, \"y\": 0.027689224, \"title\": \"own taste, and know the limits of it. **nature** the best guide of judgment. improved by art and\", \"tokens\": \"own taste , and know the limits of it . nature the best guide of judgment . improved by art and\", \"word\": \"nature\", \"poem_title\": \"An Essay On Criticism\", \"author\": \"Alexander Pope\", \"period\": \"18th Century\", \"link\": \"http://public-domain-poetry.com/alexander-pope/an-essay-on-criticism-1629\"}, {\"x\": -0.032367032, \"y\": -0.008126761, \"title\": \". nature the best guide of judgment. improved by **art** and rules, which are but methodized nature.\", \"tokens\": \". nature the best guide of judgment . improved by art and rules , which are but method ##ized nature .\", \"word\": \"art\", \"poem_title\": \"An Essay On Criticism\", \"author\": \"Alexander Pope\", \"period\": \"18th Century\", \"link\": \"http://public-domain-poetry.com/alexander-pope/an-essay-on-criticism-1629\"}, {\"x\": -0.031811085, \"y\": 0.02742712, \"title\": \"by art and rules, which are but methodized **nature**. rules derived from the practice of the ancient poets\", \"tokens\": \"by art and rules , which are but method ##ized nature . rules derived from the practice of the ancient poets\", \"word\": \"nature\", \"poem_title\": \"An Essay On Criticism\", \"author\": \"Alexander Pope\", \"period\": \"18th Century\", \"link\": \"http://public-domain-poetry.com/alexander-pope/an-essay-on-criticism-1629\"}, {\"x\": -0.03269951, \"y\": 0.029899355, \"title\": \"most have the seeds of judgment in their mind: **nature** affords at least a glimm 'ring\", \"tokens\": \"most have the seeds of judgment in their mind : nature afford ##s at least a g ##lim ##m ' ring\", \"word\": \"nature\", \"poem_title\": \"An Essay On Criticism\", \"author\": \"Alexander Pope\", \"period\": \"18th Century\", \"link\": \"http://public-domain-poetry.com/alexander-pope/an-essay-on-criticism-1629\"}, {\"x\": -0.031825628, \"y\": 0.026096366, \"title\": \"maze of schools, and some made coxcombs **nature** meant but fools: in search of wit these lose\", \"tokens\": \"maze of schools , and some made cox ##comb ##s nature meant but fools : in search of wit these lose\", \"word\": \"nature\", \"poem_title\": \"An Essay On Criticism\", \"author\": \"Alexander Pope\", \"period\": \"18th Century\", \"link\": \"http://public-domain-poetry.com/alexander-pope/an-essay-on-criticism-1629\"}, {\"x\": -0.031970337, \"y\": 0.02788193, \"title\": \"sent me here to cool my fire, retained my **nature**-but he shaped my form to suit the thing\", \"tokens\": \"sent me here to cool my fire , retained my nature - but he shaped my form to suit the thing\", \"word\": \"nature\", \"poem_title\": \"The Spaniel And Chameleon\", \"author\": \"John Gay\", \"period\": \"18th Century\", \"link\": \"http://public-domain-poetry.com/john-gay/spaniel-and-chameleon-34754\"}, {\"x\": -0.035278644, \"y\": 0.029726857, \"title\": \"the tones each changing passion gives, or mark where **nature** in thy action lives, where, in thy pause\", \"tokens\": \"the tones each changing passion gives , or mark where nature in thy action lives , where , in thy pause\", \"word\": \"nature\", \"poem_title\": \"Sonnet, To Mrs. Siddons\", \"author\": \"Helen Maria Williams\", \"period\": \"18th Century\", \"link\": \"http://public-domain-poetry.com/helen-maria-williams/sonnet-to-mrs-siddons-34724\"}, {\"x\": -0.032707527, \"y\": 0.038499866, \"title\": \"craving with hunger stung with the odours of **nature** explor'd his dens around 7\", \"tokens\": \"craving with hunger stung with the o ##dou ##rs of nature ex ##pl ##or ' d his den ##s around 7\", \"word\": \"nature\", \"poem_title\": \"The Book Of Urizen: Chapter VII\", \"author\": \"William Blake\", \"period\": \"18th Century\", \"link\": \"http://public-domain-poetry.com/william-blake/book-of-urizen-chapter-vii-9270\"}, {\"x\": -0.032542042, \"y\": 0.032444995, \"title\": \". that auld capricious carlin, **nature**, to mak amends for scrimpit\", \"tokens\": \". that au ##ld cap ##ric ##ious carl ##in , nature , to ma ##k amend ##s for sc ##rim ##pit\", \"word\": \"nature\", \"poem_title\": \"To James Smith\", \"author\": \"Robert Burns\", \"period\": \"18th Century\", \"link\": \"http://public-domain-poetry.com/robert-burns/to-james-smith-9912\"}, {\"x\": -0.03434459, \"y\": 0.032333117, \"title\": \"to iona's shore, no common light of **nature** blessed the mountain region of the west, a land\", \"tokens\": \"to iona ' s shore , no common light of nature blessed the mountain region of the west , a land\", \"word\": \"nature\", \"poem_title\": \"The Highland Broach\", \"author\": \"William Wordsworth\", \"period\": \"18th Century\", \"link\": \"http://public-domain-poetry.com/william-wordsworth/highland-broach-4555\"}, {\"x\": -0.028825227, \"y\": -0.04455811, \"title\": \"his sons had trod: malvina! where **art** thou? their state the noblest-born must\", \"tokens\": \"his sons had tr ##od : mal ##vina ! where art thou ? their state the nobles ##t - born must\", \"word\": \"art\", \"poem_title\": \"The Highland Broach\", \"author\": \"William Wordsworth\", \"period\": \"18th Century\", \"link\": \"http://public-domain-poetry.com/william-wordsworth/highland-broach-4555\"}, {\"x\": -0.034228295, \"y\": 0.03199192, \"title\": \"s prey a soothing spirit follows in the way that **nature** takes, her counter-work pursuing. see how\", \"tokens\": \"s prey a soothing spirit follows in the way that nature takes , her counter - work pursuing . see how\", \"word\": \"nature\", \"poem_title\": \"At Furness Abbey\", \"author\": \"William Wordsworth\", \"period\": \"18th Century\", \"link\": \"http://public-domain-poetry.com/william-wordsworth/at-furness-abbey-4738\"}, {\"x\": -0.034280147, \"y\": 0.032274857, \"title\": \"knew, and therefore never miss'd. but **nature** works in every breast, with force not easily suppress\", \"tokens\": \"knew , and therefore never miss ' d . but nature works in every breast , with force not easily suppress\", \"word\": \"nature\", \"poem_title\": \"The Faithful Bird\", \"author\": \"William Cowper\", \"period\": \"18th Century\", \"link\": \"http://public-domain-poetry.com/william-cowper/faithful-bird-13124\"}, {\"x\": -0.03266117, \"y\": -0.017024027, \"title\": \"heaven, and not a master, taught, whose **art** was nature, and whose pictures thought; now for\", \"tokens\": \"heaven , and not a master , taught , whose art was nature , and whose pictures thought ; now for\", \"word\": \"art\", \"poem_title\": \"The Body\", \"author\": \"Robert Herrick\", \"period\": \"16th-17th Centuries (Early Modern)\", \"link\": \"http://public-domain-poetry.com/robert-herrick/body-19135\"}, {\"x\": -0.03542708, \"y\": 0.02633284, \"title\": \"and not a master, taught, whose art was **nature**, and whose pictures thought; now for two ages\", \"tokens\": \"and not a master , taught , whose art was nature , and whose pictures thought ; now for two ages\", \"word\": \"nature\", \"poem_title\": \"Epitaph VIII. On Sir Godfrey Kneller, In Westminster Abbey, 1723\", \"author\": \"Alexander Pope\", \"period\": \"18th Century\", \"link\": \"http://public-domain-poetry.com/alexander-pope/epitaph-viii-on-sir-godfrey-kneller-in-westminster-abbey-1723-28795\"}, {\"x\": -0.034469515, \"y\": 0.023596104, \"title\": \", and brave thirst of praise. living, great **nature** fear'd he might outvie her works;\", \"tokens\": \", and brave thirst of praise . living , great nature fear ' d he might out ##vie her works ;\", \"word\": \"nature\", \"poem_title\": \"Epitaph VIII. On Sir Godfrey Kneller, In Westminster Abbey, 1723\", \"author\": \"Alexander Pope\", \"period\": \"18th Century\", \"link\": \"http://public-domain-poetry.com/alexander-pope/epitaph-viii-on-sir-godfrey-kneller-in-westminster-abbey-1723-28795\"}, {\"x\": -0.032647654, \"y\": 0.035355527, \"title\": \"maid to love: in love's, in **nature**'s spite, the siege they hold, and\", \"tokens\": \"maid to love : in love ' s , in nature ' s spite , the siege they hold , and\", \"word\": \"nature\", \"poem_title\": \"The Satires Of Dr John Donne, Dean Of St Paul's,[171] Versified\", \"author\": \"Alexander Pope\", \"period\": \"18th Century\", \"link\": \"http://public-domain-poetry.com/alexander-pope/satires-of-dr-john-donne-dean-of-st-pauls-versified-28820\"}, {\"x\": -0.031456787, \"y\": -0.018796878, \"title\": \"part, the chief perfection of the statesman's **art**, to give to fair assent a fairer face\", \"tokens\": \"part , the chief perfection of the statesman ' s art , to give to fair assent a fair ##er face\", \"word\": \"art\", \"poem_title\": \"an epistle to the right honourable sir robert walpole\", \"author\": \"Edward Young\", \"period\": \"18th Century\", \"link\": \"http://public-domain-poetry.com/edward-young/an-epistle-to-the-right-honourable-sir-robert-walpole-34623\"}, {\"x\": -0.032413594, \"y\": 0.03905561, \"title\": \"graffs receives, and yields an offspring more than **nature** gives; now sliding streams the thirsty plants renew,\", \"tokens\": \"graf ##fs receives , and yields an offspring more than nature gives ; now sliding streams the thirsty plants renew ,\", \"word\": \"nature\", \"poem_title\": \"Vertumnus and Pomona : Ovid's Metamorphoses, Book 14 (v. 623-771)\", \"author\": \"Alexander Pope\", \"period\": \"18th Century\", \"link\": \"http://public-domain-poetry.com/alexander-pope/vertumnus-and-pomona-ovids-metamorphoses-book-14-v-623-771-1680\"}, {\"x\": -0.03107003, \"y\": -0.017767122, \"title\": \"angle bears; each shape he varies, and each **art** he tries, on her bright charms to feast his\", \"tokens\": \"angle bears ; each shape he varies , and each art he tries , on her bright charms to feast his\", \"word\": \"art\", \"poem_title\": \"Vertumnus and Pomona : Ovid's Metamorphoses, Book 14 (v. 623-771)\", \"author\": \"Alexander Pope\", \"period\": \"18th Century\", \"link\": \"http://public-domain-poetry.com/alexander-pope/vertumnus-and-pomona-ovids-metamorphoses-book-14-v-623-771-1680\"}, {\"x\": -0.03227752, \"y\": -0.017256258, \"title\": \"measur'd walks of grecian **art** refuse? or though the frankness of my hardy\", \"tokens\": \"me ##as ##ur ' d walks of gr ##ec ##ian art refuse ? or though the frank ##ness of my hardy\", \"word\": \"art\", \"poem_title\": \"Ode I(ii); The Remonstrance Of Shakespeare\", \"author\": \"Mark Akenside\", \"period\": \"18th Century\", \"link\": \"http://public-domain-poetry.com/mark-akenside/ode-iii-the-remonstrance-of-shakespeare-3674\"}, {\"x\": -0.02799712, \"y\": 0.020228257, \"title\": \"[ 1 ] the estimation of a poem of this **nature** must depend, first, on its arrangement, plan\", \"tokens\": \"[ 1 ] the estimation of a poem of this nature must depend , first , on its arrangement , plan\", \"word\": \"nature\", \"poem_title\": \"Banwell Hill; A Lay Of The Severn Sea. Complete\", \"author\": \"William Lisle Bowles\", \"period\": \"18th Century\", \"link\": \"http://public-domain-poetry.com/william-lisle-bowles/banwell-hill-a-lay-of-the-severn-sea-complete-35362\"}, {\"x\": -0.03250552, \"y\": 0.037113693, \"title\": \"school, in which he swims as taught by **nature**, fit pattern for a human creature, glancing amid\", \"tokens\": \"school , in which he swim ##s as taught by nature , fit pattern for a human creature , glancing amid\", \"word\": \"nature\", \"poem_title\": \"Loving And Liking - Irregular Verses - Addressed To A Child  (By My Sister)\", \"author\": \"William Wordsworth\", \"period\": \"18th Century\", \"link\": \"http://public-domain-poetry.com/william-wordsworth/loving-and-liking-irregular-verses-addressed-to-a-child-by-my-sister-4561\"}, {\"x\": -0.0347185, \"y\": 0.030158294, \"title\": \"sister, and your friends with what inchantment **nature**'s goodly scene attracts the sense of mortals\", \"tokens\": \"sister , and your friends with what inch ##ant ##ment nature ' s good ##ly scene attracts the sense of mortals\", \"word\": \"nature\", \"poem_title\": \"The Pleasures of Imagination - The First Book - Poem\", \"author\": \"Mark Akenside\", \"period\": \"18th Century\", \"link\": \"http://public-domain-poetry.com/mark-akenside/pleasures-of-imagination-the-first-book-poem-3716\"}, {\"x\": -0.032735787, \"y\": 0.03991721, \"title\": \"and heighten to their eye the pomp of **nature**, and before them place the fairest, loft\", \"tokens\": \"and height ##en to their eye the po ##mp of nature , and before them place the fair ##est , loft\", \"word\": \"nature\", \"poem_title\": \"The Pleasures of Imagination - The First Book - Poem\", \"author\": \"Mark Akenside\", \"period\": \"18th Century\", \"link\": \"http://public-domain-poetry.com/mark-akenside/pleasures-of-imagination-the-first-book-poem-3716\"}, {\"x\": -0.032934133, \"y\": 0.033649947, \"title\": \"s wild and mazy track! a bosom **nature** gave thee true, a bosom true bring back\", \"tokens\": \"s wild and ma ##zy track ! a bo ##som nature gave thee true , a bo ##som true bring back\", \"word\": \"nature\", \"poem_title\": \"The Hereditary Prince Of Weimar, On His Proceeding To Paris\", \"author\": \"Friedrich Schiller\", \"period\": \"18th Century\", \"link\": \"http://public-domain-poetry.com/friedrich-schiller/hereditary-prince-of-weimar-on-his-proceeding-to-paris-30644\"}, {\"x\": -0.033659622, \"y\": -0.02696485, \"title\": \"ate fragrance breathed. o human life, that never **art** secure from dolorous change! behold a high\", \"tokens\": \"##ate fragrance breathed . o human life , that never art secure from do ##lor ##ous change ! behold a high\", \"word\": \"art\", \"poem_title\": \"Epitaphs Ii. Perhaps Some Needful Service Of The State\", \"author\": \"William Wordsworth\", \"period\": \"18th Century\", \"link\": \"http://public-domain-poetry.com/william-wordsworth/epitaphs-ii-perhaps-some-needful-service-of-the-state-4196\"}, {\"x\": -0.033576682, \"y\": -0.018476062, \"title\": \"dome hath typified by reach of daring **art** infinity's embrace; whose guardian crest, the\", \"tokens\": \"dome hat ##h ty ##pi ##fied by reach of daring art infinity ' s embrace ; whose guardian crest , the\", \"word\": \"art\", \"poem_title\": \"Ecclesiastical Sonnets - Part III. - XLV - Continued\", \"author\": \"William Wordsworth\", \"period\": \"18th Century\", \"link\": \"http://public-domain-poetry.com/william-wordsworth/ecclesiastical-sonnets-part-iii-xlv-continued-4466\"}, {\"x\": -0.032388043, \"y\": 0.029632056, \"title\": \"and most to be deplored, as human **nature**'s broadest, foulest blot,\", \"tokens\": \"and most to be de ##pl ##ored , as human nature ' s broad ##est , foul ##est b ##lot ,\", \"word\": \"nature\", \"poem_title\": \"The Task. Book II. The Timepiece\", \"author\": \"William Cowper\", \"period\": \"18th Century\", \"link\": \"http://public-domain-poetry.com/william-cowper/task-book-ii-the-timepiece-12993\"}, {\"x\": -0.032158673, \"y\": -0.014558348, \"title\": \", has deigned to work as if with human **art**! here lies poor ned purdon, from misery\", \"tokens\": \", has dei ##gned to work as if with human art ! here lies poor ned pu ##rdon , from misery\", \"word\": \"art\", \"poem_title\": \"Epitaph On Edward Purdon\", \"author\": \"Oliver Goldsmith\", \"period\": \"18th Century\", \"link\": \"http://public-domain-poetry.com/oliver-goldsmith/epitaph-on-edward-purdon-16865\"}, {\"x\": -0.032201286, \"y\": 0.03478704, \"title\": \", but the live scales of a portentous **nature**; that, having forced its way from birth to\", \"tokens\": \", but the live scales of a porte ##nto ##us nature ; that , having forced its way from birth to\", \"word\": \"nature\", \"poem_title\": \"Ode\", \"author\": \"William Wordsworth\", \"period\": \"18th Century\", \"link\": \"http://public-domain-poetry.com/william-wordsworth/ode-4224\"}, {\"x\": -0.032073393, \"y\": -0.01871118, \"title\": \"rich fruits, and bloom the flowers! see all **art**'s gentle wreaths still fresh upon the wall\", \"tokens\": \"rich fruits , and bloom the flowers ! see all art ' s gentle wreath ##s still fresh upon the wall\", \"word\": \"art\", \"poem_title\": \"Pompeii And Herculaneum\", \"author\": \"Friedrich Schiller\", \"period\": \"18th Century\", \"link\": \"http://public-domain-poetry.com/friedrich-schiller/pompeii-and-herculaneum-30533\"}, {\"x\": -0.033511378, \"y\": 0.028739009, \"title\": \"that promise spare the flower! o thou, by **nature** taught to breathe her genuine thought in numbers warmly pure\", \"tokens\": \"that promise spare the flower ! o thou , by nature taught to breathe her genuine thought in numbers warmly pure\", \"word\": \"nature\", \"poem_title\": \"Ode to Simplicity\", \"author\": \"William Collins\", \"period\": \"18th Century\", \"link\": \"http://public-domain-poetry.com/william-collins/ode-to-simplicity-1607\"}, {\"x\": -0.0333514, \"y\": -0.010040485, \"title\": \"with hermit heart, disdain'st the wealth of **art**, and gauds, and pageant weeds,\", \"tokens\": \"with hermit heart , disdain ' st the wealth of art , and ga ##ud ##s , and pageant weeds ,\", \"word\": \"art\", \"poem_title\": \"Ode to Simplicity\", \"author\": \"William Collins\", \"period\": \"18th Century\", \"link\": \"http://public-domain-poetry.com/william-collins/ode-to-simplicity-1607\"}, {\"x\": -0.03289465, \"y\": 0.03238712, \"title\": \"shepherds round, and all thy sons, o **nature**, learn my tale. tune-\\\"banks of\", \"tokens\": \"shepherd ##s round , and all thy sons , o nature , learn my tale . tune - \\\" banks of\", \"word\": \"nature\", \"poem_title\": null, \"author\": null, \"period\": null, \"link\": null}, {\"x\": -0.03288262, \"y\": -0.021566965, \"title\": \". yet tho 'to me the pencil's **art** no like remembrances can give, your portraits still\", \"tokens\": \". yet tho ' to me the pencil ' s art no like remembrance ##s can give , your portraits still\", \"word\": \"art\", \"poem_title\": \"To A Lady - In Answer To A Request That I Would Write Her A Poem Upon Some Drawings That She Had Made Of Flowers In The Island Of Madeira\", \"author\": \"William Wordsworth\", \"period\": \"18th Century\", \"link\": \"http://public-domain-poetry.com/william-wordsworth/to-a-lady-in-answer-to-a-request-that-i-would-write-her-a-poem-upon-some-drawings-that-she-had-mad-4744\"}, {\"x\": -0.033499155, \"y\": -0.0455562, \"title\": \"imagery; o blessed vision! happy child! thou **art** so exquisitely wild, i think of thee with\", \"tokens\": \"imagery ; o blessed vision ! happy child ! thou art so exquisite ##ly wild , i think of thee with\", \"word\": \"art\", \"poem_title\": \"To H. C\", \"author\": \"William Wordsworth\", \"period\": \"18th Century\", \"link\": \"http://public-domain-poetry.com/william-wordsworth/to-h-c-4110\"}, {\"x\": -0.033952016, \"y\": 0.033408996, \"title\": \"ous folly! o vain and causeless melancholy! **nature** will either end thee quite; or, lengthening\", \"tokens\": \"##ous folly ! o vain and cause ##less melancholy ! nature will either end thee quite ; or , length ##ening\", \"word\": \"nature\", \"poem_title\": \"To H. C\", \"author\": \"William Wordsworth\", \"period\": \"18th Century\", \"link\": \"http://public-domain-poetry.com/william-wordsworth/to-h-c-4110\"}, {\"x\": -0.031828407, \"y\": -0.04823851, \"title\": \", or the injuries of to-morrow? thou **art** a dew-drop, which the morn brings\", \"tokens\": \", or the injuries of to - morrow ? thou art a dew - drop , which the mor ##n brings\", \"word\": \"art\", \"poem_title\": \"To H. C\", \"author\": \"William Wordsworth\", \"period\": \"18th Century\", \"link\": \"http://public-domain-poetry.com/william-wordsworth/to-h-c-4110\"}, {\"x\": -0.032556895, \"y\": -0.036633924, \"title\": \"thou, ranging up and down the bowers, **art** sole in thy employment: a life, a presence\", \"tokens\": \"thou , ranging up and down the bow ##ers , art sole in thy employment : a life , a presence\", \"word\": \"art\", \"poem_title\": \"The Green Linnet\", \"author\": \"William Wordsworth\", \"period\": \"18th Century\", \"link\": \"http://public-domain-poetry.com/william-wordsworth/green-linnet-3890\"}, {\"x\": -0.0325209, \"y\": 0.035462137, \"title\": \"three years she grew in sun and shower, then **nature** said, 'a lovelier flower on earth was\", \"tokens\": \"three years she grew in sun and shower , then nature said , ' a love ##lier flower on earth was\", \"word\": \"nature\", \"poem_title\": \"Three Years She Grew\", \"author\": \"William Wordsworth\", \"period\": \"18th Century\", \"link\": \"http://public-domain-poetry.com/william-wordsworth/three-years-she-grew-3880\"}, {\"x\": -0.03261483, \"y\": 0.03104199, \"title\": \"together live here in this happy dell. 'thus **nature** spake, the work was done, how soon\", \"tokens\": \"together live here in this happy dell . ' thus nature spa ##ke , the work was done , how soon\", \"word\": \"nature\", \"poem_title\": \"Three Years She Grew\", \"author\": \"William Wordsworth\", \"period\": \"18th Century\", \"link\": \"http://public-domain-poetry.com/william-wordsworth/three-years-she-grew-3880\"}, {\"x\": -0.03165132, \"y\": 0.038844407, \"title\": \"and feel'st thou not the measure which eternal **nature** keeps? the whirling dance forever held in\", \"tokens\": \"and feel ' st thou not the measure which eternal nature keeps ? the w ##hir ##ling dance forever held in\", \"word\": \"nature\", \"poem_title\": \"The Dance\", \"author\": \"Friedrich Schiller\", \"period\": \"18th Century\", \"link\": \"http://public-domain-poetry.com/friedrich-schiller/dance-30537\"}, {\"x\": -0.03289679, \"y\": 0.030427229, \"title\": \"s the troubled heart: protect thy work, o **nature** now! one from the other flies, till thou\", \"tokens\": \"##s the troubled heart : protect thy work , o nature now ! one from the other flies , till thou\", \"word\": \"nature\", \"poem_title\": \"The Sexes\", \"author\": \"Friedrich Schiller\", \"period\": \"18th Century\", \"link\": \"http://public-domain-poetry.com/friedrich-schiller/sexes-30525\"}, {\"x\": -0.032333616, \"y\": -0.042789068, \"title\": \"each at last that for the other sighs. there **art** thou, mighty one! where 'er the disco\", \"tokens\": \"each at last that for the other sighs . there art thou , mighty one ! where ' er the disco\", \"word\": \"art\", \"poem_title\": \"The Sexes\", \"author\": \"Friedrich Schiller\", \"period\": \"18th Century\", \"link\": \"http://public-domain-poetry.com/friedrich-schiller/sexes-30525\"}, {\"x\": -0.031568315, \"y\": -0.023954518, \"title\": \", and seem'd by some magician's **art** created and sustain'd. but other magic there\", \"tokens\": \", and seem ' d by some magician ' s art created and sustain ' d . but other magic there\", \"word\": \"art\", \"poem_title\": \"On The Queen's Visit To London. The Night Of The Seventeenth Of March 1789\", \"author\": \"William Cowper\", \"period\": \"18th Century\", \"link\": \"http://public-domain-poetry.com/william-cowper/on-the-queens-visit-to-london-the-night-of-the-seventeenth-of-march-1789-13156\"}, {\"x\": -0.03333714, \"y\": -0.015143821, \"title\": \"filacaja. here, from laborious **art**, proud towns, ye rose! here, in\", \"tokens\": \"fi ##la ##ca ##ja . here , from labor ##ious art , proud towns , ye rose ! here , in\", \"word\": \"art\", \"poem_title\": \"Sonnet LXXXIII. On Catania And Syracuse Swallowed Up By Earthquake\", \"author\": \"Anna Seward\", \"period\": \"18th Century\", \"link\": \"http://public-domain-poetry.com/anna-seward/sonnet-lxxxiii-on-catania-and-syracuse-swallowed-up-by-earthquake-31173\"}, {\"x\": -0.031601984, \"y\": -0.042817716, \"title\": \"foot!-dread doom of human crimes, what **art** thou?-ye o 'erwhelmed\", \"tokens\": \"foot ! - dread doom of human crimes , what art thou ? - ye o ' er ##w ##helm ##ed\", \"word\": \"art\", \"poem_title\": \"Sonnet LXXXIII. On Catania And Syracuse Swallowed Up By Earthquake\", \"author\": \"Anna Seward\", \"period\": \"18th Century\", \"link\": \"http://public-domain-poetry.com/anna-seward/sonnet-lxxxiii-on-catania-and-syracuse-swallowed-up-by-earthquake-31173\"}, {\"x\": -0.035295304, \"y\": 0.029968394, \"title\": \"and hours commits the crime of sullenness to **nature**, 'gainst the time, and its great\", \"tokens\": \"and hours commits the crime of sul ##len ##ness to nature , ' gains ##t the time , and its great\", \"word\": \"nature\", \"poem_title\": \"Sonnet XXXVIII. Winter\", \"author\": \"Anna Seward\", \"period\": \"18th Century\", \"link\": \"http://public-domain-poetry.com/anna-seward/sonnet-xxxviii-winter-31128\"}, {\"x\": -0.03217822, \"y\": -0.015145083, \"title\": \"nine with plautus 'wit inspire, the **art** of terence, and menander's fire;\", \"tokens\": \"nine with pl ##au ##tus ' wit inspire , the art of terence , and men ##ander ' s fire ;\", \"word\": \"art\", \"poem_title\": \"Autumn - The Third Pastoral, Or Hylas And 'gon\", \"author\": \"Alexander Pope\", \"period\": \"18th Century\", \"link\": \"http://public-domain-poetry.com/alexander-pope/autumn-the-third-pastoral-or-hylas-and-gon-1638\"}, {\"x\": -0.03417551, \"y\": 0.035157517, \"title\": \"spirit warms! oh, skill'd in **nature**! see the hearts of swains, their art\", \"tokens\": \"spirit warm ##s ! oh , skill ' d in nature ! see the hearts of sw ##ains , their art\", \"word\": \"nature\", \"poem_title\": \"Autumn - The Third Pastoral, Or Hylas And 'gon\", \"author\": \"Alexander Pope\", \"period\": \"18th Century\", \"link\": \"http://public-domain-poetry.com/alexander-pope/autumn-the-third-pastoral-or-hylas-and-gon-1638\"}, {\"x\": -0.033269934, \"y\": -0.012569906, \"title\": \"nature! see the hearts of swains, their **artless** passions, and their tender pains. now setting\", \"tokens\": \"nature ! see the hearts of sw ##ains , their art ##less passions , and their tender pains . now setting\", \"word\": \"art\", \"poem_title\": \"Autumn - The Third Pastoral, Or Hylas And 'gon\", \"author\": \"Alexander Pope\", \"period\": \"18th Century\", \"link\": \"http://public-domain-poetry.com/alexander-pope/autumn-the-third-pastoral-or-hylas-and-gon-1638\"}, {\"x\": -0.032899275, \"y\": -0.018466959, \"title\": \"the frowning barriers that its force defied! but **art**, high o 'er the trailing smoke below of\", \"tokens\": \"the frowning barriers that its force def ##ied ! but art , high o ' er the trailing smoke below of\", \"word\": \"art\", \"poem_title\": \"The Bridge Between Clifton And Leigh Woods\", \"author\": \"William Lisle Bowles\", \"period\": \"18th Century\", \"link\": \"http://public-domain-poetry.com/william-lisle-bowles/bridge-between-clifton-and-leigh-woods-9333\"}, {\"x\": -0.034210227, \"y\": 0.025367307, \"title\": \"inform us who is he, that great original by **nature** chos 'n to be the archetype\", \"tokens\": \"inform us who is he , that great original by nature cho ##s ' n to be the arch ##ety ##pe\", \"word\": \"nature\", \"poem_title\": \"On The Platonic 'Ideal' As It Was Understood By Aristotle\", \"author\": \"William Cowper\", \"period\": \"18th Century\", \"link\": \"http://public-domain-poetry.com/william-cowper/on-the-platonic-ideal-as-it-was-understood-by-aristotle-13020\"}, {\"x\": -0.03078935, \"y\": 0.03076469, \"title\": \"father's mind, but, though of common **nature** with ourselves, exists apart, and occupies a local\", \"tokens\": \"father ' s mind , but , though of common nature with ourselves , exists apart , and occupies a local\", \"word\": \"nature\", \"poem_title\": \"On The Platonic 'Ideal' As It Was Understood By Aristotle\", \"author\": \"William Cowper\", \"period\": \"18th Century\", \"link\": \"http://public-domain-poetry.com/william-cowper/on-the-platonic-ideal-as-it-was-understood-by-aristotle-13020\"}, {\"x\": -0.030916363, \"y\": -0.048496675, \"title\": \"thee near her home; spring is coming, thou **art** come! comfort have thou of thy merit, kindly\", \"tokens\": \"thee near her home ; spring is coming , thou art come ! comfort have thou of thy merit , kindly\", \"word\": \"art\", \"poem_title\": \"To The Small Celandine\", \"author\": \"William Wordsworth\", \"period\": \"18th Century\", \"link\": \"http://public-domain-poetry.com/william-wordsworth/to-the-small-celandine-4148\"}, {\"x\": -0.033503365, \"y\": 0.017926516, \"title\": \"and seem to court the shower, yet are by **nature** careless of the sun whether he shine on them or\", \"tokens\": \"and seem to court the shower , yet are by nature careless of the sun whether he shine on them or\", \"word\": \"nature\", \"poem_title\": \"Lines Written In The Album Of The Countess Of Lonsdale. Nov. 5, 1834\", \"author\": \"William Wordsworth\", \"period\": \"18th Century\", \"link\": \"http://public-domain-poetry.com/william-wordsworth/lines-written-in-the-album-of-the-countess-of-lonsdale-nov-5-1834-4628\"}, {\"x\": -0.032513026, \"y\": 0.03142191, \"title\": \"such the immunities of low estate, plain **nature**'s enviable privilege, her sacred rec\", \"tokens\": \"such the im ##mun ##ities of low estate , plain nature ' s en ##via ##ble privilege , her sacred rec\", \"word\": \"nature\", \"poem_title\": \"Lines Written In The Album Of The Countess Of Lonsdale. Nov. 5, 1834\", \"author\": \"William Wordsworth\", \"period\": \"18th Century\", \"link\": \"http://public-domain-poetry.com/william-wordsworth/lines-written-in-the-album-of-the-countess-of-lonsdale-nov-5-1834-4628\"}, {\"x\": -0.034164578, \"y\": 0.027806483, \"title\": \"is she not clothed with a perpetual smile? can **nature** add a charm, or art confer a new\", \"tokens\": \"is she not clothed with a perpetual smile ? can nature add a charm , or art con ##fer a new\", \"word\": \"nature\", \"poem_title\": \"Expostulation\", \"author\": \"William Cowper\", \"period\": \"18th Century\", \"link\": \"http://public-domain-poetry.com/william-cowper/expostulation-13086\"}, {\"x\": -0.033076145, \"y\": -0.015392169, \"title\": \"perpetual smile? can nature add a charm, or **art** confer a new-found luxury, not seen\", \"tokens\": \"perpetual smile ? can nature add a charm , or art con ##fer a new - found luxury , not seen\", \"word\": \"art\", \"poem_title\": \"Expostulation\", \"author\": \"William Cowper\", \"period\": \"18th Century\", \"link\": \"http://public-domain-poetry.com/william-cowper/expostulation-13086\"}, {\"x\": -0.032723814, \"y\": -0.011640096, \"title\": \"horn; ambrosial gardens, in which **art** supplies the fervour and the force of\", \"tokens\": \"horn ; am ##bro ##sia ##l gardens , in which art supplies the fe ##r ##vo ##ur and the force of\", \"word\": \"art\", \"poem_title\": \"Expostulation\", \"author\": \"William Cowper\", \"period\": \"18th Century\", \"link\": \"http://public-domain-poetry.com/william-cowper/expostulation-13086\"}, {\"x\": -0.027407136, \"y\": 0.035168637, \"title\": \"it subsists in all things, in all **natures**; in the stars of azure heaven, the\", \"tokens\": \"it sub ##sis ##ts in all things , in all nature ##s ; in the stars of azure heaven , the\", \"word\": \"nature\", \"poem_title\": \"The Excursion - Book Ninth - Discourse Of The Wanderer, And An Evening Visit To The Lake\", \"author\": \"William Wordsworth\", \"period\": \"18th Century\", \"link\": \"http://public-domain-poetry.com/william-wordsworth/excursion-book-ninth-discourse-of-the-wanderer-and-an-evening-visit-to-the-lake-4217\"}, {\"x\": -0.032966323, \"y\": 0.034542672, \"title\": \"as shall divide them wholly from the stir of hopeful **nature**. rightly is it said that man descends into\", \"tokens\": \"as shall divide them wholly from the stir of hopeful nature . right ##ly is it said that man descends into\", \"word\": \"nature\", \"poem_title\": \"The Excursion - Book Ninth - Discourse Of The Wanderer, And An Evening Visit To The Lake\", \"author\": \"William Wordsworth\", \"period\": \"18th Century\", \"link\": \"http://public-domain-poetry.com/william-wordsworth/excursion-book-ninth-discourse-of-the-wanderer-and-an-evening-visit-to-the-lake-4217\"}, {\"x\": -0.034922075, \"y\": 0.030533943, \"title\": \", or can melt with love! happy! whom **nature** lent this native charm; whose melting tones can shed\", \"tokens\": \", or can melt with love ! happy ! whom nature lent this native charm ; whose melting tones can shed\", \"word\": \"nature\", \"poem_title\": \"Sonnet, To Mrs. Bates\", \"author\": \"Helen Maria Williams\", \"period\": \"18th Century\", \"link\": \"http://public-domain-poetry.com/helen-maria-williams/sonnet-to-mrs-bates-34703\"}, {\"x\": -0.033149514, \"y\": -0.038722664, \"title\": \"bright is thy veil, o moon, as thou **art** bright! \\\"forthwith, that little cloud,\", \"tokens\": \"bright is thy veil , o moon , as thou art bright ! \\\" forth ##with , that little cloud ,\", \"word\": \"art\", \"poem_title\": \"The Shepherd, Looking Eastward, Softly Said\", \"author\": \"William Wordsworth\", \"period\": \"18th Century\", \"link\": \"http://public-domain-poetry.com/william-wordsworth/shepherd-looking-eastward-softly-said-4092\"}, {\"x\": -0.032908686, \"y\": -0.04134739, \"title\": \"the bounds our victor arms ordain. thou **art** my god, sole object of my love; not\", \"tokens\": \"the bounds our victor arms or ##dai ##n . thou art my god , sole object of my love ; not\", \"word\": \"art\", \"poem_title\": \"Prayer Of St. Francis Xavier\", \"author\": \"Alexander Pope\", \"period\": \"18th Century\", \"link\": \"http://public-domain-poetry.com/alexander-pope/prayer-of-st-francis-xavier-1662\"}, {\"x\": -0.032025803, \"y\": 0.03102889, \"title\": \"numberless suns in the dewdrop revealed. young **nature** invades the whispering shades, displaying each ravishing\", \"tokens\": \"number ##less suns in the dew ##drop revealed . young nature invade ##s the whispering shades , displaying each ravi ##shing\", \"word\": \"nature\", \"poem_title\": \"The Fugitive\", \"author\": \"Friedrich Schiller\", \"period\": \"18th Century\", \"link\": \"http://public-domain-poetry.com/friedrich-schiller/fugitive-30715\"}, {\"x\": -0.03205203, \"y\": -0.017136218, \"title\": \"minds that reverence the muse. let the creative **art** breathe life, and the bard furnish spirit;\", \"tokens\": \"minds that rev ##erence the muse . let the creative art breathe life , and the bard fur ##nish spirit ;\", \"word\": \"art\", \"poem_title\": \"Science Of Music\", \"author\": \"Friedrich Schiller\", \"period\": \"18th Century\", \"link\": \"http://public-domain-poetry.com/friedrich-schiller/science-of-music-30599\"}, {\"x\": -0.031801667, \"y\": -0.016938241, \"title\": \"an essential part, and not a formal piece of **art**, of paltry reading a parade, a dull\", \"tokens\": \"an essential part , and not a formal piece of art , of pal ##try reading a parade , a dull\", \"word\": \"art\", \"poem_title\": \"The Ghost. Book II\", \"author\": \"Charles Churchill\", \"period\": \"18th Century\", \"link\": \"http://public-domain-poetry.com/charles-churchill/ghost-book-ii-12183\"}, {\"x\": -0.027645249, \"y\": 0.009941191, \"title\": \"our flimsy rhymes; 't was the **religion** of the times; and they believed that holy stream\", \"tokens\": \"our fl ##im ##sy rhymes ; ' t was the religion of the times ; and they believed that holy stream\", \"word\": \"religion\", \"poem_title\": \"The Ghost. Book II\", \"author\": \"Charles Churchill\", \"period\": \"18th Century\", \"link\": \"http://public-domain-poetry.com/charles-churchill/ghost-book-ii-12183\"}, {\"x\": -0.034235176, \"y\": 0.032326203, \"title\": \"force, by which, above her common course, **nature**, in ecstasy upborne, look'd down\", \"tokens\": \"force , by which , above her common course , nature , in ecstasy up ##borne , look ' d down\", \"word\": \"nature\", \"poem_title\": \"The Ghost. Book II\", \"author\": \"Charles Churchill\", \"period\": \"18th Century\", \"link\": \"http://public-domain-poetry.com/charles-churchill/ghost-book-ii-12183\"}, {\"x\": -0.029819999, \"y\": 0.008862231, \"title\": \"no more regard, 'tis known, for their **religion** than our own, and feel not half so fierce\", \"tokens\": \"no more regard , ' tis known , for their religion than our own , and feel not half so fierce\", \"word\": \"religion\", \"poem_title\": \"The Ghost. Book II\", \"author\": \"Charles Churchill\", \"period\": \"18th Century\", \"link\": \"http://public-domain-poetry.com/charles-churchill/ghost-book-ii-12183\"}, {\"x\": -0.03434459, \"y\": 0.032333117, \"title\": \"to iona's shore, no common light of **nature** blessed the mountain region of the west, a land\", \"tokens\": \"to iona ' s shore , no common light of nature blessed the mountain region of the west , a land\", \"word\": \"nature\", \"poem_title\": \"The Highland Broach\", \"author\": \"William Wordsworth\", \"period\": \"18th Century\", \"link\": \"http://public-domain-poetry.com/william-wordsworth/highland-broach-4555\"}, {\"x\": -0.028825227, \"y\": -0.04455811, \"title\": \"his sons had trod: malvina! where **art** thou? their state the noblest-born must\", \"tokens\": \"his sons had tr ##od : mal ##vina ! where art thou ? their state the nobles ##t - born must\", \"word\": \"art\", \"poem_title\": \"The Highland Broach\", \"author\": \"William Wordsworth\", \"period\": \"18th Century\", \"link\": \"http://public-domain-poetry.com/william-wordsworth/highland-broach-4555\"}, {\"x\": -0.031269275, \"y\": -0.043888777, \"title\": \"and for grecian-like beauty! thou **art** successful in both; ne 'er has the gaul\", \"tokens\": \"and for gr ##ec ##ian - like beauty ! thou art successful in both ; ne ' er has the gaul\", \"word\": \"art\", \"poem_title\": \"German Genius\", \"author\": \"Friedrich Schiller\", \"period\": \"18th Century\", \"link\": \"http://public-domain-poetry.com/friedrich-schiller/german-genius-30612\"}, {\"x\": -0.033373106, \"y\": -0.038726088, \"title\": \"'tis through the reason thou 'rt one, **art** so with it through the heart. voice of the\", \"tokens\": \"' tis through the reason thou ' rt one , art so with it through the heart . voice of the\", \"word\": \"art\", \"poem_title\": \"The Third Monarchy, Being The Grecian, Beginning Under Alexander The Great In The 112. Olympiad\", \"author\": \"Anne Bradstreet\", \"period\": \"16th-17th Centuries (Early Modern)\", \"link\": \"http://public-domain-poetry.com/anne-bradstreet/third-monarchy-being-the-grecian-beginning-under-alexander-the-great-in-the-112-olympiad-9465\"}, {\"x\": -0.030443339, \"y\": -0.0437532, \"title\": \"in thy heart reason dwells evermore, happy **art** thou. but in the wine-presses the human\", \"tokens\": \"in thy heart reason dwell ##s ever ##more , happy art thou . but in the wine - presses the human\", \"word\": \"art\", \"poem_title\": null, \"author\": null, \"period\": null, \"link\": null}, {\"x\": -0.033456415, \"y\": 0.037950624, \"title\": \"'s sound; rejoicing, when in **nature**'s reign, the marvellous is found,\", \"tokens\": \"' s sound ; re ##jo ##icing , when in nature ' s reign , the marvel ##lous is found ,\", \"word\": \"nature\", \"poem_title\": \"The Serpents\", \"author\": \"William Hayley\", \"period\": \"18th Century\", \"link\": \"http://public-domain-poetry.com/william-hayley/serpents-18242\"}, {\"x\": -0.031696666, \"y\": -0.012525139, \"title\": \"strange a tale, as history knows, accept in **artless** rhyme: an honest greek relates in prose,\", \"tokens\": \"strange a tale , as history knows , accept in art ##less rhyme : an honest greek relates in prose ,\", \"word\": \"art\", \"poem_title\": \"The Serpents\", \"author\": \"William Hayley\", \"period\": \"18th Century\", \"link\": \"http://public-domain-poetry.com/william-hayley/serpents-18242\"}, {\"x\": -0.03191871, \"y\": 0.03683133, \"title\": \"'d, a brave herculean boy. **nature**, with passion, long at strife, contended\", \"tokens\": \"' d , a brave her ##cule ##an boy . nature , with passion , long at strife , contend ##ed\", \"word\": \"nature\", \"poem_title\": \"The Serpents\", \"author\": \"William Hayley\", \"period\": \"18th Century\", \"link\": \"http://public-domain-poetry.com/william-hayley/serpents-18242\"}, {\"x\": -0.032769036, \"y\": -0.040833466, \"title\": \"savage joy; to risk two o rose, thou **art** sick! the invisible worm, that flies in the\", \"tokens\": \"savage joy ; to risk two o rose , thou art sick ! the invisible worm , that flies in the\", \"word\": \"art\", \"poem_title\": \"The Sick Rose\", \"author\": \"William Blake\", \"period\": \"18th Century\", \"link\": \"http://public-domain-poetry.com/william-blake/sick-rose-9183\"}, {\"x\": -0.03439199, \"y\": 0.02346281, \"title\": \"palace, sleep. from these perhaps ( ere **nature** bade her die ) fate snatch'd her\", \"tokens\": \"palace , sleep . from these perhaps ( er ##e nature bad ##e her die ) fate snatch ' d her\", \"word\": \"nature\", \"poem_title\": \"Elegy To The Memory Of An Unfortunate Lady\", \"author\": \"Alexander Pope\", \"period\": \"18th Century\", \"link\": \"http://public-domain-poetry.com/alexander-pope/elegy-to-the-memory-of-an-unfortunate-lady-1624\"}, {\"x\": -0.03362947, \"y\": -0.036737416, \"title\": \"gentle sleep, death's image tho 'thou **art**, come share my couch, nor speedily depart\", \"tokens\": \"gentle sleep , death ' s image tho ' thou art , come share my couch , nor speed ##ily depart\", \"word\": \"art\", \"poem_title\": \"Michael Angelo In Reply To The Passage Upon His Staute Of Sleeping Night\", \"author\": \"William Wordsworth\", \"period\": \"18th Century\", \"link\": \"http://public-domain-poetry.com/william-wordsworth/michael-angelo-in-reply-to-the-passage-upon-his-staute-of-sleeping-night-3991\"}, {\"x\": -0.032061633, \"y\": -0.0421826, \"title\": \"thy presence gives, what peace shall reign when thou **art** here! thy presence makes this den of thieves a\", \"tokens\": \"thy presence gives , what peace shall reign when thou art here ! thy presence makes this den of thieves a\", \"word\": \"art\", \"poem_title\": \"The House Of Prayer. - Mark xi.17\", \"author\": \"William Cowper\", \"period\": \"18th Century\", \"link\": \"http://public-domain-poetry.com/william-cowper/house-of-prayer-mark-xi17-13247\"}, {\"x\": -0.03519431, \"y\": 0.030899713, \"title\": \"ting elf, not to thee, but thanks to **nature**, thou art acting but thyself. we\", \"tokens\": \"##ting elf , not to thee , but thanks to nature , thou art acting but thy ##sel ##f . we\", \"word\": \"nature\", \"poem_title\": \"On Seeing Miss Fontenelle In A Favourite Character\", \"author\": \"Robert Burns\", \"period\": \"18th Century\", \"link\": \"http://public-domain-poetry.com/robert-burns/on-seeing-miss-fontenelle-in-a-favourite-character-10034\"}, {\"x\": -0.03356837, \"y\": -0.044607222, \"title\": \"not to thee, but thanks to nature, thou **art** acting but thyself. wert thou awkward\", \"tokens\": \"not to thee , but thanks to nature , thou art acting but thy ##sel ##f . we ##rt thou awkward\", \"word\": \"art\", \"poem_title\": \"Resignation\", \"author\": \"Friedrich Schiller\", \"period\": \"18th Century\", \"link\": \"http://public-domain-poetry.com/friedrich-schiller/resignation-30693\"}, {\"x\": -0.034301497, \"y\": 0.02836704, \"title\": \"rt thou awkward, stiff, affected, spurning **nature**, torturing art; loves and graces all\", \"tokens\": \"##rt thou awkward , stiff , affected , spur ##ning nature , tor ##turing art ; loves and grace ##s all\", \"word\": \"nature\", \"poem_title\": \"On Seeing Miss Fontenelle In A Favourite Character\", \"author\": \"Robert Burns\", \"period\": \"18th Century\", \"link\": \"http://public-domain-poetry.com/robert-burns/on-seeing-miss-fontenelle-in-a-favourite-character-10034\"}, {\"x\": -0.03484994, \"y\": -0.018002424, \"title\": \"stiff, affected, spurning nature, torturing **art**; loves and graces all rejected, then indeed\", \"tokens\": \"stiff , affected , spur ##ning nature , tor ##turing art ; loves and grace ##s all rejected , then indeed\", \"word\": \"art\", \"poem_title\": \"On Seeing Miss Fontenelle In A Favourite Character\", \"author\": \"Robert Burns\", \"period\": \"18th Century\", \"link\": \"http://public-domain-poetry.com/robert-burns/on-seeing-miss-fontenelle-in-a-favourite-character-10034\"}, {\"x\": -0.03204836, \"y\": 0.017677743, \"title\": \"s the ingenuous moralist, whose mind **science** has stored, and piety refined, that fading\", \"tokens\": \"##s the ing ##en ##uous moral ##ist , whose mind science has stored , and pie ##ty refined , that fading\", \"word\": \"science\", \"poem_title\": \"The Right Honourable Edmund Burke\", \"author\": \"William Lisle Bowles\", \"period\": \"18th Century\", \"link\": \"http://public-domain-poetry.com/william-lisle-bowles/right-honourable-edmund-burke-9351\"}, {\"x\": -0.034031674, \"y\": 0.02678218, \"title\": \"scan severe these fair illusions, ev 'n to **nature** dear. though now no more proud chivalry\", \"tokens\": \"scan severe these fair illusions , ev ' n to nature dear . though now no more proud chi ##val ##ry\", \"word\": \"nature\", \"poem_title\": \"The Right Honourable Edmund Burke\", \"author\": \"William Lisle Bowles\", \"period\": \"18th Century\", \"link\": \"http://public-domain-poetry.com/william-lisle-bowles/right-honourable-edmund-burke-9351\"}, {\"x\": -0.03267016, \"y\": 0.025433727, \"title\": \"feature, old, and void of all good-**nature**; lean and fretful; would seem wise\", \"tokens\": \"feature , old , and void of all good - nature ; lean and fr ##et ##ful ; would seem wise\", \"word\": \"nature\", \"poem_title\": \"Answer To The Following Question Of Mrs Howe\", \"author\": \"Alexander Pope\", \"period\": \"18th Century\", \"link\": \"http://public-domain-poetry.com/alexander-pope/answer-to-the-following-question-of-mrs-howe-28844\"}, {\"x\": -0.030337872, \"y\": -0.046373695, \"title\": \"ae night. \\\"i. o lassie, **art** thou sleeping yet, or **art** thou waking, i\", \"tokens\": \"ae night . \\\" i . o lass ##ie , art thou sleeping yet , or art thou waking , i\", \"word\": \"art\", \"poem_title\": \"O Lassie, Art Thou Sleeping Yet\", \"author\": \"Robert Burns\", \"period\": \"18th Century\", \"link\": \"http://public-domain-poetry.com/robert-burns/o-lassie-art-thou-sleeping-yet-10370\"}, {\"x\": -0.03039735, \"y\": -0.04580738, \"title\": \"o lassie, **art** thou sleeping yet, or **art** thou waking, i would wit? for love has\", \"tokens\": \"o lass ##ie , art thou sleeping yet , or art thou waking , i would wit ? for love has\", \"word\": \"art\", \"poem_title\": \"O Lassie, Art Thou Sleeping Yet\", \"author\": \"Robert Burns\", \"period\": \"18th Century\", \"link\": \"http://public-domain-poetry.com/robert-burns/o-lassie-art-thou-sleeping-yet-10370\"}, {\"x\": -0.030154286, \"y\": -0.052700695, \"title\": \", and i will not let thee go: thou **art** the image of god who dwells in darkness of\", \"tokens\": \", and i will not let thee go : thou art the image of god who dwell ##s in darkness of\", \"word\": \"art\", \"poem_title\": \"Preludium To America\", \"author\": \"William Blake\", \"period\": \"18th Century\", \"link\": \"http://public-domain-poetry.com/william-blake/preludium-to-america-9249\"}, {\"x\": -0.029330315, \"y\": -0.05382724, \"title\": \"who dwells in darkness of africa, and thou **art** fall 'n to give me life in regions of\", \"tokens\": \"who dwell ##s in darkness of africa , and thou art fall ' n to give me life in regions of\", \"word\": \"art\", \"poem_title\": \"Preludium To America\", \"author\": \"William Blake\", \"period\": \"18th Century\", \"link\": \"http://public-domain-poetry.com/william-blake/preludium-to-america-9249\"}, {\"x\": -0.03320444, \"y\": 0.030026844, \"title\": \"pain, the bliss of dying! cease, fond **nature**, cease thy strife, and let me languis\", \"tokens\": \"pain , the bliss of dying ! cease , fond nature , cease thy strife , and let me lang ##uis\", \"word\": \"nature\", \"poem_title\": \"The Dying Christian To His Soul\", \"author\": \"Alexander Pope\", \"period\": \"18th Century\", \"link\": \"http://public-domain-poetry.com/alexander-pope/dying-christian-to-his-soul-1627\"}, {\"x\": -0.028344035, \"y\": 0.018904317, \"title\": \"gospel from fire and air, and eternal reason and **science** 97 from the deep and the solid, and man\", \"tokens\": \"gospel from fire and air , and eternal reason and science 97 from the deep and the solid , and man\", \"word\": \"science\", \"poem_title\": \"The French Revolution (Excerpt)\", \"author\": \"William Blake\", \"period\": \"18th Century\", \"link\": \"http://public-domain-poetry.com/william-blake/french-revolution-excerpt-9221\"}, {\"x\": -0.032625318, \"y\": 0.03942686, \"title\": \"the high wood answers to the lightest breath of **nature**. oh, may such sweet music steal, soothing\", \"tokens\": \"the high wood answers to the light ##est breath of nature . oh , may such sweet music steal , soothing\", \"word\": \"nature\", \"poem_title\": \"Avenue In Savernake Forest\", \"author\": \"William Lisle Bowles\", \"period\": \"18th Century\", \"link\": \"http://public-domain-poetry.com/william-lisle-bowles/avenue-in-savernake-forest-9414\"}, {\"x\": -0.034619752, \"y\": 0.024333918, \"title\": \"name \\\"\\\"are high rewards; but bound they **nature**'s claim \\\"\\\"or reason's?\", \"tokens\": \"name \\\" \\\" are high rewards ; but bound they nature ' s claim \\\" \\\" or reason ' s ?\", \"word\": \"nature\", \"poem_title\": \"A Poet To His Grandchild - Sequel To The Foregoing\", \"author\": \"William Wordsworth\", \"period\": \"18th Century\", \"link\": \"http://public-domain-poetry.com/william-wordsworth/poet-to-his-grandchild-sequel-to-the-foregoing-4685\"}, {\"x\": -0.033582326, \"y\": 0.027290685, \"title\": \"and fallen, on the watry fields; and **nature** to the waste dominion yields, stript her last\", \"tokens\": \"and fallen , on the wat ##ry fields ; and nature to the waste dominion yields , strip ##t her last\", \"word\": \"nature\", \"poem_title\": \"Sonnet LXXXIV\", \"author\": \"Anna Seward\", \"period\": \"18th Century\", \"link\": \"http://public-domain-poetry.com/anna-seward/sonnet-lxxxiv-31174\"}, {\"x\": -0.033620764, \"y\": -0.04138744, \"title\": \", up, into the vast extended space, thou **art** ascending in thy majesty, beautiful moon, the queen\", \"tokens\": \", up , into the vast extended space , thou art ascending in thy majesty , beautiful moon , the queen\", \"word\": \"art\", \"poem_title\": \"On An Eclipse Of The Moon At Midnight\", \"author\": \"William Lisle Bowles\", \"period\": \"18th Century\", \"link\": \"http://public-domain-poetry.com/william-lisle-bowles/on-an-eclipse-of-the-moon-at-midnight-35424\"}, {\"x\": -0.032897376, \"y\": -0.009858133, \"title\": \"in which conspire fresnoy's close **art**, and dryden's native fire: and\", \"tokens\": \"in which con ##sp ##ire fresno ##y ' s close art , and dry ##den ' s native fire : and\", \"word\": \"art\", \"poem_title\": \"Epistle To Mr Jervas, With Mr Dryden's Translation Of Fresnoy's 'Art Of Painting.'\", \"author\": \"Alexander Pope\", \"period\": \"18th Century\", \"link\": \"http://public-domain-poetry.com/alexander-pope/epistle-to-mr-jervas-with-mr-drydens-translation-of-fresnoys-art-of-painting-28783\"}, {\"x\": -0.032292005, \"y\": -0.012590196, \"title\": \"-growing works impart, while images reflect from **art** to **art**! how oft review; each finding\", \"tokens\": \"- growing works imp ##art , while images reflect from art to art ! how of ##t review ; each finding\", \"word\": \"art\", \"poem_title\": \"Epistle To Mr Jervas, With Mr Dryden's Translation Of Fresnoy's 'Art Of Painting.'\", \"author\": \"Alexander Pope\", \"period\": \"18th Century\", \"link\": \"http://public-domain-poetry.com/alexander-pope/epistle-to-mr-jervas-with-mr-drydens-translation-of-fresnoys-art-of-painting-28783\"}, {\"x\": -0.031997032, \"y\": -0.0168824, \"title\": \"works impart, while images reflect from **art** to **art**! how oft review; each finding, like\", \"tokens\": \"works imp ##art , while images reflect from art to art ! how of ##t review ; each finding , like\", \"word\": \"art\", \"poem_title\": \"Epistle To Mr Jervas, With Mr Dryden's Translation Of Fresnoy's 'Art Of Painting.'\", \"author\": \"Alexander Pope\", \"period\": \"18th Century\", \"link\": \"http://public-domain-poetry.com/alexander-pope/epistle-to-mr-jervas-with-mr-drydens-translation-of-fresnoys-art-of-painting-28783\"}, {\"x\": -0.03040917, \"y\": 0.017123658, \"title\": \"hears him in the wind; his soul, proud **science** never taught to stray far as the solar walk,\", \"tokens\": \"hears him in the wind ; his soul , proud science never taught to stray far as the solar walk ,\", \"word\": \"science\", \"poem_title\": \"From An Essay On Man\", \"author\": \"Alexander Pope\", \"period\": \"18th Century\", \"link\": \"http://public-domain-poetry.com/alexander-pope/from-an-essay-on-man-1617\"}, {\"x\": -0.031723157, \"y\": 0.03133746, \"title\": \"the solar walk, or milky way; yet simple **nature** to his hope has giv 'n, behind\", \"tokens\": \"the solar walk , or milky way ; yet simple nature to his hope has gi ##v ' n , behind\", \"word\": \"nature\", \"poem_title\": \"From An Essay On Man\", \"author\": \"Alexander Pope\", \"period\": \"18th Century\", \"link\": \"http://public-domain-poetry.com/alexander-pope/from-an-essay-on-man-1617\"}, {\"x\": -0.03304518, \"y\": -0.00942524, \"title\": \"naturalise this tawny lion brood; children of **art**, that claim strange brotherhood, couched in their\", \"tokens\": \"natural ##ise this ta ##wny lion brood ; children of art , that claim strange brotherhood , couch ##ed in their\", \"word\": \"art\", \"poem_title\": \"Picture Of Daniel In The Lion's Den At Hamilton Palace\", \"author\": \"William Wordsworth\", \"period\": \"18th Century\", \"link\": \"http://public-domain-poetry.com/william-wordsworth/picture-of-daniel-in-the-lions-den-at-hamilton-palace-4020\"}, {\"x\": -0.032836623, \"y\": 0.03440749, \"title\": \"gift. but one there is, a child of **nature** meek, who comes her sire to seek; and\", \"tokens\": \"gift . but one there is , a child of nature meek , who comes her sire to seek ; and\", \"word\": \"nature\", \"poem_title\": \"Artegal And Elidure\", \"author\": \"William Wordsworth\", \"period\": \"18th Century\", \"link\": \"http://public-domain-poetry.com/william-wordsworth/artegal-and-elidure-3935\"}, {\"x\": -0.033849187, \"y\": 0.03394333, \"title\": \"; safe from change that time to matter gives, **nature**'s blest playmate, free at\", \"tokens\": \"; safe from change that time to matter gives , nature ' s b ##les ##t play ##mate , free at\", \"word\": \"nature\", \"poem_title\": \"The Ideal And The Actual Life\", \"author\": \"Friedrich Schiller\", \"period\": \"18th Century\", \"link\": \"http://public-domain-poetry.com/friedrich-schiller/ideal-and-the-actual-life-30505\"}, {\"x\": -0.032857545, \"y\": -0.016547693, \"title\": \"man their innocence is dear. enraptured **art** draws from those sacred springs streams that reflect the poetry\", \"tokens\": \"man their innocence is dear . en ##ra ##pt ##ured art draws from those sacred springs streams that reflect the poetry\", \"word\": \"art\", \"poem_title\": \"Humanity\", \"author\": \"William Wordsworth\", \"period\": \"18th Century\", \"link\": \"http://public-domain-poetry.com/william-wordsworth/humanity-4517\"}, {\"x\": -0.033848923, \"y\": 0.032871332, \"title\": \"and known; thou for our sakes, though **nature**'s child indeed, fair in thyself\", \"tokens\": \"and known ; thou for our sake ##s , though nature ' s child indeed , fair in thy ##sel ##f\", \"word\": \"nature\", \"poem_title\": \"A Farewell\", \"author\": \"William Wordsworth\", \"period\": \"18th Century\", \"link\": \"http://public-domain-poetry.com/william-wordsworth/farewell-3904\"}, {\"x\": -0.03079837, \"y\": 0.032187812, \"title\": \"'s while abelard has part, still rebel **nature** holds out half my heart; nor pray 'rs\", \"tokens\": \"' s while abel ##ard has part , still rebel nature holds out half my heart ; nor pray ' rs\", \"word\": \"nature\", \"poem_title\": \"Eloisa To Abelard\", \"author\": \"Alexander Pope\", \"period\": \"18th Century\", \"link\": \"http://public-domain-poetry.com/alexander-pope/eloisa-to-abelard-1623\"}, {\"x\": -0.029192133, \"y\": 0.010607803, \"title\": \"in a convent's solitary gloom! there stern **religion** quench'd th 'unwilling flame, there\", \"tokens\": \"in a convent ' s solitary gloom ! there stern religion que ##nch ' d th ' unwilling flame , there\", \"word\": \"religion\", \"poem_title\": \"Eloisa To Abelard\", \"author\": \"Alexander Pope\", \"period\": \"18th Century\", \"link\": \"http://public-domain-poetry.com/alexander-pope/eloisa-to-abelard-1623\"}, {\"x\": -0.030624641, \"y\": -0.016486265, \"title\": \"train'd even from his birth to every powerful **art** of pleasing and persuading: from whose lips\", \"tokens\": \"train ' d even from his birth to every powerful art of pleasing and per ##su ##ading : from whose lips\", \"word\": \"art\", \"poem_title\": \"The Pleasures of Imagination - The Third Book - Poem\", \"author\": \"Mark Akenside\", \"period\": \"18th Century\", \"link\": \"http://public-domain-poetry.com/mark-akenside/pleasures-of-imagination-the-third-book-poem-3709\"}, {\"x\": -0.031496108, \"y\": 0.03891033, \"title\": \"som of the ground: and all the vast of **nature** shrunk before their shrunken eyes.\", \"tokens\": \"##som of the ground : and all the vast of nature sh ##run ##k before their sh ##run ##ken eyes .\", \"word\": \"nature\", \"poem_title\": \"The Song Of Los\", \"author\": \"William Blake\", \"period\": \"18th Century\", \"link\": \"http://public-domain-poetry.com/william-blake/song-of-los-9275\"}, {\"x\": -0.03386355, \"y\": -0.038916655, \"title\": \". thy favour, all my journey through, thou **art** engaged to grant; what else i want, or\", \"tokens\": \". thy favour , all my journey through , thou art engaged to grant ; what else i want , or\", \"word\": \"art\", \"poem_title\": \"Submission\", \"author\": \"William Cowper\", \"period\": \"18th Century\", \"link\": \"http://public-domain-poetry.com/william-cowper/submission-13274\"}, {\"x\": -0.033770625, \"y\": 0.033580054, \"title\": \"say, each brain to enter durst not, **nature** exerts her mother-sway, provides that\", \"tokens\": \"say , each brain to enter du ##rst not , nature ex ##ert ##s her mother - sway , provides that\", \"word\": \"nature\", \"poem_title\": \"The Philosophers\", \"author\": \"Friedrich Schiller\", \"period\": \"18th Century\", \"link\": \"http://public-domain-poetry.com/friedrich-schiller/philosophers-30629\"}, {\"x\": -0.033648465, \"y\": 0.037598222, \"title\": \"business, bodies without soul, important blanks in **nature**'s mighty roll, solemnise nonsense in the\", \"tokens\": \"business , bodies without soul , important blank ##s in nature ' s mighty roll , solemn ##ise nonsense in the\", \"word\": \"nature\", \"poem_title\": \"Night.[1] An Epistle To Robert Lloyd\", \"author\": \"Charles Churchill\", \"period\": \"18th Century\", \"link\": \"http://public-domain-poetry.com/charles-churchill/night-an-epistle-to-robert-lloyd-12196\"}, {\"x\": -0.033492185, \"y\": 0.035524506, \"title\": \"die. how?--shall the face of **nature** then be plow'd into deep wrinkles\", \"tokens\": \"die . how ? - - shall the face of nature then be pl ##ow ' d into deep wr ##inkles\", \"word\": \"nature\", \"poem_title\": \"That Nature Is Not Subject To Decay\", \"author\": \"William Cowper\", \"period\": \"18th Century\", \"link\": \"http://public-domain-poetry.com/william-cowper/that-nature-is-not-subject-to-decay-13019\"}, {\"x\": -0.03315436, \"y\": -0.035723433, \"title\": \". though poor and destitute of friends thou **art**, perhaps the sole survivor of thy race, one\", \"tokens\": \". though poor and des ##ti ##tute of friends thou art , perhaps the sole survivor of thy race , one\", \"word\": \"art\", \"poem_title\": \"Sonnet - To An Octogenarian\", \"author\": \"William Wordsworth\", \"period\": \"18th Century\", \"link\": \"http://public-domain-poetry.com/william-wordsworth/sonnet-to-an-octogenarian-4762\"}, {\"x\": -0.03274854, \"y\": 0.035164356, \"title\": \"'blame the licensed joys, though false to **nature**'s quiet equipoise: frank are\", \"tokens\": \"' blame the licensed joy ##s , though false to nature ' s quiet e ##qui ##po ##ise : frank are\", \"word\": \"nature\", \"poem_title\": \"The River Duddon - A Series Of Sonnets, 1820. - XXIII - Sheep-Washing\", \"author\": \"William Wordsworth\", \"period\": \"18th Century\", \"link\": \"http://public-domain-poetry.com/william-wordsworth/river-duddon-a-series-of-sonnets-1820-xxiii-sheep-washing-4323\"}, {\"x\": -0.032044597, \"y\": -0.009936641, \"title\": \"spell, never intertwined notes shrill and wild with **art** more musical: alas! that from the lips\", \"tokens\": \"spell , never inter ##twined notes shrill and wild with art more musical : ala ##s ! that from the lips\", \"word\": \"art\", \"poem_title\": \"Memorials Of A Tour On The Continent, 1820 - XI. - On Approaching The Staub-Bach, Lauterbrunnen\", \"author\": \"William Wordsworth\", \"period\": \"18th Century\", \"link\": \"http://public-domain-poetry.com/william-wordsworth/memorials-of-a-tour-on-the-continent-1820-xi-on-approaching-the-staub-bach-lauterbrunnen-4272\"}, {\"x\": -0.02856286, \"y\": -0.04527782, \"title\": \"music-and 'tis love. iv. and **art** thou come? and **art** thou true? o welcome\", \"tokens\": \"music - and ' tis love . iv . and art thou come ? and art thou true ? o welcome\", \"word\": \"art\", \"poem_title\": \"Here Is The Glen\", \"author\": \"Robert Burns\", \"period\": \"18th Century\", \"link\": \"http://public-domain-poetry.com/robert-burns/here-is-the-glen-10347\"}, {\"x\": -0.028742641, \"y\": -0.04630387, \"title\": \"love. iv. and **art** thou come? and **art** thou true? o welcome, dear to love and\", \"tokens\": \"love . iv . and art thou come ? and art thou true ? o welcome , dear to love and\", \"word\": \"art\", \"poem_title\": \"Here Is The Glen\", \"author\": \"Robert Burns\", \"period\": \"18th Century\", \"link\": \"http://public-domain-poetry.com/robert-burns/here-is-the-glen-10347\"}, {\"x\": -0.033736426, \"y\": 0.031652037, \"title\": \"! above all women glorified, our tainted **nature**'s solitary boast; purer than foam\", \"tokens\": \"! above all women g ##lor ##ified , our tainted nature ' s solitary bo ##ast ; pure ##r than foam\", \"word\": \"nature\", \"poem_title\": \"Ecclesiastical Sonnets - Part II. - XXV - The Virgin\", \"author\": \"William Wordsworth\", \"period\": \"18th Century\", \"link\": \"http://public-domain-poetry.com/william-wordsworth/ecclesiastical-sonnets-part-ii-xxv-the-virgin-4400\"}, {\"x\": -0.03507452, \"y\": 0.031346716, \"title\": \", who write in wit, and sense, and **nature**'s spite: till reading, i forget what\", \"tokens\": \", who write in wit , and sense , and nature ' s spite : till reading , i forget what\", \"word\": \"nature\", \"poem_title\": \"A New Simile\", \"author\": \"Oliver Goldsmith\", \"period\": \"18th Century\", \"link\": \"http://public-domain-poetry.com/oliver-goldsmith/new-simile-16849\"}, {\"x\": -0.032438308, \"y\": -0.04716122, \"title\": \"of gold. man may think himself free! thou **art** so, for thou never knowest what is the\", \"tokens\": \"of gold . man may think himself free ! thou art so , for thou never know ##est what is the\", \"word\": \"art\", \"poem_title\": \"The Ideal Of Woman. To Amanda\", \"author\": \"Friedrich Schiller\", \"period\": \"18th Century\", \"link\": \"http://public-domain-poetry.com/friedrich-schiller/ideal-of-woman-to-amanda-30645\"}, {\"x\": -0.03135197, \"y\": -0.04404055, \"title\": \"t, thou always givest wholly; but one **art** thou ever, even thy tenderest sound is thin\", \"tokens\": \"##t , thou always gives ##t wholly ; but one art thou ever , even thy tender ##est sound is thin\", \"word\": \"art\", \"poem_title\": \"The Ideal Of Woman. To Amanda\", \"author\": \"Friedrich Schiller\", \"period\": \"18th Century\", \"link\": \"http://public-domain-poetry.com/friedrich-schiller/ideal-of-woman-to-amanda-30645\"}, {\"x\": -0.02881594, \"y\": 0.010784674, \"title\": \", when eternals spurn'd back his **religion**; and gave him a place in the north,\", \"tokens\": \", when eternal ##s spur ##n ' d back his religion ; and gave him a place in the north ,\", \"word\": \"religion\", \"poem_title\": \"The Book Of Urizen: Preludium\", \"author\": \"William Blake\", \"period\": \"18th Century\", \"link\": \"http://public-domain-poetry.com/william-blake/book-of-urizen-preludium-9272\"}, {\"x\": -0.0316891, \"y\": 0.030904198, \"title\": \"lulled by the sound of pastoral bells, rude **nature**'s pilgrims did we go, from the dread\", \"tokens\": \"lu ##lled by the sound of pastoral bells , rude nature ' s pilgrims did we go , from the dread\", \"word\": \"nature\", \"poem_title\": \"Elegiac Stanzas\", \"author\": \"William Wordsworth\", \"period\": \"18th Century\", \"link\": \"http://public-domain-poetry.com/william-wordsworth/elegiac-stanzas-3855\"}, {\"x\": -0.0315429, \"y\": -0.04283015, \"title\": \"on zurich's shore! o goddard! what **art** thou?--a name--a sun\", \"tokens\": \"on zurich ' s shore ! o goddard ! what art thou ? - - a name - - a sun\", \"word\": \"art\", \"poem_title\": \"Elegiac Stanzas\", \"author\": \"William Wordsworth\", \"period\": \"18th Century\", \"link\": \"http://public-domain-poetry.com/william-wordsworth/elegiac-stanzas-3855\"}, {\"x\": -0.032421257, \"y\": 0.026742855, \"title\": \"na! to the highest! praise the lord. **nature** to him in homage fall; he comes--\", \"tokens\": \"##na ! to the highest ! praise the lord . nature to him in homage fall ; he comes - -\", \"word\": \"nature\", \"poem_title\": \"Hymn for Christmas Day\", \"author\": \"William Hayley\", \"period\": \"18th Century\", \"link\": \"http://public-domain-poetry.com/william-hayley/hymn-for-christmas-day-18226\"}, {\"x\": -0.031855676, \"y\": 0.033498038, \"title\": \"promontories, gleaming bays, a universe of **nature**'s fairest forms proudly revealed with instantaneous\", \"tokens\": \"promo ##nto ##ries , gleaming bays , a universe of nature ' s fair ##est forms proudly revealed with instant ##aneous\", \"word\": \"nature\", \"poem_title\": \"The Prelude - Book Fourth\", \"author\": \"William Wordsworth\", \"period\": \"18th Century\", \"link\": \"http://public-domain-poetry.com/william-wordsworth/prelude-book-fourth-4060\"}, {\"x\": -0.033160225, \"y\": -0.018633965, \"title\": \"awa. thou that of a 'things maker **art**, that form'd this fair sae far\", \"tokens\": \"aw ##a . thou that of a ' things maker art , that form ' d this fair sa ##e far\", \"word\": \"art\", \"poem_title\": \"Sae Far Awa\", \"author\": \"Robert Burns\", \"period\": \"18th Century\", \"link\": \"http://public-domain-poetry.com/robert-burns/sae-far-awa-10283\"}, {\"x\": -0.032058857, \"y\": 0.040110104, \"title\": \"-gordon. iii. wildly here without control, **nature** reigns and rules the whole; in that sober pens\", \"tokens\": \"- gordon . iii . wildly here without control , nature reigns and rules the whole ; in that sober pens\", \"word\": \"nature\", \"poem_title\": \"Streams That Glide In Orient Plains\", \"author\": \"Robert Burns\", \"period\": \"18th Century\", \"link\": \"http://public-domain-poetry.com/robert-burns/streams-that-glide-in-orient-plains-10185\"}, {\"x\": -0.030680457, \"y\": 0.034738794, \"title\": \"yet a higher joy partake: our human-**nature** throws away its second twilight, and looks gay;\", \"tokens\": \"yet a higher joy part ##ake : our human - nature throws away its second twilight , and looks gay ;\", \"word\": \"nature\", \"poem_title\": \"Memorials Of A Tour In Scotland, 1803 XIII. The Matron Of Jedborough And Her Husband\", \"author\": \"William Wordsworth\", \"period\": \"18th Century\", \"link\": \"http://public-domain-poetry.com/william-wordsworth/memorials-of-a-tour-in-scotland-1803-xiii-the-matron-of-jedborough-and-her-husband-4181\"}, {\"x\": -0.033220954, \"y\": 0.032526333, \"title\": \"! at careless ease my limbs are spread; all **nature** still, but yonder rill; and list\", \"tokens\": \"! at careless ease my limbs are spread ; all nature still , but yo ##nder ri ##ll ; and list\", \"word\": \"nature\", \"poem_title\": \"Ocean. An Ode\", \"author\": \"Edward Young\", \"period\": \"18th Century\", \"link\": \"http://public-domain-poetry.com/edward-young/ocean-an-ode-34607\"}, {\"x\": -0.030856553, \"y\": 0.022706559, \"title\": \", as syrens sweet. thro '**nature** wide is nought descried so rich in\", \"tokens\": \", as sy ##ren ##s sweet . th ##ro ' nature wide is no ##ught des ##cr ##ied so rich in\", \"word\": \"nature\", \"poem_title\": \"Ocean. An Ode\", \"author\": \"Edward Young\", \"period\": \"18th Century\", \"link\": \"http://public-domain-poetry.com/edward-young/ocean-an-ode-34607\"}, {\"x\": -0.03266398, \"y\": 0.03371773, \"title\": \"exhort to reverend watching of each still report that **nature** utters from her rural shrine. meek, no\", \"tokens\": \"ex ##hort to reverend watching of each still report that nature utter ##s from her rural shrine . meek , no\", \"word\": \"nature\", \"poem_title\": \"Written Upon A Blank Leaf In \\\"The Complete Angler.\\\"\", \"author\": \"William Wordsworth\", \"period\": \"18th Century\", \"link\": \"http://public-domain-poetry.com/william-wordsworth/written-upon-a-blank-leaf-in-the-complete-angler-4241\"}, {\"x\": -0.030969558, \"y\": -0.021218557, \"title\": \"in the charming wiles of love, betray the artifice of coy retreat; and then the ring\", \"tokens\": \"in the charming wil ##es of love , betray the art ##ifice of co ##y retreat ; and then the ring\", \"word\": \"art\", \"poem_title\": \"Odes From Horace. - To [1]Thaliarchus. Book The First, Ode The Ninth\", \"author\": \"Anna Seward\", \"period\": \"18th Century\", \"link\": \"http://public-domain-poetry.com/anna-seward/odes-from-horace-to-1thaliarchus-book-the-first-ode-the-ninth-31195\"}, {\"x\": -0.032548517, \"y\": 0.03135603, \"title\": \"mourn his fate alone! chorus. all who **nature**'s tribes are swelling homage pay to sympathy;\", \"tokens\": \"mo ##urn his fate alone ! chorus . all who nature ' s tribes are swelling homage pay to sympathy ;\", \"word\": \"nature\", \"poem_title\": \"Hymn To Joy\", \"author\": \"Friedrich Schiller\", \"period\": \"18th Century\", \"link\": \"http://public-domain-poetry.com/friedrich-schiller/hymn-to-joy-30690\"}, {\"x\": -0.03254398, \"y\": 0.032096576, \"title\": \"unknown has his dwelling. from the breasts of kindly **nature** all of joy imbibe the dew; good\", \"tokens\": \"unknown has his dwelling . from the breasts of kindly nature all of joy im ##bib ##e the dew ; good\", \"word\": \"nature\", \"poem_title\": \"Hymn To Joy\", \"author\": \"Friedrich Schiller\", \"period\": \"18th Century\", \"link\": \"http://public-domain-poetry.com/friedrich-schiller/hymn-to-joy-30690\"}, {\"x\": -0.032181226, \"y\": 0.03821304, \"title\": \"yonder is his habitation! joy, in **nature**'s wide dominion, mightiest cause of all\", \"tokens\": \"yo ##nder is his habitat ##ion ! joy , in nature ' s wide dominion , might ##iest cause of all\", \"word\": \"nature\", \"poem_title\": \"Hymn To Joy\", \"author\": \"Friedrich Schiller\", \"period\": \"18th Century\", \"link\": \"http://public-domain-poetry.com/friedrich-schiller/hymn-to-joy-30690\"}, {\"x\": -0.032246042, \"y\": -0.013149744, \"title\": \", fell, push'd by a wild and **artless** race, from off its wide ambitious base,\", \"tokens\": \", fell , push ' d by a wild and art ##less race , from off its wide ambitious base ,\", \"word\": \"art\", \"poem_title\": \"Ode to Liberty\", \"author\": \"William Collins\", \"period\": \"18th Century\", \"link\": \"http://public-domain-poetry.com/william-collins/ode-to-liberty-1608\"}, {\"x\": -0.033198323, \"y\": -0.01464228, \"title\": \"d his soul! for sunny florence, seat of **art**, beneath her vines preserv'd a\", \"tokens\": \"d his soul ! for sunny florence , seat of art , beneath her vines pre ##ser ##v ' d a\", \"word\": \"art\", \"poem_title\": \"Ode to Liberty\", \"author\": \"William Collins\", \"period\": \"18th Century\", \"link\": \"http://public-domain-poetry.com/william-collins/ode-to-liberty-1608\"}, {\"x\": -0.03067539, \"y\": 0.014401744, \"title\": \"v'd a part, till they, whom **science** lov'd to name, ( o who\", \"tokens\": \"##v ' d a part , till they , whom science lo ##v ' d to name , ( o who\", \"word\": \"science\", \"poem_title\": \"Ode to Liberty\", \"author\": \"William Collins\", \"period\": \"18th Century\", \"link\": \"http://public-domain-poetry.com/william-collins/ode-to-liberty-1608\"}, {\"x\": -0.028469367, \"y\": -0.015536577, \"title\": \"of time with all his hours, as the supreme artificer ordained. i thought of thee, my\", \"tokens\": \"of time with all his hours , as the supreme art ##ifice ##r ordained . i thought of thee , my\", \"word\": \"art\", \"poem_title\": \"Flowers On The Top Of The Pillars At The Entrance Of The Cave\", \"author\": \"William Wordsworth\", \"period\": \"18th Century\", \"link\": \"http://public-domain-poetry.com/william-wordsworth/flowers-on-the-top-of-the-pillars-at-the-entrance-of-the-cave-4599\"}, {\"x\": -0.03327315, \"y\": 0.030458007, \"title\": \"tree, shakes off that pearly shower. all **nature** welcomes her whose sway tempers the year '\", \"tokens\": \"tree , shakes off that pearl ##y shower . all nature welcome ##s her whose sway temper ##s the year '\", \"word\": \"nature\", \"poem_title\": \"Ode, Composed On A May Morning\", \"author\": \"William Wordsworth\", \"period\": \"18th Century\", \"link\": \"http://public-domain-poetry.com/william-wordsworth/ode-composed-on-a-may-morning-3860\"}, {\"x\": -0.0305382, \"y\": -0.044471204, \"title\": \"influence, creeping things awake to silent joy: queen **art** thou still for each gay plant where the slim wild\", \"tokens\": \"influence , creeping things awake to silent joy : queen art thou still for each gay plant where the slim wild\", \"word\": \"art\", \"poem_title\": \"Lament XIX. The Dream\", \"author\": \"Jan Kochanowski\", \"period\": \"16th-17th Centuries (Early Modern)\", \"link\": \"http://public-domain-poetry.com/jan-kochanowski/lament-xix-the-dream-21887\"}, {\"x\": -0.03448792, \"y\": 0.033862613, \"title\": \"bosom, and through reason free, master of **nature**, who thy fetters loves, and who thy\", \"tokens\": \"bo ##som , and through reason free , master of nature , who thy fe ##tters loves , and who thy\", \"word\": \"nature\", \"poem_title\": \"The Artists\", \"author\": \"Friedrich Schiller\", \"period\": \"18th Century\", \"link\": \"http://public-domain-poetry.com/friedrich-schiller/artists-30695\"}, {\"x\": -0.033192992, \"y\": -0.02117881, \"title\": \", but thou, o man, alone hast **art**! only through beauty's morning gate didst\", \"tokens\": \", but thou , o man , alone has ##t art ! only through beauty ' s morning gate did ##st\", \"word\": \"art\", \"poem_title\": \"The Artists\", \"author\": \"Friedrich Schiller\", \"period\": \"18th Century\", \"link\": \"http://public-domain-poetry.com/friedrich-schiller/artists-30695\"}, {\"x\": -0.029881094, \"y\": -0.044336803, \"title\": \", and with how wan a face! \\\"where **art** thou? thou so often seen on high running among\", \"tokens\": \", and with how wan a face ! \\\" where art thou ? thou so often seen on high running among\", \"word\": \"art\", \"poem_title\": \"With How Sad Steps, O Moon, Thou Climb'st The Sky\", \"author\": \"William Wordsworth\", \"period\": \"18th Century\", \"link\": \"http://public-domain-poetry.com/william-wordsworth/with-how-sad-steps-o-moon-thou-climbst-the-sky-3795\"}, {\"x\": -0.032858398, \"y\": 0.03113423, \"title\": \"given, queen both for beauty and for majesty. **nature**, what heart may here by thee, most truly\", \"tokens\": \"given , queen both for beauty and for majesty . nature , what heart may here by thee , most truly\", \"word\": \"nature\", \"poem_title\": \"The Eagle\", \"author\": \"William Hayley\", \"period\": \"18th Century\", \"link\": \"http://public-domain-poetry.com/william-hayley/eagle-18232\"}, {\"x\": -0.03486377, \"y\": 0.029753443, \"title\": \", i heard it from a shepherd youth, as **nature**'s self sincere. on scotland's wilde\", \"tokens\": \", i heard it from a shepherd youth , as nature ' s self sincere . on scotland ' s wilde\", \"word\": \"nature\", \"poem_title\": \"The Eagle\", \"author\": \"William Hayley\", \"period\": \"18th Century\", \"link\": \"http://public-domain-poetry.com/william-hayley/eagle-18232\"}, {\"x\": -0.032963656, \"y\": 0.03444442, \"title\": \"o 'er her peaceful vale. the heroine of **nature**, she no vain ambition knew, her bairn\", \"tokens\": \"o ' er her peaceful vale . the heroine of nature , she no vain ambition knew , her bai ##rn\", \"word\": \"nature\", \"poem_title\": \"The Eagle\", \"author\": \"William Hayley\", \"period\": \"18th Century\", \"link\": \"http://public-domain-poetry.com/william-hayley/eagle-18232\"}, {\"x\": -0.03319656, \"y\": 0.036766093, \"title\": \", as the hardy travellers proclaim; but if **nature** has denied us much, art is yet responsive to\", \"tokens\": \", as the hardy travellers pro ##claim ; but if nature has denied us much , art is yet responsive to\", \"word\": \"nature\", \"poem_title\": \"To My Friends\", \"author\": \"Friedrich Schiller\", \"period\": \"18th Century\", \"link\": \"http://public-domain-poetry.com/friedrich-schiller/to-my-friends-30478\"}, {\"x\": -0.034088414, \"y\": -0.0054954346, \"title\": \"claim; but if nature has denied us much, **art** is yet responsive to our touch, and our hearts\", \"tokens\": \"##claim ; but if nature has denied us much , art is yet responsive to our touch , and our hearts\", \"word\": \"art\", \"poem_title\": \"To My Friends\", \"author\": \"Friedrich Schiller\", \"period\": \"18th Century\", \"link\": \"http://public-domain-poetry.com/friedrich-schiller/to-my-friends-30478\"}, {\"x\": -0.032359578, \"y\": -0.017114887, \"title\": \"and depart there are seen the costliest works of **art**, and the earth-god, mammon,\", \"tokens\": \"and depart there are seen the cost ##liest works of art , and the earth - god , ma ##mmon ,\", \"word\": \"art\", \"poem_title\": \"To My Friends\", \"author\": \"Friedrich Schiller\", \"period\": \"18th Century\", \"link\": \"http://public-domain-poetry.com/friedrich-schiller/to-my-friends-30478\"}, {\"x\": -0.030138435, \"y\": 0.013283403, \"title\": \"and truth! which shows thy light, o pure **religion**! shed, like a faint glory, on a\", \"tokens\": \"and truth ! which shows thy light , o pure religion ! shed , like a faint glory , on a\", \"word\": \"religion\", \"poem_title\": \"Written After The Consecration Of The New Church At Kingswood\", \"author\": \"William Lisle Bowles\", \"period\": \"18th Century\", \"link\": \"http://public-domain-poetry.com/william-lisle-bowles/written-after-the-consecration-of-the-new-church-at-kingswood-35431\"}, {\"x\": -0.030602768, \"y\": 0.013018213, \"title\": \"gleam, and young love's broken, sacred **religion**! \\\"mother of form and fear, \\\"dread\", \"tokens\": \"gleam , and young love ' s broken , sacred religion ! \\\" mother of form and fear , \\\" dread\", \"word\": \"religion\", \"poem_title\": \"The River Duddon - A Series Of Sonnets, 1820. - XVIII - Seathwaite Chapel\", \"author\": \"William Wordsworth\", \"period\": \"18th Century\", \"link\": \"http://public-domain-poetry.com/william-wordsworth/river-duddon-a-series-of-sonnets-1820-xviii-seathwaite-chapel-4318\"}, {\"x\": -0.032260194, \"y\": -0.04322732, \"title\": \", how glorious, edom, in thy ships **art** thou, and mighty as the rushing winds! but\", \"tokens\": \", how glorious , edo ##m , in thy ships art thou , and mighty as the rushing winds ! but\", \"word\": \"art\", \"poem_title\": \"The Spirit Of Discovery By Sea: Book The Second\", \"author\": \"William Lisle Bowles\", \"period\": \"18th Century\", \"link\": \"http://public-domain-poetry.com/william-lisle-bowles/spirit-of-discovery-by-sea-book-the-second-9423\"}, {\"x\": -0.030025104, \"y\": -0.042841278, \"title\": \"st the pillow of my breast; good, good **art** thou: alas! to me far more than\", \"tokens\": \"st the pillow of my breast ; good , good art thou : ala ##s ! to me far more than\", \"word\": \"art\", \"poem_title\": \"The Emigrant Mother\", \"author\": \"William Wordsworth\", \"period\": \"18th Century\", \"link\": \"http://public-domain-poetry.com/william-wordsworth/emigrant-mother-4039\"}, {\"x\": -0.030975852, \"y\": -0.048716255, \"title\": \"thou be, thou hast no fears; mine **art** thou, spite of these my tears. alas\", \"tokens\": \"thou be , thou has ##t no fears ; mine art thou , spite of these my tears . ala ##s\", \"word\": \"art\", \"poem_title\": \"The Emigrant Mother\", \"author\": \"William Wordsworth\", \"period\": \"18th Century\", \"link\": \"http://public-domain-poetry.com/william-wordsworth/emigrant-mother-4039\"}, {\"x\": -0.03292148, \"y\": 0.035713553, \"title\": \"& c. nothing constant and certain but god and **nature**, ver. 95. no judging of the\", \"tokens\": \"& c . nothing constant and certain but god and nature , ve ##r . 95 . no judging of the\", \"word\": \"nature\", \"poem_title\": \"Moral Essays. Epistle I.--To Sir Richard Temple, Lord Cobham\", \"author\": \"Alexander Pope\", \"period\": \"18th Century\", \"link\": \"http://public-domain-poetry.com/alexander-pope/moral-essays-epistle-i-to-sir-richard-temple-lord-cobham-28824\"}, {\"x\": -0.03180239, \"y\": 0.03664689, \"title\": \"them agree: the utter uncertainty of this, from **nature** itself, and from policy, ver. 120\", \"tokens\": \"them agree : the utter uncertainty of this , from nature itself , and from policy , ve ##r . 120\", \"word\": \"nature\", \"poem_title\": \"Moral Essays. Epistle I.--To Sir Richard Temple, Lord Cobham\", \"author\": \"Alexander Pope\", \"period\": \"18th Century\", \"link\": \"http://public-domain-poetry.com/alexander-pope/moral-essays-epistle-i-to-sir-richard-temple-lord-cobham-28824\"}, {\"x\": -0.029506424, \"y\": 0.034845836, \"title\": \", ver. 140. education alters the **nature**, or at least character of many, ver\", \"tokens\": \", ve ##r . 140 . education alter ##s the nature , or at least character of many , ve ##r\", \"word\": \"nature\", \"poem_title\": \"Moral Essays. Epistle I.--To Sir Richard Temple, Lord Cobham\", \"author\": \"Alexander Pope\", \"period\": \"18th Century\", \"link\": \"http://public-domain-poetry.com/alexander-pope/moral-essays-epistle-i-to-sir-richard-temple-lord-cobham-28824\"}, {\"x\": -0.031773914, \"y\": 0.036260054, \"title\": \"principles, all subject to change. no judging by **nature**, from ver. 158 to 174. iii\", \"tokens\": \"principles , all subject to change . no judging by nature , from ve ##r . 158 to 174 . iii\", \"word\": \"nature\", \"poem_title\": \"Moral Essays. Epistle I.--To Sir Richard Temple, Lord Cobham\", \"author\": \"Alexander Pope\", \"period\": \"18th Century\", \"link\": \"http://public-domain-poetry.com/alexander-pope/moral-essays-epistle-i-to-sir-richard-temple-lord-cobham-28824\"}, {\"x\": -0.032983508, \"y\": 0.026074348, \"title\": \"what balm had been supplied? but where great **nature** smiles, as here she smiles, 'mid ve\", \"tokens\": \"what bal ##m had been supplied ? but where great nature smiles , as here she smiles , ' mid ve\", \"word\": \"nature\", \"poem_title\": \"Sonnet XV. Written On Rising Ground Near Lichfield\", \"author\": \"Anna Seward\", \"period\": \"18th Century\", \"link\": \"http://public-domain-poetry.com/anna-seward/sonnet-xv-written-on-rising-ground-near-lichfield-31105\"}, {\"x\": -0.031510763, \"y\": -0.046976313, \"title\": \"which he had devised entire forgiveness! but if thou **art** one on fire with thy impatience to become an inmate\", \"tokens\": \"which he had devised entire forgiveness ! but if thou art one on fire with thy impatience to become an inmate\", \"word\": \"art\", \"poem_title\": \"Inscriptions Written With A Slate Pencil Upon A Stone, The Largest Of A Heap Lying Near A Deserted Quarry, Upon One Of The Islands At Rydal\", \"author\": \"William Wordsworth\", \"period\": \"18th Century\", \"link\": \"http://public-domain-poetry.com/william-wordsworth/inscriptions-written-with-a-slate-pencil-upon-a-stone-the-largest-of-a-heap-lying-near-a-deserted-q-4162\"}, {\"x\": -0.03372685, \"y\": 0.03528359, \"title\": \"less regard accompanied those strains of apt discourse, which **nature**'s various objects might inspire; and in the\", \"tokens\": \"less regard accompanied those strains of apt discourse , which nature ' s various objects might inspire ; and in the\", \"word\": \"nature\", \"poem_title\": \"The Excursion - Book Second - The Solitary\", \"author\": \"William Wordsworth\", \"period\": \"18th Century\", \"link\": \"http://public-domain-poetry.com/william-wordsworth/excursion-book-second-the-solitary-4210\"}, {\"x\": -0.027514754, \"y\": 0.014403109, \"title\": \"ever again to the godlike way, to the **science** of good though the wise may be blind, yet\", \"tokens\": \"ever again to the god ##like way , to the science of good though the wise may be blind , yet\", \"word\": \"science\", \"poem_title\": \"The Words Of Belief\", \"author\": \"Friedrich Schiller\", \"period\": \"18th Century\", \"link\": \"http://public-domain-poetry.com/friedrich-schiller/words-of-belief-30544\"}, {\"x\": -0.033639867, \"y\": 0.02322989, \"title\": \"light as endless may on infant bosoms lonely **nature** lies. departing summer hath assumed an aspect tenderly\", \"tokens\": \"light as endless may on infant bo ##som ##s lonely nature lies . departing summer hat ##h assumed an aspect tenderly\", \"word\": \"nature\", \"poem_title\": null, \"author\": null, \"period\": null, \"link\": null}, {\"x\": -0.033477295, \"y\": 0.038205612, \"title\": \"while all-too-daringly the veil of **nature** was withdrawn! nor such the spirit-stirring note\", \"tokens\": \"while all - too - daring ##ly the veil of nature was withdrawn ! nor such the spirit - stirring note\", \"word\": \"nature\", \"poem_title\": \"September, 1819\", \"author\": \"William Wordsworth\", \"period\": \"18th Century\", \"link\": \"http://public-domain-poetry.com/william-wordsworth/september-1819-4009\"}, {\"x\": -0.033737645, \"y\": 0.027221221, \"title\": \"v 'rock sang on hillock green, but **nature** sicken'd on the e 'e.\", \"tokens\": \"##v ' rock sang on hill ##ock green , but nature sick ##en ' d on the e ' e .\", \"word\": \"nature\", \"poem_title\": \"Prologue To \\\"Troilus And Cressida.\\\"\", \"author\": \"John Dryden\", \"period\": \"16th-17th Centuries (Early Modern)\", \"link\": \"http://public-domain-poetry.com/john-dryden/prologue-to-troilus-and-cressida-14694\"}, {\"x\": -0.033233397, \"y\": 0.029200781, \"title\": \"is given thee till the break of day. '**nature** in charms is exhaustless, in beauty ever rev\", \"tokens\": \"is given thee till the break of day . ' nature in charms is exhaust ##less , in beauty ever rev\", \"word\": \"nature\", \"poem_title\": \"Verses Written In The Album Of A Friend. (Herr Von Mecheln Of Basle.)\", \"author\": \"Friedrich Schiller\", \"period\": \"18th Century\", \"link\": \"http://public-domain-poetry.com/friedrich-schiller/verses-written-in-the-album-of-a-friend-herr-von-mecheln-of-basle-30638\"}, {\"x\": -0.03413962, \"y\": 0.029333463, \"title\": \", in beauty ever reviving; and, like **nature**, fair art is inexhaustible too\", \"tokens\": \", in beauty ever rev ##iving ; and , like nature , fair art is in ##ex ##haus ##ti ##ble too\", \"word\": \"nature\", \"poem_title\": \"Verses Written In The Album Of A Friend. (Herr Von Mecheln Of Basle.)\", \"author\": \"Friedrich Schiller\", \"period\": \"18th Century\", \"link\": \"http://public-domain-poetry.com/friedrich-schiller/verses-written-in-the-album-of-a-friend-herr-von-mecheln-of-basle-30638\"}, {\"x\": -0.03472958, \"y\": -0.011498728, \"title\": \"ever reviving; and, like nature, fair **art** is inexhaustible too. hail,\", \"tokens\": \"ever rev ##iving ; and , like nature , fair art is in ##ex ##haus ##ti ##ble too . hail ,\", \"word\": \"art\", \"poem_title\": \"Verses Written In The Album Of A Friend. (Herr Von Mecheln Of Basle.)\", \"author\": \"Friedrich Schiller\", \"period\": \"18th Century\", \"link\": \"http://public-domain-poetry.com/friedrich-schiller/verses-written-in-the-album-of-a-friend-herr-von-mecheln-of-basle-30638\"}, {\"x\": -0.03155988, \"y\": 0.030158497, \"title\": \"lulled by the sound of pastoral bells, rude **nature**'s pilgrims did we go, from the dread\", \"tokens\": \"lu ##lled by the sound of pastoral bells , rude nature ' s pilgrims did we go , from the dread\", \"word\": \"nature\", \"poem_title\": \"Elegiac Stanzas\", \"author\": \"William Wordsworth\", \"period\": \"18th Century\", \"link\": \"http://public-domain-poetry.com/william-wordsworth/elegiac-stanzas-3855\"}, {\"x\": -0.031454258, \"y\": -0.043188475, \"title\": \"on zurich's shore! o goddard! what **art** thou? a name a sunbeam followed by a\", \"tokens\": \"on zurich ' s shore ! o goddard ! what art thou ? a name a sun ##beam followed by a\", \"word\": \"art\", \"poem_title\": \"Memorials Of A Tour On The Continent, 1820 - XXXII. - Elegiac Stanzas\", \"author\": \"William Wordsworth\", \"period\": \"18th Century\", \"link\": \"http://public-domain-poetry.com/william-wordsworth/memorials-of-a-tour-on-the-continent-1820-xxxii-elegiac-stanzas-4294\"}, {\"x\": -0.034171145, \"y\": 0.031861246, \"title\": \"thoughts to the mind. to her fair works did **nature** link the human soul that through me ran; and\", \"tokens\": \"thoughts to the mind . to her fair works did nature link the human soul that through me ran ; and\", \"word\": \"nature\", \"poem_title\": \"Lines Written In Early Spring\", \"author\": \"William Wordsworth\", \"period\": \"18th Century\", \"link\": \"http://public-domain-poetry.com/william-wordsworth/lines-written-in-early-spring-3814\"}, {\"x\": -0.03233886, \"y\": 0.037531864, \"title\": \"this belief from heaven be sent, if such be **nature**'s holy plan, have i not reason to\", \"tokens\": \"this belief from heaven be sent , if such be nature ' s holy plan , have i not reason to\", \"word\": \"nature\", \"poem_title\": \"Lines Written In Early Spring\", \"author\": \"William Wordsworth\", \"period\": \"18th Century\", \"link\": \"http://public-domain-poetry.com/william-wordsworth/lines-written-in-early-spring-3814\"}, {\"x\": -0.03350134, \"y\": 0.038656075, \"title\": \"your lives, in joy and bliss begun, in **nature**'s love unchanged remain. with hues of\", \"tokens\": \"your lives , in joy and bliss begun , in nature ' s love unchanged remain . with hue ##s of\", \"word\": \"nature\", \"poem_title\": \"The Flowers\", \"author\": \"Friedrich Schiller\", \"period\": \"18th Century\", \"link\": \"http://public-domain-poetry.com/friedrich-schiller/flowers-30717\"}, {\"x\": -0.03227238, \"y\": -0.02009744, \"title\": \"and low thou lies! such is the fate of **artless** maid, sweet flow 'ret of the\", \"tokens\": \"and low thou lies ! such is the fate of art ##less maid , sweet flow ' re ##t of the\", \"word\": \"art\", \"poem_title\": \"To A Mountain Daisy, On Turning One Down With The Plough In April, 1786\", \"author\": \"Robert Burns\", \"period\": \"18th Century\", \"link\": \"http://public-domain-poetry.com/robert-burns/to-a-mountain-daisy-on-turning-one-down-with-the-plough-in-april-1786-9935\"}, {\"x\": -0.030484488, \"y\": -0.045315705, \"title\": \"have i not lived, have i not loved? **art** thou for the nightingales inquiring who entrance\", \"tokens\": \"have i not lived , have i not loved ? art thou for the nightingale ##s in ##qui ##ring who entrance\", \"word\": \"art\", \"poem_title\": \"From England's Helicon\", \"author\": \"Michael Drayton\", \"period\": \"16th-17th Centuries (Early Modern)\", \"link\": \"http://public-domain-poetry.com/michael-drayton/from-englands-helicon-14591\"}, {\"x\": -0.027715243, \"y\": 0.026708119, \"title\": \"man, \\\"i saw what well might baser **natures** awe; but shall a monarch, like to\", \"tokens\": \"man , \\\" i saw what well might base ##r nature ##s awe ; but shall a monarch , like to\", \"word\": \"nature\", \"poem_title\": \"Lion, Tiger, And Traveller\", \"author\": \"John Gay\", \"period\": \"18th Century\", \"link\": \"http://public-domain-poetry.com/john-gay/lion-tiger-and-traveller-34753\"}, {\"x\": -0.034049757, \"y\": 0.033634998, \"title\": \"freed from rules constrained and wrong, on truth and **nature** once again we 're placed, who, in\", \"tokens\": \"freed from rules constrained and wrong , on truth and nature once again we ' re placed , who , in\", \"word\": \"nature\", \"poem_title\": \"To Goethe, On His Producing Voltaire's \\\"Mahomet\\\" On The Stage\", \"author\": \"Friedrich Schiller\", \"period\": \"18th Century\", \"link\": \"http://public-domain-poetry.com/friedrich-schiller/to-goeon-his-producing-voltaires-mahomet-on-the-stage-30634\"}, {\"x\": -0.03156986, \"y\": 0.016994849, \"title\": \"round our genius laced, thou whom the godlike **science** has so long with her unsullied sacred\", \"tokens\": \"round our genius laced , thou whom the god ##like science has so long with her un ##sul ##lie ##d sacred\", \"word\": \"science\", \"poem_title\": \"To Goethe, On His Producing Voltaire's \\\"Mahomet\\\" On The Stage\", \"author\": \"Friedrich Schiller\", \"period\": \"18th Century\", \"link\": \"http://public-domain-poetry.com/friedrich-schiller/to-goeon-his-producing-voltaires-mahomet-on-the-stage-30634\"}, {\"x\": -0.032213353, \"y\": -0.013450663, \"title\": \"we no longer prize? this theatre belongs to native **art**, no foreign idols worshipped here are seen; a\", \"tokens\": \"we no longer prize ? this theatre belongs to native art , no foreign idols worshipped here are seen ; a\", \"word\": \"art\", \"poem_title\": \"To Goethe, On His Producing Voltaire's \\\"Mahomet\\\" On The Stage\", \"author\": \"Friedrich Schiller\", \"period\": \"18th Century\", \"link\": \"http://public-domain-poetry.com/friedrich-schiller/to-goeon-his-producing-voltaires-mahomet-on-the-stage-30634\"}, {\"x\": -0.03449268, \"y\": -0.014601403, \"title\": \", where spurious greatness lifts its head, **art** has no power the noble there to mould,\", \"tokens\": \", where spur ##ious great ##ness lifts its head , art has no power the noble there to mo ##uld ,\", \"word\": \"art\", \"poem_title\": \"To Goethe, On His Producing Voltaire's \\\"Mahomet\\\" On The Stage\", \"author\": \"Friedrich Schiller\", \"period\": \"18th Century\", \"link\": \"http://public-domain-poetry.com/friedrich-schiller/to-goeon-his-producing-voltaires-mahomet-on-the-stage-30634\"}, {\"x\": -0.032864496, \"y\": 0.029551242, \"title\": \"pompous words no longer is our pride, **nature** we love when she her form reveals; fashion '\", \"tokens\": \"po ##mp ##ous words no longer is our pride , nature we love when she her form reveals ; fashion '\", \"word\": \"nature\", \"poem_title\": \"To Goethe, On His Producing Voltaire's \\\"Mahomet\\\" On The Stage\", \"author\": \"Friedrich Schiller\", \"period\": \"18th Century\", \"link\": \"http://public-domain-poetry.com/friedrich-schiller/to-goeon-his-producing-voltaires-mahomet-on-the-stage-30634\"}, {\"x\": -0.033802155, \"y\": 0.03030808, \"title\": \". appearance ne 'er can reach reality, if **nature** be victorious, art must fly. for on the\", \"tokens\": \". appearance ne ' er can reach reality , if nature be victorious , art must fly . for on the\", \"word\": \"nature\", \"poem_title\": \"To Goethe, On His Producing Voltaire's \\\"Mahomet\\\" On The Stage\", \"author\": \"Friedrich Schiller\", \"period\": \"18th Century\", \"link\": \"http://public-domain-poetry.com/friedrich-schiller/to-goeon-his-producing-voltaires-mahomet-on-the-stage-30634\"}, {\"x\": -0.03407173, \"y\": -0.01248132, \"title\": \"er can reach reality, if nature be victorious, **art** must fly. for on the stage's boarded\", \"tokens\": \"er can reach reality , if nature be victorious , art must fly . for on the stage ' s boarded\", \"word\": \"art\", \"poem_title\": \"To Goethe, On His Producing Voltaire's \\\"Mahomet\\\" On The Stage\", \"author\": \"Friedrich Schiller\", \"period\": \"18th Century\", \"link\": \"http://public-domain-poetry.com/friedrich-schiller/to-goeon-his-producing-voltaires-mahomet-on-the-stage-30634\"}, {\"x\": -0.033366397, \"y\": -0.012450998, \"title\": \"there saw, impaved with rude fidelity of **art** mosaic, in a roofless floor, an eagle\", \"tokens\": \"there saw , imp ##ave ##d with rude fidelity of art mosaic , in a roof ##less floor , an eagle\", \"word\": \"art\", \"poem_title\": \"On Revisiting Dunolly Castle\", \"author\": \"William Wordsworth\", \"period\": \"18th Century\", \"link\": \"http://public-domain-poetry.com/william-wordsworth/on-revisiting-dunolly-castle-4593\"}, {\"x\": -0.034085322, \"y\": 0.030132111, \"title\": \", if thou appear untouched by solemn thought, thy **nature** is not therefore less divine: thou liest in\", \"tokens\": \", if thou appear untouched by solemn thought , thy nature is not therefore less divine : thou lies ##t in\", \"word\": \"nature\", \"poem_title\": \"It Is A Beauteous Evening\", \"author\": \"William Wordsworth\", \"period\": \"18th Century\", \"link\": \"http://public-domain-poetry.com/william-wordsworth/it-is-a-beauteous-evening-3973\"}, {\"x\": -0.02901654, \"y\": 0.019792592, \"title\": \"of thy quiet rule, shall fancy, friendship, **science**, smiling peace, thy gentlest influence own,\", \"tokens\": \"of thy quiet rule , shall fancy , friendship , science , smiling peace , thy gentle ##st influence own ,\", \"word\": \"science\", \"poem_title\": \"Ode To Evening\", \"author\": \"William Collins\", \"period\": \"18th Century\", \"link\": \"http://public-domain-poetry.com/william-collins/ode-to-evening-1605\"}, {\"x\": -0.029502075, \"y\": 0.013497764, \"title\": \"the cat said, \\\"a sister spare, your **science** is our mutual care. \\\"\\\"**science** and cats\", \"tokens\": \"the cat said , \\\" a sister spare , your science is our mutual care . \\\" \\\" science and cats\", \"word\": \"science\", \"poem_title\": \"The Ratcatcher And Cats\", \"author\": \"John Gay\", \"period\": \"18th Century\", \"link\": \"http://public-domain-poetry.com/john-gay/ratcatcher-and-cats-34773\"}, {\"x\": -0.027374553, \"y\": 0.01604593, \"title\": \", your **science** is our mutual care. \\\"\\\"**science** and cats! \\\"the man replied; \\\"we\", \"tokens\": \", your science is our mutual care . \\\" \\\" science and cats ! \\\" the man replied ; \\\" we\", \"word\": \"science\", \"poem_title\": \"The Ratcatcher And Cats\", \"author\": \"John Gay\", \"period\": \"18th Century\", \"link\": \"http://public-domain-poetry.com/john-gay/ratcatcher-and-cats-34773\"}, {\"x\": -0.030573413, \"y\": -0.038820677, \"title\": \", grape, or scrip may fare. why **art** thou silent! is thy love a plant of such\", \"tokens\": \", grape , or sc ##rip may fare . why art thou silent ! is thy love a plant of such\", \"word\": \"art\", \"poem_title\": \"Sonnets - IV. - Why Art Thou Silent! Is Thy Love A Plant\", \"author\": \"William Wordsworth\", \"period\": \"18th Century\", \"link\": \"http://public-domain-poetry.com/william-wordsworth/sonnets-iv-why-art-thou-silent-is-thy-love-a-plant-4639\"}, {\"x\": -0.033124797, \"y\": -0.012747282, \"title\": \"weal, or fancy, disciplined by studious **art**, informed his pen, or wisdom of the heart\", \"tokens\": \"we ##al , or fancy , disciplined by studio ##us art , informed his pen , or wisdom of the heart\", \"word\": \"art\", \"poem_title\": \"Inscription For A Monument In Crosthwaite Church, In The Vale Of Keswick\", \"author\": \"William Wordsworth\", \"period\": \"18th Century\", \"link\": \"http://public-domain-poetry.com/william-wordsworth/inscription-for-a-monument-in-crosthwaite-church-in-the-vale-of-keswick-4735\"}, {\"x\": -0.031200515, \"y\": 0.013731219, \"title\": \", and teach philosophy a smile 'wit flashing on **religion**'s side, whose fires, to sacred truth\", \"tokens\": \", and teach philosophy a smile ' wit flashing on religion ' s side , whose fires , to sacred truth\", \"word\": \"religion\", \"poem_title\": \"On Mrs. Montague's Feather-Hangings\", \"author\": \"William Cowper\", \"period\": \"18th Century\", \"link\": \"http://public-domain-poetry.com/william-cowper/on-mrs-montagues-feather-hangings-13090\"}, {\"x\": -0.03390078, \"y\": 0.034094833, \"title\": \"and bowers of holly; where passion caught what **nature** taught, that all but love is folly; where\", \"tokens\": \"and bow ##ers of holly ; where passion caught what nature taught , that all but love is folly ; where\", \"word\": \"nature\", \"poem_title\": \"The Somnambulist\", \"author\": \"William Wordsworth\", \"period\": \"18th Century\", \"link\": \"http://public-domain-poetry.com/william-wordsworth/somnambulist-4615\"}, {\"x\": -0.032101586, \"y\": 0.033099324, \"title\": \"; a creature not too bright or good for human **nature**'s daily food; for transient sorrows,\", \"tokens\": \"; a creature not too bright or good for human nature ' s daily food ; for transient sorrow ##s ,\", \"word\": \"nature\", \"poem_title\": \"She Was A Phantom Of Delight\", \"author\": \"William Wordsworth\", \"period\": \"18th Century\", \"link\": \"http://public-domain-poetry.com/william-wordsworth/she-was-a-phantom-of-delight-3800\"}, {\"x\": -0.03365631, \"y\": 0.032629926, \"title\": \"in fostering showers; while ilka thing in **nature** join their sorrows to forego, o why\", \"tokens\": \"in foster ##ing showers ; while il ##ka thing in nature join their sorrow ##s to fore ##go , o why\", \"word\": \"nature\", \"poem_title\": \"Now Spring Has Clad The Grove In Green. To Mr. Cunningham\", \"author\": \"Robert Burns\", \"period\": \"18th Century\", \"link\": \"http://public-domain-poetry.com/robert-burns/now-spring-has-clad-the-grove-in-green-to-mr-cunningham-10380\"}, {\"x\": -0.03258793, \"y\": -0.014136132, \"title\": \"the shady thorn defies the angler's **art**: my life was ance that careless stream,\", \"tokens\": \"the shady thorn def ##ies the angle ##r ' s art : my life was an ##ce that careless stream ,\", \"word\": \"art\", \"poem_title\": \"Now Spring Has Clad The Grove In Green. To Mr. Cunningham\", \"author\": \"Robert Burns\", \"period\": \"18th Century\", \"link\": \"http://public-domain-poetry.com/robert-burns/now-spring-has-clad-the-grove-in-green-to-mr-cunningham-10380\"}, {\"x\": -0.032658372, \"y\": 0.03256658, \"title\": \"ric's burning zone, wi 'man and **nature** leagu'd my foes, so peggy\", \"tokens\": \"##ric ' s burning zone , wi ' man and nature lea ##gu ' d my foe ##s , so peggy\", \"word\": \"nature\", \"poem_title\": \"Now Spring Has Clad The Grove In Green. To Mr. Cunningham\", \"author\": \"Robert Burns\", \"period\": \"18th Century\", \"link\": \"http://public-domain-poetry.com/robert-burns/now-spring-has-clad-the-grove-in-green-to-mr-cunningham-10380\"}, {\"x\": -0.03443023, \"y\": 0.031896327, \"title\": \"by those fierce britons, pleased to see in **nature**'s face the expression of repose, or\", \"tokens\": \"by those fierce brit ##ons , pleased to see in nature ' s face the expression of rep ##ose , or\", \"word\": \"nature\", \"poem_title\": \"To Lady Eleanor Butler And The Honourable Miss Ponsonby\", \"author\": \"William Wordsworth\", \"period\": \"18th Century\", \"link\": \"http://public-domain-poetry.com/william-wordsworth/to-lady-eleanor-butler-and-the-honourable-miss-ponsonby-4107\"}, {\"x\": -0.033247203, \"y\": 0.029923037, \"title\": \"; they were his dwellings night and day, but **nature** ne 'er could find the way into the heart\", \"tokens\": \"; they were his dwellings night and day , but nature ne ' er could find the way into the heart\", \"word\": \"nature\", \"poem_title\": \"Peter Bell - A Tale (Part First)\", \"author\": \"William Wordsworth\", \"period\": \"18th Century\", \"link\": \"http://public-domain-poetry.com/william-wordsworth/peter-bell-a-tale-part-first-4155\"}, {\"x\": -0.033599243, \"y\": 0.03539715, \"title\": \"in vain, through every changeful year, did **nature** lead him as before; a primrose by\", \"tokens\": \"in vain , through every change ##ful year , did nature lead him as before ; a pri ##m ##rose by\", \"word\": \"nature\", \"poem_title\": \"Peter Bell - A Tale (Part First)\", \"author\": \"William Wordsworth\", \"period\": \"18th Century\", \"link\": \"http://public-domain-poetry.com/william-wordsworth/peter-bell-a-tale-part-first-4155\"}, {\"x\": -0.033360384, \"y\": 0.030429859, \"title\": \"a mirror that gives back the hues of living **nature**; no, though free to choose the greenest\", \"tokens\": \"a mirror that gives back the hue ##s of living nature ; no , though free to choose the greene ##st\", \"word\": \"nature\", \"poem_title\": \"Memorials Of A Tour On The Continent, 1820 - Dedication\", \"author\": \"William Wordsworth\", \"period\": \"18th Century\", \"link\": \"http://public-domain-poetry.com/william-wordsworth/memorials-of-a-tour-on-the-continent-1820-dedication-4261\"}, {\"x\": -0.029373093, \"y\": 0.017556448, \"title\": \"vies in soft allurement; and each **science** calls to philosophic domes, harmonious halls\", \"tokens\": \"vie ##s in soft all ##ure ##ment ; and each science calls to phil ##oso ##phic domes , harmon ##ious halls\", \"word\": \"science\", \"poem_title\": \"Sonnet LXXVIII\", \"author\": \"Anna Seward\", \"period\": \"18th Century\", \"link\": \"http://public-domain-poetry.com/anna-seward/sonnet-lxxviii-31168\"}, {\"x\": -0.032278825, \"y\": -0.04142095, \"title\": \", good, amiable, or sweet! how **art** thou lost!------milton\", \"tokens\": \", good , ami ##able , or sweet ! how art thou lost ! - - - - - - milton\", \"word\": \"art\", \"poem_title\": \"Love Of Fame, The Universal Passion. Satire V\", \"author\": \"Edward Young\", \"period\": \"18th Century\", \"link\": \"http://public-domain-poetry.com/edward-young/love-of-fame-the-universal-passion-satire-v-34603\"}, {\"x\": -0.035211, \"y\": 0.03332307, \"title\": \"red ties? common friend to you and me, **nature**'s gifts to all are free: peaceful keep\", \"tokens\": \"##red ties ? common friend to you and me , nature ' s gifts to all are free : peaceful keep\", \"word\": \"nature\", \"poem_title\": \"On Scaring Some Water-Fowl In Loch-Turit\", \"author\": \"Robert Burns\", \"period\": \"18th Century\", \"link\": \"http://public-domain-poetry.com/robert-burns/on-scaring-some-water-fowl-in-loch-turit-9974\"}, {\"x\": -0.033950634, \"y\": 0.0313557, \"title\": \"far from human haunts and ways; all on **nature** you depend, and life's poor season peaceful\", \"tokens\": \"far from human haunt ##s and ways ; all on nature you depend , and life ' s poor season peaceful\", \"word\": \"nature\", \"poem_title\": \"On Scaring Some Water-Fowl In Loch-Turit\", \"author\": \"Robert Burns\", \"period\": \"18th Century\", \"link\": \"http://public-domain-poetry.com/robert-burns/on-scaring-some-water-fowl-in-loch-turit-9974\"}, {\"x\": -0.033598408, \"y\": -0.014611223, \"title\": \"st, where? in the poet's sweet **art**! tune-\\\"the northern lass. \\\"though\", \"tokens\": \"st , where ? in the poet ' s sweet art ! tune - \\\" the northern lass . \\\" though\", \"word\": \"art\", \"poem_title\": \"My Jean!\", \"author\": \"Robert Burns\", \"period\": \"18th Century\", \"link\": \"http://public-domain-poetry.com/robert-burns/my-jean-10141\"}, {\"x\": -0.031387188, \"y\": 0.025476074, \"title\": \", invoking a vindictive ban from outraged **nature**; but the sense of most in abject sympathy\", \"tokens\": \", in ##voking a vin ##dict ##ive ban from outraged nature ; but the sense of most in ab ##ject sympathy\", \"word\": \"nature\", \"poem_title\": \"Ecclesiastical Sonnets - Part I. - XXXVIII - Scene In Venice\", \"author\": \"William Wordsworth\", \"period\": \"18th Century\", \"link\": \"http://public-domain-poetry.com/william-wordsworth/ecclesiastical-sonnets-part-i-xxxviii-scene-in-venice-4374\"}, {\"x\": -0.03074333, \"y\": -0.01602462, \"title\": \"thrown aside, laud, \\\"in the painful **art** of dying \\\"tried, ( like a poor bird\", \"tokens\": \"thrown aside , lau ##d , \\\" in the painful art of dying \\\" tried , ( like a poor bird\", \"word\": \"art\", \"poem_title\": \"Ecclesiastical Sonnets - Part II. - XLV - Laud\", \"author\": \"William Wordsworth\", \"period\": \"18th Century\", \"link\": \"http://public-domain-poetry.com/william-wordsworth/ecclesiastical-sonnets-part-ii-xlv-laud-4420\"}, {\"x\": -0.031172656, \"y\": -0.019008266, \"title\": \"borough; you'd think, so far his **art** transcended, old nick upon his fingers tended\", \"tokens\": \"borough ; you ' d think , so far his art trans ##cend ##ed , old nick upon his fingers tended\", \"word\": \"art\", \"poem_title\": \"Juggler And Vice\", \"author\": \"John Gay\", \"period\": \"18th Century\", \"link\": \"http://public-domain-poetry.com/john-gay/juggler-and-vice-34794\"}, {\"x\": -0.03073356, \"y\": -0.019959882, \"title\": \"though with grief at heart, in recognition of her **art**, said: \\\"now and then i cheat the\", \"tokens\": \"though with grief at heart , in recognition of her art , said : \\\" now and then i cheat the\", \"word\": \"art\", \"poem_title\": \"Juggler And Vice\", \"author\": \"John Gay\", \"period\": \"18th Century\", \"link\": \"http://public-domain-poetry.com/john-gay/juggler-and-vice-34794\"}, {\"x\": -0.031358667, \"y\": 0.016212888, \"title\": \"imagination's power, with knowledge, and with **science** in her train, not unpropitious h\", \"tokens\": \"imagination ' s power , with knowledge , and with science in her train , not un ##pro ##pit ##ious h\", \"word\": \"science\", \"poem_title\": \"Sonnet XXXIX. Winter Evening\", \"author\": \"Anna Seward\", \"period\": \"18th Century\", \"link\": \"http://public-domain-poetry.com/anna-seward/sonnet-xxxix-winter-evening-31129\"}, {\"x\": -0.033288904, \"y\": 0.024140421, \"title\": \"fill'd, and from his tongue, by **nature** taught, strange notes of sorrow thrill'd.\", \"tokens\": \"fill ' d , and from his tongue , by nature taught , strange notes of sorrow thrill ' d .\", \"word\": \"nature\", \"poem_title\": \"The Hermit's Dog\", \"author\": \"William Hayley\", \"period\": \"18th Century\", \"link\": \"http://public-domain-poetry.com/william-hayley/hermits-dog-18240\"}, {\"x\": -0.034130126, \"y\": 0.029472109, \"title\": \"wisdom's throne dedicate each thoughtful hour: **nature** bids a softer power claim some minutes for his own\", \"tokens\": \"wisdom ' s throne de ##dicate each thoughtful hour : nature bids a softer power claim some minutes for his own\", \"word\": \"nature\", \"poem_title\": \"Ode IX(II); At Study\", \"author\": \"Mark Akenside\", \"period\": \"18th Century\", \"link\": \"http://public-domain-poetry.com/mark-akenside/ode-ixii-at-study-3684\"}, {\"x\": -0.032434244, \"y\": -0.039303284, \"title\": \"mutely to orcus'dark shades. mighty **art** thou, because of the peaceful charms of thy presence\", \"tokens\": \"mute ##ly to or ##cus ' dark shades . mighty art thou , because of the peaceful charms of thy presence\", \"word\": \"art\", \"poem_title\": \"The Power Of Woman\", \"author\": \"Friedrich Schiller\", \"period\": \"18th Century\", \"link\": \"http://public-domain-poetry.com/friedrich-schiller/power-of-woman-30546\"}, {\"x\": -0.030716604, \"y\": -0.020817846, \"title\": \"plex'd labring & utter'd words articulate, bursting in thunders that roll'd\", \"tokens\": \"##plex ' d lab ##ring & utter ' d words art ##iculate , bursting in thunder ##s that roll ' d\", \"word\": \"art\", \"poem_title\": \"The Book Of Urizen: Chapter II\", \"author\": \"William Blake\", \"period\": \"18th Century\", \"link\": \"http://public-domain-poetry.com/william-blake/book-of-urizen-chapter-ii-9264\"}, {\"x\": -0.025663318, \"y\": 0.032971267, \"title\": \", wild dark & deep, where nothing was: **natures** wide womb and self balanc'd stretch\", \"tokens\": \", wild dark & deep , where nothing was : nature ##s wide womb and self bala ##nc ' d stretch\", \"word\": \"nature\", \"poem_title\": \"The Book Of Urizen: Chapter II\", \"author\": \"William Blake\", \"period\": \"18th Century\", \"link\": \"http://public-domain-poetry.com/william-blake/book-of-urizen-chapter-ii-9264\"}, {\"x\": -0.03363419, \"y\": -0.032729637, \"title\": \"lowly heart him whose wondrous work thou **art**; keep his goodness still in view, thy trust\", \"tokens\": \"low ##ly heart him whose won ##dro ##us work thou art ; keep his goodness still in view , thy trust\", \"word\": \"art\", \"poem_title\": \"Written In Friars-Carse Hermitage, On The Banks Of Nith. June. 1788. (First Copy.)\", \"author\": \"Robert Burns\", \"period\": \"18th Century\", \"link\": \"http://public-domain-poetry.com/robert-burns/written-in-friars-carse-hermitage-on-the-banks-of-nith-june-1788-first-copy-9978\"}, {\"x\": -0.035100996, \"y\": 0.030828096, \"title\": \"heart, i a slave in thy dominions; **nature** must give way to art. 2 mild arcadians\", \"tokens\": \"heart , i a slave in thy dominion ##s ; nature must give way to art . 2 mild arcadia ##ns\", \"word\": \"nature\", \"poem_title\": \"Song, By A Person Of Quality, Written In The Year 1733\", \"author\": \"Alexander Pope\", \"period\": \"18th Century\", \"link\": \"http://public-domain-poetry.com/alexander-pope/song-by-a-person-of-quality-written-in-the-year-1733-28847\"}, {\"x\": -0.034332715, \"y\": -0.008777896, \"title\": \"in thy dominions; nature must give way to **art**. 2 mild arcadians, ever blooming,\", \"tokens\": \"in thy dominion ##s ; nature must give way to art . 2 mild arcadia ##ns , ever bloom ##ing ,\", \"word\": \"art\", \"poem_title\": \"Song, By A Person Of Quality, Written In The Year 1733\", \"author\": \"Alexander Pope\", \"period\": \"18th Century\", \"link\": \"http://public-domain-poetry.com/alexander-pope/song-by-a-person-of-quality-written-in-the-year-1733-28847\"}, {\"x\": -0.030533707, \"y\": -0.03491928, \"title\": \"melody resigns to fate. tune-\\\"there **art** few gude fellows when willie's awa\", \"tokens\": \"melody resign ##s to fate . tune - \\\" there art few gu ##de fellows when willie ' s aw ##a\", \"word\": \"art\", \"poem_title\": \"There'll Never Be Peace\", \"author\": \"Robert Burns\", \"period\": \"18th Century\", \"link\": \"http://public-domain-poetry.com/robert-burns/therell-never-be-peace-10222\"}, {\"x\": -0.034159463, \"y\": -0.017286029, \"title\": \"lady, once so dear to household virtues. venerable **art**, torn from the poor! yet shall kind heaven\", \"tokens\": \"lady , once so dear to household virtues . venerable art , torn from the poor ! yet shall kind heaven\", \"word\": \"art\", \"poem_title\": \"To S.H\", \"author\": \"William Wordsworth\", \"period\": \"18th Century\", \"link\": \"http://public-domain-poetry.com/william-wordsworth/to-sh-4493\"}, {\"x\": -0.033961207, \"y\": -0.03569032, \"title\": \", when i think of thee, and what thou **art**, verily, in the bottom of my heart\", \"tokens\": \", when i think of thee , and what thou art , ve ##rily , in the bottom of my heart\", \"word\": \"art\", \"poem_title\": \"England, 1802 (V)\", \"author\": \"William Wordsworth\", \"period\": \"18th Century\", \"link\": \"http://public-domain-poetry.com/william-wordsworth/england-1802-v-3852\"}, {\"x\": -0.03445432, \"y\": -0.027022796, \"title\": \", and please it most, sweet gratitude, thou **art**. the reptile, whom thy beauties raise\", \"tokens\": \", and please it most , sweet gratitude , thou art . the rep ##tile , whom thy beau ##ties raise\", \"word\": \"art\", \"poem_title\": \"The Grateful Snake\", \"author\": \"William Hayley\", \"period\": \"18th Century\", \"link\": \"http://public-domain-poetry.com/william-hayley/grateful-snake-18236\"}, {\"x\": -0.033473413, \"y\": -0.039632436, \"title\": \", and i shall be turn'd, thou **art** the lord my god. 'is ephraim\", \"tokens\": \", and i shall be turn ' d , thou art the lord my god . ' is ep ##hra ##im\", \"word\": \"art\", \"poem_title\": \"Ephraim Repenting. - Jeremiah xxxi.18-20\", \"author\": \"William Cowper\", \"period\": \"18th Century\", \"link\": \"http://public-domain-poetry.com/william-cowper/ephraim-repenting-jeremiah-xxxi18-20-13242\"}, {\"x\": -0.031878836, \"y\": 0.030370144, \"title\": \"mid the deep quiet of this morning hour, all **nature** seems to hear me while i speak, by feelings\", \"tokens\": \"mid the deep quiet of this morning hour , all nature seems to hear me while i speak , by feelings\", \"word\": \"nature\", \"poem_title\": \"The Morning Of The Day Appointed For A General Thanksgiving. January 18, 1816\", \"author\": \"William Wordsworth\", \"period\": \"18th Century\", \"link\": \"http://public-domain-poetry.com/william-wordsworth/morning-of-the-day-appointed-for-a-general-thanksgiving-january-18-1816-4068\"}, {\"x\": -0.03386137, \"y\": 0.035746023, \"title\": \"taste, how impaired and restored ( concluded ) from **nature** doth emotion come, and moods of calmness\", \"tokens\": \"taste , how impaired and restored ( concluded ) from nature dot ##h emotion come , and moods of calm ##ness\", \"word\": \"nature\", \"poem_title\": \"The Prelude - Book Thirteenth\", \"author\": \"William Wordsworth\", \"period\": \"18th Century\", \"link\": \"http://public-domain-poetry.com/william-wordsworth/prelude-book-thirteenth-4053\"}, {\"x\": -0.033183083, \"y\": 0.037039246, \"title\": \"emotion come, and moods of calmness equally are **nature**'s gift: this is her glory; these\", \"tokens\": \"emotion come , and moods of calm ##ness equally are nature ' s gift : this is her glory ; these\", \"word\": \"nature\", \"poem_title\": \"The Prelude - Book Thirteenth\", \"author\": \"William Wordsworth\", \"period\": \"18th Century\", \"link\": \"http://public-domain-poetry.com/william-wordsworth/prelude-book-thirteenth-4053\"}, {\"x\": -0.03214083, \"y\": -0.019146489, \"title\": \"the new hay; as blythe and as **artless** as the lamb on the lea, and dear\", \"tokens\": \"the new hay ; as b ##ly ##the and as art ##less as the lamb on the lea , and dear\", \"word\": \"art\", \"poem_title\": \"Auld Rob Morris\", \"author\": \"Robert Burns\", \"period\": \"18th Century\", \"link\": \"http://public-domain-poetry.com/robert-burns/auld-rob-morris-10307\"}, {\"x\": -0.034237508, \"y\": -0.033263404, \"title\": \"heavenly bright, i bless thee, vision as thou **art**, i bless thee with a human heart; god\", \"tokens\": \"heavenly bright , i bless thee , vision as thou art , i bless thee with a human heart ; god\", \"word\": \"art\", \"poem_title\": \"To A Highland Girl (At Inversneyde, Upon Loch Lomond)\", \"author\": \"William Wordsworth\", \"period\": \"18th Century\", \"link\": \"http://public-domain-poetry.com/william-wordsworth/to-a-highland-girl-at-inversneyde-upon-loch-lomond-4117\"}, {\"x\": -0.033923365, \"y\": -0.03727007, \"title\": \"hand but would a garland cull for thee who **art** so beautiful? o happy pleasure! here to dwell\", \"tokens\": \"hand but would a garland cu ##ll for thee who art so beautiful ? o happy pleasure ! here to dwell\", \"word\": \"art\", \"poem_title\": \"To A Highland Girl (At Inversneyde, Upon Loch Lomond)\", \"author\": \"William Wordsworth\", \"period\": \"18th Century\", \"link\": \"http://public-domain-poetry.com/william-wordsworth/to-a-highland-girl-at-inversneyde-upon-loch-lomond-4117\"}, {\"x\": -0.033470143, \"y\": -0.0373654, \"title\": \"wish for thee more like a grave reality: thou **art** to me but as a wave of the wild sea\", \"tokens\": \"wish for thee more like a grave reality : thou art to me but as a wave of the wild sea\", \"word\": \"art\", \"poem_title\": \"To A Highland Girl (At Inversneyde, Upon Loch Lomond)\", \"author\": \"William Wordsworth\", \"period\": \"18th Century\", \"link\": \"http://public-domain-poetry.com/william-wordsworth/to-a-highland-girl-at-inversneyde-upon-loch-lomond-4117\"}, {\"x\": -0.03325415, \"y\": -0.016290877, \"title\": \"and spleen and all the gamester's **art**, a listless, harrass'd\", \"tokens\": \"and sp ##leen and all the games ##ter ' s art , a list ##less , ha ##rra ##ss ' d\", \"word\": \"art\", \"poem_title\": \"On Domestic Issues\", \"author\": \"Mark Akenside\", \"period\": \"18th Century\", \"link\": \"http://public-domain-poetry.com/mark-akenside/on-domestic-issues-3723\"}, {\"x\": -0.030978935, \"y\": -0.011707346, \"title\": \"sea by moon-light; or from works of **art**, such as a noble edifice, a musical\", \"tokens\": \"sea by moon - light ; or from works of art , such as a noble ed ##ifice , a musical\", \"word\": \"art\", \"poem_title\": \"The Pleasures of Imagination - The General Argument\", \"author\": \"Mark Akenside\", \"period\": \"18th Century\", \"link\": \"http://public-domain-poetry.com/mark-akenside/pleasures-of-imagination-the-general-argument-3703\"}, {\"x\": -0.03188236, \"y\": 0.03056374, \"title\": \". these are the men of genius, destined by **nature** to excel in one or other of the arts already\", \"tokens\": \". these are the men of genius , destined by nature to excel in one or other of the arts already\", \"word\": \"nature\", \"poem_title\": \"The Pleasures of Imagination - The General Argument\", \"author\": \"Mark Akenside\", \"period\": \"18th Century\", \"link\": \"http://public-domain-poetry.com/mark-akenside/pleasures-of-imagination-the-general-argument-3703\"}, {\"x\": -0.033808596, \"y\": -0.03605147, \"title\": \"that's half sae welcome's thou **art**. come bumpers high, express your joy,\", \"tokens\": \"that ' s half sa ##e welcome ' s thou art . come bumper ##s high , express your joy ,\", \"word\": \"art\", \"poem_title\": \"Impromptu\", \"author\": \"Robert Burns\", \"period\": \"18th Century\", \"link\": \"http://public-domain-poetry.com/robert-burns/impromptu-10122\"}, {\"x\": -0.033894546, \"y\": -0.036348637, \"title\": \", when i think of thee, and what thou **art**, verily, in the bottom of my heart\", \"tokens\": \", when i think of thee , and what thou art , ve ##rily , in the bottom of my heart\", \"word\": \"art\", \"poem_title\": \"England, 1802 (V)\", \"author\": \"William Wordsworth\", \"period\": \"18th Century\", \"link\": \"http://public-domain-poetry.com/william-wordsworth/england-1802-v-3852\"}, {\"x\": -0.033143297, \"y\": -0.039818328, \"title\": \"heifers gaze. whoe 'er thou **art** whom chance may preface. [ 1 ] the estimation\", \"tokens\": \"he ##ifer ##s gaze . who ##e ' er thou art whom chance may preface . [ 1 ] the estimation\", \"word\": \"art\", \"poem_title\": null, \"author\": null, \"period\": null, \"link\": null}, {\"x\": -0.02799712, \"y\": 0.020228257, \"title\": \"[ 1 ] the estimation of a poem of this **nature** must depend, first, on its arrangement, plan\", \"tokens\": \"[ 1 ] the estimation of a poem of this nature must depend , first , on its arrangement , plan\", \"word\": \"nature\", \"poem_title\": \"Banwell Hill; A Lay Of The Severn Sea. Complete\", \"author\": \"William Lisle Bowles\", \"period\": \"18th Century\", \"link\": \"http://public-domain-poetry.com/william-lisle-bowles/banwell-hill-a-lay-of-the-severn-sea-complete-35362\"}, {\"x\": -0.033855718, \"y\": 0.031747732, \"title\": \"fu 'air; ilk feature-auld **nature** declar'd that she could do nae\", \"tokens\": \"##fu ' air ; il ##k feature - au ##ld nature dec ##lar ' d that she could do na ##e\", \"word\": \"nature\", \"poem_title\": \"She Says She Loves Me Best Of A'\", \"author\": \"Robert Burns\", \"period\": \"18th Century\", \"link\": \"http://public-domain-poetry.com/robert-burns/she-says-she-loves-me-best-of-a-10350\"}, {\"x\": -0.033122912, \"y\": 0.038397346, \"title\": \"ethereal flames! ambitious, i aspire in **nature**'s general symphony to join. and what new\", \"tokens\": \"ether ##eal flames ! ambitious , i as ##pire in nature ' s general symphony to join . and what new\", \"word\": \"nature\", \"poem_title\": \"A Poem Sacred to the Memory of Sir Isaac Newton\", \"author\": \"James Thomson\", \"period\": \"18th Century\", \"link\": \"http://public-domain-poetry.com/james-thomson/poem-sacred-to-the-memory-of-sir-isaac-newton-7674\"}, {\"x\": -0.032308724, \"y\": 0.03633736, \"title\": \"ly, and sore deeds of cruelty and blood, **nature** herself stood all subdu'd by him,\", \"tokens\": \"##ly , and sore deeds of cruelty and blood , nature herself stood all sub ##du ' d by him ,\", \"word\": \"nature\", \"poem_title\": \"A Poem Sacred to the Memory of Sir Isaac Newton\", \"author\": \"James Thomson\", \"period\": \"18th Century\", \"link\": \"http://public-domain-poetry.com/james-thomson/poem-sacred-to-the-memory-of-sir-isaac-newton-7674\"}, {\"x\": -0.033172425, \"y\": -0.018862646, \"title\": \"crown thou on our household gods, with decent care **art** gently placing; and they will not frown; no\", \"tokens\": \"crown thou on our household gods , with decent care art gently placing ; and they will not frown ; no\", \"word\": \"art\", \"poem_title\": \"Odes From Horace. - To Phidyle. Exhorting Her To Be Content With A Frugal Sacrifice. Book The Third, Ode The Twenty-Third\", \"author\": \"Anna Seward\", \"period\": \"18th Century\", \"link\": \"http://public-domain-poetry.com/anna-seward/odes-from-horace-to-phidyle-exhorting-her-to-be-content-with-a-frugal-sacrifice-book-the-third-ode-31209\"}, {\"x\": -0.034313876, \"y\": 0.030235356, \"title\": \"ly dear: what came from heaven to heaven by **nature** clings, and, if dissevered thence\", \"tokens\": \"##ly dear : what came from heaven to heaven by nature cl ##ings , and , if di ##sse ##vered thence\", \"word\": \"nature\", \"poem_title\": \"Ecclesiastical Sonnets - Part III. - X - Obligations Of Civil To Religious Liberty\", \"author\": \"William Wordsworth\", \"period\": \"18th Century\", \"link\": \"http://public-domain-poetry.com/william-wordsworth/ecclesiastical-sonnets-part-iii-x-obligations-of-civil-to-religious-liberty-4431\"}, {\"x\": -0.03423977, \"y\": 0.033077106, \"title\": \", dejected, and deprest, ( **nature** is adverse to a cripple's rest\", \"tokens\": \", de ##jected , and de ##pres ##t , ( nature is adverse to a cr ##ip ##ple ' s rest\", \"word\": \"nature\", \"poem_title\": \"To Robert Graham, Esq., Of Fintray\", \"author\": \"Robert Burns\", \"period\": \"18th Century\", \"link\": \"http://public-domain-poetry.com/robert-burns/to-robert-graham-esq-of-fintray-10016\"}, {\"x\": -0.0341976, \"y\": 0.03251343, \"title\": \"the luckless rhyming trade? thou, **nature**, partial **nature**! i arraign; of\", \"tokens\": \"the luck ##less r ##hy ##ming trade ? thou , nature , partial nature ! i ar ##rai ##gn ; of\", \"word\": \"nature\", \"poem_title\": \"To Robert Graham, Esq., Of Fintray\", \"author\": \"Robert Burns\", \"period\": \"18th Century\", \"link\": \"http://public-domain-poetry.com/robert-burns/to-robert-graham-esq-of-fintray-10016\"}, {\"x\": -0.034273297, \"y\": 0.033799775, \"title\": \"rhyming trade? thou, **nature**, partial **nature**! i arraign; of thy caprice\", \"tokens\": \"r ##hy ##ming trade ? thou , nature , partial nature ! i ar ##rai ##gn ; of thy cap ##rice\", \"word\": \"nature\", \"poem_title\": \"To Robert Graham, Esq., Of Fintray\", \"author\": \"Robert Burns\", \"period\": \"18th Century\", \"link\": \"http://public-domain-poetry.com/robert-burns/to-robert-graham-esq-of-fintray-10016\"}, {\"x\": -0.031307235, \"y\": -0.015826913, \"title\": \"crush'd: for his rage, with forceful **art**, still he fail'd to turn, or\", \"tokens\": \"crush ' d : for his rage , with forceful art , still he fail ' d to turn , or\", \"word\": \"art\", \"poem_title\": \"The Horse\", \"author\": \"William Hayley\", \"period\": \"18th Century\", \"link\": \"http://public-domain-poetry.com/william-hayley/horse-18245\"}, {\"x\": -0.035093836, \"y\": 0.032728862, \"title\": \"s, like day, is just begun, yet **nature** seems to them a heavenly guide. does joy approach\", \"tokens\": \"##s , like day , is just begun , yet nature seems to them a heavenly guide . does joy approach\", \"word\": \"nature\", \"poem_title\": \"Composed On A May Morning\", \"author\": \"William Wordsworth\", \"period\": \"18th Century\", \"link\": \"http://public-domain-poetry.com/william-wordsworth/composed-on-a-may-morning-4680\"}, {\"x\": -0.03464583, \"y\": 0.030965464, \"title\": \"milton's par. lost. no strength of **nature** can suffice to serve the lord aright\", \"tokens\": \"milton ' s par . lost . no strength of nature can su ##ffi ##ce to serve the lord ari ##ght\", \"word\": \"nature\", \"poem_title\": \"Love Constraining To Obedience\", \"author\": \"William Cowper\", \"period\": \"18th Century\", \"link\": \"http://public-domain-poetry.com/william-cowper/love-constraining-to-obedience-13284\"}, {\"x\": -0.033127677, \"y\": -0.042941675, \"title\": \"seat; where 'er thy seek thee, thou **art** found, and every place is hallow'd\", \"tokens\": \"seat ; where ' er thy seek thee , thou art found , and every place is hall ##ow ' d\", \"word\": \"art\", \"poem_title\": \"Considerations - On Part Of The 88th Psalm. A College Exercise\", \"author\": \"Matthew Prior\", \"period\": \"16th-17th Centuries (Early Modern)\", \"link\": \"http://public-domain-poetry.com/matthew-prior/considerations-on-part-of-the-88th-psalm-a-college-exercise-2924\"}, {\"x\": -0.031999584, \"y\": -0.047986414, \"title\": \"increase. lord, we are few, but thou **art** near; nor short thine arm, nor deaf\", \"tokens\": \"increase . lord , we are few , but thou art near ; nor short thin ##e arm , nor deaf\", \"word\": \"art\", \"poem_title\": \"On Opening A Place For Social Prayer\", \"author\": \"William Cowper\", \"period\": \"18th Century\", \"link\": \"http://public-domain-poetry.com/william-cowper/on-opening-a-place-for-social-prayer-13256\"}, {\"x\": -0.0327618, \"y\": 0.03227067, \"title\": \"l, nae travel makes him weary. when **nature** her great master-piece designed, and fram\", \"tokens\": \"##l , na ##e travel makes him weary . when nature her great master - piece designed , and fra ##m\", \"word\": \"nature\", \"poem_title\": \"First Epistle To Robert Graham, Esq. Of Fintray\", \"author\": \"Robert Burns\", \"period\": \"18th Century\", \"link\": \"http://public-domain-poetry.com/robert-burns/first-epistle-to-robert-graham-esq-of-fintray-9982\"}, {\"x\": -0.033599116, \"y\": 0.031838447, \"title\": \"the order'd system fair before her stood, **nature**, well pleas'd, pronounc\", \"tokens\": \"the order ' d system fair before her stood , nature , well pleas ' d , pro ##no ##un ##c\", \"word\": \"nature\", \"poem_title\": \"First Epistle To Robert Graham, Esq. Of Fintray\", \"author\": \"Robert Burns\", \"period\": \"18th Century\", \"link\": \"http://public-domain-poetry.com/robert-burns/first-epistle-to-robert-graham-esq-of-fintray-9982\"}, {\"x\": -0.03387108, \"y\": 0.03419581, \"title\": \"; with arch alacrity and conscious glee ( **nature** may have her whim as well as we,\", \"tokens\": \"; with arch ala ##cr ##ity and conscious glee ( nature may have her w ##him as well as we ,\", \"word\": \"nature\", \"poem_title\": \"First Epistle To Robert Graham, Esq. Of Fintray\", \"author\": \"Robert Burns\", \"period\": \"18th Century\", \"link\": \"http://public-domain-poetry.com/robert-burns/first-epistle-to-robert-graham-esq-of-fintray-9982\"}, {\"x\": -0.031979453, \"y\": -0.02189007, \"title\": \"him as well as we, her hogarth-**art** perhaps she meant to show it ) she forms the\", \"tokens\": \"##him as well as we , her hog ##arth - art perhaps she meant to show it ) she forms the\", \"word\": \"art\", \"poem_title\": \"First Epistle To Robert Graham, Esq. Of Fintray\", \"author\": \"Robert Burns\", \"period\": \"18th Century\", \"link\": \"http://public-domain-poetry.com/robert-burns/first-epistle-to-robert-graham-esq-of-fintray-9982\"}, {\"x\": -0.030764477, \"y\": 0.038554456, \"title\": \"all unheeded in his own. but honest **nature** is not quite a turk, she laugh'd\", \"tokens\": \"all un ##hee ##ded in his own . but honest nature is not quite a turk , she laugh ' d\", \"word\": \"nature\", \"poem_title\": \"First Epistle To Robert Graham, Esq. Of Fintray\", \"author\": \"Robert Burns\", \"period\": \"18th Century\", \"link\": \"http://public-domain-poetry.com/robert-burns/first-epistle-to-robert-graham-esq-of-fintray-9982\"}, {\"x\": -0.033381555, \"y\": -0.012028689, \"title\": \", by right divine; critics, whom every captive **art** adores, to whom glad science pours forth\", \"tokens\": \", by right divine ; critics , whom every captive art ad ##ores , to whom glad science pour ##s forth\", \"word\": \"art\", \"poem_title\": \"The Apology. Addressed To The Critical Reviewers.[1]\", \"author\": \"Charles Churchill\", \"period\": \"18th Century\", \"link\": \"http://public-domain-poetry.com/charles-churchill/apology-addressed-to-the-critical-reviewers-12197\"}, {\"x\": -0.031079913, \"y\": 0.021552999, \"title\": \"whom every captive art adores, to whom glad **science** pours forth all her stores; who high in\", \"tokens\": \"whom every captive art ad ##ores , to whom glad science pour ##s forth all her stores ; who high in\", \"word\": \"science\", \"poem_title\": \"The Green Linnet\", \"author\": \"William Wordsworth\", \"period\": \"18th Century\", \"link\": \"http://public-domain-poetry.com/william-wordsworth/green-linnet-3890\"}, {\"x\": -0.0322, \"y\": 0.03523225, \"title\": \"unnatural war with brother authors wage. the pride of **nature** would as soon admit competitors in empire as in wit\", \"tokens\": \"unnatural war with brother authors wage . the pride of nature would as soon admit competitors in empire as in wit\", \"word\": \"nature\", \"poem_title\": \"The Apology. Addressed To The Critical Reviewers.[1]\", \"author\": \"Charles Churchill\", \"period\": \"18th Century\", \"link\": \"http://public-domain-poetry.com/charles-churchill/apology-addressed-to-the-critical-reviewers-12197\"}, {\"x\": -0.030186957, \"y\": -0.016855162, \"title\": \"s! colleaguin 'at some black **art**. ilk ghaist that haunts au\", \"tokens\": \"s ! col ##lea ##gui ##n ' at some black art . il ##k g ##hai ##st that haunt ##s au\", \"word\": \"art\", \"poem_title\": \"On Captain Grose's Peregrinations Through Scotland, Collecting The Antiquities Of That Kingdom\", \"author\": \"Robert Burns\", \"period\": \"18th Century\", \"link\": \"http://public-domain-poetry.com/robert-burns/on-captain-groses-peregrinations-through-scotland-collecting-the-antiquities-of-that-kingdom-10005\"}, {\"x\": -0.033093035, \"y\": -0.013834614, \"title\": \"pise. \\\"true ease in writing comes from **art**, not chance, as those move easiest who have\", \"tokens\": \"##pis ##e . \\\" true ease in writing comes from art , not chance , as those move easiest who have\", \"word\": \"art\", \"poem_title\": \"Sound And Sense\", \"author\": \"Alexander Pope\", \"period\": \"18th Century\", \"link\": \"http://public-domain-poetry.com/alexander-pope/sound-and-sense-1609\"}, {\"x\": -0.032462597, \"y\": -0.045799717, \"title\": \"by the silent flood; and mourn when thou **art** all alone, thou woodman, in the distant\", \"tokens\": \"by the silent flood ; and mo ##urn when thou art all alone , thou wood ##man , in the distant\", \"word\": \"art\", \"poem_title\": \"Address To The Scholars Of The Village School\", \"author\": \"William Wordsworth\", \"period\": \"18th Century\", \"link\": \"http://public-domain-poetry.com/william-wordsworth/address-to-the-scholars-of-the-village-school-3839\"}, {\"x\": -0.033560142, \"y\": -0.011364681, \"title\": \"er the ground, and sleights of **art** and feats of strength went round; and still\", \"tokens\": \"er the ground , and sl ##ei ##ght ##s of art and feat ##s of strength went round ; and still\", \"word\": \"art\", \"poem_title\": \"The Deserted Village\", \"author\": \"Oliver Goldsmith\", \"period\": \"18th Century\", \"link\": \"http://public-domain-poetry.com/oliver-goldsmith/deserted-village-16834\"}, {\"x\": -0.032680217, \"y\": 0.03879178, \"title\": \"our gladsome way, and view the charms of **nature**; the rustling corn, the fruited thorn,\", \"tokens\": \"our glad ##some way , and view the charms of nature ; the rustling corn , the fruit ##ed thorn ,\", \"word\": \"nature\", \"poem_title\": \"Peggy\", \"author\": \"Robert Burns\", \"period\": \"18th Century\", \"link\": \"http://public-domain-poetry.com/robert-burns/peggy-10134\"}, {\"x\": -0.029662695, \"y\": 0.04158018, \"title\": \"given. and, though god made thee of a **nature** prone to distribution boundless of thy own, and\", \"tokens\": \"given . and , though god made thee of a nature prone to distribution bound ##less of thy own , and\", \"word\": \"nature\", \"poem_title\": \"In Memory Of The Late John Thornton, Esq\", \"author\": \"William Cowper\", \"period\": \"18th Century\", \"link\": \"http://public-domain-poetry.com/william-cowper/in-memory-of-the-late-john-thornton-esq-13164\"}, {\"x\": -0.032181453, \"y\": 0.029247131, \"title\": \"above, to him whose works bespeak his **nature**, love. thy bounties all were christian\", \"tokens\": \"above , to him whose works be ##sp ##eak his nature , love . thy bo ##unt ##ies all were christian\", \"word\": \"nature\", \"poem_title\": \"In Memory Of The Late John Thornton, Esq\", \"author\": \"William Cowper\", \"period\": \"18th Century\", \"link\": \"http://public-domain-poetry.com/william-cowper/in-memory-of-the-late-john-thornton-esq-13164\"}, {\"x\": -0.028437959, \"y\": 0.0052236915, \"title\": \"ere the coming of the long cold night, **religion**, may we bless thy purer light, that\", \"tokens\": \"er ##e the coming of the long cold night , religion , may we bless thy pure ##r light , that\", \"word\": \"religion\", \"poem_title\": \"Retrospection\", \"author\": \"William Lisle Bowles\", \"period\": \"18th Century\", \"link\": \"http://public-domain-poetry.com/william-lisle-bowles/retrospection-9327\"}, {\"x\": -0.03250631, \"y\": 0.02070647, \"title\": \"n all those charities, those sacred ties, which **nature**, in her bounty, good as wise, to\", \"tokens\": \"##n all those charities , those sacred ties , which nature , in her bounty , good as wise , to\", \"word\": \"nature\", \"poem_title\": \"An Epistle To William Hogarth.[1]\", \"author\": \"Charles Churchill\", \"period\": \"18th Century\", \"link\": \"http://public-domain-poetry.com/charles-churchill/an-epistle-to-william-hogarth-12194\"}, {\"x\": -0.030331565, \"y\": 0.01750436, \"title\": \"pale and sickly study led, pursue coy **science** to the fountain-head; virtue thy guide,\", \"tokens\": \"pale and sick ##ly study led , pursue co ##y science to the fountain - head ; virtue thy guide ,\", \"word\": \"science\", \"poem_title\": \"An Epistle To William Hogarth.[1]\", \"author\": \"Charles Churchill\", \"period\": \"18th Century\", \"link\": \"http://public-domain-poetry.com/charles-churchill/an-epistle-to-william-hogarth-12194\"}, {\"x\": -0.03454701, \"y\": 0.034024432, \"title\": \"awful chain. tenderest herald of the sky, **nature**'s safeguard from perdition, friend of sweet\", \"tokens\": \"awful chain . tender ##est herald of the sky , nature ' s safeguard from per ##dition , friend of sweet\", \"word\": \"nature\", \"poem_title\": \"Hymn to Contrition\", \"author\": \"William Hayley\", \"period\": \"18th Century\", \"link\": \"http://public-domain-poetry.com/william-hayley/hymn-to-contrition-18218\"}, {\"x\": -0.030189667, \"y\": 0.012851174, \"title\": \"er we move, to the mind's eye **religion** doth present; now with her own deep quiet\", \"tokens\": \"er we move , to the mind ' s eye religion dot ##h present ; now with her own deep quiet\", \"word\": \"religion\", \"poem_title\": \"Ecclesiastical Sonnets - Part II. - XLIV - Troubles Of Charles The First\", \"author\": \"William Wordsworth\", \"period\": \"18th Century\", \"link\": \"http://public-domain-poetry.com/william-wordsworth/ecclesiastical-sonnets-part-ii-xliv-troubles-of-charles-the-first-4419\"}, {\"x\": -0.03478118, \"y\": -0.032336272, \"title\": \"hope thy spirit does not find, young as thou **art**, with solitude combin'd that wish of\", \"tokens\": \"hope thy spirit does not find , young as thou art , with solitude comb ##in ' d that wish of\", \"word\": \"art\", \"poem_title\": \"Sonnet LIX. To The Right Honourable Lady Marianne Carnegie\", \"author\": \"Anna Seward\", \"period\": \"18th Century\", \"link\": \"http://public-domain-poetry.com/anna-seward/sonnet-lix-to-the-right-honourable-lady-marianne-carnegie-31149\"}, {\"x\": -0.034164708, \"y\": 0.029053528, \"title\": \"us is the best: no grandeur now in **nature** or in book delights us. rapine,\", \"tokens\": \"us is the best : no grande ##ur now in nature or in book delight ##s us . rap ##ine ,\", \"word\": \"nature\", \"poem_title\": \"England, 1802 (I)\", \"author\": \"William Wordsworth\", \"period\": \"18th Century\", \"link\": \"http://public-domain-poetry.com/william-wordsworth/england-1802-i-3848\"}, {\"x\": -0.029813606, \"y\": 0.013460095, \"title\": \"; our peace, our fearful innocence, and pure **religion** breathing household laws. nor faith, nor hope,\", \"tokens\": \"; our peace , our fearful innocence , and pure religion breathing household laws . nor faith , nor hope ,\", \"word\": \"religion\", \"poem_title\": \"England, 1802 (I)\", \"author\": \"William Wordsworth\", \"period\": \"18th Century\", \"link\": \"http://public-domain-poetry.com/william-wordsworth/england-1802-i-3848\"}, {\"x\": -0.033522677, \"y\": 0.03020134, \"title\": \"flower! whose home is everywhere, bold in maternal **nature**'s care, and all the long year through\", \"tokens\": \"flower ! whose home is everywhere , bold in maternal nature ' s care , and all the long year through\", \"word\": \"nature\", \"poem_title\": \"To The Daisy\", \"author\": \"William Wordsworth\", \"period\": \"18th Century\", \"link\": \"http://public-domain-poetry.com/william-wordsworth/to-the-daisy-4173\"}, {\"x\": -0.027478939, \"y\": 0.014009261, \"title\": \"not reason, just, and sore. which in **religion** finds no point obscure; which, measuring godhead\", \"tokens\": \"not reason , just , and sore . which in religion finds no point obscure ; which , measuring god ##head\", \"word\": \"religion\", \"poem_title\": \"Epistle To A Friend, On The Divinity Of Our Saviour\", \"author\": \"William Hayley\", \"period\": \"18th Century\", \"link\": \"http://public-domain-poetry.com/william-hayley/epistle-to-a-friend-on-the-divinity-of-our-saviour-18216\"}, {\"x\": -0.031797342, \"y\": 0.037370984, \"title\": \", presume with heaven to mediate for all **nature**'s doom? no! for, so born\", \"tokens\": \", pre ##sume with heaven to media ##te for all nature ' s doom ? no ! for , so born\", \"word\": \"nature\", \"poem_title\": \"Epistle To A Friend, On The Divinity Of Our Saviour\", \"author\": \"William Hayley\", \"period\": \"18th Century\", \"link\": \"http://public-domain-poetry.com/william-hayley/epistle-to-a-friend-on-the-divinity-of-our-saviour-18216\"}, {\"x\": -0.031579077, \"y\": -0.016167564, \"title\": \"! she scorns the trappings of her **art**; no theme but truth, no prompter but\", \"tokens\": \"! she sc ##orn ##s the trapping ##s of her art ; no theme but truth , no prompt ##er but\", \"word\": \"art\", \"poem_title\": \"Verses Written To Be Spoken By Mrs. Siddons\", \"author\": \"Samuel Rogers\", \"period\": \"18th Century\", \"link\": \"http://public-domain-poetry.com/samuel-rogers/verses-written-to-be-spoken-by-mrs-siddons-29708\"}, {\"x\": -0.0347782, \"y\": 0.027918862, \"title\": \"grew dearer night after night? true is it **nature** hides her treasures less and less. man now pre\", \"tokens\": \"grew dear ##er night after night ? true is it nature hides her treasures less and less . man now pre\", \"word\": \"nature\", \"poem_title\": \"To The Planet Venus\", \"author\": \"William Wordsworth\", \"period\": \"18th Century\", \"link\": \"http://public-domain-poetry.com/william-wordsworth/to-the-planet-venus-4678\"}, {\"x\": -0.03007544, \"y\": 0.016975062, \"title\": \"power, where once he trembled in his weakness; **science** advances with gigantic strides; but are we aught\", \"tokens\": \"power , where once he trembled in his weakness ; science advances with gigantic strides ; but are we aug ##ht\", \"word\": \"science\", \"poem_title\": \"To The Planet Venus\", \"author\": \"William Wordsworth\", \"period\": \"18th Century\", \"link\": \"http://public-domain-poetry.com/william-wordsworth/to-the-planet-venus-4678\"}, {\"x\": -0.031875126, \"y\": 0.036821477, \"title\": \"the tyrant of the passing day? the laws of **nature** hold their reign o 'er man throughout her whole\", \"tokens\": \"the tyrant of the passing day ? the laws of nature hold their reign o ' er man throughout her whole\", \"word\": \"nature\", \"poem_title\": \"The Raven, Sexton, And Worm\", \"author\": \"John Gay\", \"period\": \"18th Century\", \"link\": \"http://public-domain-poetry.com/john-gay/raven-sexton-and-worm-34823\"}, {\"x\": -0.033494473, \"y\": 0.034291547, \"title\": \"less, soul where 'r they flowed man gifted **nature** with divinity to lift and link her to the breast\", \"tokens\": \"##less , soul where ' r they flowed man gifted nature with divinity to lift and link her to the breast\", \"word\": \"nature\", \"poem_title\": \"The Gods Of Greece\", \"author\": \"Friedrich Schiller\", \"period\": \"18th Century\", \"link\": \"http://public-domain-poetry.com/friedrich-schiller/gods-of-greece-30692\"}, {\"x\": -0.033233233, \"y\": 0.027053205, \"title\": \"ev 'ry glen the mavis sang, all **nature** listening seem'd the while, except where greenwood\", \"tokens\": \"ev ' ry glen the ma ##vis sang , all nature listening seem ' d the while , except where greenwood\", \"word\": \"nature\", \"poem_title\": \"The Lass Of Ballochmyle\", \"author\": \"Robert Burns\", \"period\": \"18th Century\", \"link\": \"http://public-domain-poetry.com/robert-burns/lass-of-ballochmyle-10153\"}, {\"x\": -0.03324047, \"y\": 0.04020902, \"title\": \"d, my heart rejoic'd in **nature**'s joy, when musing in a lonely\", \"tokens\": \"d , my heart re ##jo ##ic ' d in nature ' s joy , when mu ##sing in a lonely\", \"word\": \"nature\", \"poem_title\": \"The Lass Of Ballochmyle\", \"author\": \"Robert Burns\", \"period\": \"18th Century\", \"link\": \"http://public-domain-poetry.com/robert-burns/lass-of-ballochmyle-10153\"}, {\"x\": -0.031931058, \"y\": 0.039038274, \"title\": \"like the morning's eye, her air like **nature**'s vernal smile, perfection whisper '\", \"tokens\": \"like the morning ' s eye , her air like nature ' s ve ##rna ##l smile , perfection whisper '\", \"word\": \"nature\", \"poem_title\": \"The Lass Of Ballochmyle\", \"author\": \"Robert Burns\", \"period\": \"18th Century\", \"link\": \"http://public-domain-poetry.com/robert-burns/lass-of-ballochmyle-10153\"}, {\"x\": -0.033006456, \"y\": 0.036421787, \"title\": \"'ring in the lonely wild; but woman, **nature**'s darling child! there all her charms she\", \"tokens\": \"' ring in the lonely wild ; but woman , nature ' s darling child ! there all her charms she\", \"word\": \"nature\", \"poem_title\": \"The Lass Of Ballochmyle\", \"author\": \"Robert Burns\", \"period\": \"18th Century\", \"link\": \"http://public-domain-poetry.com/robert-burns/lass-of-ballochmyle-10153\"}, {\"x\": -0.031533327, \"y\": 0.03223657, \"title\": \"to begin with considering man in the abstract, his **nature** and his state; since, to prove any moral\", \"tokens\": \"to begin with considering man in the abstract , his nature and his state ; since , to prove any moral\", \"word\": \"nature\", \"poem_title\": \"An Essay On Man: Epistle I\", \"author\": \"Alexander Pope\", \"period\": \"18th Century\", \"link\": \"http://public-domain-poetry.com/alexander-pope/an-essay-on-man-epistle-i-28805\"}, {\"x\": -0.02695008, \"y\": 0.016894419, \"title\": \"the proper end and purpose of its being. the **science** of human nature is, like all other **sciences**,\", \"tokens\": \"the proper end and purpose of its being . the science of human nature is , like all other sciences ,\", \"word\": \"science\", \"poem_title\": \"An Essay On Man: Epistle I\", \"author\": \"Alexander Pope\", \"period\": \"18th Century\", \"link\": \"http://public-domain-poetry.com/alexander-pope/an-essay-on-man-epistle-i-28805\"}, {\"x\": -0.028234433, \"y\": 0.032522555, \"title\": \"and purpose of its being. the science of human **nature** is, like all other sciences, reduced to a\", \"tokens\": \"and purpose of its being . the science of human nature is , like all other sciences , reduced to a\", \"word\": \"nature\", \"poem_title\": \"An Essay On Man: Epistle I\", \"author\": \"Alexander Pope\", \"period\": \"18th Century\", \"link\": \"http://public-domain-poetry.com/alexander-pope/an-essay-on-man-epistle-i-28805\"}, {\"x\": -0.03233072, \"y\": 0.038480073, \"title\": \"from the first allegorical deities, or powers of **nature**; according to the doctrine of the old mythological poets\", \"tokens\": \"from the first all ##egorical deities , or powers of nature ; according to the doctrine of the old mythological poets\", \"word\": \"nature\", \"poem_title\": \"Hymn To The Naiads\", \"author\": \"Mark Akenside\", \"period\": \"18th Century\", \"link\": \"http://public-domain-poetry.com/mark-akenside/hymn-to-the-naiads-3693\"}, {\"x\": -0.030356426, \"y\": -0.011747434, \"title\": \"by rural exercise: which introduces their connection with the **art** of physic, and the happy effects of\", \"tokens\": \"by rural exercise : which introduces their connection with the art of ph ##ys ##ic , and the happy effects of\", \"word\": \"art\", \"poem_title\": \"Hymn To The Naiads\", \"author\": \"Mark Akenside\", \"period\": \"18th Century\", \"link\": \"http://public-domain-poetry.com/mark-akenside/hymn-to-the-naiads-3693\"}, {\"x\": -0.028870992, \"y\": 0.01680053, \"title\": \"adorn'd! blest in each **science**, blest in every strain! dear to\", \"tokens\": \"ad ##orn ' d ! b ##les ##t in each science , b ##les ##t in every strain ! dear to\", \"word\": \"science\", \"poem_title\": \"Epistle To Robert Earl Of Oxford And Earl Mortimer\", \"author\": \"Alexander Pope\", \"period\": \"18th Century\", \"link\": \"http://public-domain-poetry.com/alexander-pope/epistle-to-robert-earl-of-oxford-and-earl-mortimer-28781\"}, {\"x\": -0.034026742, \"y\": 0.031944163, \"title\": \", and welcome my willie, the simmer to **nature**, my willie to me. iii. rest,\", \"tokens\": \", and welcome my willie , the sim ##mer to nature , my willie to me . iii . rest ,\", \"word\": \"nature\", \"poem_title\": \"Wandering Willie. (Last Version.)\", \"author\": \"Robert Burns\", \"period\": \"18th Century\", \"link\": \"http://public-domain-poetry.com/robert-burns/wandering-willie-last-version-10314\"}, {\"x\": -0.032406542, \"y\": -0.046813317, \"title\": \"but thy hour of rest is come, and thou **art** silent in thy age; save when the wind sweeps\", \"tokens\": \"but thy hour of rest is come , and thou art silent in thy age ; save when the wind sweeps\", \"word\": \"art\", \"poem_title\": \"Address To Kilchurn Castle, Upon Loch Awe\", \"author\": \"William Wordsworth\", \"period\": \"18th Century\", \"link\": \"http://public-domain-poetry.com/william-wordsworth/address-to-kilchurn-castle-upon-loch-awe-3897\"}, {\"x\": -0.031842977, \"y\": -0.04267586, \"title\": \"to perceive, no soul to dream of. what **art** thou, from care cast off 'abandoned by thy\", \"tokens\": \"to perceive , no soul to dream of . what art thou , from care cast off ' abandoned by thy\", \"word\": \"art\", \"poem_title\": \"Address To Kilchurn Castle, Upon Loch Awe\", \"author\": \"William Wordsworth\", \"period\": \"18th Century\", \"link\": \"http://public-domain-poetry.com/william-wordsworth/address-to-kilchurn-castle-upon-loch-awe-3897\"}, {\"x\": -0.033028126, \"y\": 0.036590733, \"title\": \"his own; submitting all that the god of **nature** hath conferred, all that he holds in common\", \"tokens\": \"his own ; submit ##ting all that the god of nature hat ##h conferred , all that he holds in common\", \"word\": \"nature\", \"poem_title\": \"Address To Kilchurn Castle, Upon Loch Awe\", \"author\": \"William Wordsworth\", \"period\": \"18th Century\", \"link\": \"http://public-domain-poetry.com/william-wordsworth/address-to-kilchurn-castle-upon-loch-awe-3897\"}, {\"x\": -0.033435207, \"y\": 0.028173206, \"title\": \"mightier cried 'proceed! ''twas **nature**, sir, whose strong behest impell\", \"tokens\": \"might ##ier cried ' proceed ! ' ' t ##was nature , sir , whose strong be ##hes ##t imp ##ell\", \"word\": \"nature\", \"poem_title\": \"Ecclesiastical Sonnets - Part I. - XXXVIII - Scene In Venice\", \"author\": \"William Wordsworth\", \"period\": \"18th Century\", \"link\": \"http://public-domain-poetry.com/william-wordsworth/ecclesiastical-sonnets-part-i-xxxviii-scene-in-venice-4374\"}, {\"x\": -0.032997523, \"y\": 0.023588363, \"title\": \"d me to the deed. yet, much as **nature** i respect, i ventured once to break ( as\", \"tokens\": \"d me to the deed . yet , much as nature i respect , i ventured once to break ( as\", \"word\": \"nature\", \"poem_title\": \"Beau's Reply\", \"author\": \"William Cowper\", \"period\": \"18th Century\", \"link\": \"http://public-domain-poetry.com/william-cowper/beaus-reply-13185\"}, {\"x\": -0.0327303, \"y\": 0.0295329, \"title\": \"indeed, can repeat what already existed, that which **nature** has built, after her she, too, can\", \"tokens\": \"indeed , can repeat what already existed , that which nature has built , after her she , too , can\", \"word\": \"nature\", \"poem_title\": \"Genius\", \"author\": \"Friedrich Schiller\", \"period\": \"18th Century\", \"link\": \"http://public-domain-poetry.com/friedrich-schiller/genius-30589\"}, {\"x\": -0.03295774, \"y\": 0.028040485, \"title\": \"after her she, too, can build. over **nature** can reason build, but in vacancy only: but\", \"tokens\": \"after her she , too , can build . over nature can reason build , but in vacancy only : but\", \"word\": \"nature\", \"poem_title\": \"Genius\", \"author\": \"Friedrich Schiller\", \"period\": \"18th Century\", \"link\": \"http://public-domain-poetry.com/friedrich-schiller/genius-30589\"}, {\"x\": -0.033861317, \"y\": 0.024244454, \"title\": \"vacancy only: but thou, genius, alone, **nature** in **nature** canst form. i a traveler on\", \"tokens\": \"vacancy only : but thou , genius , alone , nature in nature cans ##t form . i a traveler on\", \"word\": \"nature\", \"poem_title\": \"Genius\", \"author\": \"Friedrich Schiller\", \"period\": \"18th Century\", \"link\": \"http://public-domain-poetry.com/friedrich-schiller/genius-30589\"}, {\"x\": -0.033838235, \"y\": 0.02650146, \"title\": \": but thou, genius, alone, **nature** in **nature** canst form. i a traveler on the skirt\", \"tokens\": \": but thou , genius , alone , nature in nature cans ##t form . i a traveler on the skirt\", \"word\": \"nature\", \"poem_title\": null, \"author\": null, \"period\": null, \"link\": null}, {\"x\": -0.033795413, \"y\": 0.030571913, \"title\": \"-trees nod their heads in sign of worship, **nature**'s god, these humbler adorations\", \"tokens\": \"- trees nod their heads in sign of worship , nature ' s god , these humble ##r ad ##oration ##s\", \"word\": \"nature\", \"poem_title\": \"Memorials Of A Tour On The Continent, 1820 - XII. - The Fall Of The Aar - Handec\", \"author\": \"William Wordsworth\", \"period\": \"18th Century\", \"link\": \"http://public-domain-poetry.com/william-wordsworth/memorials-of-a-tour-on-the-continent-1820-xii-the-fall-of-the-aar-handec-4273\"}, {\"x\": -0.028836638, \"y\": 0.015873782, \"title\": \"just and gracious queen have we, a pure **religion**, and the claim of peace on our humanity.\", \"tokens\": \"just and gr ##acious queen have we , a pure religion , and the claim of peace on our humanity .\", \"word\": \"religion\", \"poem_title\": \"The White Doe Of Rylstone, Or, The Fate Of The Nortons - Canto Second\", \"author\": \"William Wordsworth\", \"period\": \"18th Century\", \"link\": \"http://public-domain-poetry.com/william-wordsworth/white-doe-of-rylstone-or-the-fate-of-the-nortons-canto-second-4079\"}, {\"x\": -0.029994698, \"y\": 0.020277869, \"title\": \"most forbidding den of solitude, with love of **science** strong, how patiently the yoke of thought they\", \"tokens\": \"most forbid ##ding den of solitude , with love of science strong , how patiently the yo ##ke of thought they\", \"word\": \"science\", \"poem_title\": \"Ecclesiastical Sonnets - Part II. - V - Monks And Schoolmen\", \"author\": \"William Wordsworth\", \"period\": \"18th Century\", \"link\": \"http://public-domain-poetry.com/william-wordsworth/ecclesiastical-sonnets-part-ii-v-monks-and-schoolmen-4380\"}, {\"x\": -0.03216365, \"y\": 0.031311072, \"title\": \"cepts; let it the citizen lead into free **nature** with joy. st. peter's. if\", \"tokens\": \"##ce ##pts ; let it the citizen lead into free nature with joy . st . peter ' s . if\", \"word\": \"nature\", \"poem_title\": \"Trifles\", \"author\": \"Friedrich Schiller\", \"period\": \"18th Century\", \"link\": \"http://public-domain-poetry.com/friedrich-schiller/trifles-30615\"}, {\"x\": -0.033367045, \"y\": -0.01213484, \"title\": \"d, doubly marks its beam, with **art**'s most polish'd blaze. ii.\", \"tokens\": \"d , do ##ub ##ly marks its beam , with art ' s most polish ' d blaze . ii .\", \"word\": \"art\", \"poem_title\": \"Braving Angry Winter's Storms\", \"author\": \"Robert Burns\", \"period\": \"18th Century\", \"link\": \"http://public-domain-poetry.com/robert-burns/braving-angry-winters-storms-10183\"}, {\"x\": -0.03422531, \"y\": 0.033157237, \"title\": \"great and sacred is the modest claim of streams to **nature**'s love, where 'er they flow;\", \"tokens\": \"great and sacred is the modest claim of streams to nature ' s love , where ' er they flow ;\", \"word\": \"nature\", \"poem_title\": \"The Avon\", \"author\": \"William Wordsworth\", \"period\": \"18th Century\", \"link\": \"http://public-domain-poetry.com/william-wordsworth/avon-4547\"}, {\"x\": -0.032550078, \"y\": -0.044466037, \"title\": \"countless blessings teams! ha! glad october, thou **art** welcome unto me! october's first-born\", \"tokens\": \"countless blessings teams ! ha ! glad october , thou art welcome unto me ! october ' s first - born\", \"word\": \"art\", \"poem_title\": \"Thoughts On The 1St October, 1781\", \"author\": \"Friedrich Schiller\", \"period\": \"18th Century\", \"link\": \"http://public-domain-poetry.com/friedrich-schiller/thoughts-on-the-1st-october-1781-30674\"}, {\"x\": -0.032381166, \"y\": 0.03567724, \"title\": \"fleecy spoiler hastes, who makes all **nature**'s chords resound with discord dull,\", \"tokens\": \"flee ##cy spoil ##er haste ##s , who makes all nature ' s chords res ##ound with disco ##rd dull ,\", \"word\": \"nature\", \"poem_title\": \"Thoughts On The 1St October, 1781\", \"author\": \"Friedrich Schiller\", \"period\": \"18th Century\", \"link\": \"http://public-domain-poetry.com/friedrich-schiller/thoughts-on-the-1st-october-1781-30674\"}, {\"x\": -0.030990573, \"y\": -0.04885418, \"title\": \"thy wings opened wide for smoothest flight, thou **art** discovered in a roofless tower, rising from what\", \"tokens\": \"thy wings opened wide for smooth ##est flight , thou art discovered in a roof ##less tower , rising from what\", \"word\": \"art\", \"poem_title\": \"The Leaves That Rustled On This Oak-Crowned Hill\", \"author\": \"William Wordsworth\", \"period\": \"18th Century\", \"link\": \"http://public-domain-poetry.com/william-wordsworth/leaves-that-rustled-on-this-oak-crowned-hill-4622\"}, {\"x\": -0.03368426, \"y\": -0.014692254, \"title\": \"? alas! the sanctities combined by **art** to unsensualise the mind, decay\", \"tokens\": \"? ala ##s ! the san ##ct ##ities combined by art to un ##sen ##su ##alis ##e the mind , decay\", \"word\": \"art\", \"poem_title\": \"Devotional Incitements\", \"author\": \"William Wordsworth\", \"period\": \"18th Century\", \"link\": \"http://public-domain-poetry.com/william-wordsworth/devotional-incitements-4558\"}, {\"x\": -0.031222876, \"y\": 0.03221305, \"title\": \"on the swift wings of day and night, kind **nature** keeps a heavenly door wide open for the scattered poor\", \"tokens\": \"on the swift wings of day and night , kind nature keeps a heavenly door wide open for the scattered poor\", \"word\": \"nature\", \"poem_title\": \"Devotional Incitements\", \"author\": \"William Wordsworth\", \"period\": \"18th Century\", \"link\": \"http://public-domain-poetry.com/william-wordsworth/devotional-incitements-4558\"}, {\"x\": -0.032498516, \"y\": -0.011454926, \"title\": \"what, and how great, the virtue and the **art** to live on little with a cheerful heart; (\", \"tokens\": \"what , and how great , the virtue and the art to live on little with a cheerful heart ; (\", \"word\": \"art\", \"poem_title\": \"Satires And Epistles Of Horace Imitated. - Satire II. To Mr Bethel\", \"author\": \"Alexander Pope\", \"period\": \"18th Century\", \"link\": \"http://public-domain-poetry.com/alexander-pope/satires-and-epistles-of-horace-imitated-satire-ii-to-mr-bethel-28811\"}, {\"x\": -0.031487945, \"y\": 0.030601555, \"title\": \"aye! that's the way to make all **nature** out. ` doubt, doubt, and don '\", \"tokens\": \"aye ! that ' s the way to make all nature out . ` doubt , doubt , and don '\", \"word\": \"nature\", \"poem_title\": \"You Don't Believe\", \"author\": \"William Blake\", \"period\": \"18th Century\", \"link\": \"http://public-domain-poetry.com/william-blake/you-dont-believe-9292\"}, {\"x\": -0.033231806, \"y\": -0.039787423, \"title\": \"seemed favourites of heaven. whoe 'er thou **art** whose path in summer lies through yonder village,\", \"tokens\": \"seemed favourites of heaven . who ##e ' er thou art whose path in summer lies through yo ##nder village ,\", \"word\": \"art\", \"poem_title\": \"Whoe'er Thou Art Whose Pat In Summer Lies\", \"author\": \"Mark Akenside\", \"period\": \"18th Century\", \"link\": \"http://public-domain-poetry.com/mark-akenside/whoeer-thou-art-whose-pat-in-summer-lies-3690\"}, {\"x\": -0.033205003, \"y\": -0.014924284, \"title\": \"edmund rest, the learned shepherd; for each rural **art** fam'd, and for songs harmonious\", \"tokens\": \"edmund rest , the learned shepherd ; for each rural art fa ##m ' d , and for songs harmon ##ious\", \"word\": \"art\", \"poem_title\": \"Whoe'er Thou Art Whose Pat In Summer Lies\", \"author\": \"Mark Akenside\", \"period\": \"18th Century\", \"link\": \"http://public-domain-poetry.com/mark-akenside/whoeer-thou-art-whose-pat-in-summer-lies-3690\"}, {\"x\": -0.03370352, \"y\": 0.032854456, \"title\": \"ac'd them here. harmonious powers with **nature** work on sky, earth, river, lake and\", \"tokens\": \"##ac ' d them here . harmon ##ious powers with nature work on sky , earth , river , lake and\", \"word\": \"nature\", \"poem_title\": \"Floating Island\", \"author\": \"William Wordsworth\", \"period\": \"18th Century\", \"link\": \"http://public-domain-poetry.com/william-wordsworth/floating-island-4712\"}, {\"x\": -0.03302309, \"y\": 0.03546801, \"title\": \"seasons'space this little island may survive; but **nature**, though we mark her not, will take away\", \"tokens\": \"seasons ' space this little island may survive ; but nature , though we mark her not , will take away\", \"word\": \"nature\", \"poem_title\": \"Floating Island\", \"author\": \"William Wordsworth\", \"period\": \"18th Century\", \"link\": \"http://public-domain-poetry.com/william-wordsworth/floating-island-4712\"}, {\"x\": -0.0334865, \"y\": -0.027676452, \"title\": \"ate fragrance breathed. o human life, that never **art** secure from dolorous change! behold a high\", \"tokens\": \"##ate fragrance breathed . o human life , that never art secure from do ##lor ##ous change ! behold a high\", \"word\": \"art\", \"poem_title\": \"Epitaphs Ii. Perhaps Some Needful Service Of The State\", \"author\": \"William Wordsworth\", \"period\": \"18th Century\", \"link\": \"http://public-domain-poetry.com/william-wordsworth/epitaphs-ii-perhaps-some-needful-service-of-the-state-4196\"}, {\"x\": -0.033049576, \"y\": 0.029554078, \"title\": \"meek, and meg was mild, bonnie meg was **nature**'s child; wiser men than me '\", \"tokens\": \"meek , and meg was mild , bonnie meg was nature ' s child ; wise ##r men than me '\", \"word\": \"nature\", \"poem_title\": \"First When Maggy Was My Care\", \"author\": \"Robert Burns\", \"period\": \"18th Century\", \"link\": \"http://public-domain-poetry.com/robert-burns/first-when-maggy-was-my-care-10199\"}, {\"x\": -0.031888936, \"y\": 0.030471772, \"title\": \"mid the deep quiet of this morning hour, all **nature** seems to hear me while i speak, by feelings\", \"tokens\": \"mid the deep quiet of this morning hour , all nature seems to hear me while i speak , by feelings\", \"word\": \"nature\", \"poem_title\": \"The Morning Of The Day Appointed For A General Thanksgiving. January 18, 1816\", \"author\": \"William Wordsworth\", \"period\": \"18th Century\", \"link\": \"http://public-domain-poetry.com/william-wordsworth/morning-of-the-day-appointed-for-a-general-thanksgiving-january-18-1816-4068\"}, {\"x\": -0.033260383, \"y\": 0.033383682, \"title\": \"whole race enslaved, cut off that charter they from **nature** drew, and made them slaves to men they never\", \"tokens\": \"whole race enslaved , cut off that charter they from nature drew , and made them slaves to men they never\", \"word\": \"nature\", \"poem_title\": \"Gotham.[1] Book I\", \"author\": \"Charles Churchill\", \"period\": \"18th Century\", \"link\": \"http://public-domain-poetry.com/charles-churchill/gotham-book-i-12188\"}, {\"x\": -0.03131662, \"y\": 0.03816475, \"title\": \"breeks. \\\"i. again rejoicing **nature** sees her robe assume its vernal hues\", \"tokens\": \"bree ##ks . \\\" i . again re ##jo ##icing nature sees her robe assume its ve ##rna ##l hue ##s\", \"word\": \"nature\", \"poem_title\": \"Menie\", \"author\": \"Robert Burns\", \"period\": \"18th Century\", \"link\": \"http://public-domain-poetry.com/robert-burns/menie-10149\"}, {\"x\": -0.03359157, \"y\": 0.027421419, \"title\": \"gloom will sooth my cheerless soul, when **nature** all is sad like me! and maun i\", \"tokens\": \"gloom will soo ##th my cheer ##less soul , when nature all is sad like me ! and ma ##un i\", \"word\": \"nature\", \"poem_title\": \"Menie\", \"author\": \"Robert Burns\", \"period\": \"18th Century\", \"link\": \"http://public-domain-poetry.com/robert-burns/menie-10149\"}, {\"x\": -0.03384944, \"y\": -0.014051486, \"title\": \"d to thine; transports not chargeable with **art** illume the land's remote ring and staff\", \"tokens\": \"##d to thin ##e ; transports not charge ##able with art ill ##ume the land ' s remote ring and staff\", \"word\": \"art\", \"poem_title\": \"Annus Memorabilis, 1789. Written In Commemoration Of His Majesty's Happy Recovery\", \"author\": \"William Cowper\", \"period\": \"18th Century\", \"link\": \"http://public-domain-poetry.com/william-cowper/annus-memorabilis-1789-written-in-commemoration-of-his-majestys-happy-recovery-13131\"}, {\"x\": -0.034160607, \"y\": 0.033189278, \"title\": \", virtue, dost thou blame desire, which **nature** has imprest? why, **nature**, dost\", \"tokens\": \", virtue , dos ##t thou blame desire , which nature has imp ##rest ? why , nature , dos ##t\", \"word\": \"nature\", \"poem_title\": \"Chorus Of Youths And Virgins\", \"author\": \"Alexander Pope\", \"period\": \"18th Century\", \"link\": \"http://public-domain-poetry.com/alexander-pope/chorus-of-youths-and-virgins-1644\"}, {\"x\": -0.03353752, \"y\": 0.028911531, \"title\": \"desire, which **nature** has imprest? why, **nature**, dost thou soonest fire the mild and\", \"tokens\": \"desire , which nature has imp ##rest ? why , nature , dos ##t thou soon ##est fire the mild and\", \"word\": \"nature\", \"poem_title\": \"Chorus Of Youths And Virgins\", \"author\": \"Alexander Pope\", \"period\": \"18th Century\", \"link\": \"http://public-domain-poetry.com/alexander-pope/chorus-of-youths-and-virgins-1644\"}, {\"x\": -0.03133868, \"y\": -0.032265753, \"title\": \"lint-white locks, bonnie lassie, **artless** lassie, wilt thou wi 'me\", \"tokens\": \"lin ##t - white locks , bonnie lass ##ie , art ##less lass ##ie , wil ##t thou wi ' me\", \"word\": \"art\", \"poem_title\": \"Lassie Wi' The Lint-White Locks\", \"author\": \"Robert Burns\", \"period\": \"18th Century\", \"link\": \"http://public-domain-poetry.com/robert-burns/lassie-wi-the-lint-white-locks-10357\"}, {\"x\": -0.03439072, \"y\": 0.025234312, \"title\": \"t thou be my dearie, o? now **nature** cleeds the flowery lea, and a\", \"tokens\": \"##t thou be my dear ##ie , o ? now nature cl ##eed ##s the flower ##y lea , and a\", \"word\": \"nature\", \"poem_title\": \"A Conjuration To Electra\", \"author\": \"Robert Herrick\", \"period\": \"16th-17th Centuries (Early Modern)\", \"link\": \"http://public-domain-poetry.com/robert-herrick/conjuration-to-electra-2152\"}, {\"x\": -0.030626865, \"y\": -0.032004606, \"title\": \"lint-white locks, bonnie lassie, **artless** lassie, wilt thou wi 'me\", \"tokens\": \"lin ##t - white locks , bonnie lass ##ie , art ##less lass ##ie , wil ##t thou wi ' me\", \"word\": \"art\", \"poem_title\": \"Lassie Wi' The Lint-White Locks\", \"author\": \"Robert Burns\", \"period\": \"18th Century\", \"link\": \"http://public-domain-poetry.com/robert-burns/lassie-wi-the-lint-white-locks-10357\"}, {\"x\": -0.03001311, \"y\": -0.04760578, \"title\": \"many are our heroes; garve, well **art** thou named, many are the sons of our king\", \"tokens\": \"many are our heroes ; ga ##r ##ve , well art thou named , many are the sons of our king\", \"word\": \"art\", \"poem_title\": \"Fragments Of Ancient Poetry, Fragment XIII\", \"author\": \"James Macpherson\", \"period\": \"18th Century\", \"link\": \"http://public-domain-poetry.com/james-macpherson/fragments-of-ancient-poetry-fragment-xiii-25678\"}, {\"x\": -0.032505356, \"y\": 0.03877423, \"title\": \"heaven o 'erthrown, and gasping **nature**'s last tremendous groan; death's ancient\", \"tokens\": \"heaven o ' er ##th ##row ##n , and gasping nature ' s last tremendous groan ; death ' s ancient\", \"word\": \"nature\", \"poem_title\": \"The Last Day. Book I\", \"author\": \"Edward Young\", \"period\": \"18th Century\", \"link\": \"http://public-domain-poetry.com/edward-young/last-day-book-i-34593\"}, {\"x\": -0.032720592, \"y\": 0.03863227, \"title\": \"in god's great offspring, beauteous **nature**'s face: see spring's gay bloom\", \"tokens\": \"in god ' s great offspring , beau ##te ##ous nature ' s face : see spring ' s gay bloom\", \"word\": \"nature\", \"poem_title\": \"The Last Day. Book I\", \"author\": \"Edward Young\", \"period\": \"18th Century\", \"link\": \"http://public-domain-poetry.com/edward-young/last-day-book-i-34593\"}, {\"x\": -0.030365618, \"y\": -0.04344033, \"title\": \"rising sun, and on the plains descend; yet **art** thou welcome, welcome as a friend whose zeal\", \"tokens\": \"rising sun , and on the plains descend ; yet art thou welcome , welcome as a friend whose ze ##al\", \"word\": \"art\", \"poem_title\": \"Welcome, welcome, do I sing,\", \"author\": \"William Browne\", \"period\": \"16th-17th Centuries (Early Modern)\", \"link\": \"http://public-domain-poetry.com/william-browne/welcome-welcome-do-i-sing-36478\"}, {\"x\": -0.03334306, \"y\": 0.03650238, \"title\": \"rgundian grape of taste; the smiles of **nature** could no blessing bring, the fruitful autumn,\", \"tokens\": \"##rg ##und ##ian grape of taste ; the smiles of nature could no blessing bring , the fruit ##ful autumn ,\", \"word\": \"nature\", \"poem_title\": \"And Epistle To The Right Hon. George Lord Lansdowne\", \"author\": \"Edward Young\", \"period\": \"18th Century\", \"link\": \"http://public-domain-poetry.com/edward-young/and-epistle-to-the-right-hon-george-lord-lansdowne-34620\"}, {\"x\": -0.034343056, \"y\": -0.035855405, \"title\": \"blame, rousseau's grave, how dear thou **art** to me calm repose be to thy ashes b\", \"tokens\": \"blame , rousseau ' s grave , how dear thou art to me calm rep ##ose be to thy ashes b\", \"word\": \"art\", \"poem_title\": \"Rousseau\", \"author\": \"Friedrich Schiller\", \"period\": \"18th Century\", \"link\": \"http://public-domain-poetry.com/friedrich-schiller/rousseau-30712\"}, {\"x\": -0.034376465, \"y\": 0.035512075, \"title\": \"as fancy wove the dream, to time and **nature**'s blended powers i gave this paradise for winter\", \"tokens\": \"as fancy wo ##ve the dream , to time and nature ' s blended powers i gave this paradise for winter\", \"word\": \"nature\", \"poem_title\": \"To Lady Beaumont\", \"author\": \"William Wordsworth\", \"period\": \"18th Century\", \"link\": \"http://public-domain-poetry.com/william-wordsworth/to-lady-beaumont-4108\"}, {\"x\": -0.03296842, \"y\": 0.03443195, \"title\": \"haste, my verse! to greet adorning **nature** in his sylvan seat! his southern hermit\", \"tokens\": \"haste , my verse ! to greet ad ##orn ##ing nature in his sy ##lva ##n seat ! his southern hermit\", \"word\": \"nature\", \"poem_title\": \"Epistle To The Bishop Of Landaff\", \"author\": \"William Hayley\", \"period\": \"18th Century\", \"link\": \"http://public-domain-poetry.com/william-hayley/epistle-to-the-bishop-of-landaff-18212\"}, {\"x\": -0.030505385, \"y\": 0.020737568, \"title\": \"his voice, with new delight, imparting **science**, or celestial truth, with latin eloque\", \"tokens\": \"his voice , with new delight , imp ##art ##ing science , or celestial truth , with latin el ##o ##que\", \"word\": \"science\", \"poem_title\": \"Epistle To The Bishop Of Landaff\", \"author\": \"William Hayley\", \"period\": \"18th Century\", \"link\": \"http://public-domain-poetry.com/william-hayley/epistle-to-the-bishop-of-landaff-18212\"}, {\"x\": -0.031353038, \"y\": -0.014691055, \"title\": \"heart, sighs for that lost marcellus of his **art**, still can i joy, that with rare length\", \"tokens\": \"heart , sighs for that lost marcel ##lus of his art , still can i joy , that with rare length\", \"word\": \"art\", \"poem_title\": \"Epistle To The Bishop Of Landaff\", \"author\": \"William Hayley\", \"period\": \"18th Century\", \"link\": \"http://public-domain-poetry.com/william-hayley/epistle-to-the-bishop-of-landaff-18212\"}, {\"x\": -0.032035083, \"y\": -0.04655838, \"title\": \"away, and thy rebellious worm is still. thou **art** as ready to forgive as i am ready to rep\", \"tokens\": \"away , and thy rebellious worm is still . thou art as ready to forgive as i am ready to rep\", \"word\": \"art\", \"poem_title\": \"Peace After A Storm\", \"author\": \"William Cowper\", \"period\": \"18th Century\", \"link\": \"http://public-domain-poetry.com/william-cowper/peace-after-a-storm-13270\"}, {\"x\": -0.02922806, \"y\": 0.01454124, \"title\": \"i then might assuage in the ways of **religion** and truth, might learn from the wisdom of age\", \"tokens\": \"i then might ass ##ua ##ge in the ways of religion and truth , might learn from the wisdom of age\", \"word\": \"religion\", \"poem_title\": \"Verses, Supposed To Be Written By Alexander Selkirk, During His Solitary Abode In The Island Of Juan Fernandez\", \"author\": \"William Cowper\", \"period\": \"18th Century\", \"link\": \"http://public-domain-poetry.com/william-cowper/verses-supposed-to-be-written-by-alexander-selkirk-during-his-solitary-abode-in-the-island-of-juan--13091\"}, {\"x\": -0.029230371, \"y\": 0.009256632, \"title\": \"cheer'd by the sallies of youth. **religion**! what treasure untold resides in that heavenly word\", \"tokens\": \"cheer ' d by the sal ##lies of youth . religion ! what treasure unto ##ld resides in that heavenly word\", \"word\": \"religion\", \"poem_title\": \"Verses, Supposed To Be Written By Alexander Selkirk, During His Solitary Abode In The Island Of Juan Fernandez\", \"author\": \"William Cowper\", \"period\": \"18th Century\", \"link\": \"http://public-domain-poetry.com/william-cowper/verses-supposed-to-be-written-by-alexander-selkirk-during-his-solitary-abode-in-the-island-of-juan--13091\"}, {\"x\": -0.03273332, \"y\": 0.039180707, \"title\": \"sought a cause to solve the mystery, not in **nature**'s laws but in man's fortunes.\", \"tokens\": \"sought a cause to solve the mystery , not in nature ' s laws but in man ' s fortunes .\", \"word\": \"nature\", \"poem_title\": \"Companion To The Foregoing\", \"author\": \"William Wordsworth\", \"period\": \"18th Century\", \"link\": \"http://public-domain-poetry.com/william-wordsworth/companion-to-the-foregoing-4747\"}, {\"x\": -0.032370154, \"y\": -0.013524333, \"title\": \"jurer; quick as he in feats of **art**, far beyond in joy of heart. were her\", \"tokens\": \"##jure ##r ; quick as he in feat ##s of art , far beyond in joy of heart . were her\", \"word\": \"art\", \"poem_title\": \"The Kitten And Falling Leaves\", \"author\": \"William Wordsworth\", \"period\": \"18th Century\", \"link\": \"http://public-domain-poetry.com/william-wordsworth/kitten-and-falling-leaves-4072\"}, {\"x\": -0.033930387, \"y\": 0.031960648, \"title\": \"steadily advanced to fill the shores and channels, working **nature**'s will among the mazy streams that backward\", \"tokens\": \"steadily advanced to fill the shores and channels , working nature ' s will among the ma ##zy streams that backward\", \"word\": \"nature\", \"poem_title\": \"A Fact, And An Imagination, Or, Canute And Alfred, On The Seashore\", \"author\": \"William Wordsworth\", \"period\": \"18th Century\", \"link\": \"http://public-domain-poetry.com/william-wordsworth/fact-and-an-imagination-or-canute-and-alfred-on-the-seashore-3905\"}, {\"x\": -0.034807056, \"y\": 0.030106878, \"title\": \"limmering of faith and hope if thou, by **nature**'s doom, gently hast sunk into the\", \"tokens\": \"##lim ##mering of faith and hope if thou , by nature ' s doom , gently has ##t sunk into the\", \"word\": \"nature\", \"poem_title\": \"On The Death Of His Majesty (George The Third)\", \"author\": \"William Wordsworth\", \"period\": \"18th Century\", \"link\": \"http://public-domain-poetry.com/william-wordsworth/on-the-death-of-his-majesty-george-the-third-4254\"}, {\"x\": -0.026147107, \"y\": 0.025197566, \"title\": \"ve, we'd be the best good-**natured** things alive. there are, 'tis true\", \"tokens\": \"##ve , we ' d be the best good - nature ##d things alive . there are , ' tis true\", \"word\": \"nature\", \"poem_title\": \"Epistle To A Friend, On The Divinity Of Our Saviour\", \"author\": \"William Hayley\", \"period\": \"18th Century\", \"link\": \"http://public-domain-poetry.com/william-hayley/epistle-to-a-friend-on-the-divinity-of-our-saviour-18216\"}, {\"x\": -0.032374103, \"y\": 0.015972879, \"title\": \"praise, and friend to learned ease, content with **science** in the vale of peace. calmly he look '\", \"tokens\": \"praise , and friend to learned ease , content with science in the vale of peace . calmly he look '\", \"word\": \"science\", \"poem_title\": \"Epitaph X. On Mr Elijah Fenton,[1] At Easthamstead, In Berks, 1730\", \"author\": \"Alexander Pope\", \"period\": \"18th Century\", \"link\": \"http://public-domain-poetry.com/alexander-pope/epitaph-x-on-mr-elijah-fenton-at-easthamstead-in-berks-1730-28797\"}, {\"x\": -0.033960626, \"y\": 0.034017317, \"title\": \"nothing to regret, or there to fear; from **nature**'s temperate feast rose satisfied, thank'd\", \"tokens\": \"nothing to regret , or there to fear ; from nature ' s temperate feast rose satisfied , thank ' d\", \"word\": \"nature\", \"poem_title\": \"Epitaph X. On Mr Elijah Fenton,[1] At Easthamstead, In Berks, 1730\", \"author\": \"Alexander Pope\", \"period\": \"18th Century\", \"link\": \"http://public-domain-poetry.com/alexander-pope/epitaph-x-on-mr-elijah-fenton-at-easthamstead-in-berks-1730-28797\"}, {\"x\": -0.033895947, \"y\": 0.03288646, \"title\": \"'pride, patron of arts, and judge of **nature**, died. the scourge of pride,\", \"tokens\": \"' pride , patron of arts , and judge of nature , died . the sc ##our ##ge of pride ,\", \"word\": \"nature\", \"poem_title\": \"An English Ballad, On The Taking Of Namur, By The King Of Great Britain\", \"author\": \"Matthew Prior\", \"period\": \"16th-17th Centuries (Early Modern)\", \"link\": \"http://public-domain-poetry.com/matthew-prior/an-english-ballad-on-the-taking-of-namur-by-the-king-of-great-britain-2945\"}, {\"x\": -0.032244086, \"y\": 0.025581317, \"title\": \"and of knaves in state: yet soft his **nature**, though severe his lay, his anger moral,\", \"tokens\": \"and of kn ##aves in state : yet soft his nature , though severe his lay , his anger moral ,\", \"word\": \"nature\", \"poem_title\": \"Epitaph I. On Charles Earl Of Dorset, In The Church Of Withyam, In Sussex\", \"author\": \"Alexander Pope\", \"period\": \"18th Century\", \"link\": \"http://public-domain-poetry.com/alexander-pope/epitaph-i-on-charles-earl-of-dorset-in-the-church-of-withyam-in-sussex-28788\"}, {\"x\": -0.03396907, \"y\": 0.024195539, \"title\": \"eyes of youthful monarchs driven to pen the mandates, **nature** doth disown. sir, o '\", \"tokens\": \"eyes of youthful monarchs driven to pen the mandates , nature dot ##h di ##so ##wn . sir , o '\", \"word\": \"nature\", \"poem_title\": \"Astrophel and Stella - Sonnet XXXV\", \"author\": \"Philip Sidney (Sir)\", \"period\": \"16th-17th Centuries (Early Modern)\", \"link\": \"http://public-domain-poetry.com/sir-philip-sidney/astrophel-and-stella-sonnet-xxxv-31866\"}, {\"x\": -0.029372357, \"y\": 0.016020488, \"title\": \"ll get him up on board at once; for **science** teaches me, he will be wet if he remains\", \"tokens\": \"ll get him up on board at once ; for science teaches me , he will be wet if he remains\", \"word\": \"science\", \"poem_title\": \"Of The Dangers Attending Altruism On The High Seas\", \"author\": \"Gilbert Keith Chesterton\", \"period\": \"20th Century\", \"link\": \"http://public-domain-poetry.com/gilbert-keith-chesterton/of-the-dangers-attending-altruism-on-the-high-seas-12109\"}, {\"x\": -0.032650705, \"y\": 0.027660027, \"title\": \"'s way on the woods below, filling all **nature** where its pathway lies with arms that supplica\", \"tokens\": \"' s way on the woods below , filling all nature where its pathway lies with arms that su ##pp ##lica\", \"word\": \"nature\", \"poem_title\": \"Sonnet XII\", \"author\": \"Alan Seeger\", \"period\": \"20th Century\", \"link\": \"http://public-domain-poetry.com/alan-seeger/sonnet-xii-30801\"}, {\"x\": -0.03200377, \"y\": -0.038951285, \"title\": \"roving,--dearest one, thou **art** my star. i. moonlight silvers the tops\", \"tokens\": \"ro ##ving , - - dear ##est one , thou art my star . i . moonlight silver ##s the tops\", \"word\": \"art\", \"poem_title\": \"Nocturne Of Remembered Spring\", \"author\": \"Conrad Potter Aiken\", \"period\": \"20th Century\", \"link\": \"http://public-domain-poetry.com/conrad-potter-aiken/nocturne-of-remembered-spring-7287\"}, {\"x\": -0.031873256, \"y\": -0.014885037, \"title\": \"'ve courted thee, and used each cunning **art** and wile, which lovers use with maidens\", \"tokens\": \"' ve court ##ed thee , and used each cunning art and wil ##e , which lovers use with maiden ##s\", \"word\": \"art\", \"poem_title\": \"Happiness\", \"author\": \"Thomas Frederick Young\", \"period\": \"20th Century\", \"link\": \"http://public-domain-poetry.com/thomas-frederick-young/happiness-34537\"}, {\"x\": -0.0324282, \"y\": -0.011740222, \"title\": \"were those of the silver tongue and the honeyed **art** to beguile, who would cozen the\", \"tokens\": \"were those of the silver tongue and the honey ##ed art to beg ##uil ##e , who would co ##zen the\", \"word\": \"art\", \"poem_title\": \"Amour 20\", \"author\": \"Michael Drayton\", \"period\": \"16th-17th Centuries (Early Modern)\", \"link\": \"http://public-domain-poetry.com/michael-drayton/amour-20-14457\"}, {\"x\": -0.031559706, \"y\": -0.020324556, \"title\": \"an 'brig, all their crack is o '**art**-staities an 'picturs an\", \"tokens\": \"an ' brig , all their crack is o ' art - st ##ai ##ties an ' pic ##tur ##s an\", \"word\": \"art\", \"poem_title\": \"The Artist\", \"author\": \"Frederic William Moorman\", \"period\": \"20th Century\", \"link\": \"http://public-domain-poetry.com/frederic-william-moorman/artist-27389\"}, {\"x\": -0.030878918, \"y\": -0.025664074, \"title\": \"turs that brass has bowt? all his **art** is i 't 'mistal, whee\", \"tokens\": \"##tur ##s that brass has bow ##t ? all his art is i ' t ' mist ##al , w ##hee\", \"word\": \"art\", \"poem_title\": \"The Artist\", \"author\": \"Frederic William Moorman\", \"period\": \"20th Century\", \"link\": \"http://public-domain-poetry.com/frederic-william-moorman/artist-27389\"}, {\"x\": -0.031011662, \"y\": -0.023969091, \"title\": \"ent the craft that is breed? anent the **art** that is life, what's figures o '\", \"tokens\": \"##ent the craft that is breed ? an ##ent the art that is life , what ' s figures o '\", \"word\": \"art\", \"poem_title\": \"The Artist\", \"author\": \"Frederic William Moorman\", \"period\": \"20th Century\", \"link\": \"http://public-domain-poetry.com/frederic-william-moorman/artist-27389\"}, {\"x\": -0.030852497, \"y\": -0.01994548, \"title\": \"o's life, an shoo's **art**, bred frae a westmorland statesman out\", \"tokens\": \"##o ' s life , an sho ##o ' s art , bred fra ##e a west ##mo ##rland statesman out\", \"word\": \"art\", \"poem_title\": \"The Artist\", \"author\": \"Frederic William Moorman\", \"period\": \"20th Century\", \"link\": \"http://public-domain-poetry.com/frederic-william-moorman/artist-27389\"}, {\"x\": -0.032333504, \"y\": -0.048240382, \"title\": \"child of the day, to thee; and thou **art** drawn by kindred impulse over silver tides the dream\", \"tokens\": \"child of the day , to thee ; and thou art drawn by kind ##red impulse over silver tides the dream\", \"word\": \"art\", \"poem_title\": \"Child Of Dawn\", \"author\": \"Harold Edward Monro\", \"period\": \"20th Century\", \"link\": \"http://public-domain-poetry.com/harold-edward-monro/child-of-dawn-38025\"}, {\"x\": -0.032594472, \"y\": -0.045772348, \"title\": \"repose; thy lips are frail, and thou **art** cooler than an april rose; white are thy words\", \"tokens\": \"rep ##ose ; thy lips are frail , and thou art cooler than an april rose ; white are thy words\", \"word\": \"art\", \"poem_title\": \"Child Of Dawn\", \"author\": \"Harold Edward Monro\", \"period\": \"20th Century\", \"link\": \"http://public-domain-poetry.com/harold-edward-monro/child-of-dawn-38025\"}, {\"x\": -0.031381693, \"y\": -0.04965974, \"title\": \"child of the day, to thee; and thou **art** drawn by kindred impulse over silver tides the dream\", \"tokens\": \"child of the day , to thee ; and thou art drawn by kind ##red impulse over silver tides the dream\", \"word\": \"art\", \"poem_title\": \"Child Of Dawn\", \"author\": \"Harold Edward Monro\", \"period\": \"20th Century\", \"link\": \"http://public-domain-poetry.com/harold-edward-monro/child-of-dawn-38025\"}, {\"x\": -0.026162347, \"y\": -0.021639043, \"title\": \"'keighley, i 'm a yorkshire artisan; an 'when i were just turned seventy\", \"tokens\": \"' kei ##gh ##ley , i ' m a yorkshire art ##isan ; an ' when i were just turned seventy\", \"word\": \"art\", \"poem_title\": \"The New Englishman\", \"author\": \"Frederic William Moorman\", \"period\": \"20th Century\", \"link\": \"http://public-domain-poetry.com/frederic-william-moorman/new-englishman-27379\"}, {\"x\": -0.029608529, \"y\": -0.04663775, \"title\": \"clash with the moon in our eyes: \\\"where **art** thou? \\\"he asks: \\\"i am here\", \"tokens\": \"clash with the moon in our eyes : \\\" where art thou ? \\\" he asks : \\\" i am here\", \"word\": \"art\", \"poem_title\": \"The Old Men\", \"author\": \"Walter De La Mare\", \"period\": \"20th Century\", \"link\": \"http://public-domain-poetry.com/walter-de-la-mare/old-men-33578\"}, {\"x\": -0.03172861, \"y\": -0.04596461, \"title\": \"that foe: heart cries unto heart, \\\"thou **art** old! \\\"yet, reluctant, we go.\", \"tokens\": \"that foe : heart cries unto heart , \\\" thou art old ! \\\" yet , reluctant , we go .\", \"word\": \"art\", \"poem_title\": \"The Old Men\", \"author\": \"Walter De La Mare\", \"period\": \"20th Century\", \"link\": \"http://public-domain-poetry.com/walter-de-la-mare/old-men-33578\"}, {\"x\": -0.028773103, \"y\": 0.022984117, \"title\": \"severing, for it isn 't my **nature** to grump, ) i acknowledge a measure of\", \"tokens\": \"se ##ver ##ing , for it isn ' t my nature to gr ##ump , ) i acknowledge a measure of\", \"word\": \"nature\", \"poem_title\": \"Envoi\", \"author\": \"Guy Wetmore Carryl\", \"period\": \"20th Century\", \"link\": \"http://public-domain-poetry.com/guy-wetmore-carryl/envoi-12907\"}, {\"x\": -0.02707017, \"y\": 0.02030528, \"title\": \". \\\"--the eugenic congress. when **science** taught mankind to breathe a little while ago, only\", \"tokens\": \". \\\" - - the eugen ##ic congress . when science taught mankind to breathe a little while ago , only\", \"word\": \"science\", \"poem_title\": \"Songs Of Education: VI. Hygiene\", \"author\": \"Gilbert Keith Chesterton\", \"period\": \"20th Century\", \"link\": \"http://public-domain-poetry.com/gilbert-keith-chesterton/songs-of-education-vi-hygiene-33630\"}, {\"x\": -0.029014587, \"y\": 0.02132383, \"title\": \"\\\"the youth would answer \\\"blow! \\\"when **science** proved with lucid care the need of exercise,\", \"tokens\": \"\\\" the youth would answer \\\" blow ! \\\" when science proved with luc ##id care the need of exercise ,\", \"word\": \"science\", \"poem_title\": \"Songs Of Education: VI. Hygiene\", \"author\": \"Gilbert Keith Chesterton\", \"period\": \"20th Century\", \"link\": \"http://public-domain-poetry.com/gilbert-keith-chesterton/songs-of-education-vi-hygiene-33630\"}, {\"x\": -0.027434476, \"y\": 0.015701968, \"title\": \"the germ instead. for this at least be **science** praised if all the rest be rot, that now\", \"tokens\": \"the ge ##rm instead . for this at least be science praised if all the rest be rot , that now\", \"word\": \"science\", \"poem_title\": \"Songs Of Education: VI. Hygiene\", \"author\": \"Gilbert Keith Chesterton\", \"period\": \"20th Century\", \"link\": \"http://public-domain-poetry.com/gilbert-keith-chesterton/songs-of-education-vi-hygiene-33630\"}, {\"x\": -0.032752395, \"y\": -0.021059312, \"title\": \"o 'erfull heart, without aim or **art**; 't is a song of the merries\", \"tokens\": \"o ' er ##ful ##l heart , without aim or art ; ' t is a song of the mer ##ries\", \"word\": \"art\", \"poem_title\": \"In Summer\", \"author\": \"Paul Laurence Dunbar\", \"period\": \"20th Century\", \"link\": \"http://public-domain-poetry.com/paul-laurence-dunbar/in-summer-14839\"}, {\"x\": -0.03324864, \"y\": -0.0169609, \"title\": \"ye who moil in the mart, hear the **artless** song, and your faith made strong shall renew\", \"tokens\": \"ye who moi ##l in the mart , hear the art ##less song , and your faith made strong shall renew\", \"word\": \"art\", \"poem_title\": \"In Summer\", \"author\": \"Paul Laurence Dunbar\", \"period\": \"20th Century\", \"link\": \"http://public-domain-poetry.com/paul-laurence-dunbar/in-summer-14839\"}, {\"x\": -0.028716886, \"y\": 0.032849118, \"title\": \"our music, and love is its one reward. **nature**'s first green is gold, her hardest hue\", \"tokens\": \"our music , and love is its one reward . nature ' s first green is gold , her hardest hue\", \"word\": \"nature\", \"poem_title\": \"Nothing Gold Can Stay\", \"author\": \"Robert Lee Frost\", \"period\": \"20th Century\", \"link\": \"http://public-domain-poetry.com/robert-lee-frost/nothing-gold-can-stay-1213\"}, {\"x\": -0.02816974, \"y\": 0.01526683, \"title\": \"( tears and dreams for them; for me bitter **science**-the exams. are near. i wish i\", \"tokens\": \"( tears and dreams for them ; for me bitter science - the exams . are near . i wish i\", \"word\": \"science\", \"poem_title\": \"Study\", \"author\": \"D. H. Lawrence (David Herbert Richards)\", \"period\": \"20th Century\", \"link\": \"http://public-domain-poetry.com/d-h-lawrence/study-22781\"}, {\"x\": -0.033569336, \"y\": 0.03471676, \"title\": \"pure as he; cling with my love to **nature** as a child to the mother-knee. but\", \"tokens\": \"pure as he ; cl ##ing with my love to nature as a child to the mother - knee . but\", \"word\": \"nature\", \"poem_title\": \"The Three Voices\", \"author\": \"Robert William Service\", \"period\": \"20th Century\", \"link\": \"http://public-domain-poetry.com/robert-william-service/three-voices-30989\"}, {\"x\": -0.03153027, \"y\": -0.0459703, \"title\": \", and world is singing to world. \\\"thou **art** a fool, \\\"said my head to my heart\", \"tokens\": \", and world is singing to world . \\\" thou art a fool , \\\" said my head to my heart\", \"word\": \"art\", \"poem_title\": \"Retort\", \"author\": \"Paul Laurence Dunbar\", \"period\": \"20th Century\", \"link\": \"http://public-domain-poetry.com/paul-laurence-dunbar/retort-14730\"}, {\"x\": -0.030763695, \"y\": -0.04372556, \"title\": \"heart, \\\"indeed, the greatest of fools thou **art**, to be led astray by the trick of\", \"tokens\": \"heart , \\\" indeed , the greatest of fools thou art , to be led as ##tray by the trick of\", \"word\": \"art\", \"poem_title\": \"Retort\", \"author\": \"Paul Laurence Dunbar\", \"period\": \"20th Century\", \"link\": \"http://public-domain-poetry.com/paul-laurence-dunbar/retort-14730\"}, {\"x\": -0.031277183, \"y\": -0.04640133, \"title\": \"spoke out with a right bold air: \\\"thou **art** worse than a fool, o head! \\\"the\", \"tokens\": \"spoke out with a right bold air : \\\" thou art worse than a fool , o head ! \\\" the\", \"word\": \"art\", \"poem_title\": \"Retort\", \"author\": \"Paul Laurence Dunbar\", \"period\": \"20th Century\", \"link\": \"http://public-domain-poetry.com/paul-laurence-dunbar/retort-14730\"}, {\"x\": -0.028972575, \"y\": -0.022009434, \"title\": \"yesteryear. ii she is madonna in an **art** as wild and young as her sweet eyes: a\", \"tokens\": \"yes ##tery ##ear . ii she is madonna in an art as wild and young as her sweet eyes : a\", \"word\": \"art\", \"poem_title\": \"Mae Marsh, Motion Picture Actress\", \"author\": \"Vachel Lindsay\", \"period\": \"20th Century\", \"link\": \"http://public-domain-poetry.com/vachel-lindsay/mae-marsh-motion-picture-actress-23936\"}, {\"x\": -0.030283995, \"y\": -0.05132887, \"title\": \"phim, the poor dead carpenter. 'thou **art** the prince of all, 'they sang, '\", \"tokens\": \"##phi ##m , the poor dead carpenter . ' thou art the prince of all , ' they sang , '\", \"word\": \"art\", \"poem_title\": \"The Ballad Of God-Makers\", \"author\": \"Gilbert Keith Chesterton\", \"period\": \"20th Century\", \"link\": \"http://public-domain-poetry.com/gilbert-keith-chesterton/ballad-of-god-makers-12162\"}, {\"x\": -0.031391, \"y\": -0.048664797, \"title\": \"in the dead man's hair. 'thou **art** the sun of the world, 'they cried,\", \"tokens\": \"in the dead man ' s hair . ' thou art the sun of the world , ' they cried ,\", \"word\": \"art\", \"poem_title\": \"The Ballad Of God-Makers\", \"author\": \"Gilbert Keith Chesterton\", \"period\": \"20th Century\", \"link\": \"http://public-domain-poetry.com/gilbert-keith-chesterton/ballad-of-god-makers-12162\"}, {\"x\": -0.03067672, \"y\": -0.02543364, \"title\": \"\\\"the rush replied, \\\"it's an **art** these bows to do, an **art** i wouldn '\", \"tokens\": \"\\\" the rush replied , \\\" it ' s an art these bows to do , an art i wouldn '\", \"word\": \"art\", \"poem_title\": \"The Vainglorious Oak And The Modest Bulrush\", \"author\": \"Guy Wetmore Carryl\", \"period\": \"20th Century\", \"link\": \"http://public-domain-poetry.com/guy-wetmore-carryl/vainglorious-oak-and-the-modest-bulrush-12878\"}, {\"x\": -0.030526927, \"y\": -0.023330864, \"title\": \"'s an **art** these bows to do, an **art** i wouldn 't attempt if i'd such\", \"tokens\": \"' s an art these bows to do , an art i wouldn ' t attempt if i ' d such\", \"word\": \"art\", \"poem_title\": \"The Vainglorious Oak And The Modest Bulrush\", \"author\": \"Guy Wetmore Carryl\", \"period\": \"20th Century\", \"link\": \"http://public-domain-poetry.com/guy-wetmore-carryl/vainglorious-oak-and-the-modest-bulrush-12878\"}, {\"x\": -0.030688174, \"y\": -0.0458179, \"title\": \",--and i am human. but what **art** thou! 'my gladness answered me: '\", \"tokens\": \", - - and i am human . but what art thou ! ' my glad ##ness answered me : '\", \"word\": \"art\", \"poem_title\": \"Gladness\", \"author\": \"Josephine Preston Peabody\", \"period\": \"20th Century\", \"link\": \"http://public-domain-poetry.com/josephine-preston-peabody/gladness-28356\"}, {\"x\": -0.03455328, \"y\": 0.034609906, \"title\": \", sit in this green field all alone, if **nature** was not truly mine? that pleasure life wakes stale\", \"tokens\": \", sit in this green field all alone , if nature was not truly mine ? that pleasure life wakes stale\", \"word\": \"nature\", \"poem_title\": \"The Two Lives\", \"author\": \"William Henry Davies\", \"period\": \"20th Century\", \"link\": \"http://public-domain-poetry.com/william-henry-davies/two-lives-37673\"}, {\"x\": -0.033892937, \"y\": 0.028928906, \"title\": \"more winedrops than were his. such, **nature**, is thy charm and power, since i have\", \"tokens\": \"more wine ##drop ##s than were his . such , nature , is thy charm and power , since i have\", \"word\": \"nature\", \"poem_title\": \"The Two Lives\", \"author\": \"William Henry Davies\", \"period\": \"20th Century\", \"link\": \"http://public-domain-poetry.com/william-henry-davies/two-lives-37673\"}, {\"x\": -0.027818814, \"y\": 0.022673033, \"title\": \"time i stood and watched the small, ill-**natured** sparrows 'fray; i loved the beg\", \"tokens\": \"time i stood and watched the small , ill - nature ##d sparrow ##s ' fray ; i loved the beg\", \"word\": \"nature\", \"poem_title\": \"Alms\", \"author\": \"Edna St. Vincent Millay\", \"period\": \"20th Century\", \"link\": \"http://public-domain-poetry.com/edna-st-vincent-millay/alms-26306\"}, {\"x\": -0.03171281, \"y\": -0.010562592, \"title\": \"ing her fair transcendent, singing with piercing **art**, calling to ancient asia, wooing young europe\", \"tokens\": \"##ing her fair trans ##cend ##ent , singing with piercing art , calling to ancient asia , woo ##ing young europe\", \"word\": \"art\", \"poem_title\": \"The City That Will Not Repent\", \"author\": \"Vachel Lindsay\", \"period\": \"20th Century\", \"link\": \"http://public-domain-poetry.com/vachel-lindsay/city-that-will-not-repent-24033\"}, {\"x\": -0.03108997, \"y\": 0.034110263, \"title\": \"-day, w-w-w-when **nature** s-s-smiled and all w-w\", \"tokens\": \"- day , w - w - w - when nature s - s - smiled and all w - w\", \"word\": \"nature\", \"poem_title\": \"The Primrose Of The Rock\", \"author\": \"William Wordsworth\", \"period\": \"18th Century\", \"link\": \"http://public-domain-poetry.com/william-wordsworth/primrose-of-the-rock-3888\"}, {\"x\": -0.027308723, \"y\": -0.022407431, \"title\": \"harboured are more welcome to the **arts** than the **art** lover who is also a lover of the **art** of\", \"tokens\": \"harbour ##ed are more welcome to the arts than the art lover who is also a lover of the art of\", \"word\": \"art\", \"poem_title\": \"Not What Was Meant\", \"author\": \"Bertolt Brecht\", \"period\": \"20th Century\", \"link\": \"http://public-domain-poetry.com/bertolt-brecht/not-what-was-meant-1511\"}, {\"x\": -0.027687166, \"y\": -0.01801484, \"title\": \"the **art** lover who is also a lover of the **art** of war. i am myself at last; now\", \"tokens\": \"the art lover who is also a lover of the art of war . i am myself at last ; now\", \"word\": \"art\", \"poem_title\": \"I Am Like A Rose\", \"author\": \"D. H. Lawrence (David Herbert Richards)\", \"period\": \"20th Century\", \"link\": \"http://public-domain-poetry.com/d-h-lawrence/i-am-like-a-rose-22921\"}, {\"x\": -0.03270615, \"y\": -0.012513792, \"title\": \"the burning symbol of the love we bear? my **art** is words, yours song, but still must we\", \"tokens\": \"the burning symbol of the love we bear ? my art is words , yours song , but still must we\", \"word\": \"art\", \"poem_title\": \"Persuasion\", \"author\": \"Edward Shanks\", \"period\": \"20th Century\", \"link\": \"http://public-domain-poetry.com/edward-shanks/persuasion-37911\"}, {\"x\": -0.031627093, \"y\": -0.01450444, \"title\": \"a palace of beauty to the wonder and glory of **art**... yon's barret,\", \"tokens\": \"a palace of beauty to the wonder and glory of art . . . yo ##n ' s barre ##t ,\", \"word\": \"art\", \"poem_title\": \"The Three Tommies\", \"author\": \"Robert William Service\", \"period\": \"20th Century\", \"link\": \"http://public-domain-poetry.com/robert-william-service/three-tommies-31070\"}, {\"x\": -0.03122073, \"y\": -0.013999046, \"title\": \"less palace to the splendor and triumph of **art**. yet, alas! for the fame of\", \"tokens\": \"##less palace to the sp ##len ##dor and triumph of art . yet , ala ##s ! for the fame of\", \"word\": \"art\", \"poem_title\": \"The Three Tommies\", \"author\": \"Robert William Service\", \"period\": \"20th Century\", \"link\": \"http://public-domain-poetry.com/robert-william-service/three-tommies-31070\"}, {\"x\": -0.034083873, \"y\": 0.028583905, \"title\": \"not made by man, but rear'd by **nature**'s skill. the sweeping curve, the graceful\", \"tokens\": \"not made by man , but rear ' d by nature ' s skill . the sweeping curve , the graceful\", \"word\": \"nature\", \"poem_title\": \"A Snow Storm\", \"author\": \"Thomas Frederick Young\", \"period\": \"20th Century\", \"link\": \"http://public-domain-poetry.com/thomas-frederick-young/a-snow-storm-34551\"}, {\"x\": -0.03361326, \"y\": -0.039304227, \"title\": \"ing tear be shed. o singer sweet, thou **art** not dead! in spite of time's mali\", \"tokens\": \"##ing tear be shed . o singer sweet , thou art not dead ! in spite of time ' s mali\", \"word\": \"art\", \"poem_title\": \"Circumstances Alter Cases\", \"author\": \"Paul Laurence Dunbar\", \"period\": \"20th Century\", \"link\": \"http://public-domain-poetry.com/paul-laurence-dunbar/circumstances-alter-cases-15106\"}, {\"x\": -0.030207142, \"y\": 0.03258111, \"title\": \"ered as a stained zucchini and blame my **nature**: and when grassblades flop to the little\", \"tokens\": \"##ered as a stained zu ##cchi ##ni and blame my nature : and when grass ##bla ##des flop to the little\", \"word\": \"nature\", \"poem_title\": \"Cut The Grass\", \"author\": \"A. R. Ammons\", \"period\": \"20th Century\", \"link\": \"http://public-domain-poetry.com/a-r-ammons/cut-the-grass-2704\"}, {\"x\": -0.027763817, \"y\": 0.020676091, \"title\": \"knew the explorers of the sky, the pioneers of **science**, now made ready to attack that darkness once again\", \"tokens\": \"knew the explorers of the sky , the pioneers of science , now made ready to attack that darkness once again\", \"word\": \"science\", \"poem_title\": \"Watchers Of The Sky\", \"author\": \"Alfred Noyes\", \"period\": \"20th Century\", \"link\": \"http://public-domain-poetry.com/alfred-noyes/watchers-of-the-sky-28090\"}, {\"x\": -0.033431545, \"y\": 0.030447945, \"title\": \"i would eschew mine every task, in **nature**'s smiles my soul should bask, and\", \"tokens\": \"i would es ##che ##w mine every task , in nature ' s smiles my soul should bas ##k , and\", \"word\": \"nature\", \"poem_title\": \"In August\", \"author\": \"Paul Laurence Dunbar\", \"period\": \"20th Century\", \"link\": \"http://public-domain-poetry.com/paul-laurence-dunbar/in-august-14912\"}, {\"x\": -0.032615285, \"y\": 0.02848064, \"title\": \", is dearly bought. man's lower **nature** troubles scarce the low, but, like a fi\", \"tokens\": \", is dear ##ly bought . man ' s lower nature troubles scarce the low , but , like a fi\", \"word\": \"nature\", \"poem_title\": \"Byron\", \"author\": \"Thomas Frederick Young\", \"period\": \"20th Century\", \"link\": \"http://public-domain-poetry.com/thomas-frederick-young/byron-34588\"}, {\"x\": -0.029528048, \"y\": 0.030474408, \"title\": \"low, but, like a fiend, at **natures** high doth go. of such a **nature**\", \"tokens\": \"low , but , like a fi ##end , at nature ##s high dot ##h go . of such a nature\", \"word\": \"nature\", \"poem_title\": \"Byron\", \"author\": \"Thomas Frederick Young\", \"period\": \"20th Century\", \"link\": \"http://public-domain-poetry.com/thomas-frederick-young/byron-34588\"}, {\"x\": -0.031588234, \"y\": 0.032862477, \"title\": \"**natures** high doth go. of such a **nature**, now, these lines shall tell, who wrote\", \"tokens\": \"nature ##s high dot ##h go . of such a nature , now , these lines shall tell , who wrote\", \"word\": \"nature\", \"poem_title\": \"Byron\", \"author\": \"Thomas Frederick Young\", \"period\": \"20th Century\", \"link\": \"http://public-domain-poetry.com/thomas-frederick-young/byron-34588\"}, {\"x\": -0.03379716, \"y\": 0.030930128, \"title\": \"much unrest; but we can in thy life and **nature** see the means, to some extent, that fell\", \"tokens\": \"much unrest ; but we can in thy life and nature see the means , to some extent , that fell\", \"word\": \"nature\", \"poem_title\": \"Byron\", \"author\": \"Thomas Frederick Young\", \"period\": \"20th Century\", \"link\": \"http://public-domain-poetry.com/thomas-frederick-young/byron-34588\"}, {\"x\": -0.02753267, \"y\": 0.020997575, \"title\": \"fairyland. but lo, within that ancient place **science** had reared her iron crown, and the great cloud\", \"tokens\": \"fairy ##land . but lo , within that ancient place science had reared her iron crown , and the great cloud\", \"word\": \"science\", \"poem_title\": \"Modern Elfland\", \"author\": \"Gilbert Keith Chesterton\", \"period\": \"20th Century\", \"link\": \"http://public-domain-poetry.com/gilbert-keith-chesterton/modern-elfland-12134\"}, {\"x\": -0.03297216, \"y\": 0.037340447, \"title\": \"hills spoke in the iron and the stone. not **nature**'s hand had ever curved that mute unearth\", \"tokens\": \"hills spoke in the iron and the stone . not nature ' s hand had ever curved that mute une ##arth\", \"word\": \"nature\", \"poem_title\": \"Modern Elfland\", \"author\": \"Gilbert Keith Chesterton\", \"period\": \"20th Century\", \"link\": \"http://public-domain-poetry.com/gilbert-keith-chesterton/modern-elfland-12134\"}, {\"x\": -0.030661805, \"y\": 0.02971455, \"title\": \"down burning into the gulf below, no voice in **nature** is heard to cry aloud at what has happened.\", \"tokens\": \"down burning into the gulf below , no voice in nature is heard to cry aloud at what has happened .\", \"word\": \"nature\", \"poem_title\": \"Acceptance\", \"author\": \"Robert Lee Frost\", \"period\": \"20th Century\", \"link\": \"http://public-domain-poetry.com/robert-lee-frost/acceptance-1147\"}, {\"x\": -0.032389514, \"y\": -0.04663209, \"title\": \"! i found that wing broken today! for thou **art** dead, i said, and the strang birds\", \"tokens\": \"! i found that wing broken today ! for thou art dead , i said , and the st ##rang birds\", \"word\": \"art\", \"poem_title\": \"Echo\", \"author\": \"Walter De La Mare\", \"period\": \"20th Century\", \"link\": \"http://public-domain-poetry.com/walter-de-la-mare/echo-33544\"}, {\"x\": -0.029893659, \"y\": 0.023975259, \"title\": \"\\\"now this simple-minded piper such a kindly **nature** had that he lifted up the viper and bestowed her\", \"tokens\": \"\\\" now this simple - minded piper such a kindly nature had that he lifted up the viper and bestowed her\", \"word\": \"nature\", \"poem_title\": \"The Hospitable Caledonian And The Thankless Viper\", \"author\": \"Guy Wetmore Carryl\", \"period\": \"20th Century\", \"link\": \"http://public-domain-poetry.com/guy-wetmore-carryl/hospitable-caledonian-and-the-thankless-viper-12885\"}, {\"x\": -0.03184852, \"y\": -0.045884848, \"title\": \"to carry their eternal races on. since then thou **art** sole queen of all that is, and without thee\", \"tokens\": \"to carry their eternal races on . since then thou art sole queen of all that is , and without thee\", \"word\": \"art\", \"poem_title\": \"The Invocation Of Lucretius\", \"author\": \"John Collings Squire, Sir\", \"period\": \"20th Century\", \"link\": \"http://public-domain-poetry.com/john-collings-squire/invocation-of-lucretius-37977\"}, {\"x\": -0.03067974, \"y\": -0.017453259, \"title\": \"vaguely realizing westward, but still unstoried, **artless**, unenhanced, such as she\", \"tokens\": \"vaguely realizing westward , but still un ##stor ##ied , art ##less , une ##nh ##ance ##d , such as she\", \"word\": \"art\", \"poem_title\": \"The Gift Outright\", \"author\": \"Robert Lee Frost\", \"period\": \"20th Century\", \"link\": \"http://public-domain-poetry.com/robert-lee-frost/gift-outright-1274\"}, {\"x\": -0.030066762, \"y\": -0.045867957, \"title\": \"through. the grim titanic greeted her \\\"and who **art** thou? \\\"she said; \\\"why dost\", \"tokens\": \"through . the grim titanic greeted her \\\" and who art thou ? \\\" she said ; \\\" why dos ##t\", \"word\": \"art\", \"poem_title\": \"The White Ships and the Red\", \"author\": \"Alfred Joyce Kilmer (Joyce)\", \"period\": \"20th Century\", \"link\": \"http://public-domain-poetry.com/alfred-joyce-kilmer/white-ships-and-the-red-21642\"}, {\"x\": -0.028365063, \"y\": -0.025666794, \"title\": \"world of things created by the eternal mind in joy articulate. and his perfect mood would dwell about the\", \"tokens\": \"world of things created by the eternal mind in joy art ##iculate . and his perfect mood would dwell about the\", \"word\": \"art\", \"poem_title\": \"The Carver In Stone\", \"author\": \"John Drinkwater\", \"period\": \"20th Century\", \"link\": \"http://public-domain-poetry.com/john-drinkwater/carver-in-stone-38208\"}, {\"x\": -0.033176742, \"y\": 0.035877883, \"title\": \"tenderness embower,-thou quiverest at **nature**'s perfumed core, the pistil\", \"tokens\": \"tenderness em ##bow ##er , - thou quiver ##est at nature ' s perfume ##d core , the pi ##sti ##l\", \"word\": \"nature\", \"poem_title\": \"La Nue\", \"author\": \"Alan Seeger\", \"period\": \"20th Century\", \"link\": \"http://public-domain-poetry.com/alan-seeger/la-nue-30782\"}, {\"x\": -0.026566071, \"y\": -0.05389604, \"title\": \"radiate, infinite aureole. thou **art** the poem on the cosmic page-in rubric\", \"tokens\": \"ra ##dia ##te , infinite au ##re ##ole . thou art the poem on the cosmic page - in rub ##ric\", \"word\": \"art\", \"poem_title\": \"La Nue\", \"author\": \"Alan Seeger\", \"period\": \"20th Century\", \"link\": \"http://public-domain-poetry.com/alan-seeger/la-nue-30782\"}, {\"x\": -0.032394525, \"y\": 0.031851247, \"title\": \"in rubric written on its golden ground-that **nature** paints her flowers and foliage and rich-illumi\", \"tokens\": \"in rub ##ric written on its golden ground - that nature paints her flowers and foliage and rich - ill ##umi\", \"word\": \"nature\", \"poem_title\": \"La Nue\", \"author\": \"Alan Seeger\", \"period\": \"20th Century\", \"link\": \"http://public-domain-poetry.com/alan-seeger/la-nue-30782\"}, {\"x\": -0.027789801, \"y\": -0.05456362, \"title\": \"and rich-illumined commentary round. thou **art** the rose that the world's smiles and tears\", \"tokens\": \"and rich - ill ##umi ##ned commentary round . thou art the rose that the world ' s smiles and tears\", \"word\": \"art\", \"poem_title\": \"La Nue\", \"author\": \"Alan Seeger\", \"period\": \"20th Century\", \"link\": \"http://public-domain-poetry.com/alan-seeger/la-nue-30782\"}, {\"x\": -0.027562259, \"y\": -0.051488783, \"title\": \"tears hover about like butterflies and bees. thou **art** the theme the music of the spheres echoes in endless\", \"tokens\": \"tears hove ##r about like butterflies and bees . thou art the theme the music of the spheres echoes in endless\", \"word\": \"art\", \"poem_title\": \"La Nue\", \"author\": \"Alan Seeger\", \"period\": \"20th Century\", \"link\": \"http://public-domain-poetry.com/alan-seeger/la-nue-30782\"}, {\"x\": -0.02795422, \"y\": -0.051572282, \"title\": \"the spheres echoes in endless, variant harmonies. thou **art** the idol in the altar-niche faced by love\", \"tokens\": \"the spheres echoes in endless , variant harmonies . thou art the idol in the altar - niche faced by love\", \"word\": \"art\", \"poem_title\": \"La Nue\", \"author\": \"Alan Seeger\", \"period\": \"20th Century\", \"link\": \"http://public-domain-poetry.com/alan-seeger/la-nue-30782\"}, {\"x\": -0.028223043, \"y\": -0.05291977, \"title\": \"love's congregated worshippers, thou **art** the holy sacrament round which the vast cathedral is the\", \"tokens\": \"love ' s cong ##re ##gated worship ##pers , thou art the holy sacrament round which the vast cathedral is the\", \"word\": \"art\", \"poem_title\": \"La Nue\", \"author\": \"Alan Seeger\", \"period\": \"20th Century\", \"link\": \"http://public-domain-poetry.com/alan-seeger/la-nue-30782\"}, {\"x\": -0.027389167, \"y\": -0.054874577, \"title\": \"round which the vast cathedral is the universe. thou **art** the secret in the crystal where, for the last\", \"tokens\": \"round which the vast cathedral is the universe . thou art the secret in the crystal where , for the last\", \"word\": \"art\", \"poem_title\": \"La Nue\", \"author\": \"Alan Seeger\", \"period\": \"20th Century\", \"link\": \"http://public-domain-poetry.com/alan-seeger/la-nue-30782\"}, {\"x\": -0.031830154, \"y\": -0.04767356, \"title\": \"on my face. speak! o speak! thou **art** the one! but thou hast passed with sad\", \"tokens\": \"on my face . speak ! o speak ! thou art the one ! but thou has ##t passed with sad\", \"word\": \"art\", \"poem_title\": \"The Sonnets LXX - That thou art blam'd shall not be thy defect\", \"author\": \"William Shakespeare\", \"period\": \"16th-17th Centuries (Early Modern)\", \"link\": \"http://public-domain-poetry.com/william-shakespeare/sonnets-lxx-that-thou-art-blamd-shall-not-be-thy-defect-8222\"}, {\"x\": -0.033962816, \"y\": -0.037704077, \"title\": \"with thee. o nightingale my heart how sad thou **art**! how heavy is thy wing, desperately whir\", \"tokens\": \"with thee . o nightingale my heart how sad thou art ! how heavy is thy wing , desperately w ##hir\", \"word\": \"art\", \"poem_title\": \"O Nightingale My Heart\", \"author\": \"Robert Malise Bowyer Nichols\", \"period\": \"20th Century\", \"link\": \"http://public-domain-poetry.com/robert-malise-bowyer-nichols/o-nightingale-my-heart-38327\"}, {\"x\": -0.033191968, \"y\": -0.044342052, \"title\": \"can bring the expected dawn more near; and thou **art** spent already, though the night scarce has begun;\", \"tokens\": \"can bring the expected dawn more near ; and thou art spent already , though the night scarce has begun ;\", \"word\": \"art\", \"poem_title\": \"O Nightingale My Heart\", \"author\": \"Robert Malise Bowyer Nichols\", \"period\": \"20th Century\", \"link\": \"http://public-domain-poetry.com/robert-malise-bowyer-nichols/o-nightingale-my-heart-38327\"}, {\"x\": -0.032059908, \"y\": 0.022883372, \"title\": \"heal them up again. oh, let thy angel **nature** shine, and may we all refrain to wake the\", \"tokens\": \"heal them up again . oh , let thy angel nature shine , and may we all refrain to wake the\", \"word\": \"nature\", \"poem_title\": \"Woman\", \"author\": \"Thomas Frederick Young\", \"period\": \"20th Century\", \"link\": \"http://public-domain-poetry.com/thomas-frederick-young/woman-34524\"}, {\"x\": -0.031218505, \"y\": 0.035882693, \"title\": \"no almanacs; that was one o '**nature**'s fac's. every cottage deck\", \"tokens\": \"no alma ##nac ##s ; that was one o ' nature ' s fa ##c ' s . every cottage deck\", \"word\": \"nature\", \"poem_title\": \"Speakin' O' Christmas\", \"author\": \"Paul Laurence Dunbar\", \"period\": \"20th Century\", \"link\": \"http://public-domain-poetry.com/paul-laurence-dunbar/speakin-o-christmas-14829\"}, {\"x\": -0.033094667, \"y\": -0.009434327, \"title\": \"speed upon the air, with that calm breath of **art** that mounts the unwrinkled zenith visibly,\", \"tokens\": \"speed upon the air , with that calm breath of art that mounts the un ##wr ##ink ##led zenith visibly ,\", \"word\": \"art\", \"poem_title\": \"L'Apr's-Midi D'Un Faune\", \"author\": \"Aldous Leonard Huxley\", \"period\": \"20th Century\", \"link\": \"http://public-domain-poetry.com/aldous-leonard-huxley/laprs-midi-dun-faune-21113\"}, {\"x\": -0.033613566, \"y\": 0.027425498, \"title\": \"heart this need to be seeing how lovably **nature** in flower and face hath wrought,-in\", \"tokens\": \"heart this need to be seeing how lo ##va ##bly nature in flower and face hat ##h wrought , - in\", \"word\": \"nature\", \"poem_title\": \"El Extraviado\", \"author\": \"Alan Seeger\", \"period\": \"20th Century\", \"link\": \"http://public-domain-poetry.com/alan-seeger/el-extraviado-30781\"}, {\"x\": -0.032818675, \"y\": 0.03554946, \"title\": \"that's mighty strange, no doubt; but **nature** knows what she's about; and in a\", \"tokens\": \"that ' s mighty strange , no doubt ; but nature knows what she ' s about ; and in a\", \"word\": \"nature\", \"poem_title\": \"The World's All Right\", \"author\": \"Robert William Service\", \"period\": \"20th Century\", \"link\": \"http://public-domain-poetry.com/robert-william-service/worlds-all-right-30964\"}, {\"x\": -0.0326124, \"y\": 0.030388424, \"title\": \"what is, must be; with rhythmic laws all **nature** chimes, effect and cause. the sand-\", \"tokens\": \"what is , must be ; with rhythmic laws all nature chi ##mes , effect and cause . the sand -\", \"word\": \"nature\", \"poem_title\": \"The World's All Right\", \"author\": \"Robert William Service\", \"period\": \"20th Century\", \"link\": \"http://public-domain-poetry.com/robert-william-service/worlds-all-right-30964\"}, {\"x\": -0.03285175, \"y\": -0.03842541, \"title\": \"me barque, away? \\\"how far thou **art**, o scented paradise, o paradise where all is\", \"tokens\": \"me bar ##que , away ? \\\" how far thou art , o scented paradise , o paradise where all is\", \"word\": \"art\", \"poem_title\": \"Moesta Et Errabunda - (Twelve Translations From Charles Baudelaire)\", \"author\": \"John Collings Squire, Sir\", \"period\": \"20th Century\", \"link\": \"http://public-domain-poetry.com/john-collings-squire/moesta-et-errabunda-38006\"}, {\"x\": -0.03268102, \"y\": -0.03869697, \"title\": \"drowns in bliss without alloy! how far thou **art**, o scented paradise! but the green paradise of\", \"tokens\": \"drown ##s in bliss without alloy ! how far thou art , o scented paradise ! but the green paradise of\", \"word\": \"art\", \"poem_title\": \"Moesta Et Errabunda - (Twelve Translations From Charles Baudelaire)\", \"author\": \"John Collings Squire, Sir\", \"period\": \"20th Century\", \"link\": \"http://public-domain-poetry.com/john-collings-squire/moesta-et-errabunda-38006\"}, {\"x\": -0.030582093, \"y\": -0.023278646, \"title\": \", but the green paradise of childish loves, the **artless** paradise of stealthy joys, is that\", \"tokens\": \", but the green paradise of childish loves , the art ##less paradise of stealth ##y joy ##s , is that\", \"word\": \"art\", \"poem_title\": \"Moesta Et Errabunda - (Twelve Translations From Charles Baudelaire)\", \"author\": \"John Collings Squire, Sir\", \"period\": \"20th Century\", \"link\": \"http://public-domain-poetry.com/john-collings-squire/moesta-et-errabunda-38006\"}, {\"x\": -0.030426936, \"y\": -0.023400303, \"title\": \"bring it again that is so far away, the **artless** paradise of stealthy joys? in the\", \"tokens\": \"bring it again that is so far away , the art ##less paradise of stealth ##y joy ##s ? in the\", \"word\": \"art\", \"poem_title\": \"Moesta Et Errabunda - (Twelve Translations From Charles Baudelaire)\", \"author\": \"John Collings Squire, Sir\", \"period\": \"20th Century\", \"link\": \"http://public-domain-poetry.com/john-collings-squire/moesta-et-errabunda-38006\"}, {\"x\": -0.02303208, \"y\": 0.005539931, \"title\": \"'s bed will become the symbol of a new **religion**. de win 'is blowin 'wahmah\", \"tokens\": \"' s bed will become the symbol of a new religion . de win ' is blow ##in ' wah ##mah\", \"word\": \"religion\", \"poem_title\": \"A Christmas Folksong\", \"author\": \"Paul Laurence Dunbar\", \"period\": \"20th Century\", \"link\": \"http://public-domain-poetry.com/paul-laurence-dunbar/christmas-folksong-15053\"}, {\"x\": -0.031529564, \"y\": -0.046591107, \"title\": \"saw it wept with joy and fright. \\\"thou **art** apollo, than the sun more bright! \\\"they\", \"tokens\": \"saw it wept with joy and fright . \\\" thou art apollo , than the sun more bright ! \\\" they\", \"word\": \"art\", \"poem_title\": \"In Memory\", \"author\": \"Alfred Joyce Kilmer (Joyce)\", \"period\": \"20th Century\", \"link\": \"http://public-domain-poetry.com/alfred-joyce-kilmer/in-memory-21620\"}, {\"x\": -0.033583283, \"y\": -0.029599825, \"title\": \"drowns in floods of melody. still in thy **art** give me this part, till perfect love, the\", \"tokens\": \"drown ##s in floods of melody . still in thy art give me this part , till perfect love , the\", \"word\": \"art\", \"poem_title\": \"To A Lady Playing The Harp\", \"author\": \"Paul Laurence Dunbar\", \"period\": \"20th Century\", \"link\": \"http://public-domain-poetry.com/paul-laurence-dunbar/to-a-lady-playing-the-harp-14891\"}, {\"x\": -0.032664277, \"y\": 0.026661135, \"title\": \"ed and blest it. man's **nature**, who knows until love comes to test it?\", \"tokens\": \"##ed and b ##les ##t it . man ' s nature , who knows until love comes to test it ?\", \"word\": \"nature\", \"poem_title\": \"She Gave Me A Rose\", \"author\": \"Paul Laurence Dunbar\", \"period\": \"20th Century\", \"link\": \"http://public-domain-poetry.com/paul-laurence-dunbar/she-gave-me-a-rose-14864\"}, {\"x\": -0.03148109, \"y\": -0.016507009, \"title\": \"common breath, and have no hour for books or **art**-what dreams have these to hide from death!\", \"tokens\": \"common breath , and have no hour for books or art - what dreams have these to hide from death !\", \"word\": \"art\", \"poem_title\": \"Fuel\", \"author\": \"Lola Ridge\", \"period\": \"20th Century\", \"link\": \"http://public-domain-poetry.com/lola-ridge/fuel-29092\"}, {\"x\": -0.023373742, \"y\": 0.0051856223, \"title\": \"a child has always been the beginning of a new **religion** in these mountains. keep pure the thoughts within thy\", \"tokens\": \"a child has always been the beginning of a new religion in these mountains . keep pure the thoughts within thy\", \"word\": \"religion\", \"poem_title\": \"An Arab Shepherd Is Searching For His Goat On Mount Zion\", \"author\": \"Yehuda Amichai\", \"period\": \"20th Century\", \"link\": \"http://public-domain-poetry.com/yehuda-amichai/an-arab-shepherd-is-searching-for-his-goat-on-mount-zion-1419\"}, {\"x\": -0.03181642, \"y\": 0.034293097, \"title\": \"he paints a little,--gathers some of **nature**'s gold and mints it. he plays\", \"tokens\": \"he paints a little , - - gathers some of nature ' s gold and mint ##s it . he plays\", \"word\": \"nature\", \"poem_title\": \"The Dilettante: A Modern Type\", \"author\": \"Paul Laurence Dunbar\", \"period\": \"20th Century\", \"link\": \"http://public-domain-poetry.com/paul-laurence-dunbar/dilettante-a-modern-type-14782\"}, {\"x\": -0.031230781, \"y\": -0.012176445, \"title\": \"not for money! he studies almost everything from social **art** to science; a thirsty mind, a flowing spring\", \"tokens\": \"not for money ! he studies almost everything from social art to science ; a thirsty mind , a flowing spring\", \"word\": \"art\", \"poem_title\": \"The Dilettante: A Modern Type\", \"author\": \"Paul Laurence Dunbar\", \"period\": \"20th Century\", \"link\": \"http://public-domain-poetry.com/paul-laurence-dunbar/dilettante-a-modern-type-14782\"}, {\"x\": -0.028960137, \"y\": 0.017613119, \"title\": \"money! he studies almost everything from social art to **science**; a thirsty mind, a flowing spring, demand\", \"tokens\": \"money ! he studies almost everything from social art to science ; a thirsty mind , a flowing spring , demand\", \"word\": \"science\", \"poem_title\": \"The Dilettante: A Modern Type\", \"author\": \"Paul Laurence Dunbar\", \"period\": \"20th Century\", \"link\": \"http://public-domain-poetry.com/paul-laurence-dunbar/dilettante-a-modern-type-14782\"}, {\"x\": -0.03322576, \"y\": 0.038253438, \"title\": \". when wooded hill, and grassy plain, with **nature**'s beauties, gaily dress'd\", \"tokens\": \". when wooded hill , and grassy plain , with nature ' s beau ##ties , gail ##y dress ' d\", \"word\": \"nature\", \"poem_title\": \"Ingrateful Beauty Threatened\", \"author\": \"Thomas Carew\", \"period\": \"16th-17th Centuries (Early Modern)\", \"link\": \"http://public-domain-poetry.com/thomas-carew/ingrateful-beauty-threatened-12086\"}, {\"x\": -0.032983102, \"y\": 0.038706217, \"title\": \"d the forest's dusky son, in **nature**'s wildness, proudly free, from where\", \"tokens\": \"d the forest ' s dusk ##y son , in nature ' s wild ##ness , proudly free , from where\", \"word\": \"nature\", \"poem_title\": \"The Indian\", \"author\": \"Thomas Frederick Young\", \"period\": \"20th Century\", \"link\": \"http://public-domain-poetry.com/thomas-frederick-young/indian-34549\"}, {\"x\": -0.03315185, \"y\": 0.0346753, \"title\": \", sportive play, far westward wander'd **nature**'s child, and wigwam built,\", \"tokens\": \", sport ##ive play , far westward wander ' d nature ' s child , and wig ##wa ##m built ,\", \"word\": \"nature\", \"poem_title\": \"The Indian\", \"author\": \"Thomas Frederick Young\", \"period\": \"20th Century\", \"link\": \"http://public-domain-poetry.com/thomas-frederick-young/indian-34549\"}, {\"x\": -0.032766357, \"y\": 0.04049209, \"title\": \"forest did his wants supply, content he was with **nature**'s scheme; for, fail'd the\", \"tokens\": \"forest did his wants supply , content he was with nature ' s scheme ; for , fail ' d the\", \"word\": \"nature\", \"poem_title\": \"The Indian\", \"author\": \"Thomas Frederick Young\", \"period\": \"20th Century\", \"link\": \"http://public-domain-poetry.com/thomas-frederick-young/indian-34549\"}, {\"x\": -0.03374082, \"y\": -0.012002085, \"title\": \"piercing eye his freedom showed, unbred of **art**, his honor look'd unconsciously. un\", \"tokens\": \"piercing eye his freedom showed , un ##bre ##d of art , his honor look ' d unconscious ##ly . un\", \"word\": \"art\", \"poem_title\": \"The Indian\", \"author\": \"Thomas Frederick Young\", \"period\": \"20th Century\", \"link\": \"http://public-domain-poetry.com/thomas-frederick-young/indian-34549\"}, {\"x\": -0.032477975, \"y\": 0.039746024, \"title\": \"of bard or sage, he yet had read from **nature**'s hand, a book unwrit,\", \"tokens\": \"of bard or sage , he yet had read from nature ' s hand , a book un ##wr ##it ,\", \"word\": \"nature\", \"poem_title\": \"The Indian\", \"author\": \"Thomas Frederick Young\", \"period\": \"20th Century\", \"link\": \"http://public-domain-poetry.com/thomas-frederick-young/indian-34549\"}, {\"x\": -0.031884566, \"y\": 0.04061062, \"title\": \"some far higher quest, than living thus, in **nature**'s bow 'rs. one would have thought\", \"tokens\": \"some far higher quest , than living thus , in nature ' s bow ' rs . one would have thought\", \"word\": \"nature\", \"poem_title\": \"The Indian\", \"author\": \"Thomas Frederick Young\", \"period\": \"20th Century\", \"link\": \"http://public-domain-poetry.com/thomas-frederick-young/indian-34549\"}, {\"x\": -0.03407579, \"y\": 0.03180309, \"title\": \"and rage, to breathe with no alarm; for **nature** shall be my anchorage, and none shall do me\", \"tokens\": \"and rage , to breathe with no alarm ; for nature shall be my anchorage , and none shall do me\", \"word\": \"nature\", \"poem_title\": \"A Rolling Stone\", \"author\": \"Robert William Service\", \"period\": \"20th Century\", \"link\": \"http://public-domain-poetry.com/robert-william-service/a-rolling-stone-30932\"}, {\"x\": -0.032489453, \"y\": -0.042583123, \"title\": \"with thy foster-mother's woe thou **art** haunted. i am of the wind...\", \"tokens\": \"with thy foster - mother ' s wo ##e thou art haunted . i am of the wind . . .\", \"word\": \"art\", \"poem_title\": \"The Destroyer\", \"author\": \"Lola Ridge\", \"period\": \"20th Century\", \"link\": \"http://public-domain-poetry.com/lola-ridge/destroyer-29102\"}, {\"x\": -0.034123637, \"y\": 0.03422452, \"title\": \"ing for, and where she moved the veil of **nature** grew diaphanous and that radiance mantle\", \"tokens\": \"##ing for , and where she moved the veil of nature grew dia ##pha ##nous and that ra ##dian ##ce mantle\", \"word\": \"nature\", \"poem_title\": \"Sonnet IX\", \"author\": \"Alan Seeger\", \"period\": \"20th Century\", \"link\": \"http://public-domain-poetry.com/alan-seeger/sonnet-ix-30798\"}, {\"x\": -0.02752772, \"y\": 0.02085574, \"title\": \"knew the explorers of the sky, the pioneers of **science**, now made ready to attack that darkness once again\", \"tokens\": \"knew the explorers of the sky , the pioneers of science , now made ready to attack that darkness once again\", \"word\": \"science\", \"poem_title\": \"Watchers Of The Sky\", \"author\": \"Alfred Noyes\", \"period\": \"20th Century\", \"link\": \"http://public-domain-poetry.com/alfred-noyes/watchers-of-the-sky-28090\"}, {\"x\": -0.03259691, \"y\": -0.01195078, \"title\": \"held the keys of all wisdom, truth, and **art**, in a paradise apart, lapped in ease\", \"tokens\": \"held the keys of all wisdom , truth , and art , in a paradise apart , lap ##ped in ease\", \"word\": \"art\", \"poem_title\": \"Arabesque\", \"author\": \"Emma Lazarus\", \"period\": \"19th Century\", \"link\": \"http://public-domain-poetry.com/emma-lazarus/arabesque-23019\"}, {\"x\": -0.027435344, \"y\": 0.015754065, \"title\": \", till lately, of phrenology-a **science** that by simple dint of head-combing\", \"tokens\": \", till lately , of ph ##ren ##ology - a science that by simple din ##t of head - comb ##ing\", \"word\": \"science\", \"poem_title\": \"Craniology\", \"author\": \"Thomas Hood\", \"period\": \"19th Century\", \"link\": \"http://public-domain-poetry.com/thomas-hood/craniology-20358\"}, {\"x\": -0.02600204, \"y\": 0.0168746, \"title\": \"the faculties throw up like mole-hills; a **science** that, in very spite of all his teeth,\", \"tokens\": \"the faculties throw up like mole - hills ; a science that , in very spite of all his teeth ,\", \"word\": \"science\", \"poem_title\": \"Craniology\", \"author\": \"Thomas Hood\", \"period\": \"19th Century\", \"link\": \"http://public-domain-poetry.com/thomas-hood/craniology-20358\"}, {\"x\": -0.026668124, \"y\": 0.01573199, \"title\": \", who taught the eyebrows numeration. the **science** thus-to speak in fit terms-having struggled\", \"tokens\": \", who taught the eyebrows nu ##mer ##ation . the science thus - to speak in fit terms - having struggled\", \"word\": \"science\", \"poem_title\": \"Craniology\", \"author\": \"Thomas Hood\", \"period\": \"19th Century\", \"link\": \"http://public-domain-poetry.com/thomas-hood/craniology-20358\"}, {\"x\": -0.026645696, \"y\": 0.015133668, \"title\": \"liance and close, to phrenologic **science**; for of all learned themes whatever, that schools\", \"tokens\": \"##lian ##ce and close , to ph ##ren ##olo ##gic science ; for of all learned themes whatever , that schools\", \"word\": \"science\", \"poem_title\": \"Craniology\", \"author\": \"Thomas Hood\", \"period\": \"19th Century\", \"link\": \"http://public-domain-poetry.com/thomas-hood/craniology-20358\"}, {\"x\": -0.031386595, \"y\": 0.033721343, \"title\": \"dissolve, and man rebounds whole aeons back in **nature**. hail to the low dull rumble, dull and\", \"tokens\": \"dissolve , and man rebounds whole ae ##ons back in nature . hail to the low dull rumble , dull and\", \"word\": \"nature\", \"poem_title\": \"The House-Top\", \"author\": \"Herman Melville\", \"period\": \"19th Century\", \"link\": \"http://public-domain-poetry.com/herman-melville/house-top-26013\"}, {\"x\": -0.03309741, \"y\": 0.035879068, \"title\": \"naturally good, and--more--is **nature**'s roman, never to be scourged\", \"tokens\": \"naturally good , and - - more - - is nature ' s roman , never to be sc ##our ##ged\", \"word\": \"nature\", \"poem_title\": \"The House-Top\", \"author\": \"Herman Melville\", \"period\": \"19th Century\", \"link\": \"http://public-domain-poetry.com/herman-melville/house-top-26013\"}, {\"x\": -0.028917708, \"y\": -0.019874645, \"title\": \", and we deplore that not by any artifice can they be altered. furthermore we know the\", \"tokens\": \", and we de ##pl ##ore that not by any art ##ifice can they be altered . furthermore we know the\", \"word\": \"art\", \"poem_title\": \"The Bonfires\", \"author\": \"Rudyard Kipling\", \"period\": \"19th Century\", \"link\": \"http://public-domain-poetry.com/rudyard-kipling/bonfires-5574\"}, {\"x\": -0.033479344, \"y\": 0.036385298, \"title\": \"illusions that shed brightness over life, and glory over **nature**. look, even now, where two bright planets\", \"tokens\": \"illusions that shed brightness over life , and glory over nature . look , even now , where two bright planets\", \"word\": \"nature\", \"poem_title\": \"The Conjunction Of Jupiter And Venus\", \"author\": \"William Cullen Bryant\", \"period\": \"19th Century\", \"link\": \"http://public-domain-poetry.com/william-cullen-bryant/conjunction-of-jupiter-and-venus-9819\"}, {\"x\": -0.03359586, \"y\": 0.034992974, \"title\": \"sabbath of the night, came down and rested upon **nature**. i was out with three sweet sisters wandering,\", \"tokens\": \"sabbath of the night , came down and rested upon nature . i was out with three sweet sisters wandering ,\", \"word\": \"nature\", \"poem_title\": \"The Tri-Portrait\", \"author\": \"Nathaniel Parker Willis\", \"period\": \"19th Century\", \"link\": \"http://public-domain-poetry.com/nathaniel-parker-willis/tri-portrait-34632\"}, {\"x\": -0.032361567, \"y\": -0.04570842, \"title\": \"the cliffs of herakles! no! thou **art** helen, and none other one! it was for\", \"tokens\": \"the cliffs of her ##ak ##les ! no ! thou art helen , and none other one ! it was for\", \"word\": \"art\", \"poem_title\": \"The New Helen\", \"author\": \"Oscar Fingal O'Flahertie Wills Wilde\", \"period\": \"19th Century\", \"link\": \"http://public-domain-poetry.com/oscar-wilde/new-helen-36216\"}, {\"x\": -0.032600455, \"y\": -0.043778427, \"title\": \", come out of it, my soul, thou **art** not fit for this vile traffic-house, where\", \"tokens\": \", come out of it , my soul , thou art not fit for this vile traffic - house , where\", \"word\": \"art\", \"poem_title\": \"Theoretikos\", \"author\": \"Oscar Fingal O'Flahertie Wills Wilde\", \"period\": \"19th Century\", \"link\": \"http://public-domain-poetry.com/oscar-wilde/theoretikos-36201\"}, {\"x\": -0.032823227, \"y\": -0.0108882245, \"title\": \"mars my calm: wherefore in dreams of **art** and loftiest culture i would stand apart, neither\", \"tokens\": \"mars my calm : where ##for ##e in dreams of art and loft ##iest culture i would stand apart , neither\", \"word\": \"art\", \"poem_title\": \"Theoretikos\", \"author\": \"Oscar Fingal O'Flahertie Wills Wilde\", \"period\": \"19th Century\", \"link\": \"http://public-domain-poetry.com/oscar-wilde/theoretikos-36201\"}, {\"x\": -0.031847186, \"y\": 0.024599146, \"title\": \"some centre expressed or still; exists in every human **nature** a goal, admitted scarcely to itself, it may\", \"tokens\": \"some centre expressed or still ; exists in every human nature a goal , admitted scarcely to itself , it may\", \"word\": \"nature\", \"poem_title\": \"The Goal\", \"author\": \"Emily Elizabeth Dickinson\", \"period\": \"19th Century\", \"link\": \"http://public-domain-poetry.com/emily-elizabeth-dickinson/goal-13655\"}, {\"x\": -0.032620933, \"y\": -0.034717206, \"title\": \"i would feed thine ears with melody, who **art** more fair than fairest fleur-de-\", \"tokens\": \"i would feed thin ##e ears with melody , who art more fair than fair ##est fl ##eur - de -\", \"word\": \"art\", \"poem_title\": \"Canzonet\", \"author\": \"Oscar Fingal O'Flahertie Wills Wilde\", \"period\": \"19th Century\", \"link\": \"http://public-domain-poetry.com/oscar-wilde/canzonet-36179\"}, {\"x\": -0.029702472, \"y\": 0.0089991465, \"title\": \"how many like thee, would perceive all their boasted **religion** was vain, could they meet but his glance who\", \"tokens\": \"how many like thee , would perceive all their boasted religion was vain , could they meet but his glance who\", \"word\": \"religion\", \"poem_title\": \"The Nocturnal Visit\", \"author\": \"Mary Ann H. T. Bigelow\", \"period\": \"19th Century\", \"link\": \"http://public-domain-poetry.com/mary-ann-h-t-bigelow/nocturnal-visit-35005\"}, {\"x\": -0.031176366, \"y\": -0.04164472, \"title\": \". ] melody to a scene of former times. **art** thou indeed forever gone, forever, ever, lost\", \"tokens\": \". ] melody to a scene of former times . art thou indeed forever gone , forever , ever , lost\", \"word\": \"art\", \"poem_title\": \"Melody To A Scene Of Former Times\", \"author\": \"Percy Bysshe Shelley\", \"period\": \"19th Century\", \"link\": \"http://public-domain-poetry.com/percy-bysshe-shelley/melody-to-a-scene-of-former-times-31582\"}, {\"x\": -0.029832602, \"y\": 0.019885544, \"title\": \": and we were parted ever since the world of **science** made us don the new disguises we have on\", \"tokens\": \": and we were parted ever since the world of science made us don the new disguise ##s we have on\", \"word\": \"science\", \"poem_title\": \"Rose And Redbird - A Faerytale\", \"author\": \"Madison Julius Cawein\", \"period\": \"19th Century\", \"link\": \"http://public-domain-poetry.com/madison-julius-cawein/rose-and-redbird-a-faerytale-11428\"}, {\"x\": -0.032380812, \"y\": -0.017948933, \"title\": \"is fancy's magic worth, if all her **art** can not call forth one bliss like those we felt\", \"tokens\": \"is fancy ' s magic worth , if all her art can not call forth one bliss like those we felt\", \"word\": \"art\", \"poem_title\": \"Alone In Crowds To Wander On\", \"author\": \"Thomas Moore\", \"period\": \"19th Century\", \"link\": \"http://public-domain-poetry.com/thomas-moore/alone-in-crowds-to-wander-on-26858\"}, {\"x\": -0.029770102, \"y\": 0.025073288, \"title\": \"urishing a youth sublime with the fairy tales of **science**, and the long result of time; when the\", \"tokens\": \"##uri ##shing a youth sublime with the fairy tales of science , and the long result of time ; when the\", \"word\": \"science\", \"poem_title\": \"Locksley Hall\", \"author\": \"Alfred Lord Tennyson\", \"period\": \"19th Century\", \"link\": \"http://public-domain-poetry.com/alfred-lord-tennyson/locksley-hall-489\"}, {\"x\": -0.026305879, \"y\": -0.011797832, \"title\": \"theatres, at all music-halls, at all **art** galleries, at all \\\"evenings, \\\"at all\", \"tokens\": \"theatres , at all music - halls , at all art galleries , at all \\\" evenings , \\\" at all\", \"word\": \"art\", \"poem_title\": \"To The American Invader\", \"author\": \"Thomas William Hodgson Crosland\", \"period\": \"19th Century\", \"link\": \"http://public-domain-poetry.com/thomas-william-hodgson-crosland/to-the-american-invader-36611\"}, {\"x\": -0.029813658, \"y\": 0.023474652, \"title\": \"evenings, \\\"at all social functions metropolitan in their **nature** you, my dear sir or madam ( as the\", \"tokens\": \"evenings , \\\" at all social functions metropolitan in their nature you , my dear sir or madam ( as the\", \"word\": \"nature\", \"poem_title\": \"To The American Invader\", \"author\": \"Thomas William Hodgson Crosland\", \"period\": \"19th Century\", \"link\": \"http://public-domain-poetry.com/thomas-william-hodgson-crosland/to-the-american-invader-36611\"}, {\"x\": -0.03350467, \"y\": -0.03965009, \"title\": \"all these-the sunbeam, of which thou **art** part, and all the rapture of the breeze\", \"tokens\": \"all these - the sun ##beam , of which thou art part , and all the rap ##ture of the breeze\", \"word\": \"art\", \"poem_title\": \"Aubade\", \"author\": \"Madison Julius Cawein\", \"period\": \"19th Century\", \"link\": \"http://public-domain-poetry.com/madison-julius-cawein/aubade-11017\"}, {\"x\": -0.033731222, \"y\": -0.035593368, \"title\": \"!-arise! come down! loved that thou **art**! thank god i love the flowers! mute voices\", \"tokens\": \"! - arise ! come down ! loved that thou art ! thank god i love the flowers ! mute voices\", \"word\": \"art\", \"poem_title\": \"Flowers\", \"author\": \"Charles Sangster\", \"period\": \"19th Century\", \"link\": \"http://public-domain-poetry.com/charles-sangster/flowers-30352\"}, {\"x\": -0.029790914, \"y\": -0.04572529, \"title\": \"the streaming rays of starlight, whither **art** thou bearing me? i feel the mighty current sweep\", \"tokens\": \"the streaming rays of star ##light , w ##hit ##her art thou bearing me ? i feel the mighty current sweep\", \"word\": \"art\", \"poem_title\": \"An Evening Revery. - From An Unfinished Poem\", \"author\": \"William Cullen Bryant\", \"period\": \"19th Century\", \"link\": \"http://public-domain-poetry.com/william-cullen-bryant/an-evening-revery-from-an-unfinished-poem-9878\"}, {\"x\": -0.030062562, \"y\": 0.028328815, \"title\": \"fool's tongue! \\\"do not quarrel with **nature** now neptune's month our sky deforms\", \"tokens\": \"fool ' s tongue ! \\\" do not quarrel with nature now neptune ' s month our sky def ##or ##ms\", \"word\": \"nature\", \"poem_title\": \"Odes Of Anacreon - Ode LXVIII\", \"author\": \"Thomas Moore\", \"period\": \"19th Century\", \"link\": \"http://public-domain-poetry.com/thomas-moore/odes-of-anacreon-ode-lxviii-26580\"}, {\"x\": -0.031816356, \"y\": -0.040275645, \"title\": \"have left so long ago-beautiful laura! who **art** just so fair that i can think thee lovely when\", \"tokens\": \"have left so long ago - beautiful laura ! who art just so fair that i can think thee lovely when\", \"word\": \"art\", \"poem_title\": \"Sonnet\", \"author\": \"Nathaniel Parker Willis\", \"period\": \"19th Century\", \"link\": \"http://public-domain-poetry.com/nathaniel-parker-willis/sonnet-34661\"}, {\"x\": -0.03332646, \"y\": -0.03559821, \"title\": \"i can think thee lovely when alone, and still **art** not so wonderfully rare that i could never find\", \"tokens\": \"i can think thee lovely when alone , and still art not so wonderful ##ly rare that i could never find\", \"word\": \"art\", \"poem_title\": \"Sonnet\", \"author\": \"Nathaniel Parker Willis\", \"period\": \"19th Century\", \"link\": \"http://public-domain-poetry.com/nathaniel-parker-willis/sonnet-34661\"}, {\"x\": -0.03326069, \"y\": -0.04352681, \"title\": \"the broken staff of creed. assured alone that thou **art** good to each, as to the multitude, eternal\", \"tokens\": \"the broken staff of creed . assured alone that thou art good to each , as to the multitude , eternal\", \"word\": \"art\", \"poem_title\": \"Hymn For The Opening Of Thomas Starr King's House Of Worship, 1864\", \"author\": \"John Greenleaf Whittier\", \"period\": \"19th Century\", \"link\": \"http://public-domain-poetry.com/john-greenleaf-whittier/hymn-for-the-opening-of-thomas-starr-kings-house-of-worship-1864-5925\"}, {\"x\": -0.033189125, \"y\": 0.03342069, \"title\": \"yellows my leaf with a daily decline, and **nature** turns sick with decay; short is the thread on\", \"tokens\": \"yellow ##s my leaf with a daily decline , and nature turns sick with decay ; short is the thread on\", \"word\": \"nature\", \"poem_title\": \"The Widower's Lament\", \"author\": \"John Clare\", \"period\": \"19th Century\", \"link\": \"http://public-domain-poetry.com/john-clare/widowers-lament-12455\"}, {\"x\": -0.02989262, \"y\": -0.012131548, \"title\": \"from these wandering minstrels i have learned the **art** of song; let me now repay the lessons they\", \"tokens\": \"from these wandering min ##strel ##s i have learned the art of song ; let me now repay the lessons they\", \"word\": \"art\", \"poem_title\": \"Walter Von Der Vogelweid\", \"author\": \"Henry Wadsworth Longfellow\", \"period\": \"19th Century\", \"link\": \"http://public-domain-poetry.com/henry-wadsworth-longfellow/walter-von-der-vogelweid-24153\"}, {\"x\": -0.03281128, \"y\": 0.037136585, \"title\": \"that spot the violet's petal, why **nature** loves the number five, and why the star-\", \"tokens\": \"that spot the violet ' s pet ##al , why nature loves the number five , and why the star -\", \"word\": \"nature\", \"poem_title\": \"Woodnotes I\", \"author\": \"Ralph Waldo Emerson\", \"period\": \"19th Century\", \"link\": \"http://public-domain-poetry.com/ralph-waldo-emerson/woodnotes-i-15260\"}, {\"x\": -0.03312732, \"y\": 0.034835916, \"title\": \"the mountain dales impart; it seemed that **nature** could not raise a plant in any secret place,\", \"tokens\": \"the mountain dale ##s imp ##art ; it seemed that nature could not raise a plant in any secret place ,\", \"word\": \"nature\", \"poem_title\": \"Woodnotes I\", \"author\": \"Ralph Waldo Emerson\", \"period\": \"19th Century\", \"link\": \"http://public-domain-poetry.com/ralph-waldo-emerson/woodnotes-i-15260\"}, {\"x\": -0.03413483, \"y\": 0.030881342, \"title\": \"by wishful eyes, but all her shows did **nature** yield, to please and win this pilgrim wise.\", \"tokens\": \"by wish ##ful eyes , but all her shows did nature yield , to please and win this pilgrim wise .\", \"word\": \"nature\", \"poem_title\": \"Woodnotes I\", \"author\": \"Ralph Waldo Emerson\", \"period\": \"19th Century\", \"link\": \"http://public-domain-poetry.com/ralph-waldo-emerson/woodnotes-i-15260\"}, {\"x\": -0.031465076, \"y\": -0.017518803, \"title\": \"and the necklace, darken her eyelids with delicate **art**, heighten the beauty, so youthful and fl\", \"tokens\": \"and the necklace , dark ##en her eyelids with delicate art , height ##en the beauty , so youthful and fl\", \"word\": \"art\", \"poem_title\": \"The Bride\", \"author\": \"Laurence Hope (Adela Florence Cory Nicolson)\", \"period\": \"19th Century\", \"link\": \"http://public-domain-poetry.com/adela-florence-cory-nicolson/bride-20530\"}, {\"x\": -0.034297127, \"y\": -0.03248075, \"title\": \"the gods favoured, oh, bridegroom thou **art**! twine in thy fingers her fingers so slender\", \"tokens\": \"the gods favoured , oh , bride ##gr ##oom thou art ! twin ##e in thy fingers her fingers so slender\", \"word\": \"art\", \"poem_title\": \"The Bride\", \"author\": \"Laurence Hope (Adela Florence Cory Nicolson)\", \"period\": \"19th Century\", \"link\": \"http://public-domain-poetry.com/adela-florence-cory-nicolson/bride-20530\"}, {\"x\": -0.031001616, \"y\": -0.045579325, \"title\": \"time, worship thy lover with fear and delight, **art** thou not ever, though slave of his daytime,\", \"tokens\": \"##time , worship thy lover with fear and delight , art thou not ever , though slave of his daytime ,\", \"word\": \"art\", \"poem_title\": \"The Bride\", \"author\": \"Laurence Hope (Adela Florence Cory Nicolson)\", \"period\": \"19th Century\", \"link\": \"http://public-domain-poetry.com/adela-florence-cory-nicolson/bride-20530\"}, {\"x\": -0.031202933, \"y\": -0.01489296, \"title\": \"**art** some didactical hints in a needlework **art**, not described by the countess of wilton. an\", \"tokens\": \"##art some did ##actic ##al hints in a needle ##work art , not described by the countess of wilton . an\", \"word\": \"art\", \"poem_title\": \"Etching Moralised. To A Noble Lady\", \"author\": \"Thomas Hood\", \"period\": \"19th Century\", \"link\": \"http://public-domain-poetry.com/thomas-hood/etching-moralised-to-a-noble-lady-20378\"}, {\"x\": -0.031426053, \"y\": -0.019746182, \"title\": \", not described by the countess of wilton. an **art** not unknown to the delicate hand of the fairest\", \"tokens\": \", not described by the countess of wilton . an art not unknown to the delicate hand of the fair ##est\", \"word\": \"art\", \"poem_title\": \"Etching Moralised. To A Noble Lady\", \"author\": \"Thomas Hood\", \"period\": \"19th Century\", \"link\": \"http://public-domain-poetry.com/thomas-hood/etching-moralised-to-a-noble-lady-20378\"}, {\"x\": -0.030072633, \"y\": 0.024626557, \"title\": \"lauderdale! [ 2 ] bright peer! to whom **nature** and berwickshire gave a humor endowed with effects so\", \"tokens\": \"lauderdale ! [ 2 ] bright peer ! to whom nature and berwick ##shire gave a humor endowed with effects so\", \"word\": \"nature\", \"poem_title\": \"An Expostulation To Lord King\", \"author\": \"Thomas Moore\", \"period\": \"19th Century\", \"link\": \"http://public-domain-poetry.com/thomas-moore/an-expostulation-to-lord-king-27201\"}, {\"x\": -0.034731418, \"y\": 0.032326072, \"title\": \"the sacred few, whose souls, by taste and **nature** taught, thrill with the genuine pulse of thought-\", \"tokens\": \"the sacred few , whose souls , by taste and nature taught , thrill with the genuine pulse of thought -\", \"word\": \"nature\", \"poem_title\": \"To Julia. In Allusion To Some Illiberal Criticisms\", \"author\": \"Thomas Moore\", \"period\": \"19th Century\", \"link\": \"http://public-domain-poetry.com/thomas-moore/to-julia-in-allusion-to-some-illiberal-criticisms-26614\"}, {\"x\": -0.031936526, \"y\": -0.013580156, \"title\": \"chill control, should ever freeze, by timid **art**, the flowings of so fond a heart!\", \"tokens\": \"chill control , should ever freeze , by tim ##id art , the flowing ##s of so fond a heart !\", \"word\": \"art\", \"poem_title\": \"To Julia. In Allusion To Some Illiberal Criticisms\", \"author\": \"Thomas Moore\", \"period\": \"19th Century\", \"link\": \"http://public-domain-poetry.com/thomas-moore/to-julia-in-allusion-to-some-illiberal-criticisms-26614\"}, {\"x\": -0.032905243, \"y\": 0.038626857, \"title\": \"so fond a heart! \\\"yes, soul of **nature**! soul of love! that, hovering like a\", \"tokens\": \"so fond a heart ! \\\" yes , soul of nature ! soul of love ! that , hovering like a\", \"word\": \"nature\", \"poem_title\": \"To Julia. In Allusion To Some Illiberal Criticisms\", \"author\": \"Thomas Moore\", \"period\": \"19th Century\", \"link\": \"http://public-domain-poetry.com/thomas-moore/to-julia-in-allusion-to-some-illiberal-criticisms-26614\"}, {\"x\": -0.033502832, \"y\": -0.012076063, \"title\": \". grant me, i cried, some spell of **art**, to turn with all a lover's care\", \"tokens\": \". grant me , i cried , some spell of art , to turn with all a lover ' s care\", \"word\": \"art\", \"poem_title\": \"A Song Of A Young Lady To Her Ancient Lover\", \"author\": \"John Wilmot\", \"period\": \"16th-17th Centuries (Early Modern)\", \"link\": \"http://public-domain-poetry.com/john-wilmot/song-of-a-young-lady-to-her-ancient-lover-2840\"}, {\"x\": -0.03336843, \"y\": -0.044138435, \"title\": \", yet what is that to thee? though thou **art** faint, and desolate, and weary, thy\", \"tokens\": \", yet what is that to thee ? though thou art faint , and des ##olate , and weary , thy\", \"word\": \"art\", \"poem_title\": \"Guilt And Sorrow Or Incidents Upon Salisbury Plain\", \"author\": \"William Wordsworth\", \"period\": \"18th Century\", \"link\": \"http://public-domain-poetry.com/william-wordsworth/guilt-and-sorrow-or-incidents-upon-salisbury-plain-3830\"}, {\"x\": -0.032958876, \"y\": -0.04478232, \"title\": \"less bough of thine. ah! thou **art** earth-bound, prone, and lowly creeping\", \"tokens\": \"##less bo ##ugh of thin ##e . ah ! thou art earth - bound , prone , and low ##ly creeping\", \"word\": \"art\", \"poem_title\": \"Under The Rod\", \"author\": \"Pamela S. Vining, (J. C. Yule)\", \"period\": \"19th Century\", \"link\": \"http://public-domain-poetry.com/pamela-s-vining/under-the-rod-34503\"}, {\"x\": -0.033345822, \"y\": -0.04057789, \"title\": \"all that thee will read or hear, where thou **art** wrong, after their help to call, thee to\", \"tokens\": \"all that thee will read or hear , where thou art wrong , after their help to call , thee to\", \"word\": \"art\", \"poem_title\": \"L'Envoy - Prose\", \"author\": \"Washington Irving\", \"period\": \"19th Century\", \"link\": \"http://public-domain-poetry.com/washington-irving/lenvoy-prose-6605\"}, {\"x\": -0.025382832, \"y\": 0.026342014, \"title\": \"found to be a singularly gentle and good-**natured** race; it is true that each has in\", \"tokens\": \"found to be a singular ##ly gentle and good - nature ##d race ; it is true that each has in\", \"word\": \"nature\", \"poem_title\": \"L'Envoy - Prose\", \"author\": \"Washington Irving\", \"period\": \"19th Century\", \"link\": \"http://public-domain-poetry.com/washington-irving/lenvoy-prose-6605\"}, {\"x\": -0.031178048, \"y\": -0.039946504, \"title\": \"'d transparency doth tell how spiritually beautiful **art** thou-a temple where angelic love might dwell\", \"tokens\": \"' d transparency dot ##h tell how spiritual ##ly beautiful art thou - a temple where angel ##ic love might dwell\", \"word\": \"art\", \"poem_title\": \"Sonnet\", \"author\": \"Nathaniel Parker Willis\", \"period\": \"19th Century\", \"link\": \"http://public-domain-poetry.com/nathaniel-parker-willis/sonnet-34659\"}, {\"x\": -0.029523127, \"y\": -0.049390424, \"title\": \"thou diest! what, malise? soon **art** thou returned from braes of doune. by\", \"tokens\": \"thou dies ##t ! what , mali ##se ? soon art thou returned from bra ##es of do ##une . by\", \"word\": \"art\", \"poem_title\": \"The Lady Of The Lake: Canto IV. - The Prophecy\", \"author\": \"Walter Scott (Sir)\", \"period\": \"19th Century\", \"link\": \"http://public-domain-poetry.com/walter-scott/lady-of-the-lake-canto-iv-the-prophecy-7137\"}, {\"x\": -0.030502053, \"y\": -0.017490948, \"title\": \"a grief too deep to trust the sculptor's **art**. no marble marks thy couch of lowly sleep\", \"tokens\": \"a grief too deep to trust the sculptor ' s art . no marble marks thy couch of low ##ly sleep\", \"word\": \"art\", \"poem_title\": \"Epitaph On A Beloved Friend.[1]\", \"author\": \"George Gordon Byron\", \"period\": \"19th Century\", \"link\": \"http://public-domain-poetry.com/george-gordon-byron/epitaph-on-a-beloved-friend-10478\"}, {\"x\": -0.032201715, \"y\": -0.046450205, \"title\": \";--that, blest as thou **art** in thy lot, nothing's wanted to make\", \"tokens\": \"; - - that , b ##les ##t as thou art in thy lot , nothing ' s wanted to make\", \"word\": \"art\", \"poem_title\": \"A Pastoral Ballad\", \"author\": \"Thomas Moore\", \"period\": \"19th Century\", \"link\": \"http://public-domain-poetry.com/thomas-moore/a-pastoral-ballad-27232\"}, {\"x\": -0.031740457, \"y\": -0.046215095, \"title\": \", tortured and shot, much oftener than thou **art** at present. even wellington's self hath\", \"tokens\": \", tortured and shot , much often ##er than thou art at present . even wellington ' s self hat ##h\", \"word\": \"art\", \"poem_title\": \"A Pastoral Ballad\", \"author\": \"Thomas Moore\", \"period\": \"19th Century\", \"link\": \"http://public-domain-poetry.com/thomas-moore/a-pastoral-ballad-27232\"}, {\"x\": -0.032011267, \"y\": -0.04704915, \"title\": \"even wellington's self hath averred thou **art** yet but half sabred and hung, and i\", \"tokens\": \"even wellington ' s self hat ##h ave ##rred thou art yet but half sabre ##d and hung , and i\", \"word\": \"art\", \"poem_title\": \"A Pastoral Ballad\", \"author\": \"Thomas Moore\", \"period\": \"19th Century\", \"link\": \"http://public-domain-poetry.com/thomas-moore/a-pastoral-ballad-27232\"}, {\"x\": -0.03317922, \"y\": 0.03248775, \"title\": \", behold unmoved the fearful hour, when **nature** trembled on her throne, and death resigned his iron\", \"tokens\": \", behold un ##mo ##ved the fearful hour , when nature trembled on her throne , and death resigned his iron\", \"word\": \"nature\", \"poem_title\": \"The Crucifixion\", \"author\": \"John Greenleaf Whittier\", \"period\": \"19th Century\", \"link\": \"http://public-domain-poetry.com/john-greenleaf-whittier/crucifixion-6051\"}, {\"x\": -0.031452764, \"y\": -0.011447405, \"title\": \", in me; dead the aspiring spasms of **art** and poesy, that opened magic chasms,\", \"tokens\": \", in me ; dead the aspiring spa ##sms of art and poe ##sy , that opened magic cha ##sms ,\", \"word\": \"art\", \"poem_title\": \"Afterword\", \"author\": \"Madison Julius Cawein\", \"period\": \"19th Century\", \"link\": \"http://public-domain-poetry.com/madison-julius-cawein/afterword-36994\"}, {\"x\": -0.028150456, \"y\": -0.024670862, \"title\": \"harp that i hold no craftsman could string and no artisan mould; he shaped it, he strung\", \"tokens\": \"harp that i hold no craftsman could string and no art ##isan mo ##uld ; he shaped it , he strung\", \"word\": \"art\", \"poem_title\": \"My Annual\", \"author\": \"Oliver Wendell Holmes\", \"period\": \"19th Century\", \"link\": \"http://public-domain-poetry.com/oliver-wendell-holmes/my-annual-19986\"}, {\"x\": -0.030150034, \"y\": -0.043078557, \"title\": \"ame to fly, considereth the sun. what **art** thou doing here, o imagination? go away i\", \"tokens\": \"##ame to fly , consider ##eth the sun . what art thou doing here , o imagination ? go away i\", \"word\": \"art\", \"poem_title\": \"Spring Longing\", \"author\": \"Emma Lazarus\", \"period\": \"19th Century\", \"link\": \"http://public-domain-poetry.com/emma-lazarus/spring-longing-23028\"}, {\"x\": -0.031985503, \"y\": -0.044855826, \"title\": \"come, for i want thee not. but thou **art** come according to thy old fashion. i am not\", \"tokens\": \"come , for i want thee not . but thou art come according to thy old fashion . i am not\", \"word\": \"art\", \"poem_title\": \"Spring Longing\", \"author\": \"Emma Lazarus\", \"period\": \"19th Century\", \"link\": \"http://public-domain-poetry.com/emma-lazarus/spring-longing-23028\"}, {\"x\": -0.033390317, \"y\": -0.032095134, \"title\": \", light above light, law beyond law, thou **art**. thy face is as a sword smiting in\", \"tokens\": \", light above light , law beyond law , thou art . thy face is as a sword sm ##iting in\", \"word\": \"art\", \"poem_title\": \"Mater Triumphalis\", \"author\": \"Algernon Charles Swinburne\", \"period\": \"19th Century\", \"link\": \"http://public-domain-poetry.com/algernon-charles-swinburne/mater-triumphalis-7765\"}, {\"x\": -0.03301964, \"y\": -0.03651935, \"title\": \", and hell's bands broken; where thou **art** only is heaven; who hears not thee, time\", \"tokens\": \", and hell ' s bands broken ; where thou art only is heaven ; who hears not thee , time\", \"word\": \"art\", \"poem_title\": \"Mater Triumphalis\", \"author\": \"Algernon Charles Swinburne\", \"period\": \"19th Century\", \"link\": \"http://public-domain-poetry.com/algernon-charles-swinburne/mater-triumphalis-7765\"}, {\"x\": -0.03215391, \"y\": 0.03691603, \"title\": \", sort me, o tongue and lips, for **nature**'s sake, and sweet life's sake\", \"tokens\": \", sort me , o tongue and lips , for nature ' s sake , and sweet life ' s sake\", \"word\": \"nature\", \"poem_title\": \"Warble Of Lilac-Time\", \"author\": \"Walt Whitman\", \"period\": \"19th Century\", \"link\": \"http://public-domain-poetry.com/walt-whitman/warble-of-lilac-time-1077\"}, {\"x\": -0.03219681, \"y\": 0.03489767, \"title\": \", the brook-like murmur of his song of **nature**'s simple joys! the violet 'by\", \"tokens\": \", the brook - like murmur of his song of nature ' s simple joy ##s ! the violet ' by\", \"word\": \"nature\", \"poem_title\": \"Wordsworth\", \"author\": \"John Greenleaf Whittier\", \"period\": \"19th Century\", \"link\": \"http://public-domain-poetry.com/john-greenleaf-whittier/wordsworth-6228\"}, {\"x\": -0.03280235, \"y\": -0.013544391, \"title\": \"the vales and mountain-peaks of thought. **art** builds on sand; the works of pride and human\", \"tokens\": \"the vale ##s and mountain - peaks of thought . art builds on sand ; the works of pride and human\", \"word\": \"art\", \"poem_title\": \"Wordsworth\", \"author\": \"John Greenleaf Whittier\", \"period\": \"19th Century\", \"link\": \"http://public-domain-poetry.com/john-greenleaf-whittier/wordsworth-6228\"}, {\"x\": -0.032975186, \"y\": -0.044918485, \"title\": \"them now i am of earth, and now thou **art** no more of earth. \\\"o liberal, constant\", \"tokens\": \"them now i am of earth , and now thou art no more of earth . \\\" o liberal , constant\", \"word\": \"art\", \"poem_title\": \"A Father Of Women\", \"author\": \"Alice Christiana Gertrude Thompson Meynell\", \"period\": \"19th Century\", \"link\": \"http://public-domain-poetry.com/alice-meynell/father-of-women-38402\"}, {\"x\": -0.03145948, \"y\": 0.027318979, \"title\": \"o liberal, constant, dear! crush in my **nature** the ungenerous art of the inferior;\", \"tokens\": \"o liberal , constant , dear ! crush in my nature the un ##gen ##ero ##us art of the inferior ;\", \"word\": \"nature\", \"poem_title\": \"A Father Of Women\", \"author\": \"Alice Christiana Gertrude Thompson Meynell\", \"period\": \"19th Century\", \"link\": \"http://public-domain-poetry.com/alice-meynell/father-of-women-38402\"}, {\"x\": -0.03204836, \"y\": -0.020007862, \"title\": \"! crush in my nature the ungenerous **art** of the inferior; set me high, and here\", \"tokens\": \"! crush in my nature the un ##gen ##ero ##us art of the inferior ; set me high , and here\", \"word\": \"art\", \"poem_title\": \"A Father Of Women\", \"author\": \"Alice Christiana Gertrude Thompson Meynell\", \"period\": \"19th Century\", \"link\": \"http://public-domain-poetry.com/alice-meynell/father-of-women-38402\"}, {\"x\": -0.033675008, \"y\": -0.04006701, \"title\": \"to visions of heavenly rest! spirit! when thou **art** permitted to bask in the sunset of life;\", \"tokens\": \"to visions of heavenly rest ! spirit ! when thou art permitted to bas ##k in the sunset of life ;\", \"word\": \"art\", \"poem_title\": \"An Evening Thought\", \"author\": \"Charles Sangster\", \"period\": \"19th Century\", \"link\": \"http://public-domain-poetry.com/charles-sangster/an-evening-thought-30357\"}, {\"x\": -0.029181985, \"y\": 0.018193677, \"title\": \"little of the depths profound of \\\"telegraphic \\\"**science**: but now her peace she cannot hold and like\", \"tokens\": \"little of the depths profound of \\\" telegraph ##ic \\\" science : but now her peace she cannot hold and like\", \"word\": \"science\", \"poem_title\": \"Granta Victrix\", \"author\": \"Edward Woodley Bowling\", \"period\": \"19th Century\", \"link\": \"http://public-domain-poetry.com/edward-woodley-bowling/granta-victrix-36421\"}, {\"x\": -0.033323444, \"y\": 0.03496941, \"title\": \"thought of fortunes haply wrecked, nor pang for **nature**'s wild neglect. and, though the hearth\", \"tokens\": \"thought of fortunes ha ##ply wrecked , nor pang for nature ' s wild neglect . and , though the hearth\", \"word\": \"nature\", \"poem_title\": \"Fairhaven Bay\", \"author\": \"George Parsons Lathrop\", \"period\": \"19th Century\", \"link\": \"http://public-domain-poetry.com/george-parsons-lathrop/fairhaven-bay-22693\"}, {\"x\": -0.032912247, \"y\": -0.021850444, \"title\": \"to thee are strangers, thou our friend and teacher **art**; come, and know us as we know thee\", \"tokens\": \"to thee are strangers , thou our friend and teacher art ; come , and know us as we know thee\", \"word\": \"art\", \"poem_title\": \"To Fredrika Bremer\", \"author\": \"John Greenleaf Whittier\", \"period\": \"19th Century\", \"link\": \"http://public-domain-poetry.com/john-greenleaf-whittier/to-fredrika-bremer-6191\"}, {\"x\": -0.03143402, \"y\": 0.03343152, \"title\": \"stormy past, and meekly with my harsher **nature** bore, and deeper grew, and tenderer to\", \"tokens\": \"stormy past , and meek ##ly with my harsh ##er nature bore , and deeper grew , and tender ##er to\", \"word\": \"nature\", \"poem_title\": \"The Future Life\", \"author\": \"William Cullen Bryant\", \"period\": \"19th Century\", \"link\": \"http://public-domain-poetry.com/william-cullen-bryant/future-life-9872\"}, {\"x\": -0.034796976, \"y\": -0.03590607, \"title\": \"drink the syren tone, which tells him thou **art** all his own? oh, none:--\", \"tokens\": \"drink the sy ##ren tone , which tells him thou art all his own ? oh , none : - -\", \"word\": \"art\", \"poem_title\": \"Imitation Of Catullus. To Himself\", \"author\": \"Thomas Moore\", \"period\": \"19th Century\", \"link\": \"http://public-domain-poetry.com/thomas-moore/imitation-of-catullus-to-himself-26683\"}, {\"x\": -0.033760764, \"y\": -0.008463101, \"title\": \"seer. he wears the wedding-ring of **art** and nature; and his voice is bold. he\", \"tokens\": \"see ##r . he wears the wedding - ring of art and nature ; and his voice is bold . he\", \"word\": \"art\", \"poem_title\": \"The Mission Of The Bard\", \"author\": \"Eric Mackay\", \"period\": \"19th Century\", \"link\": \"http://public-domain-poetry.com/eric-mackay/mission-of-the-bard-38830\"}, {\"x\": -0.034200124, \"y\": 0.02684969, \"title\": \". he wears the wedding-ring of art and **nature**; and his voice is bold. he should be\", \"tokens\": \". he wears the wedding - ring of art and nature ; and his voice is bold . he should be\", \"word\": \"nature\", \"poem_title\": \"The Mission Of The Bard\", \"author\": \"Eric Mackay\", \"period\": \"19th Century\", \"link\": \"http://public-domain-poetry.com/eric-mackay/mission-of-the-bard-38830\"}, {\"x\": -0.03237826, \"y\": -0.043422736, \"title\": \"found a friend most faithful, uniformly kind. thou **art** the earliest friend of mine that's left-\", \"tokens\": \"found a friend most faithful , uniformly kind . thou art the earliest friend of mine that ' s left -\", \"word\": \"art\", \"poem_title\": \"To My Friend Mr. J. Ellis\", \"author\": \"Mary Ann H. T. Bigelow\", \"period\": \"19th Century\", \"link\": \"http://public-domain-poetry.com/mary-ann-h-t-bigelow/to-my-friend-mr-j-ellis-34994\"}, {\"x\": -0.032961547, \"y\": 0.03213118, \"title\": \"; they 've long years since the debt of **nature** paid, but thou remainest still, and thou\", \"tokens\": \"; they ' ve long years since the debt of nature paid , but thou remain ##est still , and thou\", \"word\": \"nature\", \"poem_title\": \"To My Friend Mr. J. Ellis\", \"author\": \"Mary Ann H. T. Bigelow\", \"period\": \"19th Century\", \"link\": \"http://public-domain-poetry.com/mary-ann-h-t-bigelow/to-my-friend-mr-j-ellis-34994\"}, {\"x\": -0.03336559, \"y\": 0.03377427, \"title\": \"old instrument sweet chords--calm things, that **nature**'s magic spell distils from heaven '\", \"tokens\": \"old instrument sweet chords - - calm things , that nature ' s magic spell di ##sti ##ls from heaven '\", \"word\": \"nature\", \"poem_title\": \"Field And Forest Call\", \"author\": \"Madison Julius Cawein\", \"period\": \"19th Century\", \"link\": \"http://public-domain-poetry.com/madison-julius-cawein/field-and-forest-call-11172\"}, {\"x\": -0.033508956, \"y\": 0.03757459, \"title\": \"and cool shadows--that the mystic soul of **nature** permeates with suave control, and waves\", \"tokens\": \"and cool shadows - - that the mystic soul of nature per ##me ##ates with su ##ave control , and waves\", \"word\": \"nature\", \"poem_title\": \"Field And Forest Call\", \"author\": \"Madison Julius Cawein\", \"period\": \"19th Century\", \"link\": \"http://public-domain-poetry.com/madison-julius-cawein/field-and-forest-call-11172\"}, {\"x\": -0.034563787, \"y\": -0.03774741, \"title\": \"s delight, when youth is past, and thou **art** near thy prime? when those who were thy own\", \"tokens\": \"s delight , when youth is past , and thou art near thy prime ? when those who were thy own\", \"word\": \"art\", \"poem_title\": \"Anticipation\", \"author\": \"Emily Bronte\", \"period\": \"19th Century\", \"link\": \"http://public-domain-poetry.com/emily-bronte/anticipation-9579\"}, {\"x\": -0.033322204, \"y\": 0.034840364, \"title\": \"like youth, to my maturer eyes, all **nature**'s million mysteries, the fearful and the fair\", \"tokens\": \"like youth , to my mature ##r eyes , all nature ' s million mysteries , the fearful and the fair\", \"word\": \"nature\", \"poem_title\": \"Anticipation\", \"author\": \"Emily Bronte\", \"period\": \"19th Century\", \"link\": \"http://public-domain-poetry.com/emily-bronte/anticipation-9579\"}, {\"x\": -0.032413512, \"y\": 0.038464017, \"title\": \"sit eternal, without change. we were sons of **nature** then: she had taken us to her, signal\", \"tokens\": \"sit eternal , without change . we were sons of nature then : she had taken us to her , signal\", \"word\": \"nature\", \"poem_title\": \"On the Jellico Spur of the Cumberlands\", \"author\": \"Madison Julius Cawein\", \"period\": \"19th Century\", \"link\": \"http://public-domain-poetry.com/madison-julius-cawein/on-the-jellico-spur-of-the-cumberlands-36978\"}, {\"x\": -0.034129485, \"y\": 0.032530718, \"title\": \"asting of their youth. and they feel how **nature** was fair. and the mists of delusion\", \"tokens\": \"##ast ##ing of their youth . and they feel how nature was fair . and the mist ##s of del ##usion\", \"word\": \"nature\", \"poem_title\": \"Power Of Youth\", \"author\": \"Matthew Arnold\", \"period\": \"19th Century\", \"link\": \"http://public-domain-poetry.com/matthew-arnold/power-of-youth-5676\"}, {\"x\": -0.032435473, \"y\": 0.03299996, \"title\": \"vah reigns! rising from the arms of night, **nature** hails the birth of light; smiling sweetly through\", \"tokens\": \"##vah reigns ! rising from the arms of night , nature hail ##s the birth of light ; smiling sweetly through\", \"word\": \"nature\", \"poem_title\": \"Morning Hymn\", \"author\": \"Susanna Moodie\", \"period\": \"19th Century\", \"link\": \"http://public-domain-poetry.com/susanna-moodie/morning-hymn-26486\"}, {\"x\": -0.03270555, \"y\": 0.035039842, \"title\": \"alone the shade of darkness lies: the last of **nature**'s children he, to laud the eternal\", \"tokens\": \"alone the shade of darkness lies : the last of nature ' s children he , to lau ##d the eternal\", \"word\": \"nature\", \"poem_title\": \"Morning Hymn\", \"author\": \"Susanna Moodie\", \"period\": \"19th Century\", \"link\": \"http://public-domain-poetry.com/susanna-moodie/morning-hymn-26486\"}, {\"x\": -0.028136643, \"y\": -0.0072682207, \"title\": \"never stinging, with a million novel data about the articulata, and facts that strip off all hu\", \"tokens\": \"never stinging , with a million novel data about the art ##ic ##ulata , and facts that strip off all hu\", \"word\": \"art\", \"poem_title\": \"A Farewell To Agassiz\", \"author\": \"Oliver Wendell Holmes\", \"period\": \"19th Century\", \"link\": \"http://public-domain-poetry.com/oliver-wendell-holmes/farewell-to-agassiz-20073\"}, {\"x\": -0.033990007, \"y\": -0.039842166, \"title\": \"born, all these are thine, but thou **art** more than all: speech can but tell thy name\", \"tokens\": \"born , all these are thin ##e , but thou art more than all : speech can but tell thy name\", \"word\": \"art\", \"poem_title\": \"Devon\", \"author\": \"Henry John Newbolt, Sir\", \"period\": \"19th Century\", \"link\": \"http://public-domain-poetry.com/sir-henry-john-newbolt/devon-27932\"}, {\"x\": -0.033083193, \"y\": -0.01269514, \"title\": \"between; where glorious athens from her rocky hill saw **art** and beauty subject to her will; and the cha\", \"tokens\": \"between ; where glorious athens from her rocky hill saw art and beauty subject to her will ; and the cha\", \"word\": \"art\", \"poem_title\": \"Pennsylvania Hall\", \"author\": \"John Greenleaf Whittier\", \"period\": \"19th Century\", \"link\": \"http://public-domain-poetry.com/john-greenleaf-whittier/pennsylvania-hall-6000\"}, {\"x\": -0.03234543, \"y\": -0.043855324, \"title\": \"sweet, we are lover and lover; this eve **art** thou given to gladness and me. shall we\", \"tokens\": \"sweet , we are lover and lover ; this eve art thou given to glad ##ness and me . shall we\", \"word\": \"art\", \"poem_title\": \"The Message Of The March Wind 1\", \"author\": \"William Morris\", \"period\": \"19th Century\", \"link\": \"http://public-domain-poetry.com/william-morris/message-of-the-march-wind-27580\"}, {\"x\": -0.032678418, \"y\": -0.034688488, \"title\": \"multitude waged war and won-the end thou **art** of wrestlings and of prayer, of sleepless\", \"tokens\": \"multitude wage ##d war and won - the end thou art of wrestling ##s and of prayer , of sleep ##less\", \"word\": \"art\", \"poem_title\": \"Milton's Appeal To Cromwell\", \"author\": \"Victor-Marie Hugo\", \"period\": \"19th Century\", \"link\": \"http://public-domain-poetry.com/victor-marie-hugo/miltons-appeal-to-cromwell-21050\"}, {\"x\": -0.029887022, \"y\": 0.009273641, \"title\": \"how all men, save the blind, might find **religion** in a scene so fair and formulate a creed\", \"tokens\": \"how all men , save the blind , might find religion in a scene so fair and formula ##te a creed\", \"word\": \"religion\", \"poem_title\": \"The Rhine\", \"author\": \"William Lisle Bowles\", \"period\": \"18th Century\", \"link\": \"http://public-domain-poetry.com/william-lisle-bowles/rhine-9307\"}, {\"x\": -0.026669865, \"y\": 0.019806523, \"title\": \"and moss. \\\"how he laughs! good-**natured** fellow! fisherman's luck makes most men\", \"tokens\": \"and moss . \\\" how he laughs ! good - nature ##d fellow ! fisherman ' s luck makes most men\", \"word\": \"nature\", \"poem_title\": \"A Boy's Summer Song\", \"author\": \"Paul Laurence Dunbar\", \"period\": \"20th Century\", \"link\": \"http://public-domain-poetry.com/paul-laurence-dunbar/boys-summer-song-15049\"}, {\"x\": -0.033915706, \"y\": 0.029444907, \"title\": \"from a morning's fishing. one lesson, **nature**, let me learn of thee, one lesson which\", \"tokens\": \"from a morning ' s fishing . one lesson , nature , let me learn of thee , one lesson which\", \"word\": \"nature\", \"poem_title\": \"Quiet Work\", \"author\": \"Matthew Arnold\", \"period\": \"19th Century\", \"link\": \"http://public-domain-poetry.com/matthew-arnold/quiet-work-3788\"}, {\"x\": -0.033637233, \"y\": -0.029012104, \"title\": \"breast thou hast left thy brown nest, and **art** towering above it, a speck in the sky\", \"tokens\": \"breast thou has ##t left thy brown nest , and art towering above it , a spec ##k in the sky\", \"word\": \"art\", \"poem_title\": \"The Skylark\", \"author\": \"John Clare\", \"period\": \"19th Century\", \"link\": \"http://public-domain-poetry.com/john-clare/skylark-12519\"}, {\"x\": -0.03308347, \"y\": 0.026927449, \"title\": \"minstrels that cheered me last spring: with **nature** thou 'rt blest, and green grass\", \"tokens\": \"min ##strel ##s that cheered me last spring : with nature thou ' rt b ##les ##t , and green grass\", \"word\": \"nature\", \"poem_title\": \"The Skylark\", \"author\": \"John Clare\", \"period\": \"19th Century\", \"link\": \"http://public-domain-poetry.com/john-clare/skylark-12519\"}, {\"x\": -0.03321279, \"y\": 0.03287126, \"title\": \"surmounted in the onward march of time, and **nature**'s forces harnessed will their destiny fulf\", \"tokens\": \"sur ##mounted in the onward march of time , and nature ' s forces harness ##ed will their destiny fu ##lf\", \"word\": \"nature\", \"poem_title\": \"A World Redeemed\", \"author\": \"Joseph Horatio Chant\", \"period\": \"19th Century\", \"link\": \"http://public-domain-poetry.com/joseph-horatio-chant/world-redeemed-11984\"}, {\"x\": -0.0321949, \"y\": -0.016306113, \"title\": \"a child; a young bud bursting into blossom; **artless**, as eve yet unbeguiled,\", \"tokens\": \"a child ; a young bud bursting into blossom ; art ##less , as eve yet un ##be ##gui ##led ,\", \"word\": \"art\", \"poem_title\": \"Gemini And Virgo\", \"author\": \"Charles Stuart Calverley\", \"period\": \"19th Century\", \"link\": \"http://public-domain-poetry.com/charles-stuart-calverley/gemini-and-virgo-38160\"}, {\"x\": -0.028174486, \"y\": 0.022276292, \"title\": \"fluous in speech are painful contradictions; that **science** ranks as monstrous things two pairs of upper limbs;\", \"tokens\": \"##fl ##uous in speech are painful contradiction ##s ; that science ranks as monstrous things two pairs of upper limbs ;\", \"word\": \"science\", \"poem_title\": \"A Fairy Tale\", \"author\": \"Henry Austin Dobson\", \"period\": \"19th Century\", \"link\": \"http://public-domain-poetry.com/henry-austin-dobson/fairy-tale-13981\"}, {\"x\": -0.033562765, \"y\": 0.038503204, \"title\": \"beaten gold, around its brim the hand of **nature** throws a garland sweeter than the banquet's\", \"tokens\": \"beaten gold , around its br ##im the hand of nature throws a garland sweet ##er than the banquet ' s\", \"word\": \"nature\", \"poem_title\": \"A Sentiment\", \"author\": \"Oliver Wendell Holmes\", \"period\": \"19th Century\", \"link\": \"http://public-domain-poetry.com/oliver-wendell-holmes/sentiment-19909\"}, {\"x\": -0.033095635, \"y\": 0.035912476, \"title\": \"tuate every heart shall warm, and genial **nature** still defy reform! weary and weak,-\", \"tokens\": \"##tua ##te every heart shall warm , and gen ##ial nature still def ##y reform ! weary and weak , -\", \"word\": \"nature\", \"poem_title\": \"A Sentiment\", \"author\": \"Oliver Wendell Holmes\", \"period\": \"19th Century\", \"link\": \"http://public-domain-poetry.com/oliver-wendell-holmes/sentiment-19909\"}, {\"x\": -0.031020476, \"y\": -0.04856966, \"title\": \", like days in summer, lengthened! therefore **art** thou ever clearer, o my sibyl,\", \"tokens\": \", like days in summer , length ##ened ! therefore art thou ever clearer , o my si ##by ##l ,\", \"word\": \"art\", \"poem_title\": \"Epimetheus Or The Poet's Afterthought\", \"author\": \"Henry Wadsworth Longfellow\", \"period\": \"19th Century\", \"link\": \"http://public-domain-poetry.com/henry-wadsworth-longfellow/epimetheus-or-the-poets-afterthought-24211\"}, {\"x\": -0.03314127, \"y\": 0.03410957, \"title\": \"keen breath arrested the sweet running rill, and **nature** seemed frozen in death, i thoughtfully strolled o '\", \"tokens\": \"keen breath arrested the sweet running ri ##ll , and nature seemed frozen in death , i thoughtfully strolled o '\", \"word\": \"nature\", \"poem_title\": \"The Irish Cabin\", \"author\": \"Patrick Bronte\", \"period\": \"19th Century\", \"link\": \"http://public-domain-poetry.com/patrick-bronte/irish-cabin-9630\"}, {\"x\": -0.031392995, \"y\": -0.015901795, \"title\": \", with an impression unanalysed, definite **art**, positive **art**, is a blasphemy\", \"tokens\": \", with an impression una ##nal ##yse ##d , definite art , positive art , is a b ##las ##ph ##emy\", \"word\": \"art\", \"poem_title\": \"The Double Chamber\", \"author\": \"Charles Baudelaire\", \"period\": \"19th Century\", \"link\": \"http://public-domain-poetry.com/charles-baudelaire/double-chamber-8916\"}, {\"x\": -0.030917685, \"y\": -0.01770834, \"title\": \"impression unanalysed, definite **art**, positive **art**, is a blasphemy. here all\", \"tokens\": \"impression una ##nal ##yse ##d , definite art , positive art , is a b ##las ##ph ##emy . here all\", \"word\": \"art\", \"poem_title\": \"The Double Chamber\", \"author\": \"Charles Baudelaire\", \"period\": \"19th Century\", \"link\": \"http://public-domain-poetry.com/charles-baudelaire/double-chamber-8916\"}, {\"x\": -0.026694942, \"y\": -0.017687056, \"title\": \"! 'then he rose from his chair with an **artless** grin and called the battery sergeant in:-\", \"tokens\": \"! ' then he rose from his chair with an art ##less grin and called the battery sergeant in : -\", \"word\": \"art\", \"poem_title\": \"Memory\", \"author\": \"Gilbert Keith Chesterton\", \"period\": \"20th Century\", \"link\": \"http://public-domain-poetry.com/gilbert-keith-chesterton/memory-33609\"}, {\"x\": -0.02966711, \"y\": -0.021635463, \"title\": \". mr. aubrey beer de beers, new english **art** ( excuse the chaff ) is like the newest\", \"tokens\": \". mr . aubrey beer de beers , new english art ( excuse the cha ##ff ) is like the newest\", \"word\": \"art\", \"poem_title\": \"Ars Postera\", \"author\": \"Owen Seaman\", \"period\": \"19th Century\", \"link\": \"http://public-domain-poetry.com/owen-seaman/ars-postera-39068\"}, {\"x\": -0.032321114, \"y\": 0.03855209, \"title\": \", you need not maim a beauty reared on **nature**'s rules; a simple maid au **naturel**\", \"tokens\": \", you need not mai ##m a beauty reared on nature ' s rules ; a simple maid au nature ##l\", \"word\": \"nature\", \"poem_title\": \"Ars Postera\", \"author\": \"Owen Seaman\", \"period\": \"19th Century\", \"link\": \"http://public-domain-poetry.com/owen-seaman/ars-postera-39068\"}, {\"x\": -0.027073214, \"y\": 0.029938959, \"title\": \"on **nature**'s rules; a simple maid au **naturel** is worth a dozen spotted ghouls.\", \"tokens\": \"on nature ' s rules ; a simple maid au nature ##l is worth a dozen spotted g ##ho ##uls .\", \"word\": \"nature\", \"poem_title\": \"Ars Postera\", \"author\": \"Owen Seaman\", \"period\": \"19th Century\", \"link\": \"http://public-domain-poetry.com/owen-seaman/ars-postera-39068\"}, {\"x\": -0.029226268, \"y\": -0.022005355, \"title\": \"of the trojan time smiles at the latest mode of **art**; howe 'er it be, it seems to\", \"tokens\": \"of the trojan time smiles at the latest mode of art ; howe ' er it be , it seems to\", \"word\": \"art\", \"poem_title\": \"Ars Postera\", \"author\": \"Owen Seaman\", \"period\": \"19th Century\", \"link\": \"http://public-domain-poetry.com/owen-seaman/ars-postera-39068\"}, {\"x\": -0.029538654, \"y\": -0.020299632, \"title\": \"it's not important to be new; new **art** would better nature's best, but nature knows\", \"tokens\": \"it ' s not important to be new ; new art would better nature ' s best , but nature knows\", \"word\": \"art\", \"poem_title\": \"Ars Postera\", \"author\": \"Owen Seaman\", \"period\": \"19th Century\", \"link\": \"http://public-domain-poetry.com/owen-seaman/ars-postera-39068\"}, {\"x\": -0.03138252, \"y\": 0.035579395, \"title\": \"not important to be new; new art would better **nature**'s best, but **nature** knows a thing or\", \"tokens\": \"not important to be new ; new art would better nature ' s best , but nature knows a thing or\", \"word\": \"nature\", \"poem_title\": \"Ars Postera\", \"author\": \"Owen Seaman\", \"period\": \"19th Century\", \"link\": \"http://public-domain-poetry.com/owen-seaman/ars-postera-39068\"}, {\"x\": -0.03230358, \"y\": 0.035256706, \"title\": \"new art would better **nature**'s best, but **nature** knows a thing or two. aubrey, aubrey beer\", \"tokens\": \"new art would better nature ' s best , but nature knows a thing or two . aubrey , aubrey beer\", \"word\": \"nature\", \"poem_title\": \"Ars Postera\", \"author\": \"Owen Seaman\", \"period\": \"19th Century\", \"link\": \"http://public-domain-poetry.com/owen-seaman/ars-postera-39068\"}, {\"x\": -0.032353163, \"y\": -0.015761623, \"title\": \"just when seemingly severe; so gently blending courtesy and **art** that wisdom's lips seemed borrowing friendship's\", \"tokens\": \"just when seemingly severe ; so gently blending courtesy and art that wisdom ' s lips seemed borrowing friendship ' s\", \"word\": \"art\", \"poem_title\": \"A Portrait\", \"author\": \"Oliver Wendell Holmes\", \"period\": \"19th Century\", \"link\": \"http://public-domain-poetry.com/oliver-wendell-holmes/portrait-19916\"}, {\"x\": -0.027040446, \"y\": 0.02175503, \"title\": \"mask in colored rags! they have a thing called **science**, with phrases strange and pat. my dear,\", \"tokens\": \"mask in colored rags ! they have a thing called science , with phrases strange and pat . my dear ,\", \"word\": \"science\", \"poem_title\": \"Quince To Lilac: To G. H\", \"author\": \"Bliss Carman (William)\", \"period\": \"19th Century\", \"link\": \"http://public-domain-poetry.com/william-bliss-carman/quince-to-lilac-to-g-h-10765\"}, {\"x\": -0.03349373, \"y\": -0.03704409, \"title\": \"thou, too, whosoe 'er thou **art**, that readest this brief psalm, as one\", \"tokens\": \"thou , too , who ##so ##e ' er thou art , that read ##est this brief psalm , as one\", \"word\": \"art\", \"poem_title\": \"The Light Of Stars\", \"author\": \"William Henry Giles Kingston\", \"period\": \"19th Century\", \"link\": \"http://public-domain-poetry.com/william-henry-giles-kingston/light-of-stars-21819\"}, {\"x\": -0.03365679, \"y\": -0.03994568, \"title\": \"love and joy, and life and death; thou **art** portion of my past, i of thine,\", \"tokens\": \"love and joy , and life and death ; thou art portion of my past , i of thin ##e ,\", \"word\": \"art\", \"poem_title\": \"The Nightingale\", \"author\": \"Victor James Daley\", \"period\": \"19th Century\", \"link\": \"http://public-domain-poetry.com/victor-james-daley/nightingale-7566\"}, {\"x\": -0.03180098, \"y\": 0.037941933, \"title\": \"written after a summer day's excursion. fair **nature**'s priestesses! to whom, in hi\", \"tokens\": \"written after a summer day ' s excursion . fair nature ' s priestess ##es ! to whom , in hi\", \"word\": \"nature\", \"poem_title\": \"To ----\", \"author\": \"John Greenleaf Whittier\", \"period\": \"19th Century\", \"link\": \"http://public-domain-poetry.com/john-greenleaf-whittier/to-6182\"}, {\"x\": -0.025156744, \"y\": -0.024216782, \"title\": \"graceful oars, which broke the morning dreams of artichoke, along his wooded shore! varied as\", \"tokens\": \"graceful o ##ars , which broke the morning dreams of art ##ich ##oke , along his wooded shore ! varied as\", \"word\": \"art\", \"poem_title\": \"To ----\", \"author\": \"John Greenleaf Whittier\", \"period\": \"19th Century\", \"link\": \"http://public-domain-poetry.com/john-greenleaf-whittier/to-6182\"}, {\"x\": -0.032911528, \"y\": 0.03810091, \"title\": \"oke, along his wooded shore! varied as varying **nature**'s ways, sprites of the river,\", \"tokens\": \"##oke , along his wooded shore ! varied as varying nature ' s ways , sp ##rites of the river ,\", \"word\": \"nature\", \"poem_title\": \"To ----\", \"author\": \"John Greenleaf Whittier\", \"period\": \"19th Century\", \"link\": \"http://public-domain-poetry.com/john-greenleaf-whittier/to-6182\"}, {\"x\": -0.026956849, \"y\": -0.026223555, \"title\": \"were doubtless such as you; what more than artichoke the rill of helicon?\", \"tokens\": \"were doubt ##less such as you ; what more than art ##ich ##oke the ri ##ll of he ##lic ##on ?\", \"word\": \"art\", \"poem_title\": \"To ----\", \"author\": \"John Greenleaf Whittier\", \"period\": \"19th Century\", \"link\": \"http://public-domain-poetry.com/john-greenleaf-whittier/to-6182\"}, {\"x\": -0.033594575, \"y\": 0.028553808, \"title\": \"charmed life unknown to death, immortal freshness **nature** hath; her fabled fount and glen\", \"tokens\": \"charm ##ed life unknown to death , immortal fresh ##ness nature hat ##h ; her fable ##d f ##ount and glen\", \"word\": \"nature\", \"poem_title\": \"To ----\", \"author\": \"John Greenleaf Whittier\", \"period\": \"19th Century\", \"link\": \"http://public-domain-poetry.com/john-greenleaf-whittier/to-6182\"}, {\"x\": -0.032870233, \"y\": 0.03175172, \"title\": \", deep down in coral caves. spontaneous me, **nature**, the loving day, the mounting sun, the\", \"tokens\": \", deep down in coral caves . spontaneous me , nature , the loving day , the mounting sun , the\", \"word\": \"nature\", \"poem_title\": \"Spontaneous Me\", \"author\": \"Walt Whitman\", \"period\": \"19th Century\", \"link\": \"http://public-domain-poetry.com/walt-whitman/spontaneous-me-977\"}, {\"x\": -0.0253847, \"y\": -0.01570705, \"title\": \"a railway director, an army contractor, a russian **art** patron, a lawyer, a conservative editor, a\", \"tokens\": \"a railway director , an army contractor , a russian art patron , a lawyer , a conservative editor , a\", \"word\": \"art\", \"poem_title\": \"The Reporter\", \"author\": \"Ivan Sergeyevich Turgenev\", \"period\": \"19th Century\", \"link\": \"http://public-domain-poetry.com/ivan-sergeyevich-turgenev/reporter-34869\"}, {\"x\": -0.03221071, \"y\": -0.04320237, \"title\": \"to alabaster; yea, thou who **art** terrible and mad and meek, why in my heart\", \"tokens\": \"to ala ##bas ##ter ; ye ##a , thou who art terrible and mad and meek , why in my heart\", \"word\": \"art\", \"poem_title\": \"To Sorrow\", \"author\": \"Madison Julius Cawein\", \"period\": \"19th Century\", \"link\": \"http://public-domain-poetry.com/madison-julius-cawein/to-sorrow-11303\"}, {\"x\": -0.03069005, \"y\": -0.042836774, \"title\": \"terrible and mad and meek, why in my heart **art** thou enshrined to-day? o\", \"tokens\": \"terrible and mad and meek , why in my heart art thou en ##sh ##rine ##d to - day ? o\", \"word\": \"art\", \"poem_title\": \"The Ballad of the Brand\", \"author\": \"Robert William Service\", \"period\": \"20th Century\", \"link\": \"http://public-domain-poetry.com/robert-william-service/ballad-of-the-brand-30864\"}, {\"x\": -0.030263575, \"y\": 0.02831727, \"title\": \"demoniac a stupid happy creature could rouse my whole **nature**. yet i am certain as can be that every\", \"tokens\": \"demon ##iac a stupid happy creature could rouse my whole nature . yet i am certain as can be that every\", \"word\": \"nature\", \"poem_title\": \"Demon and Beast\", \"author\": \"William Butler Yeats\", \"period\": \"19th Century\", \"link\": \"http://public-domain-poetry.com/william-butler-yeats/demon-and-beast-168\"}, {\"x\": -0.03363331, \"y\": 0.03186058, \"title\": \"waves and leaves,--when happy stoic **nature** grieves, no human speech so beautiful as\", \"tokens\": \"waves and leaves , - - when happy st ##oic nature gr ##ie ##ves , no human speech so beautiful as\", \"word\": \"nature\", \"poem_title\": \"The Nun's Aspiration\", \"author\": \"Ralph Waldo Emerson\", \"period\": \"19th Century\", \"link\": \"http://public-domain-poetry.com/ralph-waldo-emerson/nuns-aspiration-15330\"}, {\"x\": -0.033074796, \"y\": 0.034445588, \"title\": \"y dirge which blasts of northern mountains hymn, **nature**'s funeral high and dim,--sable\", \"tokens\": \"##y dir ##ge which blasts of northern mountains hymn , nature ' s funeral high and dim , - - sable\", \"word\": \"nature\", \"poem_title\": \"The Nun's Aspiration\", \"author\": \"Ralph Waldo Emerson\", \"period\": \"19th Century\", \"link\": \"http://public-domain-poetry.com/ralph-waldo-emerson/nuns-aspiration-15330\"}, {\"x\": -0.03235253, \"y\": 0.038617257, \"title\": \"rgeoning leaf and of bloom? the music of **nature**, that silently shapes in the gloom immaterial\", \"tokens\": \"##rgeon ##ing leaf and of bloom ? the music of nature , that silently shapes in the gloom im ##mate ##rial\", \"word\": \"nature\", \"poem_title\": \"Beautiful-Bosomed, O Night\", \"author\": \"Madison Julius Cawein\", \"period\": \"19th Century\", \"link\": \"http://public-domain-poetry.com/madison-julius-cawein/beautiful-bosomed-o-night-11874\"}, {\"x\": -0.03205919, \"y\": 0.03760748, \"title\": \"from the deep world-soul of the mother, **nature**; who over and over, both sweetheart and lover\", \"tokens\": \"from the deep world - soul of the mother , nature ; who over and over , both sweetheart and lover\", \"word\": \"nature\", \"poem_title\": \"Heart o' the North\", \"author\": \"Robert William Service\", \"period\": \"20th Century\", \"link\": \"http://public-domain-poetry.com/robert-william-service/heart-o-the-north-30980\"}, {\"x\": -0.029086515, \"y\": 0.030445972, \"title\": \"his covert, to see if time was there. **nature** was in her beryl apron, mixing fresher\", \"tokens\": \"his covert , to see if time was there . nature was in her be ##ryl apron , mixing fresh ##er\", \"word\": \"nature\", \"poem_title\": \"Storm\", \"author\": \"Emily Elizabeth Dickinson\", \"period\": \"19th Century\", \"link\": \"http://public-domain-poetry.com/emily-elizabeth-dickinson/storm-13727\"}, {\"x\": -0.034101084, \"y\": -0.0052735372, \"title\": \"a bright poetic impulse, original and true, which **art** can not acquire, and nature gave to you.\", \"tokens\": \"a bright poetic impulse , original and true , which art can not acquire , and nature gave to you .\", \"word\": \"art\", \"poem_title\": \"Lucy\", \"author\": \"George Pope Morris\", \"period\": \"19th Century\", \"link\": \"http://public-domain-poetry.com/george-pope-morris/lucy-27522\"}, {\"x\": -0.03441541, \"y\": 0.032211285, \"title\": \"and true, which art can not acquire, and **nature** gave to you. the olden fable, lucy\", \"tokens\": \"and true , which art can not acquire , and nature gave to you . the old ##en fable , lucy\", \"word\": \"nature\", \"poem_title\": \"Lucy\", \"author\": \"George Pope Morris\", \"period\": \"19th Century\", \"link\": \"http://public-domain-poetry.com/george-pope-morris/lucy-27522\"}, {\"x\": -0.03469371, \"y\": 0.034139823, \"title\": \"yes; what can no be? to die. **nature**'s answer is 't returned, as '\", \"tokens\": \"yes ; what can no be ? to die . nature ' s answer is ' t returned , as '\", \"word\": \"nature\", \"poem_title\": \"The Suicide's Argument\", \"author\": \"Samuel Taylor Coleridge\", \"period\": \"19th Century\", \"link\": \"http://public-domain-poetry.com/samuel-taylor-coleridge/suicides-argument-7376\"}, {\"x\": -0.030543456, \"y\": 0.032473806, \"title\": \"glad marching, a marching bold and free. all **nature** felt their coming, the birds like couriers flew\", \"tokens\": \"glad marching , a marching bold and free . all nature felt their coming , the birds like courier ##s flew\", \"word\": \"nature\", \"poem_title\": \"The March to the Sea\", \"author\": \"Herman Melville\", \"period\": \"19th Century\", \"link\": \"http://public-domain-poetry.com/herman-melville/march-to-the-sea-38498\"}, {\"x\": -0.032907527, \"y\": 0.03765367, \"title\": \"he stood, the vine-browed shape of **nature**'s mortal mood. \\\"now have i found\", \"tokens\": \"he stood , the vine - brow ##ed shape of nature ' s mortal mood . \\\" now have i found\", \"word\": \"nature\", \"poem_title\": \"A Dream\", \"author\": \"Sophie M. (Almon) Hensley\", \"period\": \"19th Century\", \"link\": \"http://public-domain-poetry.com/sophie-m-almon-hensley/dream-18421\"}, {\"x\": -0.0322735, \"y\": -0.04634204, \"title\": \"these years, unknowing; surely thou **art** fair and inly wise, and on thy ta\", \"tokens\": \"these years , un ##k ##now ##ing ; surely thou art fair and in ##ly wise , and on thy ta\", \"word\": \"art\", \"poem_title\": \"A Dream\", \"author\": \"Sophie M. (Almon) Hensley\", \"period\": \"19th Century\", \"link\": \"http://public-domain-poetry.com/sophie-m-almon-hensley/dream-18421\"}, {\"x\": -0.033945024, \"y\": -0.03454066, \"title\": \"o 'er yonder grove, as now thou **art**, which thou with light dost fill. but\", \"tokens\": \"o ' er yo ##nder grove , as now thou art , which thou with light dos ##t fill . but\", \"word\": \"art\", \"poem_title\": \"To The Moon\", \"author\": \"Giacomo Leopardi\", \"period\": \"19th Century\", \"link\": \"http://public-domain-poetry.com/giacomo-leopardi/to-the-moon-23703\"}, {\"x\": -0.03449836, \"y\": -0.032174688, \"title\": \"sirmio; thou that wast, and **art**, mine own unrivalled fair! where\", \"tokens\": \"sir ##mi ##o ; thou that was ##t , and art , mine own un ##ri ##val ##led fair ! where\", \"word\": \"art\", \"poem_title\": \"Catullus: XXXI\", \"author\": \"Thomas Hardy\", \"period\": \"19th Century\", \"link\": \"http://public-domain-poetry.com/thomas-hardy/catullus-xxxi-17781\"}, {\"x\": -0.02904823, \"y\": 0.016225636, \"title\": \"the time, blinking at o 'er-bright **science**, smit with desire to see and not to\", \"tokens\": \"the time , blinking at o ' er - bright science , sm ##it with desire to see and not to\", \"word\": \"science\", \"poem_title\": \"Acknowledgment\", \"author\": \"Sidney Lanier\", \"period\": \"19th Century\", \"link\": \"http://public-domain-poetry.com/sidney-lanier/acknowledgment-22526\"}, {\"x\": -0.033186845, \"y\": -0.030142488, \"title\": \"-break hamlets who so barely fail in life or **art** that but a hair's more scope had set\", \"tokens\": \"- break hamlets who so barely fail in life or art that but a hair ' s more scope had set\", \"word\": \"art\", \"poem_title\": \"Acknowledgment\", \"author\": \"Sidney Lanier\", \"period\": \"19th Century\", \"link\": \"http://public-domain-poetry.com/sidney-lanier/acknowledgment-22526\"}, {\"x\": -0.033624798, \"y\": 0.034354787, \"title\": \"telling of spring and gladsome sunny hours,-**nature**'s bright jewels! =-heart-refreshing\", \"tokens\": \"telling of spring and glad ##some sunny hours , - nature ' s bright jewels ! = - heart - refreshing\", \"word\": \"nature\", \"poem_title\": \"Lines on Receiving a Bunch of Wild Hyacinths by Post\", \"author\": \"John Hartley\", \"period\": \"19th Century\", \"link\": \"http://public-domain-poetry.com/john-hartley/lines-on-receiving-a-bunch-of-wild-hyacinths-by-post-18065\"}, {\"x\": -0.030938072, \"y\": -0.040565968, \"title\": \"a mother's eye flash in pride when thou **art** by! where the orange, bending lowly with\", \"tokens\": \"a mother ' s eye flash in pride when thou art by ! where the orange , bending low ##ly with\", \"word\": \"art\", \"poem_title\": \"These lines are inscribed to the memory of John Q. Carlin, killed at Buena Vista\", \"author\": \"George W. Sands\", \"period\": \"19th Century\", \"link\": \"http://public-domain-poetry.com/george-w-sands/these-lines-are-inscribed-to-the-memory-of-john-q-carlin-killed-at-buena-vista-30312\"}, {\"x\": -0.030825505, \"y\": -0.014791326, \"title\": \"live. the moral equivalent of war is freedom. **art** does not suffice-religion is not life\", \"tokens\": \"live . the moral equivalent of war is freedom . art does not su ##ffi ##ce - religion is not life\", \"word\": \"art\", \"poem_title\": \"Victor Rafolski On Art\", \"author\": \"Edgar Lee Masters\", \"period\": \"19th Century\", \"link\": \"http://public-domain-poetry.com/edgar-lee-masters/victor-rafolski-on-art-37599\"}, {\"x\": -0.028967867, \"y\": 0.008205361, \"title\": \"is freedom. art does not suffice-**religion** is not life, but life is living. and\", \"tokens\": \"is freedom . art does not su ##ffi ##ce - religion is not life , but life is living . and\", \"word\": \"religion\", \"poem_title\": \"Victor Rafolski On Art\", \"author\": \"Edgar Lee Masters\", \"period\": \"19th Century\", \"link\": \"http://public-domain-poetry.com/edgar-lee-masters/victor-rafolski-on-art-37599\"}, {\"x\": -0.031706404, \"y\": -0.011384355, \"title\": \"and painted cherries to the hungry thrush is **art** to life. the **artist** lived his work. you\", \"tokens\": \"and painted cher ##ries to the hungry thru ##sh is art to life . the artist lived his work . you\", \"word\": \"art\", \"poem_title\": \"Victor Rafolski On Art\", \"author\": \"Edgar Lee Masters\", \"period\": \"19th Century\", \"link\": \"http://public-domain-poetry.com/edgar-lee-masters/victor-rafolski-on-art-37599\"}, {\"x\": -0.0306826, \"y\": -0.013250959, \"title\": \"s at painted cherries who hope to live through **art**. beer-soaked goliaths, the story\", \"tokens\": \"##s at painted cher ##ries who hope to live through art . beer - soaked go ##lia ##ths , the story\", \"word\": \"art\", \"poem_title\": \"Victor Rafolski On Art\", \"author\": \"Edgar Lee Masters\", \"period\": \"19th Century\", \"link\": \"http://public-domain-poetry.com/edgar-lee-masters/victor-rafolski-on-art-37599\"}, {\"x\": -0.033635627, \"y\": 0.0328658, \"title\": \"net's blithest lay, all **nature**'s children feel the matin spring of life\", \"tokens\": \"##net ' s b ##lit ##hes ##t lay , all nature ' s children feel the mat ##in spring of life\", \"word\": \"nature\", \"poem_title\": \"The Lady Of The Lake: Canto II. - The Island\", \"author\": \"Walter Scott (Sir)\", \"period\": \"19th Century\", \"link\": \"http://public-domain-poetry.com/walter-scott/lady-of-the-lake-canto-ii-the-island-7135\"}, {\"x\": -0.030819668, \"y\": -0.01516636, \"title\": \"its advent morn. their eyes were lit with **artless** trust, hope thrilled their every tone; \\\"\", \"tokens\": \"its advent mor ##n . their eyes were lit with art ##less trust , hope thrilled their every tone ; \\\"\", \"word\": \"art\", \"poem_title\": \"The Unborn\", \"author\": \"Thomas Hardy\", \"period\": \"19th Century\", \"link\": \"http://public-domain-poetry.com/thomas-hardy/unborn-17361\"}, {\"x\": -0.03046711, \"y\": 0.033288237, \"title\": \"the brook, and read me wonder-legends in **nature**'s story book. loved fairy-tales forgotten\", \"tokens\": \"the brook , and read me wonder - legends in nature ' s story book . loved fairy - tales forgotten\", \"word\": \"nature\", \"poem_title\": \"The Haunted Woodland\", \"author\": \"Madison Julius Cawein\", \"period\": \"19th Century\", \"link\": \"http://public-domain-poetry.com/madison-julius-cawein/haunted-woodland-36996\"}, {\"x\": -0.03367963, \"y\": 0.027268235, \"title\": \"floor! thou wast the victor, and all **nature** shrunk before the thunders of thine\", \"tokens\": \"floor ! thou was ##t the victor , and all nature sh ##run ##k before the thunder ##s of thin ##e\", \"word\": \"nature\", \"poem_title\": \"The Song Of Los\", \"author\": \"William Blake\", \"period\": \"18th Century\", \"link\": \"http://public-domain-poetry.com/william-blake/song-of-los-9275\"}, {\"x\": -0.032867275, \"y\": -0.042760134, \"title\": \"crouched and panted as thy step went by! thou **art** the vanquished, and insulting man bars thy\", \"tokens\": \"crouched and panted as thy step went by ! thou art the van ##qui ##shed , and insulting man bars thy\", \"word\": \"art\", \"poem_title\": \"The Credit Of The Conqueror\", \"author\": \"Robert Herrick\", \"period\": \"16th-17th Centuries (Early Modern)\", \"link\": \"http://public-domain-poetry.com/robert-herrick/credit-of-the-conqueror-18934\"}, {\"x\": -0.03369248, \"y\": 0.02901616, \"title\": \"on, and not to die. what charms does **nature** at the spring put on, when hedges unper\", \"tokens\": \"on , and not to die . what charms does nature at the spring put on , when hedges un ##per\", \"word\": \"nature\", \"poem_title\": \"Spring\", \"author\": \"John Clare\", \"period\": \"19th Century\", \"link\": \"http://public-domain-poetry.com/john-clare/spring-12378\"}, {\"x\": -0.03218181, \"y\": -0.046384938, \"title\": \"of indifferent attention ruffles thy calm. thou **art** good and wise... and all things are\", \"tokens\": \"of indifferent attention ru ##ffle ##s thy calm . thou art good and wise . . . and all things are\", \"word\": \"art\", \"poem_title\": \"N.N\", \"author\": \"Ivan Sergeyevich Turgenev\", \"period\": \"19th Century\", \"link\": \"http://public-domain-poetry.com/ivan-sergeyevich-turgenev/nn-34885\"}, {\"x\": -0.032691132, \"y\": -0.045424003, \"title\": \"and of no one hast thou need. thou **art** fair, and no one can say, whether thou\", \"tokens\": \"and of no one has ##t thou need . thou art fair , and no one can say , whether thou\", \"word\": \"art\", \"poem_title\": \"N.N\", \"author\": \"Ivan Sergeyevich Turgenev\", \"period\": \"19th Century\", \"link\": \"http://public-domain-poetry.com/ivan-sergeyevich-turgenev/nn-34885\"}, {\"x\": -0.028795257, \"y\": 0.012413031, \"title\": \"st. paul's, and the astor! **religion** seems very ill-plann'd! for\", \"tokens\": \"st . paul ' s , and the astor ! religion seems very ill - plan ##n ' d ! for\", \"word\": \"religion\", \"poem_title\": \"City Lyrics\", \"author\": \"Nathaniel Parker Willis\", \"period\": \"19th Century\", \"link\": \"http://public-domain-poetry.com/nathaniel-parker-willis/city-lyrics-5738\"}, {\"x\": -0.029091194, \"y\": 0.0123437075, \"title\": \"on its neighbour. competition is as wholesome in **religion** as in commerce. \\\"\\\"in argument, truth\", \"tokens\": \"on its neighbour . competition is as whole ##some in religion as in commerce . \\\" \\\" in argument , truth\", \"word\": \"religion\", \"poem_title\": \"Quotations V\", \"author\": \"Walter Savage Landor\", \"period\": \"19th Century\", \"link\": \"http://public-domain-poetry.com/walter-savage-landor/quotations-v-2810\"}, {\"x\": -0.031469017, \"y\": -0.045201976, \"title\": \"sun-rays strike, let me see what thou **art** like; for great love enthralls me\", \"tokens\": \"sun - rays strike , let me see what thou art like ; for great love en ##th ##ral ##ls me\", \"word\": \"art\", \"poem_title\": \"Married Lovers\", \"author\": \"Jean Ingelow\", \"period\": \"19th Century\", \"link\": \"http://public-domain-poetry.com/jean-ingelow/married-lovers-21279\"}, {\"x\": -0.0322845, \"y\": -0.042403843, \"title\": \"mist is lifted from the heavy hours, and thou **art** everywhere. [ note.-the following lines were\", \"tokens\": \"mist is lifted from the heavy hours , and thou art everywhere . [ note . - the following lines were\", \"word\": \"art\", \"poem_title\": null, \"author\": null, \"period\": null, \"link\": null}, {\"x\": -0.030952761, \"y\": 0.03628452, \"title\": \"important occupation, and drives me to the study of **nature**, and other low pursuits. having few neighbors,\", \"tokens\": \"important occupation , and drives me to the study of nature , and other low pursuits . having few neighbors ,\", \"word\": \"nature\", \"poem_title\": \"The Birds Of Spring - Prose\", \"author\": \"Washington Irving\", \"period\": \"19th Century\", \"link\": \"http://public-domain-poetry.com/washington-irving/birds-of-spring-prose-6567\"}, {\"x\": -0.03153878, \"y\": 0.039949667, \"title\": \"deathlike sleep of winter was at an end; **nature** was once more awakening; they now promised themselves the\", \"tokens\": \"death ##like sleep of winter was at an end ; nature was once more awakening ; they now promised themselves the\", \"word\": \"nature\", \"poem_title\": \"The Birds Of Spring - Prose\", \"author\": \"Washington Irving\", \"period\": \"19th Century\", \"link\": \"http://public-domain-poetry.com/washington-irving/birds-of-spring-prose-6567\"}, {\"x\": -0.032859527, \"y\": 0.031899042, \"title\": \"soul that sensed all flowerful loveliness, the **nature** as the **nature** of a child; who found some\", \"tokens\": \"soul that sensed all flower ##ful love ##liness , the nature as the nature of a child ; who found some\", \"word\": \"nature\", \"poem_title\": \"Threnody In May\", \"author\": \"Madison Julius Cawein\", \"period\": \"19th Century\", \"link\": \"http://public-domain-poetry.com/madison-julius-cawein/threnody-in-may-11599\"}, {\"x\": -0.031151587, \"y\": 0.03000315, \"title\": \"all flowerful loveliness, the **nature** as the **nature** of a child; who found some rapture in\", \"tokens\": \"all flower ##ful love ##liness , the nature as the nature of a child ; who found some rap ##ture in\", \"word\": \"nature\", \"poem_title\": \"Threnody In May\", \"author\": \"Madison Julius Cawein\", \"period\": \"19th Century\", \"link\": \"http://public-domain-poetry.com/madison-julius-cawein/threnody-in-may-11599\"}, {\"x\": -0.032090236, \"y\": -0.0150149595, \"title\": \"ess, and sang, with his incomparable **art**, the magic wonder of the wood and wild.\", \"tokens\": \"##ess , and sang , with his inc ##omp ##arable art , the magic wonder of the wood and wild .\", \"word\": \"art\", \"poem_title\": \"Threnody In May\", \"author\": \"Madison Julius Cawein\", \"period\": \"19th Century\", \"link\": \"http://public-domain-poetry.com/madison-julius-cawein/threnody-in-may-11599\"}, {\"x\": -0.03335566, \"y\": -0.04137031, \"title\": \"'tis when thou look'st divinest thou **art** still most sure to fly. even as the lightning\", \"tokens\": \"' tis when thou look ' st divine ##st thou art still most sure to fly . even as the lightning\", \"word\": \"art\", \"poem_title\": \"Still Thou Fliest\", \"author\": \"Thomas Moore\", \"period\": \"19th Century\", \"link\": \"http://public-domain-poetry.com/thomas-moore/still-thou-fliest-27084\"}, {\"x\": -0.032930605, \"y\": 0.03122125, \"title\": \"i have kept uninfring'd my **nature**'s law; the inly-written chart\", \"tokens\": \"i have kept un ##in ##fr ##ing ' d my nature ' s law ; the in ##ly - written chart\", \"word\": \"nature\", \"poem_title\": \"The White Doe Of Rylstone, Or, The Fate Of The Nortons - Canto Second\", \"author\": \"William Wordsworth\", \"period\": \"18th Century\", \"link\": \"http://public-domain-poetry.com/william-wordsworth/white-doe-of-rylstone-or-the-fate-of-the-nortons-canto-second-4079\"}, {\"x\": -0.0337488, \"y\": -0.014558733, \"title\": \"rude as mine, chase not the wonders of your **art** divine; still, radiant eye, upon the canvas\", \"tokens\": \"rude as mine , chase not the wonders of your art divine ; still , radiant eye , upon the canvas\", \"word\": \"art\", \"poem_title\": \"To The Marchioness Dowager Of Donegall\", \"author\": \"Thomas Moore\", \"period\": \"19th Century\", \"link\": \"http://public-domain-poetry.com/thomas-moore/to-the-marchioness-dowager-of-donegall-26724\"}, {\"x\": -0.03298266, \"y\": 0.029381344, \"title\": \"and, while i sing the animated smiles of fairy **nature** in these sun-born isles, oh, might\", \"tokens\": \"and , while i sing the animated smiles of fairy nature in these sun - born isles , oh , might\", \"word\": \"nature\", \"poem_title\": \"To The Marchioness Dowager Of Donegall\", \"author\": \"Thomas Moore\", \"period\": \"19th Century\", \"link\": \"http://public-domain-poetry.com/thomas-moore/to-the-marchioness-dowager-of-donegall-26724\"}, {\"x\": -0.033740528, \"y\": 0.033421498, \"title\": \"wields and cherishes the frame of **nature**. from this brow of rock that overlooks the\", \"tokens\": \"wi ##eld ##s and cher ##ish ##es the frame of nature . from this brow of rock that overlook ##s the\", \"word\": \"nature\", \"poem_title\": \"Noon. - From An Unfinished Poem\", \"author\": \"William Cullen Bryant\", \"period\": \"19th Century\", \"link\": \"http://public-domain-poetry.com/william-cullen-bryant/noon-from-an-unfinished-poem-9885\"}, {\"x\": -0.031749103, \"y\": -0.047029108, \"title\": \"mother, thou wilt weep no more for thou **art** gone above, but can i ever cease to mo\", \"tokens\": \"mother , thou wil ##t weep no more for thou art gone above , but can i ever cease to mo\", \"word\": \"art\", \"poem_title\": \"An Orphan's Lament\", \"author\": \"Anne Bronte\", \"period\": \"19th Century\", \"link\": \"http://public-domain-poetry.com/anne-bronte/an-orphans-lament-9495\"}, {\"x\": -0.030442916, \"y\": -0.028414175, \"title\": \"could make thee fall, black earl, who now **art** so high, ere thou rob fruit from the\", \"tokens\": \"could make thee fall , black earl , who now art so high , er ##e thou rob fruit from the\", \"word\": \"art\", \"poem_title\": \"Another To God\", \"author\": \"Robert Herrick\", \"period\": \"16th-17th Centuries (Early Modern)\", \"link\": \"http://public-domain-poetry.com/robert-herrick/another-to-god-19696\"}, {\"x\": -0.032757655, \"y\": -0.04060859, \"title\": \"'s mid span? what, silent all! **art** sad of cheer? **art** fearful now? when god\", \"tokens\": \"' s mid span ? what , silent all ! art sad of cheer ? art fearful now ? when god\", \"word\": \"art\", \"poem_title\": \"My Soul And I\", \"author\": \"John Greenleaf Whittier\", \"period\": \"19th Century\", \"link\": \"http://public-domain-poetry.com/john-greenleaf-whittier/my-soul-and-i-5982\"}, {\"x\": -0.0328497, \"y\": -0.04021993, \"title\": \"what, silent all! **art** sad of cheer? **art** fearful now? when god seemed far and men were\", \"tokens\": \"what , silent all ! art sad of cheer ? art fearful now ? when god seemed far and men were\", \"word\": \"art\", \"poem_title\": \"My Soul And I\", \"author\": \"John Greenleaf Whittier\", \"period\": \"19th Century\", \"link\": \"http://public-domain-poetry.com/john-greenleaf-whittier/my-soul-and-i-5982\"}, {\"x\": -0.02852023, \"y\": -0.048231773, \"title\": \"pelf, your end is one! and where **art** thou going, soul of mine? canst see\", \"tokens\": \"pe ##lf , your end is one ! and where art thou going , soul of mine ? cans ##t see\", \"word\": \"art\", \"poem_title\": \"My Soul And I\", \"author\": \"John Greenleaf Whittier\", \"period\": \"19th Century\", \"link\": \"http://public-domain-poetry.com/john-greenleaf-whittier/my-soul-and-i-5982\"}, {\"x\": -0.033096563, \"y\": 0.031731367, \"title\": \"gliding o 'er all, through all, through **nature**, time, and space, as a ship on\", \"tokens\": \"gliding o ' er all , through all , through nature , time , and space , as a ship on\", \"word\": \"nature\", \"poem_title\": \"Gliding O'er All\", \"author\": \"Walt Whitman\", \"period\": \"19th Century\", \"link\": \"http://public-domain-poetry.com/walt-whitman/gliding-oer-all-869\"}, {\"x\": -0.033256706, \"y\": 0.031271327, \"title\": \"the final goal of ill, to pangs of **nature**, sins of will, defects of doubt, and\", \"tokens\": \"the final goal of ill , to pang ##s of nature , sins of will , defects of doubt , and\", \"word\": \"nature\", \"poem_title\": \"The Larger Hope\", \"author\": \"Alfred Lord Tennyson\", \"period\": \"19th Century\", \"link\": \"http://public-domain-poetry.com/alfred-lord-tennyson/larger-hope-3653\"}, {\"x\": -0.034291334, \"y\": 0.029281965, \"title\": \"and that, how soon! but here some pity **nature** shows, though small, once in this spot to\", \"tokens\": \"and that , how soon ! but here some pity nature shows , though small , once in this spot to\", \"word\": \"nature\", \"poem_title\": \"The Lonely Life\", \"author\": \"Giacomo Leopardi\", \"period\": \"19th Century\", \"link\": \"http://public-domain-poetry.com/giacomo-leopardi/lonely-life-23705\"}, {\"x\": -0.033452224, \"y\": 0.034128487, \"title\": \"me so courteous! thou, too, o **nature**, turn'st away thy gaze from misery;\", \"tokens\": \"me so court ##eous ! thou , too , o nature , turn ' st away thy gaze from misery ;\", \"word\": \"nature\", \"poem_title\": \"The Lonely Life\", \"author\": \"Giacomo Leopardi\", \"period\": \"19th Century\", \"link\": \"http://public-domain-poetry.com/giacomo-leopardi/lonely-life-23705\"}, {\"x\": -0.03331297, \"y\": -0.037809405, \"title\": \"lo, he maketh all things new. thou **art** sleeping, brother, sleeping in thy lonely battle grave\", \"tokens\": \"lo , he make ##th all things new . thou art sleeping , brother , sleeping in thy lonely battle grave\", \"word\": \"art\", \"poem_title\": \"In Memoriam (David J. Ryan, C.S.A.)\", \"author\": \"Abram Joseph Ryan\", \"period\": \"19th Century\", \"link\": \"http://public-domain-poetry.com/abram-joseph-ryan/in-memoriam-david-j-ryan-csa-30199\"}, {\"x\": -0.03105703, \"y\": -0.022350263, \"title\": \"free hotch-pot of daily topic. so **artless** in its vanity, so fleeting, so eternal\", \"tokens\": \"free hot ##ch - pot of daily topic . so art ##less in its vanity , so fleeting , so eternal\", \"word\": \"art\", \"poem_title\": \"Pepys' \\\"Diary\\\"\", \"author\": \"Henry Austin Dobson\", \"period\": \"19th Century\", \"link\": \"http://public-domain-poetry.com/henry-austin-dobson/pepys-diary-14049\"}, {\"x\": -0.026913036, \"y\": -0.022636658, \"title\": \"agnoscere latos immanesque artus atque ora hirsuta vide\", \"tokens\": \"ag ##nos ##cer ##e la ##tos im ##man ##es ##que art ##us at ##que or ##a hi ##rs ##uta vi ##de\", \"word\": \"art\", \"poem_title\": \"In Camum. (Latin)\", \"author\": \"Edward Woodley Bowling\", \"period\": \"19th Century\", \"link\": \"http://public-domain-poetry.com/edward-woodley-bowling/in-camum-36418\"}, {\"x\": -0.029520933, \"y\": -0.048202675, \"title\": \"--what, malise?--soon **art** thou returned from braes of doune. by\", \"tokens\": \"- - what , mali ##se ? - - soon art thou returned from bra ##es of do ##une . by\", \"word\": \"art\", \"poem_title\": \"The Lady Of The Lake: Canto IV. - The Prophecy\", \"author\": \"Walter Scott (Sir)\", \"period\": \"19th Century\", \"link\": \"http://public-domain-poetry.com/walter-scott/lady-of-the-lake-canto-iv-the-prophecy-7137\"}, {\"x\": -0.032522846, \"y\": 0.030616486, \"title\": \"ed; thus were milton and cervantes, **nature**'s priests and corybantes, by af\", \"tokens\": \"##ed ; thus were milton and ce ##rva ##ntes , nature ' s priests and cory ##bant ##es , by af\", \"word\": \"nature\", \"poem_title\": \"Prometheus Or The Poet's Forethought\", \"author\": \"Henry Wadsworth Longfellow\", \"period\": \"19th Century\", \"link\": \"http://public-domain-poetry.com/henry-wadsworth-longfellow/prometheus-or-the-poets-forethought-24210\"}, {\"x\": -0.027777523, \"y\": 0.033532795, \"title\": \"such a pensive hour of soothing silence. kind **nature**, shuffling in her loose undress, lays bare\", \"tokens\": \"such a pens ##ive hour of soothing silence . kind nature , shuffling in her loose und ##ress , lays bare\", \"word\": \"nature\", \"poem_title\": \"Evening By A Tailor\", \"author\": \"Oliver Wendell Holmes\", \"period\": \"19th Century\", \"link\": \"http://public-domain-poetry.com/oliver-wendell-holmes/evening-by-a-tailor-19883\"}, {\"x\": -0.033191886, \"y\": 0.0340581, \"title\": \"the vulgar know not all the hidden pockets, where **nature** stows away her loveliness the shades of night\", \"tokens\": \"the vulgar know not all the hidden pockets , where nature st ##ows away her love ##liness the shades of night\", \"word\": \"nature\", \"poem_title\": \"Evening By A Tailor\", \"author\": \"Oliver Wendell Holmes\", \"period\": \"19th Century\", \"link\": \"http://public-domain-poetry.com/oliver-wendell-holmes/evening-by-a-tailor-19883\"}, {\"x\": -0.0318255, \"y\": 0.025129708, \"title\": \"spitefully hid: i is the ice which spent **nature** demanded: j is the juvenile who hurried to hand\", \"tokens\": \"spite ##fully hid : i is the ice which spent nature demanded : j is the juvenile who hurried to hand\", \"word\": \"nature\", \"poem_title\": \"A, B, C\", \"author\": \"Charles Stuart Calverley\", \"period\": \"19th Century\", \"link\": \"http://public-domain-poetry.com/charles-stuart-calverley/a-b-c-38165\"}, {\"x\": -0.029052654, \"y\": -0.020313103, \"title\": \"the kerchief, a rare work of **art**: l is the lace which composed the chief part\", \"tokens\": \"the ke ##rch ##ie ##f , a rare work of art : l is the lace which composed the chief part\", \"word\": \"art\", \"poem_title\": \"A, B, C\", \"author\": \"Charles Stuart Calverley\", \"period\": \"19th Century\", \"link\": \"http://public-domain-poetry.com/charles-stuart-calverley/a-b-c-38165\"}, {\"x\": -0.032227196, \"y\": 0.034951758, \"title\": \"leprosy, no rice, what you call **nature**. see! **nature**! \\\"-king joy *\", \"tokens\": \"le ##pro ##sy , no rice , what you call nature . see ! nature ! \\\" - king joy *\", \"word\": \"nature\", \"poem_title\": \"The End Of The Search\", \"author\": \"Edgar Lee Masters\", \"period\": \"19th Century\", \"link\": \"http://public-domain-poetry.com/edgar-lee-masters/end-of-the-search-37632\"}, {\"x\": -0.03189243, \"y\": 0.032366868, \"title\": \"no rice, what you call **nature**. see! **nature**! \\\"-king joy * * * * *\", \"tokens\": \"no rice , what you call nature . see ! nature ! \\\" - king joy * * * * *\", \"word\": \"nature\", \"poem_title\": \"The End Of The Search\", \"author\": \"Edgar Lee Masters\", \"period\": \"19th Century\", \"link\": \"http://public-domain-poetry.com/edgar-lee-masters/end-of-the-search-37632\"}, {\"x\": -0.03328056, \"y\": -0.041575003, \"title\": \"unbending, cheaply bought virtue; thou **art** almost more revolting than the frank hideousness of\", \"tokens\": \"un ##ben ##ding , cheap ##ly bought virtue ; thou art almost more revolt ##ing than the frank hideous ##ness of\", \"word\": \"art\", \"poem_title\": \"The Egoist\", \"author\": \"Ivan Sergeyevich Turgenev\", \"period\": \"19th Century\", \"link\": \"http://public-domain-poetry.com/ivan-sergeyevich-turgenev/egoist-34871\"}, {\"x\": -0.034124825, \"y\": 0.03678938, \"title\": \"the soul, when thou dost bask in **nature**'s eye, ask, how she view '\", \"tokens\": \"the soul , when thou dos ##t bas ##k in nature ' s eye , ask , how she view '\", \"word\": \"nature\", \"poem_title\": \"Morality\", \"author\": \"Matthew Arnold\", \"period\": \"19th Century\", \"link\": \"http://public-domain-poetry.com/matthew-arnold/morality-3747\"}, {\"x\": -0.034568902, \"y\": 0.03330734, \"title\": \"-control, thy struggling, task'd morality **nature**, whose free, light, cheerful air, of\", \"tokens\": \"- control , thy struggling , task ' d morality nature , whose free , light , cheerful air , of\", \"word\": \"nature\", \"poem_title\": \"Morality\", \"author\": \"Matthew Arnold\", \"period\": \"19th Century\", \"link\": \"http://public-domain-poetry.com/matthew-arnold/morality-3747\"}, {\"x\": -0.034297954, \"y\": 0.03125911, \"title\": \"near them i could hear them speak of queenly **nature**'s ways, means, and moods,-\", \"tokens\": \"near them i could hear them speak of queen ##ly nature ' s ways , means , and moods , -\", \"word\": \"nature\", \"poem_title\": \"The Bullfinches\", \"author\": \"Thomas Hardy\", \"period\": \"19th Century\", \"link\": \"http://public-domain-poetry.com/thomas-hardy/bullfinches-17723\"}, {\"x\": -0.0313922, \"y\": 0.014285138, \"title\": \"done, nor any secret voice of benison might **nature** own, were not each sound and sight the sign\", \"tokens\": \"done , nor any secret voice of ben ##ison might nature own , were not each sound and sight the sign\", \"word\": \"nature\", \"poem_title\": \"J. E. B\", \"author\": \"Arthur Sherburne Hardy\", \"period\": \"19th Century\", \"link\": \"http://public-domain-poetry.com/arthur-sherburne-hardy/j-e-b-17122\"}, {\"x\": -0.031469226, \"y\": 0.028682563, \"title\": \"and singular i 've banished from these spectacles **nature** and the irregular. and, happy with my artist\", \"tokens\": \"and singular i ' ve banished from these spectacle ##s nature and the irregular . and , happy with my artist\", \"word\": \"nature\", \"poem_title\": \"Parisian Dream\", \"author\": \"Charles Baudelaire\", \"period\": \"19th Century\", \"link\": \"http://public-domain-poetry.com/charles-baudelaire/parisian-dream-9013\"}, {\"x\": -0.025127882, \"y\": 0.021820713, \"title\": \"-meaning, free-spoken crowd, good-**natured** enough, but a little too loud,-\", \"tokens\": \"- meaning , free - spoken crowd , good - nature ##d enough , but a little too loud , -\", \"word\": \"nature\", \"poem_title\": \"At The Banquet To The Japanese Embassy\", \"author\": \"Oliver Wendell Holmes\", \"period\": \"19th Century\", \"link\": \"http://public-domain-poetry.com/oliver-wendell-holmes/at-the-banquet-to-the-japanese-embassy-20071\"}, {\"x\": -0.032722324, \"y\": 0.030874085, \"title\": \"'s treeless plain, the waste that careless **nature** owns; lone tenants of her bleak domain, loomed\", \"tokens\": \"' s tree ##less plain , the waste that careless nature owns ; lone tenants of her bleak domain , loomed\", \"word\": \"nature\", \"poem_title\": \"The Broken Circle\", \"author\": \"Oliver Wendell Holmes\", \"period\": \"19th Century\", \"link\": \"http://public-domain-poetry.com/oliver-wendell-holmes/broken-circle-20010\"}, {\"x\": -0.03258508, \"y\": -0.042956628, \"title\": \"cend my longing i seek but love, and thou **art** love! i go to find my lost and mo\", \"tokens\": \"##cend my longing i seek but love , and thou art love ! i go to find my lost and mo\", \"word\": \"art\", \"poem_title\": \"What The Traveller Said At Sunset\", \"author\": \"John Greenleaf Whittier\", \"period\": \"19th Century\", \"link\": \"http://public-domain-poetry.com/john-greenleaf-whittier/what-the-traveller-said-at-sunset-6221\"}, {\"x\": -0.033553757, \"y\": 0.027556546, \"title\": \"cost me many a sigh. oh, call not **nature** dumb; these trees and stones are audible to me\", \"tokens\": \"cost me many a sigh . oh , call not nature dumb ; these trees and stones are audible to me\", \"word\": \"nature\", \"poem_title\": \"Sonet 44\", \"author\": \"Michael Drayton\", \"period\": \"16th-17th Centuries (Early Modern)\", \"link\": \"http://public-domain-poetry.com/michael-drayton/sonet-44-14511\"}, {\"x\": -0.033795267, \"y\": -0.013178424, \"title\": \"a day, with body and spirit, and patient **art**, like mists had melted away; and o\", \"tokens\": \"a day , with body and spirit , and patient art , like mist ##s had melted away ; and o\", \"word\": \"art\", \"poem_title\": \"Husband And Wife\", \"author\": \"Rosanna Eleanor Leprohon\", \"period\": \"19th Century\", \"link\": \"http://public-domain-poetry.com/rosanna-eleanor-leprohon/husband-and-wife-23823\"}, {\"x\": -0.031562887, \"y\": 0.029943673, \"title\": \"them rise. whose smile is that? its pattern **nature** gave, a sunbeam dancing in a dimpled\", \"tokens\": \"them rise . whose smile is that ? its pattern nature gave , a sun ##beam dancing in a dim ##pled\", \"word\": \"nature\", \"poem_title\": \"Vestigia Quinque Retrorsum - An Academic Poem\", \"author\": \"Oliver Wendell Holmes\", \"period\": \"19th Century\", \"link\": \"http://public-domain-poetry.com/oliver-wendell-holmes/vestigia-quinque-retrorsum-an-academic-poem-20114\"}, {\"x\": -0.032363955, \"y\": 0.032628607, \"title\": \"summer's circumspect. had **nature** any outcast face, could she a son con\", \"tokens\": \"summer ' s ci ##rc ##ums ##pe ##ct . had nature any out ##cast face , could she a son con\", \"word\": \"nature\", \"poem_title\": \"The Mushroom\", \"author\": \"Emily Elizabeth Dickinson\", \"period\": \"19th Century\", \"link\": \"http://public-domain-poetry.com/emily-elizabeth-dickinson/mushroom-13718\"}, {\"x\": -0.032048523, \"y\": 0.033571776, \"title\": \", could she a son contemn, had **nature** an iscariot, that mushroom,--\", \"tokens\": \", could she a son con ##tem ##n , had nature an is ##car ##iot , that mushroom , - -\", \"word\": \"nature\", \"poem_title\": \"The Mushroom\", \"author\": \"Emily Elizabeth Dickinson\", \"period\": \"19th Century\", \"link\": \"http://public-domain-poetry.com/emily-elizabeth-dickinson/mushroom-13718\"}, {\"x\": -0.029794978, \"y\": -0.020160047, \"title\": \"sacred when its soil was ours; hither the **artless** indian maid brought wreaths of beads and flowers\", \"tokens\": \"sacred when its soil was ours ; hit ##her the art ##less indian maid brought wreath ##s of beads and flowers\", \"word\": \"art\", \"poem_title\": \"An Indian At The Burial-Place Of His Fathers\", \"author\": \"William Cullen Bryant\", \"period\": \"19th Century\", \"link\": \"http://public-domain-poetry.com/william-cullen-bryant/an-indian-at-the-burial-place-of-his-fathers-9782\"}, {\"x\": -0.032200206, \"y\": 0.03292003, \"title\": \"things are slumbering in the deep hush of **nature**'s resting time. the faded west looks deep\", \"tokens\": \"things are sl ##umber ##ing in the deep hush of nature ' s resting time . the faded west looks deep\", \"word\": \"nature\", \"poem_title\": \"Starlight\", \"author\": \"Nathaniel Parker Willis\", \"period\": \"19th Century\", \"link\": \"http://public-domain-poetry.com/nathaniel-parker-willis/starlight-34642\"}, {\"x\": -0.033987902, \"y\": -0.018883528, \"title\": \"own thou hast been, shalt be, **art**, alone. or, if not quite alone,\", \"tokens\": \"own thou has ##t been , sha ##lt be , art , alone . or , if not quite alone ,\", \"word\": \"art\", \"poem_title\": \"To Marguerite\", \"author\": \"Matthew Arnold\", \"period\": \"19th Century\", \"link\": \"http://public-domain-poetry.com/matthew-arnold/to-marguerite-5708\"}, {\"x\": -0.029784175, \"y\": -0.046004836, \"title\": \", and whither dost thou go? **art** thou a monster born of sky and sea? **art**\", \"tokens\": \", and w ##hit ##her dos ##t thou go ? art thou a monster born of sky and sea ? art\", \"word\": \"art\", \"poem_title\": \"The Steam-Boat\", \"author\": \"Thomas Gent\", \"period\": \"19th Century\", \"link\": \"http://public-domain-poetry.com/thomas-gent/steam-boat-16231\"}, {\"x\": -0.029569449, \"y\": -0.045142405, \"title\": \"**art** thou a monster born of sky and sea? **art** thou a pagod moving in thine ir\", \"tokens\": \"art thou a monster born of sky and sea ? art thou a pa ##go ##d moving in thin ##e ir\", \"word\": \"art\", \"poem_title\": \"The Steam-Boat\", \"author\": \"Thomas Gent\", \"period\": \"19th Century\", \"link\": \"http://public-domain-poetry.com/thomas-gent/steam-boat-16231\"}, {\"x\": -0.029960476, \"y\": 0.015904052, \"title\": \"umbled thrones-then empires fell, as **science**, freedom, truth, arose, and, shaking\", \"tokens\": \"##umble ##d throne ##s - then empires fell , as science , freedom , truth , arose , and , shaking\", \"word\": \"science\", \"poem_title\": \"The World's Day\", \"author\": \"Pamela S. Vining, (J. C. Yule)\", \"period\": \"19th Century\", \"link\": \"http://public-domain-poetry.com/pamela-s-vining/worlds-day-34409\"}, {\"x\": -0.03217355, \"y\": -0.046746854, \"title\": \"light clear and cold; nor know, where thou **art** gone, the mournfulness and mirth we\", \"tokens\": \"##light clear and cold ; nor know , where thou art gone , the mo ##urn ##fulness and mir ##th we\", \"word\": \"art\", \"poem_title\": \"The Dead Child\", \"author\": \"Victor James Daley\", \"period\": \"19th Century\", \"link\": \"http://public-domain-poetry.com/victor-james-daley/dead-child-7538\"}, {\"x\": -0.031594265, \"y\": 0.034379862, \"title\": \"to drink the mingled venoms up, secure my **nature** will convert the draught to blossoming gladness fast\", \"tokens\": \"to drink the mingled venom ##s up , secure my nature will convert the draught to blossom ##ing glad ##ness fast\", \"word\": \"nature\", \"poem_title\": \"Madhouse Cell - Johannes Agricola In Meditation\", \"author\": \"Robert Browning\", \"period\": \"19th Century\", \"link\": \"http://public-domain-poetry.com/robert-browning/madhouse-cell-johannes-agricola-in-meditation-6722\"}, {\"x\": -0.029809346, \"y\": -0.051435575, \"title\": \"s break, there the strong hurricanes awake. yet **art** thou prodigal of smiles, smiles, sweet\", \"tokens\": \"##s break , there the strong hurricanes awake . yet art thou pro ##di ##gal of smiles , smiles , sweet\", \"word\": \"art\", \"poem_title\": \"The Skies\", \"author\": \"William Cullen Bryant\", \"period\": \"19th Century\", \"link\": \"http://public-domain-poetry.com/william-cullen-bryant/skies-9801\"}, {\"x\": -0.03339446, \"y\": 0.031289518, \"title\": \"in anguish, not in prayer, nought, **nature**'s anthem, ever swelling up from **nature** '\", \"tokens\": \"in anguish , not in prayer , no ##ught , nature ' s anthem , ever swelling up from nature '\", \"word\": \"nature\", \"poem_title\": \"Sanzas\", \"author\": \"Pamela S. Vining, (J. C. Yule)\", \"period\": \"19th Century\", \"link\": \"http://public-domain-poetry.com/pamela-s-vining/sanzas-34507\"}, {\"x\": -0.033228323, \"y\": 0.032224353, \"title\": \", **nature**'s anthem, ever swelling up from **nature**'s myriad voices, for the hymn would breathe\", \"tokens\": \", nature ' s anthem , ever swelling up from nature ' s myriad voices , for the hymn would breathe\", \"word\": \"nature\", \"poem_title\": \"Sanzas\", \"author\": \"Pamela S. Vining, (J. C. Yule)\", \"period\": \"19th Century\", \"link\": \"http://public-domain-poetry.com/pamela-s-vining/sanzas-34507\"}, {\"x\": -0.028971022, \"y\": -0.024307093, \"title\": \"hill. now, mr. dove has too much **art** to show the horse or show the cart; instead\", \"tokens\": \"hill . now , mr . dove has too much art to show the horse or show the cart ; instead\", \"word\": \"art\", \"poem_title\": \"Post-Impressionism\", \"author\": \"Bert Leston Taylor\", \"period\": \"19th Century\", \"link\": \"http://public-domain-poetry.com/bert-leston-taylor/post-impressionism-39164\"}]}}, {\"mode\": \"vega-lite\"});\n",
       "</script>"
      ],
      "text/plain": [
       "alt.Chart(...)"
      ]
     },
     "execution_count": 1,
     "metadata": {},
     "output_type": "execute_result"
    }
   ],
   "source": [
    "import pandas as pd\n",
    "import altair as alt\n",
    "\n",
    "url = \"https://raw.githubusercontent.com/melaniewalsh/BERT-4-Humanists/main/data/bert-word-nature.csv\"\n",
    "df = pd.read_csv(url, encoding='utf-8')\n",
    "\n",
    "search_keywords = ['nature', 'science', 'religion', 'art']\n",
    "color_by = 'word'\n",
    "\n",
    "alt.Chart(df, title=f\"Word Similarity: {', '.join(search_keywords).title()}\").mark_circle(size=200).encode(\n",
    "    alt.X('x',\n",
    "        scale=alt.Scale(zero=False)\n",
    "    ), y=\"y\",\n",
    "    color= color_by,\n",
    "    href=\"link\",\n",
    "    tooltip=['title', 'word', 'poem_title', 'author', 'period']\n",
    "    ).interactive().properties(\n",
    "    width=500,\n",
    "    height=500\n",
    ")"
   ]
  },
  {
   "cell_type": "markdown",
   "metadata": {
    "id": "4yycYqe4W-MI"
   },
   "source": [
    "The plot above displays a preview of our later results. This is what we're working toward!\n",
    "\n",
    "You can hover over each point to see the instance of each word in context. If you press `Shift` and click on a point, you will be taken to the original poem on Public-Domain-Poetry.com. Try it out!"
   ]
  },
  {
   "cell_type": "markdown",
   "metadata": {
    "id": "y73xWUkpU1AC"
   },
   "source": [
    "## **Import necessary Python libraries and modules**"
   ]
  },
  {
   "attachments": {},
   "cell_type": "markdown",
   "metadata": {
    "id": "4N0RIalt28yL"
   },
   "source": [
    "Ok enough introduction! Let's get started.\n",
    "\n",
    "We import the DistilBertModel and DistilBertTokenizerFast from the Hugging Face `transformers` library. We also import a handful of other Python libraries and modules."
   ]
  },
  {
   "cell_type": "code",
   "execution_count": null,
   "metadata": {
    "id": "6lcEPhcuV9f5",
    "tags": []
   },
   "outputs": [],
   "source": [
    "# new\n",
    "from   transformers import DistilBertTokenizerFast, DistilBertModel\n",
    "import altair as alt\n",
    "\n",
    "# others\n",
    "import numpy as np\n",
    "import os\n",
    "import pandas as pd\n",
    "from   sklearn.decomposition import PCA\n",
    "\n",
    "pd.options.display.max_colwidth = 200"
   ]
  },
  {
   "cell_type": "markdown",
   "metadata": {
    "id": "P_C4hiuqvt5L"
   },
   "source": [
    "## **Load text dataset**"
   ]
  },
  {
   "cell_type": "markdown",
   "metadata": {
    "id": "4olw75x3vt5N"
   },
   "source": [
    "Our dataset contains around 30,000 poems scraped from  http://public-domain-poetry.com/. This website hosts a curated collection of poems that have fallen out of copyright, which makes them easier to share.\n",
    "You can find the data in the AI for Humanists [GitHub repository](https://github.com/melaniewalsh/BERT-4-Humanists/blob/main/data/public-domain-poetry.csv).\n",
    "\n",
    "We don't have granular date information about when each poem was published, but we do know the birth dates of most of our authors, which we've used to loosely categorize the poems by time period. The poems in our data range from the Middle Ages to the twentieth century, but most come from the nineteenth century. The data features both well-known authors — William Wordsworth, Emily  Dickinson, Paul Laurence Dunbar, Walt Whitman, Shakespeare — as well as less well-known authors."
   ]
  },
  {
   "cell_type": "code",
   "execution_count": null,
   "metadata": {
    "colab": {
     "base_uri": "https://localhost:8080/",
     "height": 640
    },
    "id": "O1tvz3gsvt5O",
    "outputId": "086b4ac1-5d6a-4116-93f5-151c4d5ffbff",
    "tags": []
   },
   "outputs": [],
   "source": [
    "# read poems from b4h github repo\n",
    "url = \"https://raw.githubusercontent.com/melaniewalsh/BERT-4-Humanists/main/data/public-domain-poetry.csv\"\n",
    "poetry_df = pd.read_csv(url, encoding='utf-8')\n",
    "poetry_df.sample(5)"
   ]
  },
  {
   "cell_type": "code",
   "execution_count": null,
   "metadata": {
    "colab": {
     "base_uri": "https://localhost:8080/"
    },
    "id": "g8QQS9tuOXSh",
    "outputId": "43313f98-b285-4ed0-ee1c-751bc69ae1fa",
    "tags": []
   },
   "outputs": [],
   "source": [
    "# count of poems\n",
    "len(poetry_df)"
   ]
  },
  {
   "cell_type": "code",
   "execution_count": null,
   "metadata": {
    "colab": {
     "base_uri": "https://localhost:8080/"
    },
    "id": "joWGYvxWOBij",
    "outputId": "76ab4814-0a70-41b7-b250-6604e3fe182f",
    "tags": []
   },
   "outputs": [],
   "source": [
    "# top authors\n",
    "poetry_df['author'].value_counts()[:20]"
   ]
  },
  {
   "cell_type": "code",
   "execution_count": null,
   "metadata": {
    "colab": {
     "base_uri": "https://localhost:8080/",
     "height": 436
    },
    "id": "wHC9f2vnV0M-",
    "outputId": "eb735d4b-dcaf-4548-a467-93d3c12460ff",
    "tags": []
   },
   "outputs": [],
   "source": [
    "# vis counts by period\n",
    "poetry_df['period'].sort_values().hist(figsize=(15, 5));"
   ]
  },
  {
   "cell_type": "markdown",
   "metadata": {
    "id": "CFEhTJirgLL7"
   },
   "source": [
    "## **Sample text dataset**"
   ]
  },
  {
   "cell_type": "markdown",
   "metadata": {
    "id": "hebn8lYhOffh"
   },
   "source": [
    "Though we wish we could analyze all the poems in this data, Colab tends to crash if we try to use more than 4-5,000 poems —  even with DistilBert, the smaller version of BERT. This is an important limitation to keep in mind. If you'd like to use more text data, you might consider upgrading to a paid version of Colab (with more memory or GPUs) or using a compute cluster.\n",
    "\n",
    "To reduce the number of poems, we will take a random sample of 1,000 poems from four different time periods: the 20th Century, 19th Century, 18th Century, and the Early Modern period."
   ]
  },
  {
   "cell_type": "code",
   "execution_count": null,
   "metadata": {
    "id": "hdMUw_LWgjVF",
    "tags": []
   },
   "outputs": [],
   "source": [
    "# Filter the DataFrame for only a given time period, then randomly sample 1000 rows\n",
    "nineteenth_sample = poetry_df[poetry_df['period'] == '19th Century'].sample(1000)\n",
    "twentieth_sample = poetry_df[poetry_df['period'] == '20th Century'].sample(1000)\n",
    "eighteenth_sample = poetry_df[poetry_df['period'] == '18th Century'].sample(1000)\n",
    "sixteenth_sample = poetry_df[poetry_df['period'] == '16th-17th Centuries (Early Modern)'].sample(1000)"
   ]
  },
  {
   "cell_type": "code",
   "execution_count": null,
   "metadata": {
    "id": "BXxtap-thFRk",
    "tags": []
   },
   "outputs": [],
   "source": [
    "# Merge these random samples into a new DataFrame\n",
    "poetry_df = pd.concat([sixteenth_sample, eighteenth_sample, twentieth_sample, nineteenth_sample])"
   ]
  },
  {
   "cell_type": "code",
   "execution_count": null,
   "metadata": {
    "colab": {
     "base_uri": "https://localhost:8080/"
    },
    "id": "JimPkAcPavEj",
    "outputId": "ef8fbe97-e135-48b9-b553-f6d24d5ca03a",
    "tags": []
   },
   "outputs": [],
   "source": [
    "poetry_df['period'].value_counts()"
   ]
  },
  {
   "cell_type": "markdown",
   "metadata": {
    "id": "7B5soBd4vt5O"
   },
   "source": [
    "Finally, let's make a list of poems from our Pandas DataFrame."
   ]
  },
  {
   "cell_type": "code",
   "execution_count": null,
   "metadata": {
    "id": "Z70pWivdvt5O",
    "tags": []
   },
   "outputs": [],
   "source": [
    "poetry_texts = poetry_df['text'].tolist()"
   ]
  },
  {
   "cell_type": "markdown",
   "metadata": {
    "id": "TGi0nOaevt5P"
   },
   "source": [
    "Let's examine a poem in our dataset:"
   ]
  },
  {
   "cell_type": "code",
   "execution_count": null,
   "metadata": {
    "colab": {
     "base_uri": "https://localhost:8080/"
    },
    "id": "-CktiYltvt5P",
    "outputId": "7d067ba3-39f4-4e82-d6b5-d8425ef9cff7",
    "tags": []
   },
   "outputs": [],
   "source": [
    "len(poetry_texts)"
   ]
  },
  {
   "cell_type": "code",
   "execution_count": null,
   "metadata": {
    "colab": {
     "base_uri": "https://localhost:8080/"
    },
    "id": "jl2UYJSkvt5P",
    "outputId": "7a83538c-202d-4c47-8730-79c8a43e7170",
    "tags": []
   },
   "outputs": [],
   "source": [
    "print(poetry_texts[2])"
   ]
  },
  {
   "cell_type": "markdown",
   "metadata": {
    "id": "rTDNuhAqyMQC"
   },
   "source": [
    "## **Encode/tokenize text data for BERT**\n",
    "\n",
    "Next we need to transform our poems into a format that BERT (via Huggingface) will understand. This is called *tokenizing* the data.\n",
    "\n",
    "We will tokenize the poems with the `tokenizer()` from HuggingFace's `DistilBertTokenizerFast`. Here's what the `tokenizer()` will do:\n",
    "\n",
    "1. Truncate the texts if they're more than 512 tokens or pad them if they're fewer than 512 tokens. If a word is not in BERT's vocabulary, it will be broken up into smaller \"word pieces,\" demarcated by a `##`.\n",
    "\n",
    "2. Add in special tokens to help BERT:\n",
    "    - [CLS] — Start token of every document\n",
    "    - [SEP] — Separator between each sentence\n",
    "    - [PAD] — Padding at the end of the document as many times as necessary, up to 512 tokens\n",
    "    - &#35;&#35; — Start of a \"word piece\""
   ]
  },
  {
   "cell_type": "markdown",
   "metadata": {
    "id": "XKgQkdodA-Jz"
   },
   "source": [
    "Here we will load `DistilBertTokenizerFast` from `transformers` library, which will help us transform and encode the texts so they can be used with BERT."
   ]
  },
  {
   "cell_type": "code",
   "execution_count": null,
   "metadata": {
    "colab": {
     "base_uri": "https://localhost:8080/",
     "height": 145,
     "referenced_widgets": [
      "26425be9a4e54ccbb4cc5ef73077d149",
      "709218ee899c4a93ac4fbf6f84703c85",
      "707a405d5a2a485e9a7881e76ed949b9",
      "acc1a7b5a33f4b908e0307d887c27f25",
      "7c150c596db34cc4928d8c765ff7e7e0",
      "60a9584e8ee44b38873c2a939f77b73b",
      "b2b7669b0aed4b34ae64d972a81deb07",
      "a37779becbd84eafa59a728e80ce6505",
      "8c3c3bc62b624f79847099b30aa845cc",
      "7bf7fe2f28dd4c0db5524c135b34a6b2",
      "21ad9d3e9a254774ad41dc4e5a12066f",
      "b0b994f704fa49b8a4170561946befe7",
      "f566acdf3ff941f89aa0115ed1da5542",
      "cc4d2930127840c2b26c34d8c9e3e3ac",
      "1ab5abd87d044dd8a2bae602adab82e6",
      "1fdcde59d6564c1c8e36004a4b8c9fc7",
      "ed48a22e6a5547068e500d6ddf25eba9",
      "0bb54eb7d13e42f8a7e4973eda2e949f",
      "d4e107e5aede4148b70a14bd0bbce207",
      "d3c3ceff6e364115bd9828d1b83d0df1",
      "c38a2b3bb8a44e3cbcc31a500e8c7a04",
      "16a80915daa040318030826f7f458465",
      "0b5bc039c05e443ea326ef95b25ef75e",
      "edffc083ccc64fc4aea4ba69e9d96e7d",
      "b75fd96303824cbdae743d8ecef6fdce",
      "79276eecfcd14092b9ed83a6533bb723",
      "c44d4b524c4345b2a8469b44be1cc36c",
      "74913eb6cebe40fba5596253b7750b4f",
      "ff2d2a38728d411184a4b70a143a18e4",
      "4a466c48f54c4fd2b71a94f20cf608c5",
      "08e4c191f6e84fb68a23aae2b9a51742",
      "cccc081d60234be7b6e15cd1fc6806c9",
      "ccd7a6556a2a47ea89a3965d52cab4c6",
      "0509139eb69044e9932a5925705d9c8a",
      "8d714ea5ef264a198d4d3327615db71d",
      "0ec2f7aa3ef6416493b0056d76a56f64",
      "275835e2e04940508864d3cf799f258e",
      "b739fe5724a34a4b9a054f60f9a08ba5",
      "97d765635d6f4fe68a0df06462b6f865",
      "be5495466eb149d4939ae8d1ad2149bb",
      "ef57f2af381c48d9b2044883a4197e2e",
      "20fa87cdd37b4bf589b694e66443f4a6",
      "6c3234f0a8c441209b1bcd5a34cdbf77",
      "f6b367791e264c52b2298a90dce57abb"
     ]
    },
    "id": "uDuGq_n4pgZX",
    "outputId": "46f8a6c8-b79c-4492-975d-50cfd04b425e",
    "tags": []
   },
   "outputs": [],
   "source": [
    "tokenizer = DistilBertTokenizerFast.from_pretrained('distilbert-base-uncased')"
   ]
  },
  {
   "cell_type": "markdown",
   "metadata": {
    "id": "7LbZPuonBIJl"
   },
   "source": [
    "The `tokenizer()` will break word tokens into word pieces, truncate to 512 tokens, and add padding and special BERT tokens."
   ]
  },
  {
   "cell_type": "code",
   "execution_count": null,
   "metadata": {
    "id": "BPoDCzIx_17F",
    "tags": []
   },
   "outputs": [],
   "source": [
    "tokenized_poems = tokenizer(poetry_texts, truncation=True, padding=True, return_tensors=\"pt\")"
   ]
  },
  {
   "cell_type": "markdown",
   "metadata": {
    "id": "MulyNi6jBMIK"
   },
   "source": [
    "Let's examine the first tokenized poem. We can see that the special BERT tokens have been inserted where necessary."
   ]
  },
  {
   "cell_type": "code",
   "execution_count": null,
   "metadata": {
    "colab": {
     "base_uri": "https://localhost:8080/",
     "height": 161
    },
    "id": "4A89SN_ppiUP",
    "outputId": "b3060571-d837-402b-cfc4-a41b70ab3538",
    "tags": []
   },
   "outputs": [],
   "source": [
    "' '.join(tokenized_poems[2].tokens)"
   ]
  },
  {
   "cell_type": "markdown",
   "metadata": {
    "id": "OkVgFcbCqKSu"
   },
   "source": [
    "## **Load pre-trained BERT model**"
   ]
  },
  {
   "cell_type": "markdown",
   "metadata": {
    "id": "dGVbuDJ0BXQ2"
   },
   "source": [
    "Here we will load a pre-trained BERT model. To speed things up we will use a GPU, but using GPU involves a few extra steps.\n",
    "The command `.to(\"cuda\")` moves data from regular memory to the GPU's memory.\n",
    "\n",
    "\n"
   ]
  },
  {
   "cell_type": "code",
   "execution_count": null,
   "metadata": {
    "tags": []
   },
   "outputs": [],
   "source": [
    "#device = 'mps' # apple silicon gpu\n",
    "device = 'cuda' # nvidia gpu\n",
    "#device = 'cpu' # slooooow"
   ]
  },
  {
   "cell_type": "code",
   "execution_count": null,
   "metadata": {
    "colab": {
     "base_uri": "https://localhost:8080/",
     "height": 49,
     "referenced_widgets": [
      "64ee8a6e3b6446ca8ad11e64f9460b07",
      "0f9292c9d79640218efcceb5a18a1e9d",
      "6e764f2f47624c1784013439981eca7a",
      "d2d535eb15404b1c96d1ae1cb507a149",
      "8e8932b65e1c4eeb90c23c4d2408b332",
      "0786e07fd446428a9083e2c3eee9f5a2",
      "563a67d90aed44ddbe609d7827c203d9",
      "0eb61716436343d79c915c83bc28be83",
      "b6f870afbc904e458003114a920a01a0",
      "c023d4859cc641a2bf7138ccc43b101b",
      "9c9ee2ef3c1348d684969031ea1cc24a"
     ]
    },
    "id": "a7k75REXp7UJ",
    "outputId": "21a1a2e5-f2a4-4b62-bbb6-428caceee545",
    "tags": []
   },
   "outputs": [],
   "source": [
    "model = DistilBertModel.from_pretrained('distilbert-base-uncased').to(device)"
   ]
  },
  {
   "cell_type": "code",
   "execution_count": null,
   "metadata": {
    "tags": []
   },
   "outputs": [],
   "source": [
    "# check device in use\n",
    "model.device"
   ]
  },
  {
   "cell_type": "markdown",
   "metadata": {
    "id": "zrau9RGwYic8"
   },
   "source": [
    "## **Get BERT word embeddings for each document in a collection**"
   ]
  },
  {
   "cell_type": "markdown",
   "metadata": {
    "id": "W-vSpKnKBZWJ"
   },
   "source": [
    "For each poem in our list `poetry_texts`, we will tokenize the poem, and we will extract the vocabulary word ID for each word/token in the poem (to use for later reference). Then we will run the tokenized poem through the BERT model and extract the contextual vectors for each word/token in the poem.\n",
    "\n",
    "We thus create two big lists for all the poems in our collection — `doc_word_ids` and `doc_word_vectors`."
   ]
  },
  {
   "cell_type": "code",
   "execution_count": null,
   "metadata": {
    "id": "j58TvTCd_kxI",
    "tags": []
   },
   "outputs": [],
   "source": [
    "%%time\n",
    "# List of vocabulary word IDs for all the words in each document (aka each poem)\n",
    "doc_word_ids = []\n",
    "# List of word vectors for all the words in each document (aka each poem)\n",
    "doc_word_vectors = []\n",
    "\n",
    "# slice each poem to ignore the first (0th) and last (-1) special BERT tokens\n",
    "# generally do not want to do this, but here we only want the regular embeddings\n",
    "start_of_words = 1\n",
    "end_of_words = -1\n",
    "\n",
    "# Below we will index the 0th or first document, which will be the only document, since we're analzying one poem at a time\n",
    "first_document = 0\n",
    "\n",
    "for i, poem in enumerate(poetry_texts):\n",
    "\n",
    "    # Here we tokenize each poem with the DistilBERT Tokenizer\n",
    "    inputs = tokenizer(poem, return_tensors=\"pt\", truncation=True, padding=True)\n",
    "\n",
    "    # Here we extract the vocabulary word ids for all the words in the poem (the first or 0th document, since we only have one document)\n",
    "    # We ignore the first and last special BERT tokens\n",
    "    # We also convert from a Pytorch tensor to a numpy array\n",
    "    doc_word_ids.append(inputs.input_ids[first_document].numpy()[start_of_words:end_of_words])\n",
    "\n",
    "    # Here we send the tokenized poems to the GPU\n",
    "    # The model is already on the GPU, but this poem isn't, so we send it to the GPU\n",
    "    inputs.to(device)\n",
    "    # Here we run the tokenized poem through the DistilBERT model\n",
    "    outputs = model(**inputs)\n",
    "\n",
    "    # We take every element from the first or 0th document, from the 2nd to the 2nd-to-last position\n",
    "    # Grabbing the last layer is one way of getting token vectors. There are different ways to get vectors with different pros and cons\n",
    "    doc_word_vectors.append(outputs.last_hidden_state[first_document,start_of_words:end_of_words,:].detach().cpu().numpy())\n"
   ]
  },
  {
   "cell_type": "markdown",
   "metadata": {
    "id": "B4pV1fw61rgT"
   },
   "source": [
    "Confirm that we have the same number of documents for both the tokens and the vectors:"
   ]
  },
  {
   "cell_type": "code",
   "execution_count": null,
   "metadata": {
    "colab": {
     "base_uri": "https://localhost:8080/"
    },
    "id": "RFYsrpeF3C43",
    "outputId": "335081e7-5af0-42e9-fae6-ed6ff07a2e4a",
    "tags": []
   },
   "outputs": [],
   "source": [
    "len(doc_word_ids), len(doc_word_vectors)"
   ]
  },
  {
   "cell_type": "code",
   "execution_count": null,
   "metadata": {
    "colab": {
     "base_uri": "https://localhost:8080/"
    },
    "id": "91SFkQGVHyDV",
    "outputId": "81e4e36f-4088-4510-d80f-71140c07822e",
    "tags": []
   },
   "outputs": [],
   "source": [
    "doc_word_ids[2], doc_word_vectors[2]"
   ]
  },
  {
   "cell_type": "markdown",
   "metadata": {
    "id": "AyVRWw8Icmn-"
   },
   "source": [
    "## **Concatenate all word IDs/vectors for all documents**"
   ]
  },
  {
   "cell_type": "markdown",
   "metadata": {
    "id": "Gf-9YAo814wM"
   },
   "source": [
    "Each element of these lists contains all the tokens/vectors for one document. But we want to concatenate them into two giant collections."
   ]
  },
  {
   "cell_type": "code",
   "execution_count": null,
   "metadata": {
    "id": "afOPAzVoczRW",
    "tags": []
   },
   "outputs": [],
   "source": [
    "all_word_ids = np.concatenate(doc_word_ids)\n",
    "all_word_vectors = np.concatenate(doc_word_vectors, axis=0)"
   ]
  },
  {
   "cell_type": "markdown",
   "metadata": {
    "id": "wQafcvCqt0Uf"
   },
   "source": [
    "We want to make comparisons between vectors quickly. We'll use cosine similarity, or the dot product of `l2`-normed vectors. So we need to norm our embeddings."
   ]
  },
  {
   "cell_type": "code",
   "execution_count": null,
   "metadata": {
    "id": "ogECz92C4T09",
    "tags": []
   },
   "outputs": [],
   "source": [
    "# normalize embeddings\n",
    "row_norms = np.sqrt(np.sum(all_word_vectors ** 2, axis=1))\n",
    "all_word_vectors /= row_norms[:,np.newaxis]"
   ]
  },
  {
   "cell_type": "markdown",
   "metadata": {
    "id": "iBWkQbFLc6kt"
   },
   "source": [
    "## **Find all word positions in a collection**"
   ]
  },
  {
   "cell_type": "markdown",
   "metadata": {
    "id": "rUB1orgCek1D"
   },
   "source": [
    "We can use the array `all_word_ids` to find all the places, or *positions*, in the collection where a word appears.\n",
    "\n",
    "We can find a word's vocab ID in BERT with `tokenizer.vocab` and then check to see where/how many times this ID occurs in `all_word_ids`."
   ]
  },
  {
   "cell_type": "code",
   "execution_count": null,
   "metadata": {
    "id": "bjjVsV8F1UvN",
    "tags": []
   },
   "outputs": [],
   "source": [
    "def get_word_positions(words):\n",
    "    \"\"\"This function accepts a list of words, rather than a single word\"\"\"\n",
    "\n",
    "    # Get word/vocabulary ID from BERT for each word\n",
    "    word_ids = [tokenizer.vocab[word] for word in words]\n",
    "\n",
    "    # Find all the positions where the words occur in the collection\n",
    "    word_positions = np.where(np.isin(all_word_ids, word_ids))[0]\n",
    "\n",
    "    return word_positions"
   ]
  },
  {
   "cell_type": "markdown",
   "metadata": {
    "id": "9bB-69p-m4q7"
   },
   "source": [
    "Here we'll check to see all the places where the word \"bank\" appears in the collection."
   ]
  },
  {
   "cell_type": "code",
   "execution_count": null,
   "metadata": {
    "colab": {
     "base_uri": "https://localhost:8080/"
    },
    "id": "OZKWT3L32GZM",
    "outputId": "0fb44023-4ce4-4b3a-bb0c-aba201dea85c",
    "tags": []
   },
   "outputs": [],
   "source": [
    "get_word_positions([\"bank\"])"
   ]
  },
  {
   "cell_type": "code",
   "execution_count": null,
   "metadata": {
    "id": "ukKSAiSV3E8a",
    "tags": []
   },
   "outputs": [],
   "source": [
    "word_positions = get_word_positions([\"bank\"])"
   ]
  },
  {
   "cell_type": "markdown",
   "metadata": {
    "id": "kx35pWc0dqIT"
   },
   "source": [
    "## **Find word from word position**"
   ]
  },
  {
   "cell_type": "markdown",
   "metadata": {
    "id": "9db1FKmAm-7p"
   },
   "source": [
    "Nice! Now we know all the positions where the word \"bank\" appears in the collection. But it would be more helpful to know the actual words that appear in context around it. To find these context words, we have to convert position IDs back into words."
   ]
  },
  {
   "cell_type": "code",
   "execution_count": null,
   "metadata": {
    "id": "t_0q-9Uodt__",
    "tags": []
   },
   "outputs": [],
   "source": [
    "# Here we create an array so that we can go backwards from numeric token IDs to words\n",
    "word_lookup = np.empty(tokenizer.vocab_size, dtype=\"O\")\n",
    "\n",
    "for word, index in tokenizer.vocab.items():\n",
    "    word_lookup[index] = word"
   ]
  },
  {
   "cell_type": "markdown",
   "metadata": {
    "id": "U_Dt6HyVsidn"
   },
   "source": [
    "Now we can use `word_lookup` to find a word based on its position in the collection."
   ]
  },
  {
   "cell_type": "code",
   "execution_count": null,
   "metadata": {
    "colab": {
     "base_uri": "https://localhost:8080/"
    },
    "id": "4vSMuKJBoLuN",
    "outputId": "dbf95f6c-d729-4798-8379-a4873e24fcdb",
    "tags": []
   },
   "outputs": [],
   "source": [
    "word_positions = get_word_positions([\"bank\"])\n",
    "\n",
    "for word_position in word_positions:\n",
    "    print(f'{word_position:>10} {word_lookup[all_word_ids[word_position]]}')"
   ]
  },
  {
   "cell_type": "markdown",
   "metadata": {
    "id": "0KwzuaBxpkwG"
   },
   "source": [
    "We can also look for the 3 words that come before \"bank\" and the 3 words that come after it."
   ]
  },
  {
   "cell_type": "code",
   "execution_count": null,
   "metadata": {
    "colab": {
     "base_uri": "https://localhost:8080/"
    },
    "id": "eJ_zg3cNfJum",
    "outputId": "7d51bf49-2c49-47da-d17a-801ecbd171b9",
    "tags": []
   },
   "outputs": [],
   "source": [
    "word_positions = get_word_positions([\"bank\"])\n",
    "\n",
    "for word_position in word_positions:\n",
    "\n",
    "    # Slice 3 words before \"bank\"\n",
    "    start_pos = word_position - 3\n",
    "    # Slice 3 words after \"bank\"\n",
    "    end_pos = word_position + 4\n",
    "\n",
    "    context_words = word_lookup[all_word_ids[start_pos:end_pos]]\n",
    "    # Join the words together\n",
    "    context_words = ' '.join(context_words)\n",
    "    print(word_position, context_words)"
   ]
  },
  {
   "cell_type": "markdown",
   "metadata": {
    "id": "_9ssdFSBANkN"
   },
   "source": [
    "Let's make some functions that will help us get the context words around a certain word position for whatever size window (certain number of words before and after) that we want.\n",
    "\n",
    "The first function `get_context()` will simply return the tokens without cleaning them, and the second function `get_context_clean()` will return the tokens in a more readable fashion."
   ]
  },
  {
   "cell_type": "code",
   "execution_count": null,
   "metadata": {
    "id": "DQDmbTABgQF9",
    "tags": []
   },
   "outputs": [],
   "source": [
    "def get_context(word_id, window_size=10):\n",
    "\n",
    "    \"\"\"Simply get the tokens that occur before and after word position\"\"\"\n",
    "\n",
    "    start_pos = max(0, word_id - window_size) # The token where we will start the context view\n",
    "    end_pos = min(word_id + window_size + 1, len(all_word_ids)) # The token where we will end the context view\n",
    "\n",
    "    # Make a list called tokens and use word_lookup to get the words for given token IDs from starting position up to the keyword\n",
    "    tokens = [word_lookup[word] for word in all_word_ids[start_pos:end_pos] ]\n",
    "\n",
    "    context_words = \" \".join(tokens)\n",
    "\n",
    "    return context_words"
   ]
  },
  {
   "cell_type": "code",
   "execution_count": null,
   "metadata": {
    "id": "5lHshYA2-zxY",
    "tags": []
   },
   "outputs": [],
   "source": [
    "import re\n",
    "\n",
    "def get_context_clean(word_id, window_size=10):\n",
    "\n",
    "    \"\"\"Get the tokens that occur before and after word position AND make them more readable\"\"\"\n",
    "\n",
    "    keyword = word_lookup[all_word_ids[word_id]]\n",
    "    start_pos = max(0, word_id - window_size) # The token where we will start the context view\n",
    "    end_pos = min(word_id + window_size + 1, len(all_word_ids)) # The token where we will end the context view\n",
    "\n",
    "    # Make a list called tokens and use word_lookup to get the words for given token IDs from starting position up to the keyword\n",
    "    tokens = [word_lookup[word] for word in all_word_ids[start_pos:end_pos] ]\n",
    "\n",
    "    # Make wordpieces slightly more readable\n",
    "    # This is probably not the most efficient way to clean and correct for weird spacing\n",
    "    context_words = \" \".join(tokens)\n",
    "    context_words = re.sub(r'\\s+([##])', r'\\1', context_words)\n",
    "    context_words = re.sub(r'##', r'', context_words)\n",
    "    context_words = re.sub('\\s+\\'s', '\\'s', context_words)\n",
    "    context_words = re.sub('\\s+\\'d', '\\'d', context_words)\n",
    "    context_words = re.sub('\\s\\'er', '\\'er', context_words)\n",
    "    context_words = re.sub(r'\\s+([-,:?.!;])', r'\\1', context_words)\n",
    "    context_words = re.sub(r'([-\\'\"])\\s+', r'\\1', context_words)\n",
    "    context_words = re.sub('\\s+\\'s', '\\'s', context_words)\n",
    "    context_words = re.sub('\\s+\\'d', '\\'d', context_words)\n",
    "\n",
    "    # Bold the keyword by putting asterisks around it\n",
    "    if keyword in context_words:\n",
    "        context_words = re.sub(f\"\\\\b{keyword}\\\\b\", f\"**{keyword}**\", context_words)\n",
    "        context_words = re.sub(f\"\\\\b({keyword}[esdtrlying]+)\\\\b\", fr\"**\\1**\", context_words)\n",
    "\n",
    "    return context_words"
   ]
  },
  {
   "cell_type": "markdown",
   "metadata": {
    "id": "0-SQVh1zyblT"
   },
   "source": [
    "To visualize the search keyword even more easily, we're going to import a couple of Python modules that will allow us to output text with bolded words and other styling. Here we will make a function `print_md()` that will allow us to print with Markdown styling."
   ]
  },
  {
   "cell_type": "code",
   "execution_count": null,
   "metadata": {
    "id": "SPIho4qIGGqp",
    "tags": []
   },
   "outputs": [],
   "source": [
    "from IPython.display import Markdown, display\n",
    "\n",
    "def print_md(string):\n",
    "    display(Markdown(string))"
   ]
  },
  {
   "cell_type": "code",
   "execution_count": null,
   "metadata": {
    "colab": {
     "base_uri": "https://localhost:8080/",
     "height": 1000
    },
    "id": "UksbSqkagabE",
    "outputId": "20fef764-862a-4b3f-d151-17f3df6ee59c",
    "tags": []
   },
   "outputs": [],
   "source": [
    "word_positions = get_word_positions([\"bank\"])\n",
    "for word_position in word_positions:\n",
    "    print_md(f\"{word_position}:  {get_context_clean(word_position)}\")"
   ]
  },
  {
   "cell_type": "markdown",
   "metadata": {
    "id": "FHpPAIpHelDv"
   },
   "source": [
    "Here we make a list of all the context views for our keyword."
   ]
  },
  {
   "cell_type": "code",
   "execution_count": null,
   "metadata": {
    "id": "jBKdEKzO3ndD",
    "tags": []
   },
   "outputs": [],
   "source": [
    "word_positions = get_word_positions([\"bank\"])\n",
    "\n",
    "keyword_contexts = []\n",
    "keyword_contexts_tokens = []\n",
    "\n",
    "for position in word_positions:\n",
    "    keyword_contexts.append(get_context_clean(position))\n",
    "    keyword_contexts_tokens.append(get_context(position))"
   ]
  },
  {
   "cell_type": "markdown",
   "metadata": {
    "id": "FOW3UJCU941G"
   },
   "source": [
    "## **Get word vectors and reduce them with PCA**"
   ]
  },
  {
   "cell_type": "markdown",
   "metadata": {
    "id": "Xggu6BRkAgGu"
   },
   "source": [
    "Finally, we don't just want to *read* all the instances of \"bank\" in the collection, we want to *measure* the similarity of all the instances of \"bank.\"\n",
    "\n",
    "To measure similarity between all the instances of \"bank,\" we will take the vectors for each instance and then use PCA to reduce each 768-dimensionsal vector to the 2 dimensions that capture the most variation."
   ]
  },
  {
   "cell_type": "code",
   "execution_count": null,
   "metadata": {
    "colab": {
     "base_uri": "https://localhost:8080/",
     "height": 75
    },
    "id": "ZnaABMiLsTAQ",
    "outputId": "c82740f3-21e7-4e34-eb4f-27932928db6b",
    "tags": []
   },
   "outputs": [],
   "source": [
    "word_positions = get_word_positions([\"bank\"])\n",
    "pca = PCA(n_components=2)\n",
    "pca.fit(all_word_vectors[word_positions,:].T)"
   ]
  },
  {
   "cell_type": "markdown",
   "metadata": {
    "id": "nPWjXDxpevTe"
   },
   "source": [
    "Then, for convenience, we will put these PCA results into a Pandas DataFrame, which will use to generate an interactive plot."
   ]
  },
  {
   "cell_type": "code",
   "execution_count": null,
   "metadata": {
    "colab": {
     "base_uri": "https://localhost:8080/",
     "height": 293
    },
    "id": "XUxuru27DrMm",
    "outputId": "920b5dba-0e52-4bdd-df4a-26fb6f3bf302",
    "tags": []
   },
   "outputs": [],
   "source": [
    "df = pd.DataFrame({\"x\": pca.components_[0,:], \"y\": pca.components_[1,:],\n",
    "                   \"context\": keyword_contexts, \"tokens\": keyword_contexts_tokens})\n",
    "df.head()"
   ]
  },
  {
   "cell_type": "markdown",
   "metadata": {
    "id": "quwSCsFDUywu"
   },
   "source": [
    "## **Match context with original text and metadata**"
   ]
  },
  {
   "cell_type": "markdown",
   "metadata": {
    "id": "IA3Cd2pgwDcY"
   },
   "source": [
    "It's helpful (and fun!) to know where each instance of a word actually comes from — which poem, which poet, which time period, which Public-Domain-Poetry.com web page. The easiest method we've found for matching a bit of context with its original poem and metdata is to 1) add a tokenized version of each poem to our original Pandas Dataframe 2) check to see if the context shows up in a poem 3) and if so, grab the original poem and metadata."
   ]
  },
  {
   "cell_type": "code",
   "execution_count": null,
   "metadata": {
    "id": "DmY6MMGIhWGJ",
    "tags": []
   },
   "outputs": [],
   "source": [
    "# Tokenize all the poems\n",
    "tokenized_poems = tokenizer(poetry_texts, truncation=True, padding=True, return_tensors=\"pt\")\n",
    "\n",
    "# Get a list of all the tokens for each poem\n",
    "all_tokenized_poems = []\n",
    "for i in range(len(tokenized_poems['input_ids'])):\n",
    "    all_tokenized_poems.append(' '.join(tokenized_poems[i].tokens))\n",
    "\n",
    "# Add them to the original DataFrame\n",
    "poetry_df['tokens'] = all_tokenized_poems"
   ]
  },
  {
   "cell_type": "code",
   "execution_count": null,
   "metadata": {
    "colab": {
     "base_uri": "https://localhost:8080/",
     "height": 0
    },
    "id": "qTeZ4WfCh_d_",
    "outputId": "7fa55a1a-0389-4edf-f0a7-a7de0c3e95f2",
    "tags": []
   },
   "outputs": [],
   "source": [
    "poetry_df.head(2)"
   ]
  },
  {
   "cell_type": "code",
   "execution_count": null,
   "metadata": {
    "id": "8Uoqk2yQjQhH",
    "tags": []
   },
   "outputs": [],
   "source": [
    "def find_original_poem(rows):\n",
    "\n",
    "    \"\"\"This function checks to see whether the context tokens show up in the original poem,\n",
    "    and if so, returns metadata about the title, author, period, and URL for that poem\"\"\"\n",
    "\n",
    "    text = rows['tokens'].replace('**', '')\n",
    "    text = text[55:70]\n",
    "\n",
    "    if poetry_df['tokens'].str.contains(text, regex=False).any() == True :\n",
    "        row = poetry_df[poetry_df['tokens'].str.contains(text, regex=False)].values[0]\n",
    "        title, author, period, link = row[0], row[1], row[7], row[6]\n",
    "        return author, title, period, link\n",
    "    else:\n",
    "        return None, None, None, None"
   ]
  },
  {
   "cell_type": "code",
   "execution_count": null,
   "metadata": {
    "id": "KA3qC3py0uwf",
    "tags": []
   },
   "outputs": [],
   "source": [
    "df[['title', 'author', 'period', 'link']] = df.apply(find_original_poem, axis='columns', result_type='expand')"
   ]
  },
  {
   "cell_type": "code",
   "execution_count": null,
   "metadata": {
    "colab": {
     "base_uri": "https://localhost:8080/",
     "height": 0
    },
    "id": "hFlCB-aqy_h5",
    "outputId": "a3616c3b-fbe1-4613-88fc-8b2f5d1e920d",
    "tags": []
   },
   "outputs": [],
   "source": [
    "df.head()"
   ]
  },
  {
   "cell_type": "markdown",
   "metadata": {
    "id": "eu4SZ7R7U8Na"
   },
   "source": [
    "## **Plot word embeddings**"
   ]
  },
  {
   "cell_type": "markdown",
   "metadata": {
    "id": "g5PQYxa_ezps"
   },
   "source": [
    "Lastly, we will plot the words vectors from this DataFrame with the Python data viz library [Altair](https://altair-viz.github.io/gallery/scatter_tooltips.html)."
   ]
  },
  {
   "cell_type": "code",
   "execution_count": null,
   "metadata": {
    "colab": {
     "base_uri": "https://localhost:8080/",
     "height": 585
    },
    "id": "hE_kCW9QUDKX",
    "outputId": "91614f2e-567c-4ad7-db03-b936a55c93cc",
    "tags": []
   },
   "outputs": [],
   "source": [
    "alt.Chart(df,title=\"Word Similarity: Bank\").mark_circle(size=200).encode(\n",
    "    alt.X('x',\n",
    "        scale=alt.Scale(zero=False)\n",
    "    ), y=\"y\",\n",
    "    # If you click a point, take you to the URL link\n",
    "    href=\"link\",\n",
    "    # The categories that show up in the hover tooltip\n",
    "    tooltip=['title', 'context', 'author', 'period']\n",
    "    ).interactive().properties(\n",
    "    width=500,\n",
    "    height=500\n",
    ")"
   ]
  },
  {
   "cell_type": "markdown",
   "metadata": {
    "id": "vLSjJc8-IZJ_"
   },
   "source": [
    "## **Plot word embeddings from keywords (all at once!)**"
   ]
  },
  {
   "cell_type": "markdown",
   "metadata": {
    "id": "dPXChKeD-Gd6"
   },
   "source": [
    "We can put the code from the previous few sections into a single cell and plot the BERT word embeddings for any list of words. Let's look at the words \"nature,\" \"religion,\" \"science,\" and \"art.\""
   ]
  },
  {
   "cell_type": "code",
   "execution_count": null,
   "metadata": {
    "colab": {
     "base_uri": "https://localhost:8080/",
     "height": 585
    },
    "id": "dA-SdhjlprIj",
    "outputId": "d57b3011-681f-41bc-b554-f8f3363ca4c9",
    "tags": []
   },
   "outputs": [],
   "source": [
    "# List of keywords that you want to compare\n",
    "keywords = ['nature', 'religion', 'science', 'art']\n",
    "\n",
    "# How to color the points in the plot. The other option is \"period\" for time period\n",
    "color_by = 'word'\n",
    "\n",
    "# Get all word positions\n",
    "word_positions = get_word_positions(keywords)\n",
    "\n",
    "# Get all contexts around the words\n",
    "keyword_contexts = []\n",
    "keyword_contexts_tokens = []\n",
    "words = []\n",
    "\n",
    "for position in word_positions:\n",
    "    words.append(word_lookup[all_word_ids[position]])\n",
    "    keyword_contexts.append(get_context_clean(position))\n",
    "    keyword_contexts_tokens.append(get_context(position))\n",
    "\n",
    "# Reduce word vectors with PCA\n",
    "pca = PCA(n_components=2)\n",
    "pca.fit(all_word_vectors[word_positions,:].T)\n",
    "\n",
    "# Make a DataFrame with PCA results\n",
    "df = pd.DataFrame({\"x\": pca.components_[0,:], \"y\": pca.components_[1,:],\n",
    "                   \"context\": keyword_contexts, \"tokens\": keyword_contexts_tokens, \"word\": words})\n",
    "# Match original text and metadata\n",
    "df[['title', 'author', 'period', 'link']] = df.apply(find_original_poem, axis='columns', result_type='expand')\n",
    "\n",
    "# Rename columns so that the context shows up as the \"title\" in the tooltip (bigger and bolded)\n",
    "df = df.rename(columns={'title': 'poem_title', 'context': 'title'})\n",
    "\n",
    "# Make the plot\n",
    "alt.Chart(df, title=f\"Word Similarity: {', '.join(keywords).title()}\").mark_circle(size=200).encode(\n",
    "    alt.X('x',\n",
    "        scale=alt.Scale(zero=False)\n",
    "    ), y=\"y\",\n",
    "    color= color_by,\n",
    "    href=\"link\",\n",
    "    tooltip=['title', 'word', 'poem_title', 'author', 'period']\n",
    "    ).interactive().properties(\n",
    "    width=500,\n",
    "    height=500\n",
    ")"
   ]
  },
  {
   "cell_type": "markdown",
   "metadata": {
    "id": "b8t76MW9-ZY8"
   },
   "source": [
    "Let's examine the words \"nature,\" \"religion,\" \"science,\" and \"art\" again but this time color the points by their time period."
   ]
  },
  {
   "cell_type": "code",
   "execution_count": null,
   "metadata": {
    "colab": {
     "base_uri": "https://localhost:8080/",
     "height": 585
    },
    "id": "MYvTEC7_2jIr",
    "outputId": "2d0d941f-1b65-4d83-e316-9b47ce31ed55",
    "tags": []
   },
   "outputs": [],
   "source": [
    "# List of keywords that you want to compare\n",
    "keywords = ['nature', 'religion', 'science', 'art']\n",
    "\n",
    "# How to color the points in the plot\n",
    "color_by = 'period'\n",
    "\n",
    "# Get all word positions\n",
    "word_positions = get_word_positions(keywords)\n",
    "\n",
    "# Get all contexts around the words\n",
    "keyword_contexts = []\n",
    "keyword_contexts_tokens = []\n",
    "words = []\n",
    "\n",
    "for position in word_positions:\n",
    "    words.append(word_lookup[all_word_ids[position]])\n",
    "    keyword_contexts.append(get_context_clean(position))\n",
    "    keyword_contexts_tokens.append(get_context(position))\n",
    "\n",
    "# Reduce word vectors with PCA\n",
    "pca = PCA(n_components=2)\n",
    "pca.fit(all_word_vectors[word_positions,:].T)\n",
    "\n",
    "# Make a DataFrame with PCA results\n",
    "df = pd.DataFrame({\"x\": pca.components_[0,:], \"y\": pca.components_[1,:],\n",
    "                   \"context\": keyword_contexts, \"tokens\": keyword_contexts_tokens, \"word\": words})\n",
    "# Match original text and metadata\n",
    "df[['title', 'author', 'period', 'link']] = df.apply(find_original_poem, axis='columns', result_type='expand')\n",
    "\n",
    "# Rename columns so that the context shows up as the \"title\" in the tooltip (bigger and bolded)\n",
    "df = df.rename(columns={'title': 'poem_title', 'context': 'title'})\n",
    "\n",
    "# Make the plot\n",
    "alt.Chart(df, title=f\"Word Similarity: {', '.join(keywords).title()}\").mark_circle(size=200).encode(\n",
    "    alt.X('x',\n",
    "        scale=alt.Scale(zero=False)\n",
    "    ), y=\"y\",\n",
    "    color= color_by,\n",
    "    href=\"link\",\n",
    "    tooltip=['title', 'word', 'poem_title', 'author', 'period']\n",
    "    ).interactive().properties(\n",
    "    width=500,\n",
    "    height=500\n",
    ")"
   ]
  },
  {
   "cell_type": "markdown",
   "metadata": {
    "id": "6FP132HwHQzU"
   },
   "source": [
    "Let's compare the words \"mean,\" \"thin,\" \"average\", and \"cruel.\""
   ]
  },
  {
   "cell_type": "code",
   "execution_count": null,
   "metadata": {
    "colab": {
     "base_uri": "https://localhost:8080/",
     "height": 585
    },
    "id": "dyQ5IN6OF1gR",
    "outputId": "62479358-638f-403f-f556-dcb56e6a4715",
    "tags": []
   },
   "outputs": [],
   "source": [
    "# List of keywords that you want to compare\n",
    "keywords = ['mean', 'thin', 'average', 'cruel']\n",
    "\n",
    "# How to color the points in the plot. The other option is \"period\" for time period\n",
    "color_by = 'word'\n",
    "\n",
    "# Get all word positions\n",
    "word_positions = get_word_positions(keywords)\n",
    "\n",
    "# Get all contexts around the words\n",
    "keyword_contexts = []\n",
    "keyword_contexts_tokens = []\n",
    "words = []\n",
    "\n",
    "for position in word_positions:\n",
    "    words.append(word_lookup[all_word_ids[position]])\n",
    "    keyword_contexts.append(get_context_clean(position))\n",
    "    keyword_contexts_tokens.append(get_context(position))\n",
    "\n",
    "# Reduce word vectors with PCA\n",
    "pca = PCA(n_components=2)\n",
    "pca.fit(all_word_vectors[word_positions,:].T)\n",
    "\n",
    "# Make a DataFrame with PCA results\n",
    "df = pd.DataFrame({\"x\": pca.components_[0,:], \"y\": pca.components_[1,:],\n",
    "                   \"context\": keyword_contexts, \"tokens\": keyword_contexts_tokens, \"word\": words})\n",
    "# Match original text and metadata\n",
    "df[['title', 'author', 'period', 'link']] = df.apply(find_original_poem, axis='columns', result_type='expand')\n",
    "\n",
    "# Rename columns so that the context shows up as the \"title\" in the tooltip (bigger and bolded)\n",
    "df = df.rename(columns={'title': 'poem_title', 'context': 'title'})\n",
    "\n",
    "# Make the plot\n",
    "alt.Chart(df, title=f\"Word Similarity: {', '.join(keywords).title()}\").mark_circle(size=200).encode(\n",
    "    alt.X('x',\n",
    "        scale=alt.Scale(zero=False)\n",
    "    ), y=\"y\",\n",
    "    color= color_by,\n",
    "    href=\"link\",\n",
    "    tooltip=['title', 'word', 'poem_title', 'author', 'period']\n",
    "    ).interactive().properties(\n",
    "    width=500,\n",
    "    height=500\n",
    ")"
   ]
  },
  {
   "cell_type": "markdown",
   "metadata": {
    "id": "FSigZdkxHX2N"
   },
   "source": [
    "See the difference between our static embeddings and these contextual ones"
   ]
  },
  {
   "cell_type": "code",
   "execution_count": null,
   "metadata": {
    "colab": {
     "base_uri": "https://localhost:8080/",
     "height": 585
    },
    "id": "qpAy-NUbGsca",
    "outputId": "a4439a97-7a6a-4084-f8d8-acd3a21555c3"
   },
   "outputs": [],
   "source": [
    "# List of keywords that you want to compare\n",
    "keywords = ['bank', 'river', 'money', 'coffee', 'kitten']\n",
    "\n",
    "# How to color the points in the plot. The other option is \"period\" for time period\n",
    "color_by = 'word'\n",
    "\n",
    "# Get all word positions\n",
    "word_positions = get_word_positions(keywords)\n",
    "\n",
    "# Get all contexts around the words\n",
    "keyword_contexts = []\n",
    "keyword_contexts_tokens = []\n",
    "words = []\n",
    "\n",
    "for position in word_positions:\n",
    "    words.append(word_lookup[all_word_ids[position]])\n",
    "    keyword_contexts.append(get_context_clean(position))\n",
    "    keyword_contexts_tokens.append(get_context(position))\n",
    "\n",
    "# Reduce word vectors with PCA\n",
    "pca = PCA(n_components=2)\n",
    "pca.fit(all_word_vectors[word_positions,:].T)\n",
    "\n",
    "# Make a DataFrame with PCA results\n",
    "df = pd.DataFrame({\"x\": pca.components_[0,:], \"y\": pca.components_[1,:],\n",
    "                   \"context\": keyword_contexts, \"tokens\": keyword_contexts_tokens, \"word\": words})\n",
    "# Match original text and metadata\n",
    "df[['title', 'author', 'period', 'link']] = df.apply(find_original_poem, axis='columns', result_type='expand')\n",
    "\n",
    "# Rename columns so that the context shows up as the \"title\" in the tooltip (bigger and bolded)\n",
    "df = df.rename(columns={'title': 'poem_title', 'context': 'title'})\n",
    "\n",
    "# Make the plot\n",
    "alt.Chart(df, title=f\"Word Similarity: {', '.join(keywords).title()}\").mark_circle(size=200).encode(\n",
    "    alt.X('x',\n",
    "        scale=alt.Scale(zero=False)\n",
    "    ), y=\"y\",\n",
    "    color= color_by,\n",
    "    href=\"link\",\n",
    "    tooltip=['title', 'word', 'poem_title', 'author', 'period']\n",
    "    ).interactive().properties(\n",
    "    width=500,\n",
    "    height=500\n",
    ")"
   ]
  },
  {
   "cell_type": "markdown",
   "metadata": {
    "id": "AXG-ZNIlIOA9"
   },
   "source": [
    "## **Find word similarity from a specific word position**"
   ]
  },
  {
   "cell_type": "markdown",
   "metadata": {
    "id": "oqC1kn1sBDb7"
   },
   "source": [
    "We can also search *all* of the vectors for words similar to a query word."
   ]
  },
  {
   "cell_type": "code",
   "execution_count": null,
   "metadata": {
    "id": "NzxT2oC-3sDN",
    "tags": []
   },
   "outputs": [],
   "source": [
    "def get_nearest(query_vector, n=20):\n",
    "    cosines = all_word_vectors.dot(query_vector)\n",
    "    ordering = np.flip(np.argsort(cosines))\n",
    "    return ordering[:n]"
   ]
  },
  {
   "cell_type": "markdown",
   "metadata": {
    "id": "e-ZnvlA0hEQJ"
   },
   "source": [
    "To do so, we need to find the specific word position of our desired search keyword."
   ]
  },
  {
   "cell_type": "code",
   "execution_count": null,
   "metadata": {
    "colab": {
     "base_uri": "https://localhost:8080/",
     "height": 1000
    },
    "id": "sQP16q9Fgebk",
    "outputId": "dba4c9f3-0d48-4632-8889-8faef62d2cb1",
    "tags": []
   },
   "outputs": [],
   "source": [
    "word_positions = get_word_positions(['bank'])\n",
    "\n",
    "for word_position in word_positions:\n",
    "    print_md(f\"{word_position}: {get_context_clean(word_position)}\")"
   ]
  },
  {
   "cell_type": "code",
   "execution_count": null,
   "metadata": {
    "id": "Us6ATXKhgz_k",
    "tags": []
   },
   "outputs": [],
   "source": [
    "keyword_position = word_positions[-1] # pick last of the sampled instances above"
   ]
  },
  {
   "cell_type": "code",
   "execution_count": null,
   "metadata": {
    "colab": {
     "base_uri": "https://localhost:8080/",
     "height": 1000
    },
    "id": "kw_oyyOk5ual",
    "outputId": "4558b46b-3bcc-4bea-be76-848734c340bc",
    "tags": []
   },
   "outputs": [],
   "source": [
    "contexts = [get_context_clean(token_id) for token_id in get_nearest(all_word_vectors[keyword_position,:])]\n",
    "\n",
    "for context in contexts:\n",
    "    print_md(context)"
   ]
  },
  {
   "cell_type": "code",
   "execution_count": null,
   "metadata": {},
   "outputs": [],
   "source": []
  }
 ],
 "metadata": {
  "accelerator": "GPU",
  "colab": {
   "collapsed_sections": [
    "quwSCsFDUywu"
   ],
   "provenance": []
  },
  "kernelspec": {
   "display_name": "Python 3 (ipykernel)",
   "language": "python",
   "name": "python3"
  },
  "language_info": {
   "codemirror_mode": {
    "name": "ipython",
    "version": 3
   },
   "file_extension": ".py",
   "mimetype": "text/x-python",
   "name": "python",
   "nbconvert_exporter": "python",
   "pygments_lexer": "ipython3",
   "version": "3.11.9"
  },
  "widgets": {
   "application/vnd.jupyter.widget-state+json": {
    "0509139eb69044e9932a5925705d9c8a": {
     "model_module": "@jupyter-widgets/controls",
     "model_module_version": "1.5.0",
     "model_name": "HBoxModel",
     "state": {
      "_dom_classes": [],
      "_model_module": "@jupyter-widgets/controls",
      "_model_module_version": "1.5.0",
      "_model_name": "HBoxModel",
      "_view_count": null,
      "_view_module": "@jupyter-widgets/controls",
      "_view_module_version": "1.5.0",
      "_view_name": "HBoxView",
      "box_style": "",
      "children": [
       "IPY_MODEL_8d714ea5ef264a198d4d3327615db71d",
       "IPY_MODEL_0ec2f7aa3ef6416493b0056d76a56f64",
       "IPY_MODEL_275835e2e04940508864d3cf799f258e"
      ],
      "layout": "IPY_MODEL_b739fe5724a34a4b9a054f60f9a08ba5"
     }
    },
    "0786e07fd446428a9083e2c3eee9f5a2": {
     "model_module": "@jupyter-widgets/base",
     "model_module_version": "1.2.0",
     "model_name": "LayoutModel",
     "state": {
      "_model_module": "@jupyter-widgets/base",
      "_model_module_version": "1.2.0",
      "_model_name": "LayoutModel",
      "_view_count": null,
      "_view_module": "@jupyter-widgets/base",
      "_view_module_version": "1.2.0",
      "_view_name": "LayoutView",
      "align_content": null,
      "align_items": null,
      "align_self": null,
      "border": null,
      "bottom": null,
      "display": null,
      "flex": null,
      "flex_flow": null,
      "grid_area": null,
      "grid_auto_columns": null,
      "grid_auto_flow": null,
      "grid_auto_rows": null,
      "grid_column": null,
      "grid_gap": null,
      "grid_row": null,
      "grid_template_areas": null,
      "grid_template_columns": null,
      "grid_template_rows": null,
      "height": null,
      "justify_content": null,
      "justify_items": null,
      "left": null,
      "margin": null,
      "max_height": null,
      "max_width": null,
      "min_height": null,
      "min_width": null,
      "object_fit": null,
      "object_position": null,
      "order": null,
      "overflow": null,
      "overflow_x": null,
      "overflow_y": null,
      "padding": null,
      "right": null,
      "top": null,
      "visibility": null,
      "width": null
     }
    },
    "08e4c191f6e84fb68a23aae2b9a51742": {
     "model_module": "@jupyter-widgets/controls",
     "model_module_version": "1.5.0",
     "model_name": "ProgressStyleModel",
     "state": {
      "_model_module": "@jupyter-widgets/controls",
      "_model_module_version": "1.5.0",
      "_model_name": "ProgressStyleModel",
      "_view_count": null,
      "_view_module": "@jupyter-widgets/base",
      "_view_module_version": "1.2.0",
      "_view_name": "StyleView",
      "bar_color": null,
      "description_width": ""
     }
    },
    "0b5bc039c05e443ea326ef95b25ef75e": {
     "model_module": "@jupyter-widgets/controls",
     "model_module_version": "1.5.0",
     "model_name": "HBoxModel",
     "state": {
      "_dom_classes": [],
      "_model_module": "@jupyter-widgets/controls",
      "_model_module_version": "1.5.0",
      "_model_name": "HBoxModel",
      "_view_count": null,
      "_view_module": "@jupyter-widgets/controls",
      "_view_module_version": "1.5.0",
      "_view_name": "HBoxView",
      "box_style": "",
      "children": [
       "IPY_MODEL_edffc083ccc64fc4aea4ba69e9d96e7d",
       "IPY_MODEL_b75fd96303824cbdae743d8ecef6fdce",
       "IPY_MODEL_79276eecfcd14092b9ed83a6533bb723"
      ],
      "layout": "IPY_MODEL_c44d4b524c4345b2a8469b44be1cc36c"
     }
    },
    "0bb54eb7d13e42f8a7e4973eda2e949f": {
     "model_module": "@jupyter-widgets/controls",
     "model_module_version": "1.5.0",
     "model_name": "DescriptionStyleModel",
     "state": {
      "_model_module": "@jupyter-widgets/controls",
      "_model_module_version": "1.5.0",
      "_model_name": "DescriptionStyleModel",
      "_view_count": null,
      "_view_module": "@jupyter-widgets/base",
      "_view_module_version": "1.2.0",
      "_view_name": "StyleView",
      "description_width": ""
     }
    },
    "0eb61716436343d79c915c83bc28be83": {
     "model_module": "@jupyter-widgets/base",
     "model_module_version": "1.2.0",
     "model_name": "LayoutModel",
     "state": {
      "_model_module": "@jupyter-widgets/base",
      "_model_module_version": "1.2.0",
      "_model_name": "LayoutModel",
      "_view_count": null,
      "_view_module": "@jupyter-widgets/base",
      "_view_module_version": "1.2.0",
      "_view_name": "LayoutView",
      "align_content": null,
      "align_items": null,
      "align_self": null,
      "border": null,
      "bottom": null,
      "display": null,
      "flex": null,
      "flex_flow": null,
      "grid_area": null,
      "grid_auto_columns": null,
      "grid_auto_flow": null,
      "grid_auto_rows": null,
      "grid_column": null,
      "grid_gap": null,
      "grid_row": null,
      "grid_template_areas": null,
      "grid_template_columns": null,
      "grid_template_rows": null,
      "height": null,
      "justify_content": null,
      "justify_items": null,
      "left": null,
      "margin": null,
      "max_height": null,
      "max_width": null,
      "min_height": null,
      "min_width": null,
      "object_fit": null,
      "object_position": null,
      "order": null,
      "overflow": null,
      "overflow_x": null,
      "overflow_y": null,
      "padding": null,
      "right": null,
      "top": null,
      "visibility": null,
      "width": null
     }
    },
    "0ec2f7aa3ef6416493b0056d76a56f64": {
     "model_module": "@jupyter-widgets/controls",
     "model_module_version": "1.5.0",
     "model_name": "FloatProgressModel",
     "state": {
      "_dom_classes": [],
      "_model_module": "@jupyter-widgets/controls",
      "_model_module_version": "1.5.0",
      "_model_name": "FloatProgressModel",
      "_view_count": null,
      "_view_module": "@jupyter-widgets/controls",
      "_view_module_version": "1.5.0",
      "_view_name": "ProgressView",
      "bar_style": "success",
      "description": "",
      "description_tooltip": null,
      "layout": "IPY_MODEL_ef57f2af381c48d9b2044883a4197e2e",
      "max": 483,
      "min": 0,
      "orientation": "horizontal",
      "style": "IPY_MODEL_20fa87cdd37b4bf589b694e66443f4a6",
      "value": 483
     }
    },
    "0f9292c9d79640218efcceb5a18a1e9d": {
     "model_module": "@jupyter-widgets/controls",
     "model_module_version": "1.5.0",
     "model_name": "HTMLModel",
     "state": {
      "_dom_classes": [],
      "_model_module": "@jupyter-widgets/controls",
      "_model_module_version": "1.5.0",
      "_model_name": "HTMLModel",
      "_view_count": null,
      "_view_module": "@jupyter-widgets/controls",
      "_view_module_version": "1.5.0",
      "_view_name": "HTMLView",
      "description": "",
      "description_tooltip": null,
      "layout": "IPY_MODEL_0786e07fd446428a9083e2c3eee9f5a2",
      "placeholder": "​",
      "style": "IPY_MODEL_563a67d90aed44ddbe609d7827c203d9",
      "value": "Downloading model.safetensors: 100%"
     }
    },
    "16a80915daa040318030826f7f458465": {
     "model_module": "@jupyter-widgets/controls",
     "model_module_version": "1.5.0",
     "model_name": "DescriptionStyleModel",
     "state": {
      "_model_module": "@jupyter-widgets/controls",
      "_model_module_version": "1.5.0",
      "_model_name": "DescriptionStyleModel",
      "_view_count": null,
      "_view_module": "@jupyter-widgets/base",
      "_view_module_version": "1.2.0",
      "_view_name": "StyleView",
      "description_width": ""
     }
    },
    "1ab5abd87d044dd8a2bae602adab82e6": {
     "model_module": "@jupyter-widgets/controls",
     "model_module_version": "1.5.0",
     "model_name": "HTMLModel",
     "state": {
      "_dom_classes": [],
      "_model_module": "@jupyter-widgets/controls",
      "_model_module_version": "1.5.0",
      "_model_name": "HTMLModel",
      "_view_count": null,
      "_view_module": "@jupyter-widgets/controls",
      "_view_module_version": "1.5.0",
      "_view_name": "HTMLView",
      "description": "",
      "description_tooltip": null,
      "layout": "IPY_MODEL_c38a2b3bb8a44e3cbcc31a500e8c7a04",
      "placeholder": "​",
      "style": "IPY_MODEL_16a80915daa040318030826f7f458465",
      "value": " 232k/232k [00:00&lt;00:00, 1.46MB/s]"
     }
    },
    "1fdcde59d6564c1c8e36004a4b8c9fc7": {
     "model_module": "@jupyter-widgets/base",
     "model_module_version": "1.2.0",
     "model_name": "LayoutModel",
     "state": {
      "_model_module": "@jupyter-widgets/base",
      "_model_module_version": "1.2.0",
      "_model_name": "LayoutModel",
      "_view_count": null,
      "_view_module": "@jupyter-widgets/base",
      "_view_module_version": "1.2.0",
      "_view_name": "LayoutView",
      "align_content": null,
      "align_items": null,
      "align_self": null,
      "border": null,
      "bottom": null,
      "display": null,
      "flex": null,
      "flex_flow": null,
      "grid_area": null,
      "grid_auto_columns": null,
      "grid_auto_flow": null,
      "grid_auto_rows": null,
      "grid_column": null,
      "grid_gap": null,
      "grid_row": null,
      "grid_template_areas": null,
      "grid_template_columns": null,
      "grid_template_rows": null,
      "height": null,
      "justify_content": null,
      "justify_items": null,
      "left": null,
      "margin": null,
      "max_height": null,
      "max_width": null,
      "min_height": null,
      "min_width": null,
      "object_fit": null,
      "object_position": null,
      "order": null,
      "overflow": null,
      "overflow_x": null,
      "overflow_y": null,
      "padding": null,
      "right": null,
      "top": null,
      "visibility": null,
      "width": null
     }
    },
    "20fa87cdd37b4bf589b694e66443f4a6": {
     "model_module": "@jupyter-widgets/controls",
     "model_module_version": "1.5.0",
     "model_name": "ProgressStyleModel",
     "state": {
      "_model_module": "@jupyter-widgets/controls",
      "_model_module_version": "1.5.0",
      "_model_name": "ProgressStyleModel",
      "_view_count": null,
      "_view_module": "@jupyter-widgets/base",
      "_view_module_version": "1.2.0",
      "_view_name": "StyleView",
      "bar_color": null,
      "description_width": ""
     }
    },
    "21ad9d3e9a254774ad41dc4e5a12066f": {
     "model_module": "@jupyter-widgets/controls",
     "model_module_version": "1.5.0",
     "model_name": "DescriptionStyleModel",
     "state": {
      "_model_module": "@jupyter-widgets/controls",
      "_model_module_version": "1.5.0",
      "_model_name": "DescriptionStyleModel",
      "_view_count": null,
      "_view_module": "@jupyter-widgets/base",
      "_view_module_version": "1.2.0",
      "_view_name": "StyleView",
      "description_width": ""
     }
    },
    "26425be9a4e54ccbb4cc5ef73077d149": {
     "model_module": "@jupyter-widgets/controls",
     "model_module_version": "1.5.0",
     "model_name": "HBoxModel",
     "state": {
      "_dom_classes": [],
      "_model_module": "@jupyter-widgets/controls",
      "_model_module_version": "1.5.0",
      "_model_name": "HBoxModel",
      "_view_count": null,
      "_view_module": "@jupyter-widgets/controls",
      "_view_module_version": "1.5.0",
      "_view_name": "HBoxView",
      "box_style": "",
      "children": [
       "IPY_MODEL_709218ee899c4a93ac4fbf6f84703c85",
       "IPY_MODEL_707a405d5a2a485e9a7881e76ed949b9",
       "IPY_MODEL_acc1a7b5a33f4b908e0307d887c27f25"
      ],
      "layout": "IPY_MODEL_7c150c596db34cc4928d8c765ff7e7e0"
     }
    },
    "275835e2e04940508864d3cf799f258e": {
     "model_module": "@jupyter-widgets/controls",
     "model_module_version": "1.5.0",
     "model_name": "HTMLModel",
     "state": {
      "_dom_classes": [],
      "_model_module": "@jupyter-widgets/controls",
      "_model_module_version": "1.5.0",
      "_model_name": "HTMLModel",
      "_view_count": null,
      "_view_module": "@jupyter-widgets/controls",
      "_view_module_version": "1.5.0",
      "_view_name": "HTMLView",
      "description": "",
      "description_tooltip": null,
      "layout": "IPY_MODEL_6c3234f0a8c441209b1bcd5a34cdbf77",
      "placeholder": "​",
      "style": "IPY_MODEL_f6b367791e264c52b2298a90dce57abb",
      "value": " 483/483 [00:00&lt;00:00, 13.0kB/s]"
     }
    },
    "4a466c48f54c4fd2b71a94f20cf608c5": {
     "model_module": "@jupyter-widgets/base",
     "model_module_version": "1.2.0",
     "model_name": "LayoutModel",
     "state": {
      "_model_module": "@jupyter-widgets/base",
      "_model_module_version": "1.2.0",
      "_model_name": "LayoutModel",
      "_view_count": null,
      "_view_module": "@jupyter-widgets/base",
      "_view_module_version": "1.2.0",
      "_view_name": "LayoutView",
      "align_content": null,
      "align_items": null,
      "align_self": null,
      "border": null,
      "bottom": null,
      "display": null,
      "flex": null,
      "flex_flow": null,
      "grid_area": null,
      "grid_auto_columns": null,
      "grid_auto_flow": null,
      "grid_auto_rows": null,
      "grid_column": null,
      "grid_gap": null,
      "grid_row": null,
      "grid_template_areas": null,
      "grid_template_columns": null,
      "grid_template_rows": null,
      "height": null,
      "justify_content": null,
      "justify_items": null,
      "left": null,
      "margin": null,
      "max_height": null,
      "max_width": null,
      "min_height": null,
      "min_width": null,
      "object_fit": null,
      "object_position": null,
      "order": null,
      "overflow": null,
      "overflow_x": null,
      "overflow_y": null,
      "padding": null,
      "right": null,
      "top": null,
      "visibility": null,
      "width": null
     }
    },
    "563a67d90aed44ddbe609d7827c203d9": {
     "model_module": "@jupyter-widgets/controls",
     "model_module_version": "1.5.0",
     "model_name": "DescriptionStyleModel",
     "state": {
      "_model_module": "@jupyter-widgets/controls",
      "_model_module_version": "1.5.0",
      "_model_name": "DescriptionStyleModel",
      "_view_count": null,
      "_view_module": "@jupyter-widgets/base",
      "_view_module_version": "1.2.0",
      "_view_name": "StyleView",
      "description_width": ""
     }
    },
    "60a9584e8ee44b38873c2a939f77b73b": {
     "model_module": "@jupyter-widgets/base",
     "model_module_version": "1.2.0",
     "model_name": "LayoutModel",
     "state": {
      "_model_module": "@jupyter-widgets/base",
      "_model_module_version": "1.2.0",
      "_model_name": "LayoutModel",
      "_view_count": null,
      "_view_module": "@jupyter-widgets/base",
      "_view_module_version": "1.2.0",
      "_view_name": "LayoutView",
      "align_content": null,
      "align_items": null,
      "align_self": null,
      "border": null,
      "bottom": null,
      "display": null,
      "flex": null,
      "flex_flow": null,
      "grid_area": null,
      "grid_auto_columns": null,
      "grid_auto_flow": null,
      "grid_auto_rows": null,
      "grid_column": null,
      "grid_gap": null,
      "grid_row": null,
      "grid_template_areas": null,
      "grid_template_columns": null,
      "grid_template_rows": null,
      "height": null,
      "justify_content": null,
      "justify_items": null,
      "left": null,
      "margin": null,
      "max_height": null,
      "max_width": null,
      "min_height": null,
      "min_width": null,
      "object_fit": null,
      "object_position": null,
      "order": null,
      "overflow": null,
      "overflow_x": null,
      "overflow_y": null,
      "padding": null,
      "right": null,
      "top": null,
      "visibility": null,
      "width": null
     }
    },
    "64ee8a6e3b6446ca8ad11e64f9460b07": {
     "model_module": "@jupyter-widgets/controls",
     "model_module_version": "1.5.0",
     "model_name": "HBoxModel",
     "state": {
      "_dom_classes": [],
      "_model_module": "@jupyter-widgets/controls",
      "_model_module_version": "1.5.0",
      "_model_name": "HBoxModel",
      "_view_count": null,
      "_view_module": "@jupyter-widgets/controls",
      "_view_module_version": "1.5.0",
      "_view_name": "HBoxView",
      "box_style": "",
      "children": [
       "IPY_MODEL_0f9292c9d79640218efcceb5a18a1e9d",
       "IPY_MODEL_6e764f2f47624c1784013439981eca7a",
       "IPY_MODEL_d2d535eb15404b1c96d1ae1cb507a149"
      ],
      "layout": "IPY_MODEL_8e8932b65e1c4eeb90c23c4d2408b332"
     }
    },
    "6c3234f0a8c441209b1bcd5a34cdbf77": {
     "model_module": "@jupyter-widgets/base",
     "model_module_version": "1.2.0",
     "model_name": "LayoutModel",
     "state": {
      "_model_module": "@jupyter-widgets/base",
      "_model_module_version": "1.2.0",
      "_model_name": "LayoutModel",
      "_view_count": null,
      "_view_module": "@jupyter-widgets/base",
      "_view_module_version": "1.2.0",
      "_view_name": "LayoutView",
      "align_content": null,
      "align_items": null,
      "align_self": null,
      "border": null,
      "bottom": null,
      "display": null,
      "flex": null,
      "flex_flow": null,
      "grid_area": null,
      "grid_auto_columns": null,
      "grid_auto_flow": null,
      "grid_auto_rows": null,
      "grid_column": null,
      "grid_gap": null,
      "grid_row": null,
      "grid_template_areas": null,
      "grid_template_columns": null,
      "grid_template_rows": null,
      "height": null,
      "justify_content": null,
      "justify_items": null,
      "left": null,
      "margin": null,
      "max_height": null,
      "max_width": null,
      "min_height": null,
      "min_width": null,
      "object_fit": null,
      "object_position": null,
      "order": null,
      "overflow": null,
      "overflow_x": null,
      "overflow_y": null,
      "padding": null,
      "right": null,
      "top": null,
      "visibility": null,
      "width": null
     }
    },
    "6e764f2f47624c1784013439981eca7a": {
     "model_module": "@jupyter-widgets/controls",
     "model_module_version": "1.5.0",
     "model_name": "FloatProgressModel",
     "state": {
      "_dom_classes": [],
      "_model_module": "@jupyter-widgets/controls",
      "_model_module_version": "1.5.0",
      "_model_name": "FloatProgressModel",
      "_view_count": null,
      "_view_module": "@jupyter-widgets/controls",
      "_view_module_version": "1.5.0",
      "_view_name": "ProgressView",
      "bar_style": "success",
      "description": "",
      "description_tooltip": null,
      "layout": "IPY_MODEL_0eb61716436343d79c915c83bc28be83",
      "max": 267954768,
      "min": 0,
      "orientation": "horizontal",
      "style": "IPY_MODEL_b6f870afbc904e458003114a920a01a0",
      "value": 267954768
     }
    },
    "707a405d5a2a485e9a7881e76ed949b9": {
     "model_module": "@jupyter-widgets/controls",
     "model_module_version": "1.5.0",
     "model_name": "FloatProgressModel",
     "state": {
      "_dom_classes": [],
      "_model_module": "@jupyter-widgets/controls",
      "_model_module_version": "1.5.0",
      "_model_name": "FloatProgressModel",
      "_view_count": null,
      "_view_module": "@jupyter-widgets/controls",
      "_view_module_version": "1.5.0",
      "_view_name": "ProgressView",
      "bar_style": "success",
      "description": "",
      "description_tooltip": null,
      "layout": "IPY_MODEL_a37779becbd84eafa59a728e80ce6505",
      "max": 28,
      "min": 0,
      "orientation": "horizontal",
      "style": "IPY_MODEL_8c3c3bc62b624f79847099b30aa845cc",
      "value": 28
     }
    },
    "709218ee899c4a93ac4fbf6f84703c85": {
     "model_module": "@jupyter-widgets/controls",
     "model_module_version": "1.5.0",
     "model_name": "HTMLModel",
     "state": {
      "_dom_classes": [],
      "_model_module": "@jupyter-widgets/controls",
      "_model_module_version": "1.5.0",
      "_model_name": "HTMLModel",
      "_view_count": null,
      "_view_module": "@jupyter-widgets/controls",
      "_view_module_version": "1.5.0",
      "_view_name": "HTMLView",
      "description": "",
      "description_tooltip": null,
      "layout": "IPY_MODEL_60a9584e8ee44b38873c2a939f77b73b",
      "placeholder": "​",
      "style": "IPY_MODEL_b2b7669b0aed4b34ae64d972a81deb07",
      "value": "Downloading (…)okenizer_config.json: 100%"
     }
    },
    "74913eb6cebe40fba5596253b7750b4f": {
     "model_module": "@jupyter-widgets/base",
     "model_module_version": "1.2.0",
     "model_name": "LayoutModel",
     "state": {
      "_model_module": "@jupyter-widgets/base",
      "_model_module_version": "1.2.0",
      "_model_name": "LayoutModel",
      "_view_count": null,
      "_view_module": "@jupyter-widgets/base",
      "_view_module_version": "1.2.0",
      "_view_name": "LayoutView",
      "align_content": null,
      "align_items": null,
      "align_self": null,
      "border": null,
      "bottom": null,
      "display": null,
      "flex": null,
      "flex_flow": null,
      "grid_area": null,
      "grid_auto_columns": null,
      "grid_auto_flow": null,
      "grid_auto_rows": null,
      "grid_column": null,
      "grid_gap": null,
      "grid_row": null,
      "grid_template_areas": null,
      "grid_template_columns": null,
      "grid_template_rows": null,
      "height": null,
      "justify_content": null,
      "justify_items": null,
      "left": null,
      "margin": null,
      "max_height": null,
      "max_width": null,
      "min_height": null,
      "min_width": null,
      "object_fit": null,
      "object_position": null,
      "order": null,
      "overflow": null,
      "overflow_x": null,
      "overflow_y": null,
      "padding": null,
      "right": null,
      "top": null,
      "visibility": null,
      "width": null
     }
    },
    "79276eecfcd14092b9ed83a6533bb723": {
     "model_module": "@jupyter-widgets/controls",
     "model_module_version": "1.5.0",
     "model_name": "HTMLModel",
     "state": {
      "_dom_classes": [],
      "_model_module": "@jupyter-widgets/controls",
      "_model_module_version": "1.5.0",
      "_model_name": "HTMLModel",
      "_view_count": null,
      "_view_module": "@jupyter-widgets/controls",
      "_view_module_version": "1.5.0",
      "_view_name": "HTMLView",
      "description": "",
      "description_tooltip": null,
      "layout": "IPY_MODEL_cccc081d60234be7b6e15cd1fc6806c9",
      "placeholder": "​",
      "style": "IPY_MODEL_ccd7a6556a2a47ea89a3965d52cab4c6",
      "value": " 466k/466k [00:00&lt;00:00, 4.39MB/s]"
     }
    },
    "7bf7fe2f28dd4c0db5524c135b34a6b2": {
     "model_module": "@jupyter-widgets/base",
     "model_module_version": "1.2.0",
     "model_name": "LayoutModel",
     "state": {
      "_model_module": "@jupyter-widgets/base",
      "_model_module_version": "1.2.0",
      "_model_name": "LayoutModel",
      "_view_count": null,
      "_view_module": "@jupyter-widgets/base",
      "_view_module_version": "1.2.0",
      "_view_name": "LayoutView",
      "align_content": null,
      "align_items": null,
      "align_self": null,
      "border": null,
      "bottom": null,
      "display": null,
      "flex": null,
      "flex_flow": null,
      "grid_area": null,
      "grid_auto_columns": null,
      "grid_auto_flow": null,
      "grid_auto_rows": null,
      "grid_column": null,
      "grid_gap": null,
      "grid_row": null,
      "grid_template_areas": null,
      "grid_template_columns": null,
      "grid_template_rows": null,
      "height": null,
      "justify_content": null,
      "justify_items": null,
      "left": null,
      "margin": null,
      "max_height": null,
      "max_width": null,
      "min_height": null,
      "min_width": null,
      "object_fit": null,
      "object_position": null,
      "order": null,
      "overflow": null,
      "overflow_x": null,
      "overflow_y": null,
      "padding": null,
      "right": null,
      "top": null,
      "visibility": null,
      "width": null
     }
    },
    "7c150c596db34cc4928d8c765ff7e7e0": {
     "model_module": "@jupyter-widgets/base",
     "model_module_version": "1.2.0",
     "model_name": "LayoutModel",
     "state": {
      "_model_module": "@jupyter-widgets/base",
      "_model_module_version": "1.2.0",
      "_model_name": "LayoutModel",
      "_view_count": null,
      "_view_module": "@jupyter-widgets/base",
      "_view_module_version": "1.2.0",
      "_view_name": "LayoutView",
      "align_content": null,
      "align_items": null,
      "align_self": null,
      "border": null,
      "bottom": null,
      "display": null,
      "flex": null,
      "flex_flow": null,
      "grid_area": null,
      "grid_auto_columns": null,
      "grid_auto_flow": null,
      "grid_auto_rows": null,
      "grid_column": null,
      "grid_gap": null,
      "grid_row": null,
      "grid_template_areas": null,
      "grid_template_columns": null,
      "grid_template_rows": null,
      "height": null,
      "justify_content": null,
      "justify_items": null,
      "left": null,
      "margin": null,
      "max_height": null,
      "max_width": null,
      "min_height": null,
      "min_width": null,
      "object_fit": null,
      "object_position": null,
      "order": null,
      "overflow": null,
      "overflow_x": null,
      "overflow_y": null,
      "padding": null,
      "right": null,
      "top": null,
      "visibility": null,
      "width": null
     }
    },
    "8c3c3bc62b624f79847099b30aa845cc": {
     "model_module": "@jupyter-widgets/controls",
     "model_module_version": "1.5.0",
     "model_name": "ProgressStyleModel",
     "state": {
      "_model_module": "@jupyter-widgets/controls",
      "_model_module_version": "1.5.0",
      "_model_name": "ProgressStyleModel",
      "_view_count": null,
      "_view_module": "@jupyter-widgets/base",
      "_view_module_version": "1.2.0",
      "_view_name": "StyleView",
      "bar_color": null,
      "description_width": ""
     }
    },
    "8d714ea5ef264a198d4d3327615db71d": {
     "model_module": "@jupyter-widgets/controls",
     "model_module_version": "1.5.0",
     "model_name": "HTMLModel",
     "state": {
      "_dom_classes": [],
      "_model_module": "@jupyter-widgets/controls",
      "_model_module_version": "1.5.0",
      "_model_name": "HTMLModel",
      "_view_count": null,
      "_view_module": "@jupyter-widgets/controls",
      "_view_module_version": "1.5.0",
      "_view_name": "HTMLView",
      "description": "",
      "description_tooltip": null,
      "layout": "IPY_MODEL_97d765635d6f4fe68a0df06462b6f865",
      "placeholder": "​",
      "style": "IPY_MODEL_be5495466eb149d4939ae8d1ad2149bb",
      "value": "Downloading (…)lve/main/config.json: 100%"
     }
    },
    "8e8932b65e1c4eeb90c23c4d2408b332": {
     "model_module": "@jupyter-widgets/base",
     "model_module_version": "1.2.0",
     "model_name": "LayoutModel",
     "state": {
      "_model_module": "@jupyter-widgets/base",
      "_model_module_version": "1.2.0",
      "_model_name": "LayoutModel",
      "_view_count": null,
      "_view_module": "@jupyter-widgets/base",
      "_view_module_version": "1.2.0",
      "_view_name": "LayoutView",
      "align_content": null,
      "align_items": null,
      "align_self": null,
      "border": null,
      "bottom": null,
      "display": null,
      "flex": null,
      "flex_flow": null,
      "grid_area": null,
      "grid_auto_columns": null,
      "grid_auto_flow": null,
      "grid_auto_rows": null,
      "grid_column": null,
      "grid_gap": null,
      "grid_row": null,
      "grid_template_areas": null,
      "grid_template_columns": null,
      "grid_template_rows": null,
      "height": null,
      "justify_content": null,
      "justify_items": null,
      "left": null,
      "margin": null,
      "max_height": null,
      "max_width": null,
      "min_height": null,
      "min_width": null,
      "object_fit": null,
      "object_position": null,
      "order": null,
      "overflow": null,
      "overflow_x": null,
      "overflow_y": null,
      "padding": null,
      "right": null,
      "top": null,
      "visibility": null,
      "width": null
     }
    },
    "97d765635d6f4fe68a0df06462b6f865": {
     "model_module": "@jupyter-widgets/base",
     "model_module_version": "1.2.0",
     "model_name": "LayoutModel",
     "state": {
      "_model_module": "@jupyter-widgets/base",
      "_model_module_version": "1.2.0",
      "_model_name": "LayoutModel",
      "_view_count": null,
      "_view_module": "@jupyter-widgets/base",
      "_view_module_version": "1.2.0",
      "_view_name": "LayoutView",
      "align_content": null,
      "align_items": null,
      "align_self": null,
      "border": null,
      "bottom": null,
      "display": null,
      "flex": null,
      "flex_flow": null,
      "grid_area": null,
      "grid_auto_columns": null,
      "grid_auto_flow": null,
      "grid_auto_rows": null,
      "grid_column": null,
      "grid_gap": null,
      "grid_row": null,
      "grid_template_areas": null,
      "grid_template_columns": null,
      "grid_template_rows": null,
      "height": null,
      "justify_content": null,
      "justify_items": null,
      "left": null,
      "margin": null,
      "max_height": null,
      "max_width": null,
      "min_height": null,
      "min_width": null,
      "object_fit": null,
      "object_position": null,
      "order": null,
      "overflow": null,
      "overflow_x": null,
      "overflow_y": null,
      "padding": null,
      "right": null,
      "top": null,
      "visibility": null,
      "width": null
     }
    },
    "9c9ee2ef3c1348d684969031ea1cc24a": {
     "model_module": "@jupyter-widgets/controls",
     "model_module_version": "1.5.0",
     "model_name": "DescriptionStyleModel",
     "state": {
      "_model_module": "@jupyter-widgets/controls",
      "_model_module_version": "1.5.0",
      "_model_name": "DescriptionStyleModel",
      "_view_count": null,
      "_view_module": "@jupyter-widgets/base",
      "_view_module_version": "1.2.0",
      "_view_name": "StyleView",
      "description_width": ""
     }
    },
    "a37779becbd84eafa59a728e80ce6505": {
     "model_module": "@jupyter-widgets/base",
     "model_module_version": "1.2.0",
     "model_name": "LayoutModel",
     "state": {
      "_model_module": "@jupyter-widgets/base",
      "_model_module_version": "1.2.0",
      "_model_name": "LayoutModel",
      "_view_count": null,
      "_view_module": "@jupyter-widgets/base",
      "_view_module_version": "1.2.0",
      "_view_name": "LayoutView",
      "align_content": null,
      "align_items": null,
      "align_self": null,
      "border": null,
      "bottom": null,
      "display": null,
      "flex": null,
      "flex_flow": null,
      "grid_area": null,
      "grid_auto_columns": null,
      "grid_auto_flow": null,
      "grid_auto_rows": null,
      "grid_column": null,
      "grid_gap": null,
      "grid_row": null,
      "grid_template_areas": null,
      "grid_template_columns": null,
      "grid_template_rows": null,
      "height": null,
      "justify_content": null,
      "justify_items": null,
      "left": null,
      "margin": null,
      "max_height": null,
      "max_width": null,
      "min_height": null,
      "min_width": null,
      "object_fit": null,
      "object_position": null,
      "order": null,
      "overflow": null,
      "overflow_x": null,
      "overflow_y": null,
      "padding": null,
      "right": null,
      "top": null,
      "visibility": null,
      "width": null
     }
    },
    "acc1a7b5a33f4b908e0307d887c27f25": {
     "model_module": "@jupyter-widgets/controls",
     "model_module_version": "1.5.0",
     "model_name": "HTMLModel",
     "state": {
      "_dom_classes": [],
      "_model_module": "@jupyter-widgets/controls",
      "_model_module_version": "1.5.0",
      "_model_name": "HTMLModel",
      "_view_count": null,
      "_view_module": "@jupyter-widgets/controls",
      "_view_module_version": "1.5.0",
      "_view_name": "HTMLView",
      "description": "",
      "description_tooltip": null,
      "layout": "IPY_MODEL_7bf7fe2f28dd4c0db5524c135b34a6b2",
      "placeholder": "​",
      "style": "IPY_MODEL_21ad9d3e9a254774ad41dc4e5a12066f",
      "value": " 28.0/28.0 [00:00&lt;00:00, 795B/s]"
     }
    },
    "b0b994f704fa49b8a4170561946befe7": {
     "model_module": "@jupyter-widgets/controls",
     "model_module_version": "1.5.0",
     "model_name": "HBoxModel",
     "state": {
      "_dom_classes": [],
      "_model_module": "@jupyter-widgets/controls",
      "_model_module_version": "1.5.0",
      "_model_name": "HBoxModel",
      "_view_count": null,
      "_view_module": "@jupyter-widgets/controls",
      "_view_module_version": "1.5.0",
      "_view_name": "HBoxView",
      "box_style": "",
      "children": [
       "IPY_MODEL_f566acdf3ff941f89aa0115ed1da5542",
       "IPY_MODEL_cc4d2930127840c2b26c34d8c9e3e3ac",
       "IPY_MODEL_1ab5abd87d044dd8a2bae602adab82e6"
      ],
      "layout": "IPY_MODEL_1fdcde59d6564c1c8e36004a4b8c9fc7"
     }
    },
    "b2b7669b0aed4b34ae64d972a81deb07": {
     "model_module": "@jupyter-widgets/controls",
     "model_module_version": "1.5.0",
     "model_name": "DescriptionStyleModel",
     "state": {
      "_model_module": "@jupyter-widgets/controls",
      "_model_module_version": "1.5.0",
      "_model_name": "DescriptionStyleModel",
      "_view_count": null,
      "_view_module": "@jupyter-widgets/base",
      "_view_module_version": "1.2.0",
      "_view_name": "StyleView",
      "description_width": ""
     }
    },
    "b6f870afbc904e458003114a920a01a0": {
     "model_module": "@jupyter-widgets/controls",
     "model_module_version": "1.5.0",
     "model_name": "ProgressStyleModel",
     "state": {
      "_model_module": "@jupyter-widgets/controls",
      "_model_module_version": "1.5.0",
      "_model_name": "ProgressStyleModel",
      "_view_count": null,
      "_view_module": "@jupyter-widgets/base",
      "_view_module_version": "1.2.0",
      "_view_name": "StyleView",
      "bar_color": null,
      "description_width": ""
     }
    },
    "b739fe5724a34a4b9a054f60f9a08ba5": {
     "model_module": "@jupyter-widgets/base",
     "model_module_version": "1.2.0",
     "model_name": "LayoutModel",
     "state": {
      "_model_module": "@jupyter-widgets/base",
      "_model_module_version": "1.2.0",
      "_model_name": "LayoutModel",
      "_view_count": null,
      "_view_module": "@jupyter-widgets/base",
      "_view_module_version": "1.2.0",
      "_view_name": "LayoutView",
      "align_content": null,
      "align_items": null,
      "align_self": null,
      "border": null,
      "bottom": null,
      "display": null,
      "flex": null,
      "flex_flow": null,
      "grid_area": null,
      "grid_auto_columns": null,
      "grid_auto_flow": null,
      "grid_auto_rows": null,
      "grid_column": null,
      "grid_gap": null,
      "grid_row": null,
      "grid_template_areas": null,
      "grid_template_columns": null,
      "grid_template_rows": null,
      "height": null,
      "justify_content": null,
      "justify_items": null,
      "left": null,
      "margin": null,
      "max_height": null,
      "max_width": null,
      "min_height": null,
      "min_width": null,
      "object_fit": null,
      "object_position": null,
      "order": null,
      "overflow": null,
      "overflow_x": null,
      "overflow_y": null,
      "padding": null,
      "right": null,
      "top": null,
      "visibility": null,
      "width": null
     }
    },
    "b75fd96303824cbdae743d8ecef6fdce": {
     "model_module": "@jupyter-widgets/controls",
     "model_module_version": "1.5.0",
     "model_name": "FloatProgressModel",
     "state": {
      "_dom_classes": [],
      "_model_module": "@jupyter-widgets/controls",
      "_model_module_version": "1.5.0",
      "_model_name": "FloatProgressModel",
      "_view_count": null,
      "_view_module": "@jupyter-widgets/controls",
      "_view_module_version": "1.5.0",
      "_view_name": "ProgressView",
      "bar_style": "success",
      "description": "",
      "description_tooltip": null,
      "layout": "IPY_MODEL_4a466c48f54c4fd2b71a94f20cf608c5",
      "max": 466062,
      "min": 0,
      "orientation": "horizontal",
      "style": "IPY_MODEL_08e4c191f6e84fb68a23aae2b9a51742",
      "value": 466062
     }
    },
    "be5495466eb149d4939ae8d1ad2149bb": {
     "model_module": "@jupyter-widgets/controls",
     "model_module_version": "1.5.0",
     "model_name": "DescriptionStyleModel",
     "state": {
      "_model_module": "@jupyter-widgets/controls",
      "_model_module_version": "1.5.0",
      "_model_name": "DescriptionStyleModel",
      "_view_count": null,
      "_view_module": "@jupyter-widgets/base",
      "_view_module_version": "1.2.0",
      "_view_name": "StyleView",
      "description_width": ""
     }
    },
    "c023d4859cc641a2bf7138ccc43b101b": {
     "model_module": "@jupyter-widgets/base",
     "model_module_version": "1.2.0",
     "model_name": "LayoutModel",
     "state": {
      "_model_module": "@jupyter-widgets/base",
      "_model_module_version": "1.2.0",
      "_model_name": "LayoutModel",
      "_view_count": null,
      "_view_module": "@jupyter-widgets/base",
      "_view_module_version": "1.2.0",
      "_view_name": "LayoutView",
      "align_content": null,
      "align_items": null,
      "align_self": null,
      "border": null,
      "bottom": null,
      "display": null,
      "flex": null,
      "flex_flow": null,
      "grid_area": null,
      "grid_auto_columns": null,
      "grid_auto_flow": null,
      "grid_auto_rows": null,
      "grid_column": null,
      "grid_gap": null,
      "grid_row": null,
      "grid_template_areas": null,
      "grid_template_columns": null,
      "grid_template_rows": null,
      "height": null,
      "justify_content": null,
      "justify_items": null,
      "left": null,
      "margin": null,
      "max_height": null,
      "max_width": null,
      "min_height": null,
      "min_width": null,
      "object_fit": null,
      "object_position": null,
      "order": null,
      "overflow": null,
      "overflow_x": null,
      "overflow_y": null,
      "padding": null,
      "right": null,
      "top": null,
      "visibility": null,
      "width": null
     }
    },
    "c38a2b3bb8a44e3cbcc31a500e8c7a04": {
     "model_module": "@jupyter-widgets/base",
     "model_module_version": "1.2.0",
     "model_name": "LayoutModel",
     "state": {
      "_model_module": "@jupyter-widgets/base",
      "_model_module_version": "1.2.0",
      "_model_name": "LayoutModel",
      "_view_count": null,
      "_view_module": "@jupyter-widgets/base",
      "_view_module_version": "1.2.0",
      "_view_name": "LayoutView",
      "align_content": null,
      "align_items": null,
      "align_self": null,
      "border": null,
      "bottom": null,
      "display": null,
      "flex": null,
      "flex_flow": null,
      "grid_area": null,
      "grid_auto_columns": null,
      "grid_auto_flow": null,
      "grid_auto_rows": null,
      "grid_column": null,
      "grid_gap": null,
      "grid_row": null,
      "grid_template_areas": null,
      "grid_template_columns": null,
      "grid_template_rows": null,
      "height": null,
      "justify_content": null,
      "justify_items": null,
      "left": null,
      "margin": null,
      "max_height": null,
      "max_width": null,
      "min_height": null,
      "min_width": null,
      "object_fit": null,
      "object_position": null,
      "order": null,
      "overflow": null,
      "overflow_x": null,
      "overflow_y": null,
      "padding": null,
      "right": null,
      "top": null,
      "visibility": null,
      "width": null
     }
    },
    "c44d4b524c4345b2a8469b44be1cc36c": {
     "model_module": "@jupyter-widgets/base",
     "model_module_version": "1.2.0",
     "model_name": "LayoutModel",
     "state": {
      "_model_module": "@jupyter-widgets/base",
      "_model_module_version": "1.2.0",
      "_model_name": "LayoutModel",
      "_view_count": null,
      "_view_module": "@jupyter-widgets/base",
      "_view_module_version": "1.2.0",
      "_view_name": "LayoutView",
      "align_content": null,
      "align_items": null,
      "align_self": null,
      "border": null,
      "bottom": null,
      "display": null,
      "flex": null,
      "flex_flow": null,
      "grid_area": null,
      "grid_auto_columns": null,
      "grid_auto_flow": null,
      "grid_auto_rows": null,
      "grid_column": null,
      "grid_gap": null,
      "grid_row": null,
      "grid_template_areas": null,
      "grid_template_columns": null,
      "grid_template_rows": null,
      "height": null,
      "justify_content": null,
      "justify_items": null,
      "left": null,
      "margin": null,
      "max_height": null,
      "max_width": null,
      "min_height": null,
      "min_width": null,
      "object_fit": null,
      "object_position": null,
      "order": null,
      "overflow": null,
      "overflow_x": null,
      "overflow_y": null,
      "padding": null,
      "right": null,
      "top": null,
      "visibility": null,
      "width": null
     }
    },
    "cc4d2930127840c2b26c34d8c9e3e3ac": {
     "model_module": "@jupyter-widgets/controls",
     "model_module_version": "1.5.0",
     "model_name": "FloatProgressModel",
     "state": {
      "_dom_classes": [],
      "_model_module": "@jupyter-widgets/controls",
      "_model_module_version": "1.5.0",
      "_model_name": "FloatProgressModel",
      "_view_count": null,
      "_view_module": "@jupyter-widgets/controls",
      "_view_module_version": "1.5.0",
      "_view_name": "ProgressView",
      "bar_style": "success",
      "description": "",
      "description_tooltip": null,
      "layout": "IPY_MODEL_d4e107e5aede4148b70a14bd0bbce207",
      "max": 231508,
      "min": 0,
      "orientation": "horizontal",
      "style": "IPY_MODEL_d3c3ceff6e364115bd9828d1b83d0df1",
      "value": 231508
     }
    },
    "cccc081d60234be7b6e15cd1fc6806c9": {
     "model_module": "@jupyter-widgets/base",
     "model_module_version": "1.2.0",
     "model_name": "LayoutModel",
     "state": {
      "_model_module": "@jupyter-widgets/base",
      "_model_module_version": "1.2.0",
      "_model_name": "LayoutModel",
      "_view_count": null,
      "_view_module": "@jupyter-widgets/base",
      "_view_module_version": "1.2.0",
      "_view_name": "LayoutView",
      "align_content": null,
      "align_items": null,
      "align_self": null,
      "border": null,
      "bottom": null,
      "display": null,
      "flex": null,
      "flex_flow": null,
      "grid_area": null,
      "grid_auto_columns": null,
      "grid_auto_flow": null,
      "grid_auto_rows": null,
      "grid_column": null,
      "grid_gap": null,
      "grid_row": null,
      "grid_template_areas": null,
      "grid_template_columns": null,
      "grid_template_rows": null,
      "height": null,
      "justify_content": null,
      "justify_items": null,
      "left": null,
      "margin": null,
      "max_height": null,
      "max_width": null,
      "min_height": null,
      "min_width": null,
      "object_fit": null,
      "object_position": null,
      "order": null,
      "overflow": null,
      "overflow_x": null,
      "overflow_y": null,
      "padding": null,
      "right": null,
      "top": null,
      "visibility": null,
      "width": null
     }
    },
    "ccd7a6556a2a47ea89a3965d52cab4c6": {
     "model_module": "@jupyter-widgets/controls",
     "model_module_version": "1.5.0",
     "model_name": "DescriptionStyleModel",
     "state": {
      "_model_module": "@jupyter-widgets/controls",
      "_model_module_version": "1.5.0",
      "_model_name": "DescriptionStyleModel",
      "_view_count": null,
      "_view_module": "@jupyter-widgets/base",
      "_view_module_version": "1.2.0",
      "_view_name": "StyleView",
      "description_width": ""
     }
    },
    "d2d535eb15404b1c96d1ae1cb507a149": {
     "model_module": "@jupyter-widgets/controls",
     "model_module_version": "1.5.0",
     "model_name": "HTMLModel",
     "state": {
      "_dom_classes": [],
      "_model_module": "@jupyter-widgets/controls",
      "_model_module_version": "1.5.0",
      "_model_name": "HTMLModel",
      "_view_count": null,
      "_view_module": "@jupyter-widgets/controls",
      "_view_module_version": "1.5.0",
      "_view_name": "HTMLView",
      "description": "",
      "description_tooltip": null,
      "layout": "IPY_MODEL_c023d4859cc641a2bf7138ccc43b101b",
      "placeholder": "​",
      "style": "IPY_MODEL_9c9ee2ef3c1348d684969031ea1cc24a",
      "value": " 268M/268M [00:02&lt;00:00, 110MB/s]"
     }
    },
    "d3c3ceff6e364115bd9828d1b83d0df1": {
     "model_module": "@jupyter-widgets/controls",
     "model_module_version": "1.5.0",
     "model_name": "ProgressStyleModel",
     "state": {
      "_model_module": "@jupyter-widgets/controls",
      "_model_module_version": "1.5.0",
      "_model_name": "ProgressStyleModel",
      "_view_count": null,
      "_view_module": "@jupyter-widgets/base",
      "_view_module_version": "1.2.0",
      "_view_name": "StyleView",
      "bar_color": null,
      "description_width": ""
     }
    },
    "d4e107e5aede4148b70a14bd0bbce207": {
     "model_module": "@jupyter-widgets/base",
     "model_module_version": "1.2.0",
     "model_name": "LayoutModel",
     "state": {
      "_model_module": "@jupyter-widgets/base",
      "_model_module_version": "1.2.0",
      "_model_name": "LayoutModel",
      "_view_count": null,
      "_view_module": "@jupyter-widgets/base",
      "_view_module_version": "1.2.0",
      "_view_name": "LayoutView",
      "align_content": null,
      "align_items": null,
      "align_self": null,
      "border": null,
      "bottom": null,
      "display": null,
      "flex": null,
      "flex_flow": null,
      "grid_area": null,
      "grid_auto_columns": null,
      "grid_auto_flow": null,
      "grid_auto_rows": null,
      "grid_column": null,
      "grid_gap": null,
      "grid_row": null,
      "grid_template_areas": null,
      "grid_template_columns": null,
      "grid_template_rows": null,
      "height": null,
      "justify_content": null,
      "justify_items": null,
      "left": null,
      "margin": null,
      "max_height": null,
      "max_width": null,
      "min_height": null,
      "min_width": null,
      "object_fit": null,
      "object_position": null,
      "order": null,
      "overflow": null,
      "overflow_x": null,
      "overflow_y": null,
      "padding": null,
      "right": null,
      "top": null,
      "visibility": null,
      "width": null
     }
    },
    "ed48a22e6a5547068e500d6ddf25eba9": {
     "model_module": "@jupyter-widgets/base",
     "model_module_version": "1.2.0",
     "model_name": "LayoutModel",
     "state": {
      "_model_module": "@jupyter-widgets/base",
      "_model_module_version": "1.2.0",
      "_model_name": "LayoutModel",
      "_view_count": null,
      "_view_module": "@jupyter-widgets/base",
      "_view_module_version": "1.2.0",
      "_view_name": "LayoutView",
      "align_content": null,
      "align_items": null,
      "align_self": null,
      "border": null,
      "bottom": null,
      "display": null,
      "flex": null,
      "flex_flow": null,
      "grid_area": null,
      "grid_auto_columns": null,
      "grid_auto_flow": null,
      "grid_auto_rows": null,
      "grid_column": null,
      "grid_gap": null,
      "grid_row": null,
      "grid_template_areas": null,
      "grid_template_columns": null,
      "grid_template_rows": null,
      "height": null,
      "justify_content": null,
      "justify_items": null,
      "left": null,
      "margin": null,
      "max_height": null,
      "max_width": null,
      "min_height": null,
      "min_width": null,
      "object_fit": null,
      "object_position": null,
      "order": null,
      "overflow": null,
      "overflow_x": null,
      "overflow_y": null,
      "padding": null,
      "right": null,
      "top": null,
      "visibility": null,
      "width": null
     }
    },
    "edffc083ccc64fc4aea4ba69e9d96e7d": {
     "model_module": "@jupyter-widgets/controls",
     "model_module_version": "1.5.0",
     "model_name": "HTMLModel",
     "state": {
      "_dom_classes": [],
      "_model_module": "@jupyter-widgets/controls",
      "_model_module_version": "1.5.0",
      "_model_name": "HTMLModel",
      "_view_count": null,
      "_view_module": "@jupyter-widgets/controls",
      "_view_module_version": "1.5.0",
      "_view_name": "HTMLView",
      "description": "",
      "description_tooltip": null,
      "layout": "IPY_MODEL_74913eb6cebe40fba5596253b7750b4f",
      "placeholder": "​",
      "style": "IPY_MODEL_ff2d2a38728d411184a4b70a143a18e4",
      "value": "Downloading (…)/main/tokenizer.json: 100%"
     }
    },
    "ef57f2af381c48d9b2044883a4197e2e": {
     "model_module": "@jupyter-widgets/base",
     "model_module_version": "1.2.0",
     "model_name": "LayoutModel",
     "state": {
      "_model_module": "@jupyter-widgets/base",
      "_model_module_version": "1.2.0",
      "_model_name": "LayoutModel",
      "_view_count": null,
      "_view_module": "@jupyter-widgets/base",
      "_view_module_version": "1.2.0",
      "_view_name": "LayoutView",
      "align_content": null,
      "align_items": null,
      "align_self": null,
      "border": null,
      "bottom": null,
      "display": null,
      "flex": null,
      "flex_flow": null,
      "grid_area": null,
      "grid_auto_columns": null,
      "grid_auto_flow": null,
      "grid_auto_rows": null,
      "grid_column": null,
      "grid_gap": null,
      "grid_row": null,
      "grid_template_areas": null,
      "grid_template_columns": null,
      "grid_template_rows": null,
      "height": null,
      "justify_content": null,
      "justify_items": null,
      "left": null,
      "margin": null,
      "max_height": null,
      "max_width": null,
      "min_height": null,
      "min_width": null,
      "object_fit": null,
      "object_position": null,
      "order": null,
      "overflow": null,
      "overflow_x": null,
      "overflow_y": null,
      "padding": null,
      "right": null,
      "top": null,
      "visibility": null,
      "width": null
     }
    },
    "f566acdf3ff941f89aa0115ed1da5542": {
     "model_module": "@jupyter-widgets/controls",
     "model_module_version": "1.5.0",
     "model_name": "HTMLModel",
     "state": {
      "_dom_classes": [],
      "_model_module": "@jupyter-widgets/controls",
      "_model_module_version": "1.5.0",
      "_model_name": "HTMLModel",
      "_view_count": null,
      "_view_module": "@jupyter-widgets/controls",
      "_view_module_version": "1.5.0",
      "_view_name": "HTMLView",
      "description": "",
      "description_tooltip": null,
      "layout": "IPY_MODEL_ed48a22e6a5547068e500d6ddf25eba9",
      "placeholder": "​",
      "style": "IPY_MODEL_0bb54eb7d13e42f8a7e4973eda2e949f",
      "value": "Downloading (…)solve/main/vocab.txt: 100%"
     }
    },
    "f6b367791e264c52b2298a90dce57abb": {
     "model_module": "@jupyter-widgets/controls",
     "model_module_version": "1.5.0",
     "model_name": "DescriptionStyleModel",
     "state": {
      "_model_module": "@jupyter-widgets/controls",
      "_model_module_version": "1.5.0",
      "_model_name": "DescriptionStyleModel",
      "_view_count": null,
      "_view_module": "@jupyter-widgets/base",
      "_view_module_version": "1.2.0",
      "_view_name": "StyleView",
      "description_width": ""
     }
    },
    "ff2d2a38728d411184a4b70a143a18e4": {
     "model_module": "@jupyter-widgets/controls",
     "model_module_version": "1.5.0",
     "model_name": "DescriptionStyleModel",
     "state": {
      "_model_module": "@jupyter-widgets/controls",
      "_model_module_version": "1.5.0",
      "_model_name": "DescriptionStyleModel",
      "_view_count": null,
      "_view_module": "@jupyter-widgets/base",
      "_view_module_version": "1.2.0",
      "_view_name": "StyleView",
      "description_width": ""
     }
    }
   }
  }
 },
 "nbformat": 4,
 "nbformat_minor": 4
}
