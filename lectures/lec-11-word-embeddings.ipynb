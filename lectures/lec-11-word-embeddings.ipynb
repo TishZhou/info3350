{
 "cells": [
  {
   "cell_type": "markdown",
   "metadata": {},
   "source": [
    "# INFO 3350/6350\n",
    "\n",
    "## Lecture 11: Static word embeddings"
   ]
  },
  {
   "cell_type": "markdown",
   "metadata": {},
   "source": [
    "## Words as vectors\n",
    "\n",
    "**Big picture: static word embeddings replace each word in our corpus with a vector** (typically of dimensionality between 100 and 1,000) **that captures the range of meanings of that word. We can use these vectors in place of token counts as the input features for any downstream NLP or text analysis task.**\n",
    "\n",
    "* We've previously represented **documents** as vectors\n",
    "    * Usually, vectors of word counts\n",
    "    * Or, with topic models, as vectors of topics\n",
    "* Limits of words, often discussed\n",
    "    * In brief: some words are more alike than others, but word counts don't reflect this fact\n",
    "    * Topic models helped to address this problem\n",
    "    * Today, a different approach: **word embeddings**\n",
    "* We might like to have a vector for each **word**, which we could in turn use to build our document vectors\n",
    "    * This will be an *unsupervised* task. We want to produce vectors that place similar words close together in vector space, but we don't want to use human-labled data to do so. We want instead to observe patterns of use in a large corpus.\n",
    "* Language models\n",
    "    * Large neural language models achieve state-of-the-art performance on many NLP tasks\n",
    "    * These models generally seek to predict a word (or other element of a text sequence) on the basis of the words around it\n",
    "    * General architecture is:\n",
    "        * Embedding layer. Counts of words transformed into contextual vectors. Initially, weights are random. In the case of word embeddings, we want to learn the proper weights as our output objective.\n",
    "        * Intermediate (hidden) layer. Neural layers that can learn non-linear relationships between words and embeddings.\n",
    "        * Output layer. Optimize an objective function (for example, highest probability of next word, given an input sequence).\n",
    "    * `word2vec` (2013) showed that we can do without the intermediate layer if we just want to produce word embeddings\n",
    "        * This simplifies the computation, so we can use *much* more input text\n",
    "        *  `word2vec` has numerous limitations, however, and is generally considered outdated. We will get to language models very soon, but `word2vec` is still very useful to understand.\n",
    "* CBOW vs. skip-gram\n",
    "    * `word2vec` can use two different models: Continuous bag of words (CBOW) and skip-gram\n",
    "    * CBOW is more \"traditional.\" Objective is to predict a word given the *n* words before and after it.\n",
    "    * Skip-gram \"flips\" the prediction task. Try to predict the *n* contextual words, given a seed word.\n",
    "    * CBOW is faster to train and better captures *syntax* (plurals are closer to other plurals in vector space)\n",
    "    * Skip-gram is slower to train and better captures *semantic* relationships ('king' moves  closer to 'prince' than to 'kings')\n",
    "* Training is slow either way, so using pretrained embeddings is standard practice, but ...\n",
    "    * Embedded relationships and biases of training set\n",
    "    * Change over time\n",
    "    * Polysemy remains within the embedding\n",
    "        * \"Class\" vector has components of education and of social status, for example\n",
    "    * Once a model is trained, you cannot add words to its vocabulary (you will encounter OOV words)\n",
    "    * Word embeddings are \"static\". What does that mean here?"
   ]
  },
  {
   "cell_type": "markdown",
   "metadata": {},
   "source": [
    "## Let's *use* some embeddings\n",
    "\n",
    "We're not going to train them, because that's slow and requires lots of corpus text. In a future lecture, we'll discuss transfer learning. Transfer learning allows us to use a modest amount of new training data to update a larger, pretrained model.\n",
    "\n",
    "### We need a `spaCy` medium or large model\n",
    "\n",
    "The small models that we used in the previous lecture do not include vectors. If you haven't already installed the large model (which includes `GloVe` embeddings, an alternative to `word2vec`), run the code below in a terminal to download and install it.\n",
    "\n",
    "```\n",
    "python -m spacy download en_core_web_lg\n",
    "```"
   ]
  },
  {
   "cell_type": "code",
   "execution_count": 1,
   "metadata": {
    "tags": []
   },
   "outputs": [],
   "source": [
    "# set up spaCy NLP object and load model\n",
    "import spacy\n",
    "nlp = spacy.load(\"en_core_web_lg\") # Note '_lg' = large model"
   ]
  },
  {
   "cell_type": "markdown",
   "metadata": {},
   "source": [
    "### Words in vector space\n",
    "\n",
    "Take a quick look at some vectors in embedding space. We begin by loading (a sample of) the embedding space, so that we can learn its PCA representation ..."
   ]
  },
  {
   "cell_type": "code",
   "execution_count": 2,
   "metadata": {
    "tags": []
   },
   "outputs": [
    {
     "data": {
      "text/html": [
       "<style>#sk-container-id-1 {\n",
       "  /* Definition of color scheme common for light and dark mode */\n",
       "  --sklearn-color-text: #000;\n",
       "  --sklearn-color-text-muted: #666;\n",
       "  --sklearn-color-line: gray;\n",
       "  /* Definition of color scheme for unfitted estimators */\n",
       "  --sklearn-color-unfitted-level-0: #fff5e6;\n",
       "  --sklearn-color-unfitted-level-1: #f6e4d2;\n",
       "  --sklearn-color-unfitted-level-2: #ffe0b3;\n",
       "  --sklearn-color-unfitted-level-3: chocolate;\n",
       "  /* Definition of color scheme for fitted estimators */\n",
       "  --sklearn-color-fitted-level-0: #f0f8ff;\n",
       "  --sklearn-color-fitted-level-1: #d4ebff;\n",
       "  --sklearn-color-fitted-level-2: #b3dbfd;\n",
       "  --sklearn-color-fitted-level-3: cornflowerblue;\n",
       "\n",
       "  /* Specific color for light theme */\n",
       "  --sklearn-color-text-on-default-background: var(--sg-text-color, var(--theme-code-foreground, var(--jp-content-font-color1, black)));\n",
       "  --sklearn-color-background: var(--sg-background-color, var(--theme-background, var(--jp-layout-color0, white)));\n",
       "  --sklearn-color-border-box: var(--sg-text-color, var(--theme-code-foreground, var(--jp-content-font-color1, black)));\n",
       "  --sklearn-color-icon: #696969;\n",
       "\n",
       "  @media (prefers-color-scheme: dark) {\n",
       "    /* Redefinition of color scheme for dark theme */\n",
       "    --sklearn-color-text-on-default-background: var(--sg-text-color, var(--theme-code-foreground, var(--jp-content-font-color1, white)));\n",
       "    --sklearn-color-background: var(--sg-background-color, var(--theme-background, var(--jp-layout-color0, #111)));\n",
       "    --sklearn-color-border-box: var(--sg-text-color, var(--theme-code-foreground, var(--jp-content-font-color1, white)));\n",
       "    --sklearn-color-icon: #878787;\n",
       "  }\n",
       "}\n",
       "\n",
       "#sk-container-id-1 {\n",
       "  color: var(--sklearn-color-text);\n",
       "}\n",
       "\n",
       "#sk-container-id-1 pre {\n",
       "  padding: 0;\n",
       "}\n",
       "\n",
       "#sk-container-id-1 input.sk-hidden--visually {\n",
       "  border: 0;\n",
       "  clip: rect(1px 1px 1px 1px);\n",
       "  clip: rect(1px, 1px, 1px, 1px);\n",
       "  height: 1px;\n",
       "  margin: -1px;\n",
       "  overflow: hidden;\n",
       "  padding: 0;\n",
       "  position: absolute;\n",
       "  width: 1px;\n",
       "}\n",
       "\n",
       "#sk-container-id-1 div.sk-dashed-wrapped {\n",
       "  border: 1px dashed var(--sklearn-color-line);\n",
       "  margin: 0 0.4em 0.5em 0.4em;\n",
       "  box-sizing: border-box;\n",
       "  padding-bottom: 0.4em;\n",
       "  background-color: var(--sklearn-color-background);\n",
       "}\n",
       "\n",
       "#sk-container-id-1 div.sk-container {\n",
       "  /* jupyter's `normalize.less` sets `[hidden] { display: none; }`\n",
       "     but bootstrap.min.css set `[hidden] { display: none !important; }`\n",
       "     so we also need the `!important` here to be able to override the\n",
       "     default hidden behavior on the sphinx rendered scikit-learn.org.\n",
       "     See: https://github.com/scikit-learn/scikit-learn/issues/21755 */\n",
       "  display: inline-block !important;\n",
       "  position: relative;\n",
       "}\n",
       "\n",
       "#sk-container-id-1 div.sk-text-repr-fallback {\n",
       "  display: none;\n",
       "}\n",
       "\n",
       "div.sk-parallel-item,\n",
       "div.sk-serial,\n",
       "div.sk-item {\n",
       "  /* draw centered vertical line to link estimators */\n",
       "  background-image: linear-gradient(var(--sklearn-color-text-on-default-background), var(--sklearn-color-text-on-default-background));\n",
       "  background-size: 2px 100%;\n",
       "  background-repeat: no-repeat;\n",
       "  background-position: center center;\n",
       "}\n",
       "\n",
       "/* Parallel-specific style estimator block */\n",
       "\n",
       "#sk-container-id-1 div.sk-parallel-item::after {\n",
       "  content: \"\";\n",
       "  width: 100%;\n",
       "  border-bottom: 2px solid var(--sklearn-color-text-on-default-background);\n",
       "  flex-grow: 1;\n",
       "}\n",
       "\n",
       "#sk-container-id-1 div.sk-parallel {\n",
       "  display: flex;\n",
       "  align-items: stretch;\n",
       "  justify-content: center;\n",
       "  background-color: var(--sklearn-color-background);\n",
       "  position: relative;\n",
       "}\n",
       "\n",
       "#sk-container-id-1 div.sk-parallel-item {\n",
       "  display: flex;\n",
       "  flex-direction: column;\n",
       "}\n",
       "\n",
       "#sk-container-id-1 div.sk-parallel-item:first-child::after {\n",
       "  align-self: flex-end;\n",
       "  width: 50%;\n",
       "}\n",
       "\n",
       "#sk-container-id-1 div.sk-parallel-item:last-child::after {\n",
       "  align-self: flex-start;\n",
       "  width: 50%;\n",
       "}\n",
       "\n",
       "#sk-container-id-1 div.sk-parallel-item:only-child::after {\n",
       "  width: 0;\n",
       "}\n",
       "\n",
       "/* Serial-specific style estimator block */\n",
       "\n",
       "#sk-container-id-1 div.sk-serial {\n",
       "  display: flex;\n",
       "  flex-direction: column;\n",
       "  align-items: center;\n",
       "  background-color: var(--sklearn-color-background);\n",
       "  padding-right: 1em;\n",
       "  padding-left: 1em;\n",
       "}\n",
       "\n",
       "\n",
       "/* Toggleable style: style used for estimator/Pipeline/ColumnTransformer box that is\n",
       "clickable and can be expanded/collapsed.\n",
       "- Pipeline and ColumnTransformer use this feature and define the default style\n",
       "- Estimators will overwrite some part of the style using the `sk-estimator` class\n",
       "*/\n",
       "\n",
       "/* Pipeline and ColumnTransformer style (default) */\n",
       "\n",
       "#sk-container-id-1 div.sk-toggleable {\n",
       "  /* Default theme specific background. It is overwritten whether we have a\n",
       "  specific estimator or a Pipeline/ColumnTransformer */\n",
       "  background-color: var(--sklearn-color-background);\n",
       "}\n",
       "\n",
       "/* Toggleable label */\n",
       "#sk-container-id-1 label.sk-toggleable__label {\n",
       "  cursor: pointer;\n",
       "  display: flex;\n",
       "  width: 100%;\n",
       "  margin-bottom: 0;\n",
       "  padding: 0.5em;\n",
       "  box-sizing: border-box;\n",
       "  text-align: center;\n",
       "  align-items: start;\n",
       "  justify-content: space-between;\n",
       "  gap: 0.5em;\n",
       "}\n",
       "\n",
       "#sk-container-id-1 label.sk-toggleable__label .caption {\n",
       "  font-size: 0.6rem;\n",
       "  font-weight: lighter;\n",
       "  color: var(--sklearn-color-text-muted);\n",
       "}\n",
       "\n",
       "#sk-container-id-1 label.sk-toggleable__label-arrow:before {\n",
       "  /* Arrow on the left of the label */\n",
       "  content: \"▸\";\n",
       "  float: left;\n",
       "  margin-right: 0.25em;\n",
       "  color: var(--sklearn-color-icon);\n",
       "}\n",
       "\n",
       "#sk-container-id-1 label.sk-toggleable__label-arrow:hover:before {\n",
       "  color: var(--sklearn-color-text);\n",
       "}\n",
       "\n",
       "/* Toggleable content - dropdown */\n",
       "\n",
       "#sk-container-id-1 div.sk-toggleable__content {\n",
       "  display: none;\n",
       "  text-align: left;\n",
       "  /* unfitted */\n",
       "  background-color: var(--sklearn-color-unfitted-level-0);\n",
       "}\n",
       "\n",
       "#sk-container-id-1 div.sk-toggleable__content.fitted {\n",
       "  /* fitted */\n",
       "  background-color: var(--sklearn-color-fitted-level-0);\n",
       "}\n",
       "\n",
       "#sk-container-id-1 div.sk-toggleable__content pre {\n",
       "  margin: 0.2em;\n",
       "  border-radius: 0.25em;\n",
       "  color: var(--sklearn-color-text);\n",
       "  /* unfitted */\n",
       "  background-color: var(--sklearn-color-unfitted-level-0);\n",
       "}\n",
       "\n",
       "#sk-container-id-1 div.sk-toggleable__content.fitted pre {\n",
       "  /* unfitted */\n",
       "  background-color: var(--sklearn-color-fitted-level-0);\n",
       "}\n",
       "\n",
       "#sk-container-id-1 input.sk-toggleable__control:checked~div.sk-toggleable__content {\n",
       "  /* Expand drop-down */\n",
       "  display: block;\n",
       "  width: 100%;\n",
       "  overflow: visible;\n",
       "}\n",
       "\n",
       "#sk-container-id-1 input.sk-toggleable__control:checked~label.sk-toggleable__label-arrow:before {\n",
       "  content: \"▾\";\n",
       "}\n",
       "\n",
       "/* Pipeline/ColumnTransformer-specific style */\n",
       "\n",
       "#sk-container-id-1 div.sk-label input.sk-toggleable__control:checked~label.sk-toggleable__label {\n",
       "  color: var(--sklearn-color-text);\n",
       "  background-color: var(--sklearn-color-unfitted-level-2);\n",
       "}\n",
       "\n",
       "#sk-container-id-1 div.sk-label.fitted input.sk-toggleable__control:checked~label.sk-toggleable__label {\n",
       "  background-color: var(--sklearn-color-fitted-level-2);\n",
       "}\n",
       "\n",
       "/* Estimator-specific style */\n",
       "\n",
       "/* Colorize estimator box */\n",
       "#sk-container-id-1 div.sk-estimator input.sk-toggleable__control:checked~label.sk-toggleable__label {\n",
       "  /* unfitted */\n",
       "  background-color: var(--sklearn-color-unfitted-level-2);\n",
       "}\n",
       "\n",
       "#sk-container-id-1 div.sk-estimator.fitted input.sk-toggleable__control:checked~label.sk-toggleable__label {\n",
       "  /* fitted */\n",
       "  background-color: var(--sklearn-color-fitted-level-2);\n",
       "}\n",
       "\n",
       "#sk-container-id-1 div.sk-label label.sk-toggleable__label,\n",
       "#sk-container-id-1 div.sk-label label {\n",
       "  /* The background is the default theme color */\n",
       "  color: var(--sklearn-color-text-on-default-background);\n",
       "}\n",
       "\n",
       "/* On hover, darken the color of the background */\n",
       "#sk-container-id-1 div.sk-label:hover label.sk-toggleable__label {\n",
       "  color: var(--sklearn-color-text);\n",
       "  background-color: var(--sklearn-color-unfitted-level-2);\n",
       "}\n",
       "\n",
       "/* Label box, darken color on hover, fitted */\n",
       "#sk-container-id-1 div.sk-label.fitted:hover label.sk-toggleable__label.fitted {\n",
       "  color: var(--sklearn-color-text);\n",
       "  background-color: var(--sklearn-color-fitted-level-2);\n",
       "}\n",
       "\n",
       "/* Estimator label */\n",
       "\n",
       "#sk-container-id-1 div.sk-label label {\n",
       "  font-family: monospace;\n",
       "  font-weight: bold;\n",
       "  display: inline-block;\n",
       "  line-height: 1.2em;\n",
       "}\n",
       "\n",
       "#sk-container-id-1 div.sk-label-container {\n",
       "  text-align: center;\n",
       "}\n",
       "\n",
       "/* Estimator-specific */\n",
       "#sk-container-id-1 div.sk-estimator {\n",
       "  font-family: monospace;\n",
       "  border: 1px dotted var(--sklearn-color-border-box);\n",
       "  border-radius: 0.25em;\n",
       "  box-sizing: border-box;\n",
       "  margin-bottom: 0.5em;\n",
       "  /* unfitted */\n",
       "  background-color: var(--sklearn-color-unfitted-level-0);\n",
       "}\n",
       "\n",
       "#sk-container-id-1 div.sk-estimator.fitted {\n",
       "  /* fitted */\n",
       "  background-color: var(--sklearn-color-fitted-level-0);\n",
       "}\n",
       "\n",
       "/* on hover */\n",
       "#sk-container-id-1 div.sk-estimator:hover {\n",
       "  /* unfitted */\n",
       "  background-color: var(--sklearn-color-unfitted-level-2);\n",
       "}\n",
       "\n",
       "#sk-container-id-1 div.sk-estimator.fitted:hover {\n",
       "  /* fitted */\n",
       "  background-color: var(--sklearn-color-fitted-level-2);\n",
       "}\n",
       "\n",
       "/* Specification for estimator info (e.g. \"i\" and \"?\") */\n",
       "\n",
       "/* Common style for \"i\" and \"?\" */\n",
       "\n",
       ".sk-estimator-doc-link,\n",
       "a:link.sk-estimator-doc-link,\n",
       "a:visited.sk-estimator-doc-link {\n",
       "  float: right;\n",
       "  font-size: smaller;\n",
       "  line-height: 1em;\n",
       "  font-family: monospace;\n",
       "  background-color: var(--sklearn-color-background);\n",
       "  border-radius: 1em;\n",
       "  height: 1em;\n",
       "  width: 1em;\n",
       "  text-decoration: none !important;\n",
       "  margin-left: 0.5em;\n",
       "  text-align: center;\n",
       "  /* unfitted */\n",
       "  border: var(--sklearn-color-unfitted-level-1) 1pt solid;\n",
       "  color: var(--sklearn-color-unfitted-level-1);\n",
       "}\n",
       "\n",
       ".sk-estimator-doc-link.fitted,\n",
       "a:link.sk-estimator-doc-link.fitted,\n",
       "a:visited.sk-estimator-doc-link.fitted {\n",
       "  /* fitted */\n",
       "  border: var(--sklearn-color-fitted-level-1) 1pt solid;\n",
       "  color: var(--sklearn-color-fitted-level-1);\n",
       "}\n",
       "\n",
       "/* On hover */\n",
       "div.sk-estimator:hover .sk-estimator-doc-link:hover,\n",
       ".sk-estimator-doc-link:hover,\n",
       "div.sk-label-container:hover .sk-estimator-doc-link:hover,\n",
       ".sk-estimator-doc-link:hover {\n",
       "  /* unfitted */\n",
       "  background-color: var(--sklearn-color-unfitted-level-3);\n",
       "  color: var(--sklearn-color-background);\n",
       "  text-decoration: none;\n",
       "}\n",
       "\n",
       "div.sk-estimator.fitted:hover .sk-estimator-doc-link.fitted:hover,\n",
       ".sk-estimator-doc-link.fitted:hover,\n",
       "div.sk-label-container:hover .sk-estimator-doc-link.fitted:hover,\n",
       ".sk-estimator-doc-link.fitted:hover {\n",
       "  /* fitted */\n",
       "  background-color: var(--sklearn-color-fitted-level-3);\n",
       "  color: var(--sklearn-color-background);\n",
       "  text-decoration: none;\n",
       "}\n",
       "\n",
       "/* Span, style for the box shown on hovering the info icon */\n",
       ".sk-estimator-doc-link span {\n",
       "  display: none;\n",
       "  z-index: 9999;\n",
       "  position: relative;\n",
       "  font-weight: normal;\n",
       "  right: .2ex;\n",
       "  padding: .5ex;\n",
       "  margin: .5ex;\n",
       "  width: min-content;\n",
       "  min-width: 20ex;\n",
       "  max-width: 50ex;\n",
       "  color: var(--sklearn-color-text);\n",
       "  box-shadow: 2pt 2pt 4pt #999;\n",
       "  /* unfitted */\n",
       "  background: var(--sklearn-color-unfitted-level-0);\n",
       "  border: .5pt solid var(--sklearn-color-unfitted-level-3);\n",
       "}\n",
       "\n",
       ".sk-estimator-doc-link.fitted span {\n",
       "  /* fitted */\n",
       "  background: var(--sklearn-color-fitted-level-0);\n",
       "  border: var(--sklearn-color-fitted-level-3);\n",
       "}\n",
       "\n",
       ".sk-estimator-doc-link:hover span {\n",
       "  display: block;\n",
       "}\n",
       "\n",
       "/* \"?\"-specific style due to the `<a>` HTML tag */\n",
       "\n",
       "#sk-container-id-1 a.estimator_doc_link {\n",
       "  float: right;\n",
       "  font-size: 1rem;\n",
       "  line-height: 1em;\n",
       "  font-family: monospace;\n",
       "  background-color: var(--sklearn-color-background);\n",
       "  border-radius: 1rem;\n",
       "  height: 1rem;\n",
       "  width: 1rem;\n",
       "  text-decoration: none;\n",
       "  /* unfitted */\n",
       "  color: var(--sklearn-color-unfitted-level-1);\n",
       "  border: var(--sklearn-color-unfitted-level-1) 1pt solid;\n",
       "}\n",
       "\n",
       "#sk-container-id-1 a.estimator_doc_link.fitted {\n",
       "  /* fitted */\n",
       "  border: var(--sklearn-color-fitted-level-1) 1pt solid;\n",
       "  color: var(--sklearn-color-fitted-level-1);\n",
       "}\n",
       "\n",
       "/* On hover */\n",
       "#sk-container-id-1 a.estimator_doc_link:hover {\n",
       "  /* unfitted */\n",
       "  background-color: var(--sklearn-color-unfitted-level-3);\n",
       "  color: var(--sklearn-color-background);\n",
       "  text-decoration: none;\n",
       "}\n",
       "\n",
       "#sk-container-id-1 a.estimator_doc_link.fitted:hover {\n",
       "  /* fitted */\n",
       "  background-color: var(--sklearn-color-fitted-level-3);\n",
       "}\n",
       "\n",
       ".estimator-table summary {\n",
       "    padding: .5rem;\n",
       "    font-family: monospace;\n",
       "    cursor: pointer;\n",
       "}\n",
       "\n",
       ".estimator-table details[open] {\n",
       "    padding-left: 0.1rem;\n",
       "    padding-right: 0.1rem;\n",
       "    padding-bottom: 0.3rem;\n",
       "}\n",
       "\n",
       ".estimator-table .parameters-table {\n",
       "    margin-left: auto !important;\n",
       "    margin-right: auto !important;\n",
       "}\n",
       "\n",
       ".estimator-table .parameters-table tr:nth-child(odd) {\n",
       "    background-color: #fff;\n",
       "}\n",
       "\n",
       ".estimator-table .parameters-table tr:nth-child(even) {\n",
       "    background-color: #f6f6f6;\n",
       "}\n",
       "\n",
       ".estimator-table .parameters-table tr:hover {\n",
       "    background-color: #e0e0e0;\n",
       "}\n",
       "\n",
       ".estimator-table table td {\n",
       "    border: 1px solid rgba(106, 105, 104, 0.232);\n",
       "}\n",
       "\n",
       ".user-set td {\n",
       "    color:rgb(255, 94, 0);\n",
       "    text-align: left;\n",
       "}\n",
       "\n",
       ".user-set td.value pre {\n",
       "    color:rgb(255, 94, 0) !important;\n",
       "    background-color: transparent !important;\n",
       "}\n",
       "\n",
       ".default td {\n",
       "    color: black;\n",
       "    text-align: left;\n",
       "}\n",
       "\n",
       ".user-set td i,\n",
       ".default td i {\n",
       "    color: black;\n",
       "}\n",
       "\n",
       ".copy-paste-icon {\n",
       "    background-image: url(data:image/svg+xml;base64,PHN2ZyB4bWxucz0iaHR0cDovL3d3dy53My5vcmcvMjAwMC9zdmciIHZpZXdCb3g9IjAgMCA0NDggNTEyIj48IS0tIUZvbnQgQXdlc29tZSBGcmVlIDYuNy4yIGJ5IEBmb250YXdlc29tZSAtIGh0dHBzOi8vZm9udGF3ZXNvbWUuY29tIExpY2Vuc2UgLSBodHRwczovL2ZvbnRhd2Vzb21lLmNvbS9saWNlbnNlL2ZyZWUgQ29weXJpZ2h0IDIwMjUgRm9udGljb25zLCBJbmMuLS0+PHBhdGggZD0iTTIwOCAwTDMzMi4xIDBjMTIuNyAwIDI0LjkgNS4xIDMzLjkgMTQuMWw2Ny45IDY3LjljOSA5IDE0LjEgMjEuMiAxNC4xIDMzLjlMNDQ4IDMzNmMwIDI2LjUtMjEuNSA0OC00OCA0OGwtMTkyIDBjLTI2LjUgMC00OC0yMS41LTQ4LTQ4bDAtMjg4YzAtMjYuNSAyMS41LTQ4IDQ4LTQ4ek00OCAxMjhsODAgMCAwIDY0LTY0IDAgMCAyNTYgMTkyIDAgMC0zMiA2NCAwIDAgNDhjMCAyNi41LTIxLjUgNDgtNDggNDhMNDggNTEyYy0yNi41IDAtNDgtMjEuNS00OC00OEwwIDE3NmMwLTI2LjUgMjEuNS00OCA0OC00OHoiLz48L3N2Zz4=);\n",
       "    background-repeat: no-repeat;\n",
       "    background-size: 14px 14px;\n",
       "    background-position: 0;\n",
       "    display: inline-block;\n",
       "    width: 14px;\n",
       "    height: 14px;\n",
       "    cursor: pointer;\n",
       "}\n",
       "</style><body><div id=\"sk-container-id-1\" class=\"sk-top-container\"><div class=\"sk-text-repr-fallback\"><pre>PCA()</pre><b>In a Jupyter environment, please rerun this cell to show the HTML representation or trust the notebook. <br />On GitHub, the HTML representation is unable to render, please try loading this page with nbviewer.org.</b></div><div class=\"sk-container\" hidden><div class=\"sk-item\"><div class=\"sk-estimator fitted sk-toggleable\"><input class=\"sk-toggleable__control sk-hidden--visually\" id=\"sk-estimator-id-1\" type=\"checkbox\" checked><label for=\"sk-estimator-id-1\" class=\"sk-toggleable__label fitted sk-toggleable__label-arrow\"><div><div>PCA</div></div><div><a class=\"sk-estimator-doc-link fitted\" rel=\"noreferrer\" target=\"_blank\" href=\"https://scikit-learn.org/1.7/modules/generated/sklearn.decomposition.PCA.html\">?<span>Documentation for PCA</span></a><span class=\"sk-estimator-doc-link fitted\">i<span>Fitted</span></span></div></label><div class=\"sk-toggleable__content fitted\" data-param-prefix=\"\">\n",
       "        <div class=\"estimator-table\">\n",
       "            <details>\n",
       "                <summary>Parameters</summary>\n",
       "                <table class=\"parameters-table\">\n",
       "                  <tbody>\n",
       "                    \n",
       "        <tr class=\"default\">\n",
       "            <td><i class=\"copy-paste-icon\"\n",
       "                 onclick=\"copyToClipboard('n_components',\n",
       "                          this.parentElement.nextElementSibling)\"\n",
       "            ></i></td>\n",
       "            <td class=\"param\">n_components&nbsp;</td>\n",
       "            <td class=\"value\">None</td>\n",
       "        </tr>\n",
       "    \n",
       "\n",
       "        <tr class=\"default\">\n",
       "            <td><i class=\"copy-paste-icon\"\n",
       "                 onclick=\"copyToClipboard('copy',\n",
       "                          this.parentElement.nextElementSibling)\"\n",
       "            ></i></td>\n",
       "            <td class=\"param\">copy&nbsp;</td>\n",
       "            <td class=\"value\">True</td>\n",
       "        </tr>\n",
       "    \n",
       "\n",
       "        <tr class=\"default\">\n",
       "            <td><i class=\"copy-paste-icon\"\n",
       "                 onclick=\"copyToClipboard('whiten',\n",
       "                          this.parentElement.nextElementSibling)\"\n",
       "            ></i></td>\n",
       "            <td class=\"param\">whiten&nbsp;</td>\n",
       "            <td class=\"value\">False</td>\n",
       "        </tr>\n",
       "    \n",
       "\n",
       "        <tr class=\"default\">\n",
       "            <td><i class=\"copy-paste-icon\"\n",
       "                 onclick=\"copyToClipboard('svd_solver',\n",
       "                          this.parentElement.nextElementSibling)\"\n",
       "            ></i></td>\n",
       "            <td class=\"param\">svd_solver&nbsp;</td>\n",
       "            <td class=\"value\">&#x27;auto&#x27;</td>\n",
       "        </tr>\n",
       "    \n",
       "\n",
       "        <tr class=\"default\">\n",
       "            <td><i class=\"copy-paste-icon\"\n",
       "                 onclick=\"copyToClipboard('tol',\n",
       "                          this.parentElement.nextElementSibling)\"\n",
       "            ></i></td>\n",
       "            <td class=\"param\">tol&nbsp;</td>\n",
       "            <td class=\"value\">0.0</td>\n",
       "        </tr>\n",
       "    \n",
       "\n",
       "        <tr class=\"default\">\n",
       "            <td><i class=\"copy-paste-icon\"\n",
       "                 onclick=\"copyToClipboard('iterated_power',\n",
       "                          this.parentElement.nextElementSibling)\"\n",
       "            ></i></td>\n",
       "            <td class=\"param\">iterated_power&nbsp;</td>\n",
       "            <td class=\"value\">&#x27;auto&#x27;</td>\n",
       "        </tr>\n",
       "    \n",
       "\n",
       "        <tr class=\"default\">\n",
       "            <td><i class=\"copy-paste-icon\"\n",
       "                 onclick=\"copyToClipboard('n_oversamples',\n",
       "                          this.parentElement.nextElementSibling)\"\n",
       "            ></i></td>\n",
       "            <td class=\"param\">n_oversamples&nbsp;</td>\n",
       "            <td class=\"value\">10</td>\n",
       "        </tr>\n",
       "    \n",
       "\n",
       "        <tr class=\"default\">\n",
       "            <td><i class=\"copy-paste-icon\"\n",
       "                 onclick=\"copyToClipboard('power_iteration_normalizer',\n",
       "                          this.parentElement.nextElementSibling)\"\n",
       "            ></i></td>\n",
       "            <td class=\"param\">power_iteration_normalizer&nbsp;</td>\n",
       "            <td class=\"value\">&#x27;auto&#x27;</td>\n",
       "        </tr>\n",
       "    \n",
       "\n",
       "        <tr class=\"default\">\n",
       "            <td><i class=\"copy-paste-icon\"\n",
       "                 onclick=\"copyToClipboard('random_state',\n",
       "                          this.parentElement.nextElementSibling)\"\n",
       "            ></i></td>\n",
       "            <td class=\"param\">random_state&nbsp;</td>\n",
       "            <td class=\"value\">None</td>\n",
       "        </tr>\n",
       "    \n",
       "                  </tbody>\n",
       "                </table>\n",
       "            </details>\n",
       "        </div>\n",
       "    </div></div></div></div></div><script>function copyToClipboard(text, element) {\n",
       "    // Get the parameter prefix from the closest toggleable content\n",
       "    const toggleableContent = element.closest('.sk-toggleable__content');\n",
       "    const paramPrefix = toggleableContent ? toggleableContent.dataset.paramPrefix : '';\n",
       "    const fullParamName = paramPrefix ? `${paramPrefix}${text}` : text;\n",
       "\n",
       "    const originalStyle = element.style;\n",
       "    const computedStyle = window.getComputedStyle(element);\n",
       "    const originalWidth = computedStyle.width;\n",
       "    const originalHTML = element.innerHTML.replace('Copied!', '');\n",
       "\n",
       "    navigator.clipboard.writeText(fullParamName)\n",
       "        .then(() => {\n",
       "            element.style.width = originalWidth;\n",
       "            element.style.color = 'green';\n",
       "            element.innerHTML = \"Copied!\";\n",
       "\n",
       "            setTimeout(() => {\n",
       "                element.innerHTML = originalHTML;\n",
       "                element.style = originalStyle;\n",
       "            }, 2000);\n",
       "        })\n",
       "        .catch(err => {\n",
       "            console.error('Failed to copy:', err);\n",
       "            element.style.color = 'red';\n",
       "            element.innerHTML = \"Failed!\";\n",
       "            setTimeout(() => {\n",
       "                element.innerHTML = originalHTML;\n",
       "                element.style = originalStyle;\n",
       "            }, 2000);\n",
       "        });\n",
       "    return false;\n",
       "}\n",
       "\n",
       "document.querySelectorAll('.fa-regular.fa-copy').forEach(function(element) {\n",
       "    const toggleableContent = element.closest('.sk-toggleable__content');\n",
       "    const paramPrefix = toggleableContent ? toggleableContent.dataset.paramPrefix : '';\n",
       "    const paramName = element.parentElement.nextElementSibling.textContent.trim();\n",
       "    const fullParamName = paramPrefix ? `${paramPrefix}${paramName}` : paramName;\n",
       "\n",
       "    element.setAttribute('title', fullParamName);\n",
       "});\n",
       "</script></body>"
      ],
      "text/plain": [
       "PCA()"
      ]
     },
     "execution_count": 2,
     "metadata": {},
     "output_type": "execute_result"
    }
   ],
   "source": [
    "# load embeddings from model, reduce via PCA, plot some example words\n",
    "import matplotlib.pyplot as plt\n",
    "import numpy as np\n",
    "from   sklearn.decomposition import PCA\n",
    "\n",
    "# sample embedding space\n",
    "pct_to_sample = 100 # how much of the vector space to sample?\n",
    "tokens_with_vector = []\n",
    "for string in nlp.vocab.strings: # not all tokens have vectors; get those that do\n",
    "    if nlp.vocab[string].has_vector:\n",
    "        tokens_with_vector.append(string)\n",
    "tokens_in_sample = np.random.choice(tokens_with_vector, int(len(tokens_with_vector) * pct_to_sample/100), replace=False)\n",
    "\n",
    "# get embeddings\n",
    "   # pre-allocate numpy array to hold embeddings\n",
    "embedding_space = np.zeros((len(tokens_in_sample), nlp.vocab.vectors_length), dtype='f')\n",
    "for i, token in enumerate(tokens_in_sample):\n",
    "    embedding_space[i] = nlp.vocab[token].vector\n",
    "\n",
    "# reduce dimensions for plotting\n",
    "pca = PCA()\n",
    "pca.fit(embedding_space)"
   ]
  },
  {
   "cell_type": "markdown",
   "metadata": {
    "tags": []
   },
   "source": [
    "... then we get the PCA reductions of a few words to visualize."
   ]
  },
  {
   "cell_type": "code",
   "execution_count": 4,
   "metadata": {
    "tags": []
   },
   "outputs": [
    {
     "data": {
      "image/png": "[encoded data removed]",
      "text/plain": [
       "<Figure size 640x480 with 1 Axes>"
      ]
     },
     "metadata": {},
     "output_type": "display_data"
    }
   ],
   "source": [
    "# get vectors for sample words, reduce dimensions, and plot\n",
    "test_words = ['bank', 'loan', 'river', 'coffee', 'kitten',]\n",
    "\n",
    "# pre-allocate\n",
    "test_embeddings = np.zeros((len(test_words), nlp.vocab.vectors_length), dtype='f')\n",
    "\n",
    "# retrieve embeddings\n",
    "for i, word in enumerate(test_words):\n",
    "    test_embeddings[i] = nlp.vocab[word].vector\n",
    "    \n",
    "# reduce dimensions in learned space\n",
    "X = pca.transform(test_embeddings)\n",
    "\n",
    "# plot\n",
    "fig, ax = plt.subplots()\n",
    "for i in range(len(test_words)):\n",
    "    ax.scatter(X[i,0], X[i,1])\n",
    "    ax.text(X[i,0], X[i,1], test_words[i])\n",
    "plt.show()"
   ]
  },
  {
   "cell_type": "markdown",
   "metadata": {},
   "source": [
    "### Word similarities"
   ]
  },
  {
   "cell_type": "code",
   "execution_count": 5,
   "metadata": {
    "tags": []
   },
   "outputs": [
    {
     "name": "stdout",
     "output_type": "stream",
     "text": [
      "king -> queen similarity: 0.7252610325813293\n"
     ]
    }
   ],
   "source": [
    "# How similar are the words 'king' and 'queen' in Web text?\n",
    "from sklearn.metrics.pairwise import cosine_similarity\n",
    "\n",
    "print(\"king -> queen similarity:\", cosine_similarity(\n",
    "    nlp.vocab['king'].vector.reshape(1,-1), # reshape into a 2d vector with single row\n",
    "    nlp.vocab['queen'].vector.reshape(1,-1)\n",
    ").item())"
   ]
  },
  {
   "cell_type": "markdown",
   "metadata": {},
   "source": [
    "### Vector math\n",
    "\n",
    "Now we ask: can we remove some part of a word's meaning, add a different part, and end up closer to a specific endpoint?\n",
    "\n",
    "Another way to think about this is to imagine the task as an analogy. For example, `man:king :: woman: ___`. Many readers would complete the analogy with `queen`. Let's see if embeddings do something similar ..."
   ]
  },
  {
   "cell_type": "code",
   "execution_count": 6,
   "metadata": {
    "tags": []
   },
   "outputs": [
    {
     "name": "stdout",
     "output_type": "stream",
     "text": [
      "king - man + woman -> queen similarity: 0.7880843877792358\n"
     ]
    }
   ],
   "source": [
    "# Vector math: king - man + woman -> closer to queen?\n",
    "king_to_queen_vector = nlp.vocab['king'].vector - nlp.vocab['man'].vector + nlp.vocab['woman'].vector\n",
    "print(\"king - man + woman -> queen similarity:\", cosine_similarity(\n",
    "    king_to_queen_vector.reshape(1,-1), \n",
    "    nlp.vocab['queen'].vector.reshape(1,-1)\n",
    ").item())"
   ]
  },
  {
   "cell_type": "markdown",
   "metadata": {},
   "source": [
    "Notice that we've moved closer to `queen` by subtracting `man` and adding `woman`."
   ]
  },
  {
   "cell_type": "code",
   "execution_count": 7,
   "metadata": {
    "tags": []
   },
   "outputs": [
    {
     "name": "stdout",
     "output_type": "stream",
     "text": [
      "Paris -> Berlin:                    0.5989030599594116\n",
      "Paris - France + Germany -> Berlin: 0.7547402381896973\n"
     ]
    }
   ],
   "source": [
    "# Try the same with Paris and Berlin\n",
    "print(\"Paris -> Berlin:                   \", cosine_similarity(\n",
    "    nlp.vocab['Paris'].vector.reshape(1,-1), # reshape into a 2d vector with single row\n",
    "    nlp.vocab['Berlin'].vector.reshape(1,-1)\n",
    ").item())\n",
    "\n",
    "paris_to_berlin_vector = nlp.vocab['Paris'].vector - nlp.vocab['France'].vector + nlp.vocab['Germany'].vector\n",
    "print(\"Paris - France + Germany -> Berlin:\", cosine_similarity(\n",
    "    paris_to_berlin_vector.reshape(1,-1), \n",
    "    nlp.vocab['Berlin'].vector.reshape(1,-1)\n",
    ").item())"
   ]
  },
  {
   "cell_type": "markdown",
   "metadata": {},
   "source": [
    "So, we can use vectors on these kinds of \"analogy\" tasks. How could we find the *n* most similar words to a given vector?"
   ]
  },
  {
   "cell_type": "markdown",
   "metadata": {},
   "source": [
    "### Corpus-wide similarities"
   ]
  },
  {
   "cell_type": "code",
   "execution_count": 8,
   "metadata": {
    "tags": []
   },
   "outputs": [
    {
     "name": "stdout",
     "output_type": "stream",
     "text": [
      "Vocab size: 710267\n",
      "Has vectors: 684752\n"
     ]
    }
   ],
   "source": [
    "# How large is our model?\n",
    "string_count = 0\n",
    "vector_count = 0\n",
    "for string in nlp.vocab.strings:\n",
    "    string_count+=1\n",
    "    if nlp.vocab[string].has_vector:\n",
    "        vector_count+=1\n",
    "print(\"Vocab size:\", string_count)\n",
    "print(\"Has vectors:\", vector_count)"
   ]
  },
  {
   "cell_type": "markdown",
   "metadata": {},
   "source": [
    "So, our language model has 514,092 words with embeddings (and about 265,000 more words for which we lack embeddings; we'll ignore those).\n",
    "\n",
    "Next, we'll create a word-embedding matrix over our vocabulary, so that we can calculate distances between any pair of words. This matrix will have 514,092 rows (one for each word that has an embedding in our model) and 300 columns (the number of dimensions in the embedding representation).\n",
    "\n",
    "We initialize the output matrix with zeros, since it's much faster to update an existing numpy array than it is to append to it.\n",
    "\n",
    "Note that there's an easier way to find the most similar vectors to a taget word in spaCy, but we're showing the details for clarity ..."
   ]
  },
  {
   "cell_type": "code",
   "execution_count": 9,
   "metadata": {
    "tags": []
   },
   "outputs": [
    {
     "name": "stdout",
     "output_type": "stream",
     "text": [
      "Matrix shape: (684752, 300)\n",
      "CPU times: user 7.78 s, sys: 131 ms, total: 7.91 s\n",
      "Wall time: 7.96 s\n"
     ]
    }
   ],
   "source": [
    "%%time\n",
    "# Make a word-vector martrix with labels\n",
    "vector_matrix = np.zeros([vector_count,nlp.vocab.vectors_length]) # Initialize the output matrix\n",
    "counter = 0\n",
    "vocab_dict = {} # Dictionary to hold word index positions in the matrix\n",
    "vocab_list = [] # List to hold words in order\n",
    "for string in nlp.vocab.strings: # iterate over the strings in our model\n",
    "    if nlp.vocab[string].has_vector: # only want the ones with embeddings\n",
    "        vocab_dict[string] = counter # record index position of this word\n",
    "        vocab_list.append(string) # add to our list of words\n",
    "        # l2-normalize the vector and update matrix\n",
    "        vector_matrix[counter] = nlp.vocab[string].vector/nlp.vocab[string].vector_norm\n",
    "        counter+=1 # increment counter\n",
    "print(\"Matrix shape:\", vector_matrix.shape)"
   ]
  },
  {
   "cell_type": "markdown",
   "metadata": {},
   "source": [
    "You might be tempted to iterate over the rows in the output matrix, calculating the similarity between each one and your target vector. This is slow. Instead, we'll use matrix math.\n",
    "\n",
    "The **dot product** of two vectors is the sum of their element-wise products. If the vectors are (L2) normalized, their dot product = their cosine similarity. If you take the dot product of a (2D) matrix with a (1D) vector, the result is a (1D) vector representing the dot products of the 1D vector with each of the row vectors in the matrix."
   ]
  },
  {
   "cell_type": "code",
   "execution_count": 10,
   "metadata": {
    "tags": []
   },
   "outputs": [
    {
     "name": "stdout",
     "output_type": "stream",
     "text": [
      "Result of vec1.vec2: 0.51\n"
     ]
    }
   ],
   "source": [
    "# example dot product\n",
    "vec1 = [0.5, 0.1]\n",
    "vec2 = [1.0, 0.1]\n",
    "result = 0.5*1.0 + 0.1*0.1\n",
    "print(\"Result of vec1.vec2:\", result)\n",
    "assert np.dot(vec1, vec2) == result"
   ]
  },
  {
   "cell_type": "code",
   "execution_count": 11,
   "metadata": {
    "tags": []
   },
   "outputs": [
    {
     "data": {
      "text/plain": [
       "np.float32(4.70935)"
      ]
     },
     "execution_count": 11,
     "metadata": {},
     "output_type": "execute_result"
    }
   ],
   "source": [
    "# aside: non-normalized vector lengths are proportional to word frequency in the training corpus\n",
    "np.sqrt(np.sum(nlp.vocab['the'].vector**2))"
   ]
  },
  {
   "cell_type": "code",
   "execution_count": 12,
   "metadata": {
    "tags": []
   },
   "outputs": [
    {
     "data": {
      "text/plain": [
       "np.float32(4.70935)"
      ]
     },
     "execution_count": 12,
     "metadata": {},
     "output_type": "execute_result"
    }
   ],
   "source": [
    "# vector_norm = length\n",
    "nlp.vocab['the'].vector_norm"
   ]
  },
  {
   "cell_type": "code",
   "execution_count": 13,
   "metadata": {},
   "outputs": [
    {
     "data": {
      "text/plain": [
       "np.float32(6.893589)"
      ]
     },
     "execution_count": 13,
     "metadata": {},
     "output_type": "execute_result"
    }
   ],
   "source": [
    "nlp.vocab[\"arithmetic\"].vector_norm"
   ]
  },
  {
   "cell_type": "code",
   "execution_count": 14,
   "metadata": {},
   "outputs": [
    {
     "data": {
      "text/plain": [
       "np.float32(6.464924)"
      ]
     },
     "execution_count": 14,
     "metadata": {},
     "output_type": "execute_result"
    }
   ],
   "source": [
    "nlp.vocab[\"dyad\"].vector_norm"
   ]
  },
  {
   "cell_type": "code",
   "execution_count": 15,
   "metadata": {},
   "outputs": [
    {
     "data": {
      "text/plain": [
       "np.float32(5.5624833)"
      ]
     },
     "execution_count": 15,
     "metadata": {},
     "output_type": "execute_result"
    }
   ],
   "source": [
    "nlp.vocab[\"an\"].vector_norm"
   ]
  },
  {
   "cell_type": "code",
   "execution_count": 16,
   "metadata": {
    "tags": []
   },
   "outputs": [
    {
     "data": {
      "text/plain": [
       "(684752,)"
      ]
     },
     "execution_count": 16,
     "metadata": {},
     "output_type": "execute_result"
    }
   ],
   "source": [
    "# Calculate similarities to 'king' via dot products\n",
    "similarities = np.dot(vector_matrix, vector_matrix[vocab_dict['king']])\n",
    "similarities.shape"
   ]
  },
  {
   "cell_type": "markdown",
   "metadata": {},
   "source": [
    "Note that NumPy dot products are really fast to calculate!"
   ]
  },
  {
   "cell_type": "code",
   "execution_count": 17,
   "metadata": {
    "tags": []
   },
   "outputs": [
    {
     "name": "stdout",
     "output_type": "stream",
     "text": [
      "king 1.0000000265848845\n",
      "KING 1.0000000265848845\n",
      "King 1.0000000265848845\n",
      "KIng 1.0000000265848845\n",
      "KINGS 0.7876614074511339\n",
      "Kings 0.7876614074511339\n",
      "kings 0.7876614074511339\n",
      "prince 0.7337737081547175\n",
      "PRINCE 0.7337737081547175\n",
      "Prince 0.7337737081547175\n"
     ]
    }
   ],
   "source": [
    "# Get 10 most-similar words to 'king'\n",
    "# argsort returns lowest to highest, so we get the last 10, then reverse\n",
    "top_n = np.argsort(similarities)[-10:][::-1] \n",
    "for i in top_n:\n",
    "    print(vocab_list[i], similarities[i])"
   ]
  },
  {
   "cell_type": "code",
   "execution_count": 18,
   "metadata": {
    "tags": []
   },
   "outputs": [
    {
     "name": "stdout",
     "output_type": "stream",
     "text": [
      "king           0.8024\n",
      "queen          0.7881\n",
      "prince         0.6401\n",
      "kings          0.6209\n",
      "princess       0.6126\n",
      "royal          0.5801\n",
      "throne         0.5787\n"
     ]
    }
   ],
   "source": [
    "# Most similar to our king - man + woman vector\n",
    "# Also, make this prettier and with less repetition\n",
    "\n",
    "def print_most_similar(matrix, vector, vocab_list, n=20):\n",
    "    sim = np.dot(matrix, vector/np.linalg.norm(vector))\n",
    "    sorted_sims = np.argsort(sim)[-n:][::-1] #argsort return lowest to highest, so we get the last n, then reverse\n",
    "    last_word = ''\n",
    "    for i in sorted_sims:\n",
    "        current_word = vocab_list[i].lower()\n",
    "        if current_word != last_word: # filter out duplicates\n",
    "            print(f'{current_word:<15}{sim[i]:.4}')\n",
    "            last_word = current_word\n",
    "            \n",
    "print_most_similar(vector_matrix, king_to_queen_vector, vocab_list)"
   ]
  },
  {
   "cell_type": "markdown",
   "metadata": {},
   "source": [
    "### Pure spacy\n",
    "\n",
    "Do the same thing, but entirely within spacy ..."
   ]
  },
  {
   "cell_type": "code",
   "execution_count": 19,
   "metadata": {
    "tags": []
   },
   "outputs": [],
   "source": [
    "best = nlp.vocab.vectors.most_similar(king_to_queen_vector.reshape(1,-1), n=20)"
   ]
  },
  {
   "cell_type": "code",
   "execution_count": 20,
   "metadata": {
    "tags": []
   },
   "outputs": [
    {
     "data": {
      "text/plain": [
       "(array([[13176088972490086564,  5247273317732208552, 11742085837932180620,\n",
       "          3708855936003160130, 13482751041672084183,  9482215189757771475,\n",
       "          7669862725032101845,  6861946004817705414,  6166572574100323016,\n",
       "          4380109347444303261,  6780500829325665625,  8545790742077103879,\n",
       "         17063575602949770323, 18168826635621557613,  7116441749935341331,\n",
       "         17366637372717416615, 10491259323710399641, 10685699743126678532,\n",
       "          2449416162135563425,  4019143091659839274]], dtype=uint64),\n",
       " array([[209062, 238387, 190538, 190456, 186245, 212287, 219750, 172634,\n",
       "         238721, 148824, 232668, 136159, 113390, 183529, 109608, 113454,\n",
       "         224773,  92853,  76355,  47286]], dtype=int32),\n",
       " array([[0.8024, 0.7881, 0.6401, 0.6209, 0.6126, 0.5801, 0.5787, 0.5744,\n",
       "         0.5634, 0.5521, 0.529 , 0.5254, 0.5151, 0.5052, 0.4976, 0.4868,\n",
       "         0.4798, 0.4783, 0.4751, 0.4711]], dtype=float32))"
      ]
     },
     "execution_count": 20,
     "metadata": {},
     "output_type": "execute_result"
    }
   ],
   "source": [
    "# Examine the output\n",
    "best"
   ]
  },
  {
   "cell_type": "markdown",
   "metadata": {},
   "source": [
    "Note that the output format of spacy's `most_similar()` function is a tuple that contains three items: an array of word hashes (unique IDs), an array of index positions in the vector matrix, and an array of similarity values."
   ]
  },
  {
   "cell_type": "code",
   "execution_count": 21,
   "metadata": {
    "tags": []
   },
   "outputs": [
    {
     "name": "stdout",
     "output_type": "stream",
     "text": [
      "king           0.8024\n",
      "queen          0.7881\n",
      "prince         0.6401\n",
      "kings          0.6209\n",
      "princess       0.6126\n",
      "royal          0.5801\n",
      "throne         0.5787\n",
      "queens         0.5744\n",
      "monarch        0.5634\n",
      "kingdom        0.5521\n",
      "empress        0.529\n",
      "lady           0.5254\n",
      "woman          0.5151\n",
      "princes        0.5052\n",
      "mother         0.4976\n",
      "duke           0.4868\n",
      "emperor        0.4798\n",
      "reign          0.4783\n",
      "goddess        0.4751\n",
      "lord           0.4711\n"
     ]
    }
   ],
   "source": [
    "# Print top matches\n",
    "hashes, lines, scores = best\n",
    "last_word = ''\n",
    "for i in range(len(hashes[0])):\n",
    "    current_word = nlp.vocab[hashes[0][i].item()].text.lower()\n",
    "    if current_word != last_word:\n",
    "        print(f'{current_word:<15}{scores[0][i]:.4}')\n",
    "        last_word = current_word"
   ]
  },
  {
   "cell_type": "code",
   "execution_count": 22,
   "metadata": {
    "tags": []
   },
   "outputs": [],
   "source": [
    "def print_most_similar(word, n=20):\n",
    "    target_vector = nlp.vocab[word].vector/nlp.vocab[word].vector_norm\n",
    "    hashes, lines, scores = nlp.vocab.vectors.most_similar(target_vector.reshape(1,-1), n=n)\n",
    "    last_word = ''\n",
    "    for i in range(len(hashes[0])):\n",
    "        current_word = nlp.vocab[hashes[0][i].item()].text.lower()\n",
    "        if current_word != last_word:\n",
    "            print(f'{current_word:<15}{scores[0][i]:.4}')\n",
    "            last_word = current_word"
   ]
  },
  {
   "cell_type": "code",
   "execution_count": 23,
   "metadata": {
    "tags": []
   },
   "outputs": [
    {
     "name": "stdout",
     "output_type": "stream",
     "text": [
      "economy        1.0\n",
      "economic       0.834\n",
      "economies      0.7998\n",
      "recession      0.7351\n",
      "downturn       0.696\n",
      "\n",
      "economic       1.0\n",
      "economy        0.834\n",
      "economies      0.7699\n",
      "crisis         0.7357\n",
      "financial      0.728\n",
      "\n",
      "money          1.0\n",
      "cash           0.8191\n",
      "dollars        0.7552\n",
      "pay            0.7542\n",
      "paying         0.742\n",
      "\n",
      "wealth         1.0\n",
      "prosperity     0.7057\n",
      "riches         0.6847\n",
      "fortune        0.6369\n",
      "wealthy        0.623\n",
      "\n",
      "child          1.0\n",
      "children       0.8332\n",
      "parents        0.7356\n",
      "infant         0.724\n",
      "kids           0.7076\n",
      "\n",
      "housework      1.0\n",
      "chores         0.8052\n",
      "yardwork       0.6721\n",
      "chore          0.6643\n",
      "errands        0.6356\n",
      "\n"
     ]
    }
   ],
   "source": [
    "# get most similar vectors to each of a list of target terms\n",
    "for term in ['economy', 'economic', 'money', 'wealth', 'child', 'housework']:\n",
    "    print_most_similar(term, n=5)\n",
    "    print()"
   ]
  },
  {
   "cell_type": "markdown",
   "metadata": {},
   "source": [
    "## Document similarities using word embeddings\n",
    "\n",
    "It's fun to study words, but we mostly care about documents. How can we use word embeddings to perform the kinds of document-similarity tasks that have occupied us so far this semester?\n",
    "\n",
    "One possible answer is that we might replace each word token with its corresponding embedding, then, for each document, average the embeddings to get a representation of the document. We can then use those document representations (of dimensionality equal to the dimensionality of our embedding vectors) as input to any of the methods we've already discussed.\n",
    "\n",
    "Here, we use our derived document representations to measure the cosine similarity between different (toy) documents. We do this both with and without removing stopwords, and we compare our measures to those using word counts (rather than embeddings)."
   ]
  },
  {
   "cell_type": "code",
   "execution_count": 24,
   "metadata": {
    "tags": []
   },
   "outputs": [
    {
     "name": "stdout",
     "output_type": "stream",
     "text": [
      "Doc 0: The young cat is smaller than the old dog.\n",
      "Doc 1: The kitten is tinier than the elderly hound.\n",
      "   Built-in similarity: 0.926\n",
      "   Hand similarity:     0.926\n",
      "   Embed sim, no stops: 0.735\n",
      "   Token sim, no stops: 0.0\n",
      "\n",
      "Doc 0: The young cat is smaller than the old dog.\n",
      "Doc 2: Not all sentences are about animals, nor about their properties.\n",
      "   Built-in similarity: 0.789\n",
      "   Hand similarity:     0.789\n",
      "   Embed sim, no stops: 0.492\n",
      "   Token sim, no stops: 0.0\n",
      "\n",
      "Doc 0: The young cat is smaller than the old dog.\n",
      "Doc 3: It is a truth universally acknowledged ...\n",
      "   Built-in similarity: 0.735\n",
      "   Hand similarity:     0.735\n",
      "   Embed sim, no stops: 0.312\n",
      "   Token sim, no stops: 0.0\n",
      "\n",
      "Doc 1: The kitten is tinier than the elderly hound.\n",
      "Doc 2: Not all sentences are about animals, nor about their properties.\n",
      "   Built-in similarity: 0.725\n",
      "   Hand similarity:     0.725\n",
      "   Embed sim, no stops: 0.343\n",
      "   Token sim, no stops: 0.0\n",
      "\n",
      "Doc 1: The kitten is tinier than the elderly hound.\n",
      "Doc 3: It is a truth universally acknowledged ...\n",
      "   Built-in similarity: 0.702\n",
      "   Hand similarity:     0.702\n",
      "   Embed sim, no stops: 0.204\n",
      "   Token sim, no stops: 0.0\n",
      "\n",
      "Doc 2: Not all sentences are about animals, nor about their properties.\n",
      "Doc 3: It is a truth universally acknowledged ...\n",
      "   Built-in similarity: 0.762\n",
      "   Hand similarity:     0.762\n",
      "   Embed sim, no stops: 0.389\n",
      "   Token sim, no stops: 0.0\n",
      "\n"
     ]
    }
   ],
   "source": [
    "# Doc similarities\n",
    "from sklearn.feature_extraction.text import TfidfVectorizer\n",
    "\n",
    "# Set up sample sentences\n",
    "sentences = [\n",
    "    'The young cat is smaller than the old dog.',\n",
    "    'The kitten is tinier than the elderly hound.',\n",
    "    'Not all sentences are about animals, nor about their properties.',\n",
    "    'It is a truth universally acknowledged ...'\n",
    "]\n",
    "\n",
    "# process sentences into spacy nlp objects\n",
    "docs = []\n",
    "for sentence in sentences:\n",
    "    tokens = nlp(sentence)\n",
    "    docs.append(tokens)\n",
    "    \n",
    "def remove_noninformative_tokens(doc):\n",
    "    '''\n",
    "    Takes a spacy-processed document.\n",
    "    Returns a list of spacy token objects without stopwords, punctuation, or embedding-less tokens.\n",
    "    '''\n",
    "    culled = [token for token in doc if not (token.is_stop or token.is_punct) and token.has_vector]\n",
    "    return(culled)\n",
    "\n",
    "def embedding_similarity(X,Y):\n",
    "    '''\n",
    "    Takes two lists of spacy token objects.\n",
    "    Returns cosine similarity between their embedding representations.\n",
    "    '''\n",
    "    mean_vector_X = np.mean([token.vector for token in X], axis=0)\n",
    "    mean_vector_Y = np.mean([token.vector for token in Y], axis=0)\n",
    "        # note below reshape 1D -> 2D array. 2D version is 1 row x n columns\n",
    "    cos_similarity = cosine_similarity(mean_vector_X.reshape(1, -1), mean_vector_Y.reshape(1, -1))\n",
    "    return(cos_similarity.item()) # use .item() to get single value from array\n",
    "    \n",
    "def token_similarity(X,Y):\n",
    "    '''\n",
    "    Takes two lists of spacy tokens.\n",
    "    Returns cosine similarity between their tokens.\n",
    "    '''\n",
    "    doc1 = ' '.join([token.text for token in X])\n",
    "    doc2 = ' '.join([token.text for token in Y])\n",
    "    vectorizer = TfidfVectorizer(use_idf=False)\n",
    "    vectors = vectorizer.fit_transform([doc1, doc2])\n",
    "    return(cosine_similarity(vectors[0], vectors[1]).item())\n",
    "    \n",
    "for i, doc in enumerate(docs):\n",
    "    doc1_nostops = remove_noninformative_tokens(doc)\n",
    "    for j in range(len(docs)):\n",
    "        if j>i:\n",
    "            doc2_nostops = remove_noninformative_tokens(docs[j])\n",
    "            print(f\"Doc {i}: {docs[i]}\")\n",
    "            print(f\"Doc {j}: {docs[j]}\")\n",
    "            print(f\"   Built-in similarity: {doc.similarity(docs[j]):.3}\")\n",
    "            print(f\"   Hand similarity:     {embedding_similarity(doc, docs[j]):.3}\")\n",
    "            print(f\"   Embed sim, no stops: {embedding_similarity(doc1_nostops, doc2_nostops):.3}\")\n",
    "            print(f\"   Token sim, no stops: {token_similarity(doc1_nostops, doc2_nostops):.3}\")\n",
    "            print()"
   ]
  }
 ],
 "metadata": {
  "kernelspec": {
   "display_name": ".venv",
   "language": "python",
   "name": "python3"
  },
  "language_info": {
   "codemirror_mode": {
    "name": "ipython",
    "version": 3
   },
   "file_extension": ".py",
   "mimetype": "text/x-python",
   "name": "python",
   "nbconvert_exporter": "python",
   "pygments_lexer": "ipython3",
   "version": "3.12.0"
  }
 },
 "nbformat": 4,
 "nbformat_minor": 4
}
