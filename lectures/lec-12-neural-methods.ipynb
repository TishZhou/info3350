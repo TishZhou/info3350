{
 "cells": [
  {
   "cell_type": "markdown",
   "metadata": {},
   "source": [
    "# INFO 3350/6350\n",
    "\n",
    "## Lecture 12: Neural networks"
   ]
  },
  {
   "cell_type": "markdown",
   "metadata": {},
   "source": [
    "## Neural networks and deep learning\n",
    "\n",
    "* We've used NLP tools at many points this semester, but this isn't an NLP class\n",
    "* That said, neural methods have transformed many areas of NLP over the last decade\n",
    "    * And deep learning -- a subset of neural methods -- has been very widely applied in machine learning and AI\n",
    "* Our tasks today: define \"neural network,\" relate neural nets to other learning systems, take a look at how a neural network works, and show how to implement a very simple neural classifier in Python\n",
    "\n",
    "### What is a neural network?\n",
    "\n",
    "* A neural network is a computing system comprising artificial neurons\n",
    "* Neurons were originally (1940s) intended to model organic brain behavior\n",
    "    * But now, the name is really just a bit of jargon. No one thinks its important whether or not computational neurons have anything to do with biological neurons.\n",
    "* Individual neurons are mathematical functions that take a vector of input values and produce a single output value.\n",
    "    * We've seen lots of these kinds of functions over the semester, not all of them related to actually existing neural networks\n",
    "    * What matters are the details of the functions and the ways they relate to one another in a network\n",
    "* In a neural network, the neurons are connected to one another in one or more layers, so that the output of one neuron is the input of another (or many others)\n",
    "    \n",
    "### Logistic regression\n",
    "\n",
    "* Logistic regression **is not a neural network** in the modern sense, but it captures much of the spirit of a basic neural network and a lot of the math is related, so let's revisit it\n",
    "* Fit training data to a linear model: $z = W_0 + W_1 x_1 + W_2 x_2 + ...$\n",
    "    * Values of $x\\ $ are observed properties of an object (counts of individual words, say)\n",
    "    * The $W\\ $ s are weights. We multiply the weight associated with each word (for example) by the number of times that word occurs in a document.\n",
    "        * These types of element-wise multiplications between two vectors are called **dot products**\n",
    "    * Add up the weight * count products and we produce an output value, $z$\n",
    "    * Note that values of $z$ can range from -infinity to +infinity\n",
    "* Transform the linear value into a score between 0 and 1 using the sigmoid function: $$\\sigma(z) = \\frac{1}{1 + e^{-z}}$$\n",
    "* Sigmoid function looks like this:\n",
    "    \n",
    "<img src=\"./images/sigmoid.png\">\n",
    "\n",
    "* When we train a logistic regression classifier, we're trying to learn the set of weights that produce the most accurate classifications\n",
    "* We learn the weights by:\n",
    "    * Initializing to random values (or equal values, or some arrangement that reflects our best guess about the correct weights)\n",
    "    * Calculating **cross-entropy loss**, that is, how far away are our predicted outputs from the known-true (gold) values.\n",
    "        * Our goal is to minimize this loss function by adjusting the weights in our model\n",
    "        * See Jurafsky and Martin, ch. 5 (\"Logistic Regression\"), for the math, but the short version is that we take (roughly) the negative log of the sum of the differences between the predicted labels (as probabilities ranging from 0 to 1) and the true labels (which are either 0 or 1)\n",
    "        * Trivia point: logistic regression is a more advanced version of the **perceptron** (which uses a binary loss function rather than a probabilistic one). The perceptron was invented at Cornell (by Frank Rosenblatt in 1958).\n",
    "    * Adjusting our weights using **gradient descent**\n",
    "        * Again, the math isn't important to us, but ... we find the gradient (slope) of the loss function by partial differentiation with respect to each of the weights. In short, we find how the loss function chages in response to small changes in each weight, then move the weight in the direction that minimizes the loss. Repeat until the loss function stops changing (much) and hope we've found the global minimum (that is, the globally best weights).\n",
    "* If you've been around neural networks and machine learning, these terms will sound familiar: loss function, gradient descent. Now you know what they mean.\n",
    "\n",
    "### From logistic regression to feed-forward networks\n",
    "\n",
    "* The problem with logistic regression (which is a great classifier for many problems!) is that it can only learn linear relationships between inputs and outputs. If our problem is nonlinear, logistic regression might not work well on it.\n",
    "* The simplest way to understand the relationship between logistic regression and a basic neural network is that a neural network is made up of multiple logistic-like functions, each of which can learn a different part of the correct solution (where \"solution\" = function that best fits the training data)\n",
    "* Here's a schematic representation (from Jurafsky and Martin) of a feed-forward network with a single hidden layer (the middle one, with labels $h_i$):\n",
    "\n",
    "<img src=\"./images/neural_network.png\">\n",
    "\n",
    "* There are three layers here: input, hidden, and output.\n",
    "    * The input layer is the data you feed into the system.\n",
    "    * The hidden layer is where the weights are adjusted to maximize classification accuracy. This is what *learns*.\n",
    "    * The output layer translates numerical values calculated in the hidden layer into class probabilities (that is, into specific classification decisions).\n",
    "* The math in this case is the same as in the logistic case, except that:\n",
    "    * We have matrices of weights across the neurons, rather than a single vector of weights for a single neuron\n",
    "    * We have a vector of outputs from the hidden layer, rather a single, scalar output\n",
    "    * Gradient descent is harder, because there are more paths to differentiate\n",
    "        * This is the most consequential difference in practical terms, because it really slows down training\n",
    "        * The standard approach is **backpropagation**. For details, See Jurafsky and Martin, ch. 7 (\"Neural Networks\"). It's like partial differentiation, but performed piece-wise backward through the all the possible paths from outputs to inputs via the hidden layer(s). \n",
    "        \n",
    "### From shallow to deep\n",
    "\n",
    "* Even a neural network with a single hidden layer (of possibly infinite width; that is, made up of arbitrarily many neurons) can be shown to be able to represent a function of arbitrary complexity\n",
    "    * Note in passing: this is a remarkable result. It means that neural networks are immensely flexible in the relationships between inputs and outputs that they can model.\n",
    "    * But this fact doesn't imply that it's *easy* to learn a correct or high-performing representation of an arbitrary function in a neural network\n",
    "* In practice, it can be (sometimes!) more efficient to build networks that are narrower but *deeper*; that have more layers\n",
    "* Deep learning also largely removes the need for (certain kinds of) feature engineering, since the layers learn maximally effective transformations of the data\n",
    "    * But the right kinds of data still need to be present in the first place!\n",
    "    * If you only give your network word counts, it won't magically engineer paratextual features.\n",
    "* You may have heard of **convolutional** neural networks and **recurrent** neural networks. These are networks in which there is not a strict one-to-one connection between all the neurons in each layer.\n",
    "    * Convolutional networks are (or, were) widely used in image recognition\n",
    "    * Recurrent networks (in which parts of layers are connected both forward and backward) are (again, were) often used in NLP applications\n",
    "* All of this is **slow** and involves a lot of matrix math. Two main factors have driven the deep learning revolution over the last two decades:\n",
    "    * Web-scale data, which provides enough instances to learn fine distinctions in complex decision boundaries\n",
    "        * A method that can model arbitrarily complex functions isn't much good if you don't have enough data to explore the function space\n",
    "    * GPUs (graphics cards), which are essentially super-fast matrix calculators\n",
    "        * These make computing with all that data tractable (more or less)\n",
    "* More recently, we've discovered that we can do without recurrence or convolution, provided we have enough data. This is the insight behind the transformer architecture, BERT, and all that has followed. We'll have more to say about that in future lectures. "
   ]
  },
  {
   "cell_type": "markdown",
   "metadata": {},
   "source": [
    "## Basic neural network classification in `torch`\n",
    "\n",
    "Again, this isn't an actual ML or NLP course. However, since today's language models are often PyTorch models under the hood, it's good to have a high-level understanding of how PyTorch works. Building an MLP is a great way to get comfortable with the \"building blocks\" of neural networks using this library.\n",
    "\n",
    "We won't be focussing on our results too much (we're running this live in class, after all). Instead, try to focus on what each part of the code is doing, given the preceding introduction."
   ]
  },
  {
   "cell_type": "code",
   "execution_count": 3,
   "metadata": {},
   "outputs": [],
   "source": [
    "import torch\n",
    "from torch import nn    \n",
    "from torch.nn import functional as F    # This is the \"numpy as np\" of torch, so to speak"
   ]
  },
  {
   "cell_type": "markdown",
   "metadata": {},
   "source": [
    "PyTorch makes building neural nets very easy, since we don't have to keep track of weights and gradients ourselves. For instance: "
   ]
  },
  {
   "cell_type": "code",
   "execution_count": 4,
   "metadata": {},
   "outputs": [
    {
     "name": "stdout",
     "output_type": "stream",
     "text": [
      "Layer weight matrix:  torch.Size([32, 128])\n",
      "Layer bias vector:  torch.Size([32])\n"
     ]
    }
   ],
   "source": [
    "linear_layer = nn.Linear(128, 32) # (input_dim, output_dim)\n",
    "\n",
    "print(\"Layer weight matrix: \", linear_layer.weight.shape)\n",
    "print(\"Layer bias vector: \", linear_layer.bias.shape)  "
   ]
  },
  {
   "cell_type": "markdown",
   "metadata": {},
   "source": [
    "Recall that a layer in an MLP has the form $$y=\\sigma(xW^T + b)$$ where $x$ is our input, $W$ is our weight matrix, $b$ is our bias vector, and $\\sigma$ is our activation function. This `nn.Linear` takes care of our $W$ and $b$ for us. "
   ]
  },
  {
   "cell_type": "code",
   "execution_count": 5,
   "metadata": {},
   "outputs": [
    {
     "name": "stdout",
     "output_type": "stream",
     "text": [
      "tensor([-0.7018,  0.4108,  0.1057, -0.4428, -0.1365, -0.9067,  0.0938,  0.0203,\n",
      "         0.4078, -0.4836,  0.2091,  0.8099, -0.2679, -0.2801, -0.0483, -0.8730,\n",
      "         0.1560, -0.1477, -0.5156, -0.5034,  1.0639, -0.7810, -0.9566,  0.4746,\n",
      "        -1.0741, -0.2438,  0.1191, -0.8212, -0.3253,  0.0122,  0.0969,  0.1733],\n",
      "       grad_fn=<SelectBackward0>)\n",
      "torch.Size([5, 32])\n",
      "Requires grad? True\n",
      "Max:  tensor(1.4688, grad_fn=<MaxBackward1>)\n",
      "Min:  tensor(-1.4006, grad_fn=<MinBackward1>)\n"
     ]
    }
   ],
   "source": [
    "random_input = torch.randn((5, 128))\n",
    "layer_output = linear_layer(random_input)\n",
    "\n",
    "print(layer_output[0])\n",
    "print(layer_output.shape)\n",
    "print(\"Requires grad?\", layer_output.requires_grad)\n",
    "print(\"Max: \", layer_output.max())\n",
    "print(\"Min: \", layer_output.min())"
   ]
  },
  {
   "cell_type": "markdown",
   "metadata": {},
   "source": [
    "Above, we can see that our linear layer handles the $xW^T + b$ for us. \n",
    "\n",
    "We can also see that `torch` will \"keep track\" of gradients for us, unless we tell it otherwise. This is important for training, but when evaluating or running our model after it is trained, we don't need gradients to be computed. We can turn off autograd using a context manager like so:"
   ]
  },
  {
   "cell_type": "code",
   "execution_count": 6,
   "metadata": {},
   "outputs": [
    {
     "name": "stdout",
     "output_type": "stream",
     "text": [
      "tensor([-0.3083,  0.2552, -0.0056, -0.3120, -0.5979, -1.2972, -0.1849, -0.0836,\n",
      "         1.8068,  0.4168,  0.5786,  0.0855,  0.5496, -0.2219, -0.3818, -1.6394,\n",
      "         0.6022,  1.1264, -0.0752, -0.4198,  0.2587,  0.9473,  0.2984, -1.2766,\n",
      "        -0.8682,  0.6112, -0.4562, -0.4195, -1.0250, -0.8220,  0.2453,  0.0118])\n",
      "Requires grad? False\n"
     ]
    }
   ],
   "source": [
    "with torch.no_grad():    \n",
    "    random_input = torch.randn((5, 128))\n",
    "    layer_output = linear_layer(random_input)\n",
    "    print(layer_output[0])\n",
    "    print(\"Requires grad?\", layer_output.requires_grad)"
   ]
  },
  {
   "cell_type": "markdown",
   "metadata": {},
   "source": [
    "This will be important later!"
   ]
  },
  {
   "cell_type": "markdown",
   "metadata": {},
   "source": [
    "Our `Linear` layer handles the weights and bias term, but we still need an activation function to build a real MLP. PyTorch has a bunch of built-in activation functions, which can be treated as a layer:"
   ]
  },
  {
   "cell_type": "code",
   "execution_count": 7,
   "metadata": {},
   "outputs": [
    {
     "name": "stdout",
     "output_type": "stream",
     "text": [
      "Max: 0.8589800000190735\n",
      "Min: 0.1625528186559677\n"
     ]
    }
   ],
   "source": [
    "sigma = nn.Sigmoid()\n",
    "\n",
    "with torch.no_grad(): \n",
    "    sigmoid_output = sigma(layer_output)\n",
    "\n",
    "sig_max = sigmoid_output.max()\n",
    "sig_min = sigmoid_output.min()\n",
    "\n",
    "print(f\"Max: {sig_max}\\nMin: {sig_min}\")"
   ]
  },
  {
   "cell_type": "markdown",
   "metadata": {},
   "source": [
    "or a function:"
   ]
  },
  {
   "cell_type": "code",
   "execution_count": 8,
   "metadata": {},
   "outputs": [],
   "source": [
    "with torch.no_grad():\n",
    "    f_sig_output = F.sigmoid(layer_output)\n",
    "\n",
    "assert torch.allclose(sigmoid_output, f_sig_output)"
   ]
  },
  {
   "cell_type": "markdown",
   "metadata": {},
   "source": [
    "One reason to use `nn.Sigmoid` over `F.sigmoid` is illustrated below:  \n"
   ]
  },
  {
   "cell_type": "code",
   "execution_count": 9,
   "metadata": {},
   "outputs": [
    {
     "data": {
      "text/plain": [
       "tensor([0.4971])"
      ]
     },
     "execution_count": 9,
     "metadata": {},
     "output_type": "execute_result"
    }
   ],
   "source": [
    "stack_of_layers = nn.Sequential(\n",
    "    nn.Linear(32, 64),\n",
    "    nn.ReLU(),      # Rectified linear unit (another act. fn.)\n",
    "    nn.Linear(64, 32),\n",
    "    nn.ReLU(),\n",
    "    nn.Linear(32, 1),\n",
    "    nn.Sigmoid(),\n",
    ")\n",
    "\n",
    "with torch.no_grad():\n",
    "    stack_output = stack_of_layers(torch.randn((32)))\n",
    "\n",
    "stack_output"
   ]
  },
  {
   "cell_type": "markdown",
   "metadata": {},
   "source": [
    "That `stack_of_layers` is an MLP! `nn.Sequential` takes a sequence of layers (more specifically, PyTorch objects that subclass `nn.Module`) and chains them together.  "
   ]
  },
  {
   "cell_type": "code",
   "execution_count": 10,
   "metadata": {},
   "outputs": [
    {
     "data": {
      "text/plain": [
       "Sequential(\n",
       "  (0): Linear(in_features=32, out_features=64, bias=True)\n",
       "  (1): ReLU()\n",
       "  (2): Linear(in_features=64, out_features=32, bias=True)\n",
       "  (3): ReLU()\n",
       "  (4): Linear(in_features=32, out_features=1, bias=True)\n",
       "  (5): Sigmoid()\n",
       ")"
      ]
     },
     "execution_count": 10,
     "metadata": {},
     "output_type": "execute_result"
    }
   ],
   "source": [
    "stack_of_layers"
   ]
  },
  {
   "cell_type": "markdown",
   "metadata": {},
   "source": [
    "So while we could build an MLP using `nn.Sequential`, you could (and probably should) define your model as a subclass of `nn.Module`. Subclasses of `nn.Module` must override the `__init__` and `forward` methods. This makes sense, since `__init__` initializes our model with some layers, and `forward` defines how data moves through those layers."
   ]
  },
  {
   "cell_type": "code",
   "execution_count": 21,
   "metadata": {},
   "outputs": [],
   "source": [
    "class MyFirstMLP(nn.Module):\n",
    "    def __init__(self, input_dim, hidden_dim):\n",
    "        super().__init__()\n",
    "        self.fc_1 = nn.Linear(input_dim, hidden_dim) # Layer 1\n",
    "        self.fc_2 = nn.Linear(hidden_dim, 1) # Layer 2\n",
    "\n",
    "    def forward(self, x):\n",
    "        h = F.relu(self.fc_1(x))          # h = ReLU(xW1_T + b)\n",
    "        return F.sigmoid(self.fc_2(h))    # y_hat = Sigmoid(hW2_T + b)\n"
   ]
  },
  {
   "cell_type": "markdown",
   "metadata": {},
   "source": [
    "That's it! "
   ]
  },
  {
   "cell_type": "markdown",
   "metadata": {},
   "source": [
    "We could also do something like this: "
   ]
  },
  {
   "cell_type": "code",
   "execution_count": 22,
   "metadata": {},
   "outputs": [],
   "source": [
    "# Reusing modules, using nn.Sequential inside a module, and \n",
    "# passing functions around...\n",
    "\n",
    "class MLPLayer(nn.Module):\n",
    "    def __init__(self, input_dim, output_dim, act_fn): \n",
    "        super().__init__()\n",
    "        self.fc = nn.Linear(input_dim, output_dim)\n",
    "        self.act_fn = act_fn\n",
    "    \n",
    "    def forward(self, x): \n",
    "        return self.act_fn(self.fc(x))\n",
    "\n",
    "\n",
    "class MLPBinaryClassifier(nn.Module):\n",
    "    def __init__(self, \n",
    "                 input_dim, \n",
    "                 hidden_dim, \n",
    "                 num_hidden_layers, \n",
    "                 act_fn=F.relu):\n",
    "        super().__init__()\n",
    "        \n",
    "        self.net = nn.Sequential(\n",
    "            MLPLayer(input_dim, hidden_dim, act_fn),\n",
    "            *[MLPLayer(hidden_dim, hidden_dim, act_fn)\n",
    "              for _ in range(num_hidden_layers)]\n",
    "        )\n",
    "        self.head = nn.Sequential(\n",
    "            nn.Linear(hidden_dim, 1),\n",
    "            nn.Sigmoid()\n",
    "        )\n",
    "    \n",
    "    def forward(self, x):\n",
    "        h = self.net(x)\n",
    "        return self.head(h)"
   ]
  },
  {
   "cell_type": "markdown",
   "metadata": {},
   "source": [
    "Homework hint: you should look at the non-linear activation functions in the [PyTorch documentation](https://docs.pytorch.org/docs/stable/nn.html#non-linear-activations-weighted-sum-nonlinearity)."
   ]
  },
  {
   "cell_type": "markdown",
   "metadata": {},
   "source": [
    "### Training a model\n",
    "Let's go back to looking at author gender in our `/texts`. We're going to actually train our `MLPBinaryClassifier` on tf-idf vectors created from novel chunks. \n",
    "\n",
    "We aren't going to focus too much here on our accuracy. "
   ]
  },
  {
   "cell_type": "code",
   "execution_count": 11,
   "metadata": {},
   "outputs": [],
   "source": [
    "import numpy as np\n",
    "import pandas as pd \n",
    "import seaborn as sns\n",
    "from sklearn.model_selection import train_test_split\n",
    "from sklearn.metrics import accuracy_score\n",
    "from sklearn.feature_extraction.text import TfidfVectorizer\n",
    "from sklearn.linear_model import LogisticRegression\n",
    "from sklearn.preprocessing import StandardScaler\n",
    "import re\n",
    "import os"
   ]
  },
  {
   "cell_type": "code",
   "execution_count": 12,
   "metadata": {
    "tags": []
   },
   "outputs": [
    {
     "data": {
      "application/vnd.microsoft.datawrangler.viewer.v0+json": {
       "columns": [
        {
         "name": "index",
         "rawType": "int64",
         "type": "integer"
        },
        {
         "name": "path",
         "rawType": "object",
         "type": "string"
        },
        {
         "name": "author",
         "rawType": "object",
         "type": "string"
        },
        {
         "name": "title",
         "rawType": "object",
         "type": "string"
        },
        {
         "name": "year",
         "rawType": "int64",
         "type": "integer"
        },
        {
         "name": "gender",
         "rawType": "object",
         "type": "string"
        },
        {
         "name": "text",
         "rawType": "object",
         "type": "string"
        },
        {
         "name": "wc",
         "rawType": "int64",
         "type": "integer"
        }
       ],
       "ref": "9597b67b-be59-4766-ac86-6cbda7ddbbdd",
       "rows": [
        [
         "0",
         "B-Bronte_E-Wuthering_Heights-1847-F.txt",
         "Bronte_E",
         "Wuthering_Heights",
         "1847",
         "F",
         "1801.--I have just returned from a visit to my landlord--the solitary neighbour that I shall be troubled with.  This is certainly a beautiful country!  In all England, I do not believe that I could have fixed on a situation so completely removed from the stir of society.  A perfect misanthropist's heaven: and Mr. Heathcliff and I are such a suitable pair to divide the desolation between us.  A capital fellow!  He little imagined how my heart warmed towards him when I beheld his black eyes withdraw so suspiciously under their brows, as I rode up, and when his fingers sheltered themselves, with a jealous resolution, still further in his waistcoat, as I announced my name.",
         "115"
        ],
        [
         "0",
         "B-Bronte_E-Wuthering_Heights-1847-F.txt",
         "Bronte_E",
         "Wuthering_Heights",
         "1847",
         "F",
         "'Mr. Lockwood, your new tenant, sir.  I do myself the honour of calling as soon as possible after my arrival, to express the hope that I have not inconvenienced you by my perseverance in soliciting the occupation of Thrushcross Grange: I heard yesterday you had had some thoughts--'",
         "48"
        ],
        [
         "0",
         "B-Bronte_E-Wuthering_Heights-1847-F.txt",
         "Bronte_E",
         "Wuthering_Heights",
         "1847",
         "F",
         "The 'walk in' was uttered with closed teeth, and expressed the sentiment, 'Go to the Deuce:' even the gate over which he leant manifested no sympathising movement to the words; and I think that circumstance determined me to accept the invitation: I felt interested in a man who seemed more exaggeratedly reserved than myself.",
         "54"
        ],
        [
         "0",
         "B-Bronte_E-Wuthering_Heights-1847-F.txt",
         "Bronte_E",
         "Wuthering_Heights",
         "1847",
         "F",
         "When he saw my horse's breast fairly pushing the barrier, he did put out his hand to unchain it, and then sullenly preceded me up the causeway, calling, as we entered the court,--'Joseph, take Mr. Lockwood's horse; and bring up some wine.'",
         "42"
        ],
        [
         "0",
         "B-Bronte_E-Wuthering_Heights-1847-F.txt",
         "Bronte_E",
         "Wuthering_Heights",
         "1847",
         "F",
         "'Here we have the whole establishment of domestics, I suppose,' was the reflection suggested by this compound order.  'No wonder the grass grows up between the flags, and cattle are the only hedge-cutters.'",
         "33"
        ],
        [
         "0",
         "B-Bronte_E-Wuthering_Heights-1847-F.txt",
         "Bronte_E",
         "Wuthering_Heights",
         "1847",
         "F",
         "Joseph was an elderly, nay, an old man: very old, perhaps, though hale and sinewy.  'The Lord help us!' he soliloquised in an undertone of peevish displeasure, while relieving me of my horse: looking, meantime, in my face so sourly that I charitably conjectured he must have need of divine aid to digest his dinner, and his pious ejaculation had no reference to my unexpected advent.",
         "66"
        ],
        [
         "0",
         "B-Bronte_E-Wuthering_Heights-1847-F.txt",
         "Bronte_E",
         "Wuthering_Heights",
         "1847",
         "F",
         "Wuthering Heights is the name of Mr. Heathcliff's dwelling.  'Wuthering' being a significant provincial adjective, descriptive of the atmospheric tumult to which its station is exposed in stormy weather.  Pure, bracing ventilation they must have up there at all times, indeed: one may guess the power of the north wind blowing over the edge, by the excessive slant of a few stunted firs at the end of the house; and by a range of gaunt thorns all stretching their limbs one way, as if craving alms of the sun. Happily, the architect had foresight to build it strong: the narrow windows are deeply set in the wall, and the corners defended with large jutting stones.",
         "115"
        ],
        [
         "0",
         "B-Bronte_E-Wuthering_Heights-1847-F.txt",
         "Bronte_E",
         "Wuthering_Heights",
         "1847",
         "F",
         "Before passing the threshold, I paused to admire a quantity of grotesque carving lavished over the front, and especially about the principal door; above which, among a wilderness of crumbling griffins and shameless little boys, I detected the date '1500,' and the name 'Hareton Earnshaw.' I would have made a few comments, and requested a short history of the place from the surly owner; but his attitude at the door appeared to demand my speedy entrance, or complete departure, and I had no desire to aggravate his impatience previous to inspecting the penetralium.",
         "93"
        ],
        [
         "0",
         "B-Bronte_E-Wuthering_Heights-1847-F.txt",
         "Bronte_E",
         "Wuthering_Heights",
         "1847",
         "F",
         "One stop brought us into the family sitting-room, without any introductory lobby or passage: they call it here 'the house' pre-eminently.  It includes kitchen and parlour, generally; but I believe at Wuthering Heights the kitchen is forced to retreat altogether into another quarter: at least I distinguished a chatter of tongues, and a clatter of culinary utensils, deep within; and I observed no signs of roasting, boiling, or baking, about the huge fireplace; nor any glitter of copper saucepans and tin cullenders on the walls.  One end, indeed, reflected splendidly both light and heat from ranks of immense pewter dishes, interspersed with silver jugs and tankards, towering row after row, on a vast oak dresser, to the very roof.  The latter had never been under-drawn: its entire anatomy lay bare to an inquiring eye, except where a frame of wood laden with oatcakes and clusters of legs of beef, mutton, and ham, concealed it.  Above the chimney were sundry villainous old guns, and a couple of horse-pistols: and, by way of ornament, three gaudily-painted canisters disposed along its ledge.  The floor was of smooth, white stone; the chairs, high-backed, primitive structures, painted green: one or two heavy black ones lurking in the shade.  In an arch under the dresser reposed a huge, liver-coloured bitch pointer, surrounded by a swarm of squealing puppies; and other dogs haunted other recesses.",
         "228"
        ],
        [
         "0",
         "B-Bronte_E-Wuthering_Heights-1847-F.txt",
         "Bronte_E",
         "Wuthering_Heights",
         "1847",
         "F",
         "The apartment and furniture would have been nothing extraordinary as belonging to a homely, northern farmer, with a stubborn countenance, and stalwart limbs set out to advantage in knee-breeches and gaiters.  Such an individual seated in his arm-chair, his mug of ale frothing on the round table before him, is to be seen in any circuit of five or six miles among these hills, if you go at the right time after dinner.  But Mr. Heathcliff forms a singular contrast to his abode and style of living.  He is a dark-skinned gipsy in aspect, in dress and manners a gentleman: that is, as much a gentleman as many a country squire: rather slovenly, perhaps, yet not looking amiss with his negligence, because he has an erect and handsome figure; and rather morose.  Possibly, some people might suspect him of a degree of under-bred pride; I have a sympathetic chord within that tells me it is nothing of the sort: I know, by instinct, his reserve springs from an aversion to showy displays of feeling--to manifestations of mutual kindliness.  He'll love and hate equally under cover, and esteem it a species of impertinence to be loved or hated again.  No, I'm running on too fast: I bestow my own attributes over-liberally on him.  Mr. Heathcliff may have entirely dissimilar reasons for keeping his hand out of the way when he meets a would-be acquaintance, to those which actuate me.  Let me hope my constitution is almost peculiar: my dear mother used to say I should never have a comfortable home; and only last summer I proved myself perfectly unworthy of one.",
         "270"
        ],
        [
         "0",
         "B-Bronte_E-Wuthering_Heights-1847-F.txt",
         "Bronte_E",
         "Wuthering_Heights",
         "1847",
         "F",
         "While enjoying a month of fine weather at the sea-coast, I was thrown into the company of a most fascinating creature: a real goddess in my eyes, as long as she took no notice of me.  I 'never told my love' vocally; still, if looks have language, the merest idiot might have guessed I was over head and ears: she understood me at last, and looked a return--the sweetest of all imaginable looks.  And what did I do?  I confess it with shame--shrunk icily into myself, like a snail; at every glance retired colder and farther; till finally the poor innocent was led to doubt her own senses, and, overwhelmed with confusion at her supposed mistake, persuaded her mamma to decamp.  By this curious turn of disposition I have gained the reputation of deliberate heartlessness; how undeserved, I alone can appreciate.",
         "141"
        ],
        [
         "0",
         "B-Bronte_E-Wuthering_Heights-1847-F.txt",
         "Bronte_E",
         "Wuthering_Heights",
         "1847",
         "F",
         "I took a seat at the end of the hearthstone opposite that towards which my landlord advanced, and filled up an interval of silence by attempting to caress the canine mother, who had left her nursery, and was sneaking wolfishly to the back of my legs, her lip curled up, and her white teeth watering for a snatch.  My caress provoked a long, guttural gnarl.",
         "65"
        ],
        [
         "0",
         "B-Bronte_E-Wuthering_Heights-1847-F.txt",
         "Bronte_E",
         "Wuthering_Heights",
         "1847",
         "F",
         "'You'd better let the dog alone,' growled Mr. Heathcliff in unison, checking fiercer demonstrations with a punch of his foot.  'She's not accustomed to be spoiled--not kept for a pet.'  Then, striding to a side door, he shouted again, 'Joseph!'",
         "40"
        ],
        [
         "0",
         "B-Bronte_E-Wuthering_Heights-1847-F.txt",
         "Bronte_E",
         "Wuthering_Heights",
         "1847",
         "F",
         "Joseph mumbled indistinctly in the depths of the cellar, but gave no intimation of ascending; so his master dived down to him, leaving me _vis-a-vis_ the ruffianly bitch and a pair of grim shaggy sheep-dogs, who shared with her a jealous guardianship over all my movements. Not anxious to come in contact with their fangs, I sat still; but, imagining they would scarcely understand tacit insults, I unfortunately indulged in winking and making faces at the trio, and some turn of my physiognomy so irritated madam, that she suddenly broke into a fury and leapt on my knees. I flung her back, and hastened to interpose the table between us. This proceeding aroused the whole hive: half-a-dozen four-footed fiends, of various sizes and ages, issued from hidden dens to the common centre. I felt my heels and coat-laps peculiar subjects of assault; and parrying off the larger combatants as effectually as I could with the poker, I was constrained to demand, aloud, assistance from some of the household in re-establishing peace.",
         "171"
        ],
        [
         "0",
         "B-Bronte_E-Wuthering_Heights-1847-F.txt",
         "Bronte_E",
         "Wuthering_Heights",
         "1847",
         "F",
         "Mr. Heathcliff and his man climbed the cellar steps with vexatious phlegm: I don't think they moved one second faster than usual, though the hearth was an absolute tempest of worrying and yelping. Happily, an inhabitant of the kitchen made more despatch: a lusty dame, with tucked-up gown, bare arms, and fire-flushed cheeks, rushed into the midst of us flourishing a frying-pan: and used that weapon, and her tongue, to such purpose, that the storm subsided magically, and she only remained, heaving like a sea after a high wind, when her master entered on the scene.",
         "96"
        ],
        [
         "0",
         "B-Bronte_E-Wuthering_Heights-1847-F.txt",
         "Bronte_E",
         "Wuthering_Heights",
         "1847",
         "F",
         "'What the devil, indeed!' I muttered.  'The herd of possessed swine could have had no worse spirits in them than those animals of yours, sir.  You might as well leave a stranger with a brood of tigers!'",
         "37"
        ],
        [
         "0",
         "B-Bronte_E-Wuthering_Heights-1847-F.txt",
         "Bronte_E",
         "Wuthering_Heights",
         "1847",
         "F",
         "'They won't meddle with persons who touch nothing,' he remarked, putting the bottle before me, and restoring the displaced table.  'The dogs do right to be vigilant.  Take a glass of wine?'",
         "32"
        ],
        [
         "0",
         "B-Bronte_E-Wuthering_Heights-1847-F.txt",
         "Bronte_E",
         "Wuthering_Heights",
         "1847",
         "F",
         "'Come, come,' he said, 'you are flurried, Mr. Lockwood.  Here, take a little wine.  Guests are so exceedingly rare in this house that I and my dogs, I am willing to own, hardly know how to receive them.  Your health, sir?'",
         "41"
        ],
        [
         "0",
         "B-Bronte_E-Wuthering_Heights-1847-F.txt",
         "Bronte_E",
         "Wuthering_Heights",
         "1847",
         "F",
         "I bowed and returned the pledge; beginning to perceive that it would be foolish to sit sulking for the misbehaviour of a pack of curs; besides, I felt loth to yield the fellow further amusement at my expense; since his humour took that turn.  He--probably swayed by prudential consideration of the folly of offending a good tenant--relaxed a little in the laconic style of chipping off his pronouns and auxiliary verbs, and introduced what he supposed would be a subject of interest to me,--a discourse on the advantages and disadvantages of my present place of retirement.  I found him very intelligent on the topics we touched; and before I went home, I was encouraged so far as to volunteer another visit to-morrow.  He evidently wished no repetition of my intrusion.  I shall go, notwithstanding.  It is astonishing how sociable I feel myself compared with him.",
         "145"
        ],
        [
         "0",
         "B-Bronte_E-Wuthering_Heights-1847-F.txt",
         "Bronte_E",
         "Wuthering_Heights",
         "1847",
         "F",
         "Yesterday afternoon set in misty and cold.  I had half a mind to spend it by my study fire, instead of wading through heath and mud to Wuthering Heights.  On coming up from dinner, however, (N.B.--I dine between twelve and one o'clock; the housekeeper, a matronly lady, taken as a fixture along with the house, could not, or would not, comprehend my request that I might be served at five)--on mounting the stairs with this lazy intention, and stepping into the room, I saw a servant-girl on her knees surrounded by brushes and coal-scuttles, and raising an infernal dust as she extinguished the flames with heaps of cinders.  This spectacle drove me back immediately; I took my hat, and, after a four-miles' walk, arrived at Heathcliff's garden-gate just in time to escape the first feathery flakes of a snow-shower.",
         "139"
        ],
        [
         "0",
         "B-Bronte_E-Wuthering_Heights-1847-F.txt",
         "Bronte_E",
         "Wuthering_Heights",
         "1847",
         "F",
         "On that bleak hill-top the earth was hard with a black frost, and the air made me shiver through every limb.  Being unable to remove the chain, I jumped over, and, running up the flagged causeway bordered with straggling gooseberry-bushes, knocked vainly for admittance, till my knuckles tingled and the dogs howled.",
         "52"
        ],
        [
         "0",
         "B-Bronte_E-Wuthering_Heights-1847-F.txt",
         "Bronte_E",
         "Wuthering_Heights",
         "1847",
         "F",
         "'Wretched inmates!' I ejaculated, mentally, 'you deserve perpetual isolation from your species for your churlish inhospitality. At least, I would not keep my doors barred in the day-time. I don't care--I will get in!' So resolved, I grasped the latch and shook it vehemently. Vinegar-faced Joseph projected his head from a round window of the barn.",
         "56"
        ],
        [
         "0",
         "B-Bronte_E-Wuthering_Heights-1847-F.txt",
         "Bronte_E",
         "Wuthering_Heights",
         "1847",
         "F",
         "'What are ye for?' he shouted.  'T' maister's down i' t' fowld.  Go round by th' end o' t' laith, if ye went to spake to him.'",
         "27"
        ],
        [
         "0",
         "B-Bronte_E-Wuthering_Heights-1847-F.txt",
         "Bronte_E",
         "Wuthering_Heights",
         "1847",
         "F",
         "The snow began to drive thickly.  I seized the handle to essay another trial; when a young man without coat, and shouldering a pitchfork, appeared in the yard behind.  He hailed me to follow him, and, after marching through a wash-house, and a paved area containing a coal-shed, pump, and pigeon-cot, we at length arrived in the huge, warm, cheerful apartment where I was formerly received.  It glowed delightfully in the radiance of an immense fire, compounded of coal, peat, and wood; and near the table, laid for a plentiful evening meal, I was pleased to observe the 'missis,' an individual whose existence I had never previously suspected.  I bowed and waited, thinking she would bid me take a seat. She looked at me, leaning back in her chair, and remained motionless and mute.",
         "134"
        ],
        [
         "0",
         "B-Bronte_E-Wuthering_Heights-1847-F.txt",
         "Bronte_E",
         "Wuthering_Heights",
         "1847",
         "F",
         "'Rough weather!' I remarked.  'I'm afraid, Mrs. Heathcliff, the door must bear the consequence of your servants' leisure attendance: I had hard work to make them hear me.'",
         "28"
        ],
        [
         "0",
         "B-Bronte_E-Wuthering_Heights-1847-F.txt",
         "Bronte_E",
         "Wuthering_Heights",
         "1847",
         "F",
         "She never opened her mouth.  I stared--she stared also: at any rate, she kept her eyes on me in a cool, regardless manner, exceedingly embarrassing and disagreeable.",
         "27"
        ],
        [
         "0",
         "B-Bronte_E-Wuthering_Heights-1847-F.txt",
         "Bronte_E",
         "Wuthering_Heights",
         "1847",
         "F",
         "I obeyed; and hemmed, and called the villain Juno, who deigned, at this second interview, to move the extreme tip of her tail, in token of owning my acquaintance.",
         "29"
        ],
        [
         "0",
         "B-Bronte_E-Wuthering_Heights-1847-F.txt",
         "Bronte_E",
         "Wuthering_Heights",
         "1847",
         "F",
         "Unluckily, it was a heap of dead rabbits.  I hemmed once more, and drew closer to the hearth, repeating my comment on the wildness of the evening.",
         "27"
        ],
        [
         "0",
         "B-Bronte_E-Wuthering_Heights-1847-F.txt",
         "Bronte_E",
         "Wuthering_Heights",
         "1847",
         "F",
         "Her position before was sheltered from the light; now, I had a distinct view of her whole figure and countenance.  She was slender, and apparently scarcely past girlhood: an admirable form, and the most exquisite little face that I have ever had the pleasure of beholding; small features, very fair; flaxen ringlets, or rather golden, hanging loose on her delicate neck; and eyes, had they been agreeable in expression, that would have been irresistible: fortunately for my susceptible heart, the only sentiment they evinced hovered between scorn and a kind of desperation, singularly unnatural to be detected there.  The canisters were almost out of her reach; I made a motion to aid her; she turned upon me as a miser might turn if any one attempted to assist him in counting his gold.",
         "133"
        ],
        [
         "0",
         "B-Bronte_E-Wuthering_Heights-1847-F.txt",
         "Bronte_E",
         "Wuthering_Heights",
         "1847",
         "F",
         "'Were you asked to tea?' she demanded, tying an apron over her neat black frock, and standing with a spoonful of the leaf poised over the pot.",
         "27"
        ],
        [
         "0",
         "B-Bronte_E-Wuthering_Heights-1847-F.txt",
         "Bronte_E",
         "Wuthering_Heights",
         "1847",
         "F",
         "She flung the tea back, spoon and all, and resumed her chair in a pet; her forehead corrugated, and her red under-lip pushed out, like a child's ready to cry.",
         "30"
        ],
        [
         "0",
         "B-Bronte_E-Wuthering_Heights-1847-F.txt",
         "Bronte_E",
         "Wuthering_Heights",
         "1847",
         "F",
         "Meanwhile, the young man had slung on to his person a decidedly shabby upper garment, and, erecting himself before the blaze, looked down on me from the corner of his eyes, for all the world as if there were some mortal feud unavenged between us.  I began to doubt whether he were a servant or not: his dress and speech were both rude, entirely devoid of the superiority observable in Mr. and Mrs. Heathcliff; his thick brown curls were rough and uncultivated, his whiskers encroached bearishly over his cheeks, and his hands were embrowned like those of a common labourer: still his bearing was free, almost haughty, and he showed none of a domestic's assiduity in attending on the lady of the house.  In the absence of clear proofs of his condition, I deemed it best to abstain from noticing his curious conduct; and, five minutes afterwards, the entrance of Heathcliff relieved me, in some measure, from my uncomfortable state.",
         "160"
        ],
        [
         "0",
         "B-Bronte_E-Wuthering_Heights-1847-F.txt",
         "Bronte_E",
         "Wuthering_Heights",
         "1847",
         "F",
         "'You see, sir, I am come, according to promise!' I exclaimed, assuming the cheerful; 'and I fear I shall be weather-bound for half an hour, if you can afford me shelter during that space.'",
         "34"
        ],
        [
         "0",
         "B-Bronte_E-Wuthering_Heights-1847-F.txt",
         "Bronte_E",
         "Wuthering_Heights",
         "1847",
         "F",
         "'Half an hour?' he said, shaking the white flakes from his clothes; 'I wonder you should select the thick of a snow-storm to ramble about in.  Do you know that you run a risk of being lost in the marshes?  People familiar with these moors often miss their road on such evenings; and I can tell you there is no chance of a change at present.'",
         "66"
        ],
        [
         "0",
         "B-Bronte_E-Wuthering_Heights-1847-F.txt",
         "Bronte_E",
         "Wuthering_Heights",
         "1847",
         "F",
         "'Get it ready, will you?' was the answer, uttered so savagely that I started.  The tone in which the words were said revealed a genuine bad nature.  I no longer felt inclined to call Heathcliff a capital fellow. When the preparations were finished, he invited me with--'Now, sir, bring forward your chair.'  And we all, including the rustic youth, drew round the table: an austere silence prevailing while we discussed our meal.",
         "72"
        ],
        [
         "0",
         "B-Bronte_E-Wuthering_Heights-1847-F.txt",
         "Bronte_E",
         "Wuthering_Heights",
         "1847",
         "F",
         "I thought, if I had caused the cloud, it was my duty to make an effort to dispel it.  They could not every day sit so grim and taciturn; and it was impossible, however ill-tempered they might be, that the universal scowl they wore was their every-day countenance.",
         "48"
        ],
        [
         "0",
         "B-Bronte_E-Wuthering_Heights-1847-F.txt",
         "Bronte_E",
         "Wuthering_Heights",
         "1847",
         "F",
         "'It is strange,' I began, in the interval of swallowing one cup of tea and receiving another--'it is strange how custom can mould our tastes and ideas: many could not imagine the existence of happiness in a life of such complete exile from the world as you spend, Mr. Heathcliff; yet, I'll venture to say, that, surrounded by your family, and with your amiable lady as the presiding genius over your home and heart--'",
         "74"
        ],
        [
         "0",
         "B-Bronte_E-Wuthering_Heights-1847-F.txt",
         "Bronte_E",
         "Wuthering_Heights",
         "1847",
         "F",
         "'Well, yes--oh, you would intimate that her spirit has taken the post of ministering angel, and guards the fortunes of Wuthering Heights, even when her body is gone.  Is that it?'",
         "31"
        ],
        [
         "0",
         "B-Bronte_E-Wuthering_Heights-1847-F.txt",
         "Bronte_E",
         "Wuthering_Heights",
         "1847",
         "F",
         "Perceiving myself in a blunder, I attempted to correct it.  I might have seen there was too great a disparity between the ages of the parties to make it likely that they were man and wife.  One was about forty: a period of mental vigour at which men seldom cherish the delusion of being married for love by girls: that dream is reserved for the solace of our declining years.  The other did not look seventeen.",
         "76"
        ],
        [
         "0",
         "B-Bronte_E-Wuthering_Heights-1847-F.txt",
         "Bronte_E",
         "Wuthering_Heights",
         "1847",
         "F",
         "Then it flashed upon me--'The clown at my elbow, who is drinking his tea out of a basin and eating his bread with unwashed hands, may be her husband: Heathcliff junior, of course.  Here is the consequence of being buried alive: she has thrown herself away upon that boor from sheer ignorance that better individuals existed!  A sad pity--I must beware how I cause her to regret her choice.'  The last reflection may seem conceited; it was not.  My neighbour struck me as bordering on repulsive; I knew, through experience, that I was tolerably attractive.",
         "95"
        ],
        [
         "0",
         "B-Bronte_E-Wuthering_Heights-1847-F.txt",
         "Bronte_E",
         "Wuthering_Heights",
         "1847",
         "F",
         "'Mrs. Heathcliff is my daughter-in-law,' said Heathcliff, corroborating my surmise.  He turned, as he spoke, a peculiar look in her direction: a look of hatred; unless he has a most perverse set of facial muscles that will not, like those of other people, interpret the language of his soul.",
         "49"
        ],
        [
         "0",
         "B-Bronte_E-Wuthering_Heights-1847-F.txt",
         "Bronte_E",
         "Wuthering_Heights",
         "1847",
         "F",
         "This was worse than before: the youth grew crimson, and clenched his fist, with every appearance of a meditated assault.  But he seemed to recollect himself presently, and smothered the storm in a brutal curse, muttered on my behalf: which, however, I took care not to notice.",
         "47"
        ],
        [
         "0",
         "B-Bronte_E-Wuthering_Heights-1847-F.txt",
         "Bronte_E",
         "Wuthering_Heights",
         "1847",
         "F",
         "'Unhappy in your conjectures, sir,' observed my host; 'we neither of us have the privilege of owning your good fairy; her mate is dead.  I said she was my daughter-in-law: therefore, she must have married my son.'",
         "37"
        ],
        [
         "0",
         "B-Bronte_E-Wuthering_Heights-1847-F.txt",
         "Bronte_E",
         "Wuthering_Heights",
         "1847",
         "F",
         "He fixed his eye on me longer than I cared to return the stare, for fear I might be tempted either to box his ears or render my hilarity audible. I began to feel unmistakably out of place in that pleasant family circle. The dismal spiritual atmosphere overcame, and more than neutralised, the glowing physical comforts round me; and I resolved to be cautious how I ventured under those rafters a third time.",
         "73"
        ],
        [
         "0",
         "B-Bronte_E-Wuthering_Heights-1847-F.txt",
         "Bronte_E",
         "Wuthering_Heights",
         "1847",
         "F",
         "The business of eating being concluded, and no one uttering a word of sociable conversation, I approached a window to examine the weather.  A sorrowful sight I saw: dark night coming down prematurely, and sky and hills mingled in one bitter whirl of wind and suffocating snow.",
         "47"
        ],
        [
         "0",
         "B-Bronte_E-Wuthering_Heights-1847-F.txt",
         "Bronte_E",
         "Wuthering_Heights",
         "1847",
         "F",
         "'I don't think it possible for me to get home now without a guide,' I could not help exclaiming.  'The roads will be buried already; and, if they were bare, I could scarcely distinguish a foot in advance.'",
         "38"
        ],
        [
         "0",
         "B-Bronte_E-Wuthering_Heights-1847-F.txt",
         "Bronte_E",
         "Wuthering_Heights",
         "1847",
         "F",
         "'Hareton, drive those dozen sheep into the barn porch.  They'll be covered if left in the fold all night: and put a plank before them,' said Heathcliff.",
         "27"
        ],
        [
         "0",
         "B-Bronte_E-Wuthering_Heights-1847-F.txt",
         "Bronte_E",
         "Wuthering_Heights",
         "1847",
         "F",
         "There was no reply to my question; and on looking round I saw only Joseph bringing in a pail of porridge for the dogs, and Mrs. Heathcliff leaning over the fire, diverting herself with burning a bundle of matches which had fallen from the chimney-piece as she restored the tea-canister to its place.  The former, when he had deposited his burden, took a critical survey of the room, and in cracked tones grated out--'Aw wonder how yah can faishion to stand thear i' idleness un war, when all on 'ems goan out!  Bud yah're a nowt, and it's no use talking--yah'll niver mend o'yer ill ways, but goa raight to t' divil, like yer mother afore ye!'",
         "117"
        ],
        [
         "0",
         "B-Bronte_E-Wuthering_Heights-1847-F.txt",
         "Bronte_E",
         "Wuthering_Heights",
         "1847",
         "F",
         "I imagined, for a moment, that this piece of eloquence was addressed to me; and, sufficiently enraged, stepped towards the aged rascal with an intention of kicking him out of the door.  Mrs. Heathcliff, however, checked me by her answer.",
         "40"
        ],
        [
         "0",
         "B-Bronte_E-Wuthering_Heights-1847-F.txt",
         "Bronte_E",
         "Wuthering_Heights",
         "1847",
         "F",
         "'You scandalous old hypocrite!' she replied.  'Are you not afraid of being carried away bodily, whenever you mention the devil's name?  I warn you to refrain from provoking me, or I'll ask your abduction as a special favour!  Stop! look here, Joseph,' she continued, taking a long, dark book from a shelf; 'I'll show you how far I've progressed in the Black Art: I shall soon be competent to make a clear house of it.  The red cow didn't die by chance; and your rheumatism can hardly be reckoned among providential visitations!'",
         "92"
        ]
       ],
       "shape": {
        "columns": 7,
        "rows": 54075
       }
      },
      "text/html": [
       "<div>\n",
       "<style scoped>\n",
       "    .dataframe tbody tr th:only-of-type {\n",
       "        vertical-align: middle;\n",
       "    }\n",
       "\n",
       "    .dataframe tbody tr th {\n",
       "        vertical-align: top;\n",
       "    }\n",
       "\n",
       "    .dataframe thead th {\n",
       "        text-align: right;\n",
       "    }\n",
       "</style>\n",
       "<table border=\"1\" class=\"dataframe\">\n",
       "  <thead>\n",
       "    <tr style=\"text-align: right;\">\n",
       "      <th></th>\n",
       "      <th>path</th>\n",
       "      <th>author</th>\n",
       "      <th>title</th>\n",
       "      <th>year</th>\n",
       "      <th>gender</th>\n",
       "      <th>text</th>\n",
       "      <th>wc</th>\n",
       "    </tr>\n",
       "  </thead>\n",
       "  <tbody>\n",
       "    <tr>\n",
       "      <th>0</th>\n",
       "      <td>B-Bronte_E-Wuthering_Heights-1847-F.txt</td>\n",
       "      <td>Bronte_E</td>\n",
       "      <td>Wuthering_Heights</td>\n",
       "      <td>1847</td>\n",
       "      <td>F</td>\n",
       "      <td>1801.--I have just returned from a visit to my...</td>\n",
       "      <td>115</td>\n",
       "    </tr>\n",
       "    <tr>\n",
       "      <th>0</th>\n",
       "      <td>B-Bronte_E-Wuthering_Heights-1847-F.txt</td>\n",
       "      <td>Bronte_E</td>\n",
       "      <td>Wuthering_Heights</td>\n",
       "      <td>1847</td>\n",
       "      <td>F</td>\n",
       "      <td>'Mr. Lockwood, your new tenant, sir.  I do mys...</td>\n",
       "      <td>48</td>\n",
       "    </tr>\n",
       "    <tr>\n",
       "      <th>0</th>\n",
       "      <td>B-Bronte_E-Wuthering_Heights-1847-F.txt</td>\n",
       "      <td>Bronte_E</td>\n",
       "      <td>Wuthering_Heights</td>\n",
       "      <td>1847</td>\n",
       "      <td>F</td>\n",
       "      <td>The 'walk in' was uttered with closed teeth, a...</td>\n",
       "      <td>54</td>\n",
       "    </tr>\n",
       "    <tr>\n",
       "      <th>0</th>\n",
       "      <td>B-Bronte_E-Wuthering_Heights-1847-F.txt</td>\n",
       "      <td>Bronte_E</td>\n",
       "      <td>Wuthering_Heights</td>\n",
       "      <td>1847</td>\n",
       "      <td>F</td>\n",
       "      <td>When he saw my horse's breast fairly pushing t...</td>\n",
       "      <td>42</td>\n",
       "    </tr>\n",
       "    <tr>\n",
       "      <th>0</th>\n",
       "      <td>B-Bronte_E-Wuthering_Heights-1847-F.txt</td>\n",
       "      <td>Bronte_E</td>\n",
       "      <td>Wuthering_Heights</td>\n",
       "      <td>1847</td>\n",
       "      <td>F</td>\n",
       "      <td>'Here we have the whole establishment of domes...</td>\n",
       "      <td>33</td>\n",
       "    </tr>\n",
       "    <tr>\n",
       "      <th>...</th>\n",
       "      <td>...</td>\n",
       "      <td>...</td>\n",
       "      <td>...</td>\n",
       "      <td>...</td>\n",
       "      <td>...</td>\n",
       "      <td>...</td>\n",
       "      <td>...</td>\n",
       "    </tr>\n",
       "    <tr>\n",
       "      <th>40</th>\n",
       "      <td>A-Norris-Pit-1903-M.txt</td>\n",
       "      <td>Norris</td>\n",
       "      <td>Pit</td>\n",
       "      <td>1903</td>\n",
       "      <td>M</td>\n",
       "      <td>For a moment, vague, dark perplexities assaile...</td>\n",
       "      <td>55</td>\n",
       "    </tr>\n",
       "    <tr>\n",
       "      <th>40</th>\n",
       "      <td>A-Norris-Pit-1903-M.txt</td>\n",
       "      <td>Norris</td>\n",
       "      <td>Pit</td>\n",
       "      <td>1903</td>\n",
       "      <td>M</td>\n",
       "      <td>She did not know. But as she searched, trouble...</td>\n",
       "      <td>45</td>\n",
       "    </tr>\n",
       "    <tr>\n",
       "      <th>40</th>\n",
       "      <td>A-Norris-Pit-1903-M.txt</td>\n",
       "      <td>Norris</td>\n",
       "      <td>Pit</td>\n",
       "      <td>1903</td>\n",
       "      <td>M</td>\n",
       "      <td>She looked out quickly, on either hand, throug...</td>\n",
       "      <td>52</td>\n",
       "    </tr>\n",
       "    <tr>\n",
       "      <th>40</th>\n",
       "      <td>A-Norris-Pit-1903-M.txt</td>\n",
       "      <td>Norris</td>\n",
       "      <td>Pit</td>\n",
       "      <td>1903</td>\n",
       "      <td>M</td>\n",
       "      <td>All at once, intuitively, Laura turned in her ...</td>\n",
       "      <td>94</td>\n",
       "    </tr>\n",
       "    <tr>\n",
       "      <th>40</th>\n",
       "      <td>A-Norris-Pit-1903-M.txt</td>\n",
       "      <td>Norris</td>\n",
       "      <td>Pit</td>\n",
       "      <td>1903</td>\n",
       "      <td>M</td>\n",
       "      <td>And this was the last impression of the part o...</td>\n",
       "      <td>79</td>\n",
       "    </tr>\n",
       "  </tbody>\n",
       "</table>\n",
       "<p>54075 rows × 7 columns</p>\n",
       "</div>"
      ],
      "text/plain": [
       "                                       path    author              title  \\\n",
       "0   B-Bronte_E-Wuthering_Heights-1847-F.txt  Bronte_E  Wuthering_Heights   \n",
       "0   B-Bronte_E-Wuthering_Heights-1847-F.txt  Bronte_E  Wuthering_Heights   \n",
       "0   B-Bronte_E-Wuthering_Heights-1847-F.txt  Bronte_E  Wuthering_Heights   \n",
       "0   B-Bronte_E-Wuthering_Heights-1847-F.txt  Bronte_E  Wuthering_Heights   \n",
       "0   B-Bronte_E-Wuthering_Heights-1847-F.txt  Bronte_E  Wuthering_Heights   \n",
       "..                                      ...       ...                ...   \n",
       "40                  A-Norris-Pit-1903-M.txt    Norris                Pit   \n",
       "40                  A-Norris-Pit-1903-M.txt    Norris                Pit   \n",
       "40                  A-Norris-Pit-1903-M.txt    Norris                Pit   \n",
       "40                  A-Norris-Pit-1903-M.txt    Norris                Pit   \n",
       "40                  A-Norris-Pit-1903-M.txt    Norris                Pit   \n",
       "\n",
       "    year gender                                               text   wc  \n",
       "0   1847      F  1801.--I have just returned from a visit to my...  115  \n",
       "0   1847      F  'Mr. Lockwood, your new tenant, sir.  I do mys...   48  \n",
       "0   1847      F  The 'walk in' was uttered with closed teeth, a...   54  \n",
       "0   1847      F  When he saw my horse's breast fairly pushing t...   42  \n",
       "0   1847      F  'Here we have the whole establishment of domes...   33  \n",
       "..   ...    ...                                                ...  ...  \n",
       "40  1903      M  For a moment, vague, dark perplexities assaile...   55  \n",
       "40  1903      M  She did not know. But as she searched, trouble...   45  \n",
       "40  1903      M  She looked out quickly, on either hand, throug...   52  \n",
       "40  1903      M  All at once, intuitively, Laura turned in her ...   94  \n",
       "40  1903      M  And this was the last impression of the part o...   79  \n",
       "\n",
       "[54075 rows x 7 columns]"
      ]
     },
     "execution_count": 12,
     "metadata": {},
     "output_type": "execute_result"
    }
   ],
   "source": [
    "# Remember this from Lecture 9.5?\n",
    "\n",
    "root_dir = \"../data/texts\"\n",
    "\n",
    "book_paths = os.listdir(\"../data/texts\")\n",
    "\n",
    "def get_txt_file(path):\n",
    "    with open(path, \"r\") as f:\n",
    "        file = f.read()\n",
    "    return file\n",
    "\n",
    "texts = [get_txt_file(os.path.join(root_dir, p))\n",
    "         for p in book_paths]\n",
    "\n",
    "pattern = re.compile(r\"^[ABFO]-(.+)-(.+)-(\\d{4})-([FM]).txt$\")\n",
    "\n",
    "columns = [\"path\", \"author\", \"title\", \"year\", \"gender\", \"text\"]\n",
    "\n",
    "parsed_metadata = [[p] + list(re.search(pattern, p).groups()) + [texts[i]]\n",
    "                   for i, p in enumerate(book_paths)]\n",
    "\n",
    "df = pd.DataFrame(parsed_metadata, columns=columns)\n",
    "\n",
    "df[\"text\"] = df[\"text\"].apply(lambda x: re.split(r\"\\n+\\s*\\n*\", x))\n",
    "df[\"year\"] = df.year.astype(int)\n",
    "\n",
    "df = df.explode(\"text\")\n",
    "\n",
    "df[\"wc\"] = df.text.apply(lambda x: len(x.split()))\n",
    "\n",
    "min_length, max_length = (25, 1000) # Filter by length of text\n",
    "\n",
    "df = df[(df[\"wc\"] > min_length) & (df[\"wc\"] < max_length)]\n",
    "\n",
    "df"
   ]
  },
  {
   "cell_type": "code",
   "execution_count": 13,
   "metadata": {},
   "outputs": [
    {
     "data": {
      "application/vnd.microsoft.datawrangler.viewer.v0+json": {
       "columns": [
        {
         "name": "gender",
         "rawType": "object",
         "type": "string"
        },
        {
         "name": "count",
         "rawType": "int64",
         "type": "integer"
        }
       ],
       "ref": "f7ed6dba-eac7-4d70-88d6-da4719ccbdb9",
       "rows": [
        [
         "M",
         "27679"
        ],
        [
         "F",
         "26396"
        ]
       ],
       "shape": {
        "columns": 1,
        "rows": 2
       }
      },
      "text/plain": [
       "gender\n",
       "M    27679\n",
       "F    26396\n",
       "Name: count, dtype: int64"
      ]
     },
     "execution_count": 13,
     "metadata": {},
     "output_type": "execute_result"
    }
   ],
   "source": [
    "df.gender.value_counts()"
   ]
  },
  {
   "cell_type": "code",
   "execution_count": 14,
   "metadata": {},
   "outputs": [],
   "source": [
    "vectorizer = TfidfVectorizer(\n",
    "    max_features=256  # Limit dimensionality of our X.\n",
    ")                     # These features won't be great, but \n",
    "                      # they'll be useful for a demonstration.\n",
    "\n",
    "X_tfidf = vectorizer.fit_transform(df.text)\n",
    "y = df.gender.to_numpy() == \"M\""
   ]
  },
  {
   "cell_type": "code",
   "execution_count": 15,
   "metadata": {},
   "outputs": [
    {
     "data": {
      "text/plain": [
       "(54075, 256)"
      ]
     },
     "execution_count": 15,
     "metadata": {},
     "output_type": "execute_result"
    }
   ],
   "source": [
    "X_tfidf.shape"
   ]
  },
  {
   "cell_type": "markdown",
   "metadata": {},
   "source": [
    "Make a train-test split. In reality, we'd want to split into train, test, and eval sets. While training, we'd evaluate on eval, then evaluate on test only after we're done training. We're simplifying things here."
   ]
  },
  {
   "cell_type": "code",
   "execution_count": 16,
   "metadata": {},
   "outputs": [],
   "source": [
    "X_train, X_test, y_train, y_test = train_test_split(\n",
    "    X_tfidf.astype(np.float32), y.astype(np.float32), train_size=0.8\n",
    ")"
   ]
  },
  {
   "cell_type": "markdown",
   "metadata": {},
   "source": [
    "### Baseline\n",
    "\n",
    "First, score a simple logisitic regression classifier on word embedding data. This is **not** a neural classifier. We'll use it as a baseline."
   ]
  },
  {
   "cell_type": "code",
   "execution_count": 18,
   "metadata": {},
   "outputs": [
    {
     "name": "stdout",
     "output_type": "stream",
     "text": [
      "Test accuracy:  0.640499306518724\n",
      "Majority Baseline:  0.5101248\n"
     ]
    }
   ],
   "source": [
    "lrc = LogisticRegression().fit(X_train, y_train)\n",
    "lr_baseline = lrc.score(X_test, y_test)\n",
    "print(\"Test accuracy: \", lr_baseline) \n",
    "print(\"Majority Baseline: \", y_test.sum()/y_test.shape[0])"
   ]
  },
  {
   "cell_type": "markdown",
   "metadata": {},
   "source": [
    "### PyTorch training loop\n",
    "\n",
    "You don't need to understand what's going on here in detail. A vibe-level understanding of the training loop is fine. Pay more attention to what's going on in `eval_model`. "
   ]
  },
  {
   "cell_type": "code",
   "execution_count": 19,
   "metadata": {},
   "outputs": [],
   "source": [
    "def eval_model(model, X, y, device, batch_size=100):\n",
    "    y_hats = []\n",
    "    model.eval() # Put model in eval mode\n",
    "    for i in range(0, X.shape[0], batch_size):\n",
    "        with torch.no_grad(): # Don't need gradients\n",
    "            x_batch = torch.tensor(X[i:i+batch_size].todense()).to(device)\n",
    "            y_hat = model(x_batch).cpu().squeeze().numpy()\n",
    "            y_hats.append(y_hat)\n",
    "    y_hats = np.concat(y_hats) >= .5\n",
    "    return accuracy_score(y.astype(bool), y_hats)\n",
    "\n",
    "def train_model(model, X_train, y_train, X_test, y_test, \n",
    "                num_epochs=5, batch_size=100, lr=1e-3, verbose=True):\n",
    "    \"\"\"\n",
    "    Args:\n",
    "        model: Our MLP\n",
    "        X_train, X_test: Sparse matrices of tf-idf values (train, test)\n",
    "        y_train, y_test: binary labels (train, test)\n",
    "        num_epochs: Number of epochs (times we train on all of our train data)\n",
    "        batch_size: Number of samples per training step\n",
    "        lr: Learning rate (hyperparameter for the optimizer, basically how much we update\n",
    "            model params per step)\n",
    "        \n",
    "    \"\"\"\n",
    "    device = \"cuda\" if torch.cuda.is_available else \"cpu\"\n",
    "    \n",
    "    optimizer = torch.optim.Adam(model.parameters(), lr=lr) \n",
    "    \n",
    "    model.to(device)    # Move the model to GPU if we have one\n",
    "    for epoch in range(num_epochs):  \n",
    "        # Training\n",
    "        model.train()   # Put model in training mode\n",
    "        for i in range(0, X_train.shape[0], batch_size):\n",
    "            optimizer.zero_grad()   # Zero gradients every training step\n",
    "\n",
    "            x_batch = torch.tensor( # Convert our Xs and ys to Tensors on the right device\n",
    "                X_train[i:i+batch_size].todense()\n",
    "            ).to(device)\n",
    "            y_batch = torch.tensor(y_train[i:i+batch_size]).to(device)    \n",
    "\n",
    "            y_hat = model(x_batch)  # Get our model output\n",
    "\n",
    "            loss = F.binary_cross_entropy(y_hat.squeeze(), y_batch) # Compute loss\n",
    "\n",
    "            loss.backward() # Backprop\n",
    "\n",
    "            optimizer.step()\n",
    "        \n",
    "        # Evaluation\n",
    "        if verbose:\n",
    "            acc = eval_model(\n",
    "                model, X_test, y_test, device, batch_size=batch_size\n",
    "            )\n",
    "            print(f\"Epoch {epoch}:\\n\\tLast step loss: {loss.item()}\\n\\tEval acc: {acc}\")\n",
    "        elif epoch + 1 == num_epochs:\n",
    "            acc = eval_model(\n",
    "                model, X_test, y_test, device, batch_size=batch_size\n",
    "            )\n",
    "\n",
    "    return acc "
   ]
  },
  {
   "cell_type": "markdown",
   "metadata": {},
   "source": [
    "### MLP Training"
   ]
  },
  {
   "cell_type": "markdown",
   "metadata": {},
   "source": [
    "Finally, let's train both our simple, `MyFirstMLP` model as well as an MLP with many more layers. What do you expect will happen?"
   ]
  },
  {
   "cell_type": "code",
   "execution_count": 25,
   "metadata": {},
   "outputs": [
    {
     "name": "stdout",
     "output_type": "stream",
     "text": [
      "Epoch 0:\n",
      "\tLast step loss: 0.6617153286933899\n",
      "\tEval acc: 0.6378178455848359\n",
      "Epoch 1:\n",
      "\tLast step loss: 0.6498311161994934\n",
      "\tEval acc: 0.6408691631992602\n",
      "Epoch 2:\n",
      "\tLast step loss: 0.6452489495277405\n",
      "\tEval acc: 0.6420711974110033\n",
      "Epoch 3:\n",
      "\tLast step loss: 0.6434369683265686\n",
      "\tEval acc: 0.6426259824318077\n",
      "Epoch 4:\n",
      "\tLast step loss: 0.6400379538536072\n",
      "\tEval acc: 0.6462320850670366\n",
      "Epoch 5:\n",
      "\tLast step loss: 0.6353148818016052\n",
      "\tEval acc: 0.6471567267683772\n",
      "Epoch 6:\n",
      "\tLast step loss: 0.6284622550010681\n",
      "\tEval acc: 0.6483587609801202\n",
      "Epoch 7:\n",
      "\tLast step loss: 0.6220479607582092\n",
      "\tEval acc: 0.6515950069348128\n",
      "Epoch 8:\n",
      "\tLast step loss: 0.6145092248916626\n",
      "\tEval acc: 0.6549237170596394\n",
      "Epoch 9:\n",
      "\tLast step loss: 0.6076176166534424\n",
      "\tEval acc: 0.6588996763754046\n"
     ]
    },
    {
     "data": {
      "text/plain": [
       "0.6588996763754046"
      ]
     },
     "execution_count": 25,
     "metadata": {},
     "output_type": "execute_result"
    }
   ],
   "source": [
    "simple_mlp = MyFirstMLP(X_train.shape[-1], 32)\n",
    "\n",
    "train_model(simple_mlp, X_train, y_train, X_test, y_test, num_epochs=10)"
   ]
  },
  {
   "cell_type": "code",
   "execution_count": 26,
   "metadata": {},
   "outputs": [
    {
     "data": {
      "text/plain": [
       "0.640499306518724"
      ]
     },
     "execution_count": 26,
     "metadata": {},
     "output_type": "execute_result"
    }
   ],
   "source": [
    "lr_baseline"
   ]
  },
  {
   "cell_type": "code",
   "execution_count": 27,
   "metadata": {},
   "outputs": [
    {
     "name": "stdout",
     "output_type": "stream",
     "text": [
      "Epoch 0:\n",
      "\tLast step loss: 0.6628468036651611\n",
      "\tEval acc: 0.6388349514563106\n",
      "Epoch 1:\n",
      "\tLast step loss: 0.6492152214050293\n",
      "\tEval acc: 0.6431807674526121\n",
      "Epoch 2:\n",
      "\tLast step loss: 0.6348750591278076\n",
      "\tEval acc: 0.6560332871012483\n",
      "Epoch 3:\n",
      "\tLast step loss: 0.5980568528175354\n",
      "\tEval acc: 0.664447526583449\n",
      "Epoch 4:\n",
      "\tLast step loss: 0.550435483455658\n",
      "\tEval acc: 0.6688858067498844\n"
     ]
    },
    {
     "data": {
      "text/plain": [
       "0.6688858067498844"
      ]
     },
     "execution_count": 27,
     "metadata": {},
     "output_type": "execute_result"
    }
   ],
   "source": [
    "big_mlp = MLPBinaryClassifier(X_train.shape[-1], 32, 5)\n",
    "\n",
    "train_model(big_mlp, X_train, y_train, X_test, y_test)"
   ]
  },
  {
   "cell_type": "markdown",
   "metadata": {},
   "source": [
    "Though we've been holding learning rate and batch size constant, these are important hyperparameters that can have a significant impact on the training and performance of your model. Let's look at our simple MLP again and see how these hyperparameters impact our accuracy score. "
   ]
  },
  {
   "cell_type": "code",
   "execution_count": 28,
   "metadata": {},
   "outputs": [],
   "source": [
    "batch_sizes = [50, 100, 200]\n",
    "lrs = [5e-2, 1e-2, 5e-3, 1e-3, 5e-4, 1e-4]\n",
    "\n",
    "results = np.zeros((len(lrs), len(batch_sizes)))\n",
    "for i, lr in enumerate(lrs):\n",
    "    for j, bsz in enumerate(batch_sizes):\n",
    "        model = MyFirstMLP(X_train.shape[-1], 64)\n",
    "        acc = train_model(\n",
    "            model, X_train, y_train, X_test, y_test, \n",
    "            lr=lr, batch_size=bsz, verbose=False\n",
    "        )\n",
    "        results[i, j] = acc"
   ]
  },
  {
   "cell_type": "code",
   "execution_count": 29,
   "metadata": {},
   "outputs": [
    {
     "data": {
      "text/plain": [
       "<Axes: >"
      ]
     },
     "execution_count": 29,
     "metadata": {},
     "output_type": "execute_result"
    },
    {
     "data": {
      "image/png": "[encoded data removed]",
      "text/plain": [
       "<Figure size 640x480 with 2 Axes>"
      ]
     },
     "metadata": {},
     "output_type": "display_data"
    }
   ],
   "source": [
    "sns.heatmap(\n",
    "    data=results,\n",
    "    xticklabels=batch_sizes,\n",
    "    yticklabels=lrs, \n",
    "    annot=True\n",
    ")"
   ]
  },
  {
   "cell_type": "markdown",
   "metadata": {},
   "source": [
    "What does this suggest about the relationship between learning rate and batch size for our data?"
   ]
  }
 ],
 "metadata": {
  "kernelspec": {
   "display_name": ".venv",
   "language": "python",
   "name": "python3"
  },
  "language_info": {
   "codemirror_mode": {
    "name": "ipython",
    "version": 3
   },
   "file_extension": ".py",
   "mimetype": "text/x-python",
   "name": "python",
   "nbconvert_exporter": "python",
   "pygments_lexer": "ipython3",
   "version": "3.12.0"
  }
 },
 "nbformat": 4,
 "nbformat_minor": 4
}
